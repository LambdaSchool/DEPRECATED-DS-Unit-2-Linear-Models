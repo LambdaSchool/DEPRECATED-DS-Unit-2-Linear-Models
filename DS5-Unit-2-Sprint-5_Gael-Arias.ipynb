{
 "cells": [
  {
   "cell_type": "markdown",
   "metadata": {
    "colab_type": "text",
    "id": "xDmZn3ApOM7t"
   },
   "source": [
    "_Lambda School Data Science, Unit 2_\n",
    " \n",
    "# Linear Models  Sprint Challenge: Predict home prices in Ames, Iowa 🏠💸\n",
    "\n",
    "To demonstrate mastery on your Sprint Challenge, do all the required, numbered instructions in this notebook.\n",
    "\n",
    "To earn a score of \"3\", also do all the stretch goals.\n",
    "\n",
    "For your Sprint Challenge, you'll use historical housing data. There's a data dictionary at the bottom of the notebook. \n",
    "\n",
    "Run this code cell to load the dataset:\n",
    "\n",
    "\n",
    "\n"
   ]
  },
  {
   "cell_type": "code",
   "execution_count": 144,
   "metadata": {
    "colab": {},
    "colab_type": "code",
    "id": "7ptoRG1lu7H4"
   },
   "outputs": [],
   "source": [
    "# Importing Libarys\n",
    "import pandas as pd\n",
    "import matplotlib.pyplot as plt\n",
    "from sklearn.preprocessing import StandardScaler\n",
    "pd.set_option('display.max_columns', None)\n",
    "pd.set_option('display.max_rows', None)\n",
    "%matplotlib inline\n",
    "from sklearn.metrics import r2_score\n",
    "from sklearn.metrics import mean_absolute_error\n",
    "import category_encoders as ce\n",
    "from sklearn.linear_model import LinearRegression"
   ]
  },
  {
   "cell_type": "code",
   "execution_count": 145,
   "metadata": {},
   "outputs": [],
   "source": [
    "# Importing Data\n",
    "URL = 'https://drive.google.com/uc?export=download&id=1522WlEW6HFss36roD_Cd9nybqSuiVcCK'\n",
    "df = pd.read_csv(URL)\n",
    "assert df.shape == (2904, 47)"
   ]
  },
  {
   "cell_type": "code",
   "execution_count": 146,
   "metadata": {},
   "outputs": [
    {
     "data": {
      "text/html": [
       "<div>\n",
       "<style scoped>\n",
       "    .dataframe tbody tr th:only-of-type {\n",
       "        vertical-align: middle;\n",
       "    }\n",
       "\n",
       "    .dataframe tbody tr th {\n",
       "        vertical-align: top;\n",
       "    }\n",
       "\n",
       "    .dataframe thead th {\n",
       "        text-align: right;\n",
       "    }\n",
       "</style>\n",
       "<table border=\"1\" class=\"dataframe\">\n",
       "  <thead>\n",
       "    <tr style=\"text-align: right;\">\n",
       "      <th></th>\n",
       "      <th>1st_Flr_SF</th>\n",
       "      <th>Bedroom_AbvGr</th>\n",
       "      <th>Bsmt_Full_Bath</th>\n",
       "      <th>Bsmt_Half_Bath</th>\n",
       "      <th>Full_Bath</th>\n",
       "      <th>Gr_Liv_Area</th>\n",
       "      <th>Half_Bath</th>\n",
       "      <th>Kitchen_AbvGr</th>\n",
       "      <th>Lot_Area</th>\n",
       "      <th>MS_SubClass</th>\n",
       "      <th>Mo_Sold</th>\n",
       "      <th>Overall_Cond</th>\n",
       "      <th>Overall_Qual</th>\n",
       "      <th>SalePrice</th>\n",
       "      <th>TotRms_AbvGrd</th>\n",
       "      <th>Year_Built</th>\n",
       "      <th>Year_Remod/Add</th>\n",
       "      <th>Yr_Sold</th>\n",
       "    </tr>\n",
       "  </thead>\n",
       "  <tbody>\n",
       "    <tr>\n",
       "      <th>count</th>\n",
       "      <td>2904.000000</td>\n",
       "      <td>2904.000000</td>\n",
       "      <td>2904.000000</td>\n",
       "      <td>2904.000000</td>\n",
       "      <td>2904.000000</td>\n",
       "      <td>2904.000000</td>\n",
       "      <td>2904.000000</td>\n",
       "      <td>2904.000000</td>\n",
       "      <td>2904.000000</td>\n",
       "      <td>2904.000000</td>\n",
       "      <td>2904.000000</td>\n",
       "      <td>2904.000000</td>\n",
       "      <td>2904.000000</td>\n",
       "      <td>2904.000000</td>\n",
       "      <td>2904.000000</td>\n",
       "      <td>2904.000000</td>\n",
       "      <td>2904.000000</td>\n",
       "      <td>2904.000000</td>\n",
       "    </tr>\n",
       "    <tr>\n",
       "      <th>mean</th>\n",
       "      <td>1158.257231</td>\n",
       "      <td>2.854339</td>\n",
       "      <td>0.431474</td>\n",
       "      <td>0.061639</td>\n",
       "      <td>1.562328</td>\n",
       "      <td>1497.853650</td>\n",
       "      <td>0.376722</td>\n",
       "      <td>1.044421</td>\n",
       "      <td>10130.199725</td>\n",
       "      <td>57.474174</td>\n",
       "      <td>6.206956</td>\n",
       "      <td>5.567149</td>\n",
       "      <td>6.086777</td>\n",
       "      <td>180383.689738</td>\n",
       "      <td>6.441804</td>\n",
       "      <td>1971.109504</td>\n",
       "      <td>1984.112259</td>\n",
       "      <td>2007.792011</td>\n",
       "    </tr>\n",
       "    <tr>\n",
       "      <th>std</th>\n",
       "      <td>388.351648</td>\n",
       "      <td>0.827820</td>\n",
       "      <td>0.525073</td>\n",
       "      <td>0.246202</td>\n",
       "      <td>0.551427</td>\n",
       "      <td>504.591527</td>\n",
       "      <td>0.501416</td>\n",
       "      <td>0.214260</td>\n",
       "      <td>7869.928702</td>\n",
       "      <td>42.724950</td>\n",
       "      <td>2.712204</td>\n",
       "      <td>1.113736</td>\n",
       "      <td>1.410083</td>\n",
       "      <td>79802.823684</td>\n",
       "      <td>1.573130</td>\n",
       "      <td>30.227141</td>\n",
       "      <td>20.857813</td>\n",
       "      <td>1.318719</td>\n",
       "    </tr>\n",
       "    <tr>\n",
       "      <th>min</th>\n",
       "      <td>334.000000</td>\n",
       "      <td>0.000000</td>\n",
       "      <td>0.000000</td>\n",
       "      <td>0.000000</td>\n",
       "      <td>0.000000</td>\n",
       "      <td>334.000000</td>\n",
       "      <td>0.000000</td>\n",
       "      <td>0.000000</td>\n",
       "      <td>1300.000000</td>\n",
       "      <td>20.000000</td>\n",
       "      <td>1.000000</td>\n",
       "      <td>1.000000</td>\n",
       "      <td>1.000000</td>\n",
       "      <td>12789.000000</td>\n",
       "      <td>2.000000</td>\n",
       "      <td>1872.000000</td>\n",
       "      <td>1950.000000</td>\n",
       "      <td>2006.000000</td>\n",
       "    </tr>\n",
       "    <tr>\n",
       "      <th>25%</th>\n",
       "      <td>876.750000</td>\n",
       "      <td>2.000000</td>\n",
       "      <td>0.000000</td>\n",
       "      <td>0.000000</td>\n",
       "      <td>1.000000</td>\n",
       "      <td>1124.000000</td>\n",
       "      <td>0.000000</td>\n",
       "      <td>1.000000</td>\n",
       "      <td>7424.750000</td>\n",
       "      <td>20.000000</td>\n",
       "      <td>4.000000</td>\n",
       "      <td>5.000000</td>\n",
       "      <td>5.000000</td>\n",
       "      <td>129150.000000</td>\n",
       "      <td>5.000000</td>\n",
       "      <td>1953.000000</td>\n",
       "      <td>1965.000000</td>\n",
       "      <td>2007.000000</td>\n",
       "    </tr>\n",
       "    <tr>\n",
       "      <th>50%</th>\n",
       "      <td>1083.500000</td>\n",
       "      <td>3.000000</td>\n",
       "      <td>0.000000</td>\n",
       "      <td>0.000000</td>\n",
       "      <td>2.000000</td>\n",
       "      <td>1440.500000</td>\n",
       "      <td>0.000000</td>\n",
       "      <td>1.000000</td>\n",
       "      <td>9429.000000</td>\n",
       "      <td>50.000000</td>\n",
       "      <td>6.000000</td>\n",
       "      <td>5.000000</td>\n",
       "      <td>6.000000</td>\n",
       "      <td>160000.000000</td>\n",
       "      <td>6.000000</td>\n",
       "      <td>1973.000000</td>\n",
       "      <td>1993.000000</td>\n",
       "      <td>2008.000000</td>\n",
       "    </tr>\n",
       "    <tr>\n",
       "      <th>75%</th>\n",
       "      <td>1383.000000</td>\n",
       "      <td>3.000000</td>\n",
       "      <td>1.000000</td>\n",
       "      <td>0.000000</td>\n",
       "      <td>2.000000</td>\n",
       "      <td>1740.500000</td>\n",
       "      <td>1.000000</td>\n",
       "      <td>1.000000</td>\n",
       "      <td>11516.250000</td>\n",
       "      <td>70.000000</td>\n",
       "      <td>8.000000</td>\n",
       "      <td>6.000000</td>\n",
       "      <td>7.000000</td>\n",
       "      <td>213000.000000</td>\n",
       "      <td>7.000000</td>\n",
       "      <td>2000.000000</td>\n",
       "      <td>2004.000000</td>\n",
       "      <td>2009.000000</td>\n",
       "    </tr>\n",
       "    <tr>\n",
       "      <th>max</th>\n",
       "      <td>5095.000000</td>\n",
       "      <td>8.000000</td>\n",
       "      <td>3.000000</td>\n",
       "      <td>2.000000</td>\n",
       "      <td>4.000000</td>\n",
       "      <td>5642.000000</td>\n",
       "      <td>2.000000</td>\n",
       "      <td>3.000000</td>\n",
       "      <td>215245.000000</td>\n",
       "      <td>190.000000</td>\n",
       "      <td>12.000000</td>\n",
       "      <td>9.000000</td>\n",
       "      <td>10.000000</td>\n",
       "      <td>755000.000000</td>\n",
       "      <td>15.000000</td>\n",
       "      <td>2010.000000</td>\n",
       "      <td>2010.000000</td>\n",
       "      <td>2010.000000</td>\n",
       "    </tr>\n",
       "  </tbody>\n",
       "</table>\n",
       "</div>"
      ],
      "text/plain": [
       "        1st_Flr_SF  Bedroom_AbvGr  Bsmt_Full_Bath  Bsmt_Half_Bath  \\\n",
       "count  2904.000000    2904.000000     2904.000000     2904.000000   \n",
       "mean   1158.257231       2.854339        0.431474        0.061639   \n",
       "std     388.351648       0.827820        0.525073        0.246202   \n",
       "min     334.000000       0.000000        0.000000        0.000000   \n",
       "25%     876.750000       2.000000        0.000000        0.000000   \n",
       "50%    1083.500000       3.000000        0.000000        0.000000   \n",
       "75%    1383.000000       3.000000        1.000000        0.000000   \n",
       "max    5095.000000       8.000000        3.000000        2.000000   \n",
       "\n",
       "         Full_Bath  Gr_Liv_Area    Half_Bath  Kitchen_AbvGr       Lot_Area  \\\n",
       "count  2904.000000  2904.000000  2904.000000    2904.000000    2904.000000   \n",
       "mean      1.562328  1497.853650     0.376722       1.044421   10130.199725   \n",
       "std       0.551427   504.591527     0.501416       0.214260    7869.928702   \n",
       "min       0.000000   334.000000     0.000000       0.000000    1300.000000   \n",
       "25%       1.000000  1124.000000     0.000000       1.000000    7424.750000   \n",
       "50%       2.000000  1440.500000     0.000000       1.000000    9429.000000   \n",
       "75%       2.000000  1740.500000     1.000000       1.000000   11516.250000   \n",
       "max       4.000000  5642.000000     2.000000       3.000000  215245.000000   \n",
       "\n",
       "       MS_SubClass      Mo_Sold  Overall_Cond  Overall_Qual      SalePrice  \\\n",
       "count  2904.000000  2904.000000   2904.000000   2904.000000    2904.000000   \n",
       "mean     57.474174     6.206956      5.567149      6.086777  180383.689738   \n",
       "std      42.724950     2.712204      1.113736      1.410083   79802.823684   \n",
       "min      20.000000     1.000000      1.000000      1.000000   12789.000000   \n",
       "25%      20.000000     4.000000      5.000000      5.000000  129150.000000   \n",
       "50%      50.000000     6.000000      5.000000      6.000000  160000.000000   \n",
       "75%      70.000000     8.000000      6.000000      7.000000  213000.000000   \n",
       "max     190.000000    12.000000      9.000000     10.000000  755000.000000   \n",
       "\n",
       "       TotRms_AbvGrd   Year_Built  Year_Remod/Add      Yr_Sold  \n",
       "count    2904.000000  2904.000000     2904.000000  2904.000000  \n",
       "mean        6.441804  1971.109504     1984.112259  2007.792011  \n",
       "std         1.573130    30.227141       20.857813     1.318719  \n",
       "min         2.000000  1872.000000     1950.000000  2006.000000  \n",
       "25%         5.000000  1953.000000     1965.000000  2007.000000  \n",
       "50%         6.000000  1973.000000     1993.000000  2008.000000  \n",
       "75%         7.000000  2000.000000     2004.000000  2009.000000  \n",
       "max        15.000000  2010.000000     2010.000000  2010.000000  "
      ]
     },
     "execution_count": 146,
     "metadata": {},
     "output_type": "execute_result"
    }
   ],
   "source": [
    "# Taking a look at the Dataset\n",
    "df.describe() "
   ]
  },
  {
   "cell_type": "markdown",
   "metadata": {
    "colab_type": "text",
    "id": "yqeiq1wvyrTq"
   },
   "source": [
    "## 1. Do train/test split\n",
    "Train on houses sold in 2006-08. Test on houses sold in 2009-10."
   ]
  },
  {
   "cell_type": "code",
   "execution_count": 147,
   "metadata": {
    "colab": {},
    "colab_type": "code",
    "id": "WKFjWLI3w0P_"
   },
   "outputs": [],
   "source": [
    "# Spliting Data set in to train and test\n",
    "train = df[df['Yr_Sold'] < 2009]\n",
    "test = df[df['Yr_Sold'] >= 2009]"
   ]
  },
  {
   "cell_type": "code",
   "execution_count": 148,
   "metadata": {},
   "outputs": [
    {
     "data": {
      "text/plain": [
       "1920"
      ]
     },
     "execution_count": 148,
     "metadata": {},
     "output_type": "execute_result"
    }
   ],
   "source": [
    "# Size of train\n",
    "train.Yr_Sold.count()"
   ]
  },
  {
   "cell_type": "code",
   "execution_count": 149,
   "metadata": {},
   "outputs": [
    {
     "data": {
      "text/plain": [
       "984"
      ]
     },
     "execution_count": 149,
     "metadata": {},
     "output_type": "execute_result"
    }
   ],
   "source": [
    "#Size of test\n",
    "test.Yr_Sold.count()"
   ]
  },
  {
   "cell_type": "markdown",
   "metadata": {
    "colab_type": "text",
    "id": "CowG-cgZ5ZrB"
   },
   "source": [
    "## 2. Begin with baselines\n",
    "\n",
    "What is the Mean Absolute Error and R^2 score for a mean baseline?"
   ]
  },
  {
   "cell_type": "code",
   "execution_count": 150,
   "metadata": {
    "colab": {},
    "colab_type": "code",
    "id": "TbahVr-j5ZLs"
   },
   "outputs": [
    {
     "name": "stdout",
     "output_type": "stream",
     "text": [
      "MAE : 58276.87133934621\n",
      "R squared : -0.0017922985422960114\n"
     ]
    }
   ],
   "source": [
    "# Seting my base line\n",
    "mean_base = train.SalePrice.mean()\n",
    "\n",
    "print(\"MAE :\",mean_absolute_error(test.SalePrice, [mean_base] * test.Yr_Sold.count()))\n",
    "print( \"R squared :\",r2_score(test.SalePrice, [mean_base] * test.Yr_Sold.count()))"
   ]
  },
  {
   "cell_type": "markdown",
   "metadata": {
    "colab_type": "text",
    "id": "hk1bYDJy6txq"
   },
   "source": [
    "## 3. Arrange data into X features matrix and y target vector\n",
    "Select at least one numeric feature and at least one categorical feature.\n"
   ]
  },
  {
   "cell_type": "code",
   "execution_count": 162,
   "metadata": {},
   "outputs": [
    {
     "data": {
      "text/plain": [
       "Index(['1st_Flr_SF', 'Bedroom_AbvGr', 'Bldg_Type', 'Bsmt_Full_Bath',\n",
       "       'Bsmt_Half_Bath', 'Central_Air', 'Condition_1', 'Condition_2',\n",
       "       'Electrical', 'Exter_Cond', 'Exter_Qual', 'Exterior_1st',\n",
       "       'Exterior_2nd', 'Foundation', 'Full_Bath', 'Functional', 'Gr_Liv_Area',\n",
       "       'Half_Bath', 'Heating', 'Heating_QC', 'House_Style', 'Kitchen_AbvGr',\n",
       "       'Kitchen_Qual', 'Land_Contour', 'Land_Slope', 'Lot_Area', 'Lot_Config',\n",
       "       'Lot_Shape', 'MS_SubClass', 'MS_Zoning', 'Mas_Vnr_Type', 'Mo_Sold',\n",
       "       'Neighborhood', 'Overall_Cond', 'Overall_Qual', 'Paved_Drive',\n",
       "       'Roof_Matl', 'Roof_Style', 'SalePrice', 'Sale_Condition', 'Sale_Type',\n",
       "       'Street', 'TotRms_AbvGrd', 'Utilities', 'Year_Built', 'Year_Remod/Add',\n",
       "       'Yr_Sold'],\n",
       "      dtype='object')"
      ]
     },
     "execution_count": 162,
     "metadata": {},
     "output_type": "execute_result"
    }
   ],
   "source": [
    "# Looking at columns for features variables\n",
    "train.columns"
   ]
  },
  {
   "cell_type": "code",
   "execution_count": 163,
   "metadata": {
    "colab": {},
    "colab_type": "code",
    "id": "593Ko1S36svD"
   },
   "outputs": [],
   "source": [
    "# Seting up features and target \n",
    "\n",
    "features = ['MS_SubClass', 'Overall_Cond', 'Half_Bath', 'Bedroom_AbvGr','Overall_Qual','Gr_Liv_Area','1st_Flr_SF','Bsmt_Full_Bath','Full_Bath','TotRms_AbvGrd','Year_Built','Kitchen_AbvGr', 'Year_Remod/Add','Lot_Area','Bedroom_AbvGr',]\n",
    "\n",
    "target = 'SalePrice'\n",
    "\n",
    "# Training x and y variables\n",
    "xtrain = train[features]\n",
    "ytrain = train[target]\n",
    "\n",
    "# Testing x and y variable\n",
    "xtest = test[features]\n",
    "ytest = test[target]"
   ]
  },
  {
   "cell_type": "markdown",
   "metadata": {
    "colab_type": "text",
    "id": "zDT-gSl_-Gwh"
   },
   "source": [
    "## 4. Do one-hot encoding\n",
    "\n",
    "Encode your categorical feature(s)."
   ]
  },
  {
   "cell_type": "code",
   "execution_count": 153,
   "metadata": {
    "colab": {},
    "colab_type": "code",
    "id": "9L3RTeQl7Mu7"
   },
   "outputs": [
    {
     "name": "stderr",
     "output_type": "stream",
     "text": [
      "/home/gunther/anaconda3/lib/python3.7/site-packages/sklearn/preprocessing/data.py:645: DataConversionWarning: Data with input dtype int64, float64 were all converted to float64 by StandardScaler.\n",
      "  return self.partial_fit(X, y)\n",
      "/home/gunther/anaconda3/lib/python3.7/site-packages/sklearn/base.py:464: DataConversionWarning: Data with input dtype int64, float64 were all converted to float64 by StandardScaler.\n",
      "  return self.fit(X, **fit_params).transform(X)\n",
      "/home/gunther/anaconda3/lib/python3.7/site-packages/ipykernel_launcher.py:8: DataConversionWarning: Data with input dtype int64, float64 were all converted to float64 by StandardScaler.\n",
      "  \n"
     ]
    }
   ],
   "source": [
    "# Encoding training and testing \n",
    "encoder = ce.OneHotEncoder(use_cat_names=True)\n",
    "\n",
    "xtrain = encoder.fit_transform(xtrain)\n",
    "xtest = encoder.transform(xtest)\n",
    "\n",
    "# Scaling Training and testing \n",
    "scaler = StandardScaler()\n",
    "\n",
    "xtrain = scaler.fit_transform(xtrain)\n",
    "xtest = scaler.transform(xtest)\n"
   ]
  },
  {
   "cell_type": "markdown",
   "metadata": {
    "colab_type": "text",
    "id": "2ZceruUx-Vs-"
   },
   "source": [
    "## 5. Use scikit-learn for Linear Regression\n",
    "Fit your model."
   ]
  },
  {
   "cell_type": "code",
   "execution_count": 154,
   "metadata": {
    "colab": {},
    "colab_type": "code",
    "id": "Kvy4Z0xv7eJF"
   },
   "outputs": [],
   "source": [
    "# Defining Linerear Regression model\n",
    "model = LinearRegression()\n",
    "\n",
    "# Fiting model to training data\n",
    "model.fit(xtrain, ytrain)\n",
    "\n",
    "# making testing prediction\n",
    "ypred = model.predict(xtest)"
   ]
  },
  {
   "cell_type": "markdown",
   "metadata": {
    "colab_type": "text",
    "id": "E9reASgw-i8T"
   },
   "source": [
    "## 6. Use regression metrics: MAE, R^2\n",
    "What is the Mean Absolute Error and R^2 score for your model? Beat the mean baseline!"
   ]
  },
  {
   "cell_type": "code",
   "execution_count": 166,
   "metadata": {
    "colab": {},
    "colab_type": "code",
    "id": "q8GdnL4e7hyK"
   },
   "outputs": [
    {
     "name": "stdout",
     "output_type": "stream",
     "text": [
      "Base line MAE : 58276.87133934621\n",
      "Base line R squared : -0.0017922985422960114\n",
      "Linear Regression MAE : 21821.220463722027\n",
      "Linear Regression R squared : 0.836375357061377\n"
     ]
    }
   ],
   "source": [
    "# Calculating mean absolute error and r score\n",
    "\n",
    "print(\"Base line MAE :\",mean_absolute_error(test.SalePrice, [mean_base] * test.Yr_Sold.count()))\n",
    "print( \"Base line R squared :\",r2_score(test.SalePrice, [mean_base] * test.Yr_Sold.count()))\n",
    "\n",
    "print(\"Linear Regression MAE :\",mean_absolute_error(ytest,ypred))\n",
    "\n",
    "print(\"Linear Regression R squared :\", r2_score(ytest,ypred))\n",
    "# We beat our base line. \n"
   ]
  },
  {
   "cell_type": "markdown",
   "metadata": {
    "colab_type": "text",
    "id": "NHnaqGAU-11z"
   },
   "source": [
    "## 7. Get coefficients of a linear model\n",
    "Print or plot the coefficients for the features in your model."
   ]
  },
  {
   "cell_type": "code",
   "execution_count": 156,
   "metadata": {
    "colab": {},
    "colab_type": "code",
    "id": "cwVomtJADsb4"
   },
   "outputs": [
    {
     "data": {
      "text/plain": [
       "array([-7387.04641796,  4777.17868287,  -744.49809391, -2532.57028901,\n",
       "       30765.85717037, 33413.81444827,  5685.66717006,  9181.20600661,\n",
       "        1595.69475046,   460.97165427, 13097.05980626, -2613.06931439,\n",
       "        2493.73953986,  3684.32311773, -2532.57028901])"
      ]
     },
     "execution_count": 156,
     "metadata": {},
     "output_type": "execute_result"
    }
   ],
   "source": [
    "model.coef_"
   ]
  },
  {
   "cell_type": "markdown",
   "metadata": {
    "colab_type": "text",
    "id": "DidByDsrOa-o"
   },
   "source": [
    "## Stretch Goals\n",
    "- Try at least 3 different feature combinations.\n",
    "- Plot exploratory visualizations.\n",
    "- Get regression metrics RMSE, MAE, and $R^2$, for both the train and test data."
   ]
  }
 ],
 "metadata": {
  "colab": {
   "collapsed_sections": [],
   "name": "DS_Sprint_Challenge_5_Linear_Models",
   "provenance": [],
   "version": "0.3.2"
  },
  "kernelspec": {
   "display_name": "Python 3",
   "language": "python",
   "name": "python3"
  },
  "language_info": {
   "codemirror_mode": {
    "name": "ipython",
    "version": 3
   },
   "file_extension": ".py",
   "mimetype": "text/x-python",
   "name": "python",
   "nbconvert_exporter": "python",
   "pygments_lexer": "ipython3",
   "version": "3.7.3"
  }
 },
 "nbformat": 4,
 "nbformat_minor": 1
}
