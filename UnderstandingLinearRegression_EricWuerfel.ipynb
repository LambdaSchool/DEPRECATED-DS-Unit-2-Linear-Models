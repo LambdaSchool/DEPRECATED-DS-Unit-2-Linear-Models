{
  "nbformat": 4,
  "nbformat_minor": 0,
  "metadata": {
    "colab": {
      "name": "UnderstandingLinearRegression_EricWuerfel.ipynb",
      "version": "0.3.2",
      "provenance": [],
      "collapsed_sections": [
        "CvB-fOhlLoAB",
        "OoFCqqRIMPU1",
        "MRCmIVbrNTMy",
        "R9EqhK1piXgA",
        "3TKXARtwNwUa",
        "PSAD81lYY9jn"
      ],
      "include_colab_link": true
    },
    "kernelspec": {
      "name": "python3",
      "display_name": "Python 3"
    }
  },
  "cells": [
    {
      "cell_type": "markdown",
      "metadata": {
        "id": "view-in-github",
        "colab_type": "text"
      },
      "source": [
        "<a href=\"https://colab.research.google.com/github/ewuerfel66/DS-Unit-2-Linear-Models/blob/master/UnderstandingLinearRegression_EricWuerfel.ipynb\" target=\"_parent\"><img src=\"https://colab.research.google.com/assets/colab-badge.svg\" alt=\"Open In Colab\"/></a>"
      ]
    },
    {
      "cell_type": "markdown",
      "metadata": {
        "id": "CXvBJyQ8LilZ",
        "colab_type": "text"
      },
      "source": [
        "# Linear Regression with SciKitLearn"
      ]
    },
    {
      "cell_type": "markdown",
      "metadata": {
        "id": "CvB-fOhlLoAB",
        "colab_type": "text"
      },
      "source": [
        "## Imports"
      ]
    },
    {
      "cell_type": "code",
      "metadata": {
        "id": "9Qtq7IdkdRNE",
        "colab_type": "code",
        "colab": {}
      },
      "source": [
        "# !pip install category_encoders"
      ],
      "execution_count": 0,
      "outputs": []
    },
    {
      "cell_type": "code",
      "metadata": {
        "id": "Yu36xOkKLd74",
        "colab_type": "code",
        "colab": {}
      },
      "source": [
        "import pandas as pd\n",
        "import numpy as np\n",
        "\n",
        "from sklearn.linear_model import LinearRegression\n",
        "from sklearn.metrics import mean_absolute_error, mean_squared_error, r2_score\n",
        "\n",
        "import category_encoders as ce"
      ],
      "execution_count": 0,
      "outputs": []
    },
    {
      "cell_type": "code",
      "metadata": {
        "id": "MK6NibahLx7G",
        "colab_type": "code",
        "colab": {}
      },
      "source": [
        "LOCAL = '../data/nyc/nyc-rent-2016.csv'\n",
        "WEB = 'https://raw.githubusercontent.com/LambdaSchool/DS-Unit-2-Linear-Models/master/data/nyc/nyc-rent-2016.csv'\n",
        "\n",
        "df = pd.read_csv(WEB)\n",
        "assert df.shape == (48300, 34)"
      ],
      "execution_count": 0,
      "outputs": []
    },
    {
      "cell_type": "code",
      "metadata": {
        "id": "7D7u4CIPYOFE",
        "colab_type": "code",
        "outputId": "e134ead3-0a0d-4930-a6f7-db3da307ea49",
        "colab": {
          "base_uri": "https://localhost:8080/"
        }
      },
      "source": [
        "df.head()"
      ],
      "execution_count": 0,
      "outputs": [
        {
          "output_type": "execute_result",
          "data": {
            "text/html": [
              "<div>\n",
              "<style scoped>\n",
              "    .dataframe tbody tr th:only-of-type {\n",
              "        vertical-align: middle;\n",
              "    }\n",
              "\n",
              "    .dataframe tbody tr th {\n",
              "        vertical-align: top;\n",
              "    }\n",
              "\n",
              "    .dataframe thead th {\n",
              "        text-align: right;\n",
              "    }\n",
              "</style>\n",
              "<table border=\"1\" class=\"dataframe\">\n",
              "  <thead>\n",
              "    <tr style=\"text-align: right;\">\n",
              "      <th></th>\n",
              "      <th>bathrooms</th>\n",
              "      <th>bedrooms</th>\n",
              "      <th>created</th>\n",
              "      <th>description</th>\n",
              "      <th>display_address</th>\n",
              "      <th>latitude</th>\n",
              "      <th>longitude</th>\n",
              "      <th>price</th>\n",
              "      <th>street_address</th>\n",
              "      <th>interest_level</th>\n",
              "      <th>elevator</th>\n",
              "      <th>cats_allowed</th>\n",
              "      <th>hardwood_floors</th>\n",
              "      <th>dogs_allowed</th>\n",
              "      <th>doorman</th>\n",
              "      <th>dishwasher</th>\n",
              "      <th>no_fee</th>\n",
              "      <th>laundry_in_building</th>\n",
              "      <th>fitness_center</th>\n",
              "      <th>pre-war</th>\n",
              "      <th>laundry_in_unit</th>\n",
              "      <th>roof_deck</th>\n",
              "      <th>outdoor_space</th>\n",
              "      <th>dining_room</th>\n",
              "      <th>high_speed_internet</th>\n",
              "      <th>balcony</th>\n",
              "      <th>swimming_pool</th>\n",
              "      <th>new_construction</th>\n",
              "      <th>exclusive</th>\n",
              "      <th>terrace</th>\n",
              "      <th>loft</th>\n",
              "      <th>garden_patio</th>\n",
              "      <th>common_outdoor_space</th>\n",
              "      <th>wheelchair_access</th>\n",
              "    </tr>\n",
              "  </thead>\n",
              "  <tbody>\n",
              "    <tr>\n",
              "      <th>0</th>\n",
              "      <td>1.5</td>\n",
              "      <td>3</td>\n",
              "      <td>2016-06-24 07:54:24</td>\n",
              "      <td>A Brand New 3 Bedroom 1.5 bath ApartmentEnjoy ...</td>\n",
              "      <td>Metropolitan Avenue</td>\n",
              "      <td>40.7145</td>\n",
              "      <td>-73.9425</td>\n",
              "      <td>3000</td>\n",
              "      <td>792 Metropolitan Avenue</td>\n",
              "      <td>medium</td>\n",
              "      <td>0</td>\n",
              "      <td>0</td>\n",
              "      <td>0</td>\n",
              "      <td>0</td>\n",
              "      <td>0</td>\n",
              "      <td>0</td>\n",
              "      <td>0</td>\n",
              "      <td>0</td>\n",
              "      <td>0</td>\n",
              "      <td>0</td>\n",
              "      <td>0</td>\n",
              "      <td>0</td>\n",
              "      <td>0</td>\n",
              "      <td>0</td>\n",
              "      <td>0</td>\n",
              "      <td>0</td>\n",
              "      <td>0</td>\n",
              "      <td>0</td>\n",
              "      <td>0</td>\n",
              "      <td>0</td>\n",
              "      <td>0</td>\n",
              "      <td>0</td>\n",
              "      <td>0</td>\n",
              "      <td>0</td>\n",
              "    </tr>\n",
              "    <tr>\n",
              "      <th>1</th>\n",
              "      <td>1.0</td>\n",
              "      <td>2</td>\n",
              "      <td>2016-06-12 12:19:27</td>\n",
              "      <td></td>\n",
              "      <td>Columbus Avenue</td>\n",
              "      <td>40.7947</td>\n",
              "      <td>-73.9667</td>\n",
              "      <td>5465</td>\n",
              "      <td>808 Columbus Avenue</td>\n",
              "      <td>low</td>\n",
              "      <td>1</td>\n",
              "      <td>1</td>\n",
              "      <td>0</td>\n",
              "      <td>1</td>\n",
              "      <td>1</td>\n",
              "      <td>0</td>\n",
              "      <td>0</td>\n",
              "      <td>0</td>\n",
              "      <td>1</td>\n",
              "      <td>0</td>\n",
              "      <td>0</td>\n",
              "      <td>0</td>\n",
              "      <td>0</td>\n",
              "      <td>0</td>\n",
              "      <td>0</td>\n",
              "      <td>0</td>\n",
              "      <td>0</td>\n",
              "      <td>0</td>\n",
              "      <td>0</td>\n",
              "      <td>0</td>\n",
              "      <td>0</td>\n",
              "      <td>0</td>\n",
              "      <td>0</td>\n",
              "      <td>0</td>\n",
              "    </tr>\n",
              "    <tr>\n",
              "      <th>2</th>\n",
              "      <td>1.0</td>\n",
              "      <td>1</td>\n",
              "      <td>2016-04-17 03:26:41</td>\n",
              "      <td>Top Top West Village location, beautiful Pre-w...</td>\n",
              "      <td>W 13 Street</td>\n",
              "      <td>40.7388</td>\n",
              "      <td>-74.0018</td>\n",
              "      <td>2850</td>\n",
              "      <td>241 W 13 Street</td>\n",
              "      <td>high</td>\n",
              "      <td>0</td>\n",
              "      <td>0</td>\n",
              "      <td>1</td>\n",
              "      <td>0</td>\n",
              "      <td>0</td>\n",
              "      <td>1</td>\n",
              "      <td>0</td>\n",
              "      <td>1</td>\n",
              "      <td>0</td>\n",
              "      <td>0</td>\n",
              "      <td>0</td>\n",
              "      <td>0</td>\n",
              "      <td>0</td>\n",
              "      <td>0</td>\n",
              "      <td>0</td>\n",
              "      <td>0</td>\n",
              "      <td>0</td>\n",
              "      <td>0</td>\n",
              "      <td>0</td>\n",
              "      <td>0</td>\n",
              "      <td>0</td>\n",
              "      <td>0</td>\n",
              "      <td>0</td>\n",
              "      <td>0</td>\n",
              "    </tr>\n",
              "    <tr>\n",
              "      <th>3</th>\n",
              "      <td>1.0</td>\n",
              "      <td>1</td>\n",
              "      <td>2016-04-18 02:22:02</td>\n",
              "      <td>Building Amenities - Garage - Garden - fitness...</td>\n",
              "      <td>East 49th Street</td>\n",
              "      <td>40.7539</td>\n",
              "      <td>-73.9677</td>\n",
              "      <td>3275</td>\n",
              "      <td>333 East 49th Street</td>\n",
              "      <td>low</td>\n",
              "      <td>0</td>\n",
              "      <td>0</td>\n",
              "      <td>1</td>\n",
              "      <td>0</td>\n",
              "      <td>0</td>\n",
              "      <td>0</td>\n",
              "      <td>1</td>\n",
              "      <td>0</td>\n",
              "      <td>0</td>\n",
              "      <td>0</td>\n",
              "      <td>0</td>\n",
              "      <td>0</td>\n",
              "      <td>0</td>\n",
              "      <td>0</td>\n",
              "      <td>0</td>\n",
              "      <td>0</td>\n",
              "      <td>0</td>\n",
              "      <td>0</td>\n",
              "      <td>0</td>\n",
              "      <td>0</td>\n",
              "      <td>0</td>\n",
              "      <td>0</td>\n",
              "      <td>0</td>\n",
              "      <td>0</td>\n",
              "    </tr>\n",
              "    <tr>\n",
              "      <th>4</th>\n",
              "      <td>1.0</td>\n",
              "      <td>4</td>\n",
              "      <td>2016-04-28 01:32:41</td>\n",
              "      <td>Beautifully renovated 3 bedroom flex 4 bedroom...</td>\n",
              "      <td>West 143rd Street</td>\n",
              "      <td>40.8241</td>\n",
              "      <td>-73.9493</td>\n",
              "      <td>3350</td>\n",
              "      <td>500 West 143rd Street</td>\n",
              "      <td>low</td>\n",
              "      <td>0</td>\n",
              "      <td>0</td>\n",
              "      <td>0</td>\n",
              "      <td>0</td>\n",
              "      <td>0</td>\n",
              "      <td>0</td>\n",
              "      <td>0</td>\n",
              "      <td>0</td>\n",
              "      <td>0</td>\n",
              "      <td>1</td>\n",
              "      <td>0</td>\n",
              "      <td>0</td>\n",
              "      <td>0</td>\n",
              "      <td>0</td>\n",
              "      <td>0</td>\n",
              "      <td>0</td>\n",
              "      <td>0</td>\n",
              "      <td>0</td>\n",
              "      <td>0</td>\n",
              "      <td>0</td>\n",
              "      <td>0</td>\n",
              "      <td>0</td>\n",
              "      <td>0</td>\n",
              "      <td>0</td>\n",
              "    </tr>\n",
              "  </tbody>\n",
              "</table>\n",
              "</div>"
            ],
            "text/plain": [
              "   bathrooms  bedrooms  ... common_outdoor_space wheelchair_access\n",
              "0        1.5         3  ...                    0                 0\n",
              "1        1.0         2  ...                    0                 0\n",
              "2        1.0         1  ...                    0                 0\n",
              "3        1.0         1  ...                    0                 0\n",
              "4        1.0         4  ...                    0                 0\n",
              "\n",
              "[5 rows x 34 columns]"
            ]
          },
          "metadata": {
            "tags": []
          },
          "execution_count": 152
        }
      ]
    },
    {
      "cell_type": "markdown",
      "metadata": {
        "id": "OoFCqqRIMPU1",
        "colab_type": "text"
      },
      "source": [
        "## Train/Test Split"
      ]
    },
    {
      "cell_type": "code",
      "metadata": {
        "id": "-i9IEhjwMGrH",
        "colab_type": "code",
        "colab": {}
      },
      "source": [
        "df['created'] = pd.to_datetime(df['created'], infer_datetime_format=True)"
      ],
      "execution_count": 0,
      "outputs": []
    },
    {
      "cell_type": "code",
      "metadata": {
        "id": "6jCPhfHIMeWo",
        "colab_type": "code",
        "colab": {}
      },
      "source": [
        "# Extract the month that the apartment listing was created\n",
        "df['month'] = df['created'].dt.month"
      ],
      "execution_count": 0,
      "outputs": []
    },
    {
      "cell_type": "code",
      "metadata": {
        "id": "9EsY9InJMoS-",
        "colab_type": "code",
        "colab": {}
      },
      "source": [
        "# Here's the actual split into TRAIN/TEST\n",
        "train = df.query('month < 6')\n",
        "test = df.query('month == 6')"
      ],
      "execution_count": 0,
      "outputs": []
    },
    {
      "cell_type": "code",
      "metadata": {
        "id": "56H5mKZsM2tc",
        "colab_type": "code",
        "outputId": "7995a6f3-22e2-4001-d0b6-96e7ce09095f",
        "colab": {
          "base_uri": "https://localhost:8080/"
        }
      },
      "source": [
        "train.shape, test.shape, df.shape"
      ],
      "execution_count": 0,
      "outputs": [
        {
          "output_type": "execute_result",
          "data": {
            "text/plain": [
              "((31515, 35), (16785, 35), (48300, 35))"
            ]
          },
          "metadata": {
            "tags": []
          },
          "execution_count": 156
        }
      ]
    },
    {
      "cell_type": "markdown",
      "metadata": {
        "id": "MRCmIVbrNTMy",
        "colab_type": "text"
      },
      "source": [
        "## Baseline Model"
      ]
    },
    {
      "cell_type": "code",
      "metadata": {
        "id": "bI8qGoutM8nx",
        "colab_type": "code",
        "outputId": "f6247738-0ce1-4e8e-dbea-70410561f1da",
        "colab": {
          "base_uri": "https://localhost:8080/"
        }
      },
      "source": [
        "# A baseline regression\n",
        "train['price'].median()"
      ],
      "execution_count": 0,
      "outputs": [
        {
          "output_type": "execute_result",
          "data": {
            "text/plain": [
              "3100.0"
            ]
          },
          "metadata": {
            "tags": []
          },
          "execution_count": 157
        }
      ]
    },
    {
      "cell_type": "code",
      "metadata": {
        "id": "tLM-3iI9NZ8a",
        "colab_type": "code",
        "colab": {}
      },
      "source": [
        "# How far off are our baseline predictions on average?\n",
        "y_test = test['price']\n",
        "# y_pred = train['price'].median() * len(test)\n",
        "y_pred = np.full_like(y_test, fill_value=train['price'].median())"
      ],
      "execution_count": 0,
      "outputs": []
    },
    {
      "cell_type": "code",
      "metadata": {
        "id": "RTcYz4u3Ncr9",
        "colab_type": "code",
        "outputId": "12da45c7-1a5c-489d-e83f-383c668ab9b0",
        "colab": {
          "base_uri": "https://localhost:8080/"
        }
      },
      "source": [
        "# lots of room for improvement\n",
        "print(\"MAE:\", mean_absolute_error(y_test, y_pred))\n",
        "print(\"MSE:\", mean_squared_error(y_test, y_pred))\n",
        "print(\"RMSE:\", np.sqrt(mean_squared_error(y_test, y_pred)))\n",
        "print(\"R^2:\", r2_score(y_test, y_pred))"
      ],
      "execution_count": 0,
      "outputs": [
        {
          "output_type": "stream",
          "text": [
            "MAE: 1020.0558236520703\n",
            "MSE: 2101068.4048257372\n",
            "RMSE: 1449.5062624306725\n",
            "R^2: -0.06142924192681343\n"
          ],
          "name": "stdout"
        }
      ]
    },
    {
      "cell_type": "markdown",
      "metadata": {
        "id": "R9EqhK1piXgA",
        "colab_type": "text"
      },
      "source": [
        "## 2 Feature Linear Regression"
      ]
    },
    {
      "cell_type": "code",
      "metadata": {
        "id": "xJn7Tpsmihht",
        "colab_type": "code",
        "colab": {}
      },
      "source": [
        "# Select features and target\n",
        "features = ['bedrooms', 'bathrooms']\n",
        "target = 'price'\n",
        "\n",
        "# Create train and test dataframes/vectors\n",
        "X_train = train[features]\n",
        "y_train = train[target]\n",
        "\n",
        "X_test = test[features]\n",
        "y_test = test[target]\n",
        "\n",
        "# Create & fit the model\n",
        "model = LinearRegression()\n",
        "model.fit(X_train, y_train)\n",
        "y_pred = model.predict(X_test)"
      ],
      "execution_count": 0,
      "outputs": []
    },
    {
      "cell_type": "code",
      "metadata": {
        "id": "OcV8-QT2iorq",
        "colab_type": "code",
        "outputId": "e2960829-afbd-43ed-8354-140edd03b83b",
        "colab": {
          "base_uri": "https://localhost:8080/"
        }
      },
      "source": [
        "print(\"MAE:\", mean_absolute_error(y_test, y_pred))\n",
        "print(\"MSE:\", mean_squared_error(y_test, y_pred))\n",
        "print(\"RMSE:\", np.sqrt(mean_squared_error(y_test, y_pred)))\n",
        "print(\"R^2:\", r2_score(y_test, y_pred))"
      ],
      "execution_count": 0,
      "outputs": [
        {
          "output_type": "stream",
          "text": [
            "MAE: 754.5508722934989\n",
            "MSE: 1066040.6702140642\n",
            "RMSE: 1032.4924552819086\n",
            "R^2: 0.4614517367213872\n"
          ],
          "name": "stdout"
        }
      ]
    },
    {
      "cell_type": "code",
      "metadata": {
        "id": "80TOkeXJ0Vmp",
        "colab_type": "code",
        "outputId": "cdb808f4-ec46-4e7b-9841-168a3c6195ad",
        "colab": {
          "base_uri": "https://localhost:8080/"
        }
      },
      "source": [
        "print(\"Coefficients:\", model.coef_)\n",
        "print(\"Intercept:\", model.intercept_)"
      ],
      "execution_count": 0,
      "outputs": [
        {
          "output_type": "stream",
          "text": [
            "Coefficients: [ 426.71051253 1499.03032982]\n",
            "Intercept: 1022.9589927686366\n"
          ],
          "name": "stdout"
        }
      ]
    },
    {
      "cell_type": "markdown",
      "metadata": {
        "id": "WcfQFuZyoVhj",
        "colab_type": "text"
      },
      "source": [
        "## 3D Plot\n",
        "\n",
        "* The html file should appear in the 'Files' tab in CoLab\n",
        "* You may have to download the file to view it"
      ]
    },
    {
      "cell_type": "code",
      "metadata": {
        "id": "X55TsVndjW0F",
        "colab_type": "code",
        "colab": {}
      },
      "source": [
        "import plotly as py\n",
        "import plotly.graph_objs as go\n",
        "from plotly.offline import download_plotlyjs, init_notebook_mode, plot, iplot"
      ],
      "execution_count": 0,
      "outputs": []
    },
    {
      "cell_type": "code",
      "metadata": {
        "id": "0dW8kSfRnW2S",
        "colab_type": "code",
        "colab": {}
      },
      "source": [
        "trace = go.Mesh3d(\n",
        "    x=test[features[0]],\n",
        "    y=test[features[1]],\n",
        "    z=y_pred,\n",
        "    opacity=0.8\n",
        "    )"
      ],
      "execution_count": 0,
      "outputs": []
    },
    {
      "cell_type": "code",
      "metadata": {
        "id": "G9GY77-kl1LA",
        "colab_type": "code",
        "outputId": "c166fe0a-d4d5-465e-c7cd-b68816c0a83b",
        "colab": {
          "base_uri": "https://localhost:8080/"
        }
      },
      "source": [
        "plot([trace])"
      ],
      "execution_count": 0,
      "outputs": [
        {
          "output_type": "execute_result",
          "data": {
            "text/plain": [
              "'file:///content/temp-plot.html'"
            ]
          },
          "metadata": {
            "tags": []
          },
          "execution_count": 165
        }
      ]
    },
    {
      "cell_type": "markdown",
      "metadata": {
        "id": "3TKXARtwNwUa",
        "colab_type": "text"
      },
      "source": [
        "## Multiple Linear Regression\n",
        "\n",
        "* Features\n",
        "  * Bedrooms, Bathrooms, Fitness Center, Interest Level, Longitude\n",
        "* One-Hot Encoding"
      ]
    },
    {
      "cell_type": "code",
      "metadata": {
        "id": "fXJk6AJ_O-Rj",
        "colab_type": "code",
        "colab": {}
      },
      "source": [
        "# Select features and target\n",
        "features = ['bedrooms', 'bathrooms', 'fitness_center', 'interest_level', 'longitude']\n",
        "target = 'price'\n",
        "\n",
        "# Create train and test dataframes/vectors\n",
        "X_train = train[features]\n",
        "y_train = train[target]\n",
        "\n",
        "X_test = test[features]\n",
        "y_test = test[target]\n",
        "\n",
        "# One-Hot Encoder\n",
        "encoder = ce.OneHotEncoder(use_cat_names=True)\n",
        "X_train = encoder.fit_transform(X_train)\n",
        "X_test = encoder.transform(X_test)\n",
        "\n",
        "# Create & fit the model\n",
        "model = LinearRegression()\n",
        "model.fit(X_train, y_train)\n",
        "y_pred = model.predict(X_test)"
      ],
      "execution_count": 0,
      "outputs": []
    },
    {
      "cell_type": "code",
      "metadata": {
        "id": "2TZzhfgpQQcc",
        "colab_type": "code",
        "outputId": "59694038-5275-4316-a716-70145623e901",
        "colab": {
          "base_uri": "https://localhost:8080/"
        }
      },
      "source": [
        "print(\"MAE:\", mean_absolute_error(y_test, y_pred))\n",
        "print(\"MSE:\", mean_squared_error(y_test, y_pred))\n",
        "print(\"RMSE:\", np.sqrt(mean_squared_error(y_test, y_pred)))\n",
        "print(\"R^2:\", r2_score(y_test, y_pred))"
      ],
      "execution_count": 0,
      "outputs": [
        {
          "output_type": "stream",
          "text": [
            "MAE: 624.0727086075918\n",
            "MSE: 769963.4552933192\n",
            "RMSE: 877.4756152129353\n",
            "R^2: 0.6110256454353178\n"
          ],
          "name": "stdout"
        }
      ]
    },
    {
      "cell_type": "code",
      "metadata": {
        "id": "oqFeY1oKdF6q",
        "colab_type": "code",
        "outputId": "9ee39a92-3f4d-4df1-fef0-de3c520c6d83",
        "colab": {
          "base_uri": "https://localhost:8080/"
        }
      },
      "source": [
        "print(\"Coefficients:\", model.coef_)\n",
        "print(\"Intercept:\", model.intercept_)"
      ],
      "execution_count": 0,
      "outputs": [
        {
          "output_type": "stream",
          "text": [
            "Coefficients: [   488.4683177    1323.94778987    312.17629928   -329.5442508\n",
            "    397.79431216    -68.25006136 -13553.01162863]\n",
            "Intercept: -1001725.2550012637\n"
          ],
          "name": "stdout"
        }
      ]
    },
    {
      "cell_type": "markdown",
      "metadata": {
        "id": "PSAD81lYY9jn",
        "colab_type": "text"
      },
      "source": [
        "## Amenities feature"
      ]
    },
    {
      "cell_type": "code",
      "metadata": {
        "id": "u7Yz3AB5Tx1X",
        "colab_type": "code",
        "colab": {}
      },
      "source": [
        "df['amenities'] = True\n",
        "df['amenities'] = (df['elevator']+\n",
        "                   df['cats_allowed']+\n",
        "                   df['dogs_allowed']+\n",
        "                   df['hardwood_floors']+\n",
        "                   df['doorman']+\n",
        "                   df['dishwasher']+\n",
        "                   df['no_fee']+\n",
        "                   df['laundry_in_building']+\n",
        "                   df['fitness_center']+\n",
        "                   df['laundry_in_unit']+\n",
        "                   df['roof_deck']+\n",
        "                   df['outdoor_space']+\n",
        "                   df['dining_room']+\n",
        "                   df['high_speed_internet']+\n",
        "                   df['balcony']+\n",
        "                   df['swimming_pool']+\n",
        "                   df['new_construction']+\n",
        "                   df['terrace'])"
      ],
      "execution_count": 0,
      "outputs": []
    },
    {
      "cell_type": "markdown",
      "metadata": {
        "id": "LHPEGm_6b5Yx",
        "colab_type": "text"
      },
      "source": [
        "**gotta redo the train/test split now**"
      ]
    },
    {
      "cell_type": "code",
      "metadata": {
        "colab_type": "code",
        "id": "y8z38DELb_03",
        "colab": {}
      },
      "source": [
        "# Here's the actual split into TRAIN/TEST\n",
        "train = df.query('month < 6')\n",
        "test = df.query('month == 6')"
      ],
      "execution_count": 0,
      "outputs": []
    },
    {
      "cell_type": "code",
      "metadata": {
        "colab_type": "code",
        "outputId": "12ebeef0-f055-401d-8f04-f51b9bf6ef82",
        "id": "sdSeEvhgb_09",
        "colab": {
          "base_uri": "https://localhost:8080/",
          "height": 34
        }
      },
      "source": [
        "train.shape, test.shape, df.shape"
      ],
      "execution_count": 0,
      "outputs": [
        {
          "output_type": "execute_result",
          "data": {
            "text/plain": [
              "((31515, 36), (16785, 36), (48300, 36))"
            ]
          },
          "metadata": {
            "tags": []
          },
          "execution_count": 171
        }
      ]
    },
    {
      "cell_type": "markdown",
      "metadata": {
        "id": "ecRbK7kfcFbv",
        "colab_type": "text"
      },
      "source": [
        "Now the model"
      ]
    },
    {
      "cell_type": "code",
      "metadata": {
        "id": "wP3R-qT0Zota",
        "colab_type": "code",
        "colab": {}
      },
      "source": [
        "# Select features and target\n",
        "features = ['bedrooms', 'bathrooms', 'amenities', 'longitude', 'interest_level']\n",
        "target = 'price'\n",
        "\n",
        "# Create train and test dataframes/vectors\n",
        "X_train = train[features]\n",
        "y_train = train[target]\n",
        "\n",
        "X_test = test[features]\n",
        "y_test = test[target]\n",
        "\n",
        "# One-Hot Encoder\n",
        "encoder = ce.OneHotEncoder(use_cat_names=True)\n",
        "X_train = encoder.fit_transform(X_train)\n",
        "X_test = encoder.transform(X_test)\n",
        "\n",
        "# Create & fit the model\n",
        "model = LinearRegression()\n",
        "model.fit(X_train, y_train)\n",
        "y_pred = model.predict(X_test)"
      ],
      "execution_count": 0,
      "outputs": []
    },
    {
      "cell_type": "code",
      "metadata": {
        "id": "2e1jN5PDcUh2",
        "colab_type": "code",
        "outputId": "0d0057e8-0dec-49ac-c0ed-8eb3ebab106d",
        "colab": {
          "base_uri": "https://localhost:8080/",
          "height": 86
        }
      },
      "source": [
        "print(\"MAE:\", mean_absolute_error(y_test, y_pred))\n",
        "print(\"MSE:\", mean_squared_error(y_test, y_pred))\n",
        "print(\"RMSE:\", np.sqrt(mean_squared_error(y_test, y_pred)))\n",
        "print(\"R^2:\", r2_score(y_test, y_pred))"
      ],
      "execution_count": 0,
      "outputs": [
        {
          "output_type": "stream",
          "text": [
            "MAE: 617.6979910224458\n",
            "MSE: 762460.2451447417\n",
            "RMSE: 873.1896959680306\n",
            "R^2: 0.6148161582247778\n"
          ],
          "name": "stdout"
        }
      ]
    },
    {
      "cell_type": "code",
      "metadata": {
        "id": "YG89lXHY0ipt",
        "colab_type": "code",
        "outputId": "b8e58868-e121-4ab3-8c35-1f58498bcd40",
        "colab": {
          "base_uri": "https://localhost:8080/",
          "height": 69
        }
      },
      "source": [
        "print(\"Coefficients:\", model.coef_)\n",
        "print(\"Intercept:\", model.intercept_)"
      ],
      "execution_count": 0,
      "outputs": [
        {
          "output_type": "stream",
          "text": [
            "Coefficients: [   478.23651654   1289.04776435     55.12684404 -13101.25251737\n",
            "   -337.28284225    420.15052098    -82.86767873]\n",
            "Intercept: -968416.2947589218\n"
          ],
          "name": "stdout"
        }
      ]
    },
    {
      "cell_type": "markdown",
      "metadata": {
        "id": "2L8NvPAMhtR5",
        "colab_type": "text"
      },
      "source": [
        "## Compare R^2 Values for Different Features\n",
        "\n",
        "### *Best Model*\n",
        "\n",
        "* Created a linear model for each feature\n",
        "* Only kept features whose model's R^2 > 0.01\n",
        "* Created the final model with only those features"
      ]
    },
    {
      "cell_type": "code",
      "metadata": {
        "id": "uRyJvzmaswMD",
        "colab_type": "code",
        "colab": {}
      },
      "source": [
        "r2_scores = []"
      ],
      "execution_count": 0,
      "outputs": []
    },
    {
      "cell_type": "code",
      "metadata": {
        "id": "lKwakr5mtAfk",
        "colab_type": "code",
        "colab": {}
      },
      "source": [
        "def LinModel_1d(feature):\n",
        "  # Select features and target\n",
        "  features = [feature]\n",
        "  target = 'price'\n",
        "\n",
        "  # Create train and test dataframes/vectors\n",
        "  X_train = train[features]\n",
        "  y_train = train[target]\n",
        "\n",
        "  X_test = test[features]\n",
        "  y_test = test[target]\n",
        "\n",
        "  # Create & fit the model\n",
        "  model = LinearRegression()\n",
        "  model.fit(X_train, y_train)\n",
        "  y_pred = model.predict(X_test)\n",
        "  \n",
        "  # Return the R^2 Value\n",
        "  r2_scores.append((feature, r2_score(y_test, y_pred)))"
      ],
      "execution_count": 0,
      "outputs": []
    },
    {
      "cell_type": "code",
      "metadata": {
        "id": "HilVWec3tplo",
        "colab_type": "code",
        "colab": {}
      },
      "source": [
        "# Select all of the numerical features\n",
        "my_feats = ['bedrooms', 'bathrooms']\n",
        "\n",
        "# Amenities\n",
        "for x in range(10, 34):\n",
        "  my_feats.append(all_features[x])\n",
        "\n",
        "# Longitude / Latitude\n",
        "for x in range(5, 7):\n",
        "  my_feats.append(all_features[x])"
      ],
      "execution_count": 0,
      "outputs": []
    },
    {
      "cell_type": "code",
      "metadata": {
        "id": "ssC57eHHtQK5",
        "colab_type": "code",
        "colab": {}
      },
      "source": [
        "# Create a model for each numerical feature\n",
        "for feature in my_feats:\n",
        "  LinModel_1d(feature)"
      ],
      "execution_count": 0,
      "outputs": []
    },
    {
      "cell_type": "code",
      "metadata": {
        "id": "E4AhLDYfvtYS",
        "colab_type": "code",
        "colab": {}
      },
      "source": [
        "# Only keep those features whose R^2 is greater than 0.01\n",
        "for score in r2_scores:\n",
        "  if score[1] < 0.01:\n",
        "    r2_scores.remove(score)"
      ],
      "execution_count": 0,
      "outputs": []
    },
    {
      "cell_type": "code",
      "metadata": {
        "id": "7DMFeSXywIK0",
        "colab_type": "code",
        "colab": {}
      },
      "source": [
        "# Our final features\n",
        "features = []\n",
        "\n",
        "for score in r2_scores:\n",
        "  features.append(score[0])\n",
        "  \n",
        "features.append('interest_level')"
      ],
      "execution_count": 0,
      "outputs": []
    },
    {
      "cell_type": "code",
      "metadata": {
        "id": "Bt9sJ_04wxZp",
        "colab_type": "code",
        "colab": {}
      },
      "source": [
        "# Select features and target\n",
        "target = 'price'\n",
        "\n",
        "# Create train and test dataframes/vectors\n",
        "X_train = train[features]\n",
        "y_train = train[target]\n",
        "\n",
        "X_test = test[features]\n",
        "y_test = test[target]\n",
        "\n",
        "# One-Hot Encoder\n",
        "encoder = ce.OneHotEncoder(use_cat_names=True)\n",
        "X_train = encoder.fit_transform(X_train)\n",
        "X_test = encoder.transform(X_test)\n",
        "\n",
        "# Create & fit the model\n",
        "model = LinearRegression()\n",
        "model.fit(X_train, y_train)\n",
        "y_pred = model.predict(X_test)"
      ],
      "execution_count": 0,
      "outputs": []
    },
    {
      "cell_type": "code",
      "metadata": {
        "id": "n-nlHvIhw_iV",
        "colab_type": "code",
        "outputId": "a39c052b-348a-4f32-953c-0136967ee071",
        "colab": {
          "base_uri": "https://localhost:8080/",
          "height": 86
        }
      },
      "source": [
        "print(\"MAE:\", mean_absolute_error(y_test, y_pred))\n",
        "print(\"MSE:\", mean_squared_error(y_test, y_pred))\n",
        "print(\"RMSE:\", np.sqrt(mean_squared_error(y_test, y_pred)))\n",
        "print(\"R^2:\", r2_score(y_test, y_pred))"
      ],
      "execution_count": 0,
      "outputs": [
        {
          "output_type": "stream",
          "text": [
            "MAE: 593.2060868641156\n",
            "MSE: 715189.646032596\n",
            "RMSE: 845.6888588793139\n",
            "R^2: 0.6386965783318959\n"
          ],
          "name": "stdout"
        }
      ]
    },
    {
      "cell_type": "code",
      "metadata": {
        "id": "Q7iGiWNY0mKD",
        "colab_type": "code",
        "outputId": "ac2767ce-3b24-40f3-8593-b1b0310b95ae",
        "colab": {
          "base_uri": "https://localhost:8080/",
          "height": 139
        }
      },
      "source": [
        "print(\"Coefficients:\", model.coef_)\n",
        "print(\"Intercept:\", model.intercept_)"
      ],
      "execution_count": 0,
      "outputs": [
        {
          "output_type": "stream",
          "text": [
            "Coefficients: [   513.04668314   1209.60748244    179.19445646   -129.49229121\n",
            "    392.67248037    110.72722029    -75.07939851     71.15325928\n",
            "    353.81171068   -134.58747844   -100.60150455     99.53590305\n",
            "   -281.80257601     24.76409322     33.50965178     71.76950918\n",
            "    112.56188005    -20.63421386     85.32446476 -12297.2899395\n",
            "   -300.87105917    370.52226469    -69.65120552]\n",
            "Intercept: -908901.2225445384\n"
          ],
          "name": "stdout"
        }
      ]
    }
  ]
}