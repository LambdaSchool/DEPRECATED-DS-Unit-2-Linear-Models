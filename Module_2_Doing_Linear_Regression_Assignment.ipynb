{
  "nbformat": 4,
  "nbformat_minor": 0,
  "metadata": {
    "colab": {
      "name": "Untitled3.ipynb",
      "version": "0.3.2",
      "provenance": [],
      "include_colab_link": true
    },
    "kernelspec": {
      "name": "python3",
      "display_name": "Python 3"
    }
  },
  "cells": [
    {
      "cell_type": "markdown",
      "metadata": {
        "id": "view-in-github",
        "colab_type": "text"
      },
      "source": [
        "<a href=\"https://colab.research.google.com/github/rgolds5/DS-Unit-2-Linear-Models/blob/master/Module_2_Doing_Linear_Regression_Assignment.ipynb\" target=\"_parent\"><img src=\"https://colab.research.google.com/assets/colab-badge.svg\" alt=\"Open In Colab\"/></a>"
      ]
    },
    {
      "cell_type": "code",
      "metadata": {
        "id": "WESTnTMSGr9x",
        "colab_type": "code",
        "colab": {}
      },
      "source": [
        "import pandas as pd\n",
        "import numpy as np\n",
        "import matplotlib.pyplot as plt\n",
        "from sklearn.metrics import mean_absolute_error\n",
        "from sklearn.linear_model import LinearRegression\n",
        "import category_encoders as ce\n",
        "from sklearn.preprocessing import StandardScaler\n",
        "\n",
        "model = LinearRegression()\n",
        "encoder = ce.OneHotEncoder(use_cat_names = True)\n",
        "scaler = StandardScaler()\n",
        "\n",
        "data_url = 'https://raw.githubusercontent.com/LambdaSchool/DS-Unit-2-Linear-Models/master/data/nyc/nyc-rent-2016.csv'\n",
        "\n",
        "df = pd.read_csv(data_url)\n",
        "assert df.shape == (48300, 34)\n",
        "\n"
      ],
      "execution_count": 0,
      "outputs": []
    },
    {
      "cell_type": "code",
      "metadata": {
        "id": "lxaxE6pcHv5_",
        "colab_type": "code",
        "colab": {
          "base_uri": "https://localhost:8080/",
          "height": 34
        },
        "outputId": "29c2f305-c5e8-4cd9-e0b3-8b45cb1630a0"
      },
      "source": [
        "df.created = pd.to_datetime(df.created, infer_datetime_format = True)\n",
        "df.month = df.created.dt.month\n",
        "\n",
        "train = df[df.month < 6]\n",
        "test = df[df.month == 6]\n",
        "\n",
        "train.price.mean()"
      ],
      "execution_count": 6,
      "outputs": [
        {
          "output_type": "execute_result",
          "data": {
            "text/plain": [
              "3432.7534190068222"
            ]
          },
          "metadata": {
            "tags": []
          },
          "execution_count": 6
        }
      ]
    },
    {
      "cell_type": "code",
      "metadata": {
        "id": "Q6WK_qwFIu_b",
        "colab_type": "code",
        "colab": {
          "base_uri": "https://localhost:8080/",
          "height": 34
        },
        "outputId": "ffeb8087-cc80-4fad-c3ce-419e66fddd25"
      },
      "source": [
        "features = [\n",
        "    'bathrooms',\n",
        "    'bedrooms',\n",
        "    'longitude',\n",
        "    ]\n",
        "\n",
        "target = 'price'\n",
        "\n",
        "X_train = train[features]\n",
        "y_train = train[target]\n",
        "\n",
        "X_test = test[features]\n",
        "y_test = test[target]\n",
        "\n",
        "X_train = scaler.fit_transform(X_train)\n",
        "X_test = scaler.transform(X_test)\n",
        "\n",
        "model.fit(X_train, y_train)\n",
        "\n",
        "y_pred = model.predict(X_test)\n",
        "\n",
        "mean_absolute_error(y_test, y_pred)"
      ],
      "execution_count": 15,
      "outputs": [
        {
          "output_type": "execute_result",
          "data": {
            "text/plain": [
              "667.293314729857"
            ]
          },
          "metadata": {
            "tags": []
          },
          "execution_count": 15
        }
      ]
    },
    {
      "cell_type": "code",
      "metadata": {
        "id": "6AQ36J5FLEkN",
        "colab_type": "code",
        "colab": {
          "base_uri": "https://localhost:8080/",
          "height": 85
        },
        "outputId": "7155842a-ecf0-4cde-bc62-05c3515c92eb"
      },
      "source": [
        "features = [\n",
        "    'bathrooms',\n",
        "    'bedrooms',\n",
        "    'longitude',\n",
        "    'interest_level',\n",
        "    'doorman',\n",
        "    ]\n",
        "\n",
        "target = 'price'\n",
        "\n",
        "X_train = train[features]\n",
        "y_train = train[target]\n",
        "\n",
        "X_test = test[features]\n",
        "y_test = test[target]\n",
        "\n",
        "X_train = encoder.fit_transform(X_train)\n",
        "X_test = encoder.transform(X_test)\n",
        "\n",
        "X_train = scaler.fit_transform(X_train)\n",
        "X_test = scaler.transform(X_test)\n",
        "\n",
        "model.fit(X_train, y_train)\n",
        "\n",
        "y_pred = model.predict(X_test)\n",
        "\n",
        "print(f'MAE: {mean_absolute_error(y_test, y_pred)}')\n",
        "print(f'Intercept: {model.intercept_}')\n",
        "model.coef_\n",
        "              "
      ],
      "execution_count": 50,
      "outputs": [
        {
          "output_type": "stream",
          "text": [
            "MAE: 606.3687175807665\n",
            "Intercept: 3433.054238785847\n"
          ],
          "name": "stdout"
        },
        {
          "output_type": "execute_result",
          "data": {
            "text/plain": [
              "array([ 5.41475931e+02,  5.58567119e+02, -3.73131401e+02,  2.47282022e+15,\n",
              "        4.24591758e+15,  3.87714519e+15,  2.38065790e+02])"
            ]
          },
          "metadata": {
            "tags": []
          },
          "execution_count": 50
        }
      ]
    },
    {
      "cell_type": "markdown",
      "metadata": {
        "id": "Wcut67HUcl_0",
        "colab_type": "text"
      },
      "source": [
        "I ran the above code with multiple sets of feature combinations. The five features I have finished with, _bathrooms_, _bedrooms_, _longitude_, _interest_level_, and _doorman_ seemed to be the ones that gave me the most _bang for my buck_."
      ]
    }
  ]
}