{
  "nbformat": 4,
  "nbformat_minor": 0,
  "metadata": {
    "colab": {
      "name": "gh_214_kaggle_challenge.ipynb",
      "version": "0.3.2",
      "provenance": []
    },
    "kernelspec": {
      "name": "python3",
      "display_name": "Python 3"
    },
    "accelerator": "GPU"
  },
  "cells": [
    {
      "cell_type": "markdown",
      "metadata": {
        "colab_type": "text",
        "id": "sszvYWKYsDwY"
      },
      "source": [
        "# Assignment\n",
        "- Learn about the mathematics of Logistic Regression by watching Aaron Gallant's [video #1](https://www.youtube.com/watch?v=pREaWFli-5I) (12 minutes) & [video #2](https://www.youtube.com/watch?v=bDQgVt4hFgY) (9 minutes).\n",
        "- Start a clean notebook.\n",
        "- Do train/validate/test split with the Tanzania Waterpumps data.\n",
        "- Begin to explore and clean the data. For ideas, refer to [The Quartz guide to bad data](https://github.com/Quartz/bad-data-guide),  a \"reference to problems seen in real-world data along with suggestions on how to resolve them.\" One of the issues is [\"Zeros replace missing values.\"](https://github.com/Quartz/bad-data-guide#zeros-replace-missing-values)\n",
        "- Select different numeric and categorical features. \n",
        "- Do one-hot encoding. (Remember it may not work with high cardinality categoricals.)\n",
        "- Scale features.\n",
        "- Use scikit-learn for logistic regression.\n",
        "- Get your validation accuracy score.\n",
        "- Get and plot your coefficients.\n",
        "- Submit your predictions to our Kaggle competition.\n",
        "- Commit your notebook to your fork of the GitHub repo.\n",
        "\n",
        "## Stretch Goals\n",
        "- Begin to visualize the data.\n",
        "- Try different [scikit-learn scalers](https://scikit-learn.org/stable/modules/preprocessing.html)\n",
        "- Try [scikit-learn pipelines](https://scikit-learn.org/stable/modules/compose.html):\n",
        "\n",
        "> Pipeline can be used to chain multiple estimators into one. This is useful as there is often a fixed sequence of steps in processing the data, for example feature selection, normalization and classification. Pipeline serves multiple purposes here:\n",
        "\n",
        "> - **Convenience and encapsulation.** You only have to call fit and predict once on your data to fit a whole sequence of estimators.\n",
        "> - **Joint parameter selection.** You can grid search over parameters of all estimators in the pipeline at once.\n",
        "> - **Safety.** Pipelines help avoid leaking statistics from your test data into the trained model in cross-validation, by ensuring that the same samples are used to train the transformers and predictors.\n"
      ]
    },
    {
      "cell_type": "markdown",
      "metadata": {
        "id": "2UoXaLwOIrjr",
        "colab_type": "text"
      },
      "source": [
        "## Load and split data"
      ]
    },
    {
      "cell_type": "code",
      "metadata": {
        "id": "L9I6yIFfHpjA",
        "colab_type": "code",
        "outputId": "38182eca-8751-4f5b-f726-31353f21ab47",
        "colab": {
          "base_uri": "https://localhost:8080/",
          "height": 269
        }
      },
      "source": [
        "!pip install category_encoders"
      ],
      "execution_count": 1,
      "outputs": [
        {
          "output_type": "stream",
          "text": [
            "Collecting category_encoders\n",
            "\u001b[?25l  Downloading https://files.pythonhosted.org/packages/6e/a1/f7a22f144f33be78afeb06bfa78478e8284a64263a3c09b1ef54e673841e/category_encoders-2.0.0-py2.py3-none-any.whl (87kB)\n",
            "\u001b[K     |████████████████████████████████| 92kB 28.1MB/s \n",
            "\u001b[?25hRequirement already satisfied: numpy>=1.11.3 in /usr/local/lib/python3.6/dist-packages (from category_encoders) (1.16.4)\n",
            "Requirement already satisfied: statsmodels>=0.6.1 in /usr/local/lib/python3.6/dist-packages (from category_encoders) (0.10.0)\n",
            "Requirement already satisfied: scipy>=0.19.0 in /usr/local/lib/python3.6/dist-packages (from category_encoders) (1.3.0)\n",
            "Requirement already satisfied: pandas>=0.21.1 in /usr/local/lib/python3.6/dist-packages (from category_encoders) (0.24.2)\n",
            "Requirement already satisfied: patsy>=0.4.1 in /usr/local/lib/python3.6/dist-packages (from category_encoders) (0.5.1)\n",
            "Requirement already satisfied: scikit-learn>=0.20.0 in /usr/local/lib/python3.6/dist-packages (from category_encoders) (0.21.2)\n",
            "Requirement already satisfied: python-dateutil>=2.5.0 in /usr/local/lib/python3.6/dist-packages (from pandas>=0.21.1->category_encoders) (2.5.3)\n",
            "Requirement already satisfied: pytz>=2011k in /usr/local/lib/python3.6/dist-packages (from pandas>=0.21.1->category_encoders) (2018.9)\n",
            "Requirement already satisfied: six in /usr/local/lib/python3.6/dist-packages (from patsy>=0.4.1->category_encoders) (1.12.0)\n",
            "Requirement already satisfied: joblib>=0.11 in /usr/local/lib/python3.6/dist-packages (from scikit-learn>=0.20.0->category_encoders) (0.13.2)\n",
            "Installing collected packages: category-encoders\n",
            "Successfully installed category-encoders-2.0.0\n"
          ],
          "name": "stdout"
        }
      ]
    },
    {
      "cell_type": "code",
      "metadata": {
        "id": "tCFn_cLiH9d0",
        "colab_type": "code",
        "colab": {}
      },
      "source": [
        "import numpy as np\n",
        "import pandas as pd\n",
        "from math import sqrt\n",
        "import pandas_profiling\n",
        "import category_encoders as ce\n",
        "import matplotlib.pyplot as plt\n",
        "from sklearn.metrics import accuracy_score\n",
        "from sklearn.preprocessing import StandardScaler\n",
        "from sklearn.model_selection import train_test_split\n",
        "from sklearn.linear_model import LogisticRegression"
      ],
      "execution_count": 0,
      "outputs": []
    },
    {
      "cell_type": "code",
      "metadata": {
        "id": "YyD39z_7H_CT",
        "colab_type": "code",
        "colab": {}
      },
      "source": [
        "LOCAL = '../data/tanzania/'\n",
        "WEB = 'https://raw.githubusercontent.com/LambdaSchool/DS-Unit-2-Linear-Models/master/data/tanzania/'\n",
        "\n",
        "train_features = pd.read_csv(WEB + 'train_features.csv')\n",
        "train_labels = pd.read_csv(WEB + 'train_labels.csv')\n",
        "test_features = pd.read_csv(WEB + 'test_features.csv')\n",
        "sample_submission = pd.read_csv(WEB + 'sample_submission.csv')\n",
        "\n",
        "assert train_features.shape == (59400, 40)\n",
        "assert train_labels.shape == (59400, 2)\n",
        "assert test_features.shape == (14358, 40)\n",
        "assert sample_submission.shape == (14358, 2)"
      ],
      "execution_count": 0,
      "outputs": []
    },
    {
      "cell_type": "code",
      "metadata": {
        "id": "tIXinn6LLxwZ",
        "colab_type": "code",
        "outputId": "ce0f2494-4210-4e7f-bdf1-af7ca1120b1d",
        "colab": {
          "base_uri": "https://localhost:8080/",
          "height": 130
        }
      },
      "source": [
        "train_features.sample(1)"
      ],
      "execution_count": 4,
      "outputs": [
        {
          "output_type": "execute_result",
          "data": {
            "text/html": [
              "<div>\n",
              "<style scoped>\n",
              "    .dataframe tbody tr th:only-of-type {\n",
              "        vertical-align: middle;\n",
              "    }\n",
              "\n",
              "    .dataframe tbody tr th {\n",
              "        vertical-align: top;\n",
              "    }\n",
              "\n",
              "    .dataframe thead th {\n",
              "        text-align: right;\n",
              "    }\n",
              "</style>\n",
              "<table border=\"1\" class=\"dataframe\">\n",
              "  <thead>\n",
              "    <tr style=\"text-align: right;\">\n",
              "      <th></th>\n",
              "      <th>id</th>\n",
              "      <th>amount_tsh</th>\n",
              "      <th>date_recorded</th>\n",
              "      <th>funder</th>\n",
              "      <th>gps_height</th>\n",
              "      <th>installer</th>\n",
              "      <th>longitude</th>\n",
              "      <th>latitude</th>\n",
              "      <th>wpt_name</th>\n",
              "      <th>num_private</th>\n",
              "      <th>basin</th>\n",
              "      <th>subvillage</th>\n",
              "      <th>region</th>\n",
              "      <th>region_code</th>\n",
              "      <th>district_code</th>\n",
              "      <th>lga</th>\n",
              "      <th>ward</th>\n",
              "      <th>population</th>\n",
              "      <th>public_meeting</th>\n",
              "      <th>recorded_by</th>\n",
              "      <th>scheme_management</th>\n",
              "      <th>scheme_name</th>\n",
              "      <th>permit</th>\n",
              "      <th>construction_year</th>\n",
              "      <th>extraction_type</th>\n",
              "      <th>extraction_type_group</th>\n",
              "      <th>extraction_type_class</th>\n",
              "      <th>management</th>\n",
              "      <th>management_group</th>\n",
              "      <th>payment</th>\n",
              "      <th>payment_type</th>\n",
              "      <th>water_quality</th>\n",
              "      <th>quality_group</th>\n",
              "      <th>quantity</th>\n",
              "      <th>quantity_group</th>\n",
              "      <th>source</th>\n",
              "      <th>source_type</th>\n",
              "      <th>source_class</th>\n",
              "      <th>waterpoint_type</th>\n",
              "      <th>waterpoint_type_group</th>\n",
              "    </tr>\n",
              "  </thead>\n",
              "  <tbody>\n",
              "    <tr>\n",
              "      <th>35800</th>\n",
              "      <td>5301</td>\n",
              "      <td>3000.0</td>\n",
              "      <td>2011-03-17</td>\n",
              "      <td>Roman</td>\n",
              "      <td>2060</td>\n",
              "      <td>DWE</td>\n",
              "      <td>34.737243</td>\n",
              "      <td>-9.711602</td>\n",
              "      <td>none</td>\n",
              "      <td>0</td>\n",
              "      <td>Lake Nyasa</td>\n",
              "      <td>Ulyalya</td>\n",
              "      <td>Iringa</td>\n",
              "      <td>11</td>\n",
              "      <td>5</td>\n",
              "      <td>Ludewa</td>\n",
              "      <td>Madilu</td>\n",
              "      <td>133</td>\n",
              "      <td>True</td>\n",
              "      <td>GeoData Consultants Ltd</td>\n",
              "      <td>VWC</td>\n",
              "      <td>Roman</td>\n",
              "      <td>False</td>\n",
              "      <td>2000</td>\n",
              "      <td>gravity</td>\n",
              "      <td>gravity</td>\n",
              "      <td>gravity</td>\n",
              "      <td>vwc</td>\n",
              "      <td>user-group</td>\n",
              "      <td>pay annually</td>\n",
              "      <td>annually</td>\n",
              "      <td>soft</td>\n",
              "      <td>good</td>\n",
              "      <td>enough</td>\n",
              "      <td>enough</td>\n",
              "      <td>spring</td>\n",
              "      <td>spring</td>\n",
              "      <td>groundwater</td>\n",
              "      <td>communal standpipe</td>\n",
              "      <td>communal standpipe</td>\n",
              "    </tr>\n",
              "  </tbody>\n",
              "</table>\n",
              "</div>"
            ],
            "text/plain": [
              "         id  amount_tsh  ...     waterpoint_type waterpoint_type_group\n",
              "35800  5301      3000.0  ...  communal standpipe    communal standpipe\n",
              "\n",
              "[1 rows x 40 columns]"
            ]
          },
          "metadata": {
            "tags": []
          },
          "execution_count": 4
        }
      ]
    },
    {
      "cell_type": "markdown",
      "metadata": {
        "id": "qH95f2kBIt3S",
        "colab_type": "text"
      },
      "source": [
        "## Best Features for Logistic Regression"
      ]
    },
    {
      "cell_type": "code",
      "metadata": {
        "id": "dI_IpLGyRWan",
        "colab_type": "code",
        "outputId": "511c6200-bef8-4707-bdfb-f1222584aa81",
        "colab": {
          "base_uri": "https://localhost:8080/",
          "height": 284
        }
      },
      "source": [
        "train_features.describe()"
      ],
      "execution_count": 5,
      "outputs": [
        {
          "output_type": "execute_result",
          "data": {
            "text/html": [
              "<div>\n",
              "<style scoped>\n",
              "    .dataframe tbody tr th:only-of-type {\n",
              "        vertical-align: middle;\n",
              "    }\n",
              "\n",
              "    .dataframe tbody tr th {\n",
              "        vertical-align: top;\n",
              "    }\n",
              "\n",
              "    .dataframe thead th {\n",
              "        text-align: right;\n",
              "    }\n",
              "</style>\n",
              "<table border=\"1\" class=\"dataframe\">\n",
              "  <thead>\n",
              "    <tr style=\"text-align: right;\">\n",
              "      <th></th>\n",
              "      <th>id</th>\n",
              "      <th>amount_tsh</th>\n",
              "      <th>gps_height</th>\n",
              "      <th>longitude</th>\n",
              "      <th>latitude</th>\n",
              "      <th>num_private</th>\n",
              "      <th>region_code</th>\n",
              "      <th>district_code</th>\n",
              "      <th>population</th>\n",
              "      <th>construction_year</th>\n",
              "    </tr>\n",
              "  </thead>\n",
              "  <tbody>\n",
              "    <tr>\n",
              "      <th>count</th>\n",
              "      <td>59400.000000</td>\n",
              "      <td>59400.000000</td>\n",
              "      <td>59400.000000</td>\n",
              "      <td>59400.000000</td>\n",
              "      <td>5.940000e+04</td>\n",
              "      <td>59400.000000</td>\n",
              "      <td>59400.000000</td>\n",
              "      <td>59400.000000</td>\n",
              "      <td>59400.000000</td>\n",
              "      <td>59400.000000</td>\n",
              "    </tr>\n",
              "    <tr>\n",
              "      <th>mean</th>\n",
              "      <td>37115.131768</td>\n",
              "      <td>317.650385</td>\n",
              "      <td>668.297239</td>\n",
              "      <td>34.077427</td>\n",
              "      <td>-5.706033e+00</td>\n",
              "      <td>0.474141</td>\n",
              "      <td>15.297003</td>\n",
              "      <td>5.629747</td>\n",
              "      <td>179.909983</td>\n",
              "      <td>1300.652475</td>\n",
              "    </tr>\n",
              "    <tr>\n",
              "      <th>std</th>\n",
              "      <td>21453.128371</td>\n",
              "      <td>2997.574558</td>\n",
              "      <td>693.116350</td>\n",
              "      <td>6.567432</td>\n",
              "      <td>2.946019e+00</td>\n",
              "      <td>12.236230</td>\n",
              "      <td>17.587406</td>\n",
              "      <td>9.633649</td>\n",
              "      <td>471.482176</td>\n",
              "      <td>951.620547</td>\n",
              "    </tr>\n",
              "    <tr>\n",
              "      <th>min</th>\n",
              "      <td>0.000000</td>\n",
              "      <td>0.000000</td>\n",
              "      <td>-90.000000</td>\n",
              "      <td>0.000000</td>\n",
              "      <td>-1.164944e+01</td>\n",
              "      <td>0.000000</td>\n",
              "      <td>1.000000</td>\n",
              "      <td>0.000000</td>\n",
              "      <td>0.000000</td>\n",
              "      <td>0.000000</td>\n",
              "    </tr>\n",
              "    <tr>\n",
              "      <th>25%</th>\n",
              "      <td>18519.750000</td>\n",
              "      <td>0.000000</td>\n",
              "      <td>0.000000</td>\n",
              "      <td>33.090347</td>\n",
              "      <td>-8.540621e+00</td>\n",
              "      <td>0.000000</td>\n",
              "      <td>5.000000</td>\n",
              "      <td>2.000000</td>\n",
              "      <td>0.000000</td>\n",
              "      <td>0.000000</td>\n",
              "    </tr>\n",
              "    <tr>\n",
              "      <th>50%</th>\n",
              "      <td>37061.500000</td>\n",
              "      <td>0.000000</td>\n",
              "      <td>369.000000</td>\n",
              "      <td>34.908743</td>\n",
              "      <td>-5.021597e+00</td>\n",
              "      <td>0.000000</td>\n",
              "      <td>12.000000</td>\n",
              "      <td>3.000000</td>\n",
              "      <td>25.000000</td>\n",
              "      <td>1986.000000</td>\n",
              "    </tr>\n",
              "    <tr>\n",
              "      <th>75%</th>\n",
              "      <td>55656.500000</td>\n",
              "      <td>20.000000</td>\n",
              "      <td>1319.250000</td>\n",
              "      <td>37.178387</td>\n",
              "      <td>-3.326156e+00</td>\n",
              "      <td>0.000000</td>\n",
              "      <td>17.000000</td>\n",
              "      <td>5.000000</td>\n",
              "      <td>215.000000</td>\n",
              "      <td>2004.000000</td>\n",
              "    </tr>\n",
              "    <tr>\n",
              "      <th>max</th>\n",
              "      <td>74247.000000</td>\n",
              "      <td>350000.000000</td>\n",
              "      <td>2770.000000</td>\n",
              "      <td>40.345193</td>\n",
              "      <td>-2.000000e-08</td>\n",
              "      <td>1776.000000</td>\n",
              "      <td>99.000000</td>\n",
              "      <td>80.000000</td>\n",
              "      <td>30500.000000</td>\n",
              "      <td>2013.000000</td>\n",
              "    </tr>\n",
              "  </tbody>\n",
              "</table>\n",
              "</div>"
            ],
            "text/plain": [
              "                 id     amount_tsh  ...    population  construction_year\n",
              "count  59400.000000   59400.000000  ...  59400.000000       59400.000000\n",
              "mean   37115.131768     317.650385  ...    179.909983        1300.652475\n",
              "std    21453.128371    2997.574558  ...    471.482176         951.620547\n",
              "min        0.000000       0.000000  ...      0.000000           0.000000\n",
              "25%    18519.750000       0.000000  ...      0.000000           0.000000\n",
              "50%    37061.500000       0.000000  ...     25.000000        1986.000000\n",
              "75%    55656.500000      20.000000  ...    215.000000        2004.000000\n",
              "max    74247.000000  350000.000000  ...  30500.000000        2013.000000\n",
              "\n",
              "[8 rows x 10 columns]"
            ]
          },
          "metadata": {
            "tags": []
          },
          "execution_count": 5
        }
      ]
    },
    {
      "cell_type": "code",
      "metadata": {
        "id": "7wQdd6JkRbP-",
        "colab_type": "code",
        "colab": {}
      },
      "source": [
        "# len(train_features['region_code'].value_counts().index)\n",
        "# .query('unique <= 21')\n",
        "# 11,17,12,3,5,18,19"
      ],
      "execution_count": 0,
      "outputs": []
    },
    {
      "cell_type": "code",
      "metadata": {
        "id": "UOOYGxlcMtxV",
        "colab_type": "code",
        "outputId": "c4df807b-7e15-425a-f3d1-d2d2e74c5f9e",
        "colab": {
          "base_uri": "https://localhost:8080/",
          "height": 219
        }
      },
      "source": [
        "train_features.describe(exclude='number').sort_values(by='unique', axis=1)"
      ],
      "execution_count": 7,
      "outputs": [
        {
          "output_type": "execute_result",
          "data": {
            "text/html": [
              "<div>\n",
              "<style scoped>\n",
              "    .dataframe tbody tr th:only-of-type {\n",
              "        vertical-align: middle;\n",
              "    }\n",
              "\n",
              "    .dataframe tbody tr th {\n",
              "        vertical-align: top;\n",
              "    }\n",
              "\n",
              "    .dataframe thead th {\n",
              "        text-align: right;\n",
              "    }\n",
              "</style>\n",
              "<table border=\"1\" class=\"dataframe\">\n",
              "  <thead>\n",
              "    <tr style=\"text-align: right;\">\n",
              "      <th></th>\n",
              "      <th>recorded_by</th>\n",
              "      <th>public_meeting</th>\n",
              "      <th>permit</th>\n",
              "      <th>source_class</th>\n",
              "      <th>management_group</th>\n",
              "      <th>quantity_group</th>\n",
              "      <th>quantity</th>\n",
              "      <th>waterpoint_type_group</th>\n",
              "      <th>quality_group</th>\n",
              "      <th>payment_type</th>\n",
              "      <th>source_type</th>\n",
              "      <th>waterpoint_type</th>\n",
              "      <th>extraction_type_class</th>\n",
              "      <th>payment</th>\n",
              "      <th>water_quality</th>\n",
              "      <th>basin</th>\n",
              "      <th>source</th>\n",
              "      <th>scheme_management</th>\n",
              "      <th>management</th>\n",
              "      <th>extraction_type_group</th>\n",
              "      <th>extraction_type</th>\n",
              "      <th>region</th>\n",
              "      <th>lga</th>\n",
              "      <th>date_recorded</th>\n",
              "      <th>funder</th>\n",
              "      <th>ward</th>\n",
              "      <th>installer</th>\n",
              "      <th>scheme_name</th>\n",
              "      <th>subvillage</th>\n",
              "      <th>wpt_name</th>\n",
              "    </tr>\n",
              "  </thead>\n",
              "  <tbody>\n",
              "    <tr>\n",
              "      <th>count</th>\n",
              "      <td>59400</td>\n",
              "      <td>56066</td>\n",
              "      <td>56344</td>\n",
              "      <td>59400</td>\n",
              "      <td>59400</td>\n",
              "      <td>59400</td>\n",
              "      <td>59400</td>\n",
              "      <td>59400</td>\n",
              "      <td>59400</td>\n",
              "      <td>59400</td>\n",
              "      <td>59400</td>\n",
              "      <td>59400</td>\n",
              "      <td>59400</td>\n",
              "      <td>59400</td>\n",
              "      <td>59400</td>\n",
              "      <td>59400</td>\n",
              "      <td>59400</td>\n",
              "      <td>55523</td>\n",
              "      <td>59400</td>\n",
              "      <td>59400</td>\n",
              "      <td>59400</td>\n",
              "      <td>59400</td>\n",
              "      <td>59400</td>\n",
              "      <td>59400</td>\n",
              "      <td>55765</td>\n",
              "      <td>59400</td>\n",
              "      <td>55745</td>\n",
              "      <td>31234</td>\n",
              "      <td>59029</td>\n",
              "      <td>59400</td>\n",
              "    </tr>\n",
              "    <tr>\n",
              "      <th>unique</th>\n",
              "      <td>1</td>\n",
              "      <td>2</td>\n",
              "      <td>2</td>\n",
              "      <td>3</td>\n",
              "      <td>5</td>\n",
              "      <td>5</td>\n",
              "      <td>5</td>\n",
              "      <td>6</td>\n",
              "      <td>6</td>\n",
              "      <td>7</td>\n",
              "      <td>7</td>\n",
              "      <td>7</td>\n",
              "      <td>7</td>\n",
              "      <td>7</td>\n",
              "      <td>8</td>\n",
              "      <td>9</td>\n",
              "      <td>10</td>\n",
              "      <td>12</td>\n",
              "      <td>12</td>\n",
              "      <td>13</td>\n",
              "      <td>18</td>\n",
              "      <td>21</td>\n",
              "      <td>125</td>\n",
              "      <td>356</td>\n",
              "      <td>1897</td>\n",
              "      <td>2092</td>\n",
              "      <td>2145</td>\n",
              "      <td>2696</td>\n",
              "      <td>19287</td>\n",
              "      <td>37400</td>\n",
              "    </tr>\n",
              "    <tr>\n",
              "      <th>top</th>\n",
              "      <td>GeoData Consultants Ltd</td>\n",
              "      <td>True</td>\n",
              "      <td>True</td>\n",
              "      <td>groundwater</td>\n",
              "      <td>user-group</td>\n",
              "      <td>enough</td>\n",
              "      <td>enough</td>\n",
              "      <td>communal standpipe</td>\n",
              "      <td>good</td>\n",
              "      <td>never pay</td>\n",
              "      <td>spring</td>\n",
              "      <td>communal standpipe</td>\n",
              "      <td>gravity</td>\n",
              "      <td>never pay</td>\n",
              "      <td>soft</td>\n",
              "      <td>Lake Victoria</td>\n",
              "      <td>spring</td>\n",
              "      <td>VWC</td>\n",
              "      <td>vwc</td>\n",
              "      <td>gravity</td>\n",
              "      <td>gravity</td>\n",
              "      <td>Iringa</td>\n",
              "      <td>Njombe</td>\n",
              "      <td>2011-03-15</td>\n",
              "      <td>Government Of Tanzania</td>\n",
              "      <td>Igosi</td>\n",
              "      <td>DWE</td>\n",
              "      <td>K</td>\n",
              "      <td>Madukani</td>\n",
              "      <td>none</td>\n",
              "    </tr>\n",
              "    <tr>\n",
              "      <th>freq</th>\n",
              "      <td>59400</td>\n",
              "      <td>51011</td>\n",
              "      <td>38852</td>\n",
              "      <td>45794</td>\n",
              "      <td>52490</td>\n",
              "      <td>33186</td>\n",
              "      <td>33186</td>\n",
              "      <td>34625</td>\n",
              "      <td>50818</td>\n",
              "      <td>25348</td>\n",
              "      <td>17021</td>\n",
              "      <td>28522</td>\n",
              "      <td>26780</td>\n",
              "      <td>25348</td>\n",
              "      <td>50818</td>\n",
              "      <td>10248</td>\n",
              "      <td>17021</td>\n",
              "      <td>36793</td>\n",
              "      <td>40507</td>\n",
              "      <td>26780</td>\n",
              "      <td>26780</td>\n",
              "      <td>5294</td>\n",
              "      <td>2503</td>\n",
              "      <td>572</td>\n",
              "      <td>9084</td>\n",
              "      <td>307</td>\n",
              "      <td>17402</td>\n",
              "      <td>682</td>\n",
              "      <td>508</td>\n",
              "      <td>3563</td>\n",
              "    </tr>\n",
              "  </tbody>\n",
              "</table>\n",
              "</div>"
            ],
            "text/plain": [
              "                    recorded_by public_meeting  ... subvillage wpt_name\n",
              "count                     59400          56066  ...      59029    59400\n",
              "unique                        1              2  ...      19287    37400\n",
              "top     GeoData Consultants Ltd           True  ...   Madukani     none\n",
              "freq                      59400          51011  ...        508     3563\n",
              "\n",
              "[4 rows x 30 columns]"
            ]
          },
          "metadata": {
            "tags": []
          },
          "execution_count": 7
        }
      ]
    },
    {
      "cell_type": "code",
      "metadata": {
        "id": "zhSj0it3VfcL",
        "colab_type": "code",
        "outputId": "0b928ad9-ed51-4286-f367-12c0a1dd3d3d",
        "colab": {
          "base_uri": "https://localhost:8080/",
          "height": 118
        }
      },
      "source": [
        "train_features['quantity'].value_counts()"
      ],
      "execution_count": 8,
      "outputs": [
        {
          "output_type": "execute_result",
          "data": {
            "text/plain": [
              "enough          33186\n",
              "insufficient    15129\n",
              "dry              6246\n",
              "seasonal         4050\n",
              "unknown           789\n",
              "Name: quantity, dtype: int64"
            ]
          },
          "metadata": {
            "tags": []
          },
          "execution_count": 8
        }
      ]
    },
    {
      "cell_type": "code",
      "metadata": {
        "id": "P3RbJN66Iaiq",
        "colab_type": "code",
        "colab": {}
      },
      "source": [
        "# feature engineer\n",
        "# train_features['enough_source'] = (train_features['quantity_group']=='enough')|(train_features['quantity']=='enough')\n",
        "# train_features['shallow_well_source'] = (train_features['source']=='shallow well')|(train_features['source_type']=='shallow well')\n",
        "# train_features['spring_source'] = (train_features['source']=='spring')|(train_features['source_type']=='spring')\n",
        "# train_features['communal_standpipe_waterpoint'] = (train_features['waterpoint_type']=='communal standpipe')&(train_features['waterpoint_type_group']=='communal standpipe')\n",
        "# train_features['handpump'] = (train_features['extraction_type_class']=='handpump')|(train_features['waterpoint_type']=='hand pump')|(train_features['waterpoint_type_group']=='hand pump')\n",
        "# train_features['never_pay'] = (train_features['payment']=='never pay')|(train_features['payment_type']=='never pay')\n",
        "# train_features['soft_good_quality'] = (train_features['water_quality']=='soft')|(train_features['quality_group']=='good')\n",
        "# train_features['Victoria_basin'] = train_features['basin']=='Lake Victoria'\n",
        "# train_features['2_source'] = (train_features['source']=='spring')&(train_features['source']=='shallow well')\n",
        "# train_features['vwc_management'] = (train_features['management']=='vwc')|(train_features['scheme_management']=='VWC')\n",
        "# train_features['gravity_extraction'] = (train_features['extraction_type']=='gravity')|(train_features['extraction_type_group']=='gravity')|(train_features['extraction_type_class']=='gravity')\n",
        "# train_features['3_region'] = (train_features['region']=='Iringa')&(train_features['region']=='Shinyanga')&(train_features['region']=='Mbeya')\n",
        "# train_features['region_code_11'] = train_features['region_code']==11\n",
        "# train_features['region_code_17'] = train_features['region_code']==17\n",
        "# train_features['region_code_12'] = train_features['region_code']==12\n",
        "# train_features['Njombe_lga'] = train_features['lga']=='Njombe'\n",
        "train_features['gov_funder'] = train_features['funder']=='Government Of Tanzania'\n",
        "train_features['Igosi_ward'] = train_features['ward']=='Igosi'\n",
        "train_features['Imalinyi_ward'] = train_features['ward']=='Imalinyi'\n",
        "train_features['Siha_ward'] = train_features['ward']=='Siha'\n",
        "train_features['gov_installer'] = train_features['installer']=='Government'\n",
        "train_features['dwe_installer'] = train_features['installer']=='DWE'\n",
        "train_features['none_scheme_name'] = train_features['scheme_name']=='None'\n",
        "train_features['gov_scheme_name'] = train_features['scheme_name']=='Government'\n",
        "train_features['Madukani_subvillage'] = train_features['subvillage']=='Madukani'\n",
        "train_features['Shuleni_subvillage'] = train_features['subvillage']=='Shuleni'\n",
        "train_features['Majengo_subvillage'] = train_features['subvillage']=='Majengo'   \n",
        "train_features['none_wpt'] = train_features['wpt_name']=='none'\n",
        "train_features['Shuleni_wpt'] = train_features['wpt_name']=='Shuleni'\n",
        "train_features['dwe'] = (train_features['installer']=='DWE')&(train_features['funder']=='Dwe')\n",
        "train_features['gov_install_fund'] = (train_features['installer']=='Government')&(train_features['funder']=='Government Of Tanzania')\n",
        "train_features['gov'] = (train_features['installer']=='Government')&(train_features['funder']=='Government Of Tanzania')&(train_features['scheme_name']=='Government')"
      ],
      "execution_count": 0,
      "outputs": []
    },
    {
      "cell_type": "code",
      "metadata": {
        "id": "rxkhDwYRdjEX",
        "colab_type": "code",
        "colab": {}
      },
      "source": [
        "test_features['gov_funder'] = test_features['funder']=='Government Of Tanzania'\n",
        "test_features['Igosi_ward'] = test_features['ward']=='Igosi'\n",
        "test_features['Imalinyi_ward'] = test_features['ward']=='Imalinyi'\n",
        "test_features['Siha_ward'] = test_features['ward']=='Siha'\n",
        "test_features['gov_installer'] = test_features['installer']=='Government'\n",
        "test_features['dwe_installer'] = test_features['installer']=='DWE'\n",
        "test_features['none_scheme_name'] = test_features['scheme_name']=='None'\n",
        "test_features['gov_scheme_name'] = test_features['scheme_name']=='Government'\n",
        "test_features['Madukani_subvillage'] = test_features['subvillage']=='Madukani'\n",
        "test_features['Shuleni_subvillage'] = test_features['subvillage']=='Shuleni'\n",
        "test_features['Majengo_subvillage'] = test_features['subvillage']=='Majengo'   \n",
        "test_features['none_wpt'] = test_features['wpt_name']=='none'\n",
        "test_features['Shuleni_wpt'] = test_features['wpt_name']=='Shuleni'\n",
        "test_features['dwe'] = (test_features['installer']=='DWE')&(test_features['funder']=='Dwe')\n",
        "test_features['gov_install_fund'] = (test_features['installer']=='Government')&(test_features['funder']=='Government Of Tanzania')\n",
        "test_features['gov'] = (test_features['installer']=='Government')&(test_features['funder']=='Government Of Tanzania')&(test_features['scheme_name']=='Government')"
      ],
      "execution_count": 0,
      "outputs": []
    },
    {
      "cell_type": "code",
      "metadata": {
        "id": "osINdJZZINf8",
        "colab_type": "code",
        "outputId": "7016326c-6c16-432a-a9ad-ea2e4b55492b",
        "colab": {
          "base_uri": "https://localhost:8080/",
          "height": 34
        }
      },
      "source": [
        "# train_test_split\n",
        "X_train = train_features\n",
        "y_train = train_labels['status_group']\n",
        "\n",
        "X_train, X_val, y_train, y_val = train_test_split(\n",
        "    X_train, y_train, train_size=0.8, test_size=.2,\n",
        "    stratify=y_train, random_state=42)\n",
        "\n",
        "X_train.shape, X_val.shape, y_train.shape, y_val.shape"
      ],
      "execution_count": 11,
      "outputs": [
        {
          "output_type": "execute_result",
          "data": {
            "text/plain": [
              "((47520, 56), (11880, 56), (47520,), (11880,))"
            ]
          },
          "metadata": {
            "tags": []
          },
          "execution_count": 11
        }
      ]
    },
    {
      "cell_type": "code",
      "metadata": {
        "id": "XgVJplYxmsFy",
        "colab_type": "code",
        "colab": {
          "base_uri": "https://localhost:8080/",
          "height": 269
        },
        "outputId": "f889099a-e942-4d88-cf38-636f59e94c1e"
      },
      "source": [
        "X_val.columns"
      ],
      "execution_count": 12,
      "outputs": [
        {
          "output_type": "execute_result",
          "data": {
            "text/plain": [
              "Index(['id', 'amount_tsh', 'date_recorded', 'funder', 'gps_height',\n",
              "       'installer', 'longitude', 'latitude', 'wpt_name', 'num_private',\n",
              "       'basin', 'subvillage', 'region', 'region_code', 'district_code', 'lga',\n",
              "       'ward', 'population', 'public_meeting', 'recorded_by',\n",
              "       'scheme_management', 'scheme_name', 'permit', 'construction_year',\n",
              "       'extraction_type', 'extraction_type_group', 'extraction_type_class',\n",
              "       'management', 'management_group', 'payment', 'payment_type',\n",
              "       'water_quality', 'quality_group', 'quantity', 'quantity_group',\n",
              "       'source', 'source_type', 'source_class', 'waterpoint_type',\n",
              "       'waterpoint_type_group', 'gov_funder', 'Igosi_ward', 'Imalinyi_ward',\n",
              "       'Siha_ward', 'gov_installer', 'dwe_installer', 'none_scheme_name',\n",
              "       'gov_scheme_name', 'Madukani_subvillage', 'Shuleni_subvillage',\n",
              "       'Majengo_subvillage', 'none_wpt', 'Shuleni_wpt', 'dwe',\n",
              "       'gov_install_fund', 'gov'],\n",
              "      dtype='object')"
            ]
          },
          "metadata": {
            "tags": []
          },
          "execution_count": 12
        }
      ]
    },
    {
      "cell_type": "code",
      "metadata": {
        "id": "HWvJ1lE1IXSS",
        "colab_type": "code",
        "colab": {}
      },
      "source": [
        "# categorical codes\n",
        "# df.interest_level = pd.Categorical(df.interest_level)\n",
        "# df['interest_code'] = df.interest_level.cat.codes"
      ],
      "execution_count": 0,
      "outputs": []
    },
    {
      "cell_type": "code",
      "metadata": {
        "id": "BJL6GIpvIc3D",
        "colab_type": "code",
        "colab": {
          "base_uri": "https://localhost:8080/",
          "height": 34
        },
        "outputId": "7669f595-c7fa-4743-dd4b-6d346acb27f7"
      },
      "source": [
        "categorical_features = X_train.describe(exclude='number').T.query('unique <= 400').index.drop(['recorded_by']).tolist()\n",
        "numeric_features = X_train.select_dtypes('number').columns.drop(['id']).tolist()\n",
        "features = categorical_features + numeric_features\n",
        "\n",
        "X_train_subset = X_train[features]\n",
        "X_val_subset = X_val[features]\n",
        "\n",
        "encoder = ce.OneHotEncoder(use_cat_names=True)\n",
        "X_train_encoded = encoder.fit_transform(X_train_subset)\n",
        "X_val_encoded = encoder.transform(X_val_subset)\n",
        "\n",
        "scaler = StandardScaler()\n",
        "X_train_scaled = scaler.fit_transform(X_train_encoded)\n",
        "X_val_scaled = scaler.transform(X_val_encoded)\n",
        "\n",
        "model = LogisticRegression(solver='lbfgs', multi_class='auto', max_iter=1000)\n",
        "model.fit(X_train_scaled, y_train)\n",
        "score = model.score(X_val_scaled, y_val)\n",
        "print('Validation Accuracy: {:5.4f}%'.format(score*100))"
      ],
      "execution_count": 14,
      "outputs": [
        {
          "output_type": "stream",
          "text": [
            "Validation Accuracy: 75.5724%\n"
          ],
          "name": "stdout"
        }
      ]
    },
    {
      "cell_type": "code",
      "metadata": {
        "id": "uwe7R5KLdYNG",
        "colab_type": "code",
        "colab": {}
      },
      "source": [
        "# Validation Accuracy: 76.6751% 'unique <= 2000'\n",
        "# Validation Accuracy: 75.5724% 'unique <= 400'\n",
        "# Validation Accuracy: 75.0673% 'unique <= 200'"
      ],
      "execution_count": 0,
      "outputs": []
    },
    {
      "cell_type": "code",
      "metadata": {
        "id": "gD0gNLQkIeZ7",
        "colab_type": "code",
        "colab": {}
      },
      "source": [
        "# Validation Accuracy: 75.5724% 'unique <= 400'\n",
        "categorical_features = X_train.describe(exclude='number').T.query('unique <= 400').index.drop(['recorded_by']).tolist()\n",
        "numeric_features = X_train.select_dtypes('number').columns.drop(['id']).tolist()\n",
        "features = categorical_features + numeric_features\n",
        "\n",
        "# longitude, district_code, water_quality\n",
        "# 0: 73.7710\n",
        "# 1: longitude - \n",
        "# 2: district_code - \n",
        "# 3: water_quality - "
      ],
      "execution_count": 0,
      "outputs": []
    },
    {
      "cell_type": "code",
      "metadata": {
        "id": "Z2EJdZIfIftk",
        "colab_type": "code",
        "outputId": "413f6675-ff94-4138-dad0-47c52c24b391",
        "colab": {
          "base_uri": "https://localhost:8080/",
          "height": 50
        }
      },
      "source": [
        "new_f_score = []\n",
        "for feature in features:\n",
        "  f_drop = features.copy()\n",
        "  f_drop.remove(feature)\n",
        "  X_train_subset = X_train[f_drop]\n",
        "  X_val_subset = X_val[f_drop]\n",
        "\n",
        "  encoder = ce.OneHotEncoder(use_cat_names=True)\n",
        "  X_train_encoded = encoder.fit_transform(X_train_subset)\n",
        "  X_val_encoded = encoder.transform(X_val_subset)\n",
        "\n",
        "  scaler = StandardScaler()\n",
        "  X_train_scaled = scaler.fit_transform(X_train_encoded)\n",
        "  X_val_scaled = scaler.transform(X_val_encoded)\n",
        "\n",
        "  model_drop = LogisticRegression(solver='lbfgs', multi_class='auto', max_iter=1000)\n",
        "  model_drop.fit(X_train_scaled, y_train)\n",
        "  print(feature, model_drop.score(X_val_scaled, y_val)*100)\n",
        "  if model_drop.score(X_val_scaled, y_val) > score:\n",
        "    score = model_drop.score(X_val_scaled, y_val)\n",
        "    new_f_score = [feature, score]\n",
        "new_f_score"
      ],
      "execution_count": 0,
      "outputs": [
        {
          "output_type": "stream",
          "text": [
            "date_recorded 75.07575757575758\n",
            "basin 75.53030303030303\n"
          ],
          "name": "stdout"
        }
      ]
    },
    {
      "cell_type": "code",
      "metadata": {
        "id": "g8YNREqXkpe8",
        "colab_type": "code",
        "colab": {}
      },
      "source": [
        "categorical_features = X_train.describe(exclude='number').T.query('unique <= 3000').index.drop(['recorded_by']).tolist()\n",
        "numeric_features = X_train.select_dtypes('number').columns.drop(['id']).tolist()\n",
        "features = categorical_features + numeric_features\n",
        "\n",
        "X_train_subset = X_train[features]\n",
        "X_val_subset = X_val[features]\n",
        "\n",
        "encoder = ce.OneHotEncoder(use_cat_names=True)\n",
        "X_train_encoded = encoder.fit_transform(X_train_subset)\n",
        "X_val_encoded = encoder.transform(X_val_subset)"
      ],
      "execution_count": 0,
      "outputs": []
    },
    {
      "cell_type": "code",
      "metadata": {
        "id": "IJ7_F94tmhoP",
        "colab_type": "code",
        "colab": {}
      },
      "source": [
        "# scaler = StandardScaler()\n",
        "# X_train_scaled = scaler.fit_transform(X_train_encoded)\n",
        "# X_val_scaled = scaler.transform(X_val_encoded)"
      ],
      "execution_count": 0,
      "outputs": []
    },
    {
      "cell_type": "code",
      "metadata": {
        "id": "zaN49SV1qP4C",
        "colab_type": "code",
        "colab": {
          "base_uri": "https://localhost:8080/",
          "height": 134
        },
        "outputId": "074a3b91-9cf9-427f-982d-93ec80f5c322"
      },
      "source": [
        "model = LogisticRegression(solver='lbfgs', multi_class='auto', max_iter=1000)\n",
        "model.fit(X_train_encoded, y_train)"
      ],
      "execution_count": 18,
      "outputs": [
        {
          "output_type": "stream",
          "text": [
            "/usr/local/lib/python3.6/dist-packages/sklearn/linear_model/logistic.py:947: ConvergenceWarning: lbfgs failed to converge. Increase the number of iterations.\n",
            "  \"of iterations.\", ConvergenceWarning)\n"
          ],
          "name": "stderr"
        },
        {
          "output_type": "execute_result",
          "data": {
            "text/plain": [
              "LogisticRegression(C=1.0, class_weight=None, dual=False, fit_intercept=True,\n",
              "                   intercept_scaling=1, l1_ratio=None, max_iter=1000,\n",
              "                   multi_class='auto', n_jobs=None, penalty='l2',\n",
              "                   random_state=None, solver='lbfgs', tol=0.0001, verbose=0,\n",
              "                   warm_start=False)"
            ]
          },
          "metadata": {
            "tags": []
          },
          "execution_count": 18
        }
      ]
    },
    {
      "cell_type": "markdown",
      "metadata": {
        "colab_type": "text",
        "id": "ZfVECpN7J6gb"
      },
      "source": [
        "### Get & plot coefficients"
      ]
    },
    {
      "cell_type": "code",
      "metadata": {
        "colab_type": "code",
        "id": "9nHkKk5XKwVm",
        "colab": {}
      },
      "source": [
        "%matplotlib inline\n",
        "import matplotlib.pyplot as plt\n",
        "plt.figure(figsize=(30, 30))\n",
        "\n",
        "coefficients = pd.Series(model.coef_[0], X_train_encoded.columns)\n",
        "coefficients.sort_values().plot.barh();"
      ],
      "execution_count": 0,
      "outputs": []
    },
    {
      "cell_type": "markdown",
      "metadata": {
        "colab_type": "text",
        "id": "ZhUzucgPr_he"
      },
      "source": [
        "## Submit to predictive modeling competition\n",
        "\n",
        "\n",
        "### Write submission CSV file\n",
        "\n",
        "The format for the submission file is simply the row id and the predicted label (for an example, see `sample_submission.csv` on the data download page.\n",
        "\n",
        "For example, if you just predicted that all the waterpoints were functional you would have the following predictions:\n",
        "\n",
        "<pre>id,status_group\n",
        "50785,functional\n",
        "51630,functional\n",
        "17168,functional\n",
        "45559,functional\n",
        "49871,functional\n",
        "</pre>\n",
        "\n",
        "Your code to generate a submission file may look like this: \n",
        "<pre># estimator is your scikit-learn estimator, which you've fit on X_train\n",
        "\n",
        "# X_test is your pandas dataframe or numpy array, \n",
        "# with the same number of rows, in the same order, as test_features.csv, \n",
        "# and the same number of columns, in the same order, as X_train\n",
        "\n",
        "y_pred = estimator.predict(X_test)\n",
        "\n",
        "\n",
        "# Makes a dataframe with two columns, id and status_group, \n",
        "# and writes to a csv file, without the index\n",
        "\n",
        "sample_submission = pd.read_csv('sample_submission.csv')\n",
        "submission = sample_submission.copy()\n",
        "submission['status_group'] = y_pred\n",
        "submission.to_csv('your-submission-filename.csv', index=False)\n",
        "</pre>"
      ]
    },
    {
      "cell_type": "code",
      "metadata": {
        "colab_type": "code",
        "id": "yRitgZ_ULx6K",
        "outputId": "0bf7ead1-cf61-4f90-f3f9-593bc8439d6a",
        "colab": {
          "base_uri": "https://localhost:8080/",
          "height": 34
        }
      },
      "source": [
        "X_test_subset = test_features[features]\n",
        "X_test_encoded = encoder.transform(X_test_subset)\n",
        "# X_test_scaled = scaler.transform(X_test_encoded)\n",
        "all(X_test_encoded.columns == X_train_encoded.columns)"
      ],
      "execution_count": 13,
      "outputs": [
        {
          "output_type": "execute_result",
          "data": {
            "text/plain": [
              "True"
            ]
          },
          "metadata": {
            "tags": []
          },
          "execution_count": 13
        }
      ]
    },
    {
      "cell_type": "code",
      "metadata": {
        "id": "uDw0PBCeJO3d",
        "colab_type": "code",
        "colab": {}
      },
      "source": [
        "# y_pred = model.predict(X_test_scaled)\n",
        "y_pred = model.predict(X_test_encoded)\n",
        "submission = sample_submission.copy()\n",
        "submission['status_group'] = y_pred\n",
        "submission.to_csv('submission-01.csv', index=False)"
      ],
      "execution_count": 0,
      "outputs": []
    },
    {
      "cell_type": "code",
      "metadata": {
        "id": "nL0G_S3OJQwd",
        "colab_type": "code",
        "outputId": "ebb250ef-ac4f-43a1-a8f8-2e2f2d8cb842",
        "colab": {
          "base_uri": "https://localhost:8080/",
          "height": 185
        }
      },
      "source": [
        "!head submission-01.csv"
      ],
      "execution_count": 20,
      "outputs": [
        {
          "output_type": "stream",
          "text": [
            "id,status_group\n",
            "50785,non functional\n",
            "51630,non functional\n",
            "17168,non functional\n",
            "45559,non functional\n",
            "49871,functional\n",
            "52449,functional\n",
            "24806,functional\n",
            "28965,non functional\n",
            "36301,functional\n"
          ],
          "name": "stdout"
        }
      ]
    },
    {
      "cell_type": "markdown",
      "metadata": {
        "colab_type": "text",
        "id": "PpG9knom1FN7"
      },
      "source": [
        "### Send submission CSV file to Kaggle\n",
        "\n",
        "#### Option 1. Kaggle web UI\n",
        " \n",
        "Go to our Kaggle InClass competition webpage. Use the blue **Submit Predictions** button to upload your CSV file.\n",
        "\n",
        "\n",
        "#### Option 2. Kaggle API\n",
        "\n",
        "Use the Kaggle API to upload your CSV file."
      ]
    }
  ]
}