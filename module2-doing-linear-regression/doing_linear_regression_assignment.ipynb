{
 "cells": [
  {
   "cell_type": "code",
   "execution_count": 1,
   "metadata": {
    "colab": {},
    "colab_type": "code",
    "id": "qEeVFTa0VWDE"
   },
   "outputs": [],
   "source": [
    "# importing data...\n",
    "\n",
    "LOCAL = '../data/nyc/nyc-rent-2016.csv'\n",
    "WEB = 'https://raw.githubusercontent.com/LambdaSchool/DS-Unit-2-Linear-Models/master/data/nyc/nyc-rent-2016.csv'\n",
    "\n",
    "import pandas as pd\n",
    "df = pd.read_csv(WEB)"
   ]
  },
  {
   "cell_type": "code",
   "execution_count": 3,
   "metadata": {
    "colab": {},
    "colab_type": "code",
    "id": "FYLE4Dzwskn-"
   },
   "outputs": [],
   "source": [
    "# getting data ready for test/train split...\n",
    "\n",
    "df['created'] = pd.to_datetime(df['created'], infer_datetime_format=True)\n",
    "df['month'] = df['created'].dt.month"
   ]
  },
  {
   "cell_type": "code",
   "execution_count": 4,
   "metadata": {},
   "outputs": [],
   "source": [
    "# test/train split...\n",
    "\n",
    "train = df.query('month < 6')\n",
    "test = df.query('month == 6')"
   ]
  },
  {
   "cell_type": "code",
   "execution_count": 5,
   "metadata": {},
   "outputs": [
    {
     "data": {
      "text/plain": [
       "1052.5193327375632"
      ]
     },
     "execution_count": 5,
     "metadata": {},
     "output_type": "execute_result"
    }
   ],
   "source": [
    "# making a baseline model and calculating baseline error...\n",
    "\n",
    "import numpy as np\n",
    "from sklearn.metrics import mean_absolute_error\n",
    "\n",
    "y_test = test['price']\n",
    "y_pred = np.full_like(y_test, fill_value = train['price'].mean())\n",
    "\n",
    "mean_absolute_error(y_test, y_pred)"
   ]
  },
  {
   "cell_type": "code",
   "execution_count": null,
   "metadata": {},
   "outputs": [],
   "source": [
    "# some initial data exploration...\n",
    "\n",
    "import pandas_profiling\n",
    "df.profile_report()"
   ]
  },
  {
   "cell_type": "code",
   "execution_count": 26,
   "metadata": {},
   "outputs": [
    {
     "data": {
      "text/plain": [
       "longitude              -0.315100\n",
       "latitude               -0.074995\n",
       "pre-war                -0.032525\n",
       "loft                   -0.030919\n",
       "exclusive              -0.020510\n",
       "laundry_in_building    -0.010473\n",
       "month                   0.011583\n",
       "common_outdoor_space    0.023859\n",
       "wheelchair_access       0.057820\n",
       "new_construction        0.059502\n",
       "cats_allowed            0.071227\n",
       "dogs_allowed            0.079009\n",
       "garden_patio            0.093430\n",
       "high_speed_internet     0.097360\n",
       "hardwood_floors         0.103603\n",
       "swimming_pool           0.121068\n",
       "terrace                 0.125204\n",
       "balcony                 0.133662\n",
       "roof_deck               0.136020\n",
       "no_fee                  0.143255\n",
       "outdoor_space           0.146489\n",
       "dining_room             0.195146\n",
       "elevator                0.221581\n",
       "dishwasher              0.239491\n",
       "fitness_center          0.240836\n",
       "laundry_in_unit         0.245388\n",
       "doorman                 0.289534\n",
       "bedrooms                0.559335\n",
       "bathrooms               0.627443\n",
       "price                   1.000000\n",
       "Name: price, dtype: float64"
      ]
     },
     "execution_count": 26,
     "metadata": {},
     "output_type": "execute_result"
    }
   ],
   "source": [
    "# looking at features correlated with price...\n",
    "\n",
    "df.corr()['price'].sort_values()"
   ]
  },
  {
   "cell_type": "code",
   "execution_count": 24,
   "metadata": {},
   "outputs": [
    {
     "data": {
      "text/plain": [
       "price                   1.000000\n",
       "bathrooms               0.627443\n",
       "bedrooms                0.559335\n",
       "longitude               0.315100\n",
       "doorman                 0.289534\n",
       "laundry_in_unit         0.245388\n",
       "fitness_center          0.240836\n",
       "dishwasher              0.239491\n",
       "elevator                0.221581\n",
       "dining_room             0.195146\n",
       "outdoor_space           0.146489\n",
       "no_fee                  0.143255\n",
       "roof_deck               0.136020\n",
       "balcony                 0.133662\n",
       "terrace                 0.125204\n",
       "swimming_pool           0.121068\n",
       "hardwood_floors         0.103603\n",
       "high_speed_internet     0.097360\n",
       "garden_patio            0.093430\n",
       "dogs_allowed            0.079009\n",
       "latitude                0.074995\n",
       "cats_allowed            0.071227\n",
       "new_construction        0.059502\n",
       "wheelchair_access       0.057820\n",
       "pre-war                 0.032525\n",
       "loft                    0.030919\n",
       "common_outdoor_space    0.023859\n",
       "exclusive               0.020510\n",
       "month                   0.011583\n",
       "laundry_in_building     0.010473\n",
       "Name: price, dtype: float64"
      ]
     },
     "execution_count": 24,
     "metadata": {},
     "output_type": "execute_result"
    }
   ],
   "source": [
    "# looking at features with highest absolute correlation with price...\n",
    "\n",
    "df.corr().abs()['price'].sort_values(ascending=False)"
   ]
  },
  {
   "cell_type": "code",
   "execution_count": 91,
   "metadata": {
    "colab": {},
    "colab_type": "code",
    "id": "Jf6r8sCDccDv"
   },
   "outputs": [
    {
     "name": "stdout",
     "output_type": "stream",
     "text": [
      "Test MAE: 599.4899541709211 \n",
      "\n",
      "Intercept\t  3432.7534190069305\n",
      "bedrooms                 553.813681\n",
      "bathrooms                523.917951\n",
      "doorman                  181.321281\n",
      "laundry_in_unit          114.748209\n",
      "dishwasher                 1.063386\n",
      "elevator                  74.662149\n",
      "longitude               -362.374467\n",
      "pre-war                  -36.317437\n",
      "exclusive                 20.706651\n",
      "laundry_in_building      -31.280502\n",
      "interest_level_high     -111.508530\n",
      "interest_level_low       135.086621\n",
      "interest_level_medium    -76.815826\n",
      "dtype: float64\n"
     ]
    }
   ],
   "source": [
    "# doing linear regression with multiple features and one-hot encoding on \n",
    "# interest_level, printing mean absolute error, coefficients and intercept...\n",
    "\n",
    "from sklearn.linear_model import LinearRegression\n",
    "import category_encoders as ce\n",
    "from sklearn.preprocessing import StandardScaler\n",
    "import warnings; warnings.simplefilter('ignore')\n",
    "\n",
    "features = [\n",
    "    'bedrooms',\n",
    "    'bathrooms',\n",
    "    'doorman', \n",
    "    'laundry_in_unit',\n",
    "    'dishwasher',\n",
    "    'elevator',\n",
    "    'longitude',\n",
    "    'pre-war',\n",
    "    'exclusive',\n",
    "    'laundry_in_building',\n",
    "    'interest_level',\n",
    "]\n",
    "target = 'price'\n",
    "\n",
    "X_train = train[features]\n",
    "y_train = train[target]\n",
    "\n",
    "X_test = test[features]\n",
    "y_test = test[target]\n",
    "\n",
    "encoder = ce.OneHotEncoder(use_cat_names=True)\n",
    "X_train = encoder.fit_transform(X_train)\n",
    "X_test = encoder.transform(X_test)\n",
    "\n",
    "scaler = StandardScaler()\n",
    "X_train = scaler.fit_transform(X_train)\n",
    "X_test = scaler.transform(X_test)\n",
    "\n",
    "model = LinearRegression()\n",
    "model.fit(X_train, y_train)\n",
    "y_pred = model.predict(X_test)\n",
    "\n",
    "print('Test MAE:', mean_absolute_error(y_test, y_pred), '\\n')\n",
    "print('Intercept\\t ', model.intercept_)\n",
    "\n",
    "features.remove('interest_level')\n",
    "features.append('interest_level_high')\n",
    "features.append('interest_level_low')\n",
    "features.append('interest_level_medium')\n",
    "\n",
    "print(pd.Series(model.coef_, features))"
   ]
  }
 ],
 "metadata": {
  "colab": {
   "collapsed_sections": [],
   "name": "doing_linear_regression.ipynb",
   "provenance": [],
   "version": "0.3.2"
  },
  "kernelspec": {
   "display_name": "Python 3",
   "language": "python",
   "name": "python3"
  },
  "language_info": {
   "codemirror_mode": {
    "name": "ipython",
    "version": 3
   },
   "file_extension": ".py",
   "mimetype": "text/x-python",
   "name": "python",
   "nbconvert_exporter": "python",
   "pygments_lexer": "ipython3",
   "version": "3.7.3"
  }
 },
 "nbformat": 4,
 "nbformat_minor": 1
}
