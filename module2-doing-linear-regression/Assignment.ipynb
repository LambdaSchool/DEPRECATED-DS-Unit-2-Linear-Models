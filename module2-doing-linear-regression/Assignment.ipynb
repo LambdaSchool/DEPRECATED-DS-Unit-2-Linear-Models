{
 "cells": [
  {
   "cell_type": "code",
   "execution_count": 1,
   "metadata": {},
   "outputs": [],
   "source": [
    "LOCAL = '../data/nyc/nyc-rent-2016.csv'\n",
    "WEB = 'https://raw.githubusercontent.com/LambdaSchool/DS-Unit-2-Linear-Models/master/data/nyc/nyc-rent-2016.csv'\n",
    "\n",
    "import pandas as pd\n",
    "df = pd.read_csv(WEB)\n",
    "assert df.shape == (48300, 34)"
   ]
  },
  {
   "cell_type": "markdown",
   "metadata": {},
   "source": [
    "## Data Exploration"
   ]
  },
  {
   "cell_type": "code",
   "execution_count": 2,
   "metadata": {},
   "outputs": [
    {
     "data": {
      "text/plain": [
       "bathrooms                  0\n",
       "bedrooms                   0\n",
       "created                    0\n",
       "description             1421\n",
       "display_address          132\n",
       "latitude                   0\n",
       "longitude                  0\n",
       "price                      0\n",
       "street_address            10\n",
       "interest_level             0\n",
       "elevator                   0\n",
       "cats_allowed               0\n",
       "hardwood_floors            0\n",
       "dogs_allowed               0\n",
       "doorman                    0\n",
       "dishwasher                 0\n",
       "no_fee                     0\n",
       "laundry_in_building        0\n",
       "fitness_center             0\n",
       "pre-war                    0\n",
       "laundry_in_unit            0\n",
       "roof_deck                  0\n",
       "outdoor_space              0\n",
       "dining_room                0\n",
       "high_speed_internet        0\n",
       "balcony                    0\n",
       "swimming_pool              0\n",
       "new_construction           0\n",
       "exclusive                  0\n",
       "terrace                    0\n",
       "loft                       0\n",
       "garden_patio               0\n",
       "common_outdoor_space       0\n",
       "wheelchair_access          0\n",
       "dtype: int64"
      ]
     },
     "execution_count": 2,
     "metadata": {},
     "output_type": "execute_result"
    }
   ],
   "source": [
    "target = 'price'\n",
    "df.isna().sum()"
   ]
  },
  {
   "cell_type": "markdown",
   "metadata": {},
   "source": [
    "## Basic Wrangle"
   ]
  },
  {
   "cell_type": "code",
   "execution_count": 3,
   "metadata": {},
   "outputs": [
    {
     "data": {
      "text/plain": [
       "bathrooms                  0\n",
       "bedrooms                   0\n",
       "created                    0\n",
       "description                0\n",
       "display_address            0\n",
       "latitude                   0\n",
       "longitude                  0\n",
       "price                      0\n",
       "street_address             0\n",
       "interest_level             0\n",
       "elevator                   0\n",
       "cats_allowed               0\n",
       "hardwood_floors            0\n",
       "dogs_allowed               0\n",
       "doorman                    0\n",
       "dishwasher                 0\n",
       "no_fee                     0\n",
       "laundry_in_building        0\n",
       "fitness_center             0\n",
       "pre-war                    0\n",
       "laundry_in_unit            0\n",
       "roof_deck                  0\n",
       "outdoor_space              0\n",
       "dining_room                0\n",
       "high_speed_internet        0\n",
       "balcony                    0\n",
       "swimming_pool              0\n",
       "new_construction           0\n",
       "exclusive                  0\n",
       "terrace                    0\n",
       "loft                       0\n",
       "garden_patio               0\n",
       "common_outdoor_space       0\n",
       "wheelchair_access          0\n",
       "description_missing        0\n",
       "display_address_missing    0\n",
       "street_address_missing     0\n",
       "dtype: int64"
      ]
     },
     "execution_count": 3,
     "metadata": {},
     "output_type": "execute_result"
    }
   ],
   "source": [
    "def basic_wrangle(df):\n",
    "    df = df.copy()\n",
    "    \n",
    "    #Create an is_missing column for every column with any NANs\n",
    "    for col in df.columns:\n",
    "        if df[col].isna().sum():\n",
    "            df[f'{col}_missing'] = df[col].isna()\n",
    "            \n",
    "    #Fill numeric columns with mean\n",
    "    for col in df.select_dtypes(include='number').columns:\n",
    "        df[col] = df[col].fillna(value=df[col].mean)\n",
    "    \n",
    "    #Fill non-numeric columns with 'MISSING'\n",
    "    for col in df.select_dtypes(exclude='number').columns:\n",
    "        df[col] = df[col].fillna(value='MISSING')\n",
    "    return df\n",
    "df_w = basic_wrangle(df)\n",
    "df_w.isna().sum()"
   ]
  },
  {
   "cell_type": "markdown",
   "metadata": {},
   "source": [
    "## Train/Test Split"
   ]
  },
  {
   "cell_type": "code",
   "execution_count": 4,
   "metadata": {},
   "outputs": [
    {
     "data": {
      "text/html": [
       "<div>\n",
       "<style scoped>\n",
       "    .dataframe tbody tr th:only-of-type {\n",
       "        vertical-align: middle;\n",
       "    }\n",
       "\n",
       "    .dataframe tbody tr th {\n",
       "        vertical-align: top;\n",
       "    }\n",
       "\n",
       "    .dataframe thead th {\n",
       "        text-align: right;\n",
       "    }\n",
       "</style>\n",
       "<table border=\"1\" class=\"dataframe\">\n",
       "  <thead>\n",
       "    <tr style=\"text-align: right;\">\n",
       "      <th></th>\n",
       "      <th>bathrooms</th>\n",
       "      <th>bedrooms</th>\n",
       "      <th>created</th>\n",
       "      <th>description</th>\n",
       "      <th>display_address</th>\n",
       "      <th>latitude</th>\n",
       "      <th>longitude</th>\n",
       "      <th>price</th>\n",
       "      <th>street_address</th>\n",
       "      <th>interest_level</th>\n",
       "      <th>...</th>\n",
       "      <th>new_construction</th>\n",
       "      <th>exclusive</th>\n",
       "      <th>terrace</th>\n",
       "      <th>loft</th>\n",
       "      <th>garden_patio</th>\n",
       "      <th>common_outdoor_space</th>\n",
       "      <th>wheelchair_access</th>\n",
       "      <th>description_missing</th>\n",
       "      <th>display_address_missing</th>\n",
       "      <th>street_address_missing</th>\n",
       "    </tr>\n",
       "  </thead>\n",
       "  <tbody>\n",
       "    <tr>\n",
       "      <th>0</th>\n",
       "      <td>1.5</td>\n",
       "      <td>3</td>\n",
       "      <td>2016-06-24 07:54:24</td>\n",
       "      <td>A Brand New 3 Bedroom 1.5 bath ApartmentEnjoy ...</td>\n",
       "      <td>Metropolitan Avenue</td>\n",
       "      <td>40.7145</td>\n",
       "      <td>-73.9425</td>\n",
       "      <td>3000</td>\n",
       "      <td>792 Metropolitan Avenue</td>\n",
       "      <td>medium</td>\n",
       "      <td>...</td>\n",
       "      <td>0</td>\n",
       "      <td>0</td>\n",
       "      <td>0</td>\n",
       "      <td>0</td>\n",
       "      <td>0</td>\n",
       "      <td>0</td>\n",
       "      <td>0</td>\n",
       "      <td>False</td>\n",
       "      <td>False</td>\n",
       "      <td>False</td>\n",
       "    </tr>\n",
       "  </tbody>\n",
       "</table>\n",
       "<p>1 rows × 37 columns</p>\n",
       "</div>"
      ],
      "text/plain": [
       "   bathrooms  bedrooms              created  \\\n",
       "0        1.5         3  2016-06-24 07:54:24   \n",
       "\n",
       "                                         description      display_address  \\\n",
       "0  A Brand New 3 Bedroom 1.5 bath ApartmentEnjoy ...  Metropolitan Avenue   \n",
       "\n",
       "   latitude  longitude  price           street_address interest_level  ...  \\\n",
       "0   40.7145   -73.9425   3000  792 Metropolitan Avenue         medium  ...   \n",
       "\n",
       "   new_construction  exclusive  terrace  loft  garden_patio  \\\n",
       "0                 0          0        0     0             0   \n",
       "\n",
       "   common_outdoor_space  wheelchair_access  description_missing  \\\n",
       "0                     0                  0                False   \n",
       "\n",
       "   display_address_missing  street_address_missing  \n",
       "0                    False                   False  \n",
       "\n",
       "[1 rows x 37 columns]"
      ]
     },
     "execution_count": 4,
     "metadata": {},
     "output_type": "execute_result"
    }
   ],
   "source": [
    "df_w.head(1)"
   ]
  },
  {
   "cell_type": "code",
   "execution_count": 5,
   "metadata": {},
   "outputs": [
    {
     "data": {
      "text/plain": [
       "bathrooms                  0\n",
       "bedrooms                   0\n",
       "created                    0\n",
       "description                0\n",
       "display_address            0\n",
       "latitude                   0\n",
       "longitude                  0\n",
       "price                      0\n",
       "street_address             0\n",
       "interest_level             0\n",
       "elevator                   0\n",
       "cats_allowed               0\n",
       "hardwood_floors            0\n",
       "dogs_allowed               0\n",
       "doorman                    0\n",
       "dishwasher                 0\n",
       "no_fee                     0\n",
       "laundry_in_building        0\n",
       "fitness_center             0\n",
       "pre-war                    0\n",
       "laundry_in_unit            0\n",
       "roof_deck                  0\n",
       "outdoor_space              0\n",
       "dining_room                0\n",
       "high_speed_internet        0\n",
       "balcony                    0\n",
       "swimming_pool              0\n",
       "new_construction           0\n",
       "exclusive                  0\n",
       "terrace                    0\n",
       "loft                       0\n",
       "garden_patio               0\n",
       "common_outdoor_space       0\n",
       "wheelchair_access          0\n",
       "description_missing        0\n",
       "display_address_missing    0\n",
       "street_address_missing     0\n",
       "dt                         0\n",
       "month                      0\n",
       "year                       0\n",
       "dtype: int64"
      ]
     },
     "execution_count": 5,
     "metadata": {},
     "output_type": "execute_result"
    }
   ],
   "source": [
    "df_w['dt'] = pd.to_datetime(df_w['created'])\n",
    "df_w['month'] = df_w['dt'].dt.month\n",
    "df_w['year'] = df_w['dt'].dt.year\n",
    "df_w.isna().sum()"
   ]
  },
  {
   "cell_type": "code",
   "execution_count": 6,
   "metadata": {},
   "outputs": [],
   "source": [
    "test = df_w[df_w['month'].isin([6])].copy()\n",
    "train = df_w[df_w['month'].isin([4, 5])].copy()\n",
    "assert test.shape[0] + train.shape[0] == df.shape[0]"
   ]
  },
  {
   "cell_type": "markdown",
   "metadata": {},
   "source": [
    "## Baseline"
   ]
  },
  {
   "cell_type": "code",
   "execution_count": 7,
   "metadata": {},
   "outputs": [],
   "source": [
    "test['pred'] = train[target].mean()"
   ]
  },
  {
   "cell_type": "code",
   "execution_count": 8,
   "metadata": {},
   "outputs": [
    {
     "data": {
      "text/plain": [
       "1052.6798017842948"
      ]
     },
     "execution_count": 8,
     "metadata": {},
     "output_type": "execute_result"
    }
   ],
   "source": [
    "from sklearn.metrics import mean_absolute_error as mae\n",
    "mae(test['pred'], test[target])"
   ]
  },
  {
   "cell_type": "markdown",
   "metadata": {},
   "source": [
    "## Linear Regression Baseline"
   ]
  },
  {
   "cell_type": "code",
   "execution_count": 9,
   "metadata": {},
   "outputs": [],
   "source": [
    "from sklearn.linear_model import LinearRegression as lr"
   ]
  },
  {
   "cell_type": "code",
   "execution_count": 10,
   "metadata": {},
   "outputs": [
    {
     "data": {
      "text/plain": [
       "LinearRegression(copy_X=True, fit_intercept=True, n_jobs=None, normalize=False)"
      ]
     },
     "execution_count": 10,
     "metadata": {},
     "output_type": "execute_result"
    }
   ],
   "source": [
    "drop_me = list(train.select_dtypes(exclude='number').columns) + ['price']\n",
    "#drops all non-numeric columns\n",
    "features = train.drop(columns=drop_me).columns\n",
    "model = lr()\n",
    "model.fit(train[features], train[target])"
   ]
  },
  {
   "cell_type": "code",
   "execution_count": 11,
   "metadata": {},
   "outputs": [
    {
     "data": {
      "text/plain": [
       "624.7001872025197"
      ]
     },
     "execution_count": 11,
     "metadata": {},
     "output_type": "execute_result"
    }
   ],
   "source": [
    "test_pred = model.predict(test[features])\n",
    "mae(test_pred, test[target])"
   ]
  },
  {
   "cell_type": "markdown",
   "metadata": {},
   "source": [
    "## Linear Regression Ordinal Encoding"
   ]
  },
  {
   "cell_type": "markdown",
   "metadata": {},
   "source": [
    "### Feature Engineering"
   ]
  },
  {
   "cell_type": "code",
   "execution_count": 12,
   "metadata": {},
   "outputs": [
    {
     "data": {
      "text/plain": [
       "((48300, 35), (48300, 41))"
      ]
     },
     "execution_count": 12,
     "metadata": {},
     "output_type": "execute_result"
    }
   ],
   "source": [
    "df = pd.read_csv(WEB)\n",
    "df['description_length'] = len(df['description'])\n",
    "df_w = basic_wrangle(df)\n",
    "df_w['dt'] = pd.to_datetime(df_w['created'])\n",
    "df_w['month'] = df_w['dt'].dt.month\n",
    "df_w['year'] = df_w['dt'].dt.year\n",
    "\n",
    "df.shape, df_w.shape"
   ]
  },
  {
   "cell_type": "code",
   "execution_count": 13,
   "metadata": {},
   "outputs": [
    {
     "data": {
      "text/html": [
       "<div>\n",
       "<style scoped>\n",
       "    .dataframe tbody tr th:only-of-type {\n",
       "        vertical-align: middle;\n",
       "    }\n",
       "\n",
       "    .dataframe tbody tr th {\n",
       "        vertical-align: top;\n",
       "    }\n",
       "\n",
       "    .dataframe thead th {\n",
       "        text-align: right;\n",
       "    }\n",
       "</style>\n",
       "<table border=\"1\" class=\"dataframe\">\n",
       "  <thead>\n",
       "    <tr style=\"text-align: right;\">\n",
       "      <th></th>\n",
       "      <th>created</th>\n",
       "      <th>description</th>\n",
       "      <th>display_address</th>\n",
       "      <th>street_address</th>\n",
       "      <th>interest_level</th>\n",
       "      <th>description_missing</th>\n",
       "      <th>display_address_missing</th>\n",
       "      <th>street_address_missing</th>\n",
       "      <th>dt</th>\n",
       "    </tr>\n",
       "  </thead>\n",
       "  <tbody>\n",
       "    <tr>\n",
       "      <th>count</th>\n",
       "      <td>31515</td>\n",
       "      <td>31515</td>\n",
       "      <td>31515</td>\n",
       "      <td>31515</td>\n",
       "      <td>31515</td>\n",
       "      <td>31515</td>\n",
       "      <td>31515</td>\n",
       "      <td>31515</td>\n",
       "      <td>31515</td>\n",
       "    </tr>\n",
       "    <tr>\n",
       "      <th>unique</th>\n",
       "      <td>31116</td>\n",
       "      <td>25483</td>\n",
       "      <td>6493</td>\n",
       "      <td>11248</td>\n",
       "      <td>3</td>\n",
       "      <td>2</td>\n",
       "      <td>2</td>\n",
       "      <td>2</td>\n",
       "      <td>31116</td>\n",
       "    </tr>\n",
       "    <tr>\n",
       "      <th>top</th>\n",
       "      <td>2016-05-14 05:23:52</td>\n",
       "      <td>MISSING</td>\n",
       "      <td>Broadway</td>\n",
       "      <td>505 West 37th Street</td>\n",
       "      <td>low</td>\n",
       "      <td>False</td>\n",
       "      <td>False</td>\n",
       "      <td>False</td>\n",
       "      <td>2016-05-02 03:41:36</td>\n",
       "    </tr>\n",
       "    <tr>\n",
       "      <th>freq</th>\n",
       "      <td>3</td>\n",
       "      <td>966</td>\n",
       "      <td>268</td>\n",
       "      <td>120</td>\n",
       "      <td>21613</td>\n",
       "      <td>30549</td>\n",
       "      <td>31447</td>\n",
       "      <td>31509</td>\n",
       "      <td>3</td>\n",
       "    </tr>\n",
       "    <tr>\n",
       "      <th>first</th>\n",
       "      <td>NaN</td>\n",
       "      <td>NaN</td>\n",
       "      <td>NaN</td>\n",
       "      <td>NaN</td>\n",
       "      <td>NaN</td>\n",
       "      <td>NaN</td>\n",
       "      <td>NaN</td>\n",
       "      <td>NaN</td>\n",
       "      <td>2016-04-01 22:12:41</td>\n",
       "    </tr>\n",
       "    <tr>\n",
       "      <th>last</th>\n",
       "      <td>NaN</td>\n",
       "      <td>NaN</td>\n",
       "      <td>NaN</td>\n",
       "      <td>NaN</td>\n",
       "      <td>NaN</td>\n",
       "      <td>NaN</td>\n",
       "      <td>NaN</td>\n",
       "      <td>NaN</td>\n",
       "      <td>2016-05-31 23:10:48</td>\n",
       "    </tr>\n",
       "  </tbody>\n",
       "</table>\n",
       "</div>"
      ],
      "text/plain": [
       "                    created description display_address        street_address  \\\n",
       "count                 31515       31515           31515                 31515   \n",
       "unique                31116       25483            6493                 11248   \n",
       "top     2016-05-14 05:23:52     MISSING        Broadway  505 West 37th Street   \n",
       "freq                      3         966             268                   120   \n",
       "first                   NaN         NaN             NaN                   NaN   \n",
       "last                    NaN         NaN             NaN                   NaN   \n",
       "\n",
       "       interest_level description_missing display_address_missing  \\\n",
       "count           31515               31515                   31515   \n",
       "unique              3                   2                       2   \n",
       "top               low               False                   False   \n",
       "freq            21613               30549                   31447   \n",
       "first             NaN                 NaN                     NaN   \n",
       "last              NaN                 NaN                     NaN   \n",
       "\n",
       "       street_address_missing                   dt  \n",
       "count                   31515                31515  \n",
       "unique                      2                31116  \n",
       "top                     False  2016-05-02 03:41:36  \n",
       "freq                    31509                    3  \n",
       "first                     NaN  2016-04-01 22:12:41  \n",
       "last                      NaN  2016-05-31 23:10:48  "
      ]
     },
     "execution_count": 13,
     "metadata": {},
     "output_type": "execute_result"
    }
   ],
   "source": [
    "test = df_w[df_w['month'].isin([6])].copy()\n",
    "train = df_w[df_w['month'].isin([4, 5])].copy()\n",
    "assert test.shape[0] + train.shape[0] == df.shape[0]\n",
    "\n",
    "train.describe(exclude='number')"
   ]
  },
  {
   "cell_type": "code",
   "execution_count": 14,
   "metadata": {},
   "outputs": [
    {
     "data": {
      "text/plain": [
       "(16785, 31)"
      ]
     },
     "execution_count": 14,
     "metadata": {},
     "output_type": "execute_result"
    }
   ],
   "source": [
    "drop_me_ordinal = [target, 'created', 'description', 'dt', 'street_address']\n",
    "\n",
    "x_test = test.drop(columns=drop_me)\n",
    "x_train = train.drop(columns=drop_me)\n",
    "y_test = test[target]\n",
    "y_train = train[target]\n",
    "\n",
    "x_test.shape"
   ]
  },
  {
   "cell_type": "code",
   "execution_count": 15,
   "metadata": {},
   "outputs": [],
   "source": [
    "from sklearn.pipeline import make_pipeline\n",
    "import category_encoders as ce\n",
    "\n",
    "def pre_processing(train, test):\n",
    "    pipeline = make_pipeline(ce.OrdinalEncoder())\n",
    "    pipeline.fit(train)\n",
    "    \n",
    "    x_train = pd.DataFrame(pipeline.transform(train))\n",
    "    x_train.columns = train.columns\n",
    "   \n",
    "    x_test = pd.DataFrame(pipeline.transform(test))\n",
    "    x_test.columns = test.columns\n",
    "    \n",
    "    return x_train, x_test"
   ]
  },
  {
   "cell_type": "code",
   "execution_count": 16,
   "metadata": {},
   "outputs": [
    {
     "data": {
      "text/plain": [
       "Index(['bathrooms', 'bedrooms', 'latitude', 'longitude', 'elevator',\n",
       "       'cats_allowed', 'hardwood_floors', 'dogs_allowed', 'doorman',\n",
       "       'dishwasher', 'no_fee', 'laundry_in_building', 'fitness_center',\n",
       "       'pre-war', 'laundry_in_unit', 'roof_deck', 'outdoor_space',\n",
       "       'dining_room', 'high_speed_internet', 'balcony', 'swimming_pool',\n",
       "       'new_construction', 'exclusive', 'terrace', 'loft', 'garden_patio',\n",
       "       'common_outdoor_space', 'wheelchair_access', 'description_length',\n",
       "       'month', 'year'],\n",
       "      dtype='object')"
      ]
     },
     "execution_count": 16,
     "metadata": {},
     "output_type": "execute_result"
    }
   ],
   "source": [
    "features = x_train.columns\n",
    "\n",
    "pp_train, pp_test=pre_processing(x_train[features], x_test[features])\n",
    "pp_train.columns"
   ]
  },
  {
   "cell_type": "code",
   "execution_count": 24,
   "metadata": {},
   "outputs": [
    {
     "data": {
      "text/plain": [
       "['__abstractmethods__',\n",
       " '__class__',\n",
       " '__delattr__',\n",
       " '__dict__',\n",
       " '__dir__',\n",
       " '__doc__',\n",
       " '__eq__',\n",
       " '__format__',\n",
       " '__ge__',\n",
       " '__getattribute__',\n",
       " '__getstate__',\n",
       " '__gt__',\n",
       " '__hash__',\n",
       " '__init__',\n",
       " '__init_subclass__',\n",
       " '__le__',\n",
       " '__lt__',\n",
       " '__module__',\n",
       " '__ne__',\n",
       " '__new__',\n",
       " '__reduce__',\n",
       " '__reduce_ex__',\n",
       " '__repr__',\n",
       " '__setattr__',\n",
       " '__setstate__',\n",
       " '__sizeof__',\n",
       " '__str__',\n",
       " '__subclasshook__',\n",
       " '__weakref__',\n",
       " '_abc_impl',\n",
       " '_decision_function',\n",
       " '_estimator_type',\n",
       " '_get_param_names',\n",
       " '_get_tags',\n",
       " '_more_tags',\n",
       " '_preprocess_data',\n",
       " '_residues',\n",
       " '_set_intercept',\n",
       " 'coef_',\n",
       " 'copy_X',\n",
       " 'fit',\n",
       " 'fit_intercept',\n",
       " 'get_params',\n",
       " 'intercept_',\n",
       " 'n_jobs',\n",
       " 'normalize',\n",
       " 'predict',\n",
       " 'rank_',\n",
       " 'score',\n",
       " 'set_params',\n",
       " 'singular_']"
      ]
     },
     "execution_count": 24,
     "metadata": {},
     "output_type": "execute_result"
    }
   ],
   "source": [
    "model = lr(normalize=True)\n",
    "model.fit(pp_train, y_train)\n",
    "dir(model)"
   ]
  },
  {
   "cell_type": "code",
   "execution_count": 30,
   "metadata": {},
   "outputs": [
    {
     "data": {
      "text/html": [
       "<div>\n",
       "<style scoped>\n",
       "    .dataframe tbody tr th:only-of-type {\n",
       "        vertical-align: middle;\n",
       "    }\n",
       "\n",
       "    .dataframe tbody tr th {\n",
       "        vertical-align: top;\n",
       "    }\n",
       "\n",
       "    .dataframe thead th {\n",
       "        text-align: right;\n",
       "    }\n",
       "</style>\n",
       "<table border=\"1\" class=\"dataframe\">\n",
       "  <thead>\n",
       "    <tr style=\"text-align: right;\">\n",
       "      <th></th>\n",
       "      <th>features</th>\n",
       "      <th>coef</th>\n",
       "      <th>inter</th>\n",
       "    </tr>\n",
       "  </thead>\n",
       "  <tbody>\n",
       "    <tr>\n",
       "      <th>16</th>\n",
       "      <td>high_speed_internet</td>\n",
       "      <td>-300.203742</td>\n",
       "      <td>737.051694</td>\n",
       "    </tr>\n",
       "    <tr>\n",
       "      <th>9</th>\n",
       "      <td>laundry_in_building</td>\n",
       "      <td>-236.954555</td>\n",
       "      <td>737.051694</td>\n",
       "    </tr>\n",
       "    <tr>\n",
       "      <th>19</th>\n",
       "      <td>new_construction</td>\n",
       "      <td>-172.385869</td>\n",
       "      <td>737.051694</td>\n",
       "    </tr>\n",
       "    <tr>\n",
       "      <th>4</th>\n",
       "      <td>hardwood_floors</td>\n",
       "      <td>-163.762838</td>\n",
       "      <td>737.051694</td>\n",
       "    </tr>\n",
       "    <tr>\n",
       "      <th>8</th>\n",
       "      <td>no_fee</td>\n",
       "      <td>-147.070832</td>\n",
       "      <td>737.051694</td>\n",
       "    </tr>\n",
       "    <tr>\n",
       "      <th>13</th>\n",
       "      <td>roof_deck</td>\n",
       "      <td>-114.767954</td>\n",
       "      <td>737.051694</td>\n",
       "    </tr>\n",
       "    <tr>\n",
       "      <th>23</th>\n",
       "      <td>garden_patio</td>\n",
       "      <td>-67.579660</td>\n",
       "      <td>737.051694</td>\n",
       "    </tr>\n",
       "    <tr>\n",
       "      <th>14</th>\n",
       "      <td>outdoor_space</td>\n",
       "      <td>-61.282337</td>\n",
       "      <td>737.051694</td>\n",
       "    </tr>\n",
       "    <tr>\n",
       "      <th>11</th>\n",
       "      <td>pre-war</td>\n",
       "      <td>-54.648445</td>\n",
       "      <td>737.051694</td>\n",
       "    </tr>\n",
       "    <tr>\n",
       "      <th>3</th>\n",
       "      <td>cats_allowed</td>\n",
       "      <td>-54.141596</td>\n",
       "      <td>737.051694</td>\n",
       "    </tr>\n",
       "    <tr>\n",
       "      <th>17</th>\n",
       "      <td>balcony</td>\n",
       "      <td>-45.233225</td>\n",
       "      <td>737.051694</td>\n",
       "    </tr>\n",
       "    <tr>\n",
       "      <th>15</th>\n",
       "      <td>dining_room</td>\n",
       "      <td>-14.459880</td>\n",
       "      <td>737.051694</td>\n",
       "    </tr>\n",
       "    <tr>\n",
       "      <th>18</th>\n",
       "      <td>swimming_pool</td>\n",
       "      <td>-11.674919</td>\n",
       "      <td>737.051694</td>\n",
       "    </tr>\n",
       "    <tr>\n",
       "      <th>20</th>\n",
       "      <td>exclusive</td>\n",
       "      <td>-3.406488</td>\n",
       "      <td>737.051694</td>\n",
       "    </tr>\n",
       "    <tr>\n",
       "      <th>27</th>\n",
       "      <td>year</td>\n",
       "      <td>0.000000</td>\n",
       "      <td>737.051694</td>\n",
       "    </tr>\n",
       "    <tr>\n",
       "      <th>24</th>\n",
       "      <td>common_outdoor_space</td>\n",
       "      <td>6.334807</td>\n",
       "      <td>737.051694</td>\n",
       "    </tr>\n",
       "    <tr>\n",
       "      <th>26</th>\n",
       "      <td>month</td>\n",
       "      <td>25.228353</td>\n",
       "      <td>737.051694</td>\n",
       "    </tr>\n",
       "    <tr>\n",
       "      <th>25</th>\n",
       "      <td>wheelchair_access</td>\n",
       "      <td>90.785233</td>\n",
       "      <td>737.051694</td>\n",
       "    </tr>\n",
       "    <tr>\n",
       "      <th>22</th>\n",
       "      <td>loft</td>\n",
       "      <td>98.487151</td>\n",
       "      <td>737.051694</td>\n",
       "    </tr>\n",
       "    <tr>\n",
       "      <th>21</th>\n",
       "      <td>terrace</td>\n",
       "      <td>131.438854</td>\n",
       "      <td>737.051694</td>\n",
       "    </tr>\n",
       "    <tr>\n",
       "      <th>7</th>\n",
       "      <td>dishwasher</td>\n",
       "      <td>162.038910</td>\n",
       "      <td>737.051694</td>\n",
       "    </tr>\n",
       "    <tr>\n",
       "      <th>5</th>\n",
       "      <td>dogs_allowed</td>\n",
       "      <td>162.329839</td>\n",
       "      <td>737.051694</td>\n",
       "    </tr>\n",
       "    <tr>\n",
       "      <th>2</th>\n",
       "      <td>elevator</td>\n",
       "      <td>183.200909</td>\n",
       "      <td>737.051694</td>\n",
       "    </tr>\n",
       "    <tr>\n",
       "      <th>10</th>\n",
       "      <td>fitness_center</td>\n",
       "      <td>209.034800</td>\n",
       "      <td>737.051694</td>\n",
       "    </tr>\n",
       "    <tr>\n",
       "      <th>12</th>\n",
       "      <td>laundry_in_unit</td>\n",
       "      <td>441.965702</td>\n",
       "      <td>737.051694</td>\n",
       "    </tr>\n",
       "    <tr>\n",
       "      <th>1</th>\n",
       "      <td>bedrooms</td>\n",
       "      <td>492.042195</td>\n",
       "      <td>737.051694</td>\n",
       "    </tr>\n",
       "    <tr>\n",
       "      <th>6</th>\n",
       "      <td>doorman</td>\n",
       "      <td>578.414145</td>\n",
       "      <td>737.051694</td>\n",
       "    </tr>\n",
       "    <tr>\n",
       "      <th>0</th>\n",
       "      <td>bathrooms</td>\n",
       "      <td>1244.494593</td>\n",
       "      <td>737.051694</td>\n",
       "    </tr>\n",
       "  </tbody>\n",
       "</table>\n",
       "</div>"
      ],
      "text/plain": [
       "                features         coef       inter\n",
       "16   high_speed_internet  -300.203742  737.051694\n",
       "9    laundry_in_building  -236.954555  737.051694\n",
       "19      new_construction  -172.385869  737.051694\n",
       "4        hardwood_floors  -163.762838  737.051694\n",
       "8                 no_fee  -147.070832  737.051694\n",
       "13             roof_deck  -114.767954  737.051694\n",
       "23          garden_patio   -67.579660  737.051694\n",
       "14         outdoor_space   -61.282337  737.051694\n",
       "11               pre-war   -54.648445  737.051694\n",
       "3           cats_allowed   -54.141596  737.051694\n",
       "17               balcony   -45.233225  737.051694\n",
       "15           dining_room   -14.459880  737.051694\n",
       "18         swimming_pool   -11.674919  737.051694\n",
       "20             exclusive    -3.406488  737.051694\n",
       "27                  year     0.000000  737.051694\n",
       "24  common_outdoor_space     6.334807  737.051694\n",
       "26                 month    25.228353  737.051694\n",
       "25     wheelchair_access    90.785233  737.051694\n",
       "22                  loft    98.487151  737.051694\n",
       "21               terrace   131.438854  737.051694\n",
       "7             dishwasher   162.038910  737.051694\n",
       "5           dogs_allowed   162.329839  737.051694\n",
       "2               elevator   183.200909  737.051694\n",
       "10        fitness_center   209.034800  737.051694\n",
       "12       laundry_in_unit   441.965702  737.051694\n",
       "1               bedrooms   492.042195  737.051694\n",
       "6                doorman   578.414145  737.051694\n",
       "0              bathrooms  1244.494593  737.051694"
      ]
     },
     "execution_count": 30,
     "metadata": {},
     "output_type": "execute_result"
    }
   ],
   "source": [
    "feature_importance = pd.DataFrame({'features':pp_train.columns, 'coef':model.coef_, 'inter':model.intercept_})\n",
    "f_im = feature_importance.sort_values(by=['coef'])\n",
    "f_im"
   ]
  },
  {
   "cell_type": "code",
   "execution_count": 19,
   "metadata": {},
   "outputs": [
    {
     "data": {
      "text/plain": [
       "624.7001872025243"
      ]
     },
     "execution_count": 19,
     "metadata": {},
     "output_type": "execute_result"
    }
   ],
   "source": [
    "test_pred = model.predict(pp_test)\n",
    "mae(test_pred, test[target])"
   ]
  },
  {
   "cell_type": "markdown",
   "metadata": {},
   "source": [
    "### Linear Regression post-feature importances\n",
    "\n",
    "Attempting to remove noise"
   ]
  },
  {
   "cell_type": "code",
   "execution_count": 23,
   "metadata": {},
   "outputs": [
    {
     "data": {
      "text/plain": [
       "686.1394864316793"
      ]
     },
     "execution_count": 23,
     "metadata": {},
     "output_type": "execute_result"
    }
   ],
   "source": [
    "noise = ['latitude', 'longitude', 'description_length']\n",
    "\n",
    "\n",
    "features = x_train.drop(columns=noise).columns\n",
    "\n",
    "pp_train, pp_test=pre_processing(x_train[features], x_test[features])\n",
    "model = lr(normalize=True)\n",
    "model.fit(pp_train, y_train)\n",
    "\n",
    "test_pred = model.predict(pp_test)\n",
    "mae(test_pred, test[target])"
   ]
  },
  {
   "cell_type": "markdown",
   "metadata": {},
   "source": [
    "## Gradient Boosting"
   ]
  },
  {
   "cell_type": "code",
   "execution_count": 134,
   "metadata": {},
   "outputs": [
    {
     "name": "stderr",
     "output_type": "stream",
     "text": [
      "/usr/local/lib/python3.7/site-packages/xgboost/core.py:587: FutureWarning: Series.base is deprecated and will be removed in a future version\n",
      "  if getattr(data, 'base', None) is not None and \\\n",
      "/usr/local/lib/python3.7/site-packages/xgboost/core.py:588: FutureWarning: Series.base is deprecated and will be removed in a future version\n",
      "  data.base is not None and isinstance(data, np.ndarray) \\\n"
     ]
    },
    {
     "name": "stdout",
     "output_type": "stream",
     "text": [
      "[23:18:06] WARNING: src/objective/regression_obj.cu:152: reg:linear is now deprecated in favor of reg:squarederror.\n"
     ]
    },
    {
     "data": {
      "text/plain": [
       "XGBRegressor(base_score=0.5, booster='gbtree', colsample_bylevel=1,\n",
       "             colsample_bynode=1, colsample_bytree=1, gamma=0,\n",
       "             importance_type='gain', learning_rate=0.1, max_delta_step=0,\n",
       "             max_depth=3, min_child_weight=1, missing=None, n_estimators=100,\n",
       "             n_jobs=1, nthread=None, objective='reg:linear', random_state=0,\n",
       "             reg_alpha=0, reg_lambda=1, scale_pos_weight=1, seed=None,\n",
       "             silent=None, subsample=1, verbosity=1)"
      ]
     },
     "execution_count": 134,
     "metadata": {},
     "output_type": "execute_result"
    }
   ],
   "source": [
    "from xgboost import XGBRegressor as xgb\n",
    "\n",
    "model = xgb()\n",
    "model.fit(pp_train, y_train)"
   ]
  },
  {
   "cell_type": "code",
   "execution_count": 135,
   "metadata": {},
   "outputs": [
    {
     "data": {
      "text/plain": [
       "479.17352403647"
      ]
     },
     "execution_count": 135,
     "metadata": {},
     "output_type": "execute_result"
    }
   ],
   "source": [
    "test_pred = model.predict(pp_test)\n",
    "mae(test_pred, test[target])"
   ]
  }
 ],
 "metadata": {
  "kernelspec": {
   "display_name": "Python 3",
   "language": "python",
   "name": "python3"
  },
  "language_info": {
   "codemirror_mode": {
    "name": "ipython",
    "version": 3
   },
   "file_extension": ".py",
   "mimetype": "text/x-python",
   "name": "python",
   "nbconvert_exporter": "python",
   "pygments_lexer": "ipython3",
   "version": "3.7.3"
  }
 },
 "nbformat": 4,
 "nbformat_minor": 2
}
