{
 "cells": [
  {
   "cell_type": "markdown",
   "metadata": {
    "colab_type": "text",
    "id": "xDmZn3ApOM7t"
   },
   "source": [
    "_Lambda School Data Science, Unit 2_\n",
    " \n",
    "# Linear Models  Sprint Challenge: Predict home prices in Ames, Iowa 🏠💸\n",
    "\n",
    "To demonstrate mastery on your Sprint Challenge, do all the required, numbered instructions in this notebook.\n",
    "\n",
    "To earn a score of \"3\", also do all the stretch goals.\n",
    "\n",
    "For your Sprint Challenge, you'll use historical housing data. There's a data dictionary at the bottom of the notebook. \n",
    "\n",
    "Run this code cell to load the dataset:\n",
    "\n",
    "\n",
    "\n"
   ]
  },
  {
   "cell_type": "code",
   "execution_count": 1,
   "metadata": {
    "colab": {},
    "colab_type": "code",
    "id": "7ptoRG1lu7H4"
   },
   "outputs": [],
   "source": [
    "import pandas as pd\n",
    "URL = 'https://drive.google.com/uc?export=download&id=1522WlEW6HFss36roD_Cd9nybqSuiVcCK'\n",
    "df = pd.read_csv(URL)\n",
    "assert df.shape == (2904, 47)"
   ]
  },
  {
   "cell_type": "code",
   "execution_count": 2,
   "metadata": {},
   "outputs": [],
   "source": [
    "import numpy as np\n",
    "from sklearn.linear_model import LinearRegression\n",
    "from sklearn.preprocessing import MinMaxScaler\n",
    "from sklearn.metrics import mean_absolute_error\n",
    "from sklearn.metrics import mean_squared_error\n",
    "from sklearn.metrics import r2_score\n",
    "from sklearn.pipeline import Pipeline\n",
    "#from sklearn.preprocessing import OneHotEncoder\n",
    "import category_encoders as ce\n",
    "import matplotlib.pyplot as plt"
   ]
  },
  {
   "cell_type": "markdown",
   "metadata": {
    "colab_type": "text",
    "id": "yqeiq1wvyrTq"
   },
   "source": [
    "## 1. Do train/test split\n",
    "Train on houses sold in 2006-08. Test on houses sold in 2009-10."
   ]
  },
  {
   "cell_type": "code",
   "execution_count": 3,
   "metadata": {},
   "outputs": [
    {
     "data": {
      "text/plain": [
       "Index(['1st_Flr_SF', 'Bedroom_AbvGr', 'Bldg_Type', 'Bsmt_Full_Bath',\n",
       "       'Bsmt_Half_Bath', 'Central_Air', 'Condition_1', 'Condition_2',\n",
       "       'Electrical', 'Exter_Cond', 'Exter_Qual', 'Exterior_1st',\n",
       "       'Exterior_2nd', 'Foundation', 'Full_Bath', 'Functional', 'Gr_Liv_Area',\n",
       "       'Half_Bath', 'Heating', 'Heating_QC', 'House_Style', 'Kitchen_AbvGr',\n",
       "       'Kitchen_Qual', 'Land_Contour', 'Land_Slope', 'Lot_Area', 'Lot_Config',\n",
       "       'Lot_Shape', 'MS_SubClass', 'MS_Zoning', 'Mas_Vnr_Type', 'Mo_Sold',\n",
       "       'Neighborhood', 'Overall_Cond', 'Overall_Qual', 'Paved_Drive',\n",
       "       'Roof_Matl', 'Roof_Style', 'SalePrice', 'Sale_Condition', 'Sale_Type',\n",
       "       'Street', 'TotRms_AbvGrd', 'Utilities', 'Year_Built', 'Year_Remod/Add',\n",
       "       'Yr_Sold'],\n",
       "      dtype='object')"
      ]
     },
     "execution_count": 3,
     "metadata": {},
     "output_type": "execute_result"
    }
   ],
   "source": [
    "df.columns"
   ]
  },
  {
   "cell_type": "code",
   "execution_count": 4,
   "metadata": {},
   "outputs": [
    {
     "data": {
      "text/plain": [
       "False"
      ]
     },
     "execution_count": 4,
     "metadata": {},
     "output_type": "execute_result"
    }
   ],
   "source": [
    "df.isnull().any().any()"
   ]
  },
  {
   "cell_type": "code",
   "execution_count": 5,
   "metadata": {},
   "outputs": [
    {
     "data": {
      "text/plain": [
       "2007    686\n",
       "2009    644\n",
       "2006    621\n",
       "2008    613\n",
       "2010    340\n",
       "Name: Yr_Sold, dtype: int64"
      ]
     },
     "execution_count": 5,
     "metadata": {},
     "output_type": "execute_result"
    }
   ],
   "source": [
    "df.Yr_Sold.value_counts()"
   ]
  },
  {
   "cell_type": "code",
   "execution_count": 6,
   "metadata": {},
   "outputs": [
    {
     "data": {
      "text/html": [
       "<div>\n",
       "<style scoped>\n",
       "    .dataframe tbody tr th:only-of-type {\n",
       "        vertical-align: middle;\n",
       "    }\n",
       "\n",
       "    .dataframe tbody tr th {\n",
       "        vertical-align: top;\n",
       "    }\n",
       "\n",
       "    .dataframe thead th {\n",
       "        text-align: right;\n",
       "    }\n",
       "</style>\n",
       "<table border=\"1\" class=\"dataframe\">\n",
       "  <thead>\n",
       "    <tr style=\"text-align: right;\">\n",
       "      <th></th>\n",
       "      <th>1st_Flr_SF</th>\n",
       "      <th>Bedroom_AbvGr</th>\n",
       "      <th>Bldg_Type</th>\n",
       "      <th>Bsmt_Full_Bath</th>\n",
       "      <th>Bsmt_Half_Bath</th>\n",
       "      <th>Central_Air</th>\n",
       "      <th>Condition_1</th>\n",
       "      <th>Condition_2</th>\n",
       "      <th>Electrical</th>\n",
       "      <th>Exter_Cond</th>\n",
       "      <th>...</th>\n",
       "      <th>Roof_Style</th>\n",
       "      <th>SalePrice</th>\n",
       "      <th>Sale_Condition</th>\n",
       "      <th>Sale_Type</th>\n",
       "      <th>Street</th>\n",
       "      <th>TotRms_AbvGrd</th>\n",
       "      <th>Utilities</th>\n",
       "      <th>Year_Built</th>\n",
       "      <th>Year_Remod/Add</th>\n",
       "      <th>Yr_Sold</th>\n",
       "    </tr>\n",
       "  </thead>\n",
       "  <tbody>\n",
       "    <tr>\n",
       "      <th>0</th>\n",
       "      <td>1656</td>\n",
       "      <td>3</td>\n",
       "      <td>1Fam</td>\n",
       "      <td>1.0</td>\n",
       "      <td>0.0</td>\n",
       "      <td>Y</td>\n",
       "      <td>Norm</td>\n",
       "      <td>Norm</td>\n",
       "      <td>SBrkr</td>\n",
       "      <td>TA</td>\n",
       "      <td>...</td>\n",
       "      <td>Hip</td>\n",
       "      <td>215000</td>\n",
       "      <td>Normal</td>\n",
       "      <td>WD</td>\n",
       "      <td>Pave</td>\n",
       "      <td>7</td>\n",
       "      <td>AllPub</td>\n",
       "      <td>1960</td>\n",
       "      <td>1960</td>\n",
       "      <td>2010</td>\n",
       "    </tr>\n",
       "    <tr>\n",
       "      <th>1</th>\n",
       "      <td>896</td>\n",
       "      <td>2</td>\n",
       "      <td>1Fam</td>\n",
       "      <td>0.0</td>\n",
       "      <td>0.0</td>\n",
       "      <td>Y</td>\n",
       "      <td>Feedr</td>\n",
       "      <td>Norm</td>\n",
       "      <td>SBrkr</td>\n",
       "      <td>TA</td>\n",
       "      <td>...</td>\n",
       "      <td>Gable</td>\n",
       "      <td>105000</td>\n",
       "      <td>Normal</td>\n",
       "      <td>WD</td>\n",
       "      <td>Pave</td>\n",
       "      <td>5</td>\n",
       "      <td>AllPub</td>\n",
       "      <td>1961</td>\n",
       "      <td>1961</td>\n",
       "      <td>2010</td>\n",
       "    </tr>\n",
       "    <tr>\n",
       "      <th>2</th>\n",
       "      <td>1329</td>\n",
       "      <td>3</td>\n",
       "      <td>1Fam</td>\n",
       "      <td>0.0</td>\n",
       "      <td>0.0</td>\n",
       "      <td>Y</td>\n",
       "      <td>Norm</td>\n",
       "      <td>Norm</td>\n",
       "      <td>SBrkr</td>\n",
       "      <td>TA</td>\n",
       "      <td>...</td>\n",
       "      <td>Hip</td>\n",
       "      <td>172000</td>\n",
       "      <td>Normal</td>\n",
       "      <td>WD</td>\n",
       "      <td>Pave</td>\n",
       "      <td>6</td>\n",
       "      <td>AllPub</td>\n",
       "      <td>1958</td>\n",
       "      <td>1958</td>\n",
       "      <td>2010</td>\n",
       "    </tr>\n",
       "    <tr>\n",
       "      <th>3</th>\n",
       "      <td>2110</td>\n",
       "      <td>3</td>\n",
       "      <td>1Fam</td>\n",
       "      <td>1.0</td>\n",
       "      <td>0.0</td>\n",
       "      <td>Y</td>\n",
       "      <td>Norm</td>\n",
       "      <td>Norm</td>\n",
       "      <td>SBrkr</td>\n",
       "      <td>TA</td>\n",
       "      <td>...</td>\n",
       "      <td>Hip</td>\n",
       "      <td>244000</td>\n",
       "      <td>Normal</td>\n",
       "      <td>WD</td>\n",
       "      <td>Pave</td>\n",
       "      <td>8</td>\n",
       "      <td>AllPub</td>\n",
       "      <td>1968</td>\n",
       "      <td>1968</td>\n",
       "      <td>2010</td>\n",
       "    </tr>\n",
       "    <tr>\n",
       "      <th>4</th>\n",
       "      <td>928</td>\n",
       "      <td>3</td>\n",
       "      <td>1Fam</td>\n",
       "      <td>0.0</td>\n",
       "      <td>0.0</td>\n",
       "      <td>Y</td>\n",
       "      <td>Norm</td>\n",
       "      <td>Norm</td>\n",
       "      <td>SBrkr</td>\n",
       "      <td>TA</td>\n",
       "      <td>...</td>\n",
       "      <td>Gable</td>\n",
       "      <td>189900</td>\n",
       "      <td>Normal</td>\n",
       "      <td>WD</td>\n",
       "      <td>Pave</td>\n",
       "      <td>6</td>\n",
       "      <td>AllPub</td>\n",
       "      <td>1997</td>\n",
       "      <td>1998</td>\n",
       "      <td>2010</td>\n",
       "    </tr>\n",
       "  </tbody>\n",
       "</table>\n",
       "<p>5 rows × 47 columns</p>\n",
       "</div>"
      ],
      "text/plain": [
       "   1st_Flr_SF  Bedroom_AbvGr Bldg_Type  Bsmt_Full_Bath  Bsmt_Half_Bath  \\\n",
       "0        1656              3      1Fam             1.0             0.0   \n",
       "1         896              2      1Fam             0.0             0.0   \n",
       "2        1329              3      1Fam             0.0             0.0   \n",
       "3        2110              3      1Fam             1.0             0.0   \n",
       "4         928              3      1Fam             0.0             0.0   \n",
       "\n",
       "  Central_Air Condition_1 Condition_2 Electrical Exter_Cond   ...    \\\n",
       "0           Y        Norm        Norm      SBrkr         TA   ...     \n",
       "1           Y       Feedr        Norm      SBrkr         TA   ...     \n",
       "2           Y        Norm        Norm      SBrkr         TA   ...     \n",
       "3           Y        Norm        Norm      SBrkr         TA   ...     \n",
       "4           Y        Norm        Norm      SBrkr         TA   ...     \n",
       "\n",
       "  Roof_Style SalePrice Sale_Condition Sale_Type  Street TotRms_AbvGrd  \\\n",
       "0        Hip    215000         Normal       WD     Pave             7   \n",
       "1      Gable    105000         Normal       WD     Pave             5   \n",
       "2        Hip    172000         Normal       WD     Pave             6   \n",
       "3        Hip    244000         Normal       WD     Pave             8   \n",
       "4      Gable    189900         Normal       WD     Pave             6   \n",
       "\n",
       "   Utilities  Year_Built Year_Remod/Add Yr_Sold  \n",
       "0     AllPub        1960           1960    2010  \n",
       "1     AllPub        1961           1961    2010  \n",
       "2     AllPub        1958           1958    2010  \n",
       "3     AllPub        1968           1968    2010  \n",
       "4     AllPub        1997           1998    2010  \n",
       "\n",
       "[5 rows x 47 columns]"
      ]
     },
     "execution_count": 6,
     "metadata": {},
     "output_type": "execute_result"
    }
   ],
   "source": [
    "df.head()"
   ]
  },
  {
   "cell_type": "code",
   "execution_count": 7,
   "metadata": {
    "colab": {},
    "colab_type": "code",
    "id": "WKFjWLI3w0P_"
   },
   "outputs": [
    {
     "data": {
      "text/plain": [
       "(2007    686\n",
       " 2006    621\n",
       " 2008    613\n",
       " Name: Yr_Sold, dtype: int64, 2009    644\n",
       " 2010    340\n",
       " Name: Yr_Sold, dtype: int64)"
      ]
     },
     "execution_count": 7,
     "metadata": {},
     "output_type": "execute_result"
    }
   ],
   "source": [
    "train = df[df.Yr_Sold <= 2008]\n",
    "test = df[df.Yr_Sold > 2008]\n",
    "train.Yr_Sold.value_counts(), test.Yr_Sold.value_counts()"
   ]
  },
  {
   "cell_type": "markdown",
   "metadata": {
    "colab_type": "text",
    "id": "CowG-cgZ5ZrB"
   },
   "source": [
    "## 2. Begin with baselines\n",
    "\n",
    "What is the Mean Absolute Error and R^2 score for a mean baseline?"
   ]
  },
  {
   "cell_type": "code",
   "execution_count": 8,
   "metadata": {
    "colab": {},
    "colab_type": "code",
    "id": "TbahVr-j5ZLs"
   },
   "outputs": [
    {
     "name": "stdout",
     "output_type": "stream",
     "text": [
      "Mean Absolute Error: 58502.9394639757, R^2 Score: 0.0\n"
     ]
    }
   ],
   "source": [
    "baseline_pred = np.array([train.SalePrice.mean()]*train.shape[0])\n",
    "mae = mean_absolute_error(train.SalePrice.values, baseline_pred)\n",
    "r2 = r2_score(train.SalePrice.values, baseline_pred)\n",
    "print(\"Mean Absolute Error: {}, R^2 Score: {}\".format(mae, r2))"
   ]
  },
  {
   "cell_type": "markdown",
   "metadata": {
    "colab_type": "text",
    "id": "hk1bYDJy6txq"
   },
   "source": [
    "## 3. Arrange data into X features matrix and y target vector\n",
    "Select at least one numeric feature and at least one categorical feature."
   ]
  },
  {
   "cell_type": "code",
   "execution_count": 9,
   "metadata": {
    "colab": {},
    "colab_type": "code",
    "id": "593Ko1S36svD"
   },
   "outputs": [
    {
     "name": "stdout",
     "output_type": "stream",
     "text": [
      "['1st_Flr_SF', 'Bedroom_AbvGr', 'Bsmt_Full_Bath', 'Bsmt_Half_Bath', 'Full_Bath', 'Gr_Liv_Area', 'Half_Bath', 'Kitchen_AbvGr', 'Lot_Area', 'MS_SubClass', 'Mo_Sold', 'Overall_Cond', 'Overall_Qual', 'SalePrice', 'TotRms_AbvGrd', 'Year_Built', 'Year_Remod/Add', 'Yr_Sold']\n",
      "['Bldg_Type', 'Central_Air', 'Condition_1', 'Condition_2', 'Electrical', 'Exter_Cond', 'Exter_Qual', 'Exterior_1st', 'Exterior_2nd', 'Foundation', 'Functional', 'Heating', 'Heating_QC', 'House_Style', 'Kitchen_Qual', 'Land_Contour', 'Land_Slope', 'Lot_Config', 'Lot_Shape', 'MS_Zoning', 'Mas_Vnr_Type', 'Neighborhood', 'Paved_Drive', 'Roof_Matl', 'Roof_Style', 'Sale_Condition', 'Sale_Type', 'Street', 'Utilities']\n"
     ]
    }
   ],
   "source": [
    "num_cols = train.select_dtypes(include=[np.number]).columns.tolist()\n",
    "print(num_cols)\n",
    "cat_cols = train.select_dtypes(exclude=[np.number]).columns.tolist()\n",
    "print(cat_cols)"
   ]
  },
  {
   "cell_type": "code",
   "execution_count": 10,
   "metadata": {},
   "outputs": [],
   "source": [
    "feature_cols = ['Lot_Area', 'Gr_Liv_Area', 'Bldg_Type']\n",
    "X_train = train[feature_cols]\n",
    "y_train = train.SalePrice\n",
    "X_test = test[feature_cols]\n",
    "y_test = test.SalePrice\n",
    "assert(X_train.shape[0] == y_train.shape[0])\n",
    "assert(X_test.shape[0] == y_test.shape[0])"
   ]
  },
  {
   "cell_type": "markdown",
   "metadata": {
    "colab_type": "text",
    "id": "zDT-gSl_-Gwh"
   },
   "source": [
    "## 4. Do one-hot encoding\n",
    "\n",
    "Encode your categorical feature(s)."
   ]
  },
  {
   "cell_type": "code",
   "execution_count": 11,
   "metadata": {
    "colab": {},
    "colab_type": "code",
    "id": "9L3RTeQl7Mu7"
   },
   "outputs": [],
   "source": [
    "# piping.\n",
    "encoder = ce.OneHotEncoder(use_cat_names=True)"
   ]
  },
  {
   "cell_type": "markdown",
   "metadata": {
    "colab_type": "text",
    "id": "2ZceruUx-Vs-"
   },
   "source": [
    "## 5. Use scikit-learn for Linear Regression\n",
    "Fit your model."
   ]
  },
  {
   "cell_type": "code",
   "execution_count": 12,
   "metadata": {
    "scrolled": false
   },
   "outputs": [
    {
     "name": "stdout",
     "output_type": "stream",
     "text": [
      "training score: 0.560479893062516\n"
     ]
    }
   ],
   "source": [
    "linreg = LinearRegression()\n",
    "\n",
    "pipe = Pipeline(steps=[('encoder', encoder), \n",
    "                       ('reg', linreg)])\n",
    "\n",
    "pipe.fit(X_train, y_train)\n",
    "print(\"training score: {}\".format(pipe.score(X_train, y_train)))"
   ]
  },
  {
   "cell_type": "markdown",
   "metadata": {
    "colab_type": "text",
    "id": "E9reASgw-i8T"
   },
   "source": [
    "## 6. Use regression metrics: MAE, R^2\n",
    "What is the Mean Absolute Error and R^2 score for your model? Beat the mean baseline!"
   ]
  },
  {
   "cell_type": "code",
   "execution_count": 13,
   "metadata": {},
   "outputs": [
    {
     "name": "stdout",
     "output_type": "stream",
     "text": [
      "mean absolute error: 37694.31548388713, r^2: 0.5308346625080993\n"
     ]
    }
   ],
   "source": [
    "y_pred = pipe.predict(X_test)\n",
    "print(\"mean absolute error: {}, r^2: {}\".format(mean_absolute_error(y_test, y_pred), r2_score(y_test, y_pred)))"
   ]
  },
  {
   "cell_type": "markdown",
   "metadata": {
    "colab_type": "text",
    "id": "NHnaqGAU-11z"
   },
   "source": [
    "## 7. Get coefficients of a linear model\n",
    "Print or plot the coefficients for the features in your model."
   ]
  },
  {
   "cell_type": "code",
   "execution_count": 14,
   "metadata": {
    "colab": {},
    "colab_type": "code",
    "id": "cwVomtJADsb4"
   },
   "outputs": [
    {
     "name": "stdout",
     "output_type": "stream",
     "text": [
      "coefficients after one hot encoding: [ 7.16358567e-01  1.08291334e+02  1.64046874e+04  5.41625449e+04\n",
      " -3.58344676e+04  2.71427223e+03 -3.74470369e+04]\n",
      "\n",
      "intercepts after one hot encoding: -4676.518852286332\n"
     ]
    }
   ],
   "source": [
    "print(\"coefficients after one hot encoding:\", pipe.named_steps['reg'].coef_)\n",
    "print(\"\\nintercepts after one hot encoding:\", pipe.named_steps['reg'].intercept_)"
   ]
  },
  {
   "cell_type": "markdown",
   "metadata": {
    "colab_type": "text",
    "id": "DidByDsrOa-o"
   },
   "source": [
    "## Stretch Goals\n",
    "- Try at least 3 different feature combinations.\n",
    "- Plot exploratory visualizations.\n",
    "- Get regression metrics RMSE, MAE, and $R^2$, for both the train and test data."
   ]
  },
  {
   "cell_type": "code",
   "execution_count": 15,
   "metadata": {
    "colab": {},
    "colab_type": "code",
    "id": "JQf9iwzf_uWh"
   },
   "outputs": [],
   "source": [
    "feat1 = ['1st_Flr_SF', 'Bedroom_AbvGr', 'Bsmt_Full_Bath', 'Bsmt_Half_Bath',\n",
    "         'Full_Bath', 'Gr_Liv_Area', 'Half_Bath', 'Kitchen_AbvGr', 'Lot_Area',\n",
    "         'MS_SubClass', 'Mo_Sold', 'Overall_Cond', 'Overall_Qual', 'TotRms_AbvGrd', \n",
    "         'Year_Built', 'Year_Remod/Add', 'Yr_Sold']\n",
    "feat2 = ['1st_Flr_SF', 'Bedroom_AbvGr', 'Bsmt_Full_Bath', 'Bsmt_Half_Bath', \n",
    "         'Full_Bath', 'Gr_Liv_Area', 'Half_Bath', 'Kitchen_AbvGr', 'Lot_Area', \n",
    "         'MS_SubClass', 'Mo_Sold', 'Overall_Cond', 'Overall_Qual', 'TotRms_AbvGrd',\n",
    "         'Year_Built', 'Year_Remod/Add', 'Yr_Sold', 'MS_Zoning']\n",
    "feat3 = ['1st_Flr_SF', 'Bedroom_AbvGr', 'Bsmt_Full_Bath', 'Bsmt_Half_Bath', \n",
    "         'Full_Bath', 'Gr_Liv_Area', 'Half_Bath', 'Kitchen_AbvGr', 'Lot_Area',\n",
    "         'MS_SubClass', 'Mo_Sold', 'Overall_Cond', 'Overall_Qual', 'TotRms_AbvGrd', \n",
    "         'Year_Built', 'Year_Remod/Add', 'Yr_Sold', 'Bldg_Type', 'Central_Air', \n",
    "         'Condition_1', 'Condition_2', 'Electrical', 'Exter_Cond', 'Exter_Qual', \n",
    "         'Exterior_1st', 'Exterior_2nd', 'Foundation', 'Functional', 'Heating', \n",
    "         'Heating_QC', 'House_Style', 'Kitchen_Qual', 'Land_Contour', 'Land_Slope', \n",
    "         'Lot_Config', 'Lot_Shape', 'MS_Zoning', 'Mas_Vnr_Type', 'Neighborhood', \n",
    "         'Paved_Drive', 'Roof_Matl', 'Roof_Style', 'Sale_Condition', 'Sale_Type', \n",
    "         'Street', 'Utilities']"
   ]
  },
  {
   "cell_type": "code",
   "execution_count": 16,
   "metadata": {},
   "outputs": [],
   "source": [
    "def reg_search(X_train, y_train, X_test, y_test, features):\n",
    "\n",
    "    print(\"Features:\", ', '.join(features))#*features, sep = \", \")\n",
    "    encoder = ce.OneHotEncoder(use_cat_names=True)\n",
    "    scaler = MinMaxScaler()\n",
    "    linreg = LinearRegression()\n",
    "\n",
    "    pipe = Pipeline(steps=[('encoder', encoder), \n",
    "                           ('scaler', scaler),\n",
    "                           ('reg', linreg)])\n",
    "\n",
    "    pipe.fit(X_train[features], y_train)\n",
    "\n",
    "    y_train_pred = pipe.predict(X_train[features])\n",
    "    print(\"\\nTraining score: {}\".format(pipe.score(X_train[features], y_train)))\n",
    "    print(\"Training RMSE: {}, MAE: {}, R^2: {}\".format(np.sqrt(mean_squared_error(y_train, y_train_pred)),\n",
    "                                                            mean_absolute_error(y_train, y_train_pred),\n",
    "                                                            r2_score(y_train, y_train_pred)))\n",
    "    \n",
    "    y_pred = pipe.predict(X_test[features])\n",
    "    print(\"\\nTesting score: {}\".format(pipe.score(X_test[features], y_test)))\n",
    "    print(\"Testing RMSE: {}, MAE: {}, R^2: {}\".format(np.sqrt(mean_squared_error(y_test, y_pred)),\n",
    "                                                            mean_absolute_error(y_test, y_pred),\n",
    "                                                            r2_score(y_test, y_pred)))\n",
    "    return pipe.named_steps['reg'].coef_"
   ]
  },
  {
   "cell_type": "code",
   "execution_count": 17,
   "metadata": {},
   "outputs": [
    {
     "name": "stdout",
     "output_type": "stream",
     "text": [
      "Features: 1st_Flr_SF, Bedroom_AbvGr, Bsmt_Full_Bath, Bsmt_Half_Bath, Full_Bath, Gr_Liv_Area, Half_Bath, Kitchen_AbvGr, Lot_Area, MS_SubClass, Mo_Sold, Overall_Cond, Overall_Qual, TotRms_AbvGrd, Year_Built, Year_Remod/Add, Yr_Sold\n",
      "\n",
      "Training score: 0.7981911610519946\n",
      "Training RMSE: 36028.75415888304, MAE: 22291.157583641037, R^2: 0.7981911610519946\n",
      "\n",
      "Testing score: 0.8363532629570185\n",
      "Testing RMSE: 31930.834018196143, MAE: 21466.643091550388, R^2: 0.8363532629570185\n"
     ]
    },
    {
     "data": {
      "text/plain": [
       "<BarContainer object of 17 artists>"
      ]
     },
     "execution_count": 17,
     "metadata": {},
     "output_type": "execute_result"
    },
    {
     "data": {
      "image/png": "[encoded data removed]",
      "text/plain": [
       "<Figure size 432x288 with 1 Axes>"
      ]
     },
     "metadata": {
      "needs_background": "light"
     },
     "output_type": "display_data"
    }
   ],
   "source": [
    "coeff1 = reg_search(train, y_train, test, y_test, feat1)\n",
    "plt.barh(feat1, coeff1)"
   ]
  },
  {
   "cell_type": "code",
   "execution_count": 18,
   "metadata": {},
   "outputs": [
    {
     "name": "stdout",
     "output_type": "stream",
     "text": [
      "Features: 1st_Flr_SF, Bedroom_AbvGr, Bsmt_Full_Bath, Bsmt_Half_Bath, Full_Bath, Gr_Liv_Area, Half_Bath, Kitchen_AbvGr, Lot_Area, MS_SubClass, Mo_Sold, Overall_Cond, Overall_Qual, TotRms_AbvGrd, Year_Built, Year_Remod/Add, Yr_Sold, MS_Zoning\n",
      "\n",
      "Training score: 0.798960077598204\n",
      "Training RMSE: 35960.05165851501, MAE: 22150.83689626594, R^2: 0.798960077598204\n",
      "\n",
      "Testing score: 0.8347059541921693\n",
      "Testing RMSE: 32091.143458963415, MAE: 21539.982588274866, R^2: 0.8347059541921693\n"
     ]
    },
    {
     "data": {
      "text/plain": [
       "<BarContainer object of 17 artists>"
      ]
     },
     "execution_count": 18,
     "metadata": {},
     "output_type": "execute_result"
    },
    {
     "data": {
      "image/png": "[encoded data removed]",
      "text/plain": [
       "<Figure size 432x288 with 1 Axes>"
      ]
     },
     "metadata": {
      "needs_background": "light"
     },
     "output_type": "display_data"
    }
   ],
   "source": [
    "coeff2 = reg_search(train, y_train, test, y_test, feat2)\n",
    "\n",
    "# cannot plot coefficients for categorical features that's\n",
    "# one hot encoded. Plotting numerical features only.\n",
    "plt.barh(feat1, coeff2[:len(feat1)])"
   ]
  },
  {
   "cell_type": "code",
   "execution_count": 19,
   "metadata": {},
   "outputs": [
    {
     "name": "stdout",
     "output_type": "stream",
     "text": [
      "Features: 1st_Flr_SF, Bedroom_AbvGr, Bsmt_Full_Bath, Bsmt_Half_Bath, Full_Bath, Gr_Liv_Area, Half_Bath, Kitchen_AbvGr, Lot_Area, MS_SubClass, Mo_Sold, Overall_Cond, Overall_Qual, TotRms_AbvGrd, Year_Built, Year_Remod/Add, Yr_Sold, Bldg_Type, Central_Air, Condition_1, Condition_2, Electrical, Exter_Cond, Exter_Qual, Exterior_1st, Exterior_2nd, Foundation, Functional, Heating, Heating_QC, House_Style, Kitchen_Qual, Land_Contour, Land_Slope, Lot_Config, Lot_Shape, MS_Zoning, Mas_Vnr_Type, Neighborhood, Paved_Drive, Roof_Matl, Roof_Style, Sale_Condition, Sale_Type, Street, Utilities\n",
      "\n",
      "Training score: 0.9001062565242525\n",
      "Training RMSE: 25348.268410932094, MAE: 16120.405013020832, R^2: 0.9001062565242525\n",
      "\n",
      "Testing score: -8.197656480340086e+18\n",
      "Testing RMSE: 225996360282055.62, MAE: 14446042405327.11, R^2: -8.197656480340086e+18\n"
     ]
    },
    {
     "data": {
      "text/plain": [
       "<BarContainer object of 17 artists>"
      ]
     },
     "execution_count": 19,
     "metadata": {},
     "output_type": "execute_result"
    },
    {
     "data": {
      "image/png": "[encoded data removed]",
      "text/plain": [
       "<Figure size 432x288 with 1 Axes>"
      ]
     },
     "metadata": {
      "needs_background": "light"
     },
     "output_type": "display_data"
    }
   ],
   "source": [
    "coeff3 = reg_search(train, y_train, test, y_test, feat3)\n",
    "\n",
    "# cannot plot coefficients for categorical features that's\n",
    "# one hot encoded. Plotting numerical features only.\n",
    "plt.barh(feat1, coeff3[:len(feat1)])"
   ]
  },
  {
   "cell_type": "code",
   "execution_count": null,
   "metadata": {},
   "outputs": [],
   "source": []
  },
  {
   "cell_type": "markdown",
   "metadata": {
    "colab_type": "text",
    "id": "PdkjBN1Dy_-A"
   },
   "source": [
    "## Data Dictionary \n",
    "\n",
    "Here's a description of the data fields:\n",
    "\n",
    "```\n",
    "1st_Flr_SF: First Floor square feet\n",
    "\n",
    "Bedroom_AbvGr: Bedrooms above grade (does NOT include basement bedrooms)\n",
    "\n",
    "Bldg_Type: Type of dwelling\n",
    "\t\t\n",
    "       1Fam\tSingle-family Detached\t\n",
    "       2FmCon\tTwo-family Conversion; originally built as one-family dwelling\n",
    "       Duplx\tDuplex\n",
    "       TwnhsE\tTownhouse End Unit\n",
    "       TwnhsI\tTownhouse Inside Unit\n",
    "       \n",
    "Bsmt_Half_Bath: Basement half bathrooms\n",
    "\n",
    "Bsmt_Full_Bath: Basement full bathrooms\n",
    "\n",
    "Central_Air: Central air conditioning\n",
    "\n",
    "       N\tNo\n",
    "       Y\tYes\n",
    "\t\t\n",
    "Condition_1: Proximity to various conditions\n",
    "\t\n",
    "       Artery\tAdjacent to arterial street\n",
    "       Feedr\tAdjacent to feeder street\t\n",
    "       Norm\tNormal\t\n",
    "       RRNn\tWithin 200' of North-South Railroad\n",
    "       RRAn\tAdjacent to North-South Railroad\n",
    "       PosN\tNear positive off-site feature--park, greenbelt, etc.\n",
    "       PosA\tAdjacent to postive off-site feature\n",
    "       RRNe\tWithin 200' of East-West Railroad\n",
    "       RRAe\tAdjacent to East-West Railroad\n",
    "\t\n",
    "Condition_2: Proximity to various conditions (if more than one is present)\n",
    "\t\t\n",
    "       Artery\tAdjacent to arterial street\n",
    "       Feedr\tAdjacent to feeder street\t\n",
    "       Norm\tNormal\t\n",
    "       RRNn\tWithin 200' of North-South Railroad\n",
    "       RRAn\tAdjacent to North-South Railroad\n",
    "       PosN\tNear positive off-site feature--park, greenbelt, etc.\n",
    "       PosA\tAdjacent to postive off-site feature\n",
    "       RRNe\tWithin 200' of East-West Railroad\n",
    "       RRAe\tAdjacent to East-West Railroad\n",
    "       \n",
    " Electrical: Electrical system\n",
    "\n",
    "       SBrkr\tStandard Circuit Breakers & Romex\n",
    "       FuseA\tFuse Box over 60 AMP and all Romex wiring (Average)\t\n",
    "       FuseF\t60 AMP Fuse Box and mostly Romex wiring (Fair)\n",
    "       FuseP\t60 AMP Fuse Box and mostly knob & tube wiring (poor)\n",
    "       Mix\tMixed\n",
    "       \n",
    " Exter_Cond: Evaluates the present condition of the material on the exterior\n",
    "\t\t\n",
    "       Ex\tExcellent\n",
    "       Gd\tGood\n",
    "       TA\tAverage/Typical\n",
    "       Fa\tFair\n",
    "       Po\tPoor\n",
    " \n",
    " Exter_Qual: Evaluates the quality of the material on the exterior \n",
    "\t\t\n",
    "       Ex\tExcellent\n",
    "       Gd\tGood\n",
    "       TA\tAverage/Typical\n",
    "       Fa\tFair\n",
    "       Po\tPoor\n",
    "\t\t\n",
    "Exterior_1st: Exterior covering on house\n",
    "\n",
    "       AsbShng\tAsbestos Shingles\n",
    "       AsphShn\tAsphalt Shingles\n",
    "       BrkComm\tBrick Common\n",
    "       BrkFace\tBrick Face\n",
    "       CBlock\tCinder Block\n",
    "       CemntBd\tCement Board\n",
    "       HdBoard\tHard Board\n",
    "       ImStucc\tImitation Stucco\n",
    "       MetalSd\tMetal Siding\n",
    "       Other\tOther\n",
    "       Plywood\tPlywood\n",
    "       PreCast\tPreCast\t\n",
    "       Stone\tStone\n",
    "       Stucco\tStucco\n",
    "       VinylSd\tVinyl Siding\n",
    "       Wd Sdng\tWood Siding\n",
    "       WdShing\tWood Shingles\n",
    "\t\n",
    "Exterior_2nd: Exterior covering on house (if more than one material)\n",
    "\n",
    "       AsbShng\tAsbestos Shingles\n",
    "       AsphShn\tAsphalt Shingles\n",
    "       BrkComm\tBrick Common\n",
    "       BrkFace\tBrick Face\n",
    "       CBlock\tCinder Block\n",
    "       CemntBd\tCement Board\n",
    "       HdBoard\tHard Board\n",
    "       ImStucc\tImitation Stucco\n",
    "       MetalSd\tMetal Siding\n",
    "       Other\tOther\n",
    "       Plywood\tPlywood\n",
    "       PreCast\tPreCast\n",
    "       Stone\tStone\n",
    "       Stucco\tStucco\n",
    "       VinylSd\tVinyl Siding\n",
    "       Wd Sdng\tWood Siding\n",
    "       WdShing\tWood Shingles\n",
    "       \n",
    "Foundation: Type of foundation\n",
    "\t\t\n",
    "       BrkTil\tBrick & Tile\n",
    "       CBlock\tCinder Block\n",
    "       PConc\tPoured Contrete\t\n",
    "       Slab\tSlab\n",
    "       Stone\tStone\n",
    "       Wood\tWood\n",
    "\t\t\n",
    "Full_Bath: Full bathrooms above grade\n",
    "\n",
    "Functional: Home functionality (Assume typical unless deductions are warranted)\n",
    "\n",
    "       Typ\tTypical Functionality\n",
    "       Min1\tMinor Deductions 1\n",
    "       Min2\tMinor Deductions 2\n",
    "       Mod\tModerate Deductions\n",
    "       Maj1\tMajor Deductions 1\n",
    "       Maj2\tMajor Deductions 2\n",
    "       Sev\tSeverely Damaged\n",
    "       Sal\tSalvage only\n",
    "\t\t\n",
    "Gr_Liv_Area: Above grade (ground) living area square feet\n",
    "        \n",
    "Half_Bath: Half baths above grade\n",
    "\n",
    "Heating: Type of heating\n",
    "\t\t\n",
    "       Floor\tFloor Furnace\n",
    "       GasA\tGas forced warm air furnace\n",
    "       GasW\tGas hot water or steam heat\n",
    "       Grav\tGravity furnace\t\n",
    "       OthW\tHot water or steam heat other than gas\n",
    "       Wall\tWall furnace\n",
    "\t\t\n",
    "Heating_QC: Heating quality and condition\n",
    "\n",
    "       Ex\tExcellent\n",
    "       Gd\tGood\n",
    "       TA\tAverage/Typical\n",
    "       Fa\tFair\n",
    "       Po\tPoor\n",
    "\n",
    "House_Style: Style of dwelling\n",
    "\t\n",
    "       1Story\tOne story\n",
    "       1.5Fin\tOne and one-half story: 2nd level finished\n",
    "       1.5Unf\tOne and one-half story: 2nd level unfinished\n",
    "       2Story\tTwo story\n",
    "       2.5Fin\tTwo and one-half story: 2nd level finished\n",
    "       2.5Unf\tTwo and one-half story: 2nd level unfinished\n",
    "       SFoyer\tSplit Foyer\n",
    "       SLvl\tSplit Level\n",
    "\n",
    "Kitchen_AbvGr: Kitchens above grade\n",
    "\n",
    "Kitchen_Qual: Kitchen quality\n",
    "\n",
    "       Ex\tExcellent\n",
    "       Gd\tGood\n",
    "       TA\tTypical/Average\n",
    "       Fa\tFair\n",
    "       Po\tPoor\n",
    "\n",
    "LandContour: Flatness of the property\n",
    "\n",
    "       Lvl\tNear Flat/Level\t\n",
    "       Bnk\tBanked - Quick and significant rise from street grade to building\n",
    "       HLS\tHillside - Significant slope from side to side\n",
    "       Low\tDepression\n",
    "\t\t\n",
    "Land_Slope: Slope of property\n",
    "\t\t\n",
    "       Gtl\tGentle slope\n",
    "       Mod\tModerate Slope\t\n",
    "       Sev\tSevere Slope\n",
    "\n",
    "Lot_Area: Lot size in square feet\n",
    "\n",
    "Lot_Config: Lot configuration\n",
    "\n",
    "       Inside\tInside lot\n",
    "       Corner\tCorner lot\n",
    "       CulDSac\tCul-de-sac\n",
    "       FR2\tFrontage on 2 sides of property\n",
    "       FR3\tFrontage on 3 sides of property\n",
    "\n",
    "Lot_Shape: General shape of property\n",
    "\n",
    "       Reg\tRegular\t\n",
    "       IR1\tSlightly irregular\n",
    "       IR2\tModerately Irregular\n",
    "       IR3\tIrregular\n",
    "\n",
    "MS_SubClass: Identifies the type of dwelling involved in the sale.\t\n",
    "\n",
    "        20\t1-STORY 1946 & NEWER ALL STYLES\n",
    "        30\t1-STORY 1945 & OLDER\n",
    "        40\t1-STORY W/FINISHED ATTIC ALL AGES\n",
    "        45\t1-1/2 STORY - UNFINISHED ALL AGES\n",
    "        50\t1-1/2 STORY FINISHED ALL AGES\n",
    "        60\t2-STORY 1946 & NEWER\n",
    "        70\t2-STORY 1945 & OLDER\n",
    "        75\t2-1/2 STORY ALL AGES\n",
    "        80\tSPLIT OR MULTI-LEVEL\n",
    "        85\tSPLIT FOYER\n",
    "        90\tDUPLEX - ALL STYLES AND AGES\n",
    "       120\t1-STORY PUD (Planned Unit Development) - 1946 & NEWER\n",
    "       150\t1-1/2 STORY PUD - ALL AGES\n",
    "       160\t2-STORY PUD - 1946 & NEWER\n",
    "       180\tPUD - MULTILEVEL - INCL SPLIT LEV/FOYER\n",
    "       190\t2 FAMILY CONVERSION - ALL STYLES AND AGES\n",
    "\n",
    "MS_Zoning: Identifies the general zoning classification of the sale.\n",
    "\t\t\n",
    "       A\tAgriculture\n",
    "       C\tCommercial\n",
    "       FV\tFloating Village Residential\n",
    "       I\tIndustrial\n",
    "       RH\tResidential High Density\n",
    "       RL\tResidential Low Density\n",
    "       RP\tResidential Low Density Park \n",
    "       RM\tResidential Medium Density\n",
    "\n",
    "Mas_Vnr_Type: Masonry veneer type\n",
    "\n",
    "       BrkCmn\tBrick Common\n",
    "       BrkFace\tBrick Face\n",
    "       CBlock\tCinder Block\n",
    "       None\tNone\n",
    "       Stone\tStone\n",
    "\n",
    "Mo_Sold: Month Sold (MM)\n",
    "\n",
    "Neighborhood: Physical locations within Ames city limits\n",
    "\n",
    "       Blmngtn\tBloomington Heights\n",
    "       Blueste\tBluestem\n",
    "       BrDale\tBriardale\n",
    "       BrkSide\tBrookside\n",
    "       ClearCr\tClear Creek\n",
    "       CollgCr\tCollege Creek\n",
    "       Crawfor\tCrawford\n",
    "       Edwards\tEdwards\n",
    "       Gilbert\tGilbert\n",
    "       IDOTRR\tIowa DOT and Rail Road\n",
    "       MeadowV\tMeadow Village\n",
    "       Mitchel\tMitchell\n",
    "       Names\tNorth Ames\n",
    "       NoRidge\tNorthridge\n",
    "       NPkVill\tNorthpark Villa\n",
    "       NridgHt\tNorthridge Heights\n",
    "       NWAmes\tNorthwest Ames\n",
    "       OldTown\tOld Town\n",
    "       SWISU\tSouth & West of Iowa State University\n",
    "       Sawyer\tSawyer\n",
    "       SawyerW\tSawyer West\n",
    "       Somerst\tSomerset\n",
    "       StoneBr\tStone Brook\n",
    "       Timber\tTimberland\n",
    "       Veenker\tVeenker\n",
    "\t\t\t\n",
    "Overall_Cond: Rates the overall condition of the house\n",
    "\n",
    "       10\tVery Excellent\n",
    "       9\tExcellent\n",
    "       8\tVery Good\n",
    "       7\tGood\n",
    "       6\tAbove Average\t\n",
    "       5\tAverage\n",
    "       4\tBelow Average\t\n",
    "       3\tFair\n",
    "       2\tPoor\n",
    "       1\tVery Poor\n",
    "\n",
    "Overall_Qual: Rates the overall material and finish of the house\n",
    "\n",
    "       10\tVery Excellent\n",
    "       9\tExcellent\n",
    "       8\tVery Good\n",
    "       7\tGood\n",
    "       6\tAbove Average\n",
    "       5\tAverage\n",
    "       4\tBelow Average\n",
    "       3\tFair\n",
    "       2\tPoor\n",
    "       1\tVery Poor\n",
    "\n",
    "Paved_Drive: Paved driveway\n",
    "\n",
    "       Y\tPaved \n",
    "       P\tPartial Pavement\n",
    "       N\tDirt/Gravel\n",
    "\n",
    "Roof_Matl: Roof material\n",
    "\n",
    "       ClyTile\tClay or Tile\n",
    "       CompShg\tStandard (Composite) Shingle\n",
    "       Membran\tMembrane\n",
    "       Metal\tMetal\n",
    "       Roll\tRoll\n",
    "       Tar&Grv\tGravel & Tar\n",
    "       WdShake\tWood Shakes\n",
    "       WdShngl\tWood Shingles\n",
    "\n",
    "Roof_Style: Type of roof\n",
    "\n",
    "       Flat\tFlat\n",
    "       Gable\tGable\n",
    "       Gambrel\tGabrel (Barn)\n",
    "       Hip\tHip\n",
    "       Mansard\tMansard\n",
    "       Shed\tShed\n",
    "\n",
    "SalePrice: the sales price for each house\n",
    "\n",
    "Sale_Condition: Condition of sale\n",
    "\n",
    "       Normal\tNormal Sale\n",
    "       Abnorml\tAbnormal Sale -  trade, foreclosure, short sale\n",
    "       AdjLand\tAdjoining Land Purchase\n",
    "       Alloca\tAllocation - two linked properties with separate deeds, typically condo with a garage unit\t\n",
    "       Family\tSale between family members\n",
    "       Partial\tHome was not completed when last assessed (associated with New Homes)\n",
    "\n",
    "Sale_Type: Type of sale\n",
    "\t\t\n",
    "       WD \tWarranty Deed - Conventional\n",
    "       CWD\tWarranty Deed - Cash\n",
    "       VWD\tWarranty Deed - VA Loan\n",
    "       New\tHome just constructed and sold\n",
    "       COD\tCourt Officer Deed/Estate\n",
    "       Con\tContract 15% Down payment regular terms\n",
    "       ConLw\tContract Low Down payment and low interest\n",
    "       ConLI\tContract Low Interest\n",
    "       ConLD\tContract Low Down\n",
    "       Oth\tOther\n",
    "\t\n",
    "Street: Type of road access to property\n",
    "\n",
    "       Grvl\tGravel\t\n",
    "       Pave\tPaved\n",
    "       \t\n",
    "TotRms_AbvGrd: Total rooms above grade (does not include bathrooms)\n",
    "\n",
    "Utilities: Type of utilities available\n",
    "\t\t\n",
    "       AllPub\tAll public Utilities (E,G,W,& S)\t\n",
    "       NoSewr\tElectricity, Gas, and Water (Septic Tank)\n",
    "       NoSeWa\tElectricity and Gas Only\n",
    "       ELO\tElectricity only\t\n",
    "\t\n",
    "Year_Built: Original construction date\n",
    "\n",
    "Year_Remod/Add: Remodel date (same as construction date if no remodeling or additions)\n",
    "\t\t\t\t\t\t\n",
    "Yr_Sold: Year Sold (YYYY)\t\n",
    "\n",
    "```"
   ]
  }
 ],
 "metadata": {
  "colab": {
   "collapsed_sections": [],
   "name": "DS_Sprint_Challenge_5_Linear_Models",
   "provenance": [],
   "version": "0.3.2"
  },
  "kernelspec": {
   "display_name": "Python 3",
   "language": "python",
   "name": "python3"
  },
  "language_info": {
   "codemirror_mode": {
    "name": "ipython",
    "version": 3
   },
   "file_extension": ".py",
   "mimetype": "text/x-python",
   "name": "python",
   "nbconvert_exporter": "python",
   "pygments_lexer": "ipython3",
   "version": "3.6.8"
  }
 },
 "nbformat": 4,
 "nbformat_minor": 1
}
