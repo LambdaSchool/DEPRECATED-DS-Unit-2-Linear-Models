{
 "cells": [
  {
   "cell_type": "markdown",
   "metadata": {
    "colab_type": "text",
    "id": "xDmZn3ApOM7t"
   },
   "source": [
    "_Lambda School Data Science, Unit 2_\n",
    " \n",
    "# Linear Models  Sprint Challenge: Predict home prices in Ames, Iowa 🏠💸\n",
    "\n",
    "To demonstrate mastery on your Sprint Challenge, do all the required, numbered instructions in this notebook.\n",
    "\n",
    "To earn a score of \"3\", also do all the stretch goals.\n",
    "\n",
    "For your Sprint Challenge, you'll use historical housing data. There's a data dictionary at the bottom of the notebook. \n",
    "\n",
    "Run this code cell to load the dataset:\n",
    "\n",
    "\n",
    "\n"
   ]
  },
  {
   "cell_type": "code",
   "execution_count": 69,
   "metadata": {},
   "outputs": [],
   "source": [
    "# First let's import\n",
    "import numpy as np\n",
    "import pandas as pd\n",
    "import matplotlib.pyplot as plt\n",
    "import math\n",
    "import seaborn as sns; sns.set()\n",
    "import category_encoders as ce\n",
    "from sklearn.linear_model import LinearRegression\n",
    "from sklearn.metrics import mean_absolute_error, mean_squared_error, r2_score\n",
    "from sklearn.metrics import accuracy_score\n",
    "from sklearn.preprocessing import StandardScaler \n",
    "from sklearn.model_selection import train_test_split\n",
    "%matplotlib inline"
   ]
  },
  {
   "cell_type": "code",
   "execution_count": 70,
   "metadata": {
    "colab": {},
    "colab_type": "code",
    "id": "7ptoRG1lu7H4"
   },
   "outputs": [],
   "source": [
    "# Let's get our data\n",
    "URL = 'https://drive.google.com/uc?export=download&id=1522WlEW6HFss36roD_Cd9nybqSuiVcCK'\n",
    "df = pd.read_csv(URL)\n",
    "assert df.shape == (2904, 47)"
   ]
  },
  {
   "cell_type": "code",
   "execution_count": 71,
   "metadata": {},
   "outputs": [
    {
     "data": {
      "text/plain": [
       "['1st_Flr_SF',\n",
       " 'Bedroom_AbvGr',\n",
       " 'Bldg_Type',\n",
       " 'Bsmt_Full_Bath',\n",
       " 'Bsmt_Half_Bath',\n",
       " 'Central_Air',\n",
       " 'Condition_1',\n",
       " 'Condition_2',\n",
       " 'Electrical',\n",
       " 'Exter_Cond',\n",
       " 'Exter_Qual',\n",
       " 'Exterior_1st',\n",
       " 'Exterior_2nd',\n",
       " 'Foundation',\n",
       " 'Full_Bath',\n",
       " 'Functional',\n",
       " 'Gr_Liv_Area',\n",
       " 'Half_Bath',\n",
       " 'Heating',\n",
       " 'Heating_QC',\n",
       " 'House_Style',\n",
       " 'Kitchen_AbvGr',\n",
       " 'Kitchen_Qual',\n",
       " 'Land_Contour',\n",
       " 'Land_Slope',\n",
       " 'Lot_Area',\n",
       " 'Lot_Config',\n",
       " 'Lot_Shape',\n",
       " 'MS_SubClass',\n",
       " 'MS_Zoning',\n",
       " 'Mas_Vnr_Type',\n",
       " 'Mo_Sold',\n",
       " 'Neighborhood',\n",
       " 'Overall_Cond',\n",
       " 'Overall_Qual',\n",
       " 'Paved_Drive',\n",
       " 'Roof_Matl',\n",
       " 'Roof_Style',\n",
       " 'SalePrice',\n",
       " 'Sale_Condition',\n",
       " 'Sale_Type',\n",
       " 'Street',\n",
       " 'TotRms_AbvGrd',\n",
       " 'Utilities',\n",
       " 'Year_Built',\n",
       " 'Year_Remod/Add',\n",
       " 'Yr_Sold']"
      ]
     },
     "execution_count": 71,
     "metadata": {},
     "output_type": "execute_result"
    }
   ],
   "source": [
    "# I would like to see the features\n",
    "list(df)"
   ]
  },
  {
   "cell_type": "code",
   "execution_count": null,
   "metadata": {},
   "outputs": [],
   "source": []
  },
  {
   "cell_type": "markdown",
   "metadata": {
    "colab_type": "text",
    "id": "yqeiq1wvyrTq"
   },
   "source": [
    "## 1. Do train/test split\n",
    "Train on houses sold in the years 2006 - 2008. Test on houses sold in the years 2009 - 2010."
   ]
  },
  {
   "cell_type": "code",
   "execution_count": 72,
   "metadata": {},
   "outputs": [
    {
     "data": {
      "text/plain": [
       "count    2904.000000\n",
       "mean     2007.792011\n",
       "std         1.318719\n",
       "min      2006.000000\n",
       "25%      2007.000000\n",
       "50%      2008.000000\n",
       "75%      2009.000000\n",
       "max      2010.000000\n",
       "Name: Yr_Sold, dtype: float64"
      ]
     },
     "execution_count": 72,
     "metadata": {},
     "output_type": "execute_result"
    }
   ],
   "source": [
    "# Let's explore Yr_Sold\n",
    "df['Yr_Sold'].describe()"
   ]
  },
  {
   "cell_type": "code",
   "execution_count": 73,
   "metadata": {},
   "outputs": [],
   "source": [
    "# We can do this split with inequalities, don't need the function\n",
    "train = df[df['Yr_Sold'] < 2009]\n",
    "test = df[df['Yr_Sold'] >= 2009]"
   ]
  },
  {
   "cell_type": "code",
   "execution_count": 74,
   "metadata": {
    "colab": {},
    "colab_type": "code",
    "id": "WKFjWLI3w0P_"
   },
   "outputs": [
    {
     "data": {
      "text/plain": [
       "((1920, 47), (984, 47))"
      ]
     },
     "execution_count": 74,
     "metadata": {},
     "output_type": "execute_result"
    }
   ],
   "source": [
    "# What kind of split did we get?\n",
    "train.shape, test.shape"
   ]
  },
  {
   "cell_type": "markdown",
   "metadata": {
    "colab_type": "text",
    "id": "CowG-cgZ5ZrB"
   },
   "source": [
    "## 2. Begin with baselines\n",
    "\n",
    "What is the Mean Absolute Error and R^2 score for a mean baseline?"
   ]
  },
  {
   "cell_type": "code",
   "execution_count": 75,
   "metadata": {},
   "outputs": [
    {
     "data": {
      "text/plain": [
       "181515.98645833333"
      ]
     },
     "execution_count": 75,
     "metadata": {},
     "output_type": "execute_result"
    }
   ],
   "source": [
    "# Let's calculate the mean for the baseline\n",
    "tspm = train['SalePrice'].mean()\n",
    "tspm"
   ]
  },
  {
   "cell_type": "code",
   "execution_count": 76,
   "metadata": {
    "colab": {},
    "colab_type": "code",
    "id": "TbahVr-j5ZLs"
   },
   "outputs": [
    {
     "name": "stdout",
     "output_type": "stream",
     "text": [
      "[181515 181515 181515 ... 181515 181515 181515]\n",
      "MAE: 58276.60467479675\n",
      "R^2: -0.001791240523888682\n"
     ]
    }
   ],
   "source": [
    "# Now we can use tspm to get our baseline\n",
    "ytest = test['SalePrice']\n",
    "ypred = np.full_like(ytest, fill_value=tspm)\n",
    "\n",
    "np.set_printoptions(threshold=100)\n",
    "assert len(ytest) == len(ypred)\n",
    "print(ypred)\n",
    "print(f\"MAE: {mean_absolute_error(ytest, ypred)}\")\n",
    "print(f\"R^2: {r2_score(ytest, ypred)}\")"
   ]
  },
  {
   "cell_type": "markdown",
   "metadata": {
    "colab_type": "text",
    "id": "hk1bYDJy6txq"
   },
   "source": [
    "## 3. Arrange data into X features matrix and y target vector\n",
    "Select at least one numeric feature and at least one categorical feature."
   ]
  },
  {
   "cell_type": "code",
   "execution_count": 77,
   "metadata": {
    "colab": {},
    "colab_type": "code",
    "id": "593Ko1S36svD"
   },
   "outputs": [
    {
     "data": {
      "text/html": [
       "<div>\n",
       "<style scoped>\n",
       "    .dataframe tbody tr th:only-of-type {\n",
       "        vertical-align: middle;\n",
       "    }\n",
       "\n",
       "    .dataframe tbody tr th {\n",
       "        vertical-align: top;\n",
       "    }\n",
       "\n",
       "    .dataframe thead th {\n",
       "        text-align: right;\n",
       "    }\n",
       "</style>\n",
       "<table border=\"1\" class=\"dataframe\">\n",
       "  <thead>\n",
       "    <tr style=\"text-align: right;\">\n",
       "      <th></th>\n",
       "      <th>count</th>\n",
       "      <th>unique</th>\n",
       "      <th>top</th>\n",
       "      <th>freq</th>\n",
       "    </tr>\n",
       "  </thead>\n",
       "  <tbody>\n",
       "    <tr>\n",
       "      <th>Bldg_Type</th>\n",
       "      <td>1920</td>\n",
       "      <td>5</td>\n",
       "      <td>1Fam</td>\n",
       "      <td>1588</td>\n",
       "    </tr>\n",
       "    <tr>\n",
       "      <th>Central_Air</th>\n",
       "      <td>1920</td>\n",
       "      <td>2</td>\n",
       "      <td>Y</td>\n",
       "      <td>1791</td>\n",
       "    </tr>\n",
       "    <tr>\n",
       "      <th>Condition_1</th>\n",
       "      <td>1920</td>\n",
       "      <td>9</td>\n",
       "      <td>Norm</td>\n",
       "      <td>1659</td>\n",
       "    </tr>\n",
       "    <tr>\n",
       "      <th>Condition_2</th>\n",
       "      <td>1920</td>\n",
       "      <td>8</td>\n",
       "      <td>Norm</td>\n",
       "      <td>1897</td>\n",
       "    </tr>\n",
       "    <tr>\n",
       "      <th>Electrical</th>\n",
       "      <td>1920</td>\n",
       "      <td>5</td>\n",
       "      <td>SBrkr</td>\n",
       "      <td>1752</td>\n",
       "    </tr>\n",
       "    <tr>\n",
       "      <th>Exter_Cond</th>\n",
       "      <td>1920</td>\n",
       "      <td>5</td>\n",
       "      <td>TA</td>\n",
       "      <td>1683</td>\n",
       "    </tr>\n",
       "    <tr>\n",
       "      <th>Exter_Qual</th>\n",
       "      <td>1920</td>\n",
       "      <td>4</td>\n",
       "      <td>TA</td>\n",
       "      <td>1197</td>\n",
       "    </tr>\n",
       "    <tr>\n",
       "      <th>Exterior_1st</th>\n",
       "      <td>1920</td>\n",
       "      <td>16</td>\n",
       "      <td>VinylSd</td>\n",
       "      <td>656</td>\n",
       "    </tr>\n",
       "    <tr>\n",
       "      <th>Exterior_2nd</th>\n",
       "      <td>1920</td>\n",
       "      <td>16</td>\n",
       "      <td>VinylSd</td>\n",
       "      <td>652</td>\n",
       "    </tr>\n",
       "    <tr>\n",
       "      <th>Foundation</th>\n",
       "      <td>1920</td>\n",
       "      <td>6</td>\n",
       "      <td>PConc</td>\n",
       "      <td>863</td>\n",
       "    </tr>\n",
       "    <tr>\n",
       "      <th>Functional</th>\n",
       "      <td>1920</td>\n",
       "      <td>8</td>\n",
       "      <td>Typ</td>\n",
       "      <td>1793</td>\n",
       "    </tr>\n",
       "    <tr>\n",
       "      <th>Heating</th>\n",
       "      <td>1920</td>\n",
       "      <td>6</td>\n",
       "      <td>GasA</td>\n",
       "      <td>1892</td>\n",
       "    </tr>\n",
       "    <tr>\n",
       "      <th>Heating_QC</th>\n",
       "      <td>1920</td>\n",
       "      <td>5</td>\n",
       "      <td>Ex</td>\n",
       "      <td>976</td>\n",
       "    </tr>\n",
       "    <tr>\n",
       "      <th>House_Style</th>\n",
       "      <td>1920</td>\n",
       "      <td>8</td>\n",
       "      <td>1Story</td>\n",
       "      <td>956</td>\n",
       "    </tr>\n",
       "    <tr>\n",
       "      <th>Kitchen_Qual</th>\n",
       "      <td>1920</td>\n",
       "      <td>4</td>\n",
       "      <td>TA</td>\n",
       "      <td>991</td>\n",
       "    </tr>\n",
       "    <tr>\n",
       "      <th>Land_Contour</th>\n",
       "      <td>1920</td>\n",
       "      <td>4</td>\n",
       "      <td>Lvl</td>\n",
       "      <td>1716</td>\n",
       "    </tr>\n",
       "    <tr>\n",
       "      <th>Land_Slope</th>\n",
       "      <td>1920</td>\n",
       "      <td>3</td>\n",
       "      <td>Gtl</td>\n",
       "      <td>1829</td>\n",
       "    </tr>\n",
       "    <tr>\n",
       "      <th>Lot_Config</th>\n",
       "      <td>1920</td>\n",
       "      <td>5</td>\n",
       "      <td>Inside</td>\n",
       "      <td>1418</td>\n",
       "    </tr>\n",
       "    <tr>\n",
       "      <th>Lot_Shape</th>\n",
       "      <td>1920</td>\n",
       "      <td>4</td>\n",
       "      <td>Reg</td>\n",
       "      <td>1203</td>\n",
       "    </tr>\n",
       "    <tr>\n",
       "      <th>MS_Zoning</th>\n",
       "      <td>1920</td>\n",
       "      <td>7</td>\n",
       "      <td>RL</td>\n",
       "      <td>1485</td>\n",
       "    </tr>\n",
       "    <tr>\n",
       "      <th>Mas_Vnr_Type</th>\n",
       "      <td>1920</td>\n",
       "      <td>5</td>\n",
       "      <td>None</td>\n",
       "      <td>1151</td>\n",
       "    </tr>\n",
       "    <tr>\n",
       "      <th>Neighborhood</th>\n",
       "      <td>1920</td>\n",
       "      <td>28</td>\n",
       "      <td>NAmes</td>\n",
       "      <td>290</td>\n",
       "    </tr>\n",
       "    <tr>\n",
       "      <th>Paved_Drive</th>\n",
       "      <td>1920</td>\n",
       "      <td>3</td>\n",
       "      <td>Y</td>\n",
       "      <td>1731</td>\n",
       "    </tr>\n",
       "    <tr>\n",
       "      <th>Roof_Matl</th>\n",
       "      <td>1920</td>\n",
       "      <td>8</td>\n",
       "      <td>CompShg</td>\n",
       "      <td>1887</td>\n",
       "    </tr>\n",
       "    <tr>\n",
       "      <th>Roof_Style</th>\n",
       "      <td>1920</td>\n",
       "      <td>6</td>\n",
       "      <td>Gable</td>\n",
       "      <td>1526</td>\n",
       "    </tr>\n",
       "    <tr>\n",
       "      <th>Sale_Condition</th>\n",
       "      <td>1920</td>\n",
       "      <td>6</td>\n",
       "      <td>Normal</td>\n",
       "      <td>1542</td>\n",
       "    </tr>\n",
       "    <tr>\n",
       "      <th>Sale_Type</th>\n",
       "      <td>1920</td>\n",
       "      <td>10</td>\n",
       "      <td>WD</td>\n",
       "      <td>1637</td>\n",
       "    </tr>\n",
       "    <tr>\n",
       "      <th>Street</th>\n",
       "      <td>1920</td>\n",
       "      <td>2</td>\n",
       "      <td>Pave</td>\n",
       "      <td>1912</td>\n",
       "    </tr>\n",
       "    <tr>\n",
       "      <th>Utilities</th>\n",
       "      <td>1920</td>\n",
       "      <td>2</td>\n",
       "      <td>AllPub</td>\n",
       "      <td>1919</td>\n",
       "    </tr>\n",
       "  </tbody>\n",
       "</table>\n",
       "</div>"
      ],
      "text/plain": [
       "               count unique      top  freq\n",
       "Bldg_Type       1920      5     1Fam  1588\n",
       "Central_Air     1920      2        Y  1791\n",
       "Condition_1     1920      9     Norm  1659\n",
       "Condition_2     1920      8     Norm  1897\n",
       "Electrical      1920      5    SBrkr  1752\n",
       "Exter_Cond      1920      5       TA  1683\n",
       "Exter_Qual      1920      4       TA  1197\n",
       "Exterior_1st    1920     16  VinylSd   656\n",
       "Exterior_2nd    1920     16  VinylSd   652\n",
       "Foundation      1920      6    PConc   863\n",
       "Functional      1920      8      Typ  1793\n",
       "Heating         1920      6     GasA  1892\n",
       "Heating_QC      1920      5       Ex   976\n",
       "House_Style     1920      8   1Story   956\n",
       "Kitchen_Qual    1920      4       TA   991\n",
       "Land_Contour    1920      4      Lvl  1716\n",
       "Land_Slope      1920      3      Gtl  1829\n",
       "Lot_Config      1920      5   Inside  1418\n",
       "Lot_Shape       1920      4      Reg  1203\n",
       "MS_Zoning       1920      7       RL  1485\n",
       "Mas_Vnr_Type    1920      5     None  1151\n",
       "Neighborhood    1920     28    NAmes   290\n",
       "Paved_Drive     1920      3        Y  1731\n",
       "Roof_Matl       1920      8  CompShg  1887\n",
       "Roof_Style      1920      6    Gable  1526\n",
       "Sale_Condition  1920      6   Normal  1542\n",
       "Sale_Type       1920     10      WD   1637\n",
       "Street          1920      2     Pave  1912\n",
       "Utilities       1920      2   AllPub  1919"
      ]
     },
     "execution_count": 77,
     "metadata": {},
     "output_type": "execute_result"
    }
   ],
   "source": [
    "train.describe(exclude='number').T"
   ]
  },
  {
   "cell_type": "code",
   "execution_count": 78,
   "metadata": {},
   "outputs": [
    {
     "data": {
      "text/html": [
       "<div>\n",
       "<style scoped>\n",
       "    .dataframe tbody tr th:only-of-type {\n",
       "        vertical-align: middle;\n",
       "    }\n",
       "\n",
       "    .dataframe tbody tr th {\n",
       "        vertical-align: top;\n",
       "    }\n",
       "\n",
       "    .dataframe thead th {\n",
       "        text-align: right;\n",
       "    }\n",
       "</style>\n",
       "<table border=\"1\" class=\"dataframe\">\n",
       "  <thead>\n",
       "    <tr style=\"text-align: right;\">\n",
       "      <th></th>\n",
       "      <th>count</th>\n",
       "      <th>mean</th>\n",
       "      <th>std</th>\n",
       "      <th>min</th>\n",
       "      <th>25%</th>\n",
       "      <th>50%</th>\n",
       "      <th>75%</th>\n",
       "      <th>max</th>\n",
       "    </tr>\n",
       "  </thead>\n",
       "  <tbody>\n",
       "    <tr>\n",
       "      <th>1st_Flr_SF</th>\n",
       "      <td>1920.0</td>\n",
       "      <td>1158.817188</td>\n",
       "      <td>391.430679</td>\n",
       "      <td>334.0</td>\n",
       "      <td>886.00</td>\n",
       "      <td>1084.0</td>\n",
       "      <td>1377.25</td>\n",
       "      <td>5095.0</td>\n",
       "    </tr>\n",
       "    <tr>\n",
       "      <th>Bedroom_AbvGr</th>\n",
       "      <td>1920.0</td>\n",
       "      <td>2.867188</td>\n",
       "      <td>0.827842</td>\n",
       "      <td>0.0</td>\n",
       "      <td>2.00</td>\n",
       "      <td>3.0</td>\n",
       "      <td>3.00</td>\n",
       "      <td>8.0</td>\n",
       "    </tr>\n",
       "    <tr>\n",
       "      <th>Bsmt_Full_Bath</th>\n",
       "      <td>1920.0</td>\n",
       "      <td>0.415625</td>\n",
       "      <td>0.515690</td>\n",
       "      <td>0.0</td>\n",
       "      <td>0.00</td>\n",
       "      <td>0.0</td>\n",
       "      <td>1.00</td>\n",
       "      <td>2.0</td>\n",
       "    </tr>\n",
       "    <tr>\n",
       "      <th>Bsmt_Half_Bath</th>\n",
       "      <td>1920.0</td>\n",
       "      <td>0.065625</td>\n",
       "      <td>0.255967</td>\n",
       "      <td>0.0</td>\n",
       "      <td>0.00</td>\n",
       "      <td>0.0</td>\n",
       "      <td>0.00</td>\n",
       "      <td>2.0</td>\n",
       "    </tr>\n",
       "    <tr>\n",
       "      <th>Full_Bath</th>\n",
       "      <td>1920.0</td>\n",
       "      <td>1.561458</td>\n",
       "      <td>0.550119</td>\n",
       "      <td>0.0</td>\n",
       "      <td>1.00</td>\n",
       "      <td>2.0</td>\n",
       "      <td>2.00</td>\n",
       "      <td>3.0</td>\n",
       "    </tr>\n",
       "    <tr>\n",
       "      <th>Gr_Liv_Area</th>\n",
       "      <td>1920.0</td>\n",
       "      <td>1504.033854</td>\n",
       "      <td>523.332578</td>\n",
       "      <td>334.0</td>\n",
       "      <td>1116.25</td>\n",
       "      <td>1436.0</td>\n",
       "      <td>1753.50</td>\n",
       "      <td>5642.0</td>\n",
       "    </tr>\n",
       "    <tr>\n",
       "      <th>Half_Bath</th>\n",
       "      <td>1920.0</td>\n",
       "      <td>0.374479</td>\n",
       "      <td>0.496863</td>\n",
       "      <td>0.0</td>\n",
       "      <td>0.00</td>\n",
       "      <td>0.0</td>\n",
       "      <td>1.00</td>\n",
       "      <td>2.0</td>\n",
       "    </tr>\n",
       "    <tr>\n",
       "      <th>Kitchen_AbvGr</th>\n",
       "      <td>1920.0</td>\n",
       "      <td>1.039062</td>\n",
       "      <td>0.201700</td>\n",
       "      <td>0.0</td>\n",
       "      <td>1.00</td>\n",
       "      <td>1.0</td>\n",
       "      <td>1.00</td>\n",
       "      <td>2.0</td>\n",
       "    </tr>\n",
       "    <tr>\n",
       "      <th>Lot_Area</th>\n",
       "      <td>1920.0</td>\n",
       "      <td>10257.809896</td>\n",
       "      <td>7807.171357</td>\n",
       "      <td>1470.0</td>\n",
       "      <td>7412.75</td>\n",
       "      <td>9422.0</td>\n",
       "      <td>11601.50</td>\n",
       "      <td>164660.0</td>\n",
       "    </tr>\n",
       "    <tr>\n",
       "      <th>MS_SubClass</th>\n",
       "      <td>1920.0</td>\n",
       "      <td>58.192708</td>\n",
       "      <td>43.040262</td>\n",
       "      <td>20.0</td>\n",
       "      <td>20.00</td>\n",
       "      <td>50.0</td>\n",
       "      <td>70.00</td>\n",
       "      <td>190.0</td>\n",
       "    </tr>\n",
       "    <tr>\n",
       "      <th>Mo_Sold</th>\n",
       "      <td>1920.0</td>\n",
       "      <td>6.425000</td>\n",
       "      <td>2.743242</td>\n",
       "      <td>1.0</td>\n",
       "      <td>5.00</td>\n",
       "      <td>6.0</td>\n",
       "      <td>8.00</td>\n",
       "      <td>12.0</td>\n",
       "    </tr>\n",
       "    <tr>\n",
       "      <th>Overall_Cond</th>\n",
       "      <td>1920.0</td>\n",
       "      <td>5.572917</td>\n",
       "      <td>1.089481</td>\n",
       "      <td>1.0</td>\n",
       "      <td>5.00</td>\n",
       "      <td>5.0</td>\n",
       "      <td>6.00</td>\n",
       "      <td>9.0</td>\n",
       "    </tr>\n",
       "    <tr>\n",
       "      <th>Overall_Qual</th>\n",
       "      <td>1920.0</td>\n",
       "      <td>6.103646</td>\n",
       "      <td>1.399467</td>\n",
       "      <td>1.0</td>\n",
       "      <td>5.00</td>\n",
       "      <td>6.0</td>\n",
       "      <td>7.00</td>\n",
       "      <td>10.0</td>\n",
       "    </tr>\n",
       "    <tr>\n",
       "      <th>SalePrice</th>\n",
       "      <td>1920.0</td>\n",
       "      <td>181515.986458</td>\n",
       "      <td>80221.777389</td>\n",
       "      <td>13100.0</td>\n",
       "      <td>129900.00</td>\n",
       "      <td>160500.0</td>\n",
       "      <td>214000.00</td>\n",
       "      <td>755000.0</td>\n",
       "    </tr>\n",
       "    <tr>\n",
       "      <th>TotRms_AbvGrd</th>\n",
       "      <td>1920.0</td>\n",
       "      <td>6.464062</td>\n",
       "      <td>1.577182</td>\n",
       "      <td>2.0</td>\n",
       "      <td>5.00</td>\n",
       "      <td>6.0</td>\n",
       "      <td>7.00</td>\n",
       "      <td>15.0</td>\n",
       "    </tr>\n",
       "    <tr>\n",
       "      <th>Year_Built</th>\n",
       "      <td>1920.0</td>\n",
       "      <td>1971.031771</td>\n",
       "      <td>30.186817</td>\n",
       "      <td>1872.0</td>\n",
       "      <td>1953.00</td>\n",
       "      <td>1972.0</td>\n",
       "      <td>2000.00</td>\n",
       "      <td>2008.0</td>\n",
       "    </tr>\n",
       "    <tr>\n",
       "      <th>Year_Remod/Add</th>\n",
       "      <td>1920.0</td>\n",
       "      <td>1983.888021</td>\n",
       "      <td>20.828300</td>\n",
       "      <td>1950.0</td>\n",
       "      <td>1965.00</td>\n",
       "      <td>1992.5</td>\n",
       "      <td>2003.00</td>\n",
       "      <td>2009.0</td>\n",
       "    </tr>\n",
       "    <tr>\n",
       "      <th>Yr_Sold</th>\n",
       "      <td>1920.0</td>\n",
       "      <td>2006.995833</td>\n",
       "      <td>0.801889</td>\n",
       "      <td>2006.0</td>\n",
       "      <td>2006.00</td>\n",
       "      <td>2007.0</td>\n",
       "      <td>2008.00</td>\n",
       "      <td>2008.0</td>\n",
       "    </tr>\n",
       "  </tbody>\n",
       "</table>\n",
       "</div>"
      ],
      "text/plain": [
       "                 count           mean           std      min        25%  \\\n",
       "1st_Flr_SF      1920.0    1158.817188    391.430679    334.0     886.00   \n",
       "Bedroom_AbvGr   1920.0       2.867188      0.827842      0.0       2.00   \n",
       "Bsmt_Full_Bath  1920.0       0.415625      0.515690      0.0       0.00   \n",
       "Bsmt_Half_Bath  1920.0       0.065625      0.255967      0.0       0.00   \n",
       "Full_Bath       1920.0       1.561458      0.550119      0.0       1.00   \n",
       "Gr_Liv_Area     1920.0    1504.033854    523.332578    334.0    1116.25   \n",
       "Half_Bath       1920.0       0.374479      0.496863      0.0       0.00   \n",
       "Kitchen_AbvGr   1920.0       1.039062      0.201700      0.0       1.00   \n",
       "Lot_Area        1920.0   10257.809896   7807.171357   1470.0    7412.75   \n",
       "MS_SubClass     1920.0      58.192708     43.040262     20.0      20.00   \n",
       "Mo_Sold         1920.0       6.425000      2.743242      1.0       5.00   \n",
       "Overall_Cond    1920.0       5.572917      1.089481      1.0       5.00   \n",
       "Overall_Qual    1920.0       6.103646      1.399467      1.0       5.00   \n",
       "SalePrice       1920.0  181515.986458  80221.777389  13100.0  129900.00   \n",
       "TotRms_AbvGrd   1920.0       6.464062      1.577182      2.0       5.00   \n",
       "Year_Built      1920.0    1971.031771     30.186817   1872.0    1953.00   \n",
       "Year_Remod/Add  1920.0    1983.888021     20.828300   1950.0    1965.00   \n",
       "Yr_Sold         1920.0    2006.995833      0.801889   2006.0    2006.00   \n",
       "\n",
       "                     50%        75%       max  \n",
       "1st_Flr_SF        1084.0    1377.25    5095.0  \n",
       "Bedroom_AbvGr        3.0       3.00       8.0  \n",
       "Bsmt_Full_Bath       0.0       1.00       2.0  \n",
       "Bsmt_Half_Bath       0.0       0.00       2.0  \n",
       "Full_Bath            2.0       2.00       3.0  \n",
       "Gr_Liv_Area       1436.0    1753.50    5642.0  \n",
       "Half_Bath            0.0       1.00       2.0  \n",
       "Kitchen_AbvGr        1.0       1.00       2.0  \n",
       "Lot_Area          9422.0   11601.50  164660.0  \n",
       "MS_SubClass         50.0      70.00     190.0  \n",
       "Mo_Sold              6.0       8.00      12.0  \n",
       "Overall_Cond         5.0       6.00       9.0  \n",
       "Overall_Qual         6.0       7.00      10.0  \n",
       "SalePrice       160500.0  214000.00  755000.0  \n",
       "TotRms_AbvGrd        6.0       7.00      15.0  \n",
       "Year_Built        1972.0    2000.00    2008.0  \n",
       "Year_Remod/Add    1992.5    2003.00    2009.0  \n",
       "Yr_Sold           2007.0    2008.00    2008.0  "
      ]
     },
     "execution_count": 78,
     "metadata": {},
     "output_type": "execute_result"
    }
   ],
   "source": [
    "train.describe().T"
   ]
  },
  {
   "cell_type": "code",
   "execution_count": 79,
   "metadata": {},
   "outputs": [],
   "source": [
    "# We'll use Bldg_Type and Lot_Area for our features\n",
    "feats = ['Bldg_Type', 'Lot_Area']\n",
    "target = 'SalePrice'\n",
    "\n",
    "xtrain = train[feats]\n",
    "ytrain = train[target]\n",
    "\n",
    "xtest = test[feats]\n",
    "ytest = test[target]"
   ]
  },
  {
   "cell_type": "markdown",
   "metadata": {
    "colab_type": "text",
    "id": "zDT-gSl_-Gwh"
   },
   "source": [
    "## 4. Do one-hot encoding\n",
    "\n",
    "Encode your categorical feature(s)."
   ]
  },
  {
   "cell_type": "code",
   "execution_count": 80,
   "metadata": {
    "colab": {},
    "colab_type": "code",
    "id": "9L3RTeQl7Mu7"
   },
   "outputs": [
    {
     "data": {
      "text/html": [
       "<div>\n",
       "<style scoped>\n",
       "    .dataframe tbody tr th:only-of-type {\n",
       "        vertical-align: middle;\n",
       "    }\n",
       "\n",
       "    .dataframe tbody tr th {\n",
       "        vertical-align: top;\n",
       "    }\n",
       "\n",
       "    .dataframe thead th {\n",
       "        text-align: right;\n",
       "    }\n",
       "</style>\n",
       "<table border=\"1\" class=\"dataframe\">\n",
       "  <thead>\n",
       "    <tr style=\"text-align: right;\">\n",
       "      <th></th>\n",
       "      <th>Bldg_Type_1Fam</th>\n",
       "      <th>Bldg_Type_TwnhsE</th>\n",
       "      <th>Bldg_Type_Duplex</th>\n",
       "      <th>Bldg_Type_Twnhs</th>\n",
       "      <th>Bldg_Type_2fmCon</th>\n",
       "    </tr>\n",
       "  </thead>\n",
       "  <tbody>\n",
       "    <tr>\n",
       "      <th>2096</th>\n",
       "      <td>1</td>\n",
       "      <td>0</td>\n",
       "      <td>0</td>\n",
       "      <td>0</td>\n",
       "      <td>0</td>\n",
       "    </tr>\n",
       "    <tr>\n",
       "      <th>2634</th>\n",
       "      <td>1</td>\n",
       "      <td>0</td>\n",
       "      <td>0</td>\n",
       "      <td>0</td>\n",
       "      <td>0</td>\n",
       "    </tr>\n",
       "    <tr>\n",
       "      <th>1177</th>\n",
       "      <td>1</td>\n",
       "      <td>0</td>\n",
       "      <td>0</td>\n",
       "      <td>0</td>\n",
       "      <td>0</td>\n",
       "    </tr>\n",
       "    <tr>\n",
       "      <th>1095</th>\n",
       "      <td>1</td>\n",
       "      <td>0</td>\n",
       "      <td>0</td>\n",
       "      <td>0</td>\n",
       "      <td>0</td>\n",
       "    </tr>\n",
       "    <tr>\n",
       "      <th>1352</th>\n",
       "      <td>1</td>\n",
       "      <td>0</td>\n",
       "      <td>0</td>\n",
       "      <td>0</td>\n",
       "      <td>0</td>\n",
       "    </tr>\n",
       "    <tr>\n",
       "      <th>2856</th>\n",
       "      <td>1</td>\n",
       "      <td>0</td>\n",
       "      <td>0</td>\n",
       "      <td>0</td>\n",
       "      <td>0</td>\n",
       "    </tr>\n",
       "    <tr>\n",
       "      <th>2551</th>\n",
       "      <td>1</td>\n",
       "      <td>0</td>\n",
       "      <td>0</td>\n",
       "      <td>0</td>\n",
       "      <td>0</td>\n",
       "    </tr>\n",
       "    <tr>\n",
       "      <th>2136</th>\n",
       "      <td>0</td>\n",
       "      <td>1</td>\n",
       "      <td>0</td>\n",
       "      <td>0</td>\n",
       "      <td>0</td>\n",
       "    </tr>\n",
       "    <tr>\n",
       "      <th>1881</th>\n",
       "      <td>1</td>\n",
       "      <td>0</td>\n",
       "      <td>0</td>\n",
       "      <td>0</td>\n",
       "      <td>0</td>\n",
       "    </tr>\n",
       "    <tr>\n",
       "      <th>2297</th>\n",
       "      <td>1</td>\n",
       "      <td>0</td>\n",
       "      <td>0</td>\n",
       "      <td>0</td>\n",
       "      <td>0</td>\n",
       "    </tr>\n",
       "    <tr>\n",
       "      <th>1393</th>\n",
       "      <td>1</td>\n",
       "      <td>0</td>\n",
       "      <td>0</td>\n",
       "      <td>0</td>\n",
       "      <td>0</td>\n",
       "    </tr>\n",
       "    <tr>\n",
       "      <th>2292</th>\n",
       "      <td>1</td>\n",
       "      <td>0</td>\n",
       "      <td>0</td>\n",
       "      <td>0</td>\n",
       "      <td>0</td>\n",
       "    </tr>\n",
       "    <tr>\n",
       "      <th>2422</th>\n",
       "      <td>1</td>\n",
       "      <td>0</td>\n",
       "      <td>0</td>\n",
       "      <td>0</td>\n",
       "      <td>0</td>\n",
       "    </tr>\n",
       "    <tr>\n",
       "      <th>1144</th>\n",
       "      <td>1</td>\n",
       "      <td>0</td>\n",
       "      <td>0</td>\n",
       "      <td>0</td>\n",
       "      <td>0</td>\n",
       "    </tr>\n",
       "    <tr>\n",
       "      <th>2163</th>\n",
       "      <td>1</td>\n",
       "      <td>0</td>\n",
       "      <td>0</td>\n",
       "      <td>0</td>\n",
       "      <td>0</td>\n",
       "    </tr>\n",
       "    <tr>\n",
       "      <th>1731</th>\n",
       "      <td>1</td>\n",
       "      <td>0</td>\n",
       "      <td>0</td>\n",
       "      <td>0</td>\n",
       "      <td>0</td>\n",
       "    </tr>\n",
       "    <tr>\n",
       "      <th>1568</th>\n",
       "      <td>1</td>\n",
       "      <td>0</td>\n",
       "      <td>0</td>\n",
       "      <td>0</td>\n",
       "      <td>0</td>\n",
       "    </tr>\n",
       "    <tr>\n",
       "      <th>1015</th>\n",
       "      <td>1</td>\n",
       "      <td>0</td>\n",
       "      <td>0</td>\n",
       "      <td>0</td>\n",
       "      <td>0</td>\n",
       "    </tr>\n",
       "    <tr>\n",
       "      <th>2549</th>\n",
       "      <td>1</td>\n",
       "      <td>0</td>\n",
       "      <td>0</td>\n",
       "      <td>0</td>\n",
       "      <td>0</td>\n",
       "    </tr>\n",
       "    <tr>\n",
       "      <th>2090</th>\n",
       "      <td>1</td>\n",
       "      <td>0</td>\n",
       "      <td>0</td>\n",
       "      <td>0</td>\n",
       "      <td>0</td>\n",
       "    </tr>\n",
       "  </tbody>\n",
       "</table>\n",
       "</div>"
      ],
      "text/plain": [
       "      Bldg_Type_1Fam  Bldg_Type_TwnhsE  Bldg_Type_Duplex  Bldg_Type_Twnhs  \\\n",
       "2096               1                 0                 0                0   \n",
       "2634               1                 0                 0                0   \n",
       "1177               1                 0                 0                0   \n",
       "1095               1                 0                 0                0   \n",
       "1352               1                 0                 0                0   \n",
       "2856               1                 0                 0                0   \n",
       "2551               1                 0                 0                0   \n",
       "2136               0                 1                 0                0   \n",
       "1881               1                 0                 0                0   \n",
       "2297               1                 0                 0                0   \n",
       "1393               1                 0                 0                0   \n",
       "2292               1                 0                 0                0   \n",
       "2422               1                 0                 0                0   \n",
       "1144               1                 0                 0                0   \n",
       "2163               1                 0                 0                0   \n",
       "1731               1                 0                 0                0   \n",
       "1568               1                 0                 0                0   \n",
       "1015               1                 0                 0                0   \n",
       "2549               1                 0                 0                0   \n",
       "2090               1                 0                 0                0   \n",
       "\n",
       "      Bldg_Type_2fmCon  \n",
       "2096                 0  \n",
       "2634                 0  \n",
       "1177                 0  \n",
       "1095                 0  \n",
       "1352                 0  \n",
       "2856                 0  \n",
       "2551                 0  \n",
       "2136                 0  \n",
       "1881                 0  \n",
       "2297                 0  \n",
       "1393                 0  \n",
       "2292                 0  \n",
       "2422                 0  \n",
       "1144                 0  \n",
       "2163                 0  \n",
       "1731                 0  \n",
       "1568                 0  \n",
       "1015                 0  \n",
       "2549                 0  \n",
       "2090                 0  "
      ]
     },
     "execution_count": 80,
     "metadata": {},
     "output_type": "execute_result"
    }
   ],
   "source": [
    "# Now let's one hot encode Bldg_Type \n",
    "encoder = ce.OneHotEncoder(use_cat_names=True)\n",
    "encoded = encoder.fit_transform(train['Bldg_Type'])\n",
    "\n",
    "encoded.sample(20)"
   ]
  },
  {
   "cell_type": "markdown",
   "metadata": {
    "colab_type": "text",
    "id": "2ZceruUx-Vs-"
   },
   "source": [
    "## 5. Use scikit-learn for Linear Regression\n",
    "Fit your model."
   ]
  },
  {
   "cell_type": "code",
   "execution_count": 81,
   "metadata": {
    "colab": {},
    "colab_type": "code",
    "id": "Kvy4Z0xv7eJF"
   },
   "outputs": [
    {
     "data": {
      "text/plain": [
       "array([243667.52095919, 186637.45638403, 194124.27992986, ...,\n",
       "       183260.60175637, 181533.9619216 , 183339.85735534])"
      ]
     },
     "execution_count": 81,
     "metadata": {},
     "output_type": "execute_result"
    }
   ],
   "source": [
    "# Now it's time to fit our model\n",
    "# We'll be combining the steps we did previously into a smooth workflow\n",
    "\n",
    "# First, Features and target\n",
    "feats = ['Bldg_Type', 'Lot_Area']\n",
    "target = 'SalePrice'\n",
    "\n",
    "xtrain = train[feats]\n",
    "ytrain = train[target]\n",
    "\n",
    "xtest = test[feats]\n",
    "ytest = test[target]\n",
    "\n",
    "# Then, One Hot Encoding\n",
    "encoder = ce.OneHotEncoder(use_cat_names=True)\n",
    "xtrain = encoder.fit_transform(xtrain)\n",
    "xtest = encoder.fit_transform(xtest)\n",
    "\n",
    "# Finaly we can fit our model\n",
    "model = LinearRegression()\n",
    "model.fit(xtrain, ytrain)\n",
    "ypred = model.predict(xtest)\n",
    "\n",
    "ypred"
   ]
  },
  {
   "cell_type": "markdown",
   "metadata": {
    "colab_type": "text",
    "id": "E9reASgw-i8T"
   },
   "source": [
    "## 6. Use regression metrics: MAE, R^2\n",
    "What is the Mean Absolute Error and R^2 score for your model? ***Beat the mean baseline!***"
   ]
  },
  {
   "cell_type": "code",
   "execution_count": 82,
   "metadata": {
    "colab": {},
    "colab_type": "code",
    "id": "q8GdnL4e7hyK"
   },
   "outputs": [
    {
     "name": "stdout",
     "output_type": "stream",
     "text": [
      "MAE: 54685.2686106037\n",
      "R2 Score: 0.0892944150748256\n"
     ]
    }
   ],
   "source": [
    "# Alright, let's see if we beat our baseline\n",
    "print('MAE:', mean_absolute_error(ytest, ypred))\n",
    "print('R2 Score:', r2_score(ytest, ypred))"
   ]
  },
  {
   "cell_type": "code",
   "execution_count": 83,
   "metadata": {},
   "outputs": [],
   "source": [
    "# SUCCESS!!!...if just barely"
   ]
  },
  {
   "cell_type": "markdown",
   "metadata": {
    "colab_type": "text",
    "id": "NHnaqGAU-11z"
   },
   "source": [
    "## 7. Get coefficients of a linear model\n",
    "Print or plot the coefficients for the features in your model."
   ]
  },
  {
   "cell_type": "code",
   "execution_count": 84,
   "metadata": {
    "colab": {},
    "colab_type": "code",
    "id": "cwVomtJADsb4"
   },
   "outputs": [
    {
     "data": {
      "text/plain": [
       "Bldg_Type_1Fam      20401.076840\n",
       "Bldg_Type_TwnhsE    53701.619744\n",
       "Bldg_Type_Duplex   -25968.835946\n",
       "Bldg_Type_Twnhs     -7371.589456\n",
       "Bldg_Type_2fmCon   -40762.271182\n",
       "Lot_Area                2.830557\n",
       "dtype: float64"
      ]
     },
     "execution_count": 84,
     "metadata": {},
     "output_type": "execute_result"
    }
   ],
   "source": [
    "# Now let's show our coefficients\n",
    "pd.Series(model.coef_, xtrain.columns)"
   ]
  },
  {
   "cell_type": "code",
   "execution_count": 85,
   "metadata": {},
   "outputs": [
    {
     "data": {
      "text/plain": [
       "<matplotlib.axes._subplots.AxesSubplot at 0x20167792940>"
      ]
     },
     "execution_count": 85,
     "metadata": {},
     "output_type": "execute_result"
    },
    {
     "data": {
      "image/png": "[encoded data removed]",
      "text/plain": [
       "<Figure size 432x288 with 1 Axes>"
      ]
     },
     "metadata": {
      "needs_background": "light"
     },
     "output_type": "display_data"
    }
   ],
   "source": [
    "# We can also plot our coefficients\n",
    "coefs = pd.Series(model.coef_, xtrain.columns)\n",
    "coefs.sort_values().plot.barh()"
   ]
  },
  {
   "cell_type": "markdown",
   "metadata": {
    "colab_type": "text",
    "id": "DidByDsrOa-o"
   },
   "source": [
    "## Stretch Goals\n",
    "- Try at least 3 different feature combinations.\n",
    "- Plot exploratory visualizations.\n",
    "- Get regression metrics RMSE, MAE, and $R^2$, for both the train and test data."
   ]
  },
  {
   "cell_type": "code",
   "execution_count": 86,
   "metadata": {
    "colab": {},
    "colab_type": "code",
    "id": "JQf9iwzf_uWh"
   },
   "outputs": [],
   "source": [
    "# Admittedly, we can do better with our MAE and R^2. Let's try again\n",
    "# First, Features and target\n",
    "feats = [\n",
    "    'Bedroom_AbvGr', \n",
    "    'Full_Bath',\n",
    "    'Central_Air',\n",
    "    'Kitchen_Qual',\n",
    "        ]\n",
    "target = 'SalePrice'\n",
    "\n",
    "xtrain = train[feats]\n",
    "ytrain = train[target]\n",
    "\n",
    "xtest = test[feats]\n",
    "ytest = test[target]\n",
    "\n",
    "# Then, One Hot Encoding\n",
    "encoder = ce.OneHotEncoder(use_cat_names=True)\n",
    "xtrain = encoder.fit_transform(xtrain)\n",
    "xtest = encoder.fit_transform(xtest)\n",
    "\n",
    "# # Finaly we can fit our model\n",
    "# model = LinearRegression()\n",
    "# model.fit(xtrain, ytrain)\n",
    "# ypred = model.predict(xtest)\n",
    "\n",
    "# ypred"
   ]
  },
  {
   "cell_type": "code",
   "execution_count": 87,
   "metadata": {},
   "outputs": [
    {
     "data": {
      "text/plain": [
       "['Bedroom_AbvGr',\n",
       " 'Full_Bath',\n",
       " 'Central_Air_Y',\n",
       " 'Central_Air_N',\n",
       " 'Kitchen_Qual_TA',\n",
       " 'Kitchen_Qual_Gd',\n",
       " 'Kitchen_Qual_Ex',\n",
       " 'Kitchen_Qual_Fa']"
      ]
     },
     "execution_count": 87,
     "metadata": {},
     "output_type": "execute_result"
    }
   ],
   "source": [
    "list(xtrain)"
   ]
  },
  {
   "cell_type": "code",
   "execution_count": 88,
   "metadata": {},
   "outputs": [
    {
     "data": {
      "text/plain": [
       "['Bedroom_AbvGr',\n",
       " 'Full_Bath',\n",
       " 'Central_Air_Y',\n",
       " 'Central_Air_N',\n",
       " 'Kitchen_Qual_TA',\n",
       " 'Kitchen_Qual_Gd',\n",
       " 'Kitchen_Qual_Ex',\n",
       " 'Kitchen_Qual_Fa',\n",
       " 'Kitchen_Qual_Po']"
      ]
     },
     "execution_count": 88,
     "metadata": {},
     "output_type": "execute_result"
    }
   ],
   "source": [
    "list(xtest)"
   ]
  },
  {
   "cell_type": "code",
   "execution_count": 92,
   "metadata": {},
   "outputs": [
    {
     "data": {
      "text/plain": [
       "array([333804.75467984, 325091.81709615, 333804.75467984, ...,\n",
       "       333804.75467984, 363522.18112224, 144250.07119643])"
      ]
     },
     "execution_count": 92,
     "metadata": {},
     "output_type": "execute_result"
    }
   ],
   "source": [
    "# Ok, can't use Kitchen_Qual\n",
    "# First, Features and target\n",
    "feats = [\n",
    "    'Bedroom_AbvGr', \n",
    "    'Full_Bath',\n",
    "    'Central_Air',\n",
    "    'Exter_Qual',\n",
    "        ]\n",
    "target = 'SalePrice'\n",
    "\n",
    "xtrain = train[feats]\n",
    "ytrain = train[target]\n",
    "\n",
    "xtest = test[feats]\n",
    "ytest = test[target]\n",
    "\n",
    "# Then, One Hot Encoding\n",
    "encoder = ce.OneHotEncoder(use_cat_names=True)\n",
    "xtrain = encoder.fit_transform(xtrain)\n",
    "xtest = encoder.fit_transform(xtest)\n",
    "\n",
    "# Finaly we can fit our model\n",
    "model = LinearRegression()\n",
    "model.fit(xtrain, ytrain)\n",
    "ypred = model.predict(xtest)\n",
    "\n",
    "ypred"
   ]
  },
  {
   "cell_type": "code",
   "execution_count": 93,
   "metadata": {},
   "outputs": [
    {
     "name": "stdout",
     "output_type": "stream",
     "text": [
      "MAE: 150913.31687521352\n",
      "R2 Score: -3.7086775826412177\n"
     ]
    }
   ],
   "source": [
    "# Alright, let's see if there is any improvement\n",
    "print('MAE:', mean_absolute_error(ytest, ypred))\n",
    "print('R2 Score:', r2_score(ytest, ypred))"
   ]
  },
  {
   "cell_type": "code",
   "execution_count": 99,
   "metadata": {},
   "outputs": [
    {
     "data": {
      "text/plain": [
       "['Bedroom_AbvGr',\n",
       " 'Full_Bath',\n",
       " 'Central_Air_Y',\n",
       " 'Central_Air_N',\n",
       " 'Exter_Qual_Ex',\n",
       " 'Exter_Qual_TA',\n",
       " 'Exter_Qual_Gd',\n",
       " 'Exter_Qual_Fa']"
      ]
     },
     "execution_count": 99,
     "metadata": {},
     "output_type": "execute_result"
    }
   ],
   "source": [
    "list(xtrain)"
   ]
  },
  {
   "cell_type": "code",
   "execution_count": 101,
   "metadata": {},
   "outputs": [
    {
     "data": {
      "text/plain": [
       "<matplotlib.axes._subplots.AxesSubplot at 0x2017161e400>"
      ]
     },
     "execution_count": 101,
     "metadata": {},
     "output_type": "execute_result"
    },
    {
     "data": {
      "image/png": "[encoded data removed]",
      "text/plain": [
       "<Figure size 432x288 with 1 Axes>"
      ]
     },
     "metadata": {
      "needs_background": "light"
     },
     "output_type": "display_data"
    }
   ],
   "source": [
    "# That was horrible, let's graph our coefficients\n",
    "coefs = pd.Series(model.coef_, xtrain.columns)\n",
    "coefs.sort_values().plot.barh()"
   ]
  },
  {
   "cell_type": "code",
   "execution_count": 103,
   "metadata": {},
   "outputs": [
    {
     "data": {
      "text/plain": [
       "array([164454.76580952, 119061.81806113, 164814.50104198, ...,\n",
       "       123984.06377627, 182971.55139906, 129985.51518879])"
      ]
     },
     "execution_count": 103,
     "metadata": {},
     "output_type": "execute_result"
    }
   ],
   "source": [
    "# Alright, let's try again\n",
    "# First, Features and target\n",
    "feats = [\n",
    "    'Bedroom_AbvGr', \n",
    "    'Full_Bath',\n",
    "    'Overall_Cond',\n",
    "    'Overall_Qual',\n",
    "        ]\n",
    "target = 'SalePrice'\n",
    "\n",
    "xtrain = train[feats]\n",
    "ytrain = train[target]\n",
    "\n",
    "xtest = test[feats]\n",
    "ytest = test[target]\n",
    "\n",
    "# # Then, One Hot Encoding\n",
    "# encoder = ce.OneHotEncoder(use_cat_names=True)\n",
    "# xtrain = encoder.fit_transform(xtrain)\n",
    "# xtest = encoder.fit_transform(xtest)\n",
    "\n",
    "# Finaly we can fit our model\n",
    "model = LinearRegression()\n",
    "model.fit(xtrain, ytrain)\n",
    "ypred = model.predict(xtest)\n",
    "\n",
    "ypred"
   ]
  },
  {
   "cell_type": "code",
   "execution_count": 104,
   "metadata": {},
   "outputs": [
    {
     "name": "stdout",
     "output_type": "stream",
     "text": [
      "MAE: 32733.7777407947\n",
      "R2 Score: 0.6634442653877481\n"
     ]
    }
   ],
   "source": [
    "# Alright, let's see if there is any improvement\n",
    "print('MAE:', mean_absolute_error(ytest, ypred))\n",
    "print('R2 Score:', r2_score(ytest, ypred))"
   ]
  },
  {
   "cell_type": "code",
   "execution_count": 105,
   "metadata": {},
   "outputs": [
    {
     "data": {
      "text/plain": [
       "<matplotlib.axes._subplots.AxesSubplot at 0x2017169cb38>"
      ]
     },
     "execution_count": 105,
     "metadata": {},
     "output_type": "execute_result"
    },
    {
     "data": {
      "image/png": "[encoded data removed]",
      "text/plain": [
       "<Figure size 432x288 with 1 Axes>"
      ]
     },
     "metadata": {
      "needs_background": "light"
     },
     "output_type": "display_data"
    }
   ],
   "source": [
    "# Huge improvement!!! Let's graph our coefficients\n",
    "coefs = pd.Series(model.coef_, xtrain.columns)\n",
    "coefs.sort_values().plot.barh()"
   ]
  },
  {
   "cell_type": "code",
   "execution_count": 106,
   "metadata": {},
   "outputs": [
    {
     "data": {
      "image/png": "[encoded data removed]",
      "text/plain": [
       "<Figure size 360x360 with 1 Axes>"
      ]
     },
     "metadata": {
      "needs_background": "light"
     },
     "output_type": "display_data"
    },
    {
     "data": {
      "image/png": "[encoded data removed]",
      "text/plain": [
       "<Figure size 360x360 with 1 Axes>"
      ]
     },
     "metadata": {
      "needs_background": "light"
     },
     "output_type": "display_data"
    },
    {
     "data": {
      "image/png": "[encoded data removed]",
      "text/plain": [
       "<Figure size 360x360 with 1 Axes>"
      ]
     },
     "metadata": {
      "needs_background": "light"
     },
     "output_type": "display_data"
    },
    {
     "data": {
      "image/png": "[encoded data removed]",
      "text/plain": [
       "<Figure size 360x360 with 1 Axes>"
      ]
     },
     "metadata": {
      "needs_background": "light"
     },
     "output_type": "display_data"
    }
   ],
   "source": [
    "# Let's take a look at the features themselves\n",
    "for feature in feats:\n",
    "    sns.lmplot(x=feature, y=target, data=df)"
   ]
  },
  {
   "cell_type": "code",
   "execution_count": 107,
   "metadata": {},
   "outputs": [
    {
     "name": "stdout",
     "output_type": "stream",
     "text": [
      "For out Test Set: \n",
      "Mean Absolute Error =  32733.7777407947 \n",
      "Root Mean Squared Error =  45791.522621739416 \n",
      "R-Squared Error =  0.6634442653877481\n"
     ]
    }
   ],
   "source": [
    "# And we can now show all of our required error values\n",
    "\n",
    "# First the test set\n",
    "mae_test = mean_absolute_error(ytest, ypred)\n",
    "mse_test = mean_squared_error(ytest, ypred)\n",
    "rms_test = np.sqrt(mse_test)\n",
    "r2_test = r2_score(ytest, ypred)\n",
    "\n",
    "print('For out Test Set:',\n",
    "      '\\nMean Absolute Error = ', mae_test,\n",
    "      '\\nRoot Mean Squared Error = ', rms_test,\n",
    "      '\\nR-Squared Error = ', r2_test\n",
    "     )"
   ]
  },
  {
   "cell_type": "code",
   "execution_count": 109,
   "metadata": {},
   "outputs": [
    {
     "name": "stdout",
     "output_type": "stream",
     "text": [
      "For out Training Set: \n",
      "Mean Absolute Error =  32760.7788749927 \n",
      "Root Mean Squared Error =  46684.28721158147 \n",
      "R-Squared Error =  0.6611689835684331\n"
     ]
    }
   ],
   "source": [
    "# And for the Training set\n",
    "ypred = model.predict(xtrain)\n",
    "\n",
    "mae_train = mean_absolute_error(ytrain, ypred)\n",
    "mse_train = mean_squared_error(ytrain, ypred)\n",
    "rms_train = np.sqrt(mse_train)\n",
    "r2_train = r2_score(ytrain, ypred)\n",
    "\n",
    "print('For out Training Set:',\n",
    "      '\\nMean Absolute Error = ', mae_train,\n",
    "      '\\nRoot Mean Squared Error = ', rms_train,\n",
    "      '\\nR-Squared Error = ', r2_train\n",
    "     )"
   ]
  },
  {
   "cell_type": "markdown",
   "metadata": {
    "colab_type": "text",
    "id": "PdkjBN1Dy_-A"
   },
   "source": [
    "## Data Dictionary \n",
    "\n",
    "Here's a description of the data fields:\n",
    "\n",
    "```\n",
    "1st_Flr_SF: First Floor square feet\n",
    "\n",
    "Bedroom_AbvGr: Bedrooms above grade (does NOT include basement bedrooms)\n",
    "\n",
    "Bldg_Type: Type of dwelling\n",
    "\t\t\n",
    "       1Fam\tSingle-family Detached\t\n",
    "       2FmCon\tTwo-family Conversion; originally built as one-family dwelling\n",
    "       Duplx\tDuplex\n",
    "       TwnhsE\tTownhouse End Unit\n",
    "       TwnhsI\tTownhouse Inside Unit\n",
    "       \n",
    "Bsmt_Half_Bath: Basement half bathrooms\n",
    "\n",
    "Bsmt_Full_Bath: Basement full bathrooms\n",
    "\n",
    "Central_Air: Central air conditioning\n",
    "\n",
    "       N\tNo\n",
    "       Y\tYes\n",
    "\t\t\n",
    "Condition_1: Proximity to various conditions\n",
    "\t\n",
    "       Artery\tAdjacent to arterial street\n",
    "       Feedr\tAdjacent to feeder street\t\n",
    "       Norm\tNormal\t\n",
    "       RRNn\tWithin 200' of North-South Railroad\n",
    "       RRAn\tAdjacent to North-South Railroad\n",
    "       PosN\tNear positive off-site feature--park, greenbelt, etc.\n",
    "       PosA\tAdjacent to postive off-site feature\n",
    "       RRNe\tWithin 200' of East-West Railroad\n",
    "       RRAe\tAdjacent to East-West Railroad\n",
    "\t\n",
    "Condition_2: Proximity to various conditions (if more than one is present)\n",
    "\t\t\n",
    "       Artery\tAdjacent to arterial street\n",
    "       Feedr\tAdjacent to feeder street\t\n",
    "       Norm\tNormal\t\n",
    "       RRNn\tWithin 200' of North-South Railroad\n",
    "       RRAn\tAdjacent to North-South Railroad\n",
    "       PosN\tNear positive off-site feature--park, greenbelt, etc.\n",
    "       PosA\tAdjacent to postive off-site feature\n",
    "       RRNe\tWithin 200' of East-West Railroad\n",
    "       RRAe\tAdjacent to East-West Railroad\n",
    "       \n",
    " Electrical: Electrical system\n",
    "\n",
    "       SBrkr\tStandard Circuit Breakers & Romex\n",
    "       FuseA\tFuse Box over 60 AMP and all Romex wiring (Average)\t\n",
    "       FuseF\t60 AMP Fuse Box and mostly Romex wiring (Fair)\n",
    "       FuseP\t60 AMP Fuse Box and mostly knob & tube wiring (poor)\n",
    "       Mix\tMixed\n",
    "       \n",
    " Exter_Cond: Evaluates the present condition of the material on the exterior\n",
    "\t\t\n",
    "       Ex\tExcellent\n",
    "       Gd\tGood\n",
    "       TA\tAverage/Typical\n",
    "       Fa\tFair\n",
    "       Po\tPoor\n",
    " \n",
    " Exter_Qual: Evaluates the quality of the material on the exterior \n",
    "\t\t\n",
    "       Ex\tExcellent\n",
    "       Gd\tGood\n",
    "       TA\tAverage/Typical\n",
    "       Fa\tFair\n",
    "       Po\tPoor\n",
    "\t\t\n",
    "Exterior_1st: Exterior covering on house\n",
    "\n",
    "       AsbShng\tAsbestos Shingles\n",
    "       AsphShn\tAsphalt Shingles\n",
    "       BrkComm\tBrick Common\n",
    "       BrkFace\tBrick Face\n",
    "       CBlock\tCinder Block\n",
    "       CemntBd\tCement Board\n",
    "       HdBoard\tHard Board\n",
    "       ImStucc\tImitation Stucco\n",
    "       MetalSd\tMetal Siding\n",
    "       Other\tOther\n",
    "       Plywood\tPlywood\n",
    "       PreCast\tPreCast\t\n",
    "       Stone\tStone\n",
    "       Stucco\tStucco\n",
    "       VinylSd\tVinyl Siding\n",
    "       Wd Sdng\tWood Siding\n",
    "       WdShing\tWood Shingles\n",
    "\t\n",
    "Exterior_2nd: Exterior covering on house (if more than one material)\n",
    "\n",
    "       AsbShng\tAsbestos Shingles\n",
    "       AsphShn\tAsphalt Shingles\n",
    "       BrkComm\tBrick Common\n",
    "       BrkFace\tBrick Face\n",
    "       CBlock\tCinder Block\n",
    "       CemntBd\tCement Board\n",
    "       HdBoard\tHard Board\n",
    "       ImStucc\tImitation Stucco\n",
    "       MetalSd\tMetal Siding\n",
    "       Other\tOther\n",
    "       Plywood\tPlywood\n",
    "       PreCast\tPreCast\n",
    "       Stone\tStone\n",
    "       Stucco\tStucco\n",
    "       VinylSd\tVinyl Siding\n",
    "       Wd Sdng\tWood Siding\n",
    "       WdShing\tWood Shingles\n",
    "       \n",
    "Foundation: Type of foundation\n",
    "\t\t\n",
    "       BrkTil\tBrick & Tile\n",
    "       CBlock\tCinder Block\n",
    "       PConc\tPoured Contrete\t\n",
    "       Slab\tSlab\n",
    "       Stone\tStone\n",
    "       Wood\tWood\n",
    "\t\t\n",
    "Full_Bath: Full bathrooms above grade\n",
    "\n",
    "Functional: Home functionality (Assume typical unless deductions are warranted)\n",
    "\n",
    "       Typ\tTypical Functionality\n",
    "       Min1\tMinor Deductions 1\n",
    "       Min2\tMinor Deductions 2\n",
    "       Mod\tModerate Deductions\n",
    "       Maj1\tMajor Deductions 1\n",
    "       Maj2\tMajor Deductions 2\n",
    "       Sev\tSeverely Damaged\n",
    "       Sal\tSalvage only\n",
    "\t\t\n",
    "Gr_Liv_Area: Above grade (ground) living area square feet\n",
    "        \n",
    "Half_Bath: Half baths above grade\n",
    "\n",
    "Heating: Type of heating\n",
    "\t\t\n",
    "       Floor\tFloor Furnace\n",
    "       GasA\tGas forced warm air furnace\n",
    "       GasW\tGas hot water or steam heat\n",
    "       Grav\tGravity furnace\t\n",
    "       OthW\tHot water or steam heat other than gas\n",
    "       Wall\tWall furnace\n",
    "\t\t\n",
    "Heating_QC: Heating quality and condition\n",
    "\n",
    "       Ex\tExcellent\n",
    "       Gd\tGood\n",
    "       TA\tAverage/Typical\n",
    "       Fa\tFair\n",
    "       Po\tPoor\n",
    "\n",
    "House_Style: Style of dwelling\n",
    "\t\n",
    "       1Story\tOne story\n",
    "       1.5Fin\tOne and one-half story: 2nd level finished\n",
    "       1.5Unf\tOne and one-half story: 2nd level unfinished\n",
    "       2Story\tTwo story\n",
    "       2.5Fin\tTwo and one-half story: 2nd level finished\n",
    "       2.5Unf\tTwo and one-half story: 2nd level unfinished\n",
    "       SFoyer\tSplit Foyer\n",
    "       SLvl\tSplit Level\n",
    "\n",
    "Kitchen_AbvGr: Kitchens above grade\n",
    "\n",
    "Kitchen_Qual: Kitchen quality\n",
    "\n",
    "       Ex\tExcellent\n",
    "       Gd\tGood\n",
    "       TA\tTypical/Average\n",
    "       Fa\tFair\n",
    "       Po\tPoor\n",
    "\n",
    "LandContour: Flatness of the property\n",
    "\n",
    "       Lvl\tNear Flat/Level\t\n",
    "       Bnk\tBanked - Quick and significant rise from street grade to building\n",
    "       HLS\tHillside - Significant slope from side to side\n",
    "       Low\tDepression\n",
    "\t\t\n",
    "Land_Slope: Slope of property\n",
    "\t\t\n",
    "       Gtl\tGentle slope\n",
    "       Mod\tModerate Slope\t\n",
    "       Sev\tSevere Slope\n",
    "\n",
    "Lot_Area: Lot size in square feet\n",
    "\n",
    "Lot_Config: Lot configuration\n",
    "\n",
    "       Inside\tInside lot\n",
    "       Corner\tCorner lot\n",
    "       CulDSac\tCul-de-sac\n",
    "       FR2\tFrontage on 2 sides of property\n",
    "       FR3\tFrontage on 3 sides of property\n",
    "\n",
    "Lot_Shape: General shape of property\n",
    "\n",
    "       Reg\tRegular\t\n",
    "       IR1\tSlightly irregular\n",
    "       IR2\tModerately Irregular\n",
    "       IR3\tIrregular\n",
    "\n",
    "MS_SubClass: Identifies the type of dwelling involved in the sale.\t\n",
    "\n",
    "        20\t1-STORY 1946 & NEWER ALL STYLES\n",
    "        30\t1-STORY 1945 & OLDER\n",
    "        40\t1-STORY W/FINISHED ATTIC ALL AGES\n",
    "        45\t1-1/2 STORY - UNFINISHED ALL AGES\n",
    "        50\t1-1/2 STORY FINISHED ALL AGES\n",
    "        60\t2-STORY 1946 & NEWER\n",
    "        70\t2-STORY 1945 & OLDER\n",
    "        75\t2-1/2 STORY ALL AGES\n",
    "        80\tSPLIT OR MULTI-LEVEL\n",
    "        85\tSPLIT FOYER\n",
    "        90\tDUPLEX - ALL STYLES AND AGES\n",
    "       120\t1-STORY PUD (Planned Unit Development) - 1946 & NEWER\n",
    "       150\t1-1/2 STORY PUD - ALL AGES\n",
    "       160\t2-STORY PUD - 1946 & NEWER\n",
    "       180\tPUD - MULTILEVEL - INCL SPLIT LEV/FOYER\n",
    "       190\t2 FAMILY CONVERSION - ALL STYLES AND AGES\n",
    "\n",
    "MS_Zoning: Identifies the general zoning classification of the sale.\n",
    "\t\t\n",
    "       A\tAgriculture\n",
    "       C\tCommercial\n",
    "       FV\tFloating Village Residential\n",
    "       I\tIndustrial\n",
    "       RH\tResidential High Density\n",
    "       RL\tResidential Low Density\n",
    "       RP\tResidential Low Density Park \n",
    "       RM\tResidential Medium Density\n",
    "\n",
    "Mas_Vnr_Type: Masonry veneer type\n",
    "\n",
    "       BrkCmn\tBrick Common\n",
    "       BrkFace\tBrick Face\n",
    "       CBlock\tCinder Block\n",
    "       None\tNone\n",
    "       Stone\tStone\n",
    "\n",
    "Mo_Sold: Month Sold (MM)\n",
    "\n",
    "Neighborhood: Physical locations within Ames city limits\n",
    "\n",
    "       Blmngtn\tBloomington Heights\n",
    "       Blueste\tBluestem\n",
    "       BrDale\tBriardale\n",
    "       BrkSide\tBrookside\n",
    "       ClearCr\tClear Creek\n",
    "       CollgCr\tCollege Creek\n",
    "       Crawfor\tCrawford\n",
    "       Edwards\tEdwards\n",
    "       Gilbert\tGilbert\n",
    "       IDOTRR\tIowa DOT and Rail Road\n",
    "       MeadowV\tMeadow Village\n",
    "       Mitchel\tMitchell\n",
    "       Names\tNorth Ames\n",
    "       NoRidge\tNorthridge\n",
    "       NPkVill\tNorthpark Villa\n",
    "       NridgHt\tNorthridge Heights\n",
    "       NWAmes\tNorthwest Ames\n",
    "       OldTown\tOld Town\n",
    "       SWISU\tSouth & West of Iowa State University\n",
    "       Sawyer\tSawyer\n",
    "       SawyerW\tSawyer West\n",
    "       Somerst\tSomerset\n",
    "       StoneBr\tStone Brook\n",
    "       Timber\tTimberland\n",
    "       Veenker\tVeenker\n",
    "\t\t\t\n",
    "Overall_Cond: Rates the overall condition of the house\n",
    "\n",
    "       10\tVery Excellent\n",
    "       9\tExcellent\n",
    "       8\tVery Good\n",
    "       7\tGood\n",
    "       6\tAbove Average\t\n",
    "       5\tAverage\n",
    "       4\tBelow Average\t\n",
    "       3\tFair\n",
    "       2\tPoor\n",
    "       1\tVery Poor\n",
    "\n",
    "Overall_Qual: Rates the overall material and finish of the house\n",
    "\n",
    "       10\tVery Excellent\n",
    "       9\tExcellent\n",
    "       8\tVery Good\n",
    "       7\tGood\n",
    "       6\tAbove Average\n",
    "       5\tAverage\n",
    "       4\tBelow Average\n",
    "       3\tFair\n",
    "       2\tPoor\n",
    "       1\tVery Poor\n",
    "\n",
    "Paved_Drive: Paved driveway\n",
    "\n",
    "       Y\tPaved \n",
    "       P\tPartial Pavement\n",
    "       N\tDirt/Gravel\n",
    "\n",
    "Roof_Matl: Roof material\n",
    "\n",
    "       ClyTile\tClay or Tile\n",
    "       CompShg\tStandard (Composite) Shingle\n",
    "       Membran\tMembrane\n",
    "       Metal\tMetal\n",
    "       Roll\tRoll\n",
    "       Tar&Grv\tGravel & Tar\n",
    "       WdShake\tWood Shakes\n",
    "       WdShngl\tWood Shingles\n",
    "\n",
    "Roof_Style: Type of roof\n",
    "\n",
    "       Flat\tFlat\n",
    "       Gable\tGable\n",
    "       Gambrel\tGabrel (Barn)\n",
    "       Hip\tHip\n",
    "       Mansard\tMansard\n",
    "       Shed\tShed\n",
    "\n",
    "SalePrice: the sales price for each house\n",
    "\n",
    "Sale_Condition: Condition of sale\n",
    "\n",
    "       Normal\tNormal Sale\n",
    "       Abnorml\tAbnormal Sale -  trade, foreclosure, short sale\n",
    "       AdjLand\tAdjoining Land Purchase\n",
    "       Alloca\tAllocation - two linked properties with separate deeds, typically condo with a garage unit\t\n",
    "       Family\tSale between family members\n",
    "       Partial\tHome was not completed when last assessed (associated with New Homes)\n",
    "\n",
    "Sale_Type: Type of sale\n",
    "\t\t\n",
    "       WD \tWarranty Deed - Conventional\n",
    "       CWD\tWarranty Deed - Cash\n",
    "       VWD\tWarranty Deed - VA Loan\n",
    "       New\tHome just constructed and sold\n",
    "       COD\tCourt Officer Deed/Estate\n",
    "       Con\tContract 15% Down payment regular terms\n",
    "       ConLw\tContract Low Down payment and low interest\n",
    "       ConLI\tContract Low Interest\n",
    "       ConLD\tContract Low Down\n",
    "       Oth\tOther\n",
    "\t\n",
    "Street: Type of road access to property\n",
    "\n",
    "       Grvl\tGravel\t\n",
    "       Pave\tPaved\n",
    "       \t\n",
    "TotRms_AbvGrd: Total rooms above grade (does not include bathrooms)\n",
    "\n",
    "Utilities: Type of utilities available\n",
    "\t\t\n",
    "       AllPub\tAll public Utilities (E,G,W,& S)\t\n",
    "       NoSewr\tElectricity, Gas, and Water (Septic Tank)\n",
    "       NoSeWa\tElectricity and Gas Only\n",
    "       ELO\tElectricity only\t\n",
    "\t\n",
    "Year_Built: Original construction date\n",
    "\n",
    "Year_Remod/Add: Remodel date (same as construction date if no remodeling or additions)\n",
    "\t\t\t\t\t\t\n",
    "Yr_Sold: Year Sold (YYYY)\t\n",
    "\n",
    "```"
   ]
  }
 ],
 "metadata": {
  "colab": {
   "collapsed_sections": [],
   "name": "DS_Sprint_Challenge_5_Linear_Models",
   "provenance": [],
   "version": "0.3.2"
  },
  "kernelspec": {
   "display_name": "Python 3",
   "language": "python",
   "name": "python3"
  },
  "language_info": {
   "codemirror_mode": {
    "name": "ipython",
    "version": 3
   },
   "file_extension": ".py",
   "mimetype": "text/x-python",
   "name": "python",
   "nbconvert_exporter": "python",
   "pygments_lexer": "ipython3",
   "version": "3.7.3"
  }
 },
 "nbformat": 4,
 "nbformat_minor": 1
}
