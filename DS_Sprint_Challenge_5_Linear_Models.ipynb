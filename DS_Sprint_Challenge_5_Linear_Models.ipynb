{
 "cells": [
  {
   "cell_type": "markdown",
   "metadata": {
    "colab_type": "text",
    "id": "xDmZn3ApOM7t"
   },
   "source": [
    "_Lambda School Data Science, Unit 2_\n",
    " \n",
    "# Linear Models  Sprint Challenge: Predict home prices in Ames, Iowa 🏠💸\n",
    "\n",
    "To demonstrate mastery on your Sprint Challenge, do all the required, numbered instructions in this notebook.\n",
    "\n",
    "To earn a score of \"3\", also do all the stretch goals.\n",
    "\n",
    "For your Sprint Challenge, you'll use historical housing data. There's a data dictionary at the bottom of the notebook. \n",
    "\n",
    "Run this code cell to load the dataset:\n",
    "\n",
    "\n",
    "\n"
   ]
  },
  {
   "cell_type": "code",
   "execution_count": 1,
   "metadata": {
    "colab": {},
    "colab_type": "code",
    "id": "7ptoRG1lu7H4"
   },
   "outputs": [],
   "source": [
    "import pandas as pd\n",
    "URL = 'https://drive.google.com/uc?export=download&id=1522WlEW6HFss36roD_Cd9nybqSuiVcCK'\n",
    "df = pd.read_csv(URL)\n",
    "assert df.shape == (2904, 47)"
   ]
  },
  {
   "cell_type": "markdown",
   "metadata": {
    "colab_type": "text",
    "id": "yqeiq1wvyrTq"
   },
   "source": [
    "## 1. Do train/test split\n",
    "Train on houses sold in the years 2006 - 2008. Test on houses sold in the years 2009 - 2010."
   ]
  },
  {
   "cell_type": "code",
   "execution_count": 2,
   "metadata": {
    "colab": {},
    "colab_type": "code",
    "id": "WKFjWLI3w0P_"
   },
   "outputs": [
    {
     "data": {
      "text/html": [
       "<div>\n",
       "<style scoped>\n",
       "    .dataframe tbody tr th:only-of-type {\n",
       "        vertical-align: middle;\n",
       "    }\n",
       "\n",
       "    .dataframe tbody tr th {\n",
       "        vertical-align: top;\n",
       "    }\n",
       "\n",
       "    .dataframe thead th {\n",
       "        text-align: right;\n",
       "    }\n",
       "</style>\n",
       "<table border=\"1\" class=\"dataframe\">\n",
       "  <thead>\n",
       "    <tr style=\"text-align: right;\">\n",
       "      <th></th>\n",
       "      <th>1st_Flr_SF</th>\n",
       "      <th>Bedroom_AbvGr</th>\n",
       "      <th>Bldg_Type</th>\n",
       "      <th>Bsmt_Full_Bath</th>\n",
       "      <th>Bsmt_Half_Bath</th>\n",
       "      <th>Central_Air</th>\n",
       "      <th>Condition_1</th>\n",
       "      <th>Condition_2</th>\n",
       "      <th>Electrical</th>\n",
       "      <th>Exter_Cond</th>\n",
       "      <th>...</th>\n",
       "      <th>Roof_Style</th>\n",
       "      <th>SalePrice</th>\n",
       "      <th>Sale_Condition</th>\n",
       "      <th>Sale_Type</th>\n",
       "      <th>Street</th>\n",
       "      <th>TotRms_AbvGrd</th>\n",
       "      <th>Utilities</th>\n",
       "      <th>Year_Built</th>\n",
       "      <th>Year_Remod/Add</th>\n",
       "      <th>Yr_Sold</th>\n",
       "    </tr>\n",
       "  </thead>\n",
       "  <tbody>\n",
       "    <tr>\n",
       "      <th>0</th>\n",
       "      <td>1656</td>\n",
       "      <td>3</td>\n",
       "      <td>1Fam</td>\n",
       "      <td>1.0</td>\n",
       "      <td>0.0</td>\n",
       "      <td>Y</td>\n",
       "      <td>Norm</td>\n",
       "      <td>Norm</td>\n",
       "      <td>SBrkr</td>\n",
       "      <td>TA</td>\n",
       "      <td>...</td>\n",
       "      <td>Hip</td>\n",
       "      <td>215000</td>\n",
       "      <td>Normal</td>\n",
       "      <td>WD</td>\n",
       "      <td>Pave</td>\n",
       "      <td>7</td>\n",
       "      <td>AllPub</td>\n",
       "      <td>1960</td>\n",
       "      <td>1960</td>\n",
       "      <td>2010</td>\n",
       "    </tr>\n",
       "    <tr>\n",
       "      <th>1</th>\n",
       "      <td>896</td>\n",
       "      <td>2</td>\n",
       "      <td>1Fam</td>\n",
       "      <td>0.0</td>\n",
       "      <td>0.0</td>\n",
       "      <td>Y</td>\n",
       "      <td>Feedr</td>\n",
       "      <td>Norm</td>\n",
       "      <td>SBrkr</td>\n",
       "      <td>TA</td>\n",
       "      <td>...</td>\n",
       "      <td>Gable</td>\n",
       "      <td>105000</td>\n",
       "      <td>Normal</td>\n",
       "      <td>WD</td>\n",
       "      <td>Pave</td>\n",
       "      <td>5</td>\n",
       "      <td>AllPub</td>\n",
       "      <td>1961</td>\n",
       "      <td>1961</td>\n",
       "      <td>2010</td>\n",
       "    </tr>\n",
       "    <tr>\n",
       "      <th>2</th>\n",
       "      <td>1329</td>\n",
       "      <td>3</td>\n",
       "      <td>1Fam</td>\n",
       "      <td>0.0</td>\n",
       "      <td>0.0</td>\n",
       "      <td>Y</td>\n",
       "      <td>Norm</td>\n",
       "      <td>Norm</td>\n",
       "      <td>SBrkr</td>\n",
       "      <td>TA</td>\n",
       "      <td>...</td>\n",
       "      <td>Hip</td>\n",
       "      <td>172000</td>\n",
       "      <td>Normal</td>\n",
       "      <td>WD</td>\n",
       "      <td>Pave</td>\n",
       "      <td>6</td>\n",
       "      <td>AllPub</td>\n",
       "      <td>1958</td>\n",
       "      <td>1958</td>\n",
       "      <td>2010</td>\n",
       "    </tr>\n",
       "    <tr>\n",
       "      <th>3</th>\n",
       "      <td>2110</td>\n",
       "      <td>3</td>\n",
       "      <td>1Fam</td>\n",
       "      <td>1.0</td>\n",
       "      <td>0.0</td>\n",
       "      <td>Y</td>\n",
       "      <td>Norm</td>\n",
       "      <td>Norm</td>\n",
       "      <td>SBrkr</td>\n",
       "      <td>TA</td>\n",
       "      <td>...</td>\n",
       "      <td>Hip</td>\n",
       "      <td>244000</td>\n",
       "      <td>Normal</td>\n",
       "      <td>WD</td>\n",
       "      <td>Pave</td>\n",
       "      <td>8</td>\n",
       "      <td>AllPub</td>\n",
       "      <td>1968</td>\n",
       "      <td>1968</td>\n",
       "      <td>2010</td>\n",
       "    </tr>\n",
       "    <tr>\n",
       "      <th>4</th>\n",
       "      <td>928</td>\n",
       "      <td>3</td>\n",
       "      <td>1Fam</td>\n",
       "      <td>0.0</td>\n",
       "      <td>0.0</td>\n",
       "      <td>Y</td>\n",
       "      <td>Norm</td>\n",
       "      <td>Norm</td>\n",
       "      <td>SBrkr</td>\n",
       "      <td>TA</td>\n",
       "      <td>...</td>\n",
       "      <td>Gable</td>\n",
       "      <td>189900</td>\n",
       "      <td>Normal</td>\n",
       "      <td>WD</td>\n",
       "      <td>Pave</td>\n",
       "      <td>6</td>\n",
       "      <td>AllPub</td>\n",
       "      <td>1997</td>\n",
       "      <td>1998</td>\n",
       "      <td>2010</td>\n",
       "    </tr>\n",
       "  </tbody>\n",
       "</table>\n",
       "<p>5 rows × 47 columns</p>\n",
       "</div>"
      ],
      "text/plain": [
       "   1st_Flr_SF  Bedroom_AbvGr Bldg_Type  Bsmt_Full_Bath  Bsmt_Half_Bath  \\\n",
       "0        1656              3      1Fam             1.0             0.0   \n",
       "1         896              2      1Fam             0.0             0.0   \n",
       "2        1329              3      1Fam             0.0             0.0   \n",
       "3        2110              3      1Fam             1.0             0.0   \n",
       "4         928              3      1Fam             0.0             0.0   \n",
       "\n",
       "  Central_Air Condition_1 Condition_2 Electrical Exter_Cond  ... Roof_Style  \\\n",
       "0           Y        Norm        Norm      SBrkr         TA  ...        Hip   \n",
       "1           Y       Feedr        Norm      SBrkr         TA  ...      Gable   \n",
       "2           Y        Norm        Norm      SBrkr         TA  ...        Hip   \n",
       "3           Y        Norm        Norm      SBrkr         TA  ...        Hip   \n",
       "4           Y        Norm        Norm      SBrkr         TA  ...      Gable   \n",
       "\n",
       "  SalePrice Sale_Condition Sale_Type  Street TotRms_AbvGrd  Utilities  \\\n",
       "0    215000         Normal       WD     Pave             7     AllPub   \n",
       "1    105000         Normal       WD     Pave             5     AllPub   \n",
       "2    172000         Normal       WD     Pave             6     AllPub   \n",
       "3    244000         Normal       WD     Pave             8     AllPub   \n",
       "4    189900         Normal       WD     Pave             6     AllPub   \n",
       "\n",
       "   Year_Built Year_Remod/Add Yr_Sold  \n",
       "0        1960           1960    2010  \n",
       "1        1961           1961    2010  \n",
       "2        1958           1958    2010  \n",
       "3        1968           1968    2010  \n",
       "4        1997           1998    2010  \n",
       "\n",
       "[5 rows x 47 columns]"
      ]
     },
     "execution_count": 2,
     "metadata": {},
     "output_type": "execute_result"
    }
   ],
   "source": [
    "df.head()"
   ]
  },
  {
   "cell_type": "code",
   "execution_count": 3,
   "metadata": {},
   "outputs": [
    {
     "data": {
      "text/plain": [
       "2007    686\n",
       "2009    644\n",
       "2006    621\n",
       "2008    613\n",
       "2010    340\n",
       "Name: Yr_Sold, dtype: int64"
      ]
     },
     "execution_count": 3,
     "metadata": {},
     "output_type": "execute_result"
    }
   ],
   "source": [
    "df['Yr_Sold'].value_counts()"
   ]
  },
  {
   "cell_type": "code",
   "execution_count": 4,
   "metadata": {},
   "outputs": [],
   "source": [
    "train = df[df['Yr_Sold'] < 2009];\n",
    "test = df[df['Yr_Sold'] > 2008];\n",
    "\n",
    "assert df.shape[0] == train.shape[0] + test.shape[0];"
   ]
  },
  {
   "cell_type": "markdown",
   "metadata": {
    "colab_type": "text",
    "id": "CowG-cgZ5ZrB"
   },
   "source": [
    "## 2. Begin with baselines\n",
    "\n",
    "What is the Mean Absolute Error and R^2 score for a mean baseline?"
   ]
  },
  {
   "cell_type": "code",
   "execution_count": 5,
   "metadata": {
    "colab": {},
    "colab_type": "code",
    "id": "TbahVr-j5ZLs"
   },
   "outputs": [
    {
     "data": {
      "text/plain": [
       "Index(['1st_Flr_SF', 'Bedroom_AbvGr', 'Bldg_Type', 'Bsmt_Full_Bath',\n",
       "       'Bsmt_Half_Bath', 'Central_Air', 'Condition_1', 'Condition_2',\n",
       "       'Electrical', 'Exter_Cond', 'Exter_Qual', 'Exterior_1st',\n",
       "       'Exterior_2nd', 'Foundation', 'Full_Bath', 'Functional', 'Gr_Liv_Area',\n",
       "       'Half_Bath', 'Heating', 'Heating_QC', 'House_Style', 'Kitchen_AbvGr',\n",
       "       'Kitchen_Qual', 'Land_Contour', 'Land_Slope', 'Lot_Area', 'Lot_Config',\n",
       "       'Lot_Shape', 'MS_SubClass', 'MS_Zoning', 'Mas_Vnr_Type', 'Mo_Sold',\n",
       "       'Neighborhood', 'Overall_Cond', 'Overall_Qual', 'Paved_Drive',\n",
       "       'Roof_Matl', 'Roof_Style', 'SalePrice', 'Sale_Condition', 'Sale_Type',\n",
       "       'Street', 'TotRms_AbvGrd', 'Utilities', 'Year_Built', 'Year_Remod/Add',\n",
       "       'Yr_Sold'],\n",
       "      dtype='object')"
      ]
     },
     "execution_count": 5,
     "metadata": {},
     "output_type": "execute_result"
    }
   ],
   "source": [
    "train.columns"
   ]
  },
  {
   "cell_type": "code",
   "execution_count": 6,
   "metadata": {},
   "outputs": [
    {
     "data": {
      "text/plain": [
       "180383.689738292"
      ]
     },
     "execution_count": 6,
     "metadata": {},
     "output_type": "execute_result"
    }
   ],
   "source": [
    "df['SalePrice'].mean()"
   ]
  },
  {
   "cell_type": "code",
   "execution_count": 7,
   "metadata": {},
   "outputs": [
    {
     "data": {
      "text/html": [
       "<div>\n",
       "<style scoped>\n",
       "    .dataframe tbody tr th:only-of-type {\n",
       "        vertical-align: middle;\n",
       "    }\n",
       "\n",
       "    .dataframe tbody tr th {\n",
       "        vertical-align: top;\n",
       "    }\n",
       "\n",
       "    .dataframe thead th {\n",
       "        text-align: right;\n",
       "    }\n",
       "</style>\n",
       "<table border=\"1\" class=\"dataframe\">\n",
       "  <thead>\n",
       "    <tr style=\"text-align: right;\">\n",
       "      <th></th>\n",
       "      <th>SalePrice</th>\n",
       "    </tr>\n",
       "  </thead>\n",
       "  <tbody>\n",
       "    <tr>\n",
       "      <th>984</th>\n",
       "      <td>176500</td>\n",
       "    </tr>\n",
       "    <tr>\n",
       "      <th>985</th>\n",
       "      <td>237500</td>\n",
       "    </tr>\n",
       "    <tr>\n",
       "      <th>986</th>\n",
       "      <td>206900</td>\n",
       "    </tr>\n",
       "    <tr>\n",
       "      <th>987</th>\n",
       "      <td>187500</td>\n",
       "    </tr>\n",
       "    <tr>\n",
       "      <th>988</th>\n",
       "      <td>165000</td>\n",
       "    </tr>\n",
       "    <tr>\n",
       "      <th>989</th>\n",
       "      <td>195500</td>\n",
       "    </tr>\n",
       "    <tr>\n",
       "      <th>990</th>\n",
       "      <td>192000</td>\n",
       "    </tr>\n",
       "    <tr>\n",
       "      <th>991</th>\n",
       "      <td>173000</td>\n",
       "    </tr>\n",
       "    <tr>\n",
       "      <th>992</th>\n",
       "      <td>177900</td>\n",
       "    </tr>\n",
       "    <tr>\n",
       "      <th>993</th>\n",
       "      <td>175000</td>\n",
       "    </tr>\n",
       "  </tbody>\n",
       "</table>\n",
       "</div>"
      ],
      "text/plain": [
       "     SalePrice\n",
       "984     176500\n",
       "985     237500\n",
       "986     206900\n",
       "987     187500\n",
       "988     165000\n",
       "989     195500\n",
       "990     192000\n",
       "991     173000\n",
       "992     177900\n",
       "993     175000"
      ]
     },
     "execution_count": 7,
     "metadata": {},
     "output_type": "execute_result"
    }
   ],
   "source": [
    "first10 = train[['SalePrice']].head(10)\n",
    "first10"
   ]
  },
  {
   "cell_type": "code",
   "execution_count": 8,
   "metadata": {},
   "outputs": [
    {
     "data": {
      "text/html": [
       "<div>\n",
       "<style scoped>\n",
       "    .dataframe tbody tr th:only-of-type {\n",
       "        vertical-align: middle;\n",
       "    }\n",
       "\n",
       "    .dataframe tbody tr th {\n",
       "        vertical-align: top;\n",
       "    }\n",
       "\n",
       "    .dataframe thead th {\n",
       "        text-align: right;\n",
       "    }\n",
       "</style>\n",
       "<table border=\"1\" class=\"dataframe\">\n",
       "  <thead>\n",
       "    <tr style=\"text-align: right;\">\n",
       "      <th></th>\n",
       "      <th>SalePrice</th>\n",
       "      <th>predicted</th>\n",
       "    </tr>\n",
       "  </thead>\n",
       "  <tbody>\n",
       "    <tr>\n",
       "      <th>984</th>\n",
       "      <td>176500</td>\n",
       "      <td>180383</td>\n",
       "    </tr>\n",
       "    <tr>\n",
       "      <th>985</th>\n",
       "      <td>237500</td>\n",
       "      <td>180383</td>\n",
       "    </tr>\n",
       "    <tr>\n",
       "      <th>986</th>\n",
       "      <td>206900</td>\n",
       "      <td>180383</td>\n",
       "    </tr>\n",
       "    <tr>\n",
       "      <th>987</th>\n",
       "      <td>187500</td>\n",
       "      <td>180383</td>\n",
       "    </tr>\n",
       "    <tr>\n",
       "      <th>988</th>\n",
       "      <td>165000</td>\n",
       "      <td>180383</td>\n",
       "    </tr>\n",
       "    <tr>\n",
       "      <th>989</th>\n",
       "      <td>195500</td>\n",
       "      <td>180383</td>\n",
       "    </tr>\n",
       "    <tr>\n",
       "      <th>990</th>\n",
       "      <td>192000</td>\n",
       "      <td>180383</td>\n",
       "    </tr>\n",
       "    <tr>\n",
       "      <th>991</th>\n",
       "      <td>173000</td>\n",
       "      <td>180383</td>\n",
       "    </tr>\n",
       "    <tr>\n",
       "      <th>992</th>\n",
       "      <td>177900</td>\n",
       "      <td>180383</td>\n",
       "    </tr>\n",
       "    <tr>\n",
       "      <th>993</th>\n",
       "      <td>175000</td>\n",
       "      <td>180383</td>\n",
       "    </tr>\n",
       "  </tbody>\n",
       "</table>\n",
       "</div>"
      ],
      "text/plain": [
       "     SalePrice  predicted\n",
       "984     176500     180383\n",
       "985     237500     180383\n",
       "986     206900     180383\n",
       "987     187500     180383\n",
       "988     165000     180383\n",
       "989     195500     180383\n",
       "990     192000     180383\n",
       "991     173000     180383\n",
       "992     177900     180383\n",
       "993     175000     180383"
      ]
     },
     "execution_count": 8,
     "metadata": {},
     "output_type": "execute_result"
    }
   ],
   "source": [
    "first10['predicted'] = [180383]*10;\n",
    "first10"
   ]
  },
  {
   "cell_type": "code",
   "execution_count": 9,
   "metadata": {},
   "outputs": [
    {
     "data": {
      "text/html": [
       "<div>\n",
       "<style scoped>\n",
       "    .dataframe tbody tr th:only-of-type {\n",
       "        vertical-align: middle;\n",
       "    }\n",
       "\n",
       "    .dataframe tbody tr th {\n",
       "        vertical-align: top;\n",
       "    }\n",
       "\n",
       "    .dataframe thead th {\n",
       "        text-align: right;\n",
       "    }\n",
       "</style>\n",
       "<table border=\"1\" class=\"dataframe\">\n",
       "  <thead>\n",
       "    <tr style=\"text-align: right;\">\n",
       "      <th></th>\n",
       "      <th>SalePrice</th>\n",
       "      <th>predicted</th>\n",
       "      <th>error</th>\n",
       "    </tr>\n",
       "  </thead>\n",
       "  <tbody>\n",
       "    <tr>\n",
       "      <th>984</th>\n",
       "      <td>176500</td>\n",
       "      <td>180383</td>\n",
       "      <td>-3883</td>\n",
       "    </tr>\n",
       "    <tr>\n",
       "      <th>985</th>\n",
       "      <td>237500</td>\n",
       "      <td>180383</td>\n",
       "      <td>57117</td>\n",
       "    </tr>\n",
       "    <tr>\n",
       "      <th>986</th>\n",
       "      <td>206900</td>\n",
       "      <td>180383</td>\n",
       "      <td>26517</td>\n",
       "    </tr>\n",
       "    <tr>\n",
       "      <th>987</th>\n",
       "      <td>187500</td>\n",
       "      <td>180383</td>\n",
       "      <td>7117</td>\n",
       "    </tr>\n",
       "    <tr>\n",
       "      <th>988</th>\n",
       "      <td>165000</td>\n",
       "      <td>180383</td>\n",
       "      <td>-15383</td>\n",
       "    </tr>\n",
       "    <tr>\n",
       "      <th>989</th>\n",
       "      <td>195500</td>\n",
       "      <td>180383</td>\n",
       "      <td>15117</td>\n",
       "    </tr>\n",
       "    <tr>\n",
       "      <th>990</th>\n",
       "      <td>192000</td>\n",
       "      <td>180383</td>\n",
       "      <td>11617</td>\n",
       "    </tr>\n",
       "    <tr>\n",
       "      <th>991</th>\n",
       "      <td>173000</td>\n",
       "      <td>180383</td>\n",
       "      <td>-7383</td>\n",
       "    </tr>\n",
       "    <tr>\n",
       "      <th>992</th>\n",
       "      <td>177900</td>\n",
       "      <td>180383</td>\n",
       "      <td>-2483</td>\n",
       "    </tr>\n",
       "    <tr>\n",
       "      <th>993</th>\n",
       "      <td>175000</td>\n",
       "      <td>180383</td>\n",
       "      <td>-5383</td>\n",
       "    </tr>\n",
       "  </tbody>\n",
       "</table>\n",
       "</div>"
      ],
      "text/plain": [
       "     SalePrice  predicted  error\n",
       "984     176500     180383  -3883\n",
       "985     237500     180383  57117\n",
       "986     206900     180383  26517\n",
       "987     187500     180383   7117\n",
       "988     165000     180383 -15383\n",
       "989     195500     180383  15117\n",
       "990     192000     180383  11617\n",
       "991     173000     180383  -7383\n",
       "992     177900     180383  -2483\n",
       "993     175000     180383  -5383"
      ]
     },
     "execution_count": 9,
     "metadata": {},
     "output_type": "execute_result"
    }
   ],
   "source": [
    "first10['error'] = first10['SalePrice'] - first10['predicted']\n",
    "first10"
   ]
  },
  {
   "cell_type": "code",
   "execution_count": 10,
   "metadata": {},
   "outputs": [
    {
     "data": {
      "text/plain": [
       "15200.0"
      ]
     },
     "execution_count": 10,
     "metadata": {},
     "output_type": "execute_result"
    }
   ],
   "source": [
    "first10['error'].abs().mean()"
   ]
  },
  {
   "cell_type": "code",
   "execution_count": 11,
   "metadata": {},
   "outputs": [
    {
     "name": "stdout",
     "output_type": "stream",
     "text": [
      "Mean Absolute Error = 15200.0\n",
      "R2 Score = -0.17070941150564045\n"
     ]
    }
   ],
   "source": [
    "from sklearn.metrics import mean_absolute_error, r2_score;\n",
    "\n",
    "mae = mean_absolute_error(first10['SalePrice'], first10['predicted'])\n",
    "r2 = r2_score(first10['SalePrice'], first10['predicted']);\n",
    "print('Mean Absolute Error =', mae);\n",
    "print('R2 Score =', r2);"
   ]
  },
  {
   "cell_type": "markdown",
   "metadata": {
    "colab_type": "text",
    "id": "hk1bYDJy6txq"
   },
   "source": [
    "## 3. Arrange data into X features matrix and y target vector\n",
    "Select at least one numeric feature and at least one categorical feature."
   ]
  },
  {
   "cell_type": "code",
   "execution_count": 12,
   "metadata": {
    "colab": {},
    "colab_type": "code",
    "id": "593Ko1S36svD"
   },
   "outputs": [
    {
     "data": {
      "text/html": [
       "<div>\n",
       "<style scoped>\n",
       "    .dataframe tbody tr th:only-of-type {\n",
       "        vertical-align: middle;\n",
       "    }\n",
       "\n",
       "    .dataframe tbody tr th {\n",
       "        vertical-align: top;\n",
       "    }\n",
       "\n",
       "    .dataframe thead th {\n",
       "        text-align: right;\n",
       "    }\n",
       "</style>\n",
       "<table border=\"1\" class=\"dataframe\">\n",
       "  <thead>\n",
       "    <tr style=\"text-align: right;\">\n",
       "      <th></th>\n",
       "      <th>1st_Flr_SF</th>\n",
       "      <th>Bedroom_AbvGr</th>\n",
       "      <th>Bsmt_Full_Bath</th>\n",
       "      <th>Bsmt_Half_Bath</th>\n",
       "      <th>Full_Bath</th>\n",
       "      <th>Gr_Liv_Area</th>\n",
       "      <th>Half_Bath</th>\n",
       "      <th>Kitchen_AbvGr</th>\n",
       "      <th>Lot_Area</th>\n",
       "      <th>MS_SubClass</th>\n",
       "      <th>Mo_Sold</th>\n",
       "      <th>Overall_Cond</th>\n",
       "      <th>Overall_Qual</th>\n",
       "      <th>SalePrice</th>\n",
       "      <th>TotRms_AbvGrd</th>\n",
       "      <th>Year_Built</th>\n",
       "      <th>Year_Remod/Add</th>\n",
       "      <th>Yr_Sold</th>\n",
       "    </tr>\n",
       "  </thead>\n",
       "  <tbody>\n",
       "    <tr>\n",
       "      <th>count</th>\n",
       "      <td>2904.000000</td>\n",
       "      <td>2904.000000</td>\n",
       "      <td>2904.000000</td>\n",
       "      <td>2904.000000</td>\n",
       "      <td>2904.000000</td>\n",
       "      <td>2904.000000</td>\n",
       "      <td>2904.000000</td>\n",
       "      <td>2904.000000</td>\n",
       "      <td>2904.000000</td>\n",
       "      <td>2904.000000</td>\n",
       "      <td>2904.000000</td>\n",
       "      <td>2904.000000</td>\n",
       "      <td>2904.000000</td>\n",
       "      <td>2904.000000</td>\n",
       "      <td>2904.000000</td>\n",
       "      <td>2904.000000</td>\n",
       "      <td>2904.000000</td>\n",
       "      <td>2904.000000</td>\n",
       "    </tr>\n",
       "    <tr>\n",
       "      <th>mean</th>\n",
       "      <td>1158.257231</td>\n",
       "      <td>2.854339</td>\n",
       "      <td>0.431474</td>\n",
       "      <td>0.061639</td>\n",
       "      <td>1.562328</td>\n",
       "      <td>1497.853650</td>\n",
       "      <td>0.376722</td>\n",
       "      <td>1.044421</td>\n",
       "      <td>10130.199725</td>\n",
       "      <td>57.474174</td>\n",
       "      <td>6.206956</td>\n",
       "      <td>5.567149</td>\n",
       "      <td>6.086777</td>\n",
       "      <td>180383.689738</td>\n",
       "      <td>6.441804</td>\n",
       "      <td>1971.109504</td>\n",
       "      <td>1984.112259</td>\n",
       "      <td>2007.792011</td>\n",
       "    </tr>\n",
       "    <tr>\n",
       "      <th>std</th>\n",
       "      <td>388.351648</td>\n",
       "      <td>0.827820</td>\n",
       "      <td>0.525073</td>\n",
       "      <td>0.246202</td>\n",
       "      <td>0.551427</td>\n",
       "      <td>504.591527</td>\n",
       "      <td>0.501416</td>\n",
       "      <td>0.214260</td>\n",
       "      <td>7869.928702</td>\n",
       "      <td>42.724950</td>\n",
       "      <td>2.712204</td>\n",
       "      <td>1.113736</td>\n",
       "      <td>1.410083</td>\n",
       "      <td>79802.823684</td>\n",
       "      <td>1.573130</td>\n",
       "      <td>30.227141</td>\n",
       "      <td>20.857813</td>\n",
       "      <td>1.318719</td>\n",
       "    </tr>\n",
       "    <tr>\n",
       "      <th>min</th>\n",
       "      <td>334.000000</td>\n",
       "      <td>0.000000</td>\n",
       "      <td>0.000000</td>\n",
       "      <td>0.000000</td>\n",
       "      <td>0.000000</td>\n",
       "      <td>334.000000</td>\n",
       "      <td>0.000000</td>\n",
       "      <td>0.000000</td>\n",
       "      <td>1300.000000</td>\n",
       "      <td>20.000000</td>\n",
       "      <td>1.000000</td>\n",
       "      <td>1.000000</td>\n",
       "      <td>1.000000</td>\n",
       "      <td>12789.000000</td>\n",
       "      <td>2.000000</td>\n",
       "      <td>1872.000000</td>\n",
       "      <td>1950.000000</td>\n",
       "      <td>2006.000000</td>\n",
       "    </tr>\n",
       "    <tr>\n",
       "      <th>25%</th>\n",
       "      <td>876.750000</td>\n",
       "      <td>2.000000</td>\n",
       "      <td>0.000000</td>\n",
       "      <td>0.000000</td>\n",
       "      <td>1.000000</td>\n",
       "      <td>1124.000000</td>\n",
       "      <td>0.000000</td>\n",
       "      <td>1.000000</td>\n",
       "      <td>7424.750000</td>\n",
       "      <td>20.000000</td>\n",
       "      <td>4.000000</td>\n",
       "      <td>5.000000</td>\n",
       "      <td>5.000000</td>\n",
       "      <td>129150.000000</td>\n",
       "      <td>5.000000</td>\n",
       "      <td>1953.000000</td>\n",
       "      <td>1965.000000</td>\n",
       "      <td>2007.000000</td>\n",
       "    </tr>\n",
       "    <tr>\n",
       "      <th>50%</th>\n",
       "      <td>1083.500000</td>\n",
       "      <td>3.000000</td>\n",
       "      <td>0.000000</td>\n",
       "      <td>0.000000</td>\n",
       "      <td>2.000000</td>\n",
       "      <td>1440.500000</td>\n",
       "      <td>0.000000</td>\n",
       "      <td>1.000000</td>\n",
       "      <td>9429.000000</td>\n",
       "      <td>50.000000</td>\n",
       "      <td>6.000000</td>\n",
       "      <td>5.000000</td>\n",
       "      <td>6.000000</td>\n",
       "      <td>160000.000000</td>\n",
       "      <td>6.000000</td>\n",
       "      <td>1973.000000</td>\n",
       "      <td>1993.000000</td>\n",
       "      <td>2008.000000</td>\n",
       "    </tr>\n",
       "    <tr>\n",
       "      <th>75%</th>\n",
       "      <td>1383.000000</td>\n",
       "      <td>3.000000</td>\n",
       "      <td>1.000000</td>\n",
       "      <td>0.000000</td>\n",
       "      <td>2.000000</td>\n",
       "      <td>1740.500000</td>\n",
       "      <td>1.000000</td>\n",
       "      <td>1.000000</td>\n",
       "      <td>11516.250000</td>\n",
       "      <td>70.000000</td>\n",
       "      <td>8.000000</td>\n",
       "      <td>6.000000</td>\n",
       "      <td>7.000000</td>\n",
       "      <td>213000.000000</td>\n",
       "      <td>7.000000</td>\n",
       "      <td>2000.000000</td>\n",
       "      <td>2004.000000</td>\n",
       "      <td>2009.000000</td>\n",
       "    </tr>\n",
       "    <tr>\n",
       "      <th>max</th>\n",
       "      <td>5095.000000</td>\n",
       "      <td>8.000000</td>\n",
       "      <td>3.000000</td>\n",
       "      <td>2.000000</td>\n",
       "      <td>4.000000</td>\n",
       "      <td>5642.000000</td>\n",
       "      <td>2.000000</td>\n",
       "      <td>3.000000</td>\n",
       "      <td>215245.000000</td>\n",
       "      <td>190.000000</td>\n",
       "      <td>12.000000</td>\n",
       "      <td>9.000000</td>\n",
       "      <td>10.000000</td>\n",
       "      <td>755000.000000</td>\n",
       "      <td>15.000000</td>\n",
       "      <td>2010.000000</td>\n",
       "      <td>2010.000000</td>\n",
       "      <td>2010.000000</td>\n",
       "    </tr>\n",
       "  </tbody>\n",
       "</table>\n",
       "</div>"
      ],
      "text/plain": [
       "        1st_Flr_SF  Bedroom_AbvGr  Bsmt_Full_Bath  Bsmt_Half_Bath  \\\n",
       "count  2904.000000    2904.000000     2904.000000     2904.000000   \n",
       "mean   1158.257231       2.854339        0.431474        0.061639   \n",
       "std     388.351648       0.827820        0.525073        0.246202   \n",
       "min     334.000000       0.000000        0.000000        0.000000   \n",
       "25%     876.750000       2.000000        0.000000        0.000000   \n",
       "50%    1083.500000       3.000000        0.000000        0.000000   \n",
       "75%    1383.000000       3.000000        1.000000        0.000000   \n",
       "max    5095.000000       8.000000        3.000000        2.000000   \n",
       "\n",
       "         Full_Bath  Gr_Liv_Area    Half_Bath  Kitchen_AbvGr       Lot_Area  \\\n",
       "count  2904.000000  2904.000000  2904.000000    2904.000000    2904.000000   \n",
       "mean      1.562328  1497.853650     0.376722       1.044421   10130.199725   \n",
       "std       0.551427   504.591527     0.501416       0.214260    7869.928702   \n",
       "min       0.000000   334.000000     0.000000       0.000000    1300.000000   \n",
       "25%       1.000000  1124.000000     0.000000       1.000000    7424.750000   \n",
       "50%       2.000000  1440.500000     0.000000       1.000000    9429.000000   \n",
       "75%       2.000000  1740.500000     1.000000       1.000000   11516.250000   \n",
       "max       4.000000  5642.000000     2.000000       3.000000  215245.000000   \n",
       "\n",
       "       MS_SubClass      Mo_Sold  Overall_Cond  Overall_Qual      SalePrice  \\\n",
       "count  2904.000000  2904.000000   2904.000000   2904.000000    2904.000000   \n",
       "mean     57.474174     6.206956      5.567149      6.086777  180383.689738   \n",
       "std      42.724950     2.712204      1.113736      1.410083   79802.823684   \n",
       "min      20.000000     1.000000      1.000000      1.000000   12789.000000   \n",
       "25%      20.000000     4.000000      5.000000      5.000000  129150.000000   \n",
       "50%      50.000000     6.000000      5.000000      6.000000  160000.000000   \n",
       "75%      70.000000     8.000000      6.000000      7.000000  213000.000000   \n",
       "max     190.000000    12.000000      9.000000     10.000000  755000.000000   \n",
       "\n",
       "       TotRms_AbvGrd   Year_Built  Year_Remod/Add      Yr_Sold  \n",
       "count    2904.000000  2904.000000     2904.000000  2904.000000  \n",
       "mean        6.441804  1971.109504     1984.112259  2007.792011  \n",
       "std         1.573130    30.227141       20.857813     1.318719  \n",
       "min         2.000000  1872.000000     1950.000000  2006.000000  \n",
       "25%         5.000000  1953.000000     1965.000000  2007.000000  \n",
       "50%         6.000000  1973.000000     1993.000000  2008.000000  \n",
       "75%         7.000000  2000.000000     2004.000000  2009.000000  \n",
       "max        15.000000  2010.000000     2010.000000  2010.000000  "
      ]
     },
     "execution_count": 12,
     "metadata": {},
     "output_type": "execute_result"
    }
   ],
   "source": [
    "df.describe(include='number')"
   ]
  },
  {
   "cell_type": "code",
   "execution_count": 13,
   "metadata": {},
   "outputs": [],
   "source": [
    "feature = ['Overall_Qual', 'Overall_Cond', 'Heating_QC'];\n",
    "target = 'SalePrice';\n",
    "\n",
    "x_train = train[feature];\n",
    "y_train = train[target];\n",
    "\n",
    "x_test = test[feature];\n",
    "y_test = test[target];"
   ]
  },
  {
   "cell_type": "code",
   "execution_count": 14,
   "metadata": {},
   "outputs": [
    {
     "data": {
      "text/plain": [
       "((1920, 3), (1920,))"
      ]
     },
     "execution_count": 14,
     "metadata": {},
     "output_type": "execute_result"
    }
   ],
   "source": [
    "x_train.shape, y_train.shape"
   ]
  },
  {
   "cell_type": "markdown",
   "metadata": {
    "colab_type": "text",
    "id": "zDT-gSl_-Gwh"
   },
   "source": [
    "## 4. Do one-hot encoding\n",
    "\n",
    "Encode your categorical feature(s)."
   ]
  },
  {
   "cell_type": "code",
   "execution_count": 15,
   "metadata": {
    "colab": {},
    "colab_type": "code",
    "id": "9L3RTeQl7Mu7"
   },
   "outputs": [],
   "source": [
    "import category_encoders as ce;"
   ]
  },
  {
   "cell_type": "code",
   "execution_count": 16,
   "metadata": {},
   "outputs": [],
   "source": [
    "encoder = ce.OneHotEncoder(use_cat_names=True);\n",
    "x_train = encoder.fit_transform(x_train);\n",
    "x_test = encoder.transform(x_test);"
   ]
  },
  {
   "cell_type": "markdown",
   "metadata": {
    "colab_type": "text",
    "id": "2ZceruUx-Vs-"
   },
   "source": [
    "## 5. Use scikit-learn for Linear Regression\n",
    "Fit your model."
   ]
  },
  {
   "cell_type": "code",
   "execution_count": 17,
   "metadata": {
    "colab": {},
    "colab_type": "code",
    "id": "Kvy4Z0xv7eJF"
   },
   "outputs": [],
   "source": [
    "from sklearn.linear_model import LinearRegression;"
   ]
  },
  {
   "cell_type": "code",
   "execution_count": 18,
   "metadata": {},
   "outputs": [
    {
     "data": {
      "text/plain": [
       "LinearRegression(copy_X=True, fit_intercept=True, n_jobs=None,\n",
       "         normalize=False)"
      ]
     },
     "execution_count": 18,
     "metadata": {},
     "output_type": "execute_result"
    }
   ],
   "source": [
    "model = LinearRegression();\n",
    "\n",
    "model.fit(x_train, y_train)"
   ]
  },
  {
   "cell_type": "code",
   "execution_count": 19,
   "metadata": {},
   "outputs": [
    {
     "data": {
      "text/plain": [
       "array([164095.05711245, 123573.47268782, 166296.97191927, 228615.14602526,\n",
       "       131205.1908251 , 184325.73488911, 271338.64525672, 271338.64525672,\n",
       "       271338.64525672, 216652.18928801, 173928.69005656, 182759.82298441,\n",
       "       173928.69005656, 216652.18928801, 253309.88228688, 271338.64525672,\n",
       "       256243.86471007, 318759.88020227, 100444.6483309 , 166296.97191927,\n",
       "       184325.73488911, 209020.47115073, 228615.14602526, 182759.82298441,\n",
       "       141602.23565765, 141602.23565765,  82415.88536106,  82415.88536106,\n",
       "       228615.14602526, 167862.88382397, 125139.38459252, 167862.88382397,\n",
       "       167862.88382397, 166296.97191927, 227049.23412056, 164095.05711245,\n",
       "       314062.14448817, 271338.64525672, 314062.14448817, 271338.64525672,\n",
       "       228615.14602526, 314062.14448817, 271338.64525672, 228615.14602526,\n",
       "       314062.14448817, 228615.14602526, 314062.14448817, 271338.64525672,\n",
       "       314062.14448817, 271338.64525672, 228615.14602526, 185891.64679381,\n",
       "       228615.14602526, 271338.64525672, 228615.14602526, 228615.14602526,\n",
       "       228615.14602526, 228615.14602526, 314062.14448817, 271338.64525672,\n",
       "       228615.14602526, 271338.64525672, 268206.82144732, 216652.18928801,\n",
       "       271338.64525672, 271338.64525672, 228615.14602526, 228615.14602526,\n",
       "       271338.64525672, 228615.14602526, 185891.64679381, 228615.14602526,\n",
       "       228615.14602526, 228615.14602526, 167862.88382397, 185891.64679381,\n",
       "       167862.88382397, 167862.88382397, 225483.32221586, 167862.88382397,\n",
       "       166296.97191927, 125139.38459252, 167862.88382397, 122007.56078312,\n",
       "       138470.41184825, 125139.38459252, 121371.557881  , 138470.41184825,\n",
       "       184325.73488911, 228615.14602526, 271338.64525672, 271338.64525672,\n",
       "       228615.14602526, 228615.14602526, 228615.14602526, 228615.14602526,\n",
       "       228615.14602526, 185891.64679381, 228615.14602526, 185891.64679381,\n",
       "       185891.64679381, 228615.14602526, 228615.14602526, 271338.64525672,\n",
       "       271338.64525672, 253309.88228688, 251743.97038218, 181193.91107971,\n",
       "       228615.14602526, 172362.77815186, 185891.64679381, 170796.86624716,\n",
       "       167862.88382397, 210586.38305543, 164731.06001457, 166296.97191927,\n",
       "       125139.38459252, 167862.88382397,  78648.05864954, 131205.1908251 ,\n",
       "       141602.23565765, 167862.88382397, 122007.56078312, 182759.82298441,\n",
       "       123573.47268782, 129639.2789204 , 128073.3670157 , 166296.97191927,\n",
       "       128073.3670157 ,  62418.88481355, 125139.38459252, 184325.73488911,\n",
       "       129639.2789204 , 169230.95434246, 125139.38459252, 210586.38305543,\n",
       "       184325.73488911, 125139.38459252, 228615.14602526, 125139.38459252,\n",
       "       131205.1908251 , 123573.47268782, 166296.97191927, 121371.557881  ,\n",
       "       125139.38459252, 121371.557881  , 185891.64679381,  82415.88536106,\n",
       "       122007.56078312, 123573.47268782, 125139.38459252, 122007.56078312,\n",
       "        85349.86778425, 140036.32375295, 128073.3670157 , 140036.32375295,\n",
       "       167862.88382397, 173928.69005656, 140036.32375295, 225483.32221586,\n",
       "       163165.14810987, 140036.32375295, 122937.4697857 , 122007.56078312,\n",
       "       166296.97191927, 141602.23565765, 164731.06001457, 167862.88382397,\n",
       "        82415.88536106,  85349.86778425, 122007.56078312, 129639.2789204 ,\n",
       "       128073.3670157 ,  44192.28045749,  80849.97345636, 122007.56078312,\n",
       "       122007.56078312, 170796.86624716, 140036.32375295, 123573.47268782,\n",
       "         1666.62261226, 169230.95434246, 247046.23466808, 123573.47268782,\n",
       "       265074.99763792, 124503.3816904 , 164731.06001457,  85349.86778425,\n",
       "        86915.77968895, 182759.82298441, 141602.23565765, 207454.55924603,\n",
       "        79284.06155166, 164731.06001457, 184325.73488911, 123573.47268782,\n",
       "       164731.06001457, 128073.3670157 , 125139.38459252, 167862.88382397,\n",
       "       215086.27738331, 100444.6483309 , 181193.91107971, 181193.91107971,\n",
       "       125139.38459252,  78648.05864954, 124941.5432063 , 225483.32221586,\n",
       "       131205.1908251 , 134337.0146345 , 126705.29649722, 185891.64679381,\n",
       "        88679.53297987, 128073.3670157 , 126507.455111  ,  85547.70917046,\n",
       "        82415.88536106, 144734.05946705, 123573.47268782, 125139.38459252,\n",
       "       138470.41184825, 140036.32375295, 164731.06001457, 143168.14756235,\n",
       "       125139.38459252, 143168.14756235, 167862.88382397, 228615.14602526,\n",
       "       213520.36547861,  83981.79726576,  79284.06155166, 209020.47115073,\n",
       "       185891.64679381,  41258.29803431, 121371.557881  , 182759.82298441,\n",
       "       123573.47268782,  98878.7364262 , 122007.56078312, 185891.64679381,\n",
       "       228615.14602526, 146299.97137175,  97312.8245215 , 167862.88382397,\n",
       "       228615.14602526, 182759.82298441, 228615.14602526, 184325.73488911,\n",
       "       271338.64525672, 228615.14602526, 228615.14602526, 228615.14602526,\n",
       "       216652.18928801, 163165.14810987, 170796.86624716, 131205.1908251 ,\n",
       "       228615.14602526, 185891.64679381, 138470.41184825, 182759.82298441,\n",
       "       123573.47268782, 123573.47268782, 271338.64525672, 271338.64525672,\n",
       "       227049.23412056, 228615.14602526, 228615.14602526, 185891.64679381,\n",
       "       185891.64679381, 271338.64525672, 228615.14602526, 228615.14602526,\n",
       "        38126.47422491, 141602.23565765, 125139.38459252, 123573.47268782,\n",
       "       100444.6483309 , 166296.97191927, 167862.88382397, 100444.6483309 ,\n",
       "       100444.6483309 , 169428.79572867,  80213.97055424, 141602.23565765,\n",
       "       119805.6459763 , 169428.79572867,  42824.20993901, 123573.47268782,\n",
       "       166296.97191927,  80849.97345636, 147865.88327645, 182759.82298441,\n",
       "       227049.23412056, 141602.23565765, 222351.49840646, 205888.64734133,\n",
       "       227049.23412056, 257809.77661477, 259375.68851947, 205888.64734133,\n",
       "        83783.95587955,  -3031.11310185, 164095.05711245,  83981.79726576,\n",
       "        85349.86778425, 125139.38459252,  85349.86778425, 271338.64525672,\n",
       "       271338.64525672, 164731.06001457, 228615.14602526, 167862.88382397,\n",
       "       167862.88382397, 125139.38459252, 228615.14602526, 228615.14602526,\n",
       "       131205.1908251 , 271338.64525672, 228615.14602526, 271338.64525672,\n",
       "       314062.14448817, 125139.38459252, 143168.14756235, 167862.88382397,\n",
       "       143168.14756235,  82415.88536106, 141602.23565765, 128271.20840192,\n",
       "        97312.8245215 ,  98878.7364262 , 102010.5602356 ,  80849.97345636,\n",
       "       140036.32375295, 122007.56078312, 122007.56078312, 135902.92653921,\n",
       "       131205.1908251 , 125139.38459252, 271338.64525672, 185891.64679381,\n",
       "       167862.88382397, 167862.88382397, 256243.86471007, 185891.64679381,\n",
       "       271338.64525672, 216652.18928801, 314062.14448817, 216652.18928801,\n",
       "       271338.64525672, 271338.64525672, 271338.64525672, 271338.64525672,\n",
       "       216652.18928801, 216652.18928801, 173928.69005656, 170796.86624716,\n",
       "       169230.95434246, 173928.69005656, 185891.64679381, 173928.69005656,\n",
       "       173928.69005656, 172362.77815186, 228615.14602526, 228615.14602526,\n",
       "       259375.68851947, 314062.14448817, 271338.64525672, 228615.14602526,\n",
       "       141602.23565765, 207454.55924603, 167862.88382397, 210586.38305543,\n",
       "       170796.86624716, 209020.47115073, 166296.97191927, 207454.55924603,\n",
       "       210586.38305543, 173928.69005656, 253309.88228688, 210586.38305543,\n",
       "       210586.38305543, 140036.32375295, 228615.14602526, 271338.64525672,\n",
       "       271338.64525672, 271338.64525672, 122007.56078312, 184325.73488911,\n",
       "       206818.55634391, 167862.88382397, 166296.97191927, 125139.38459252,\n",
       "       123573.47268782, 169230.95434246, 125139.38459252, 140036.32375295,\n",
       "        80849.97345636,  80849.97345636,  97312.8245215 ,  86915.77968895,\n",
       "        85349.86778425, 167862.88382397, 123573.47268782, 125139.38459252,\n",
       "       166296.97191927, 169230.95434246, 122007.56078312, 166296.97191927,\n",
       "       167862.88382397, 166296.97191927, 210586.38305543, 167862.88382397,\n",
       "       167862.88382397, 167862.88382397, 166296.97191927, 167862.88382397,\n",
       "       209020.47115073, 125139.38459252, 140036.32375295, 356785.64371963,\n",
       "       314062.14448817, 314062.14448817, 356785.64371963, 314062.14448817,\n",
       "       271338.64525672, 271338.64525672, 314062.14448817, 314062.14448817,\n",
       "       314062.14448817, 356785.64371963, 356785.64371963, 356785.64371963,\n",
       "       314062.14448817, 314062.14448817, 271338.64525672, 271338.64525672,\n",
       "       271338.64525672, 314062.14448817, 271338.64525672, 314062.14448817,\n",
       "       314062.14448817, 314062.14448817, 271338.64525672, 271338.64525672,\n",
       "       228615.14602526, 228615.14602526, 356785.64371963, 314062.14448817,\n",
       "       271338.64525672, 259375.68851947, 185891.64679381, 185891.64679381,\n",
       "       185891.64679381, 228615.14602526, 228615.14602526, 356785.64371963,\n",
       "       271338.64525672, 314062.14448817, 314062.14448817, 271338.64525672,\n",
       "       271338.64525672, 228615.14602526, 228615.14602526, 228615.14602526,\n",
       "       185891.64679381, 185891.64679381, 185891.64679381, 228615.14602526,\n",
       "       228615.14602526, 228615.14602526, 228615.14602526, 228615.14602526,\n",
       "       228615.14602526, 228615.14602526, 185891.64679381, 228615.14602526,\n",
       "       228615.14602526, 271338.64525672, 228615.14602526, 228615.14602526,\n",
       "       228615.14602526, 228615.14602526, 228615.14602526, 185891.64679381,\n",
       "       228615.14602526, 185891.64679381, 185891.64679381, 228615.14602526,\n",
       "       228615.14602526, 185891.64679381, 228615.14602526, 227049.23412056,\n",
       "       271338.64525672, 271338.64525672, 271338.64525672, 271338.64525672,\n",
       "       271338.64525672, 228615.14602526, 271338.64525672, 228615.14602526,\n",
       "       228615.14602526, 271338.64525672, 268206.82144732, 227049.23412056,\n",
       "       271338.64525672, 271338.64525672, 271338.64525672, 271338.64525672,\n",
       "       271338.64525672, 271338.64525672, 228615.14602526, 314062.14448817,\n",
       "       228615.14602526, 271338.64525672, 185891.64679381, 271338.64525672,\n",
       "       228615.14602526, 314062.14448817, 314062.14448817, 271338.64525672,\n",
       "       356785.64371963, 271338.64525672, 271338.64525672, 228615.14602526,\n",
       "       271338.64525672, 228615.14602526, 228615.14602526, 228615.14602526,\n",
       "       228615.14602526, 228615.14602526, 227049.23412056, 228615.14602526,\n",
       "       185891.64679381, 228615.14602526, 271338.64525672, 228615.14602526,\n",
       "       143168.14756235, 143168.14756235, 228615.14602526, 228615.14602526,\n",
       "       271338.64525672, 228615.14602526, 184325.73488911, 166296.97191927,\n",
       "       173928.69005656, 228615.14602526, 164731.06001457, 164731.06001457,\n",
       "        90047.60349835, 170994.70763337, 131205.1908251 , 123573.47268782,\n",
       "       141602.23565765, 125139.38459252, 131205.1908251 , 138470.41184825,\n",
       "       141602.23565765, 131205.1908251 , 129639.2789204 , 254677.95280537,\n",
       "       223917.41031116, 228615.14602526, 185891.64679381, 185891.64679381,\n",
       "       185891.64679381, 185891.64679381, 173928.69005656, 185891.64679381,\n",
       "       228615.14602526, 271338.64525672, 265074.99763792, 253309.88228688,\n",
       "       210586.38305543, 271338.64525672, 102010.5602356 , 184325.73488911,\n",
       "       166296.97191927, 170796.86624716, 227049.23412056, 209020.47115073,\n",
       "       166296.97191927, 170796.86624716, 164095.05711245, 125139.38459252,\n",
       "       167862.88382397, 225483.32221586, 167862.88382397, 228615.14602526,\n",
       "       269772.73335202, 123573.47268782, 125139.38459252, 141602.23565765,\n",
       "       216652.18928801, 164095.05711245, 167862.88382397,  85349.86778425,\n",
       "       140036.32375295, 184325.73488911,  82415.88536106, 119805.6459763 ,\n",
       "       125139.38459252, 166296.97191927, 123573.47268782, 125139.38459252,\n",
       "       141602.23565765, 123573.47268782, 166296.97191927, 141602.23565765,\n",
       "       184325.73488911, 131205.1908251 ,  85349.86778425, 126705.29649722,\n",
       "       187457.55869851, 167862.88382397, 167862.88382397, 129639.2789204 ,\n",
       "       181193.91107971, 128073.3670157 , 125139.38459252, 184325.73488911,\n",
       "       173928.69005656, 169230.95434246, 209020.47115073, 166296.97191927,\n",
       "       177060.51386596,  90047.60349835, 122007.56078312, 177060.51386596,\n",
       "       215086.27738331, 163165.14810987, 172362.77815186, 164731.06001457,\n",
       "       125139.38459252, 131205.1908251 ,  82415.88536106, 167862.88382397,\n",
       "       129639.2789204 , 144734.05946705, 170796.86624716, 123573.47268782,\n",
       "       125139.38459252,  82415.88536106, 140036.32375295, 123573.47268782,\n",
       "       126507.455111  , 125139.38459252,  39692.38612961, 225483.32221586,\n",
       "       123573.47268782, 184325.73488911,  45758.19236219, 140036.32375295,\n",
       "       140036.32375295,  83783.95587955, 138470.41184825, 140036.32375295,\n",
       "        82415.88536106, 222351.49840646,   3034.69313074,  98878.7364262 ,\n",
       "       122007.56078312,  39692.38612961, 167862.88382397, 160963.23330305,\n",
       "       175494.60196126, 125139.38459252, 167665.04243776, 172362.77815186,\n",
       "       122007.56078312, 185891.64679381, 162529.14520775, 128073.3670157 ,\n",
       "        37490.47132279, 173928.69005656,  78648.05864954, 132771.1027298 ,\n",
       "       129639.2789204 , 123573.47268782, 122007.56078312, 125139.38459252,\n",
       "       125139.38459252,  79284.06155166, 164731.06001457, 167862.88382397,\n",
       "       128073.3670157 , 166296.97191927, 131205.1908251 , 163165.14810987,\n",
       "       129639.2789204 , 169230.95434246, 173928.69005656, 141602.23565765,\n",
       "       120441.64887842, 138470.41184825, 123573.47268782, 126705.29649722,\n",
       "        86915.77968895, 131205.1908251 , 211954.45357391, 131205.1908251 ,\n",
       "        83981.79726576, 122007.56078312, 126705.29649722,  80849.97345636,\n",
       "        -5233.02790867,  34358.64751339, 126507.455111  , 120441.64887842,\n",
       "        88481.69159365,  83981.79726576, 122007.56078312, 125139.38459252,\n",
       "       207454.55924603, 170796.86624716, 182759.82298441, 253112.04090067,\n",
       "       103576.4721403 , 222351.49840646, 126705.29649722, 123573.47268782,\n",
       "       184325.73488911, 182759.82298441,  82415.88536106,  42824.20993901,\n",
       "       141602.23565765, 166296.97191927, 213520.36547861, 140036.32375295,\n",
       "       162529.14520775,  80849.97345636, 161599.23620517, 138470.41184825,\n",
       "       184325.73488911, 131205.1908251 , 170796.86624716, 125139.38459252,\n",
       "       123573.47268782,  97312.8245215 ,  -3667.11600397, 122007.56078312,\n",
       "       129639.2789204 , 123573.47268782, 125139.38459252, 172362.77815186,\n",
       "       205888.64734133, 172362.77815186, 223917.41031116, 202120.82062981,\n",
       "       184325.73488911, 131403.03221132, 164095.05711245,  82415.88536106,\n",
       "       182759.82298441, 210586.38305543, 166296.97191927,  80849.97345636,\n",
       "       182759.82298441,  94181.0007121 , 125139.38459252, 125139.38459252,\n",
       "       125139.38459252, -33425.15848191, 166296.97191927, 128271.20840192,\n",
       "       141602.23565765, 123573.47268782, 173928.69005656, 123573.47268782,\n",
       "       140036.32375295, 167862.88382397, 125139.38459252, 123573.47268782,\n",
       "       125139.38459252, 125139.38459252, 185891.64679381, 143168.14756235,\n",
       "        -2101.20409927, 100444.6483309 , 138470.41184825,  98878.7364262 ,\n",
       "       100444.6483309 , 143168.14756235,  57721.14909944,  82415.88536106,\n",
       "       164095.05711245, 125139.38459252, 128271.20840192, 182759.82298441,\n",
       "        80849.97345636, 123573.47268782, 103576.4721403 , 125139.38459252,\n",
       "       132771.1027298 , 167862.88382397,  82415.88536106, 215086.27738331,\n",
       "       173928.69005656, 266640.90954262, 213520.36547861, 228615.14602526,\n",
       "       228615.14602526, 271338.64525672, 140036.32375295, 125139.38459252,\n",
       "       125139.38459252, 125139.38459252, 125139.38459252, 125139.38459252,\n",
       "       125139.38459252, 125139.38459252, 125139.38459252, 228615.14602526,\n",
       "       228615.14602526, 228615.14602526, 314062.14448817, 271338.64525672,\n",
       "       271338.64525672, 314062.14448817, 271338.64525672, 271338.64525672,\n",
       "       271338.64525672, 314062.14448817, 228615.14602526, 228615.14602526,\n",
       "       271338.64525672, 228615.14602526, 271338.64525672, 185891.64679381,\n",
       "       216652.18928801, 216652.18928801, 125139.38459252, 131205.1908251 ,\n",
       "       140036.32375295, 185891.64679381, 227049.23412056, 228615.14602526,\n",
       "       143168.14756235, 143168.14756235, 228615.14602526, 228615.14602526,\n",
       "       228615.14602526, 185891.64679381, 228615.14602526, 228615.14602526,\n",
       "       228615.14602526, 228615.14602526, 228615.14602526, 228615.14602526,\n",
       "       125139.38459252, 125139.38459252, 122007.56078312, 122007.56078312,\n",
       "       138470.41184825, 122007.56078312, 141602.23565765, 125139.38459252,\n",
       "       126507.455111  , 122007.56078312, 228615.14602526, 271338.64525672,\n",
       "       271338.64525672, 271338.64525672, 314062.14448817, 228615.14602526,\n",
       "       271338.64525672, 228615.14602526, 271338.64525672, 228615.14602526,\n",
       "       228615.14602526, 228615.14602526, 228615.14602526, 228615.14602526,\n",
       "       185891.64679381, 185891.64679381, 271338.64525672, 228615.14602526,\n",
       "       228615.14602526, 185891.64679381, 185891.64679381, 100444.6483309 ,\n",
       "       140036.32375295,  98878.7364262 , 228615.14602526, 166296.97191927,\n",
       "        80849.97345636, 184325.73488911, 314062.14448817, 173928.69005656,\n",
       "       136904.49994355,  82415.88536106, 125139.38459252,  85547.70917046,\n",
       "       138470.41184825,  39056.38322749, 125139.38459252, 143168.14756235,\n",
       "       103576.4721403 , 169230.95434246, 141602.23565765, 143168.14756235,\n",
       "       126705.29649722, 143168.14756235,  -3031.11310185, 164731.06001457,\n",
       "       231746.96983466, 172362.77815186,  85547.70917046, 181193.91107971,\n",
       "       184325.73488911, 222351.49840646, 172362.77815186, 213520.36547861,\n",
       "       223917.41031116, 222351.49840646, 141602.23565765, 160963.23330305,\n",
       "       140036.32375295, 144734.05946705, 140036.32375295, 141602.23565765,\n",
       "       227049.23412056, 141602.23565765, 225483.32221586, 166296.97191927,\n",
       "       118239.7340716 , 181193.91107971, 185891.64679381, 166296.97191927,\n",
       "       166296.97191927, 166296.97191927, 166296.97191927, 172362.77815186,\n",
       "       204322.73543663, 179627.99917501, 128073.3670157 , 141602.23565765,\n",
       "       125139.38459252,  44390.12184371,  77082.14674484, 271338.64525672,\n",
       "        -1465.20119715, 271338.64525672, 228615.14602526, 228615.14602526,\n",
       "       185891.64679381, 184325.73488911, 164731.06001457, 125139.38459252,\n",
       "       228615.14602526, 125139.38459252, 172362.77815186, 210586.38305543,\n",
       "       314062.14448817, 216652.18928801, 314062.14448817, 314062.14448817,\n",
       "       271338.64525672, 167862.88382397, 181193.91107971, 228615.14602526,\n",
       "       271338.64525672, 228615.14602526, 314062.14448817, 314062.14448817,\n",
       "       128073.3670157 , 126705.29649722, 185891.64679381, 185891.64679381,\n",
       "        82415.88536106, 123573.47268782,  77718.14964696, 143168.14756235,\n",
       "        83981.79726576,  80849.97345636,  83981.79726576, 126507.455111  ,\n",
       "       185891.64679381, 141602.23565765, 143168.14756235, 123573.47268782,\n",
       "       143168.14756235, 125139.38459252, 167862.88382397, 140036.32375295])"
      ]
     },
     "execution_count": 19,
     "metadata": {},
     "output_type": "execute_result"
    }
   ],
   "source": [
    "y_pred = model.predict(x_test);\n",
    "y_pred"
   ]
  },
  {
   "cell_type": "code",
   "execution_count": null,
   "metadata": {},
   "outputs": [],
   "source": []
  },
  {
   "cell_type": "markdown",
   "metadata": {
    "colab_type": "text",
    "id": "E9reASgw-i8T"
   },
   "source": [
    "## 6. Use regression metrics: MAE, R^2\n",
    "What is the Mean Absolute Error and R^2 score for your model? ***Beat the mean baseline!***"
   ]
  },
  {
   "cell_type": "code",
   "execution_count": 20,
   "metadata": {
    "colab": {},
    "colab_type": "code",
    "id": "q8GdnL4e7hyK"
   },
   "outputs": [
    {
     "name": "stdout",
     "output_type": "stream",
     "text": [
      "Mean Absolute Error = 33039.11405398713\n",
      "R2 Score = 0.6577956008812905\n"
     ]
    }
   ],
   "source": [
    "mae2 = mean_absolute_error(y_test, y_pred);\n",
    "r22 = r2_score(y_test, y_pred);\n",
    "\n",
    "print('Mean Absolute Error =', mae2);\n",
    "print('R2 Score =', r22);"
   ]
  },
  {
   "cell_type": "markdown",
   "metadata": {
    "colab_type": "text",
    "id": "NHnaqGAU-11z"
   },
   "source": [
    "## 7. Get coefficients of a linear model\n",
    "Print or plot the coefficients for the features in your model."
   ]
  },
  {
   "cell_type": "code",
   "execution_count": 21,
   "metadata": {
    "colab": {},
    "colab_type": "code",
    "id": "cwVomtJADsb4"
   },
   "outputs": [
    {
     "data": {
      "text/plain": [
       "<Figure size 640x480 with 1 Axes>"
      ]
     },
     "metadata": {},
     "output_type": "display_data"
    },
    {
     "data": {
      "text/plain": [
       "<Figure size 640x480 with 1 Axes>"
      ]
     },
     "metadata": {},
     "output_type": "display_data"
    },
    {
     "data": {
      "text/plain": [
       "<Figure size 640x480 with 1 Axes>"
      ]
     },
     "metadata": {},
     "output_type": "display_data"
    },
    {
     "data": {
      "text/plain": [
       "<Figure size 640x480 with 1 Axes>"
      ]
     },
     "metadata": {},
     "output_type": "display_data"
    },
    {
     "data": {
      "text/plain": [
       "<Figure size 640x480 with 1 Axes>"
      ]
     },
     "metadata": {},
     "output_type": "display_data"
    },
    {
     "data": {
      "text/plain": [
       "<Figure size 640x480 with 1 Axes>"
      ]
     },
     "metadata": {},
     "output_type": "display_data"
    },
    {
     "data": {
      "text/plain": [
       "<Figure size 640x480 with 1 Axes>"
      ]
     },
     "metadata": {},
     "output_type": "display_data"
    }
   ],
   "source": [
    "import matplotlib.pyplot as plt;\n",
    "for column in x_train.columns:\n",
    "    plt.scatter(x_train[column], y_train, alpha = 0.01);\n",
    "    plt.plot(x_test[column], y_pred);\n",
    "    plt.show();"
   ]
  },
  {
   "cell_type": "code",
   "execution_count": 22,
   "metadata": {},
   "outputs": [
    {
     "data": {
      "image/png": "[encoded data removed]",
      "text/plain": [
       "<Figure size 432x288 with 1 Axes>"
      ]
     },
     "metadata": {
      "needs_background": "light"
     },
     "output_type": "display_data"
    },
    {
     "data": {
      "image/png": "[encoded data removed]",
      "text/plain": [
       "<Figure size 432x288 with 1 Axes>"
      ]
     },
     "metadata": {
      "needs_background": "light"
     },
     "output_type": "display_data"
    },
    {
     "data": {
      "image/png": "[encoded data removed]",
      "text/plain": [
       "<Figure size 432x288 with 1 Axes>"
      ]
     },
     "metadata": {
      "needs_background": "light"
     },
     "output_type": "display_data"
    },
    {
     "data": {
      "image/png": "[encoded data removed]",
      "text/plain": [
       "<Figure size 432x288 with 1 Axes>"
      ]
     },
     "metadata": {
      "needs_background": "light"
     },
     "output_type": "display_data"
    },
    {
     "data": {
      "image/png": "[encoded data removed]",
      "text/plain": [
       "<Figure size 432x288 with 1 Axes>"
      ]
     },
     "metadata": {
      "needs_background": "light"
     },
     "output_type": "display_data"
    },
    {
     "data": {
      "image/png": "[encoded data removed]",
      "text/plain": [
       "<Figure size 432x288 with 1 Axes>"
      ]
     },
     "metadata": {
      "needs_background": "light"
     },
     "output_type": "display_data"
    },
    {
     "data": {
      "image/png": "[encoded data removed]",
      "text/plain": [
       "<Figure size 432x288 with 1 Axes>"
      ]
     },
     "metadata": {
      "needs_background": "light"
     },
     "output_type": "display_data"
    }
   ],
   "source": [
    "for i in range(len(x_test.columns)):\n",
    "    y = model.coef_[i]*x_test[x_test.columns[i]] + model.intercept_\n",
    "    plt.plot(x_test[x_test.columns[i]], y)\n",
    "    #plt.ylim(-50000, 350000);\n",
    "    plt.xlabel(x_test.columns[i])\n",
    "    plt.ylabel('Sale Price');\n",
    "    plt.show();"
   ]
  },
  {
   "cell_type": "code",
   "execution_count": 23,
   "metadata": {},
   "outputs": [
    {
     "name": "stdout",
     "output_type": "stream",
     "text": [
      "Coefs = [ 42723.49923145  -1565.9119047   10839.06418603  -7189.69878381\n",
      "  -1123.89255122 -10957.52549533   8432.05264433]\n"
     ]
    }
   ],
   "source": [
    "print(\"Coefs =\", model.coef_);"
   ]
  },
  {
   "cell_type": "markdown",
   "metadata": {
    "colab_type": "text",
    "id": "DidByDsrOa-o"
   },
   "source": [
    "## Stretch Goals\n",
    "- Try at least 3 different feature combinations.\n",
    "- Plot exploratory visualizations.\n",
    "- Get regression metrics RMSE, MAE, and $R^2$, for both the train and test data."
   ]
  },
  {
   "cell_type": "code",
   "execution_count": 24,
   "metadata": {
    "colab": {},
    "colab_type": "code",
    "id": "JQf9iwzf_uWh"
   },
   "outputs": [
    {
     "data": {
      "text/plain": [
       "((1920, 2), (1920,))"
      ]
     },
     "execution_count": 24,
     "metadata": {},
     "output_type": "execute_result"
    }
   ],
   "source": [
    "feature2 = ['Overall_Qual', 'Exter_Qual'];\n",
    "target2 = 'SalePrice';\n",
    "\n",
    "x_train2 = train[feature2];\n",
    "y_train2 = train[target2];\n",
    "\n",
    "x_test2 = test[feature2];\n",
    "y_test2 = test[target2];\n",
    "\n",
    "x_train2.shape, y_train2.shape"
   ]
  },
  {
   "cell_type": "code",
   "execution_count": 25,
   "metadata": {},
   "outputs": [
    {
     "data": {
      "text/html": [
       "<div>\n",
       "<style scoped>\n",
       "    .dataframe tbody tr th:only-of-type {\n",
       "        vertical-align: middle;\n",
       "    }\n",
       "\n",
       "    .dataframe tbody tr th {\n",
       "        vertical-align: top;\n",
       "    }\n",
       "\n",
       "    .dataframe thead th {\n",
       "        text-align: right;\n",
       "    }\n",
       "</style>\n",
       "<table border=\"1\" class=\"dataframe\">\n",
       "  <thead>\n",
       "    <tr style=\"text-align: right;\">\n",
       "      <th></th>\n",
       "      <th>Overall_Qual</th>\n",
       "      <th>Exter_Qual</th>\n",
       "    </tr>\n",
       "  </thead>\n",
       "  <tbody>\n",
       "    <tr>\n",
       "      <th>984</th>\n",
       "      <td>6</td>\n",
       "      <td>Ex</td>\n",
       "    </tr>\n",
       "    <tr>\n",
       "      <th>985</th>\n",
       "      <td>6</td>\n",
       "      <td>TA</td>\n",
       "    </tr>\n",
       "    <tr>\n",
       "      <th>986</th>\n",
       "      <td>6</td>\n",
       "      <td>TA</td>\n",
       "    </tr>\n",
       "    <tr>\n",
       "      <th>987</th>\n",
       "      <td>6</td>\n",
       "      <td>TA</td>\n",
       "    </tr>\n",
       "    <tr>\n",
       "      <th>988</th>\n",
       "      <td>6</td>\n",
       "      <td>TA</td>\n",
       "    </tr>\n",
       "  </tbody>\n",
       "</table>\n",
       "</div>"
      ],
      "text/plain": [
       "     Overall_Qual Exter_Qual\n",
       "984             6         Ex\n",
       "985             6         TA\n",
       "986             6         TA\n",
       "987             6         TA\n",
       "988             6         TA"
      ]
     },
     "execution_count": 25,
     "metadata": {},
     "output_type": "execute_result"
    }
   ],
   "source": [
    "x_train2.head()"
   ]
  },
  {
   "cell_type": "code",
   "execution_count": 26,
   "metadata": {},
   "outputs": [],
   "source": [
    "encoder2 = ce.OneHotEncoder(use_cat_names=True);\n",
    "x_train2 = encoder2.fit_transform(x_train2)\n",
    "x_test2 = encoder2.transform(x_test2)"
   ]
  },
  {
   "cell_type": "code",
   "execution_count": 27,
   "metadata": {},
   "outputs": [
    {
     "data": {
      "text/plain": [
       "LinearRegression(copy_X=True, fit_intercept=True, n_jobs=None,\n",
       "         normalize=False)"
      ]
     },
     "execution_count": 27,
     "metadata": {},
     "output_type": "execute_result"
    }
   ],
   "source": [
    "model2 = LinearRegression()\n",
    "model2.fit(x_train2, y_train2)"
   ]
  },
  {
   "cell_type": "code",
   "execution_count": 28,
   "metadata": {},
   "outputs": [
    {
     "data": {
      "text/plain": [
       "array([166317.08770635, 129960.34668087, 166317.08770635, 227273.04148098,\n",
       "       129960.34668087, 166317.08770635, 263629.78250646, 263629.78250646,\n",
       "       263629.78250646, 202673.82873182, 166317.08770635, 166317.08770635,\n",
       "       166317.08770635, 202673.82873182, 263629.78250646, 334252.794271  ,\n",
       "       263629.78250646, 299986.52353193,  93603.60565539, 166317.08770635,\n",
       "       166317.08770635, 202673.82873182, 227273.04148098, 166317.08770635,\n",
       "       129960.34668087, 129960.34668087,  93603.60565539,  93603.60565539,\n",
       "       227273.04148098, 166317.08770635, 129960.34668087, 166317.08770635,\n",
       "       166317.08770635, 166317.08770635, 202673.82873182, 166317.08770635,\n",
       "       370609.53529648, 263629.78250646, 370609.53529648, 263629.78250646,\n",
       "       227273.04148098, 299986.52353193, 263629.78250646, 227273.04148098,\n",
       "       370609.53529648, 227273.04148098, 370609.53529648, 263629.78250646,\n",
       "       370609.53529648, 263629.78250646, 227273.04148098, 190916.3004555 ,\n",
       "       227273.04148098, 263629.78250646, 227273.04148098, 227273.04148098,\n",
       "       202673.82873182, 227273.04148098, 299986.52353193, 263629.78250646,\n",
       "       227273.04148098, 263629.78250646, 263629.78250646, 227273.04148098,\n",
       "       263629.78250646, 263629.78250646, 227273.04148098, 202673.82873182,\n",
       "       263629.78250646, 227273.04148098, 190916.3004555 , 227273.04148098,\n",
       "       227273.04148098, 227273.04148098, 166317.08770635, 190916.3004555 ,\n",
       "       166317.08770635, 166317.08770635, 227273.04148098, 166317.08770635,\n",
       "       166317.08770635, 129960.34668087, 166317.08770635, 129960.34668087,\n",
       "       129960.34668087, 129960.34668087, 129960.34668087, 129960.34668087,\n",
       "       166317.08770635, 227273.04148098, 263629.78250646, 263629.78250646,\n",
       "       227273.04148098, 227273.04148098, 227273.04148098, 227273.04148098,\n",
       "       227273.04148098, 190916.3004555 , 297896.05324552, 190916.3004555 ,\n",
       "       190916.3004555 , 227273.04148098, 227273.04148098, 263629.78250646,\n",
       "       263629.78250646, 263629.78250646, 263629.78250646, 190916.3004555 ,\n",
       "       227273.04148098, 166317.08770635, 166317.08770635, 166317.08770635,\n",
       "       166317.08770635, 202673.82873182, 166317.08770635, 166317.08770635,\n",
       "       129960.34668087, 166317.08770635,  93603.60565539, 129960.34668087,\n",
       "       129960.34668087, 166317.08770635, 129960.34668087, 166317.08770635,\n",
       "       129960.34668087, 129960.34668087, 154559.55943003, 166317.08770635,\n",
       "       129960.34668087,  57246.86462992, 129960.34668087, 166317.08770635,\n",
       "       129960.34668087, 166317.08770635, 129960.34668087, 202673.82873182,\n",
       "       190916.3004555 , 129960.34668087, 227273.04148098, 129960.34668087,\n",
       "       129960.34668087, 129960.34668087, 166317.08770635, 129960.34668087,\n",
       "       129960.34668087, 129960.34668087, 166317.08770635,  93603.60565539,\n",
       "       129960.34668087, 129960.34668087, 129960.34668087, 129960.34668087,\n",
       "        93603.60565539, 129960.34668087, 129960.34668087, 129960.34668087,\n",
       "       166317.08770635, 166317.08770635, 129960.34668087, 227273.04148098,\n",
       "       166317.08770635, 129960.34668087, 129960.34668087, 129960.34668087,\n",
       "       166317.08770635, 129960.34668087, 166317.08770635, 166317.08770635,\n",
       "        93603.60565539,  93603.60565539, 129960.34668087, 129960.34668087,\n",
       "       129960.34668087,  81846.07737907,  93603.60565539, 129960.34668087,\n",
       "       129960.34668087, 166317.08770635, 129960.34668087, 129960.34668087,\n",
       "        20890.12360444, 166317.08770635, 263629.78250646, 129960.34668087,\n",
       "       263629.78250646, 129960.34668087, 166317.08770635,  93603.60565539,\n",
       "        93603.60565539, 166317.08770635, 129960.34668087, 202673.82873182,\n",
       "        93603.60565539, 166317.08770635, 166317.08770635, 129960.34668087,\n",
       "       166317.08770635, 129960.34668087, 129960.34668087, 166317.08770635,\n",
       "       202673.82873182,  93603.60565539, 190916.3004555 , 166317.08770635,\n",
       "       133488.41644024,  97131.67541476, 129960.34668087, 202673.82873182,\n",
       "       129960.34668087, 129960.34668087, 133488.41644024, 166317.08770635,\n",
       "        93603.60565539, 129960.34668087, 129960.34668087,  97131.67541476,\n",
       "        93603.60565539, 129960.34668087, 129960.34668087, 129960.34668087,\n",
       "       129960.34668087, 129960.34668087, 166317.08770635, 129960.34668087,\n",
       "       129960.34668087, 129960.34668087, 166317.08770635, 227273.04148098,\n",
       "       227273.04148098,  93603.60565539,  93603.60565539, 227273.04148098,\n",
       "       166317.08770635,  57246.86462992, 129960.34668087, 166317.08770635,\n",
       "       129960.34668087,  93603.60565539, 129960.34668087, 166317.08770635,\n",
       "       227273.04148098, 129960.34668087,  93603.60565539, 190916.3004555 ,\n",
       "       227273.04148098, 190916.3004555 , 227273.04148098, 166317.08770635,\n",
       "       263629.78250646, 227273.04148098, 202673.82873182, 227273.04148098,\n",
       "       202673.82873182, 166317.08770635, 166317.08770635, 129960.34668087,\n",
       "       202673.82873182, 166317.08770635, 154559.55943003, 166317.08770635,\n",
       "       129960.34668087, 129960.34668087, 263629.78250646, 263629.78250646,\n",
       "       227273.04148098, 227273.04148098, 202673.82873182, 190916.3004555 ,\n",
       "       190916.3004555 , 263629.78250646, 227273.04148098, 227273.04148098,\n",
       "        57246.86462992, 129960.34668087, 129960.34668087, 129960.34668087,\n",
       "        93603.60565539, 166317.08770635, 166317.08770635,  93603.60565539,\n",
       "        93603.60565539, 166317.08770635,  93603.60565539, 129960.34668087,\n",
       "       129960.34668087, 166317.08770635,  57246.86462992, 129960.34668087,\n",
       "       166317.08770635,  93603.60565539, 129960.34668087, 166317.08770635,\n",
       "       227273.04148098, 129960.34668087, 297896.05324552, 227273.04148098,\n",
       "       202673.82873182, 263629.78250646, 263629.78250646, 202673.82873182,\n",
       "        93603.60565539,  20890.12360444, 166317.08770635,  93603.60565539,\n",
       "        93603.60565539, 133488.41644024,  97131.67541476, 263629.78250646,\n",
       "       263629.78250646, 166317.08770635, 227273.04148098, 166317.08770635,\n",
       "       166317.08770635, 129960.34668087, 227273.04148098, 227273.04148098,\n",
       "       129960.34668087, 263629.78250646, 227273.04148098, 263629.78250646,\n",
       "       370609.53529648, 129960.34668087, 129960.34668087, 166317.08770635,\n",
       "       129960.34668087,  93603.60565539, 129960.34668087, 129960.34668087,\n",
       "        93603.60565539,  93603.60565539,  93603.60565539,  93603.60565539,\n",
       "       129960.34668087, 129960.34668087, 129960.34668087, 129960.34668087,\n",
       "       129960.34668087, 129960.34668087, 263629.78250646, 190916.3004555 ,\n",
       "       166317.08770635, 166317.08770635, 263629.78250646, 166317.08770635,\n",
       "       263629.78250646, 202673.82873182, 370609.53529648, 202673.82873182,\n",
       "       263629.78250646, 263629.78250646, 239030.5697573 , 263629.78250646,\n",
       "       227273.04148098, 202673.82873182, 190916.3004555 , 190916.3004555 ,\n",
       "       261539.31222005, 166317.08770635, 166317.08770635, 166317.08770635,\n",
       "       166317.08770635, 166317.08770635, 227273.04148098, 202673.82873182,\n",
       "       263629.78250646, 370609.53529648, 263629.78250646, 227273.04148098,\n",
       "       129960.34668087, 227273.04148098, 166317.08770635, 202673.82873182,\n",
       "       190916.3004555 , 202673.82873182, 166317.08770635, 202673.82873182,\n",
       "       202673.82873182, 166317.08770635, 263629.78250646, 202673.82873182,\n",
       "       202673.82873182, 129960.34668087, 227273.04148098, 263629.78250646,\n",
       "       263629.78250646, 263629.78250646, 129960.34668087, 166317.08770635,\n",
       "       202673.82873182, 166317.08770635, 166317.08770635, 129960.34668087,\n",
       "       129960.34668087, 166317.08770635, 129960.34668087, 129960.34668087,\n",
       "        93603.60565539,  93603.60565539,  93603.60565539,  93603.60565539,\n",
       "        93603.60565539, 166317.08770635, 129960.34668087, 129960.34668087,\n",
       "       166317.08770635, 166317.08770635, 129960.34668087, 166317.08770635,\n",
       "       166317.08770635, 166317.08770635, 202673.82873182, 166317.08770635,\n",
       "       166317.08770635, 166317.08770635, 166317.08770635, 190916.3004555 ,\n",
       "       202673.82873182, 129960.34668087, 154559.55943003, 406966.27632195,\n",
       "       370609.53529648, 370609.53529648, 406966.27632195, 299986.52353193,\n",
       "       263629.78250646, 334252.794271  , 299986.52353193, 370609.53529648,\n",
       "       370609.53529648, 406966.27632195, 406966.27632195, 406966.27632195,\n",
       "       370609.53529648, 370609.53529648, 263629.78250646, 263629.78250646,\n",
       "       263629.78250646, 370609.53529648, 263629.78250646, 299986.52353193,\n",
       "       370609.53529648, 299986.52353193, 263629.78250646, 263629.78250646,\n",
       "       227273.04148098, 227273.04148098, 406966.27632195, 299986.52353193,\n",
       "       263629.78250646, 263629.78250646, 190916.3004555 , 190916.3004555 ,\n",
       "       190916.3004555 , 227273.04148098, 227273.04148098, 406966.27632195,\n",
       "       263629.78250646, 370609.53529648, 370609.53529648, 263629.78250646,\n",
       "       263629.78250646, 227273.04148098, 227273.04148098, 227273.04148098,\n",
       "       190916.3004555 , 190916.3004555 , 190916.3004555 , 227273.04148098,\n",
       "       227273.04148098, 227273.04148098, 227273.04148098, 227273.04148098,\n",
       "       227273.04148098, 227273.04148098, 190916.3004555 , 227273.04148098,\n",
       "       227273.04148098, 263629.78250646, 227273.04148098, 227273.04148098,\n",
       "       227273.04148098, 227273.04148098, 227273.04148098, 190916.3004555 ,\n",
       "       227273.04148098, 166317.08770635, 166317.08770635, 202673.82873182,\n",
       "       227273.04148098, 166317.08770635, 227273.04148098, 202673.82873182,\n",
       "       263629.78250646, 263629.78250646, 263629.78250646, 263629.78250646,\n",
       "       263629.78250646, 227273.04148098, 263629.78250646, 227273.04148098,\n",
       "       227273.04148098, 263629.78250646, 263629.78250646, 227273.04148098,\n",
       "       263629.78250646, 263629.78250646, 263629.78250646, 263629.78250646,\n",
       "       263629.78250646, 263629.78250646, 227273.04148098, 370609.53529648,\n",
       "       202673.82873182, 263629.78250646, 190916.3004555 , 263629.78250646,\n",
       "       227273.04148098, 299986.52353193, 370609.53529648, 263629.78250646,\n",
       "       406966.27632195, 263629.78250646, 263629.78250646, 227273.04148098,\n",
       "       263629.78250646, 227273.04148098, 227273.04148098, 227273.04148098,\n",
       "       227273.04148098, 227273.04148098, 227273.04148098, 227273.04148098,\n",
       "       166317.08770635, 227273.04148098, 263629.78250646, 227273.04148098,\n",
       "       129960.34668087, 129960.34668087, 227273.04148098, 227273.04148098,\n",
       "       263629.78250646, 227273.04148098, 190916.3004555 , 166317.08770635,\n",
       "       190916.3004555 , 227273.04148098, 166317.08770635, 166317.08770635,\n",
       "        97131.67541476, 166317.08770635, 129960.34668087, 129960.34668087,\n",
       "       129960.34668087, 129960.34668087, 129960.34668087, 154559.55943003,\n",
       "       129960.34668087, 129960.34668087, 129960.34668087, 263629.78250646,\n",
       "       227273.04148098, 227273.04148098, 190916.3004555 , 190916.3004555 ,\n",
       "       190916.3004555 , 190916.3004555 , 166317.08770635, 190916.3004555 ,\n",
       "       227273.04148098, 263629.78250646, 334252.794271  , 263629.78250646,\n",
       "       227273.04148098, 263629.78250646,  93603.60565539, 166317.08770635,\n",
       "       166317.08770635, 166317.08770635, 202673.82873182, 202673.82873182,\n",
       "       166317.08770635, 166317.08770635, 166317.08770635, 129960.34668087,\n",
       "       166317.08770635, 202673.82873182, 166317.08770635, 227273.04148098,\n",
       "       263629.78250646, 129960.34668087, 129960.34668087, 129960.34668087,\n",
       "       202673.82873182, 166317.08770635, 166317.08770635,  93603.60565539,\n",
       "       129960.34668087, 166317.08770635,  93603.60565539, 129960.34668087,\n",
       "       129960.34668087, 166317.08770635, 129960.34668087, 129960.34668087,\n",
       "       129960.34668087, 129960.34668087, 166317.08770635, 129960.34668087,\n",
       "       166317.08770635, 129960.34668087,  97131.67541476, 129960.34668087,\n",
       "       166317.08770635, 190916.3004555 , 166317.08770635, 129960.34668087,\n",
       "       166317.08770635, 154559.55943003, 129960.34668087, 166317.08770635,\n",
       "       166317.08770635, 166317.08770635, 202673.82873182, 166317.08770635,\n",
       "       166317.08770635,  93603.60565539, 154559.55943003, 166317.08770635,\n",
       "       202673.82873182, 190916.3004555 , 166317.08770635, 166317.08770635,\n",
       "       129960.34668087, 129960.34668087,  93603.60565539, 166317.08770635,\n",
       "       129960.34668087, 129960.34668087, 166317.08770635, 129960.34668087,\n",
       "       129960.34668087,  93603.60565539, 154559.55943003, 129960.34668087,\n",
       "       154559.55943003, 129960.34668087,  57246.86462992, 202673.82873182,\n",
       "       129960.34668087, 166317.08770635,  57246.86462992, 129960.34668087,\n",
       "       129960.34668087, 118202.81840455, 154559.55943003, 129960.34668087,\n",
       "        93603.60565539, 227273.04148098,  24418.19336381,  97131.67541476,\n",
       "       129960.34668087,  57246.86462992, 166317.08770635, 166317.08770635,\n",
       "       169845.15746572, 129960.34668087, 190916.3004555 , 166317.08770635,\n",
       "       129960.34668087, 166317.08770635, 166317.08770635, 154559.55943003,\n",
       "        57246.86462992, 166317.08770635,  93603.60565539, 129960.34668087,\n",
       "       129960.34668087, 129960.34668087, 129960.34668087, 129960.34668087,\n",
       "       129960.34668087,  93603.60565539, 166317.08770635, 166317.08770635,\n",
       "       129960.34668087, 166317.08770635, 129960.34668087, 166317.08770635,\n",
       "       129960.34668087, 166317.08770635, 166317.08770635, 129960.34668087,\n",
       "       129960.34668087, 154559.55943003, 129960.34668087, 129960.34668087,\n",
       "        97131.67541476, 129960.34668087, 202673.82873182, 129960.34668087,\n",
       "        97131.67541476, 129960.34668087, 129960.34668087,  93603.60565539,\n",
       "        20890.12360444,  57246.86462992, 129960.34668087, 154559.55943003,\n",
       "        93603.60565539, 118202.81840455, 129960.34668087, 129960.34668087,\n",
       "       227273.04148098, 166317.08770635, 166317.08770635, 263629.78250646,\n",
       "        93603.60565539, 202673.82873182, 129960.34668087, 129960.34668087,\n",
       "       169845.15746572, 166317.08770635,  93603.60565539,  57246.86462992,\n",
       "       129960.34668087, 166317.08770635, 227273.04148098, 129960.34668087,\n",
       "       166317.08770635,  93603.60565539, 190916.3004555 , 129960.34668087,\n",
       "       166317.08770635, 129960.34668087, 190916.3004555 , 129960.34668087,\n",
       "       129960.34668087,  93603.60565539,  24418.19336381, 129960.34668087,\n",
       "       129960.34668087, 129960.34668087, 129960.34668087, 166317.08770635,\n",
       "       202673.82873182, 166317.08770635, 227273.04148098, 202673.82873182,\n",
       "       166317.08770635, 129960.34668087, 166317.08770635,  93603.60565539,\n",
       "       166317.08770635, 202673.82873182, 166317.08770635,  93603.60565539,\n",
       "       166317.08770635,  93603.60565539, 129960.34668087, 129960.34668087,\n",
       "       129960.34668087, -11938.54766167, 166317.08770635, 129960.34668087,\n",
       "       129960.34668087, 129960.34668087, 166317.08770635, 129960.34668087,\n",
       "       129960.34668087, 166317.08770635, 129960.34668087, 129960.34668087,\n",
       "       129960.34668087, 129960.34668087, 166317.08770635, 129960.34668087,\n",
       "        20890.12360444,  93603.60565539, 129960.34668087,  93603.60565539,\n",
       "        93603.60565539, 154559.55943003,  57246.86462992,  93603.60565539,\n",
       "       166317.08770635, 129960.34668087, 129960.34668087, 166317.08770635,\n",
       "        93603.60565539, 129960.34668087,  93603.60565539, 154559.55943003,\n",
       "       129960.34668087, 166317.08770635,  93603.60565539, 227273.04148098,\n",
       "       190916.3004555 , 263629.78250646, 227273.04148098, 227273.04148098,\n",
       "       227273.04148098, 263629.78250646, 154559.55943003, 129960.34668087,\n",
       "       129960.34668087, 129960.34668087, 129960.34668087, 129960.34668087,\n",
       "       129960.34668087, 129960.34668087, 129960.34668087, 202673.82873182,\n",
       "       202673.82873182, 202673.82873182, 370609.53529648, 263629.78250646,\n",
       "       263629.78250646, 370609.53529648, 263629.78250646, 263629.78250646,\n",
       "       263629.78250646, 299986.52353193, 227273.04148098, 227273.04148098,\n",
       "       263629.78250646, 227273.04148098, 263629.78250646, 190916.3004555 ,\n",
       "       227273.04148098, 227273.04148098, 129960.34668087, 129960.34668087,\n",
       "       129960.34668087, 166317.08770635, 227273.04148098, 202673.82873182,\n",
       "       129960.34668087, 129960.34668087, 202673.82873182, 227273.04148098,\n",
       "       227273.04148098, 166317.08770635, 227273.04148098, 227273.04148098,\n",
       "       227273.04148098, 227273.04148098, 227273.04148098, 227273.04148098,\n",
       "       129960.34668087, 129960.34668087, 129960.34668087, 129960.34668087,\n",
       "       154559.55943003, 129960.34668087, 129960.34668087, 129960.34668087,\n",
       "       129960.34668087, 129960.34668087, 227273.04148098, 263629.78250646,\n",
       "       263629.78250646, 263629.78250646, 299986.52353193, 227273.04148098,\n",
       "       263629.78250646, 227273.04148098, 263629.78250646, 227273.04148098,\n",
       "       202673.82873182, 227273.04148098, 227273.04148098, 227273.04148098,\n",
       "       190916.3004555 , 190916.3004555 , 263629.78250646, 227273.04148098,\n",
       "       227273.04148098, 190916.3004555 , 190916.3004555 ,  93603.60565539,\n",
       "       129960.34668087,  93603.60565539, 227273.04148098, 166317.08770635,\n",
       "        93603.60565539, 166317.08770635, 370609.53529648, 166317.08770635,\n",
       "       129960.34668087,  93603.60565539, 129960.34668087,  93603.60565539,\n",
       "       129960.34668087,  57246.86462992, 129960.34668087, 129960.34668087,\n",
       "        93603.60565539, 166317.08770635, 129960.34668087, 129960.34668087,\n",
       "       129960.34668087, 129960.34668087,  20890.12360444, 166317.08770635,\n",
       "       202673.82873182, 166317.08770635,  93603.60565539, 190916.3004555 ,\n",
       "       166317.08770635, 227273.04148098, 166317.08770635, 202673.82873182,\n",
       "       202673.82873182, 227273.04148098, 129960.34668087, 166317.08770635,\n",
       "       154559.55943003, 129960.34668087, 129960.34668087, 129960.34668087,\n",
       "       202673.82873182, 129960.34668087, 202673.82873182, 166317.08770635,\n",
       "       129960.34668087, 166317.08770635, 166317.08770635, 166317.08770635,\n",
       "       166317.08770635, 166317.08770635, 166317.08770635, 166317.08770635,\n",
       "       227273.04148098, 190916.3004555 , 129960.34668087, 129960.34668087,\n",
       "       129960.34668087,  60774.93438929,  93603.60565539, 334252.794271  ,\n",
       "        24418.19336381, 263629.78250646, 227273.04148098, 227273.04148098,\n",
       "       166317.08770635, 166317.08770635, 166317.08770635, 129960.34668087,\n",
       "       202673.82873182, 129960.34668087, 166317.08770635, 202673.82873182,\n",
       "       299986.52353193, 202673.82873182, 370609.53529648, 370609.53529648,\n",
       "       263629.78250646, 166317.08770635, 166317.08770635, 202673.82873182,\n",
       "       263629.78250646, 227273.04148098, 370609.53529648, 370609.53529648,\n",
       "       129960.34668087, 129960.34668087, 166317.08770635, 166317.08770635,\n",
       "        93603.60565539, 129960.34668087,  93603.60565539, 129960.34668087,\n",
       "        93603.60565539,  93603.60565539,  93603.60565539, 129960.34668087,\n",
       "       166317.08770635, 129960.34668087, 129960.34668087, 129960.34668087,\n",
       "       129960.34668087, 129960.34668087, 166317.08770635, 154559.55943003])"
      ]
     },
     "execution_count": 28,
     "metadata": {},
     "output_type": "execute_result"
    }
   ],
   "source": [
    "y_pred2 = model2.predict(x_test2)\n",
    "y_pred2"
   ]
  },
  {
   "cell_type": "code",
   "execution_count": 29,
   "metadata": {},
   "outputs": [
    {
     "data": {
      "image/png": "[encoded data removed]",
      "text/plain": [
       "<Figure size 432x288 with 1 Axes>"
      ]
     },
     "metadata": {
      "needs_background": "light"
     },
     "output_type": "display_data"
    },
    {
     "data": {
      "image/png": "[encoded data removed]",
      "text/plain": [
       "<Figure size 432x288 with 1 Axes>"
      ]
     },
     "metadata": {
      "needs_background": "light"
     },
     "output_type": "display_data"
    },
    {
     "data": {
      "image/png": "[encoded data removed]",
      "text/plain": [
       "<Figure size 432x288 with 1 Axes>"
      ]
     },
     "metadata": {
      "needs_background": "light"
     },
     "output_type": "display_data"
    },
    {
     "data": {
      "image/png": "[encoded data removed]",
      "text/plain": [
       "<Figure size 432x288 with 1 Axes>"
      ]
     },
     "metadata": {
      "needs_background": "light"
     },
     "output_type": "display_data"
    },
    {
     "data": {
      "image/png": "[encoded data removed]",
      "text/plain": [
       "<Figure size 432x288 with 1 Axes>"
      ]
     },
     "metadata": {
      "needs_background": "light"
     },
     "output_type": "display_data"
    }
   ],
   "source": [
    "for column in x_train2.columns:\n",
    "    plt.scatter(x_train2[column], y_train2, alpha=0.01);\n",
    "    plt.plot(x_test2[column], y_pred);\n",
    "    plt.show();"
   ]
  },
  {
   "cell_type": "code",
   "execution_count": 30,
   "metadata": {},
   "outputs": [
    {
     "data": {
      "image/png": "[encoded data removed]",
      "text/plain": [
       "<Figure size 432x288 with 1 Axes>"
      ]
     },
     "metadata": {
      "needs_background": "light"
     },
     "output_type": "display_data"
    },
    {
     "data": {
      "image/png": "[encoded data removed]",
      "text/plain": [
       "<Figure size 432x288 with 1 Axes>"
      ]
     },
     "metadata": {
      "needs_background": "light"
     },
     "output_type": "display_data"
    },
    {
     "data": {
      "image/png": "[encoded data removed]",
      "text/plain": [
       "<Figure size 432x288 with 1 Axes>"
      ]
     },
     "metadata": {
      "needs_background": "light"
     },
     "output_type": "display_data"
    },
    {
     "data": {
      "image/png": "[encoded data removed]",
      "text/plain": [
       "<Figure size 432x288 with 1 Axes>"
      ]
     },
     "metadata": {
      "needs_background": "light"
     },
     "output_type": "display_data"
    },
    {
     "data": {
      "image/png": "[encoded data removed]",
      "text/plain": [
       "<Figure size 432x288 with 1 Axes>"
      ]
     },
     "metadata": {
      "needs_background": "light"
     },
     "output_type": "display_data"
    }
   ],
   "source": [
    "for i in range(len(x_train2.columns)):\n",
    "    y = model2.coef_[i]*x_test2[x_train2.columns[i]] + model2.intercept_;\n",
    "    plt.plot(x_test2[x_train2.columns[i]], y);\n",
    "    plt.show();"
   ]
  },
  {
   "cell_type": "code",
   "execution_count": 31,
   "metadata": {},
   "outputs": [
    {
     "name": "stdout",
     "output_type": "stream",
     "text": [
      "Mean Absolute Error = 31255.056259614572\n",
      "R2 Score = 0.7089957572702612\n"
     ]
    }
   ],
   "source": [
    "mae3 = mean_absolute_error(y_test2, y_pred2);\n",
    "r23 = r2_score(y_test2, y_pred2);\n",
    "\n",
    "print('Mean Absolute Error =', mae3);\n",
    "print('R2 Score =', r23);"
   ]
  },
  {
   "cell_type": "markdown",
   "metadata": {
    "colab_type": "text",
    "id": "PdkjBN1Dy_-A"
   },
   "source": [
    "## Data Dictionary \n",
    "\n",
    "Here's a description of the data fields:\n",
    "\n",
    "```\n",
    "1st_Flr_SF: First Floor square feet\n",
    "\n",
    "Bedroom_AbvGr: Bedrooms above grade (does NOT include basement bedrooms)\n",
    "\n",
    "Bldg_Type: Type of dwelling\n",
    "\t\t\n",
    "       1Fam\tSingle-family Detached\t\n",
    "       2FmCon\tTwo-family Conversion; originally built as one-family dwelling\n",
    "       Duplx\tDuplex\n",
    "       TwnhsE\tTownhouse End Unit\n",
    "       TwnhsI\tTownhouse Inside Unit\n",
    "       \n",
    "Bsmt_Half_Bath: Basement half bathrooms\n",
    "\n",
    "Bsmt_Full_Bath: Basement full bathrooms\n",
    "\n",
    "Central_Air: Central air conditioning\n",
    "\n",
    "       N\tNo\n",
    "       Y\tYes\n",
    "\t\t\n",
    "Condition_1: Proximity to various conditions\n",
    "\t\n",
    "       Artery\tAdjacent to arterial street\n",
    "       Feedr\tAdjacent to feeder street\t\n",
    "       Norm\tNormal\t\n",
    "       RRNn\tWithin 200' of North-South Railroad\n",
    "       RRAn\tAdjacent to North-South Railroad\n",
    "       PosN\tNear positive off-site feature--park, greenbelt, etc.\n",
    "       PosA\tAdjacent to postive off-site feature\n",
    "       RRNe\tWithin 200' of East-West Railroad\n",
    "       RRAe\tAdjacent to East-West Railroad\n",
    "\t\n",
    "Condition_2: Proximity to various conditions (if more than one is present)\n",
    "\t\t\n",
    "       Artery\tAdjacent to arterial street\n",
    "       Feedr\tAdjacent to feeder street\t\n",
    "       Norm\tNormal\t\n",
    "       RRNn\tWithin 200' of North-South Railroad\n",
    "       RRAn\tAdjacent to North-South Railroad\n",
    "       PosN\tNear positive off-site feature--park, greenbelt, etc.\n",
    "       PosA\tAdjacent to postive off-site feature\n",
    "       RRNe\tWithin 200' of East-West Railroad\n",
    "       RRAe\tAdjacent to East-West Railroad\n",
    "       \n",
    " Electrical: Electrical system\n",
    "\n",
    "       SBrkr\tStandard Circuit Breakers & Romex\n",
    "       FuseA\tFuse Box over 60 AMP and all Romex wiring (Average)\t\n",
    "       FuseF\t60 AMP Fuse Box and mostly Romex wiring (Fair)\n",
    "       FuseP\t60 AMP Fuse Box and mostly knob & tube wiring (poor)\n",
    "       Mix\tMixed\n",
    "       \n",
    " Exter_Cond: Evaluates the present condition of the material on the exterior\n",
    "\t\t\n",
    "       Ex\tExcellent\n",
    "       Gd\tGood\n",
    "       TA\tAverage/Typical\n",
    "       Fa\tFair\n",
    "       Po\tPoor\n",
    " \n",
    " Exter_Qual: Evaluates the quality of the material on the exterior \n",
    "\t\t\n",
    "       Ex\tExcellent\n",
    "       Gd\tGood\n",
    "       TA\tAverage/Typical\n",
    "       Fa\tFair\n",
    "       Po\tPoor\n",
    "\t\t\n",
    "Exterior_1st: Exterior covering on house\n",
    "\n",
    "       AsbShng\tAsbestos Shingles\n",
    "       AsphShn\tAsphalt Shingles\n",
    "       BrkComm\tBrick Common\n",
    "       BrkFace\tBrick Face\n",
    "       CBlock\tCinder Block\n",
    "       CemntBd\tCement Board\n",
    "       HdBoard\tHard Board\n",
    "       ImStucc\tImitation Stucco\n",
    "       MetalSd\tMetal Siding\n",
    "       Other\tOther\n",
    "       Plywood\tPlywood\n",
    "       PreCast\tPreCast\t\n",
    "       Stone\tStone\n",
    "       Stucco\tStucco\n",
    "       VinylSd\tVinyl Siding\n",
    "       Wd Sdng\tWood Siding\n",
    "       WdShing\tWood Shingles\n",
    "\t\n",
    "Exterior_2nd: Exterior covering on house (if more than one material)\n",
    "\n",
    "       AsbShng\tAsbestos Shingles\n",
    "       AsphShn\tAsphalt Shingles\n",
    "       BrkComm\tBrick Common\n",
    "       BrkFace\tBrick Face\n",
    "       CBlock\tCinder Block\n",
    "       CemntBd\tCement Board\n",
    "       HdBoard\tHard Board\n",
    "       ImStucc\tImitation Stucco\n",
    "       MetalSd\tMetal Siding\n",
    "       Other\tOther\n",
    "       Plywood\tPlywood\n",
    "       PreCast\tPreCast\n",
    "       Stone\tStone\n",
    "       Stucco\tStucco\n",
    "       VinylSd\tVinyl Siding\n",
    "       Wd Sdng\tWood Siding\n",
    "       WdShing\tWood Shingles\n",
    "       \n",
    "Foundation: Type of foundation\n",
    "\t\t\n",
    "       BrkTil\tBrick & Tile\n",
    "       CBlock\tCinder Block\n",
    "       PConc\tPoured Contrete\t\n",
    "       Slab\tSlab\n",
    "       Stone\tStone\n",
    "       Wood\tWood\n",
    "\t\t\n",
    "Full_Bath: Full bathrooms above grade\n",
    "\n",
    "Functional: Home functionality (Assume typical unless deductions are warranted)\n",
    "\n",
    "       Typ\tTypical Functionality\n",
    "       Min1\tMinor Deductions 1\n",
    "       Min2\tMinor Deductions 2\n",
    "       Mod\tModerate Deductions\n",
    "       Maj1\tMajor Deductions 1\n",
    "       Maj2\tMajor Deductions 2\n",
    "       Sev\tSeverely Damaged\n",
    "       Sal\tSalvage only\n",
    "\t\t\n",
    "Gr_Liv_Area: Above grade (ground) living area square feet\n",
    "        \n",
    "Half_Bath: Half baths above grade\n",
    "\n",
    "Heating: Type of heating\n",
    "\t\t\n",
    "       Floor\tFloor Furnace\n",
    "       GasA\tGas forced warm air furnace\n",
    "       GasW\tGas hot water or steam heat\n",
    "       Grav\tGravity furnace\t\n",
    "       OthW\tHot water or steam heat other than gas\n",
    "       Wall\tWall furnace\n",
    "\t\t\n",
    "Heating_QC: Heating quality and condition\n",
    "\n",
    "       Ex\tExcellent\n",
    "       Gd\tGood\n",
    "       TA\tAverage/Typical\n",
    "       Fa\tFair\n",
    "       Po\tPoor\n",
    "\n",
    "House_Style: Style of dwelling\n",
    "\t\n",
    "       1Story\tOne story\n",
    "       1.5Fin\tOne and one-half story: 2nd level finished\n",
    "       1.5Unf\tOne and one-half story: 2nd level unfinished\n",
    "       2Story\tTwo story\n",
    "       2.5Fin\tTwo and one-half story: 2nd level finished\n",
    "       2.5Unf\tTwo and one-half story: 2nd level unfinished\n",
    "       SFoyer\tSplit Foyer\n",
    "       SLvl\tSplit Level\n",
    "\n",
    "Kitchen_AbvGr: Kitchens above grade\n",
    "\n",
    "Kitchen_Qual: Kitchen quality\n",
    "\n",
    "       Ex\tExcellent\n",
    "       Gd\tGood\n",
    "       TA\tTypical/Average\n",
    "       Fa\tFair\n",
    "       Po\tPoor\n",
    "\n",
    "LandContour: Flatness of the property\n",
    "\n",
    "       Lvl\tNear Flat/Level\t\n",
    "       Bnk\tBanked - Quick and significant rise from street grade to building\n",
    "       HLS\tHillside - Significant slope from side to side\n",
    "       Low\tDepression\n",
    "\t\t\n",
    "Land_Slope: Slope of property\n",
    "\t\t\n",
    "       Gtl\tGentle slope\n",
    "       Mod\tModerate Slope\t\n",
    "       Sev\tSevere Slope\n",
    "\n",
    "Lot_Area: Lot size in square feet\n",
    "\n",
    "Lot_Config: Lot configuration\n",
    "\n",
    "       Inside\tInside lot\n",
    "       Corner\tCorner lot\n",
    "       CulDSac\tCul-de-sac\n",
    "       FR2\tFrontage on 2 sides of property\n",
    "       FR3\tFrontage on 3 sides of property\n",
    "\n",
    "Lot_Shape: General shape of property\n",
    "\n",
    "       Reg\tRegular\t\n",
    "       IR1\tSlightly irregular\n",
    "       IR2\tModerately Irregular\n",
    "       IR3\tIrregular\n",
    "\n",
    "MS_SubClass: Identifies the type of dwelling involved in the sale.\t\n",
    "\n",
    "        20\t1-STORY 1946 & NEWER ALL STYLES\n",
    "        30\t1-STORY 1945 & OLDER\n",
    "        40\t1-STORY W/FINISHED ATTIC ALL AGES\n",
    "        45\t1-1/2 STORY - UNFINISHED ALL AGES\n",
    "        50\t1-1/2 STORY FINISHED ALL AGES\n",
    "        60\t2-STORY 1946 & NEWER\n",
    "        70\t2-STORY 1945 & OLDER\n",
    "        75\t2-1/2 STORY ALL AGES\n",
    "        80\tSPLIT OR MULTI-LEVEL\n",
    "        85\tSPLIT FOYER\n",
    "        90\tDUPLEX - ALL STYLES AND AGES\n",
    "       120\t1-STORY PUD (Planned Unit Development) - 1946 & NEWER\n",
    "       150\t1-1/2 STORY PUD - ALL AGES\n",
    "       160\t2-STORY PUD - 1946 & NEWER\n",
    "       180\tPUD - MULTILEVEL - INCL SPLIT LEV/FOYER\n",
    "       190\t2 FAMILY CONVERSION - ALL STYLES AND AGES\n",
    "\n",
    "MS_Zoning: Identifies the general zoning classification of the sale.\n",
    "\t\t\n",
    "       A\tAgriculture\n",
    "       C\tCommercial\n",
    "       FV\tFloating Village Residential\n",
    "       I\tIndustrial\n",
    "       RH\tResidential High Density\n",
    "       RL\tResidential Low Density\n",
    "       RP\tResidential Low Density Park \n",
    "       RM\tResidential Medium Density\n",
    "\n",
    "Mas_Vnr_Type: Masonry veneer type\n",
    "\n",
    "       BrkCmn\tBrick Common\n",
    "       BrkFace\tBrick Face\n",
    "       CBlock\tCinder Block\n",
    "       None\tNone\n",
    "       Stone\tStone\n",
    "\n",
    "Mo_Sold: Month Sold (MM)\n",
    "\n",
    "Neighborhood: Physical locations within Ames city limits\n",
    "\n",
    "       Blmngtn\tBloomington Heights\n",
    "       Blueste\tBluestem\n",
    "       BrDale\tBriardale\n",
    "       BrkSide\tBrookside\n",
    "       ClearCr\tClear Creek\n",
    "       CollgCr\tCollege Creek\n",
    "       Crawfor\tCrawford\n",
    "       Edwards\tEdwards\n",
    "       Gilbert\tGilbert\n",
    "       IDOTRR\tIowa DOT and Rail Road\n",
    "       MeadowV\tMeadow Village\n",
    "       Mitchel\tMitchell\n",
    "       Names\tNorth Ames\n",
    "       NoRidge\tNorthridge\n",
    "       NPkVill\tNorthpark Villa\n",
    "       NridgHt\tNorthridge Heights\n",
    "       NWAmes\tNorthwest Ames\n",
    "       OldTown\tOld Town\n",
    "       SWISU\tSouth & West of Iowa State University\n",
    "       Sawyer\tSawyer\n",
    "       SawyerW\tSawyer West\n",
    "       Somerst\tSomerset\n",
    "       StoneBr\tStone Brook\n",
    "       Timber\tTimberland\n",
    "       Veenker\tVeenker\n",
    "\t\t\t\n",
    "Overall_Cond: Rates the overall condition of the house\n",
    "\n",
    "       10\tVery Excellent\n",
    "       9\tExcellent\n",
    "       8\tVery Good\n",
    "       7\tGood\n",
    "       6\tAbove Average\t\n",
    "       5\tAverage\n",
    "       4\tBelow Average\t\n",
    "       3\tFair\n",
    "       2\tPoor\n",
    "       1\tVery Poor\n",
    "\n",
    "Overall_Qual: Rates the overall material and finish of the house\n",
    "\n",
    "       10\tVery Excellent\n",
    "       9\tExcellent\n",
    "       8\tVery Good\n",
    "       7\tGood\n",
    "       6\tAbove Average\n",
    "       5\tAverage\n",
    "       4\tBelow Average\n",
    "       3\tFair\n",
    "       2\tPoor\n",
    "       1\tVery Poor\n",
    "\n",
    "Paved_Drive: Paved driveway\n",
    "\n",
    "       Y\tPaved \n",
    "       P\tPartial Pavement\n",
    "       N\tDirt/Gravel\n",
    "\n",
    "Roof_Matl: Roof material\n",
    "\n",
    "       ClyTile\tClay or Tile\n",
    "       CompShg\tStandard (Composite) Shingle\n",
    "       Membran\tMembrane\n",
    "       Metal\tMetal\n",
    "       Roll\tRoll\n",
    "       Tar&Grv\tGravel & Tar\n",
    "       WdShake\tWood Shakes\n",
    "       WdShngl\tWood Shingles\n",
    "\n",
    "Roof_Style: Type of roof\n",
    "\n",
    "       Flat\tFlat\n",
    "       Gable\tGable\n",
    "       Gambrel\tGabrel (Barn)\n",
    "       Hip\tHip\n",
    "       Mansard\tMansard\n",
    "       Shed\tShed\n",
    "\n",
    "SalePrice: the sales price for each house\n",
    "\n",
    "Sale_Condition: Condition of sale\n",
    "\n",
    "       Normal\tNormal Sale\n",
    "       Abnorml\tAbnormal Sale -  trade, foreclosure, short sale\n",
    "       AdjLand\tAdjoining Land Purchase\n",
    "       Alloca\tAllocation - two linked properties with separate deeds, typically condo with a garage unit\t\n",
    "       Family\tSale between family members\n",
    "       Partial\tHome was not completed when last assessed (associated with New Homes)\n",
    "\n",
    "Sale_Type: Type of sale\n",
    "\t\t\n",
    "       WD \tWarranty Deed - Conventional\n",
    "       CWD\tWarranty Deed - Cash\n",
    "       VWD\tWarranty Deed - VA Loan\n",
    "       New\tHome just constructed and sold\n",
    "       COD\tCourt Officer Deed/Estate\n",
    "       Con\tContract 15% Down payment regular terms\n",
    "       ConLw\tContract Low Down payment and low interest\n",
    "       ConLI\tContract Low Interest\n",
    "       ConLD\tContract Low Down\n",
    "       Oth\tOther\n",
    "\t\n",
    "Street: Type of road access to property\n",
    "\n",
    "       Grvl\tGravel\t\n",
    "       Pave\tPaved\n",
    "       \t\n",
    "TotRms_AbvGrd: Total rooms above grade (does not include bathrooms)\n",
    "\n",
    "Utilities: Type of utilities available\n",
    "\t\t\n",
    "       AllPub\tAll public Utilities (E,G,W,& S)\t\n",
    "       NoSewr\tElectricity, Gas, and Water (Septic Tank)\n",
    "       NoSeWa\tElectricity and Gas Only\n",
    "       ELO\tElectricity only\t\n",
    "\t\n",
    "Year_Built: Original construction date\n",
    "\n",
    "Year_Remod/Add: Remodel date (same as construction date if no remodeling or additions)\n",
    "\t\t\t\t\t\t\n",
    "Yr_Sold: Year Sold (YYYY)\t\n",
    "\n",
    "```"
   ]
  }
 ],
 "metadata": {
  "colab": {
   "collapsed_sections": [],
   "name": "DS_Sprint_Challenge_5_Linear_Models",
   "provenance": [],
   "version": "0.3.2"
  },
  "kernelspec": {
   "display_name": "Python 3",
   "language": "python",
   "name": "python3"
  },
  "language_info": {
   "codemirror_mode": {
    "name": "ipython",
    "version": 3
   },
   "file_extension": ".py",
   "mimetype": "text/x-python",
   "name": "python",
   "nbconvert_exporter": "python",
   "pygments_lexer": "ipython3",
   "version": "3.7.3"
  }
 },
 "nbformat": 4,
 "nbformat_minor": 1
}
