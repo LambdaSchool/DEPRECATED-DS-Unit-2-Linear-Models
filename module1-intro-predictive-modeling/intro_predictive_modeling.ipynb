{
 "cells": [
  {
   "cell_type": "markdown",
   "metadata": {
    "colab_type": "text",
    "id": "BrzN2H1vNe1H"
   },
   "source": [
    "_Lambda School Data Science — Linear Models_\n",
    "\n",
    "# Intro to Predictive Modeling\n",
    "\n",
    "### Objectives\n",
    "- recognize examples of supervised learning with tabular data\n",
    "- distinguish between regression problems and classification problems\n",
    "- explain why overfitting is a problem and model validation is important\n",
    "- do train/test split\n",
    "- begin with baselines for regression"
   ]
  },
  {
   "cell_type": "markdown",
   "metadata": {
    "colab_type": "text",
    "id": "YTvY3lTKGlZm"
   },
   "source": [
    "I like Brandon Rohrer’s blog post, [“What questions can machine learning answer?”](https://brohrer.github.io/five_questions_data_science_answers.html)\n",
    "\n",
    "We’ll focus on two of these questions in Unit 2. These are both types of “supervised learning.”\n",
    "\n",
    "- “Is this A or B?” (Classification)\n",
    "- “How Much / How Many?” (Regression)\n",
    "\n",
    "**This unit, you’ll do four supervised learning projects** with “tabular data” (data in tables, like spreadsheets).\n",
    "\n",
    "- Predict New York City apartment rents <-- **Today, we'll start this project!**\n",
    "- Predict which water pumps in Tanzania need repairs\n",
    "- Predict the prices suppliers will quote Caterpillar for industrial parts\n",
    "- Choose your own labeled, tabular dataset, train a predictive model, and publish a blog post or web app with visualizations to explain your model!"
   ]
  },
  {
   "cell_type": "markdown",
   "metadata": {
    "colab_type": "text",
    "id": "5HthEENh8zCa"
   },
   "source": [
    "# Predict NYC apartment rent 🏠💸\n",
    "\n",
    "You'll use a real-world data with rent prices for a subset of apartments in New York City!\n",
    "\n",
    "Run this code cell to load the dataset: "
   ]
  },
  {
   "cell_type": "code",
   "execution_count": 1,
   "metadata": {
    "colab": {},
    "colab_type": "code",
    "id": "Yrr19LoD8Y0E"
   },
   "outputs": [],
   "source": [
    "#Import pandas and load dta via URL\n",
    "\n",
    "import pandas as pd\n",
    "#LOCAL = '../data/nyc/nyc-rent-2016.csv'\n",
    "WEB = 'https://raw.githubusercontent.com/LambdaSchool/DS-Unit-2-Linear-Models/master/data/nyc/nyc-rent-2016.csv'\n",
    "\n",
    "df = pd.read_csv(WEB)\n",
    "assert df.shape == (48300, 34)"
   ]
  },
  {
   "cell_type": "markdown",
   "metadata": {
    "colab_type": "text",
    "id": "ge86BI8iN6Wy"
   },
   "source": [
    "### Install [pandas-profiling](https://github.com/pandas-profiling/pandas-profiling), version >= 2"
   ]
  },
  {
   "cell_type": "code",
   "execution_count": 2,
   "metadata": {
    "colab": {},
    "colab_type": "code",
    "id": "k6y_YIiJMJG_"
   },
   "outputs": [
    {
     "name": "stdout",
     "output_type": "stream",
     "text": [
      "Collecting pandas-profiling\n",
      "\u001b[?25l  Downloading https://files.pythonhosted.org/packages/8a/d9/00e0f3b0ceab60b32d565befa884cd088fc8cc00d09604e856937bef6cdf/pandas-profiling-2.1.0.tar.gz (122kB)\n",
      "\u001b[K    100% |████████████████████████████████| 122kB 4.6MB/s ta 0:00:01\n",
      "\u001b[?25hRequirement already satisfied, skipping upgrade: pandas>=0.19 in /Users/karthikmahendra/anaconda3/lib/python3.7/site-packages (from pandas-profiling) (0.24.2)\n",
      "Requirement already satisfied, skipping upgrade: matplotlib>=1.4 in /Users/karthikmahendra/anaconda3/lib/python3.7/site-packages (from pandas-profiling) (3.0.3)\n",
      "Requirement already satisfied, skipping upgrade: jinja2>=2.8 in /Users/karthikmahendra/anaconda3/lib/python3.7/site-packages (from pandas-profiling) (2.10)\n",
      "Collecting missingno>=0.4.1 (from pandas-profiling)\n",
      "  Downloading https://files.pythonhosted.org/packages/2b/de/6e4dd6d720c49939544352155dc06a08c9f7e4271aa631a559dfbeaaf9d4/missingno-0.4.2-py3-none-any.whl\n",
      "Collecting htmlmin>=0.1.12 (from pandas-profiling)\n",
      "  Downloading https://files.pythonhosted.org/packages/b3/e7/fcd59e12169de19f0131ff2812077f964c6b960e7c09804d30a7bf2ab461/htmlmin-0.1.12.tar.gz\n",
      "Collecting phik>=0.9.8 (from pandas-profiling)\n",
      "\u001b[?25l  Downloading https://files.pythonhosted.org/packages/45/ad/24a16fa4ba612fb96a3c4bb115a5b9741483f53b66d3d3afd987f20fa227/phik-0.9.8-py3-none-any.whl (606kB)\n",
      "\u001b[K    100% |████████████████████████████████| 614kB 5.7MB/s ta 0:00:011\n",
      "\u001b[?25hCollecting confuse>=1.0.0 (from pandas-profiling)\n",
      "  Downloading https://files.pythonhosted.org/packages/4c/6f/90e860cba937c174d8b3775729ccc6377eb91f52ad4eeb008e7252a3646d/confuse-1.0.0.tar.gz\n",
      "Requirement already satisfied, skipping upgrade: numpy>=1.12.0 in /Users/karthikmahendra/anaconda3/lib/python3.7/site-packages (from pandas>=0.19->pandas-profiling) (1.16.2)\n",
      "Requirement already satisfied, skipping upgrade: pytz>=2011k in /Users/karthikmahendra/anaconda3/lib/python3.7/site-packages (from pandas>=0.19->pandas-profiling) (2018.9)\n",
      "Requirement already satisfied, skipping upgrade: python-dateutil>=2.5.0 in /Users/karthikmahendra/anaconda3/lib/python3.7/site-packages (from pandas>=0.19->pandas-profiling) (2.8.0)\n",
      "Requirement already satisfied, skipping upgrade: cycler>=0.10 in /Users/karthikmahendra/anaconda3/lib/python3.7/site-packages (from matplotlib>=1.4->pandas-profiling) (0.10.0)\n",
      "Requirement already satisfied, skipping upgrade: kiwisolver>=1.0.1 in /Users/karthikmahendra/anaconda3/lib/python3.7/site-packages (from matplotlib>=1.4->pandas-profiling) (1.0.1)\n",
      "Requirement already satisfied, skipping upgrade: pyparsing!=2.0.4,!=2.1.2,!=2.1.6,>=2.0.1 in /Users/karthikmahendra/anaconda3/lib/python3.7/site-packages (from matplotlib>=1.4->pandas-profiling) (2.3.1)\n",
      "Requirement already satisfied, skipping upgrade: MarkupSafe>=0.23 in /Users/karthikmahendra/anaconda3/lib/python3.7/site-packages (from jinja2>=2.8->pandas-profiling) (1.1.1)\n",
      "Requirement already satisfied, skipping upgrade: seaborn in /Users/karthikmahendra/anaconda3/lib/python3.7/site-packages (from missingno>=0.4.1->pandas-profiling) (0.9.0)\n",
      "Requirement already satisfied, skipping upgrade: scipy in /Users/karthikmahendra/anaconda3/lib/python3.7/site-packages (from missingno>=0.4.1->pandas-profiling) (1.2.1)\n",
      "Requirement already satisfied, skipping upgrade: jupyter-client>=5.2.3 in /Users/karthikmahendra/anaconda3/lib/python3.7/site-packages (from phik>=0.9.8->pandas-profiling) (5.2.4)\n",
      "Requirement already satisfied, skipping upgrade: numba>=0.38.1 in /Users/karthikmahendra/anaconda3/lib/python3.7/site-packages (from phik>=0.9.8->pandas-profiling) (0.43.1)\n",
      "Requirement already satisfied, skipping upgrade: pytest>=4.0.2 in /Users/karthikmahendra/anaconda3/lib/python3.7/site-packages (from phik>=0.9.8->pandas-profiling) (4.3.1)\n",
      "Requirement already satisfied, skipping upgrade: nbconvert>=5.3.1 in /Users/karthikmahendra/anaconda3/lib/python3.7/site-packages (from phik>=0.9.8->pandas-profiling) (5.4.1)\n",
      "Collecting pytest-pylint>=0.13.0 (from phik>=0.9.8->pandas-profiling)\n",
      "  Downloading https://files.pythonhosted.org/packages/48/b1/b9b5e20e6687cfaa334d0e8e63b6d57115415d6368b7f5a441a8f600fad4/pytest_pylint-0.14.0-py3-none-any.whl\n",
      "Requirement already satisfied, skipping upgrade: pyyaml in /Users/karthikmahendra/anaconda3/lib/python3.7/site-packages (from confuse>=1.0.0->pandas-profiling) (5.1)\n",
      "Requirement already satisfied, skipping upgrade: six>=1.5 in /Users/karthikmahendra/anaconda3/lib/python3.7/site-packages (from python-dateutil>=2.5.0->pandas>=0.19->pandas-profiling) (1.12.0)\n",
      "Requirement already satisfied, skipping upgrade: setuptools in /Users/karthikmahendra/anaconda3/lib/python3.7/site-packages (from kiwisolver>=1.0.1->matplotlib>=1.4->pandas-profiling) (40.8.0)\n",
      "Requirement already satisfied, skipping upgrade: pyzmq>=13 in /Users/karthikmahendra/anaconda3/lib/python3.7/site-packages (from jupyter-client>=5.2.3->phik>=0.9.8->pandas-profiling) (18.0.0)\n",
      "Requirement already satisfied, skipping upgrade: traitlets in /Users/karthikmahendra/anaconda3/lib/python3.7/site-packages (from jupyter-client>=5.2.3->phik>=0.9.8->pandas-profiling) (4.3.2)\n",
      "Requirement already satisfied, skipping upgrade: jupyter-core in /Users/karthikmahendra/anaconda3/lib/python3.7/site-packages (from jupyter-client>=5.2.3->phik>=0.9.8->pandas-profiling) (4.4.0)\n",
      "Requirement already satisfied, skipping upgrade: tornado>=4.1 in /Users/karthikmahendra/anaconda3/lib/python3.7/site-packages (from jupyter-client>=5.2.3->phik>=0.9.8->pandas-profiling) (6.0.2)\n",
      "Requirement already satisfied, skipping upgrade: llvmlite>=0.28.0dev0 in /Users/karthikmahendra/anaconda3/lib/python3.7/site-packages (from numba>=0.38.1->phik>=0.9.8->pandas-profiling) (0.28.0)\n",
      "Requirement already satisfied, skipping upgrade: py>=1.5.0 in /Users/karthikmahendra/anaconda3/lib/python3.7/site-packages (from pytest>=4.0.2->phik>=0.9.8->pandas-profiling) (1.8.0)\n",
      "Requirement already satisfied, skipping upgrade: attrs>=17.4.0 in /Users/karthikmahendra/anaconda3/lib/python3.7/site-packages (from pytest>=4.0.2->phik>=0.9.8->pandas-profiling) (19.1.0)\n",
      "Requirement already satisfied, skipping upgrade: atomicwrites>=1.0 in /Users/karthikmahendra/anaconda3/lib/python3.7/site-packages (from pytest>=4.0.2->phik>=0.9.8->pandas-profiling) (1.3.0)\n",
      "Requirement already satisfied, skipping upgrade: pluggy>=0.7 in /Users/karthikmahendra/anaconda3/lib/python3.7/site-packages (from pytest>=4.0.2->phik>=0.9.8->pandas-profiling) (0.9.0)\n",
      "Requirement already satisfied, skipping upgrade: more-itertools>=4.0.0 in /Users/karthikmahendra/anaconda3/lib/python3.7/site-packages (from pytest>=4.0.2->phik>=0.9.8->pandas-profiling) (6.0.0)\n",
      "Requirement already satisfied, skipping upgrade: mistune>=0.8.1 in /Users/karthikmahendra/anaconda3/lib/python3.7/site-packages (from nbconvert>=5.3.1->phik>=0.9.8->pandas-profiling) (0.8.4)\n",
      "Requirement already satisfied, skipping upgrade: pygments in /Users/karthikmahendra/anaconda3/lib/python3.7/site-packages (from nbconvert>=5.3.1->phik>=0.9.8->pandas-profiling) (2.3.1)\n",
      "Requirement already satisfied, skipping upgrade: nbformat>=4.4 in /Users/karthikmahendra/anaconda3/lib/python3.7/site-packages (from nbconvert>=5.3.1->phik>=0.9.8->pandas-profiling) (4.4.0)\n",
      "Requirement already satisfied, skipping upgrade: entrypoints>=0.2.2 in /Users/karthikmahendra/anaconda3/lib/python3.7/site-packages (from nbconvert>=5.3.1->phik>=0.9.8->pandas-profiling) (0.3)\n",
      "Requirement already satisfied, skipping upgrade: bleach in /Users/karthikmahendra/anaconda3/lib/python3.7/site-packages (from nbconvert>=5.3.1->phik>=0.9.8->pandas-profiling) (3.1.0)\n",
      "Requirement already satisfied, skipping upgrade: pandocfilters>=1.4.1 in /Users/karthikmahendra/anaconda3/lib/python3.7/site-packages (from nbconvert>=5.3.1->phik>=0.9.8->pandas-profiling) (1.4.2)\n",
      "Requirement already satisfied, skipping upgrade: testpath in /Users/karthikmahendra/anaconda3/lib/python3.7/site-packages (from nbconvert>=5.3.1->phik>=0.9.8->pandas-profiling) (0.4.2)\n",
      "Requirement already satisfied, skipping upgrade: defusedxml in /Users/karthikmahendra/anaconda3/lib/python3.7/site-packages (from nbconvert>=5.3.1->phik>=0.9.8->pandas-profiling) (0.5.0)\n",
      "Requirement already satisfied, skipping upgrade: pylint>=1.4.5 in /Users/karthikmahendra/anaconda3/lib/python3.7/site-packages (from pytest-pylint>=0.13.0->phik>=0.9.8->pandas-profiling) (2.3.1)\n",
      "Requirement already satisfied, skipping upgrade: ipython-genutils in /Users/karthikmahendra/anaconda3/lib/python3.7/site-packages (from traitlets->jupyter-client>=5.2.3->phik>=0.9.8->pandas-profiling) (0.2.0)\n",
      "Requirement already satisfied, skipping upgrade: decorator in /Users/karthikmahendra/anaconda3/lib/python3.7/site-packages (from traitlets->jupyter-client>=5.2.3->phik>=0.9.8->pandas-profiling) (4.4.0)\n",
      "Requirement already satisfied, skipping upgrade: jsonschema!=2.5.0,>=2.4 in /Users/karthikmahendra/anaconda3/lib/python3.7/site-packages (from nbformat>=4.4->nbconvert>=5.3.1->phik>=0.9.8->pandas-profiling) (3.0.1)\n",
      "Requirement already satisfied, skipping upgrade: webencodings in /Users/karthikmahendra/anaconda3/lib/python3.7/site-packages (from bleach->nbconvert>=5.3.1->phik>=0.9.8->pandas-profiling) (0.5.1)\n",
      "Requirement already satisfied, skipping upgrade: astroid<3,>=2.2.0 in /Users/karthikmahendra/anaconda3/lib/python3.7/site-packages (from pylint>=1.4.5->pytest-pylint>=0.13.0->phik>=0.9.8->pandas-profiling) (2.2.5)\n",
      "Requirement already satisfied, skipping upgrade: isort<5,>=4.2.5 in /Users/karthikmahendra/anaconda3/lib/python3.7/site-packages (from pylint>=1.4.5->pytest-pylint>=0.13.0->phik>=0.9.8->pandas-profiling) (4.3.16)\n",
      "Requirement already satisfied, skipping upgrade: mccabe<0.7,>=0.6 in /Users/karthikmahendra/anaconda3/lib/python3.7/site-packages (from pylint>=1.4.5->pytest-pylint>=0.13.0->phik>=0.9.8->pandas-profiling) (0.6.1)\n"
     ]
    },
    {
     "name": "stdout",
     "output_type": "stream",
     "text": [
      "Requirement already satisfied, skipping upgrade: pyrsistent>=0.14.0 in /Users/karthikmahendra/anaconda3/lib/python3.7/site-packages (from jsonschema!=2.5.0,>=2.4->nbformat>=4.4->nbconvert>=5.3.1->phik>=0.9.8->pandas-profiling) (0.14.11)\n",
      "Requirement already satisfied, skipping upgrade: wrapt in /Users/karthikmahendra/anaconda3/lib/python3.7/site-packages (from astroid<3,>=2.2.0->pylint>=1.4.5->pytest-pylint>=0.13.0->phik>=0.9.8->pandas-profiling) (1.11.1)\n",
      "Requirement already satisfied, skipping upgrade: lazy-object-proxy in /Users/karthikmahendra/anaconda3/lib/python3.7/site-packages (from astroid<3,>=2.2.0->pylint>=1.4.5->pytest-pylint>=0.13.0->phik>=0.9.8->pandas-profiling) (1.3.1)\n",
      "Collecting typed-ast>=1.3.0; implementation_name == \"cpython\" (from astroid<3,>=2.2.0->pylint>=1.4.5->pytest-pylint>=0.13.0->phik>=0.9.8->pandas-profiling)\n",
      "\u001b[?25l  Downloading https://files.pythonhosted.org/packages/a0/03/266268b053ad81b8aea17bc3f5e6d3cf074bb4372d229336867a67e17076/typed_ast-1.4.0-cp37-cp37m-macosx_10_9_x86_64.whl (215kB)\n",
      "\u001b[K    100% |████████████████████████████████| 225kB 9.9MB/s eta 0:00:01\n",
      "\u001b[?25hBuilding wheels for collected packages: pandas-profiling, htmlmin, confuse\n",
      "  Building wheel for pandas-profiling (setup.py) ... \u001b[?25ldone\n",
      "\u001b[?25h  Stored in directory: /Users/karthikmahendra/Library/Caches/pip/wheels/d4/ad/4a/486fea0e83899ed906b9994c1e11a0b35d49688d2dc52775ca\n",
      "  Building wheel for htmlmin (setup.py) ... \u001b[?25ldone\n",
      "\u001b[?25h  Stored in directory: /Users/karthikmahendra/Library/Caches/pip/wheels/43/07/ac/7c5a9d708d65247ac1f94066cf1db075540b85716c30255459\n",
      "  Building wheel for confuse (setup.py) ... \u001b[?25ldone\n",
      "\u001b[?25h  Stored in directory: /Users/karthikmahendra/Library/Caches/pip/wheels/b0/b2/96/2074eee7dbf7b7df69d004c9b6ac4e32dad04fb7666cf943bd\n",
      "Successfully built pandas-profiling htmlmin confuse\n",
      "Installing collected packages: missingno, htmlmin, pytest-pylint, phik, confuse, pandas-profiling, typed-ast\n",
      "Successfully installed confuse-1.0.0 htmlmin-0.1.12 missingno-0.4.2 pandas-profiling-2.1.0 phik-0.9.8 pytest-pylint-0.14.0 typed-ast-1.4.0\n"
     ]
    }
   ],
   "source": [
    "!pip install --upgrade pandas-profiling"
   ]
  },
  {
   "cell_type": "code",
   "execution_count": 3,
   "metadata": {
    "colab": {
     "base_uri": "https://localhost:8080/",
     "height": 35
    },
    "colab_type": "code",
    "id": "mmGiyke6MNkQ",
    "outputId": "48c4f857-03f0-4e00-cc2a-42cc3d6777d1"
   },
   "outputs": [
    {
     "data": {
      "text/plain": [
       "'2.1.0'"
      ]
     },
     "execution_count": 3,
     "metadata": {},
     "output_type": "execute_result"
    }
   ],
   "source": [
    "# import pandas profiling to get a neat web output of the contents of data \n",
    "\n",
    "import pandas_profiling\n",
    "pandas_profiling.__version__"
   ]
  },
  {
   "cell_type": "markdown",
   "metadata": {
    "colab_type": "text",
    "id": "Pdg1QqZP-DWL"
   },
   "source": [
    "## Define the problem\n",
    "- Is this **supervised** learning?\n",
    "- Is this **tabular** data?\n",
    "- Is this **regression** or **classification**?"
   ]
  },
  {
   "cell_type": "code",
   "execution_count": 4,
   "metadata": {
    "colab": {},
    "colab_type": "code",
    "id": "fwDBjkVb9AGa"
   },
   "outputs": [],
   "source": [
    "# Store the output in 'profile' and output into a html which will be saved in same location as this notebook \n",
    "profile = df.profile_report()\n",
    "profile.to_file(output_file = 'output.html')"
   ]
  },
  {
   "cell_type": "markdown",
   "metadata": {
    "colab_type": "text",
    "id": "l3WH0KKHwL_5"
   },
   "source": [
    "## Explain why overfitting is a problem and model validation is important\n",
    "\n",
    "#### Jason Brownlee, [Overfitting and Underfitting With Machine Learning Algorithms](https://machinelearningmastery.com/overfitting-and-underfitting-with-machine-learning-algorithms/)\n",
    "\n",
    "> The goal of a good machine learning model is to **generalize** well from the training data to any data from the problem domain. This allows us to make predictions in the future on data the model has never seen.\n",
    "\n",
    "> The cause of poor performance in machine learning is either overfitting or underfitting the data.\n",
    "\n",
    "> **Overfitting** refers to a model that models the training data too well. Overfitting happens when a model learns the detail and noise in the training data to the extent that it negatively impacts the performance of the model on new data. \n",
    "\n",
    "> **Underfitting** refers to a model that can neither model the training data nor generalize to new data.\n",
    "\n",
    "> Ideally, you want to select a model at the sweet spot between underfitting and overfitting.\n",
    "\n",
    "\n",
    "#### Rob Hyndman & George Athanasopoulos, [_Forecasting: Principles and Practice_, Chapter 3.4](https://otexts.com/fpp2/accuracy.html), Evaluating forecast accuracy:\n",
    "\n",
    "> The following points should be noted.\n",
    "\n",
    "> - A model which fits the training data well will not necessarily forecast well.\n",
    "> - A perfect fit can always be obtained by using a model with enough parameters.\n",
    "> - Over-fitting a model to data is just as bad as failing to identify a systematic pattern in the data.\n",
    "\n",
    "> **The accuracy of forecasts can only be determined by considering how well a model performs on new data that were not used when fitting the model.**\n",
    "\n",
    "> When choosing models, it is common practice to separate the available data into two portions, training and test data, where the training data is used to estimate any parameters of a forecasting method and the test data is used to evaluate its accuracy. Because the test data is not used in determining the forecasts, it should provide a reliable indication of how well the model is likely to forecast on new data.\n",
    "\n",
    "![](https://otexts.com/fpp2/fpp_files/figure-html/traintest-1.png)\n",
    "\n",
    "> The size of the test set is typically about 20% of the total sample, although this value depends on how long the sample is and how far ahead you want to forecast. The test set should ideally be at least as large as the maximum forecast horizon required.\n",
    "\n",
    "> Some references describe the test set as the “hold-out set” because these data are “held out” of the data used for fitting. Other references call the training set the “in-sample data” and the test set the “out-of-sample data”. We prefer to use “training data” and “test data” in this book.\n",
    "\n",
    "\n",
    "#### Rachel Thomas, [How (and why) to create a good validation set](https://www.fast.ai/2017/11/13/validation-sets/)\n",
    "\n",
    "> An all-too-common scenario: a seemingly impressive machine learning model is a complete failure when implemented in production. The fallout includes leaders who are now skeptical of machine learning and reluctant to try it again. How can this happen?\n",
    "\n",
    "> One of the most likely culprits for this disconnect between results in development vs results in production is a poorly chosen validation set (or even worse, no validation set at all). \n",
    "\n",
    "\n",
    "\n",
    "#### James, Witten, Hastie, Tibshirani, [An Introduction to Statistical Learning](http://www-bcf.usc.edu/~gareth/ISL/), Chapter 2.2, Assessing Model Accuracy\n",
    "\n",
    "> In general, we do not really care how well the method works training on the training data. Rather, _we are interested in the accuracy of the predictions that we obtain when we apply our method to previously unseen test data._ Why is this what we care about? \n",
    "\n",
    "> Suppose that we are interested test data in developing an algorithm to predict a stock’s price based on previous stock returns. We can train the method using stock returns from the past 6 months. But we don’t really care how well our method predicts last week’s stock price. We instead care about how well it will predict tomorrow’s price or next month’s price. \n",
    "\n",
    "> On a similar note, suppose that we have clinical measurements (e.g. weight, blood pressure, height, age, family history of disease) for a number of patients, as well as information about whether each patient has diabetes. We can use these patients to train a statistical learning method to predict risk of diabetes based on clinical measurements. In practice, we want this method to accurately predict diabetes risk for _future patients_ based on their clinical measurements. We are not very interested in whether or not the method accurately predicts diabetes risk for patients used to train the model, since we already know which of those patients have diabetes.\n",
    "\n",
    "#### Owen Zhang, [Winning Data Science Competitions](https://www.slideshare.net/OwenZhang2/tips-for-data-science-competitions/8)\n",
    "\n",
    "> Good validation is _more important_ than good models. "
   ]
  },
  {
   "cell_type": "markdown",
   "metadata": {
    "colab_type": "text",
    "id": "Nidct-New21O"
   },
   "source": [
    "## Do train/test split\n",
    "\n",
    "We have two options for where we choose to split:\n",
    "- Time\n",
    "- Random\n",
    "\n",
    "\n"
   ]
  },
  {
   "cell_type": "markdown",
   "metadata": {
    "colab_type": "text",
    "id": "2pQeWS2nI4nY"
   },
   "source": [
    "This choice depends on your goals. Rachel Thomas explains why you may want to split on time:\n",
    "\n",
    "#### Rachel Thomas, [How (and why) to create a good validation set](https://www.fast.ai/2017/11/13/validation-sets/)\n",
    "\n",
    "> If your data is a time series, choosing a random subset of the data will be both too easy (you can look at the data both before and after the dates your are trying to predict) and not representative of most business use cases (where you are using historical data to build a model for use in the future). If your data includes the date and you are building a model to use in the future, you will want to choose a continuous section with the latest dates as your validation set\n"
   ]
  },
  {
   "cell_type": "markdown",
   "metadata": {
    "colab_type": "text",
    "id": "nYBgQkz8I5EQ"
   },
   "source": [
    "For this project, we'll split based on time. \n",
    "\n",
    "- Use data from April & May 2016 to train.\n",
    "- Use data from June 2016 to test.\n",
    "\n",
    "(But in some future projects this unit, we'll do random splits, and explain why.)"
   ]
  },
  {
   "cell_type": "code",
   "execution_count": 0,
   "metadata": {
    "colab": {},
    "colab_type": "code",
    "id": "R6taX496EtRm"
   },
   "outputs": [],
   "source": [
    "# from the ouput file we see 'created' is a date time object but, its stored as categorical value. \n",
    "#Convert it into date time obj"
   ]
  },
  {
   "cell_type": "code",
   "execution_count": 6,
   "metadata": {},
   "outputs": [
    {
     "data": {
      "text/plain": [
       "0   2016-06-24 07:54:24\n",
       "1   2016-06-12 12:19:27\n",
       "2   2016-04-17 03:26:41\n",
       "3   2016-04-18 02:22:02\n",
       "4   2016-04-28 01:32:41\n",
       "Name: created, dtype: datetime64[ns]"
      ]
     },
     "execution_count": 6,
     "metadata": {},
     "output_type": "execute_result"
    }
   ],
   "source": [
    "df['created'] = pd.to_datetime(df['created'],infer_datetime_format = True)\n",
    "df['created'].head()"
   ]
  },
  {
   "cell_type": "code",
   "execution_count": null,
   "metadata": {},
   "outputs": [],
   "source": [
    "# now split our data set into training and test data sets. For this we will consider observations of month of June\n",
    "# as test data and rest as training data"
   ]
  },
  {
   "cell_type": "code",
   "execution_count": 8,
   "metadata": {},
   "outputs": [],
   "source": [
    "# create another feature of month from 'created' ----> This is called \"feature engineering\"\n",
    "\n",
    "df['month'] = df['created'].dt.month"
   ]
  },
  {
   "cell_type": "code",
   "execution_count": 9,
   "metadata": {},
   "outputs": [],
   "source": [
    "train = df[df['month'] < 6]\n",
    "test = df[df['month'] == 6]"
   ]
  },
  {
   "cell_type": "code",
   "execution_count": 10,
   "metadata": {},
   "outputs": [],
   "source": [
    "# assert to check if number of observations in our test and tarining sets are equal to dataset\n",
    "\n",
    "assert train.shape[0] + test.shape[0] == df.shape[0]"
   ]
  },
  {
   "cell_type": "markdown",
   "metadata": {
    "colab_type": "text",
    "id": "anavL_0PwjbR"
   },
   "source": [
    "## Begin with baselines for regression"
   ]
  },
  {
   "cell_type": "code",
   "execution_count": null,
   "metadata": {},
   "outputs": [],
   "source": [
    "# to establish a baseline and find by how much it is off to originals data. We use a model to establish a baseline.\n",
    "# just taking mean as our model for now"
   ]
  },
  {
   "cell_type": "code",
   "execution_count": 11,
   "metadata": {},
   "outputs": [
    {
     "data": {
      "text/plain": [
       "3432.7534190068222"
      ]
     },
     "execution_count": 11,
     "metadata": {},
     "output_type": "execute_result"
    }
   ],
   "source": [
    "train['price'].mean()"
   ]
  },
  {
   "cell_type": "code",
   "execution_count": 13,
   "metadata": {},
   "outputs": [
    {
     "data": {
      "text/html": [
       "<div>\n",
       "<style scoped>\n",
       "    .dataframe tbody tr th:only-of-type {\n",
       "        vertical-align: middle;\n",
       "    }\n",
       "\n",
       "    .dataframe tbody tr th {\n",
       "        vertical-align: top;\n",
       "    }\n",
       "\n",
       "    .dataframe thead th {\n",
       "        text-align: right;\n",
       "    }\n",
       "</style>\n",
       "<table border=\"1\" class=\"dataframe\">\n",
       "  <thead>\n",
       "    <tr style=\"text-align: right;\">\n",
       "      <th></th>\n",
       "      <th>price</th>\n",
       "    </tr>\n",
       "  </thead>\n",
       "  <tbody>\n",
       "    <tr>\n",
       "      <th>0</th>\n",
       "      <td>3000</td>\n",
       "    </tr>\n",
       "    <tr>\n",
       "      <th>1</th>\n",
       "      <td>5465</td>\n",
       "    </tr>\n",
       "    <tr>\n",
       "      <th>11</th>\n",
       "      <td>1675</td>\n",
       "    </tr>\n",
       "    <tr>\n",
       "      <th>14</th>\n",
       "      <td>3050</td>\n",
       "    </tr>\n",
       "    <tr>\n",
       "      <th>24</th>\n",
       "      <td>7400</td>\n",
       "    </tr>\n",
       "    <tr>\n",
       "      <th>34</th>\n",
       "      <td>2300</td>\n",
       "    </tr>\n",
       "    <tr>\n",
       "      <th>39</th>\n",
       "      <td>2396</td>\n",
       "    </tr>\n",
       "    <tr>\n",
       "      <th>47</th>\n",
       "      <td>1900</td>\n",
       "    </tr>\n",
       "    <tr>\n",
       "      <th>58</th>\n",
       "      <td>2000</td>\n",
       "    </tr>\n",
       "    <tr>\n",
       "      <th>81</th>\n",
       "      <td>2625</td>\n",
       "    </tr>\n",
       "  </tbody>\n",
       "</table>\n",
       "</div>"
      ],
      "text/plain": [
       "    price\n",
       "0    3000\n",
       "1    5465\n",
       "11   1675\n",
       "14   3050\n",
       "24   7400\n",
       "34   2300\n",
       "39   2396\n",
       "47   1900\n",
       "58   2000\n",
       "81   2625"
      ]
     },
     "execution_count": 13,
     "metadata": {},
     "output_type": "execute_result"
    }
   ],
   "source": [
    "#lets first take first 10 values from our test set\n",
    "first10 = test[['price']].head(10)\n",
    "first10"
   ]
  },
  {
   "cell_type": "code",
   "execution_count": 14,
   "metadata": {},
   "outputs": [],
   "source": [
    "# assume our model predicted mean of training set as predicted value\n",
    "\n",
    "first10['predicted'] = [3432]*10"
   ]
  },
  {
   "cell_type": "code",
   "execution_count": null,
   "metadata": {},
   "outputs": [],
   "source": [
    "# find out by how much are we off in our prediction by using absolute error "
   ]
  },
  {
   "cell_type": "code",
   "execution_count": 15,
   "metadata": {},
   "outputs": [
    {
     "data": {
      "text/plain": [
       "1451.1"
      ]
     },
     "execution_count": 15,
     "metadata": {},
     "output_type": "execute_result"
    }
   ],
   "source": [
    "from sklearn.metrics import mean_absolute_error\n",
    "\n",
    "mean_absolute_error(first10['price'], first10['predicted']) "
   ]
  },
  {
   "cell_type": "code",
   "execution_count": 16,
   "metadata": {},
   "outputs": [],
   "source": [
    "# lets apply to entire test data now \n",
    "\n",
    "y_test = test['price']\n",
    "y_pred = [train['price'].mean()]*len(y_test)"
   ]
  },
  {
   "cell_type": "code",
   "execution_count": 17,
   "metadata": {},
   "outputs": [
    {
     "data": {
      "text/plain": [
       "1052.6798017842948"
      ]
     },
     "execution_count": 17,
     "metadata": {},
     "output_type": "execute_result"
    }
   ],
   "source": [
    "mean_absolute_error(y_test, y_pred)"
   ]
  },
  {
   "cell_type": "markdown",
   "metadata": {
    "colab_type": "text",
    "id": "q7GNLhwjwWHE"
   },
   "source": [
    "### Why begin with baselines?\n",
    "\n",
    "[My mentor](https://www.linkedin.com/in/jason-sanchez-62093847/) [taught me](https://youtu.be/0GrciaGYzV0?t=40s):\n",
    "\n",
    ">***Your first goal should always, always, always be getting a generalized prediction as fast as possible.*** You shouldn't spend a lot of time trying to tune your model, trying to add features, trying to engineer features, until you've actually gotten one prediction, at least. \n",
    "\n",
    "> The reason why that's a really good thing is because then ***you'll set a benchmark*** for yourself, and you'll be able to directly see how much effort you put in translates to a better prediction. \n",
    "\n",
    "> What you'll find by working on many models: some effort you put in, actually has very little effect on how well your final model does at predicting new observations. Whereas some very easy changes actually have a lot of effect. And so you get better at allocating your time more effectively.\n",
    "\n",
    "My mentor's advice is echoed and elaborated in several sources:\n",
    "\n",
    "[Always start with a stupid model, no exceptions](https://blog.insightdatascience.com/always-start-with-a-stupid-model-no-exceptions-3a22314b9aaa)\n",
    "\n",
    "> Why start with a baseline? A baseline will take you less than 1/10th of the time, and could provide up to 90% of the results. A baseline puts a more complex model into context. Baselines are easy to deploy.\n",
    "\n",
    "[Measure Once, Cut Twice: Moving Towards Iteration in Data Science](https://blog.datarobot.com/measure-once-cut-twice-moving-towards-iteration-in-data-science)\n",
    "\n",
    "> The iterative approach in data science starts with emphasizing the importance of getting to a first model quickly, rather than starting with the variables and features. Once the first model is built, the work then steadily focuses on continual improvement.\n",
    "\n",
    "[*Data Science for Business*](https://books.google.com/books?id=4ZctAAAAQBAJ&pg=PT276), Chapter 7.3: Evaluation, Baseline Performance, and Implications for Investments in Data\n",
    "\n",
    "> *Consider carefully what would be a reasonable baseline against which to compare model performance.* This is important for the data science team in order to understand whether they indeed are improving performance, and is equally important for demonstrating to stakeholders that mining the data has added value.\n",
    "\n",
    "### What does baseline mean?\n",
    "\n",
    "Baseline is an overloaded term, as you can see in the links above. Baseline has multiple meanings:\n",
    "\n",
    "#### The score you'd get by guessing\n",
    "\n",
    "> A baseline for classification can be the most common class in the training dataset.\n",
    "\n",
    "> A baseline for regression can be the mean of the training labels. \n",
    "\n",
    "> A baseline for time-series regressions can be the value from the previous timestep. —[Will Koehrsen](https://twitter.com/koehrsen_will/status/1088863527778111488)\n",
    "\n",
    "#### Fast, first models that beat guessing\n",
    "\n",
    "What my mentor was talking about.\n",
    "\n",
    "#### Complete, tuned \"simpler\" model\n",
    "\n",
    "Can be simpler mathematically and computationally. For example, Logistic Regression versus Deep Learning.\n",
    "\n",
    "Or can be simpler for the data scientist, with less work. For example, a model with less feature engineering versus a model with more feature engineering.\n",
    "\n",
    "#### Minimum performance that \"matters\"\n",
    "\n",
    "To go to production and get business value.\n",
    "\n",
    "#### Human-level performance \n",
    "\n",
    "Your goal may to be match, or nearly match, human performance, but with better speed, cost, or consistency.\n",
    "\n",
    "Or your goal may to be exceed human performance."
   ]
  },
  {
   "cell_type": "code",
   "execution_count": null,
   "metadata": {},
   "outputs": [],
   "source": []
  },
  {
   "cell_type": "code",
   "execution_count": 0,
   "metadata": {
    "colab": {},
    "colab_type": "code",
    "id": "7xuMi_ZNQUML"
   },
   "outputs": [],
   "source": []
  }
 ],
 "metadata": {
  "colab": {
   "collapsed_sections": [],
   "name": "intro_predictive_modeling.ipynb",
   "provenance": [],
   "version": "0.3.2"
  },
  "kernelspec": {
   "display_name": "Python 3",
   "language": "python",
   "name": "python3"
  },
  "language_info": {
   "codemirror_mode": {
    "name": "ipython",
    "version": 3
   },
   "file_extension": ".py",
   "mimetype": "text/x-python",
   "name": "python",
   "nbconvert_exporter": "python",
   "pygments_lexer": "ipython3",
   "version": "3.7.3"
  }
 },
 "nbformat": 4,
 "nbformat_minor": 1
}
