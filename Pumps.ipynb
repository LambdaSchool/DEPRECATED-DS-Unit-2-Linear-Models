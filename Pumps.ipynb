{
  "nbformat": 4,
  "nbformat_minor": 0,
  "metadata": {
    "kernelspec": {
      "display_name": "Python 3",
      "language": "python",
      "name": "python3"
    },
    "language_info": {
      "codemirror_mode": {
        "name": "ipython",
        "version": 3
      },
      "file_extension": ".py",
      "mimetype": "text/x-python",
      "name": "python",
      "nbconvert_exporter": "python",
      "pygments_lexer": "ipython3",
      "version": "3.7.3"
    },
    "colab": {
      "name": "Pumps.ipynb",
      "version": "0.3.2",
      "provenance": []
    }
  },
  "cells": [
    {
      "cell_type": "markdown",
      "metadata": {
        "id": "7jWodqzTT3dX",
        "colab_type": "text"
      },
      "source": [
        "##Import and Fetch"
      ]
    },
    {
      "cell_type": "code",
      "metadata": {
        "id": "CAkmooj0wHc4",
        "colab_type": "code",
        "colab": {
          "base_uri": "https://localhost:8080/",
          "height": 425
        },
        "outputId": "7d9a2152-9f84-4295-dce8-8db0e50eec83"
      },
      "source": [
        "!pip install pandas_profiling\n",
        "!pip install category_encoders"
      ],
      "execution_count": 17,
      "outputs": [
        {
          "output_type": "stream",
          "text": [
            "Requirement already satisfied: pandas_profiling in /usr/local/lib/python3.6/dist-packages (1.4.1)\n",
            "Requirement already satisfied: jinja2>=2.8 in /usr/local/lib/python3.6/dist-packages (from pandas_profiling) (2.10.1)\n",
            "Requirement already satisfied: six>=1.9 in /usr/local/lib/python3.6/dist-packages (from pandas_profiling) (1.12.0)\n",
            "Requirement already satisfied: pandas>=0.19 in /usr/local/lib/python3.6/dist-packages (from pandas_profiling) (0.24.2)\n",
            "Requirement already satisfied: matplotlib>=1.4 in /usr/local/lib/python3.6/dist-packages (from pandas_profiling) (3.0.3)\n",
            "Requirement already satisfied: MarkupSafe>=0.23 in /usr/local/lib/python3.6/dist-packages (from jinja2>=2.8->pandas_profiling) (1.1.1)\n",
            "Requirement already satisfied: python-dateutil>=2.5.0 in /usr/local/lib/python3.6/dist-packages (from pandas>=0.19->pandas_profiling) (2.5.3)\n",
            "Requirement already satisfied: pytz>=2011k in /usr/local/lib/python3.6/dist-packages (from pandas>=0.19->pandas_profiling) (2018.9)\n",
            "Requirement already satisfied: numpy>=1.12.0 in /usr/local/lib/python3.6/dist-packages (from pandas>=0.19->pandas_profiling) (1.16.4)\n",
            "Requirement already satisfied: cycler>=0.10 in /usr/local/lib/python3.6/dist-packages (from matplotlib>=1.4->pandas_profiling) (0.10.0)\n",
            "Requirement already satisfied: pyparsing!=2.0.4,!=2.1.2,!=2.1.6,>=2.0.1 in /usr/local/lib/python3.6/dist-packages (from matplotlib>=1.4->pandas_profiling) (2.4.0)\n",
            "Requirement already satisfied: kiwisolver>=1.0.1 in /usr/local/lib/python3.6/dist-packages (from matplotlib>=1.4->pandas_profiling) (1.1.0)\n",
            "Requirement already satisfied: setuptools in /usr/local/lib/python3.6/dist-packages (from kiwisolver>=1.0.1->matplotlib>=1.4->pandas_profiling) (41.0.1)\n",
            "Requirement already satisfied: category_encoders in /usr/local/lib/python3.6/dist-packages (2.0.0)\n",
            "Requirement already satisfied: scipy>=0.19.0 in /usr/local/lib/python3.6/dist-packages (from category_encoders) (1.3.0)\n",
            "Requirement already satisfied: numpy>=1.11.3 in /usr/local/lib/python3.6/dist-packages (from category_encoders) (1.16.4)\n",
            "Requirement already satisfied: scikit-learn>=0.20.0 in /usr/local/lib/python3.6/dist-packages (from category_encoders) (0.21.2)\n",
            "Requirement already satisfied: pandas>=0.21.1 in /usr/local/lib/python3.6/dist-packages (from category_encoders) (0.24.2)\n",
            "Requirement already satisfied: statsmodels>=0.6.1 in /usr/local/lib/python3.6/dist-packages (from category_encoders) (0.10.0)\n",
            "Requirement already satisfied: patsy>=0.4.1 in /usr/local/lib/python3.6/dist-packages (from category_encoders) (0.5.1)\n",
            "Requirement already satisfied: joblib>=0.11 in /usr/local/lib/python3.6/dist-packages (from scikit-learn>=0.20.0->category_encoders) (0.13.2)\n",
            "Requirement already satisfied: pytz>=2011k in /usr/local/lib/python3.6/dist-packages (from pandas>=0.21.1->category_encoders) (2018.9)\n",
            "Requirement already satisfied: python-dateutil>=2.5.0 in /usr/local/lib/python3.6/dist-packages (from pandas>=0.21.1->category_encoders) (2.5.3)\n",
            "Requirement already satisfied: six in /usr/local/lib/python3.6/dist-packages (from patsy>=0.4.1->category_encoders) (1.12.0)\n"
          ],
          "name": "stdout"
        }
      ]
    },
    {
      "cell_type": "code",
      "metadata": {
        "id": "6g6nuHjwwHc0",
        "colab_type": "code",
        "colab": {}
      },
      "source": [
        "%matplotlib inline\n",
        "import matplotlib.pyplot as plt\n",
        "\n",
        "import pandas as pd\n",
        "import numpy as np\n",
        "\n",
        "import category_encoders as ce\n",
        "from sklearn.linear_model import LogisticRegression\n",
        "from sklearn.metrics import accuracy_score\n",
        "from sklearn.preprocessing import StandardScaler\n",
        "from sklearn.model_selection import train_test_split\n",
        "\n"
      ],
      "execution_count": 0,
      "outputs": []
    },
    {
      "cell_type": "code",
      "metadata": {
        "id": "bnBigpDQwHc-",
        "colab_type": "code",
        "colab": {
          "base_uri": "https://localhost:8080/",
          "height": 765
        },
        "outputId": "b36d0272-fb6c-47a7-86d5-c73b8f891cca"
      },
      "source": [
        "!wget https://raw.githubusercontent.com/LambdaSchool/DS-Unit-2-Linear-Models/master/data/tanzania/train_features.csv\n",
        "!wget https://raw.githubusercontent.com/LambdaSchool/DS-Unit-2-Linear-Models/master/data/tanzania/train_labels.csv\n",
        "!wget https://raw.githubusercontent.com/LambdaSchool/DS-Unit-2-Linear-Models/master/data/tanzania/test_features.csv\n",
        "!wget https://raw.githubusercontent.com/LambdaSchool/DS-Unit-2-Linear-Models/master/data/tanzania/sample_submission.csv"
      ],
      "execution_count": 19,
      "outputs": [
        {
          "output_type": "stream",
          "text": [
            "--2019-07-19 16:55:28--  https://raw.githubusercontent.com/LambdaSchool/DS-Unit-2-Linear-Models/master/data/tanzania/train_features.csv\n",
            "Resolving raw.githubusercontent.com (raw.githubusercontent.com)... 151.101.0.133, 151.101.64.133, 151.101.128.133, ...\n",
            "Connecting to raw.githubusercontent.com (raw.githubusercontent.com)|151.101.0.133|:443... connected.\n",
            "HTTP request sent, awaiting response... 200 OK\n",
            "Length: 20054664 (19M) [text/plain]\n",
            "Saving to: ‘train_features.csv.3’\n",
            "\n",
            "train_features.csv. 100%[===================>]  19.12M   110MB/s    in 0.2s    \n",
            "\n",
            "2019-07-19 16:55:29 (110 MB/s) - ‘train_features.csv.3’ saved [20054664/20054664]\n",
            "\n",
            "--2019-07-19 16:55:29--  https://raw.githubusercontent.com/LambdaSchool/DS-Unit-2-Linear-Models/master/data/tanzania/train_labels.csv\n",
            "Resolving raw.githubusercontent.com (raw.githubusercontent.com)... 151.101.0.133, 151.101.64.133, 151.101.128.133, ...\n",
            "Connecting to raw.githubusercontent.com (raw.githubusercontent.com)|151.101.0.133|:443... connected.\n",
            "HTTP request sent, awaiting response... 200 OK\n",
            "Length: 1148327 (1.1M) [text/plain]\n",
            "Saving to: ‘train_labels.csv.3’\n",
            "\n",
            "train_labels.csv.3  100%[===================>]   1.09M  --.-KB/s    in 0.08s   \n",
            "\n",
            "2019-07-19 16:55:30 (14.4 MB/s) - ‘train_labels.csv.3’ saved [1148327/1148327]\n",
            "\n",
            "--2019-07-19 16:55:30--  https://raw.githubusercontent.com/LambdaSchool/DS-Unit-2-Linear-Models/master/data/tanzania/test_features.csv\n",
            "Resolving raw.githubusercontent.com (raw.githubusercontent.com)... 151.101.0.133, 151.101.64.133, 151.101.128.133, ...\n",
            "Connecting to raw.githubusercontent.com (raw.githubusercontent.com)|151.101.0.133|:443... connected.\n",
            "HTTP request sent, awaiting response... 200 OK\n",
            "Length: 4851589 (4.6M) [text/plain]\n",
            "Saving to: ‘test_features.csv.3’\n",
            "\n",
            "test_features.csv.3 100%[===================>]   4.63M  --.-KB/s    in 0.1s    \n",
            "\n",
            "2019-07-19 16:55:31 (44.4 MB/s) - ‘test_features.csv.3’ saved [4851589/4851589]\n",
            "\n",
            "--2019-07-19 16:55:31--  https://raw.githubusercontent.com/LambdaSchool/DS-Unit-2-Linear-Models/master/data/tanzania/sample_submission.csv\n",
            "Resolving raw.githubusercontent.com (raw.githubusercontent.com)... 151.101.0.133, 151.101.64.133, 151.101.128.133, ...\n",
            "Connecting to raw.githubusercontent.com (raw.githubusercontent.com)|151.101.0.133|:443... connected.\n",
            "HTTP request sent, awaiting response... 200 OK\n",
            "Length: 241972 (236K) [text/plain]\n",
            "Saving to: ‘sample_submission.csv.3’\n",
            "\n",
            "sample_submission.c 100%[===================>] 236.30K  --.-KB/s    in 0.05s   \n",
            "\n",
            "2019-07-19 16:55:31 (4.74 MB/s) - ‘sample_submission.csv.3’ saved [241972/241972]\n",
            "\n"
          ],
          "name": "stdout"
        }
      ]
    },
    {
      "cell_type": "code",
      "metadata": {
        "id": "SBIW2d0pwHdE",
        "colab_type": "code",
        "colab": {}
      },
      "source": [
        "import pandas_profiling as pp"
      ],
      "execution_count": 0,
      "outputs": []
    },
    {
      "cell_type": "code",
      "metadata": {
        "id": "wITIAF2JwHdH",
        "colab_type": "code",
        "colab": {
          "base_uri": "https://localhost:8080/",
          "height": 119
        },
        "outputId": "00bb4bcd-b39c-4157-f9e0-c5ad74359b34"
      },
      "source": [
        "!ls"
      ],
      "execution_count": 21,
      "outputs": [
        {
          "output_type": "stream",
          "text": [
            "sample_data\t\t test_features.csv.1   train_features.csv.3\n",
            "sample_submission.csv\t test_features.csv.2   train_labels.csv\n",
            "sample_submission.csv.1  test_features.csv.3   train_labels.csv.1\n",
            "sample_submission.csv.2  train_features.csv    train_labels.csv.2\n",
            "sample_submission.csv.3  train_features.csv.1  train_labels.csv.3\n",
            "test_features.csv\t train_features.csv.2\n"
          ],
          "name": "stdout"
        }
      ]
    },
    {
      "cell_type": "code",
      "metadata": {
        "id": "xdC1VpD9wHdN",
        "colab_type": "code",
        "colab": {}
      },
      "source": [
        "#load dataframes\n",
        "X = pd.read_csv('train_features.csv')\n",
        "Y = pd.read_csv('train_labels.csv')\n",
        "\n",
        "Y = Y.status_group\n",
        "\n",
        "#Split data\n",
        "X_train, X_val, y_train, y_val = train_test_split(X, Y,random_state = 42,stratify = Y)\n",
        "    "
      ],
      "execution_count": 0,
      "outputs": []
    },
    {
      "cell_type": "code",
      "metadata": {
        "id": "JWBsgbdDwHdQ",
        "colab_type": "code",
        "colab": {}
      },
      "source": [
        "#pp.ProfileReport(X)"
      ],
      "execution_count": 0,
      "outputs": []
    },
    {
      "cell_type": "markdown",
      "metadata": {
        "id": "GETGuxjVT_LW",
        "colab_type": "text"
      },
      "source": [
        "##Baseline"
      ]
    },
    {
      "cell_type": "code",
      "metadata": {
        "id": "oOEuOaWewHdc",
        "colab_type": "code",
        "colab": {
          "base_uri": "https://localhost:8080/",
          "height": 85
        },
        "outputId": "04add82e-58ba-4d47-ab7c-2d1b4144381b"
      },
      "source": [
        "#Baseline\n",
        "y_train.value_counts(normalize = True)"
      ],
      "execution_count": 24,
      "outputs": [
        {
          "output_type": "execute_result",
          "data": {
            "text/plain": [
              "functional                 0.543075\n",
              "non functional             0.384242\n",
              "functional needs repair    0.072682\n",
              "Name: status_group, dtype: float64"
            ]
          },
          "metadata": {
            "tags": []
          },
          "execution_count": 24
        }
      ]
    },
    {
      "cell_type": "code",
      "metadata": {
        "id": "Ai-vFkvzwHdg",
        "colab_type": "code",
        "colab": {
          "base_uri": "https://localhost:8080/",
          "height": 34
        },
        "outputId": "4adedec2-b30e-46c4-cec9-6a995b8f446b"
      },
      "source": [
        "#get nums from df\n",
        "numericals = X.select_dtypes('number').columns.to_list()\n",
        "print(numericals)"
      ],
      "execution_count": 25,
      "outputs": [
        {
          "output_type": "stream",
          "text": [
            "['id', 'amount_tsh', 'gps_height', 'longitude', 'latitude', 'num_private', 'region_code', 'district_code', 'population', 'construction_year']\n"
          ],
          "name": "stdout"
        }
      ]
    },
    {
      "cell_type": "code",
      "metadata": {
        "id": "jlPcqfpKwHdk",
        "colab_type": "code",
        "colab": {
          "base_uri": "https://localhost:8080/",
          "height": 68
        },
        "outputId": "51ac60d4-315a-4fcc-943e-62d54c1c564c"
      },
      "source": [
        "model = LogisticRegression(solver = 'lbfgs', multi_class = 'auto', max_iter = 350)\n",
        "model.fit(X_train[numericals],y_train)\n",
        "model.score(X_val[numericals], y_val)"
      ],
      "execution_count": 26,
      "outputs": [
        {
          "output_type": "stream",
          "text": [
            "/usr/local/lib/python3.6/dist-packages/sklearn/linear_model/logistic.py:947: ConvergenceWarning: lbfgs failed to converge. Increase the number of iterations.\n",
            "  \"of iterations.\", ConvergenceWarning)\n"
          ],
          "name": "stderr"
        },
        {
          "output_type": "execute_result",
          "data": {
            "text/plain": [
              "0.5484848484848485"
            ]
          },
          "metadata": {
            "tags": []
          },
          "execution_count": 26
        }
      ]
    },
    {
      "cell_type": "code",
      "metadata": {
        "id": "wOmHy4CtwHdp",
        "colab_type": "code",
        "colab": {
          "base_uri": "https://localhost:8080/",
          "height": 373
        },
        "outputId": "a2f55a49-141f-40bd-ba1a-9afe0dcb873a"
      },
      "source": [
        "#plot coefficent values for each label\n",
        "fig = plt.figure(figsize = (30,5), )\n",
        "\n",
        "ax = fig.add_subplot(131)\n",
        "coeffs = pd.Series(model.coef_[0], numericals)\n",
        "ax = coeffs.sort_values().plot.barh()\n",
        "ax.set_title(model.classes_[0], color = 'g')\n",
        "\n",
        "ax1 = fig.add_subplot(132)\n",
        "coeffs = pd.Series(model.coef_[1], numericals)\n",
        "ax1 = coeffs.sort_values().plot.barh()\n",
        "ax1.set_title(model.classes_[1], color = 'y')\n",
        "\n",
        "ax2 = fig.add_subplot(133)\n",
        "coeffs = pd.Series(model.coef_[2], numericals)\n",
        "ax2 = coeffs.sort_values().plot.barh()\n",
        "ax2.set_title(model.classes_[2], color = 'r')\n"
      ],
      "execution_count": 59,
      "outputs": [
        {
          "output_type": "execute_result",
          "data": {
            "text/plain": [
              "Text(0.5, 1.0, 'non functional')"
            ]
          },
          "metadata": {
            "tags": []
          },
          "execution_count": 59
        },
        {
          "output_type": "display_data",
          "data": {
            "image/png": "[encoded data removed]",
            "text/plain": [
              "<Figure size 2160x360 with 3 Axes>"
            ]
          },
          "metadata": {
            "tags": []
          }
        }
      ]
    },
    {
      "cell_type": "markdown",
      "metadata": {
        "id": "pSoJ0sY9TpGI",
        "colab_type": "text"
      },
      "source": [
        "It looks like longitude and region code have some of the largest effects on the model based on the coefficients"
      ]
    },
    {
      "cell_type": "markdown",
      "metadata": {
        "id": "wNVfUAwgXSLE",
        "colab_type": "text"
      },
      "source": [
        "##Cleaning\n"
      ]
    },
    {
      "cell_type": "code",
      "metadata": {
        "id": "pgq4RUvzXTQi",
        "colab_type": "code",
        "colab": {}
      },
      "source": [
        "#Clean zeroes, I will infer zero equate to missing data that cant be imputed\n",
        "zeroes = ['construction_year', 'population', 'longitude']\n",
        "for col in zeroes:\n",
        "  X[col].replace(to_replace = 0, value = np.NaN, inplace= True)  "
      ],
      "execution_count": 0,
      "outputs": []
    },
    {
      "cell_type": "code",
      "metadata": {
        "id": "PsPSHcePZcUy",
        "colab_type": "code",
        "colab": {
          "base_uri": "https://localhost:8080/",
          "height": 85
        },
        "outputId": "96613307-c5f5-4cb4-82e8-462ecdc1dfc5"
      },
      "source": [
        "X[zeroes].isnull().sum()"
      ],
      "execution_count": 68,
      "outputs": [
        {
          "output_type": "execute_result",
          "data": {
            "text/plain": [
              "construction_year    20709\n",
              "population           21381\n",
              "longitude             1812\n",
              "dtype: int64"
            ]
          },
          "metadata": {
            "tags": []
          },
          "execution_count": 68
        }
      ]
    },
    {
      "cell_type": "code",
      "metadata": {
        "id": "dlNnXOh9Ze03",
        "colab_type": "code",
        "colab": {}
      },
      "source": [
        "#For consistency, replace latitude values with NaN where longitude contains NaN\n",
        "X['latitude'] = np.where(X.longitude.isnull(), np.NaN, X.latitude)"
      ],
      "execution_count": 0,
      "outputs": []
    },
    {
      "cell_type": "code",
      "metadata": {
        "colab_type": "code",
        "outputId": "8690091c-3a5b-4374-c4e9-423c5c3714ca",
        "id": "s28f1tOkmaqK",
        "colab": {
          "base_uri": "https://localhost:8080/",
          "height": 68
        }
      },
      "source": [
        "X[['latitude', 'longitude']].isnull().sum()"
      ],
      "execution_count": 82,
      "outputs": [
        {
          "output_type": "execute_result",
          "data": {
            "text/plain": [
              "latitude     1812\n",
              "longitude    1812\n",
              "dtype: int64"
            ]
          },
          "metadata": {
            "tags": []
          },
          "execution_count": 82
        }
      ]
    },
    {
      "cell_type": "code",
      "metadata": {
        "id": "Rq7Gu4EumoGs",
        "colab_type": "code",
        "colab": {
          "base_uri": "https://localhost:8080/",
          "height": 119
        },
        "outputId": "9c5efb23-d094-4157-8f44-2eb1712f2a35"
      },
      "source": [
        "#use median of region to determine nearby elevation and impute missing values\n",
        "\n",
        "#get region names\n",
        "regions = X.region.value_counts().index.to_list()\n",
        "\n",
        "#Get values using medion elevation of the region\n",
        "values = [X[X.region == region]['gps_height'].median() for region in regions]\n",
        "\n",
        "#Replace zeroes using median values\n",
        "#per topographical below 5s and past 35e is closer to sea level(0)\n",
        "for i in range(len(regions)):\n",
        "  X[(X.region == regions[i]) & (X.longitude < 35) & (X.latitude > -5) & (X.gps_height == 0)]['gps_height'] = values[i]"
      ],
      "execution_count": 125,
      "outputs": [
        {
          "output_type": "stream",
          "text": [
            "/usr/local/lib/python3.6/dist-packages/ipykernel_launcher.py:9: SettingWithCopyWarning: \n",
            "A value is trying to be set on a copy of a slice from a DataFrame.\n",
            "Try using .loc[row_indexer,col_indexer] = value instead\n",
            "\n",
            "See the caveats in the documentation: http://pandas.pydata.org/pandas-docs/stable/indexing.html#indexing-view-versus-copy\n",
            "  if __name__ == '__main__':\n"
          ],
          "name": "stderr"
        }
      ]
    },
    {
      "cell_type": "code",
      "metadata": {
        "id": "d0QE9nDmoDGr",
        "colab_type": "code",
        "colab": {
          "base_uri": "https://localhost:8080/",
          "height": 1000
        },
        "outputId": "c6b4f20f-a138-40c3-c7d3-bcdb3935eab7"
      },
      "source": [
        "X.gps_height.value_counts()"
      ],
      "execution_count": 127,
      "outputs": [
        {
          "output_type": "execute_result",
          "data": {
            "text/plain": [
              " 0       20438\n",
              "-15         60\n",
              "-16         55\n",
              "-13         55\n",
              "-20         52\n",
              " 1290       52\n",
              "-14         51\n",
              " 303        51\n",
              "-18         49\n",
              "-19         47\n",
              " 1269       46\n",
              " 1295       46\n",
              " 1304       45\n",
              "-23         45\n",
              " 280        44\n",
              " 1538       44\n",
              " 1286       44\n",
              "-8          44\n",
              "-17         44\n",
              " 1332       43\n",
              " 320        43\n",
              " 1317       42\n",
              " 1293       42\n",
              " 1319       42\n",
              " 1359       42\n",
              " 1264       42\n",
              " 1288       42\n",
              " 1401       42\n",
              " 1303       42\n",
              "-27         42\n",
              "         ...  \n",
              " 2506        1\n",
              " 2023        1\n",
              "-53          1\n",
              " 2364        1\n",
              " 2332        1\n",
              " 2402        1\n",
              " 2236        1\n",
              " 2420        1\n",
              " 2291        1\n",
              " 2407        1\n",
              " 2080        1\n",
              " 2250        1\n",
              " 591         1\n",
              " 2378        1\n",
              " 2535        1\n",
              " 2614        1\n",
              " 2484        1\n",
              " 2450        1\n",
              " 2072        1\n",
              " 2286        1\n",
              " 2567        1\n",
              " 2322        1\n",
              " 2254        1\n",
              " 2264        1\n",
              " 2464        1\n",
              " 2285        1\n",
              " 2424        1\n",
              " 2552        1\n",
              " 2413        1\n",
              " 2385        1\n",
              "Name: gps_height, Length: 2428, dtype: int64"
            ]
          },
          "metadata": {
            "tags": []
          },
          "execution_count": 127
        }
      ]
    },
    {
      "cell_type": "code",
      "metadata": {
        "id": "dmM0StN3oFiL",
        "colab_type": "code",
        "colab": {
          "base_uri": "https://localhost:8080/",
          "height": 34
        },
        "outputId": "27421b9c-55e5-4930-80ab-e09f0e69c9c6"
      },
      "source": [
        "X.iloc[29474].longitude"
      ],
      "execution_count": 100,
      "outputs": [
        {
          "output_type": "execute_result",
          "data": {
            "text/plain": [
              "32.82508111"
            ]
          },
          "metadata": {
            "tags": []
          },
          "execution_count": 100
        }
      ]
    },
    {
      "cell_type": "code",
      "metadata": {
        "id": "6F5kE1IPoH5b",
        "colab_type": "code",
        "colab": {}
      },
      "source": [
        "X[(X.latitude < -3) & (X.latitude > -5) & (X.longitude > 31) & (X.longitude < 33)]"
      ],
      "execution_count": 0,
      "outputs": []
    },
    {
      "cell_type": "code",
      "metadata": {
        "id": "zxSiXq4goc90",
        "colab_type": "code",
        "colab": {
          "base_uri": "https://localhost:8080/",
          "height": 374
        },
        "outputId": "69cc0b19-3427-4202-8029-802e89c0450b"
      },
      "source": [
        "X.region.value_counts().index.to_list()"
      ],
      "execution_count": 119,
      "outputs": [
        {
          "output_type": "execute_result",
          "data": {
            "text/plain": [
              "['Iringa',\n",
              " 'Shinyanga',\n",
              " 'Mbeya',\n",
              " 'Kilimanjaro',\n",
              " 'Morogoro',\n",
              " 'Arusha',\n",
              " 'Kagera',\n",
              " 'Mwanza',\n",
              " 'Kigoma',\n",
              " 'Ruvuma',\n",
              " 'Pwani',\n",
              " 'Tanga',\n",
              " 'Dodoma',\n",
              " 'Singida',\n",
              " 'Mara',\n",
              " 'Tabora',\n",
              " 'Rukwa',\n",
              " 'Mtwara',\n",
              " 'Manyara',\n",
              " 'Lindi',\n",
              " 'Dar es Salaam']"
            ]
          },
          "metadata": {
            "tags": []
          },
          "execution_count": 119
        }
      ]
    },
    {
      "cell_type": "code",
      "metadata": {
        "id": "vrtu5TURu_0T",
        "colab_type": "code",
        "colab": {
          "base_uri": "https://localhost:8080/",
          "height": 34
        },
        "outputId": "624fcade-13c3-4306-b273-5b411dbeb831"
      },
      "source": [
        "X[X.region == 'Iringa']['gps_height'].median()"
      ],
      "execution_count": 118,
      "outputs": [
        {
          "output_type": "execute_result",
          "data": {
            "text/plain": [
              "1719.0"
            ]
          },
          "metadata": {
            "tags": []
          },
          "execution_count": 118
        }
      ]
    },
    {
      "cell_type": "code",
      "metadata": {
        "id": "anYfnahdvU0P",
        "colab_type": "code",
        "colab": {
          "base_uri": "https://localhost:8080/",
          "height": 34
        },
        "outputId": "8a83b7ec-5650-4993-de5c-79a1791fb129"
      },
      "source": [
        "X[X.region == 'Iringa']['gps_height'].median()"
      ],
      "execution_count": 115,
      "outputs": [
        {
          "output_type": "execute_result",
          "data": {
            "text/plain": [
              "1719.0"
            ]
          },
          "metadata": {
            "tags": []
          },
          "execution_count": 115
        }
      ]
    },
    {
      "cell_type": "code",
      "metadata": {
        "id": "SRgO0xDfwExA",
        "colab_type": "code",
        "colab": {}
      },
      "source": [
        ""
      ],
      "execution_count": 0,
      "outputs": []
    }
  ]
}