{
  "nbformat": 4,
  "nbformat_minor": 0,
  "metadata": {
    "kernelspec": {
      "display_name": "Python 3",
      "language": "python",
      "name": "python3"
    },
    "language_info": {
      "codemirror_mode": {
        "name": "ipython",
        "version": 3
      },
      "file_extension": ".py",
      "mimetype": "text/x-python",
      "name": "python",
      "nbconvert_exporter": "python",
      "pygments_lexer": "ipython3",
      "version": "3.7.3"
    },
    "colab": {
      "name": "Pumps.ipynb",
      "version": "0.3.2",
      "provenance": []
    }
  },
  "cells": [
    {
      "cell_type": "markdown",
      "metadata": {
        "id": "7jWodqzTT3dX",
        "colab_type": "text"
      },
      "source": [
        "##Import and Fetch"
      ]
    },
    {
      "cell_type": "code",
      "metadata": {
        "id": "CAkmooj0wHc4",
        "colab_type": "code",
        "outputId": "666d8a7f-9c8f-4314-c24a-526899872066",
        "colab": {
          "base_uri": "https://localhost:8080/",
          "height": 445
        }
      },
      "source": [
        "!pip install pandas_profiling\n",
        "!pip install category_encoders"
      ],
      "execution_count": 1,
      "outputs": [
        {
          "output_type": "stream",
          "text": [
            "Requirement already satisfied: pandas_profiling in /usr/local/lib/python3.6/dist-packages (1.4.1)\n",
            "Requirement already satisfied: six>=1.9 in /usr/local/lib/python3.6/dist-packages (from pandas_profiling) (1.12.0)\n",
            "Requirement already satisfied: pandas>=0.19 in /usr/local/lib/python3.6/dist-packages (from pandas_profiling) (0.24.2)\n",
            "Requirement already satisfied: matplotlib>=1.4 in /usr/local/lib/python3.6/dist-packages (from pandas_profiling) (3.0.3)\n",
            "Requirement already satisfied: jinja2>=2.8 in /usr/local/lib/python3.6/dist-packages (from pandas_profiling) (2.10.1)\n",
            "Requirement already satisfied: pytz>=2011k in /usr/local/lib/python3.6/dist-packages (from pandas>=0.19->pandas_profiling) (2018.9)\n",
            "Requirement already satisfied: numpy>=1.12.0 in /usr/local/lib/python3.6/dist-packages (from pandas>=0.19->pandas_profiling) (1.16.4)\n",
            "Requirement already satisfied: python-dateutil>=2.5.0 in /usr/local/lib/python3.6/dist-packages (from pandas>=0.19->pandas_profiling) (2.5.3)\n",
            "Requirement already satisfied: kiwisolver>=1.0.1 in /usr/local/lib/python3.6/dist-packages (from matplotlib>=1.4->pandas_profiling) (1.1.0)\n",
            "Requirement already satisfied: pyparsing!=2.0.4,!=2.1.2,!=2.1.6,>=2.0.1 in /usr/local/lib/python3.6/dist-packages (from matplotlib>=1.4->pandas_profiling) (2.4.0)\n",
            "Requirement already satisfied: cycler>=0.10 in /usr/local/lib/python3.6/dist-packages (from matplotlib>=1.4->pandas_profiling) (0.10.0)\n",
            "Requirement already satisfied: MarkupSafe>=0.23 in /usr/local/lib/python3.6/dist-packages (from jinja2>=2.8->pandas_profiling) (1.1.1)\n",
            "Requirement already satisfied: setuptools in /usr/local/lib/python3.6/dist-packages (from kiwisolver>=1.0.1->matplotlib>=1.4->pandas_profiling) (41.0.1)\n",
            "Requirement already satisfied: category_encoders in /usr/local/lib/python3.6/dist-packages (2.0.0)\n",
            "Requirement already satisfied: pandas>=0.21.1 in /usr/local/lib/python3.6/dist-packages (from category_encoders) (0.24.2)\n",
            "Requirement already satisfied: scipy>=0.19.0 in /usr/local/lib/python3.6/dist-packages (from category_encoders) (1.3.0)\n",
            "Requirement already satisfied: patsy>=0.4.1 in /usr/local/lib/python3.6/dist-packages (from category_encoders) (0.5.1)\n",
            "Requirement already satisfied: statsmodels>=0.6.1 in /usr/local/lib/python3.6/dist-packages (from category_encoders) (0.10.0)\n",
            "Requirement already satisfied: numpy>=1.11.3 in /usr/local/lib/python3.6/dist-packages (from category_encoders) (1.16.4)\n",
            "Requirement already satisfied: scikit-learn>=0.20.0 in /usr/local/lib/python3.6/dist-packages (from category_encoders) (0.21.2)\n",
            "Requirement already satisfied: pytz>=2011k in /usr/local/lib/python3.6/dist-packages (from pandas>=0.21.1->category_encoders) (2018.9)\n",
            "Requirement already satisfied: python-dateutil>=2.5.0 in /usr/local/lib/python3.6/dist-packages (from pandas>=0.21.1->category_encoders) (2.5.3)\n",
            "Requirement already satisfied: six in /usr/local/lib/python3.6/dist-packages (from patsy>=0.4.1->category_encoders) (1.12.0)\n",
            "Requirement already satisfied: joblib>=0.11 in /usr/local/lib/python3.6/dist-packages (from scikit-learn>=0.20.0->category_encoders) (0.13.2)\n"
          ],
          "name": "stdout"
        }
      ]
    },
    {
      "cell_type": "code",
      "metadata": {
        "id": "6g6nuHjwwHc0",
        "colab_type": "code",
        "colab": {}
      },
      "source": [
        "%matplotlib inline\n",
        "import matplotlib.pyplot as plt\n",
        "\n",
        "import pandas as pd\n",
        "import numpy as np\n",
        "\n",
        "import category_encoders as ce\n",
        "from sklearn.linear_model import LogisticRegression\n",
        "from sklearn.metrics import accuracy_score\n",
        "from sklearn.preprocessing import StandardScaler\n",
        "from sklearn.model_selection import train_test_split\n",
        "\n",
        "from sklearn.preprocessing import LabelEncoder\n",
        "from sklearn.tree import DecisionTreeClassifier\n",
        "from sklearn.neighbors import KNeighborsClassifier\n",
        "from sklearn.ensemble import GradientBoostingClassifier\n",
        "from sklearn.model_selection import cross_val_score\n"
      ],
      "execution_count": 0,
      "outputs": []
    },
    {
      "cell_type": "code",
      "metadata": {
        "id": "bnBigpDQwHc-",
        "colab_type": "code",
        "outputId": "23b86353-bd53-4f6f-e3ac-5b4bcfd73544",
        "colab": {
          "base_uri": "https://localhost:8080/",
          "height": 765
        }
      },
      "source": [
        "!wget https://raw.githubusercontent.com/LambdaSchool/DS-Unit-2-Linear-Models/master/data/tanzania/train_features.csv\n",
        "!wget https://raw.githubusercontent.com/LambdaSchool/DS-Unit-2-Linear-Models/master/data/tanzania/train_labels.csv\n",
        "!wget https://raw.githubusercontent.com/LambdaSchool/DS-Unit-2-Linear-Models/master/data/tanzania/test_features.csv\n",
        "!wget https://raw.githubusercontent.com/LambdaSchool/DS-Unit-2-Linear-Models/master/data/tanzania/sample_submission.csv"
      ],
      "execution_count": 3,
      "outputs": [
        {
          "output_type": "stream",
          "text": [
            "--2019-07-23 04:16:05--  https://raw.githubusercontent.com/LambdaSchool/DS-Unit-2-Linear-Models/master/data/tanzania/train_features.csv\n",
            "Resolving raw.githubusercontent.com (raw.githubusercontent.com)... 151.101.0.133, 151.101.64.133, 151.101.128.133, ...\n",
            "Connecting to raw.githubusercontent.com (raw.githubusercontent.com)|151.101.0.133|:443... connected.\n",
            "HTTP request sent, awaiting response... 200 OK\n",
            "Length: 20054664 (19M) [text/plain]\n",
            "Saving to: ‘train_features.csv.6’\n",
            "\n",
            "train_features.csv. 100%[===================>]  19.12M  --.-KB/s    in 0.1s    \n",
            "\n",
            "2019-07-23 04:16:06 (154 MB/s) - ‘train_features.csv.6’ saved [20054664/20054664]\n",
            "\n",
            "--2019-07-23 04:16:06--  https://raw.githubusercontent.com/LambdaSchool/DS-Unit-2-Linear-Models/master/data/tanzania/train_labels.csv\n",
            "Resolving raw.githubusercontent.com (raw.githubusercontent.com)... 151.101.0.133, 151.101.64.133, 151.101.128.133, ...\n",
            "Connecting to raw.githubusercontent.com (raw.githubusercontent.com)|151.101.0.133|:443... connected.\n",
            "HTTP request sent, awaiting response... 200 OK\n",
            "Length: 1148327 (1.1M) [text/plain]\n",
            "Saving to: ‘train_labels.csv.6’\n",
            "\n",
            "train_labels.csv.6  100%[===================>]   1.09M  --.-KB/s    in 0.04s   \n",
            "\n",
            "2019-07-23 04:16:06 (25.1 MB/s) - ‘train_labels.csv.6’ saved [1148327/1148327]\n",
            "\n",
            "--2019-07-23 04:16:07--  https://raw.githubusercontent.com/LambdaSchool/DS-Unit-2-Linear-Models/master/data/tanzania/test_features.csv\n",
            "Resolving raw.githubusercontent.com (raw.githubusercontent.com)... 151.101.0.133, 151.101.64.133, 151.101.128.133, ...\n",
            "Connecting to raw.githubusercontent.com (raw.githubusercontent.com)|151.101.0.133|:443... connected.\n",
            "HTTP request sent, awaiting response... 200 OK\n",
            "Length: 4851589 (4.6M) [text/plain]\n",
            "Saving to: ‘test_features.csv.6’\n",
            "\n",
            "test_features.csv.6 100%[===================>]   4.63M  --.-KB/s    in 0.06s   \n",
            "\n",
            "2019-07-23 04:16:07 (73.3 MB/s) - ‘test_features.csv.6’ saved [4851589/4851589]\n",
            "\n",
            "--2019-07-23 04:16:08--  https://raw.githubusercontent.com/LambdaSchool/DS-Unit-2-Linear-Models/master/data/tanzania/sample_submission.csv\n",
            "Resolving raw.githubusercontent.com (raw.githubusercontent.com)... 151.101.0.133, 151.101.64.133, 151.101.128.133, ...\n",
            "Connecting to raw.githubusercontent.com (raw.githubusercontent.com)|151.101.0.133|:443... connected.\n",
            "HTTP request sent, awaiting response... 200 OK\n",
            "Length: 241972 (236K) [text/plain]\n",
            "Saving to: ‘sample_submission.csv.6’\n",
            "\n",
            "sample_submission.c 100%[===================>] 236.30K  --.-KB/s    in 0.03s   \n",
            "\n",
            "2019-07-23 04:16:08 (8.00 MB/s) - ‘sample_submission.csv.6’ saved [241972/241972]\n",
            "\n"
          ],
          "name": "stdout"
        }
      ]
    },
    {
      "cell_type": "code",
      "metadata": {
        "id": "SBIW2d0pwHdE",
        "colab_type": "code",
        "colab": {}
      },
      "source": [
        "import pandas_profiling as pp"
      ],
      "execution_count": 0,
      "outputs": []
    },
    {
      "cell_type": "code",
      "metadata": {
        "id": "wITIAF2JwHdH",
        "colab_type": "code",
        "outputId": "7f0e64d3-b26f-4a3c-d0fa-b9c16807e0e8",
        "colab": {
          "base_uri": "https://localhost:8080/",
          "height": 187
        }
      },
      "source": [
        "!ls"
      ],
      "execution_count": 5,
      "outputs": [
        {
          "output_type": "stream",
          "text": [
            "sample_data\t\t test_features.csv.2   train_features.csv.5\n",
            "sample_submission.csv\t test_features.csv.3   train_features.csv.6\n",
            "sample_submission.csv.1  test_features.csv.4   train_labels.csv\n",
            "sample_submission.csv.2  test_features.csv.5   train_labels.csv.1\n",
            "sample_submission.csv.3  test_features.csv.6   train_labels.csv.2\n",
            "sample_submission.csv.4  train_features.csv    train_labels.csv.3\n",
            "sample_submission.csv.5  train_features.csv.1  train_labels.csv.4\n",
            "sample_submission.csv.6  train_features.csv.2  train_labels.csv.5\n",
            "test_features.csv\t train_features.csv.3  train_labels.csv.6\n",
            "test_features.csv.1\t train_features.csv.4\n"
          ],
          "name": "stdout"
        }
      ]
    },
    {
      "cell_type": "code",
      "metadata": {
        "id": "xdC1VpD9wHdN",
        "colab_type": "code",
        "colab": {}
      },
      "source": [
        "#load dataframes\n",
        "X = pd.read_csv('train_features.csv')\n",
        "Y = pd.read_csv('train_labels.csv')\n",
        "\n",
        "Y = Y.status_group\n",
        "\n",
        "#Split data\n",
        "X_train, X_val, y_train, y_val = train_test_split(X, Y,random_state = 42,stratify = Y)\n",
        "    "
      ],
      "execution_count": 0,
      "outputs": []
    },
    {
      "cell_type": "code",
      "metadata": {
        "id": "JWBsgbdDwHdQ",
        "colab_type": "code",
        "colab": {}
      },
      "source": [
        "#pp.ProfileReport(X)"
      ],
      "execution_count": 0,
      "outputs": []
    },
    {
      "cell_type": "markdown",
      "metadata": {
        "id": "GETGuxjVT_LW",
        "colab_type": "text"
      },
      "source": [
        "##Baseline"
      ]
    },
    {
      "cell_type": "code",
      "metadata": {
        "id": "oOEuOaWewHdc",
        "colab_type": "code",
        "outputId": "4930bd0e-cdef-4136-cc56-ee999bec79c0",
        "colab": {
          "base_uri": "https://localhost:8080/",
          "height": 0
        }
      },
      "source": [
        "#Baseline\n",
        "y_train.value_counts(normalize = True)"
      ],
      "execution_count": 8,
      "outputs": [
        {
          "output_type": "execute_result",
          "data": {
            "text/plain": [
              "functional                 0.543075\n",
              "non functional             0.384242\n",
              "functional needs repair    0.072682\n",
              "Name: status_group, dtype: float64"
            ]
          },
          "metadata": {
            "tags": []
          },
          "execution_count": 8
        }
      ]
    },
    {
      "cell_type": "code",
      "metadata": {
        "id": "Ai-vFkvzwHdg",
        "colab_type": "code",
        "outputId": "d9d0d9e3-5fe8-4d28-b91e-074750de7502",
        "colab": {
          "base_uri": "https://localhost:8080/",
          "height": 0
        }
      },
      "source": [
        "#get nums from df\n",
        "numericals = X.select_dtypes('number').columns.to_list()\n",
        "print(numericals)"
      ],
      "execution_count": 9,
      "outputs": [
        {
          "output_type": "stream",
          "text": [
            "['id', 'amount_tsh', 'gps_height', 'longitude', 'latitude', 'num_private', 'region_code', 'district_code', 'population', 'construction_year']\n"
          ],
          "name": "stdout"
        }
      ]
    },
    {
      "cell_type": "code",
      "metadata": {
        "id": "jlPcqfpKwHdk",
        "colab_type": "code",
        "outputId": "605ceb13-eb78-4205-87aa-3e664002aa7e",
        "colab": {
          "base_uri": "https://localhost:8080/",
          "height": 0
        }
      },
      "source": [
        "model = LogisticRegression(solver = 'lbfgs', multi_class = 'auto', max_iter = 350)\n",
        "model.fit(X_train[numericals],y_train)\n",
        "model.score(X_val[numericals], y_val)"
      ],
      "execution_count": 10,
      "outputs": [
        {
          "output_type": "stream",
          "text": [
            "/usr/local/lib/python3.6/dist-packages/sklearn/linear_model/logistic.py:947: ConvergenceWarning: lbfgs failed to converge. Increase the number of iterations.\n",
            "  \"of iterations.\", ConvergenceWarning)\n"
          ],
          "name": "stderr"
        },
        {
          "output_type": "execute_result",
          "data": {
            "text/plain": [
              "0.5484848484848485"
            ]
          },
          "metadata": {
            "tags": []
          },
          "execution_count": 10
        }
      ]
    },
    {
      "cell_type": "code",
      "metadata": {
        "id": "wOmHy4CtwHdp",
        "colab_type": "code",
        "outputId": "653a72b0-31cf-4f77-ff84-cf2d6a3ed6b6",
        "colab": {
          "base_uri": "https://localhost:8080/",
          "height": 0
        }
      },
      "source": [
        "#plot coefficent values for each label\n",
        "fig = plt.figure(figsize = (30,5), )\n",
        "\n",
        "ax = fig.add_subplot(131)\n",
        "coeffs = pd.Series(model.coef_[0], numericals)\n",
        "ax = coeffs.sort_values().plot.barh()\n",
        "ax.set_title(model.classes_[0], color = 'g')\n",
        "\n",
        "ax1 = fig.add_subplot(132)\n",
        "coeffs = pd.Series(model.coef_[1], numericals)\n",
        "ax1 = coeffs.sort_values().plot.barh()\n",
        "ax1.set_title(model.classes_[1], color = 'y')\n",
        "\n",
        "ax2 = fig.add_subplot(133)\n",
        "coeffs = pd.Series(model.coef_[2], numericals)\n",
        "ax2 = coeffs.sort_values().plot.barh()\n",
        "ax2.set_title(model.classes_[2], color = 'r')\n"
      ],
      "execution_count": 11,
      "outputs": [
        {
          "output_type": "execute_result",
          "data": {
            "text/plain": [
              "Text(0.5, 1.0, 'non functional')"
            ]
          },
          "metadata": {
            "tags": []
          },
          "execution_count": 11
        }
      ]
    },
    {
      "cell_type": "markdown",
      "metadata": {
        "id": "pSoJ0sY9TpGI",
        "colab_type": "text"
      },
      "source": [
        "It looks like longitude and region code have some of the largest effects on the model based on the coefficients"
      ]
    },
    {
      "cell_type": "markdown",
      "metadata": {
        "id": "wNVfUAwgXSLE",
        "colab_type": "text"
      },
      "source": [
        "##Cleaning\n"
      ]
    },
    {
      "cell_type": "code",
      "metadata": {
        "id": "UCigo0fC9JKL",
        "colab_type": "code",
        "outputId": "de736359-9577-46c2-8856-4d4634f1ddd1",
        "colab": {
          "base_uri": "https://localhost:8080/",
          "height": 51
        }
      },
      "source": [
        "#Check if there are any coordinates in data that are outside of tanzania\n",
        "\n",
        "#28 is west most and 42 is east most boundary  \n",
        "print(X[(X.longitude <28) | (X.longitude > 42)].shape[0])\n",
        "\n",
        "#0 is top most and -12 is lowest boundary\n",
        "print(X[(X.latitude > 0) | (X.latitude < -12)].shape[0]) "
      ],
      "execution_count": 12,
      "outputs": [
        {
          "output_type": "stream",
          "text": [
            "1812\n",
            "0\n"
          ],
          "name": "stdout"
        }
      ]
    },
    {
      "cell_type": "code",
      "metadata": {
        "id": "Rq7Gu4EumoGs",
        "colab_type": "code",
        "colab": {}
      },
      "source": [
        "    #get the median elevations for each region in df\n",
        "def get_elevations(x):\n",
        "#store each region and gps height in dict\n",
        "  elevations = {}\n",
        "  for region in x.region.unique():\n",
        "    elevations[region] = x[x.region == region]['gps_height'].median()\n",
        "\n",
        "#These looks to be the problem areas. The median values for these regions should not be zeo\n",
        "  zero_regions = ['Dodoma', 'Kagera', 'Mbeya', 'Mwanza', 'Shinyanga', 'Tabora']\n",
        "\n",
        "#I looked up the elevations and imputed the data\n",
        "  elevations['Dodoma'] = 1118\n",
        "  elevations['Kagera'] = 1500\n",
        "  elevations['Mbeya'] = 1700\n",
        "  elevations['Mwanza'] = 1140\n",
        "  elevations['Shinyanga'] = 1128\n",
        "  elevations['Tabora'] = 1191\n",
        "\n",
        "#Use new values to clean zeroes in df based on imputed values\n",
        "  for key in elevations:\n",
        "    if key in zero_regions:\n",
        "      x.loc[x.region == key, 'gps_height'] = elevations[key]\n",
        "  \n",
        "  return x"
      ],
      "execution_count": 0,
      "outputs": []
    },
    {
      "cell_type": "code",
      "metadata": {
        "id": "pgq4RUvzXTQi",
        "colab_type": "code",
        "colab": {}
      },
      "source": [
        "def clean(df):\n",
        "  x = df.copy()\n",
        "  \n",
        "#Clean zeroes, I will infer zero equate to missing data that cant be imputed\n",
        "  zeroes = ['construction_year', 'longitude', 'population']\n",
        "  for col in zeroes:\n",
        "    x[col].replace(to_replace = 0, value = np.NaN, inplace= True)  \n",
        "\n",
        "#eliminate null island values\n",
        "  x['latitude'] = x['latitude'].replace(-2e-08, np.nan)\n",
        "  x['longitude'] = x['longitude'].replace(-2e-08, np.nan)\n",
        "\n",
        "#For consistency, replace latitude values with NaN where longitude contains NaN\n",
        "  x['latitude'] = np.where(x.longitude.isnull(), np.NaN, x.latitude)\n",
        "  \n",
        "#reassgin as datetime object\n",
        "  x.date_recorded = pd.to_datetime(x.date_recorded, infer_datetime_format= True)\n",
        "\n",
        "#impute gps data\n",
        "  x = get_elevations(x)\n",
        "\n",
        "#drop items both high card and duplicates\n",
        "  dropping = ['quantity_group', 'recorded_by','subvillage', 'wpt_name',\n",
        "              'management_group']  \n",
        "  x = x.drop(dropping, axis = 1)\n",
        "\n",
        "#reassign bool values\n",
        "  x['permit'] = np.where(x.permit == True , 1,0)\n",
        "  x['public_meeting'] = np.where(x.public_meeting == True , 1,0)\n",
        "\n",
        "  return x\n"
      ],
      "execution_count": 0,
      "outputs": []
    },
    {
      "cell_type": "code",
      "metadata": {
        "id": "iGWTNzWG1fhY",
        "colab_type": "code",
        "colab": {}
      },
      "source": [
        "X = clean(X)"
      ],
      "execution_count": 0,
      "outputs": []
    },
    {
      "cell_type": "markdown",
      "metadata": {
        "id": "kz25KEvrHA6E",
        "colab_type": "text"
      },
      "source": [
        "##Preliminary Models"
      ]
    },
    {
      "cell_type": "code",
      "metadata": {
        "id": "9B2YL53QHGcv",
        "colab_type": "code",
        "colab": {}
      },
      "source": [
        "#encode objects\n",
        "for col in X.select_dtypes('object').columns.tolist():\n",
        "  if col == 'date_recorded':\n",
        "    continue\n",
        "  #One hot encode low card data\n",
        "  elif len(X[col].unique()) <=10:\n",
        "    encode = ce.OneHotEncoder()\n",
        "    X = pd.concat([X, encode.fit_transform(X[col].astype('str'))], axis = 1,)\n",
        "    X= X.drop(col, axis = 1)\n",
        "  #Label encode high card data  \n",
        "  else:\n",
        "    le = LabelEncoder()\n",
        "    X[col] = le.fit_transform(X[col].astype('str'))  \n",
        "    \n"
      ],
      "execution_count": 0,
      "outputs": []
    },
    {
      "cell_type": "code",
      "metadata": {
        "id": "sr6T7oedjv2g",
        "colab_type": "code",
        "colab": {}
      },
      "source": [
        "#Pop dates and scale data\n",
        "dates = X.pop('date_recorded')\n",
        "\n",
        "X = pd.concat([X,Y], axis = 1)\n",
        "X = X.dropna()\n",
        "\n",
        "Y= X.pop('status_group')\n",
        "\n",
        "X = StandardScaler().fit_transform(X)"
      ],
      "execution_count": 0,
      "outputs": []
    },
    {
      "cell_type": "code",
      "metadata": {
        "id": "M_p4Z5TR6csb",
        "colab_type": "code",
        "colab": {}
      },
      "source": [
        "def select_model(x, y):\n",
        "  #Empty list for modeling,recording, and displaying results\n",
        "  models = []\n",
        "  names = []\n",
        "  results = []\n",
        "  \n",
        "  #select models\n",
        "  models.append(('dt',DecisionTreeClassifier()))\n",
        "  models.append(('gbm',GradientBoostingClassifier()))\n",
        "  models.append(('knn',KNeighborsClassifier()))\n",
        "  \n",
        "  #test and score each model\n",
        "  for name,model in models:\n",
        "    result = cross_val_score(model, x, y, cv=3,)\n",
        "    names.append(name)\n",
        "    results.append(result)\n",
        "  \n",
        "  #display results\n",
        "  for i in range(len(names)):\n",
        "    print(names[i], results[i].mean())"
      ],
      "execution_count": 0,
      "outputs": []
    },
    {
      "cell_type": "code",
      "metadata": {
        "id": "-XyxNyUM7aOw",
        "colab_type": "code",
        "colab": {}
      },
      "source": [
        "#Split data\n",
        "X_train, X_val, y_train, y_val = train_test_split(X, Y,random_state = 42,stratify = Y)\n",
        "\n",
        "select_model(X_train, y_train)"
      ],
      "execution_count": 0,
      "outputs": []
    },
    {
      "cell_type": "code",
      "metadata": {
        "id": "qCP2pLnS9_nh",
        "colab_type": "code",
        "colab": {}
      },
      "source": [
        ""
      ],
      "execution_count": 0,
      "outputs": []
    },
    {
      "cell_type": "code",
      "metadata": {
        "id": "kjbctxgVBE1C",
        "colab_type": "code",
        "colab": {}
      },
      "source": [
        "X = pd.concat([X,Y], axis = 1)"
      ],
      "execution_count": 0,
      "outputs": []
    },
    {
      "cell_type": "code",
      "metadata": {
        "id": "llelEDU2BYfj",
        "colab_type": "code",
        "colab": {}
      },
      "source": [
        "X.head()"
      ],
      "execution_count": 0,
      "outputs": []
    },
    {
      "cell_type": "code",
      "metadata": {
        "id": "CYg5ixyBBtC3",
        "colab_type": "code",
        "colab": {}
      },
      "source": [
        ""
      ],
      "execution_count": 0,
      "outputs": []
    }
  ]
}