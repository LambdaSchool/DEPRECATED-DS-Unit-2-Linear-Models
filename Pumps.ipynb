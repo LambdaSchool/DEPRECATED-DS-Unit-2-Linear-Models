{
  "nbformat": 4,
  "nbformat_minor": 0,
  "metadata": {
    "kernelspec": {
      "display_name": "Python 3",
      "language": "python",
      "name": "python3"
    },
    "language_info": {
      "codemirror_mode": {
        "name": "ipython",
        "version": 3
      },
      "file_extension": ".py",
      "mimetype": "text/x-python",
      "name": "python",
      "nbconvert_exporter": "python",
      "pygments_lexer": "ipython3",
      "version": "3.7.3"
    },
    "colab": {
      "name": "Pumps.ipynb",
      "version": "0.3.2",
      "provenance": []
    }
  },
  "cells": [
    {
      "cell_type": "markdown",
      "metadata": {
        "id": "7jWodqzTT3dX",
        "colab_type": "text"
      },
      "source": [
        "##Import and Fetch"
      ]
    },
    {
      "cell_type": "code",
      "metadata": {
        "id": "CAkmooj0wHc4",
        "colab_type": "code",
        "outputId": "9168981a-c002-4297-c305-8f484b7dcf0e",
        "colab": {
          "base_uri": "https://localhost:8080/",
          "height": 445
        }
      },
      "source": [
        "!pip install pandas_profiling\n",
        "!pip install category_encoders"
      ],
      "execution_count": 1,
      "outputs": [
        {
          "output_type": "stream",
          "text": [
            "Requirement already satisfied: pandas_profiling in /usr/local/lib/python3.6/dist-packages (1.4.1)\n",
            "Requirement already satisfied: six>=1.9 in /usr/local/lib/python3.6/dist-packages (from pandas_profiling) (1.12.0)\n",
            "Requirement already satisfied: pandas>=0.19 in /usr/local/lib/python3.6/dist-packages (from pandas_profiling) (0.24.2)\n",
            "Requirement already satisfied: matplotlib>=1.4 in /usr/local/lib/python3.6/dist-packages (from pandas_profiling) (3.0.3)\n",
            "Requirement already satisfied: jinja2>=2.8 in /usr/local/lib/python3.6/dist-packages (from pandas_profiling) (2.10.1)\n",
            "Requirement already satisfied: numpy>=1.12.0 in /usr/local/lib/python3.6/dist-packages (from pandas>=0.19->pandas_profiling) (1.16.4)\n",
            "Requirement already satisfied: pytz>=2011k in /usr/local/lib/python3.6/dist-packages (from pandas>=0.19->pandas_profiling) (2018.9)\n",
            "Requirement already satisfied: python-dateutil>=2.5.0 in /usr/local/lib/python3.6/dist-packages (from pandas>=0.19->pandas_profiling) (2.5.3)\n",
            "Requirement already satisfied: pyparsing!=2.0.4,!=2.1.2,!=2.1.6,>=2.0.1 in /usr/local/lib/python3.6/dist-packages (from matplotlib>=1.4->pandas_profiling) (2.4.0)\n",
            "Requirement already satisfied: cycler>=0.10 in /usr/local/lib/python3.6/dist-packages (from matplotlib>=1.4->pandas_profiling) (0.10.0)\n",
            "Requirement already satisfied: kiwisolver>=1.0.1 in /usr/local/lib/python3.6/dist-packages (from matplotlib>=1.4->pandas_profiling) (1.1.0)\n",
            "Requirement already satisfied: MarkupSafe>=0.23 in /usr/local/lib/python3.6/dist-packages (from jinja2>=2.8->pandas_profiling) (1.1.1)\n",
            "Requirement already satisfied: setuptools in /usr/local/lib/python3.6/dist-packages (from kiwisolver>=1.0.1->matplotlib>=1.4->pandas_profiling) (41.0.1)\n",
            "Requirement already satisfied: category_encoders in /usr/local/lib/python3.6/dist-packages (2.0.0)\n",
            "Requirement already satisfied: patsy>=0.4.1 in /usr/local/lib/python3.6/dist-packages (from category_encoders) (0.5.1)\n",
            "Requirement already satisfied: numpy>=1.11.3 in /usr/local/lib/python3.6/dist-packages (from category_encoders) (1.16.4)\n",
            "Requirement already satisfied: scikit-learn>=0.20.0 in /usr/local/lib/python3.6/dist-packages (from category_encoders) (0.21.2)\n",
            "Requirement already satisfied: pandas>=0.21.1 in /usr/local/lib/python3.6/dist-packages (from category_encoders) (0.24.2)\n",
            "Requirement already satisfied: scipy>=0.19.0 in /usr/local/lib/python3.6/dist-packages (from category_encoders) (1.3.0)\n",
            "Requirement already satisfied: statsmodels>=0.6.1 in /usr/local/lib/python3.6/dist-packages (from category_encoders) (0.10.0)\n",
            "Requirement already satisfied: six in /usr/local/lib/python3.6/dist-packages (from patsy>=0.4.1->category_encoders) (1.12.0)\n",
            "Requirement already satisfied: joblib>=0.11 in /usr/local/lib/python3.6/dist-packages (from scikit-learn>=0.20.0->category_encoders) (0.13.2)\n",
            "Requirement already satisfied: pytz>=2011k in /usr/local/lib/python3.6/dist-packages (from pandas>=0.21.1->category_encoders) (2018.9)\n",
            "Requirement already satisfied: python-dateutil>=2.5.0 in /usr/local/lib/python3.6/dist-packages (from pandas>=0.21.1->category_encoders) (2.5.3)\n"
          ],
          "name": "stdout"
        }
      ]
    },
    {
      "cell_type": "code",
      "metadata": {
        "id": "6g6nuHjwwHc0",
        "colab_type": "code",
        "colab": {}
      },
      "source": [
        "%matplotlib inline\n",
        "import matplotlib.pyplot as plt\n",
        "\n",
        "import pandas as pd\n",
        "import numpy as np\n",
        "\n",
        "import category_encoders as ce\n",
        "from sklearn.linear_model import LogisticRegression\n",
        "from sklearn.metrics import accuracy_score\n",
        "from sklearn.preprocessing import StandardScaler\n",
        "from sklearn.model_selection import train_test_split\n",
        "\n"
      ],
      "execution_count": 0,
      "outputs": []
    },
    {
      "cell_type": "code",
      "metadata": {
        "id": "bnBigpDQwHc-",
        "colab_type": "code",
        "outputId": "969bd141-4c01-4c68-d50d-7ddaeb61de91",
        "colab": {
          "base_uri": "https://localhost:8080/",
          "height": 765
        }
      },
      "source": [
        "!wget https://raw.githubusercontent.com/LambdaSchool/DS-Unit-2-Linear-Models/master/data/tanzania/train_features.csv\n",
        "!wget https://raw.githubusercontent.com/LambdaSchool/DS-Unit-2-Linear-Models/master/data/tanzania/train_labels.csv\n",
        "!wget https://raw.githubusercontent.com/LambdaSchool/DS-Unit-2-Linear-Models/master/data/tanzania/test_features.csv\n",
        "!wget https://raw.githubusercontent.com/LambdaSchool/DS-Unit-2-Linear-Models/master/data/tanzania/sample_submission.csv"
      ],
      "execution_count": 3,
      "outputs": [
        {
          "output_type": "stream",
          "text": [
            "--2019-07-21 19:49:58--  https://raw.githubusercontent.com/LambdaSchool/DS-Unit-2-Linear-Models/master/data/tanzania/train_features.csv\n",
            "Resolving raw.githubusercontent.com (raw.githubusercontent.com)... 151.101.0.133, 151.101.64.133, 151.101.128.133, ...\n",
            "Connecting to raw.githubusercontent.com (raw.githubusercontent.com)|151.101.0.133|:443... connected.\n",
            "HTTP request sent, awaiting response... 200 OK\n",
            "Length: 20054664 (19M) [text/plain]\n",
            "Saving to: ‘train_features.csv.5’\n",
            "\n",
            "train_features.csv. 100%[===================>]  19.12M  --.-KB/s    in 0.1s    \n",
            "\n",
            "2019-07-21 19:49:58 (151 MB/s) - ‘train_features.csv.5’ saved [20054664/20054664]\n",
            "\n",
            "--2019-07-21 19:49:59--  https://raw.githubusercontent.com/LambdaSchool/DS-Unit-2-Linear-Models/master/data/tanzania/train_labels.csv\n",
            "Resolving raw.githubusercontent.com (raw.githubusercontent.com)... 151.101.0.133, 151.101.64.133, 151.101.128.133, ...\n",
            "Connecting to raw.githubusercontent.com (raw.githubusercontent.com)|151.101.0.133|:443... connected.\n",
            "HTTP request sent, awaiting response... 200 OK\n",
            "Length: 1148327 (1.1M) [text/plain]\n",
            "Saving to: ‘train_labels.csv.5’\n",
            "\n",
            "train_labels.csv.5  100%[===================>]   1.09M  --.-KB/s    in 0.04s   \n",
            "\n",
            "2019-07-21 19:49:59 (25.1 MB/s) - ‘train_labels.csv.5’ saved [1148327/1148327]\n",
            "\n",
            "--2019-07-21 19:49:59--  https://raw.githubusercontent.com/LambdaSchool/DS-Unit-2-Linear-Models/master/data/tanzania/test_features.csv\n",
            "Resolving raw.githubusercontent.com (raw.githubusercontent.com)... 151.101.0.133, 151.101.64.133, 151.101.128.133, ...\n",
            "Connecting to raw.githubusercontent.com (raw.githubusercontent.com)|151.101.0.133|:443... connected.\n",
            "HTTP request sent, awaiting response... 200 OK\n",
            "Length: 4851589 (4.6M) [text/plain]\n",
            "Saving to: ‘test_features.csv.5’\n",
            "\n",
            "test_features.csv.5 100%[===================>]   4.63M  --.-KB/s    in 0.07s   \n",
            "\n",
            "2019-07-21 19:50:00 (68.8 MB/s) - ‘test_features.csv.5’ saved [4851589/4851589]\n",
            "\n",
            "--2019-07-21 19:50:01--  https://raw.githubusercontent.com/LambdaSchool/DS-Unit-2-Linear-Models/master/data/tanzania/sample_submission.csv\n",
            "Resolving raw.githubusercontent.com (raw.githubusercontent.com)... 151.101.0.133, 151.101.64.133, 151.101.128.133, ...\n",
            "Connecting to raw.githubusercontent.com (raw.githubusercontent.com)|151.101.0.133|:443... connected.\n",
            "HTTP request sent, awaiting response... 200 OK\n",
            "Length: 241972 (236K) [text/plain]\n",
            "Saving to: ‘sample_submission.csv.5’\n",
            "\n",
            "sample_submission.c 100%[===================>] 236.30K  --.-KB/s    in 0.03s   \n",
            "\n",
            "2019-07-21 19:50:01 (7.86 MB/s) - ‘sample_submission.csv.5’ saved [241972/241972]\n",
            "\n"
          ],
          "name": "stdout"
        }
      ]
    },
    {
      "cell_type": "code",
      "metadata": {
        "id": "SBIW2d0pwHdE",
        "colab_type": "code",
        "colab": {}
      },
      "source": [
        "import pandas_profiling as pp"
      ],
      "execution_count": 0,
      "outputs": []
    },
    {
      "cell_type": "code",
      "metadata": {
        "id": "wITIAF2JwHdH",
        "colab_type": "code",
        "outputId": "b0d81079-3700-46aa-f1a5-b529d12c8684",
        "colab": {
          "base_uri": "https://localhost:8080/",
          "height": 170
        }
      },
      "source": [
        "!ls"
      ],
      "execution_count": 5,
      "outputs": [
        {
          "output_type": "stream",
          "text": [
            "sample_data\t\t test_features.csv.2   train_features.csv.5\n",
            "sample_submission.csv\t test_features.csv.3   train_labels.csv\n",
            "sample_submission.csv.1  test_features.csv.4   train_labels.csv.1\n",
            "sample_submission.csv.2  test_features.csv.5   train_labels.csv.2\n",
            "sample_submission.csv.3  train_features.csv    train_labels.csv.3\n",
            "sample_submission.csv.4  train_features.csv.1  train_labels.csv.4\n",
            "sample_submission.csv.5  train_features.csv.2  train_labels.csv.5\n",
            "test_features.csv\t train_features.csv.3\n",
            "test_features.csv.1\t train_features.csv.4\n"
          ],
          "name": "stdout"
        }
      ]
    },
    {
      "cell_type": "code",
      "metadata": {
        "id": "xdC1VpD9wHdN",
        "colab_type": "code",
        "colab": {}
      },
      "source": [
        "#load dataframes\n",
        "X = pd.read_csv('train_features.csv')\n",
        "Y = pd.read_csv('train_labels.csv')\n",
        "\n",
        "Y = Y.status_group\n",
        "\n",
        "#Split data\n",
        "X_train, X_val, y_train, y_val = train_test_split(X, Y,random_state = 42,stratify = Y)\n",
        "    "
      ],
      "execution_count": 0,
      "outputs": []
    },
    {
      "cell_type": "code",
      "metadata": {
        "id": "JWBsgbdDwHdQ",
        "colab_type": "code",
        "colab": {}
      },
      "source": [
        "#pp.ProfileReport(X)"
      ],
      "execution_count": 0,
      "outputs": []
    },
    {
      "cell_type": "markdown",
      "metadata": {
        "id": "GETGuxjVT_LW",
        "colab_type": "text"
      },
      "source": [
        "##Baseline"
      ]
    },
    {
      "cell_type": "code",
      "metadata": {
        "id": "oOEuOaWewHdc",
        "colab_type": "code",
        "outputId": "885e363f-582b-4ced-d835-751ff4464229",
        "colab": {
          "base_uri": "https://localhost:8080/",
          "height": 85
        }
      },
      "source": [
        "#Baseline\n",
        "y_train.value_counts(normalize = True)"
      ],
      "execution_count": 8,
      "outputs": [
        {
          "output_type": "execute_result",
          "data": {
            "text/plain": [
              "functional                 0.543075\n",
              "non functional             0.384242\n",
              "functional needs repair    0.072682\n",
              "Name: status_group, dtype: float64"
            ]
          },
          "metadata": {
            "tags": []
          },
          "execution_count": 8
        }
      ]
    },
    {
      "cell_type": "code",
      "metadata": {
        "id": "Ai-vFkvzwHdg",
        "colab_type": "code",
        "outputId": "05f72371-8cbd-4385-93f1-4b9eee139fa4",
        "colab": {
          "base_uri": "https://localhost:8080/",
          "height": 34
        }
      },
      "source": [
        "#get nums from df\n",
        "numericals = X.select_dtypes('number').columns.to_list()\n",
        "print(numericals)"
      ],
      "execution_count": 9,
      "outputs": [
        {
          "output_type": "stream",
          "text": [
            "['id', 'amount_tsh', 'gps_height', 'longitude', 'latitude', 'num_private', 'region_code', 'district_code', 'population', 'construction_year']\n"
          ],
          "name": "stdout"
        }
      ]
    },
    {
      "cell_type": "code",
      "metadata": {
        "id": "jlPcqfpKwHdk",
        "colab_type": "code",
        "outputId": "afadc7c6-56eb-4052-e8c9-b87a7c8c175e",
        "colab": {
          "base_uri": "https://localhost:8080/",
          "height": 68
        }
      },
      "source": [
        "model = LogisticRegression(solver = 'lbfgs', multi_class = 'auto', max_iter = 350)\n",
        "model.fit(X_train[numericals],y_train)\n",
        "model.score(X_val[numericals], y_val)"
      ],
      "execution_count": 10,
      "outputs": [
        {
          "output_type": "stream",
          "text": [
            "/usr/local/lib/python3.6/dist-packages/sklearn/linear_model/logistic.py:947: ConvergenceWarning: lbfgs failed to converge. Increase the number of iterations.\n",
            "  \"of iterations.\", ConvergenceWarning)\n"
          ],
          "name": "stderr"
        },
        {
          "output_type": "execute_result",
          "data": {
            "text/plain": [
              "0.5484848484848485"
            ]
          },
          "metadata": {
            "tags": []
          },
          "execution_count": 10
        }
      ]
    },
    {
      "cell_type": "code",
      "metadata": {
        "id": "wOmHy4CtwHdp",
        "colab_type": "code",
        "outputId": "230efe3c-2d0a-4bf6-ec9c-b6a58b747019",
        "colab": {
          "base_uri": "https://localhost:8080/",
          "height": 34
        }
      },
      "source": [
        "#plot coefficent values for each label\n",
        "fig = plt.figure(figsize = (30,5), )\n",
        "\n",
        "ax = fig.add_subplot(131)\n",
        "coeffs = pd.Series(model.coef_[0], numericals)\n",
        "ax = coeffs.sort_values().plot.barh()\n",
        "ax.set_title(model.classes_[0], color = 'g')\n",
        "\n",
        "ax1 = fig.add_subplot(132)\n",
        "coeffs = pd.Series(model.coef_[1], numericals)\n",
        "ax1 = coeffs.sort_values().plot.barh()\n",
        "ax1.set_title(model.classes_[1], color = 'y')\n",
        "\n",
        "ax2 = fig.add_subplot(133)\n",
        "coeffs = pd.Series(model.coef_[2], numericals)\n",
        "ax2 = coeffs.sort_values().plot.barh()\n",
        "ax2.set_title(model.classes_[2], color = 'r')\n"
      ],
      "execution_count": 11,
      "outputs": [
        {
          "output_type": "execute_result",
          "data": {
            "text/plain": [
              "Text(0.5, 1.0, 'non functional')"
            ]
          },
          "metadata": {
            "tags": []
          },
          "execution_count": 11
        }
      ]
    },
    {
      "cell_type": "markdown",
      "metadata": {
        "id": "pSoJ0sY9TpGI",
        "colab_type": "text"
      },
      "source": [
        "It looks like longitude and region code have some of the largest effects on the model based on the coefficients"
      ]
    },
    {
      "cell_type": "markdown",
      "metadata": {
        "id": "wNVfUAwgXSLE",
        "colab_type": "text"
      },
      "source": [
        "##Cleaning\n"
      ]
    },
    {
      "cell_type": "code",
      "metadata": {
        "id": "UCigo0fC9JKL",
        "colab_type": "code",
        "colab": {
          "base_uri": "https://localhost:8080/",
          "height": 51
        },
        "outputId": "88453a2d-50bf-4993-c005-7d93bcb8cd68"
      },
      "source": [
        "#Check if there are any coordinates in data that are outside of tanzania\n",
        "\n",
        "#28 is west most and 42 is east most boundary  \n",
        "print(X[(X.longitude <28) | (X.longitude > 42)].shape[0])\n",
        "\n",
        "#0 is top most and -12 is lowest boundary\n",
        "print(X[(X.latitude > 0) | (X.latitude < -12)].shape[0]) "
      ],
      "execution_count": 12,
      "outputs": [
        {
          "output_type": "stream",
          "text": [
            "1812\n",
            "0\n"
          ],
          "name": "stdout"
        }
      ]
    },
    {
      "cell_type": "code",
      "metadata": {
        "id": "pgq4RUvzXTQi",
        "colab_type": "code",
        "colab": {}
      },
      "source": [
        "#Clean zeroes, I will infer zero equate to missing data that cant be imputed\n",
        "#There is no clean way to input these values without adding bias\n",
        "zeroes = ['construction_year', 'longitude', 'population']\n",
        "for col in zeroes:\n",
        "  X[col].replace(to_replace = 0, value = np.NaN, inplace= True)  "
      ],
      "execution_count": 0,
      "outputs": []
    },
    {
      "cell_type": "code",
      "metadata": {
        "id": "PsPSHcePZcUy",
        "colab_type": "code",
        "outputId": "b4f4d3d2-5617-4d0d-8863-bff67cb1147c",
        "colab": {
          "base_uri": "https://localhost:8080/",
          "height": 85
        }
      },
      "source": [
        "X[zeroes].isnull().sum()"
      ],
      "execution_count": 15,
      "outputs": [
        {
          "output_type": "execute_result",
          "data": {
            "text/plain": [
              "construction_year    20709\n",
              "longitude             1812\n",
              "population           21381\n",
              "dtype: int64"
            ]
          },
          "metadata": {
            "tags": []
          },
          "execution_count": 15
        }
      ]
    },
    {
      "cell_type": "code",
      "metadata": {
        "id": "dlNnXOh9Ze03",
        "colab_type": "code",
        "colab": {}
      },
      "source": [
        "#eliminate null island values\n",
        "X['latitude'] = X['latitude'].replace(-2e-08, np.nan)\n",
        "X['longitude'] = X['longitude'].replace(-2e-08, np.nan)\n",
        "\n",
        "#For consistency, replace latitude values with NaN where longitude contains NaN\n",
        "X['latitude'] = np.where(X.longitude.isnull(), np.NaN, X.latitude)"
      ],
      "execution_count": 0,
      "outputs": []
    },
    {
      "cell_type": "code",
      "metadata": {
        "colab_type": "code",
        "outputId": "868c71b1-f4a1-4d77-b1a0-28a953e46d4a",
        "id": "s28f1tOkmaqK",
        "colab": {
          "base_uri": "https://localhost:8080/",
          "height": 68
        }
      },
      "source": [
        "X[['latitude', 'longitude']].isnull().sum()"
      ],
      "execution_count": 17,
      "outputs": [
        {
          "output_type": "execute_result",
          "data": {
            "text/plain": [
              "latitude     1812\n",
              "longitude    1812\n",
              "dtype: int64"
            ]
          },
          "metadata": {
            "tags": []
          },
          "execution_count": 17
        }
      ]
    },
    {
      "cell_type": "code",
      "metadata": {
        "id": "Rq7Gu4EumoGs",
        "colab_type": "code",
        "outputId": "010be4dd-59e8-4861-a409-f96e679ae20f",
        "colab": {
          "base_uri": "https://localhost:8080/",
          "height": 374
        }
      },
      "source": [
        "#get and print the median elevations for each region in df\n",
        "elevations={}\n",
        "\n",
        "#Store regions for possible use later?\n",
        "regions = []\n",
        "\n",
        "for region in X.region.unique():\n",
        "  regions.append(region)\n",
        "  elevations[region] = X[X.region == region]['gps_height'].median()\n",
        "\n",
        "elevations"
      ],
      "execution_count": 18,
      "outputs": [
        {
          "output_type": "execute_result",
          "data": {
            "text/plain": [
              "{'Arusha': 1401.0,\n",
              " 'Dar es Salaam': 29.0,\n",
              " 'Dodoma': 0.0,\n",
              " 'Iringa': 1719.0,\n",
              " 'Kagera': 0.0,\n",
              " 'Kigoma': 1274.0,\n",
              " 'Kilimanjaro': 1241.0,\n",
              " 'Lindi': 233.0,\n",
              " 'Manyara': 1474.0,\n",
              " 'Mara': 1295.0,\n",
              " 'Mbeya': 0.0,\n",
              " 'Morogoro': 325.0,\n",
              " 'Mtwara': 285.5,\n",
              " 'Mwanza': 0.0,\n",
              " 'Pwani': 45.0,\n",
              " 'Rukwa': 1484.5,\n",
              " 'Ruvuma': 924.5,\n",
              " 'Shinyanga': 0.0,\n",
              " 'Singida': 1481.0,\n",
              " 'Tabora': 0.0,\n",
              " 'Tanga': 293.0}"
            ]
          },
          "metadata": {
            "tags": []
          },
          "execution_count": 18
        }
      ]
    },
    {
      "cell_type": "code",
      "metadata": {
        "id": "SD7Vswt-ryPj",
        "colab_type": "code",
        "colab": {}
      },
      "source": [
        "#These looks to be the problem areas. The median values for these regions should not be zeo\n",
        "zero_regions = ['Dodoma', 'Kagera', 'Mbeya', 'Mwanza', 'Shinyanga', 'Tabora']\n",
        "\n",
        "#I looked up the elevations and imputed the data\n",
        "elevations['Dodoma'] = 1118\n",
        "elevations['Kagera'] = 1500\n",
        "elevations['Mbeya'] = 1700\n",
        "elevations['Mwanza'] = 1140\n",
        "elevations['Shinyanga'] = 1128\n",
        "elevations['Tabora'] = 1191\n",
        "\n",
        "#Use new values to clean zeroes in df based on imputed values\n",
        "for key in elevations:\n",
        "  if key in zero_regions:\n",
        "    X.loc[X.region == key, 'gps_height'] = elevations[key]"
      ],
      "execution_count": 0,
      "outputs": []
    },
    {
      "cell_type": "code",
      "metadata": {
        "id": "iGWTNzWG1fhY",
        "colab_type": "code",
        "colab": {
          "base_uri": "https://localhost:8080/",
          "height": 297
        },
        "outputId": "4f0f1b71-7b13-448d-8a35-d413cefc8c48"
      },
      "source": [
        "X.describe()"
      ],
      "execution_count": 20,
      "outputs": [
        {
          "output_type": "execute_result",
          "data": {
            "text/html": [
              "<div>\n",
              "<style scoped>\n",
              "    .dataframe tbody tr th:only-of-type {\n",
              "        vertical-align: middle;\n",
              "    }\n",
              "\n",
              "    .dataframe tbody tr th {\n",
              "        vertical-align: top;\n",
              "    }\n",
              "\n",
              "    .dataframe thead th {\n",
              "        text-align: right;\n",
              "    }\n",
              "</style>\n",
              "<table border=\"1\" class=\"dataframe\">\n",
              "  <thead>\n",
              "    <tr style=\"text-align: right;\">\n",
              "      <th></th>\n",
              "      <th>id</th>\n",
              "      <th>amount_tsh</th>\n",
              "      <th>gps_height</th>\n",
              "      <th>longitude</th>\n",
              "      <th>latitude</th>\n",
              "      <th>num_private</th>\n",
              "      <th>region_code</th>\n",
              "      <th>district_code</th>\n",
              "      <th>population</th>\n",
              "      <th>construction_year</th>\n",
              "    </tr>\n",
              "  </thead>\n",
              "  <tbody>\n",
              "    <tr>\n",
              "      <th>count</th>\n",
              "      <td>59400.000000</td>\n",
              "      <td>59400.000000</td>\n",
              "      <td>59400.000000</td>\n",
              "      <td>57588.000000</td>\n",
              "      <td>57588.000000</td>\n",
              "      <td>59400.000000</td>\n",
              "      <td>59400.000000</td>\n",
              "      <td>59400.000000</td>\n",
              "      <td>38019.000000</td>\n",
              "      <td>38691.000000</td>\n",
              "    </tr>\n",
              "    <tr>\n",
              "      <th>mean</th>\n",
              "      <td>37115.131768</td>\n",
              "      <td>317.650385</td>\n",
              "      <td>1108.504865</td>\n",
              "      <td>35.149669</td>\n",
              "      <td>-5.885572</td>\n",
              "      <td>0.474141</td>\n",
              "      <td>15.297003</td>\n",
              "      <td>5.629747</td>\n",
              "      <td>281.087167</td>\n",
              "      <td>1996.814686</td>\n",
              "    </tr>\n",
              "    <tr>\n",
              "      <th>std</th>\n",
              "      <td>21453.128371</td>\n",
              "      <td>2997.574558</td>\n",
              "      <td>550.716500</td>\n",
              "      <td>2.607428</td>\n",
              "      <td>2.809876</td>\n",
              "      <td>12.236230</td>\n",
              "      <td>17.587406</td>\n",
              "      <td>9.633649</td>\n",
              "      <td>564.687660</td>\n",
              "      <td>12.472045</td>\n",
              "    </tr>\n",
              "    <tr>\n",
              "      <th>min</th>\n",
              "      <td>0.000000</td>\n",
              "      <td>0.000000</td>\n",
              "      <td>-90.000000</td>\n",
              "      <td>29.607122</td>\n",
              "      <td>-11.649440</td>\n",
              "      <td>0.000000</td>\n",
              "      <td>1.000000</td>\n",
              "      <td>0.000000</td>\n",
              "      <td>1.000000</td>\n",
              "      <td>1960.000000</td>\n",
              "    </tr>\n",
              "    <tr>\n",
              "      <th>25%</th>\n",
              "      <td>18519.750000</td>\n",
              "      <td>0.000000</td>\n",
              "      <td>836.000000</td>\n",
              "      <td>33.285100</td>\n",
              "      <td>-8.643841</td>\n",
              "      <td>0.000000</td>\n",
              "      <td>5.000000</td>\n",
              "      <td>2.000000</td>\n",
              "      <td>40.000000</td>\n",
              "      <td>1987.000000</td>\n",
              "    </tr>\n",
              "    <tr>\n",
              "      <th>50%</th>\n",
              "      <td>37061.500000</td>\n",
              "      <td>0.000000</td>\n",
              "      <td>1140.000000</td>\n",
              "      <td>35.005943</td>\n",
              "      <td>-5.172704</td>\n",
              "      <td>0.000000</td>\n",
              "      <td>12.000000</td>\n",
              "      <td>3.000000</td>\n",
              "      <td>150.000000</td>\n",
              "      <td>2000.000000</td>\n",
              "    </tr>\n",
              "    <tr>\n",
              "      <th>75%</th>\n",
              "      <td>55656.500000</td>\n",
              "      <td>20.000000</td>\n",
              "      <td>1500.000000</td>\n",
              "      <td>37.233712</td>\n",
              "      <td>-3.372824</td>\n",
              "      <td>0.000000</td>\n",
              "      <td>17.000000</td>\n",
              "      <td>5.000000</td>\n",
              "      <td>324.000000</td>\n",
              "      <td>2008.000000</td>\n",
              "    </tr>\n",
              "    <tr>\n",
              "      <th>max</th>\n",
              "      <td>74247.000000</td>\n",
              "      <td>350000.000000</td>\n",
              "      <td>2770.000000</td>\n",
              "      <td>40.345193</td>\n",
              "      <td>-0.998464</td>\n",
              "      <td>1776.000000</td>\n",
              "      <td>99.000000</td>\n",
              "      <td>80.000000</td>\n",
              "      <td>30500.000000</td>\n",
              "      <td>2013.000000</td>\n",
              "    </tr>\n",
              "  </tbody>\n",
              "</table>\n",
              "</div>"
            ],
            "text/plain": [
              "                 id     amount_tsh  ...    population  construction_year\n",
              "count  59400.000000   59400.000000  ...  38019.000000       38691.000000\n",
              "mean   37115.131768     317.650385  ...    281.087167        1996.814686\n",
              "std    21453.128371    2997.574558  ...    564.687660          12.472045\n",
              "min        0.000000       0.000000  ...      1.000000        1960.000000\n",
              "25%    18519.750000       0.000000  ...     40.000000        1987.000000\n",
              "50%    37061.500000       0.000000  ...    150.000000        2000.000000\n",
              "75%    55656.500000      20.000000  ...    324.000000        2008.000000\n",
              "max    74247.000000  350000.000000  ...  30500.000000        2013.000000\n",
              "\n",
              "[8 rows x 10 columns]"
            ]
          },
          "metadata": {
            "tags": []
          },
          "execution_count": 20
        }
      ]
    },
    {
      "cell_type": "markdown",
      "metadata": {
        "id": "kz25KEvrHA6E",
        "colab_type": "text"
      },
      "source": [
        "##Preliminary Models"
      ]
    },
    {
      "cell_type": "code",
      "metadata": {
        "id": "9B2YL53QHGcv",
        "colab_type": "code",
        "colab": {}
      },
      "source": [
        ""
      ],
      "execution_count": 0,
      "outputs": []
    }
  ]
}