{
 "cells": [
  {
   "cell_type": "markdown",
   "metadata": {
    "colab_type": "text",
    "id": "k3qIxs67dB8u"
   },
   "source": [
    "_Lambda School Data Science — Linear Models_\n",
    "\n",
    "# Understanding Linear Regression\n",
    "\n",
    "#### Objectives\n",
    "- understand how ordinary least squares regression minimizes the sum of squared errors\n",
    "- understand how linear algebra can solve ordinary least squares regression\n",
    "- get and interpret coefficients of a linear model\n",
    "- visualize a line of best fit in 2D, and hyperplane in 3D\n",
    "- use regression metrics: MSE, RMSE, MAE, R^2\n",
    "\n",
    "#### Extra Links\n",
    "- [Statistics 101: Simple Linear Regression](https://www.youtube.com/watch?v=ZkjP5RJLQF4) (20 minute video)\n",
    "- [_An Introduction to Statistical Learning_](http://www-bcf.usc.edu/~gareth/ISL/ISLR%20Seventh%20Printing.pdf), Chapter 3.1, Simple Linear Regression, & 3.2, Multiple Linear Regression\n",
    "- Priceonomics, [The Discovery of Statistical Regression](https://priceonomics.com/the-discovery-of-statistical-regression/)\n",
    "- Priceonomics, [Why the Father of Modern Statistics Didn’t Believe Smoking Caused Cancer](https://priceonomics.com/why-the-father-of-modern-statistics-didnt-believe/)\n",
    "- Harvard Business Review, [When to Act on a Correlation, and When Not To](https://hbr.org/2014/03/when-to-act-on-a-correlation-and-when-not-to)\n",
    "- [xkcd 552: Correlation](https://www.explainxkcd.com/wiki/index.php/552:_Correlation)\n",
    "- [xkcd 1725: Linear Regression](https://www.explainxkcd.com/wiki/index.php/1725:_Linear_Regression)"
   ]
  },
  {
   "cell_type": "markdown",
   "metadata": {
    "colab_type": "text",
    "id": "AN49dLAsrB9p"
   },
   "source": [
    "## What is Linear Regression?\n",
    "\n",
    "[Linear Regression](https://en.wikipedia.org/wiki/Linear_regression) is a statistical model that seeks to describe the relationship between some y variable and one or more x variables. \n",
    "\n",
    "In the simplest case, linear regression seeks to fit a straight line through a cloud of points. This line is referred to as the \"regression line\" or \"line of best fit.\" This line tries to summarize the relationship between our X and Y in a way that enables us to use the equation for that line to make predictions."
   ]
  },
  {
   "cell_type": "code",
   "execution_count": 1,
   "metadata": {
    "colab": {
     "base_uri": "https://localhost:8080/",
     "height": 269
    },
    "colab_type": "code",
    "id": "YpMgFRGTq-Xi",
    "outputId": "44fe9242-bd4c-4687-dde2-5d8d182e66bd"
   },
   "outputs": [
    {
     "data": {
      "image/png": "[encoded data removed]",
      "text/plain": [
       "<Figure size 432x288 with 1 Axes>"
      ]
     },
     "metadata": {
      "needs_background": "light"
     },
     "output_type": "display_data"
    }
   ],
   "source": [
    "%matplotlib inline\n",
    "import seaborn as sns\n",
    "x = [10,  8, 13,  9, 11, 14,  6,  4, 12,  7,  5]\n",
    "y = [ 8,  6,  7,  8,  8,  9,  7,  4, 10,  4,  5]\n",
    "sns.regplot(x, y);"
   ]
  },
  {
   "cell_type": "markdown",
   "metadata": {
    "colab_type": "text",
    "id": "5pizS3rWdB8v"
   },
   "source": [
    "\n",
    "\n",
    "### Synonyms for \"y variable\" \n",
    "- Dependent Variable\n",
    "- Response Variable\n",
    "- Outcome Variable \n",
    "- Predicted Variable\n",
    "- Measured Variable\n",
    "- Explained Variable\n",
    "- Label\n",
    "- Target\n",
    "\n",
    "### Synonyms for \"x variable\"\n",
    "- Independent Variable\n",
    "- Explanatory Variable\n",
    "- Regressor\n",
    "- Covariate\n",
    "- Feature"
   ]
  },
  {
   "cell_type": "markdown",
   "metadata": {
    "colab_type": "text",
    "id": "AkBmrFzcdB8v"
   },
   "source": [
    "## Simple Linear Regresion\n",
    "\n",
    "#### Making Predictions\n",
    "\n",
    "Say that we were trying to create a model that captured the relationship between temperature outside and ice cream sales. In Machine Learning our goal is often different that of other flavors of Linear Regression Analysis, because we're trying to fit a model to this data with the intention of making **predictions** on new data (in the future) that we don't have yet.\n",
    "\n",
    "#### What are we trying to predict?\n",
    "\n",
    "So if we had measured ice cream sales and the temprature outside on 11 different days, at the end of our modeling **what would be the thing that we would want to predict? - Ice Cream Sales or Temperature?**\n",
    "\n",
    "We would probably want to be measuring temperature with the intention of using that to **forecast** ice cream sales. If we were able to successfully forecast ice cream sales from temperature, this might help us know beforehand how much ice cream to make or how many cones to buy or on which days to open our store, etc. Being able to make predictions accurately has a lot of business implications. This is why making accurate predictions is so valuable (And in large part is why data scientists are paid so well).\n",
    "\n",
    "#### y variable intuition\n",
    "\n",
    "We want the thing that we're trying to predict to serve as our **y** variable. This is why it's sometimes called the \"predicted variable.\" We call it the \"dependent\" variable because our prediction for how much ice cream we're going to sell \"depends\" on the temperature outside. \n",
    "\n",
    "#### x variable intuition\n",
    "\n",
    "All other variables that we use to predict our y variable (we're going to start off just using one) we call our **x** variables. These are called our \"independent\" variables because they don't *depend* on y, they \"explain\" y. Hence they are also referred to as our \"explanatory\" variables."
   ]
  },
  {
   "cell_type": "markdown",
   "metadata": {
    "colab_type": "text",
    "id": "JKjLA8aAdB8w"
   },
   "source": [
    "## Example: Predict presidential election voting\n",
    "\n",
    "#### Douglas Hibbs, [Background Information on the ‘Bread and Peace’ Model of Voting in Postwar US Presidential Elections](https://douglas-hibbs.com/background-information-on-bread-and-peace-voting-in-us-presidential-elections/)\n",
    "\n",
    "> Aggregate two-party vote shares going to candidates of the party holding the presidency during the postwar era are well explained by just two fundamental determinants:\n",
    "\n",
    "> (1) Positively by weighted-average growth of per capita real disposable personal income over the term.  \n",
    "> (2) Negatively by cumulative US military fatalities (scaled to population) owing to unprovoked, hostile deployments of American armed forces in foreign wars.\n",
    "\n",
    "#### Data sources\n",
    "- 1952-2012: Douglas Hibbs, [2014 lecture at Deakin University Melbourne](http://www.douglas-hibbs.com/HibbsArticles/HIBBS-PRESVOTE-SLIDES-MELBOURNE-Part1-2014-02-26.pdf), Slide 40\n",
    "- 2016, Vote Share: [The American Presidency Project](https://www.presidency.ucsb.edu/statistics/elections)\n",
    "- 2016, Recent Growth in Personal Incomes: [The 2016 election economy: the \"Bread and Peace\" model final forecast](https://angrybearblog.com/2016/11/the-2016-election-economy-the-bread-and-peace-model-final-forecast.html)\n",
    "- 2016, US Military Fatalities: Assumption that Afghanistan War fatalities in 2012-16 occured at the same rate as 2008-12"
   ]
  },
  {
   "cell_type": "code",
   "execution_count": 2,
   "metadata": {
    "colab": {},
    "colab_type": "code",
    "id": "4ohXjHbUdB8x"
   },
   "outputs": [],
   "source": [
    "import pandas as pd\n",
    "\n",
    "columns = ['Year','Incumbent Party Candidate','Other Candidate','Incumbent Party Vote Share']\n",
    "\n",
    "data = [[1952,\"Stevenson\",\"Eisenhower\",44.6],\n",
    "        [1956,\"Eisenhower\",\"Stevenson\",57.76],\n",
    "        [1960,\"Nixon\",\"Kennedy\",49.91],\n",
    "        [1964,\"Johnson\",\"Goldwater\",61.34],\n",
    "        [1968,\"Humphrey\",\"Nixon\",49.60],\n",
    "        [1972,\"Nixon\",\"McGovern\",61.79],\n",
    "        [1976,\"Ford\",\"Carter\",48.95],\n",
    "        [1980,\"Carter\",\"Reagan\",44.70],\n",
    "        [1984,\"Reagan\",\"Mondale\",59.17],\n",
    "        [1988,\"Bush, Sr.\",\"Dukakis\",53.94],\n",
    "        [1992,\"Bush, Sr.\",\"Clinton\",46.55],\n",
    "        [1996,\"Clinton\",\"Dole\",54.74],\n",
    "        [2000,\"Gore\",\"Bush, Jr.\",50.27],\n",
    "        [2004,\"Bush, Jr.\",\"Kerry\",51.24],\n",
    "        [2008,\"McCain\",\"Obama\",46.32],\n",
    "        [2012,\"Obama\",\"Romney\",52.00], \n",
    "        [2016,\"Clinton\",\"Trump\",48.2]]\n",
    "        \n",
    "votes = pd.DataFrame(data=data, columns=columns)"
   ]
  },
  {
   "cell_type": "code",
   "execution_count": 3,
   "metadata": {
    "colab": {},
    "colab_type": "code",
    "id": "7R679kBPdB8z"
   },
   "outputs": [],
   "source": [
    "columns = ['Year','Average Recent Growth in Personal Incomes']\n",
    "\n",
    "data = [[1952,2.40],\n",
    "        [1956,2.89],\n",
    "        [1960, .85],\n",
    "        [1964,4.21],\n",
    "        [1968,3.02],\n",
    "        [1972,3.62],\n",
    "        [1976,1.08],\n",
    "        [1980,-.39],\n",
    "        [1984,3.86],\n",
    "        [1988,2.27],\n",
    "        [1992, .38],\n",
    "        [1996,1.04],\n",
    "        [2000,2.36],\n",
    "        [2004,1.72],\n",
    "        [2008, .10],\n",
    "        [2012, .95], \n",
    "        [2016, .10]]\n",
    "        \n",
    "growth = pd.DataFrame(data=data, columns=columns)"
   ]
  },
  {
   "cell_type": "code",
   "execution_count": 4,
   "metadata": {
    "colab": {},
    "colab_type": "code",
    "id": "5654kSpOdB81"
   },
   "outputs": [],
   "source": [
    "\"\"\"\n",
    "Fatalities denotes the cumulative number of American military\n",
    "fatalities per millions of US population the in Korea, Vietnam,\n",
    "Iraq and Afghanistan wars during the presidential terms\n",
    "preceding the 1952, 1964, 1968, 1976 and 2004, 2008 and\n",
    "2012 elections.\n",
    "\n",
    "http://www.douglas-hibbs.com/HibbsArticles/HIBBS-PRESVOTE-SLIDES-MELBOURNE-Part1-2014-02-26.pdf\n",
    "\"\"\"\n",
    "\n",
    "columns = ['Year','US Military Fatalities per Million']\n",
    "\n",
    "data = [[1952,190],\n",
    "        [1956,  0],\n",
    "        [1960,  0],\n",
    "        [1964,  1],\n",
    "        [1968,146],\n",
    "        [1972,  0],\n",
    "        [1976,  2],\n",
    "        [1980,  0],\n",
    "        [1984,  0],\n",
    "        [1988,  0],\n",
    "        [1992,  0],\n",
    "        [1996,  0],\n",
    "        [2000,  0],\n",
    "        [2004,  4],\n",
    "        [2008, 14],\n",
    "        [2012,  5], \n",
    "        [2016,  5]]\n",
    "        \n",
    "deaths = pd.DataFrame(data=data, columns=columns)"
   ]
  },
  {
   "cell_type": "code",
   "execution_count": 5,
   "metadata": {
    "colab": {},
    "colab_type": "code",
    "id": "YyneMpsAdB9E"
   },
   "outputs": [],
   "source": [
    "df = votes.merge(growth).merge(deaths)"
   ]
  },
  {
   "cell_type": "code",
   "execution_count": 6,
   "metadata": {},
   "outputs": [
    {
     "data": {
      "text/html": [
       "<div>\n",
       "<style scoped>\n",
       "    .dataframe tbody tr th:only-of-type {\n",
       "        vertical-align: middle;\n",
       "    }\n",
       "\n",
       "    .dataframe tbody tr th {\n",
       "        vertical-align: top;\n",
       "    }\n",
       "\n",
       "    .dataframe thead th {\n",
       "        text-align: right;\n",
       "    }\n",
       "</style>\n",
       "<table border=\"1\" class=\"dataframe\">\n",
       "  <thead>\n",
       "    <tr style=\"text-align: right;\">\n",
       "      <th></th>\n",
       "      <th>Year</th>\n",
       "      <th>Incumbent Party Candidate</th>\n",
       "      <th>Other Candidate</th>\n",
       "      <th>Incumbent Party Vote Share</th>\n",
       "      <th>Average Recent Growth in Personal Incomes</th>\n",
       "      <th>US Military Fatalities per Million</th>\n",
       "    </tr>\n",
       "  </thead>\n",
       "  <tbody>\n",
       "    <tr>\n",
       "      <th>0</th>\n",
       "      <td>1952</td>\n",
       "      <td>Stevenson</td>\n",
       "      <td>Eisenhower</td>\n",
       "      <td>44.60</td>\n",
       "      <td>2.40</td>\n",
       "      <td>190</td>\n",
       "    </tr>\n",
       "    <tr>\n",
       "      <th>1</th>\n",
       "      <td>1956</td>\n",
       "      <td>Eisenhower</td>\n",
       "      <td>Stevenson</td>\n",
       "      <td>57.76</td>\n",
       "      <td>2.89</td>\n",
       "      <td>0</td>\n",
       "    </tr>\n",
       "    <tr>\n",
       "      <th>2</th>\n",
       "      <td>1960</td>\n",
       "      <td>Nixon</td>\n",
       "      <td>Kennedy</td>\n",
       "      <td>49.91</td>\n",
       "      <td>0.85</td>\n",
       "      <td>0</td>\n",
       "    </tr>\n",
       "    <tr>\n",
       "      <th>3</th>\n",
       "      <td>1964</td>\n",
       "      <td>Johnson</td>\n",
       "      <td>Goldwater</td>\n",
       "      <td>61.34</td>\n",
       "      <td>4.21</td>\n",
       "      <td>1</td>\n",
       "    </tr>\n",
       "    <tr>\n",
       "      <th>4</th>\n",
       "      <td>1968</td>\n",
       "      <td>Humphrey</td>\n",
       "      <td>Nixon</td>\n",
       "      <td>49.60</td>\n",
       "      <td>3.02</td>\n",
       "      <td>146</td>\n",
       "    </tr>\n",
       "    <tr>\n",
       "      <th>5</th>\n",
       "      <td>1972</td>\n",
       "      <td>Nixon</td>\n",
       "      <td>McGovern</td>\n",
       "      <td>61.79</td>\n",
       "      <td>3.62</td>\n",
       "      <td>0</td>\n",
       "    </tr>\n",
       "    <tr>\n",
       "      <th>6</th>\n",
       "      <td>1976</td>\n",
       "      <td>Ford</td>\n",
       "      <td>Carter</td>\n",
       "      <td>48.95</td>\n",
       "      <td>1.08</td>\n",
       "      <td>2</td>\n",
       "    </tr>\n",
       "    <tr>\n",
       "      <th>7</th>\n",
       "      <td>1980</td>\n",
       "      <td>Carter</td>\n",
       "      <td>Reagan</td>\n",
       "      <td>44.70</td>\n",
       "      <td>-0.39</td>\n",
       "      <td>0</td>\n",
       "    </tr>\n",
       "    <tr>\n",
       "      <th>8</th>\n",
       "      <td>1984</td>\n",
       "      <td>Reagan</td>\n",
       "      <td>Mondale</td>\n",
       "      <td>59.17</td>\n",
       "      <td>3.86</td>\n",
       "      <td>0</td>\n",
       "    </tr>\n",
       "    <tr>\n",
       "      <th>9</th>\n",
       "      <td>1988</td>\n",
       "      <td>Bush, Sr.</td>\n",
       "      <td>Dukakis</td>\n",
       "      <td>53.94</td>\n",
       "      <td>2.27</td>\n",
       "      <td>0</td>\n",
       "    </tr>\n",
       "    <tr>\n",
       "      <th>10</th>\n",
       "      <td>1992</td>\n",
       "      <td>Bush, Sr.</td>\n",
       "      <td>Clinton</td>\n",
       "      <td>46.55</td>\n",
       "      <td>0.38</td>\n",
       "      <td>0</td>\n",
       "    </tr>\n",
       "    <tr>\n",
       "      <th>11</th>\n",
       "      <td>1996</td>\n",
       "      <td>Clinton</td>\n",
       "      <td>Dole</td>\n",
       "      <td>54.74</td>\n",
       "      <td>1.04</td>\n",
       "      <td>0</td>\n",
       "    </tr>\n",
       "    <tr>\n",
       "      <th>12</th>\n",
       "      <td>2000</td>\n",
       "      <td>Gore</td>\n",
       "      <td>Bush, Jr.</td>\n",
       "      <td>50.27</td>\n",
       "      <td>2.36</td>\n",
       "      <td>0</td>\n",
       "    </tr>\n",
       "    <tr>\n",
       "      <th>13</th>\n",
       "      <td>2004</td>\n",
       "      <td>Bush, Jr.</td>\n",
       "      <td>Kerry</td>\n",
       "      <td>51.24</td>\n",
       "      <td>1.72</td>\n",
       "      <td>4</td>\n",
       "    </tr>\n",
       "    <tr>\n",
       "      <th>14</th>\n",
       "      <td>2008</td>\n",
       "      <td>McCain</td>\n",
       "      <td>Obama</td>\n",
       "      <td>46.32</td>\n",
       "      <td>0.10</td>\n",
       "      <td>14</td>\n",
       "    </tr>\n",
       "    <tr>\n",
       "      <th>15</th>\n",
       "      <td>2012</td>\n",
       "      <td>Obama</td>\n",
       "      <td>Romney</td>\n",
       "      <td>52.00</td>\n",
       "      <td>0.95</td>\n",
       "      <td>5</td>\n",
       "    </tr>\n",
       "    <tr>\n",
       "      <th>16</th>\n",
       "      <td>2016</td>\n",
       "      <td>Clinton</td>\n",
       "      <td>Trump</td>\n",
       "      <td>48.20</td>\n",
       "      <td>0.10</td>\n",
       "      <td>5</td>\n",
       "    </tr>\n",
       "  </tbody>\n",
       "</table>\n",
       "</div>"
      ],
      "text/plain": [
       "    Year Incumbent Party Candidate Other Candidate  \\\n",
       "0   1952                 Stevenson      Eisenhower   \n",
       "1   1956                Eisenhower       Stevenson   \n",
       "2   1960                     Nixon         Kennedy   \n",
       "3   1964                   Johnson       Goldwater   \n",
       "4   1968                  Humphrey           Nixon   \n",
       "5   1972                     Nixon        McGovern   \n",
       "6   1976                      Ford          Carter   \n",
       "7   1980                    Carter          Reagan   \n",
       "8   1984                    Reagan         Mondale   \n",
       "9   1988                 Bush, Sr.         Dukakis   \n",
       "10  1992                 Bush, Sr.         Clinton   \n",
       "11  1996                   Clinton            Dole   \n",
       "12  2000                      Gore       Bush, Jr.   \n",
       "13  2004                 Bush, Jr.           Kerry   \n",
       "14  2008                    McCain           Obama   \n",
       "15  2012                     Obama          Romney   \n",
       "16  2016                   Clinton           Trump   \n",
       "\n",
       "    Incumbent Party Vote Share  Average Recent Growth in Personal Incomes  \\\n",
       "0                        44.60                                       2.40   \n",
       "1                        57.76                                       2.89   \n",
       "2                        49.91                                       0.85   \n",
       "3                        61.34                                       4.21   \n",
       "4                        49.60                                       3.02   \n",
       "5                        61.79                                       3.62   \n",
       "6                        48.95                                       1.08   \n",
       "7                        44.70                                      -0.39   \n",
       "8                        59.17                                       3.86   \n",
       "9                        53.94                                       2.27   \n",
       "10                       46.55                                       0.38   \n",
       "11                       54.74                                       1.04   \n",
       "12                       50.27                                       2.36   \n",
       "13                       51.24                                       1.72   \n",
       "14                       46.32                                       0.10   \n",
       "15                       52.00                                       0.95   \n",
       "16                       48.20                                       0.10   \n",
       "\n",
       "    US Military Fatalities per Million  \n",
       "0                                  190  \n",
       "1                                    0  \n",
       "2                                    0  \n",
       "3                                    1  \n",
       "4                                  146  \n",
       "5                                    0  \n",
       "6                                    2  \n",
       "7                                    0  \n",
       "8                                    0  \n",
       "9                                    0  \n",
       "10                                   0  \n",
       "11                                   0  \n",
       "12                                   0  \n",
       "13                                   4  \n",
       "14                                  14  \n",
       "15                                   5  \n",
       "16                                   5  "
      ]
     },
     "execution_count": 6,
     "metadata": {},
     "output_type": "execute_result"
    }
   ],
   "source": [
    "df"
   ]
  },
  {
   "cell_type": "markdown",
   "metadata": {
    "colab_type": "text",
    "id": "KsslMxfHdB9N"
   },
   "source": [
    "### Plot univariate correlations\n",
    "[Seaborn tutorial: Visualizing linear relationships](https://seaborn.pydata.org/tutorial/regression.html)"
   ]
  },
  {
   "cell_type": "code",
   "execution_count": 7,
   "metadata": {
    "colab": {},
    "colab_type": "code",
    "id": "QDlIwG-mdB9N",
    "scrolled": false
   },
   "outputs": [
    {
     "data": {
      "image/png": "[encoded data removed]",
      "text/plain": [
       "<Figure size 360x360 with 1 Axes>"
      ]
     },
     "metadata": {
      "needs_background": "light"
     },
     "output_type": "display_data"
    },
    {
     "data": {
      "image/png": "[encoded data removed]",
      "text/plain": [
       "<Figure size 360x360 with 1 Axes>"
      ]
     },
     "metadata": {
      "needs_background": "light"
     },
     "output_type": "display_data"
    }
   ],
   "source": [
    "%matplotlib inline\n",
    "import seaborn as sns\n",
    "\n",
    "target = 'Incumbent Party Vote Share'\n",
    "features = ['Average Recent Growth in Personal Incomes', \n",
    "            'US Military Fatalities per Million']\n",
    "\n",
    "for feature in features:\n",
    "    sns.lmplot(x=feature, y=target, data=df)"
   ]
  },
  {
   "cell_type": "markdown",
   "metadata": {
    "colab_type": "text",
    "id": "Hnt0FvBddB9Q"
   },
   "source": [
    "We can see from the scatterplot that these data points seem to follow a somewhat linear relationship for the \"Average Recent Growth in Personal Incomes\" feature. This means that we could probably summarize their relationship well by fitting a line of best fit to these points. Lets do it.\n",
    "\n",
    "\n",
    "## The Equation for a Line\n",
    "\n",
    "A common equation for a line is:\n",
    "\n",
    "\\begin{align}\n",
    "y = mx + b\n",
    "\\end{align}\n",
    "\n",
    "Where $m$ is the slope of our line and $b$ is the y-intercept. \n",
    "\n",
    "If we want to plot a line through our cloud of points we figure out what these two values should be. Linear Regression seeks to **estimate** the slope and intercept values that describe a line that best fits the data points."
   ]
  },
  {
   "cell_type": "markdown",
   "metadata": {
    "colab_type": "text",
    "id": "h2j_yV-sdB9R"
   },
   "source": [
    "## The Anatomy of Linear Regression\n",
    "\n",
    "- Intercept: The $b$ value in our line equation $y=mx+b$\n",
    "- Slope: The $m$ value in our line equation $y=mx+b$. These two values together define our regression line.\n",
    "- $\\hat{y}$ : A prediction\n",
    "- Line of Best Fit (Regression Line)\n",
    "- Predicted (fitted) Values: Points on our regression line\n",
    "- Observed Values: Points from our dataset\n",
    "- Error: The distance between predicted and observed values.\n"
   ]
  },
  {
   "cell_type": "markdown",
   "metadata": {
    "colab_type": "text",
    "id": "ZwELnPXZFzt8"
   },
   "source": [
    "Ordinary Least Squares Regression is a way to solve for $m$ and $b$.\n",
    "\n",
    "Let's start by seeing what would happen if we just guessed and checked some values for $m$ and $b$. \n",
    "\n",
    "What's the line of \"best\" fit look like? What's the error?\n"
   ]
  },
  {
   "cell_type": "code",
   "execution_count": 8,
   "metadata": {
    "colab": {},
    "colab_type": "code",
    "id": "sv-goEV4dB9R"
   },
   "outputs": [
    {
     "data": {
      "text/plain": [
       "0     21.588235\n",
       "1     21.588235\n",
       "2     21.588235\n",
       "3     21.588235\n",
       "4     21.588235\n",
       "5     21.588235\n",
       "6     21.588235\n",
       "7     21.588235\n",
       "8     21.588235\n",
       "9     21.588235\n",
       "10    21.588235\n",
       "11    21.588235\n",
       "12    21.588235\n",
       "13    21.588235\n",
       "14    21.588235\n",
       "15    21.588235\n",
       "16    21.588235\n",
       "Name: Average Recent Growth in Personal Incomes, dtype: float64"
      ]
     },
     "execution_count": 8,
     "metadata": {},
     "output_type": "execute_result"
    }
   ],
   "source": [
    "x = df['Average Recent Growth in Personal Incomes']\n",
    "y = df['US Military Fatalities per Million']\n",
    "\n",
    "m = 0\n",
    "b = y.mean()\n",
    "y_pred = m*x + b\n",
    "\n",
    "y_pred"
   ]
  },
  {
   "cell_type": "code",
   "execution_count": 9,
   "metadata": {},
   "outputs": [],
   "source": [
    "from sklearn.metrics import mean_absolute_error as mae\n",
    "from sklearn.metrics import r2_score\n",
    "import matplotlib.pyplot as plt\n",
    "\n",
    "def plot_preds(x, y, y_pred):\n",
    "    plt.scatter(x, y, label='y_true')\n",
    "    plt.plot(x, y_pred, label ='y_pred')\n",
    "    plt.legend()\n",
    "    mean = mae(y, y_pred)\n",
    "    r2 = r2_score(y, y_pred)\n",
    "    print('Mean Absolute Error:', mean)\n",
    "    print('R^2 Score:', r2)"
   ]
  },
  {
   "cell_type": "code",
   "execution_count": 10,
   "metadata": {},
   "outputs": [
    {
     "name": "stdout",
     "output_type": "stream",
     "text": [
      "Mean Absolute Error: 34.44982698961938\n",
      "R^2 Score: 0.0\n"
     ]
    },
    {
     "data": {
      "image/png": "[encoded data removed]",
      "text/plain": [
       "<Figure size 432x288 with 1 Axes>"
      ]
     },
     "metadata": {
      "needs_background": "light"
     },
     "output_type": "display_data"
    }
   ],
   "source": [
    "plot_preds(x, y, y_pred)\n"
   ]
  },
  {
   "cell_type": "markdown",
   "metadata": {
    "colab_type": "text",
    "id": "XoFgNKrpdB9T"
   },
   "source": [
    "## R Squared:  $R^2$\n",
    "\n",
    "One final attribute of linear regressions that we're going to talk about today is a measure of goodness of fit known as $R^2$ or R-squared. $R^2$ is a statistical measure of how close the data are fitted to our regression line. A helpful interpretation for the $R^2$ is the percentage of the dependent variable that is explained by the model.\n",
    "\n",
    "In other words, the $R^2$ is the percentage of y that is explained by the x variables included in the model. For this reason the $R^2$ is also known as the \"coefficient of determination,\" because it explains how much of y is explained (or determined) by our x varaibles. We won't go into the calculation of $R^2$ today, just know that a higher $R^2$ percentage is nearly always better and indicates a model that fits the data more closely. "
   ]
  },
  {
   "cell_type": "markdown",
   "metadata": {
    "colab_type": "text",
    "id": "tEnpH_RDdB9U"
   },
   "source": [
    "## Residual Error \n",
    "\n",
    "The residual error is the distance between points in our dataset and our regression line."
   ]
  },
  {
   "cell_type": "code",
   "execution_count": 11,
   "metadata": {
    "colab": {},
    "colab_type": "code",
    "id": "KmnoUUHKdB9V"
   },
   "outputs": [
    {
     "name": "stdout",
     "output_type": "stream",
     "text": [
      "Mean Absolute Error: <function mean_absolute_error at 0x1a2657c840>\n",
      "R^2: 0.5799637280695265\n"
     ]
    },
    {
     "data": {
      "image/png": "[encoded data removed]",
      "text/plain": [
       "<Figure size 432x288 with 1 Axes>"
      ]
     },
     "metadata": {
      "needs_background": "light"
     },
     "output_type": "display_data"
    }
   ],
   "source": [
    "def regression_residuals(df, feature, target, m, b):\n",
    "    x = df[feature]\n",
    "    y = df[target]\n",
    "    y_pred = m*x + b\n",
    "    \n",
    "    plt.scatter(x, y, label='y_true')\n",
    "    plt.plot(x, y_pred, label='y_pred')\n",
    "    plt.legend()\n",
    "    \n",
    "    # Plot residual errors\n",
    "    for x, y1, y2 in zip(x, y, y_pred):\n",
    "        plt.plot((x, x), (y1, y2), color='red')\n",
    "        \n",
    "    mean = mae(y, y_pred) \n",
    "    r2 = r2_score(y, y_pred)\n",
    "    print('Mean Absolute Error:', mae)\n",
    "    print('R^2:', r2)\n",
    "        \n",
    "regression_residuals(df, feature='Average Recent Growth in Personal Incomes', \n",
    "                     target='Incumbent Party Vote Share', m=3, b=46)"
   ]
  },
  {
   "cell_type": "code",
   "execution_count": 12,
   "metadata": {
    "colab": {},
    "colab_type": "code",
    "id": "HedRkOBEdB9X"
   },
   "outputs": [
    {
     "data": {
      "application/vnd.jupyter.widget-view+json": {
       "model_id": "ce15b17838e440e69e4641030c488f6b",
       "version_major": 2,
       "version_minor": 0
      },
      "text/plain": [
       "interactive(children=(FloatSlider(value=0.0, description='m', max=10.0, min=-10.0, step=0.5), FloatSlider(valu…"
      ]
     },
     "metadata": {},
     "output_type": "display_data"
    }
   ],
   "source": [
    "from ipywidgets import interact, fixed\n",
    "\n",
    "interact(regression_residuals, \n",
    "         df=fixed(df), \n",
    "         feature=fixed('Average Recent Growth in Personal Incomes'), \n",
    "         target=fixed('Incumbent Party Vote Share'), \n",
    "         m=(-10,10,0.5), \n",
    "         b=(40,60,0.5));"
   ]
  },
  {
   "cell_type": "markdown",
   "metadata": {
    "colab_type": "text",
    "id": "uKWKFpcidB9Y"
   },
   "source": [
    "## More Formal Notation\n",
    "\n",
    "<img src=\"https://cdn-images-1.medium.com/max/1436/1*_TqRJ9SmwFzRigJhMiN2uw.png\" width=\"600\">\n",
    "\n",
    "We have talked about a line of regression being represented like a regular line $y=mx+b$ but as we get to more complicated versions we're going to need to extend this equation. So lets establish the proper terminology.\n",
    "\n",
    "**X** - Independent Variable, predictor variable, explanatory variable, regressor, covariate\n",
    "\n",
    "**Y** - Response variable, predicted variable, measured vairable, explained variable, outcome variable\n",
    "\n",
    "$\\beta_0$ - \"Beta Naught\" or \"Beta Zero\", the intercept value. This is how much of y would exist if X were zero. This is sometimes represented by the letter \"a\" but I hate that. So it's \"Beta 0\" during my lecture.\n",
    "\n",
    "$\\beta_1$ - \"Beta One\" The primary coefficient of interest. This values is the slope of the line that is estimated by \"minimizing the sum of the squared errors/residuals\" - We'll get to that. \n",
    "\n",
    "$\\epsilon$ - \"Epsilon\" The \"error term\", random noise, things outside of our model that affect y."
   ]
  },
  {
   "cell_type": "markdown",
   "metadata": {
    "colab_type": "text",
    "id": "DlhU7ewgdB9Y"
   },
   "source": [
    "## Minimizing the Sum of the Squared Error\n",
    "\n",
    "The most common method of estimating our $\\beta$ parameters  is what's known as \"Ordinary Least Squares\" (OLS). (There are different methods of arriving at a line of best fit). OLS estimates the parameters that minimize the squared distance between each point in our dataset and our line of best fit. \n",
    "\n",
    "\\begin{align}\n",
    "SSE = \\sum(y_i - \\hat{y})^2\n",
    "\\end{align}\n"
   ]
  },
  {
   "cell_type": "code",
   "execution_count": 17,
   "metadata": {
    "colab": {},
    "colab_type": "code",
    "id": "DWOfefPGdB9Z"
   },
   "outputs": [
    {
     "name": "stdout",
     "output_type": "stream",
     "text": [
      "Mean Squared Error: 2.556470588235295\n",
      "Root Mean Squared Error: 1.5988966784114897\n",
      "Mean Absolute Error: 2.556470588235295\n",
      "R^2: 0.5799637280695265\n"
     ]
    },
    {
     "data": {
      "image/png": "[encoded data removed]",
      "text/plain": [
       "<Figure size 504x504 with 1 Axes>"
      ]
     },
     "metadata": {
      "needs_background": "light"
     },
     "output_type": "display_data"
    }
   ],
   "source": [
    "from matplotlib.patches import Rectangle\n",
    "import numpy as np\n",
    "from sklearn.metrics import mean_squared_error\n",
    "\n",
    "def regression_squared_errors(df, feature, target, m, b):\n",
    "    x = df[feature]\n",
    "    y = df[target]\n",
    "    y_pred = m*x + b\n",
    "    \n",
    "    fig = plt.figure(figsize=(7,7))\n",
    "    ax = plt.axes()\n",
    "    ax.scatter(x, y, label='y_true')\n",
    "    ax.plot(x, y_pred, label='y_pred')\n",
    "    ax.legend()\n",
    "    \n",
    "    # Plot square errors\n",
    "    xmin, xmax = ax.get_xlim()\n",
    "    ymin, ymax = ax.get_ylim()\n",
    "    scale = (xmax-xmin)/(ymax-ymin)\n",
    "    for x, y1, y2 in zip(x, y, y_pred):\n",
    "        bottom_left = (x, min(y1, y2))\n",
    "        height = abs(y1 - y2)\n",
    "        width = height * scale\n",
    "        ax.add_patch(Rectangle(xy=bottom_left, width=width, height=height, alpha=0.1))\n",
    "        \n",
    "    mean_s = mae(y, y_pred)\n",
    "    rmse = np.sqrt(mean_s)\n",
    "    mean_2 = mae(y, y_pred)\n",
    "    r2 = r2_score(y, y_pred)\n",
    "    print('Mean Squared Error:', mean_2)\n",
    "    print('Root Mean Squared Error:', rmse)\n",
    "    print('Mean Absolute Error:', mean_s)\n",
    "    print('R^2:', r2)\n",
    "    \n",
    "regression_squared_errors(df, feature='Average Recent Growth in Personal Incomes', \n",
    "           target='Incumbent Party Vote Share', m=3, b=46)"
   ]
  },
  {
   "cell_type": "code",
   "execution_count": 18,
   "metadata": {
    "colab": {},
    "colab_type": "code",
    "id": "wY9Wvv-YdB9c"
   },
   "outputs": [
    {
     "data": {
      "application/vnd.jupyter.widget-view+json": {
       "model_id": "28b2ee0e4fcc41599cf823bece654282",
       "version_major": 2,
       "version_minor": 0
      },
      "text/plain": [
       "interactive(children=(FloatSlider(value=0.0, description='m', max=10.0, min=-10.0, step=0.5), FloatSlider(valu…"
      ]
     },
     "metadata": {},
     "output_type": "display_data"
    }
   ],
   "source": [
    "interact(regression_squared_errors, \n",
    "         df=fixed(df), \n",
    "         feature=fixed('Average Recent Growth in Personal Incomes'), \n",
    "         target=fixed('Incumbent Party Vote Share'), \n",
    "         m=(-10,10,0.5), \n",
    "         b=(40,60,0.5));"
   ]
  },
  {
   "cell_type": "markdown",
   "metadata": {
    "colab_type": "text",
    "id": "JENtcq0qdB9d"
   },
   "source": [
    "## Hypotheses"
   ]
  },
  {
   "cell_type": "code",
   "execution_count": 19,
   "metadata": {
    "colab": {},
    "colab_type": "code",
    "id": "SyGDRdXkdB9e"
   },
   "outputs": [
    {
     "data": {
      "text/html": [
       "<div>\n",
       "<style scoped>\n",
       "    .dataframe tbody tr th:only-of-type {\n",
       "        vertical-align: middle;\n",
       "    }\n",
       "\n",
       "    .dataframe tbody tr th {\n",
       "        vertical-align: top;\n",
       "    }\n",
       "\n",
       "    .dataframe thead th {\n",
       "        text-align: right;\n",
       "    }\n",
       "</style>\n",
       "<table border=\"1\" class=\"dataframe\">\n",
       "  <thead>\n",
       "    <tr style=\"text-align: right;\">\n",
       "      <th></th>\n",
       "      <th>Slope</th>\n",
       "      <th>Intercept</th>\n",
       "      <th>Sum of Square Errors</th>\n",
       "    </tr>\n",
       "  </thead>\n",
       "  <tbody>\n",
       "    <tr>\n",
       "      <th>0</th>\n",
       "      <td>-10.0</td>\n",
       "      <td>46</td>\n",
       "      <td>15215.58740</td>\n",
       "    </tr>\n",
       "    <tr>\n",
       "      <th>1</th>\n",
       "      <td>-9.5</td>\n",
       "      <td>46</td>\n",
       "      <td>14095.52845</td>\n",
       "    </tr>\n",
       "    <tr>\n",
       "      <th>2</th>\n",
       "      <td>-9.0</td>\n",
       "      <td>46</td>\n",
       "      <td>13018.88500</td>\n",
       "    </tr>\n",
       "    <tr>\n",
       "      <th>3</th>\n",
       "      <td>-8.5</td>\n",
       "      <td>46</td>\n",
       "      <td>11985.65705</td>\n",
       "    </tr>\n",
       "    <tr>\n",
       "      <th>4</th>\n",
       "      <td>-8.0</td>\n",
       "      <td>46</td>\n",
       "      <td>10995.84460</td>\n",
       "    </tr>\n",
       "    <tr>\n",
       "      <th>5</th>\n",
       "      <td>-7.5</td>\n",
       "      <td>46</td>\n",
       "      <td>10049.44765</td>\n",
       "    </tr>\n",
       "    <tr>\n",
       "      <th>6</th>\n",
       "      <td>-7.0</td>\n",
       "      <td>46</td>\n",
       "      <td>9146.46620</td>\n",
       "    </tr>\n",
       "    <tr>\n",
       "      <th>7</th>\n",
       "      <td>-6.5</td>\n",
       "      <td>46</td>\n",
       "      <td>8286.90025</td>\n",
       "    </tr>\n",
       "    <tr>\n",
       "      <th>8</th>\n",
       "      <td>-6.0</td>\n",
       "      <td>46</td>\n",
       "      <td>7470.74980</td>\n",
       "    </tr>\n",
       "    <tr>\n",
       "      <th>9</th>\n",
       "      <td>-5.5</td>\n",
       "      <td>46</td>\n",
       "      <td>6698.01485</td>\n",
       "    </tr>\n",
       "    <tr>\n",
       "      <th>10</th>\n",
       "      <td>-5.0</td>\n",
       "      <td>46</td>\n",
       "      <td>5968.69540</td>\n",
       "    </tr>\n",
       "    <tr>\n",
       "      <th>11</th>\n",
       "      <td>-4.5</td>\n",
       "      <td>46</td>\n",
       "      <td>5282.79145</td>\n",
       "    </tr>\n",
       "    <tr>\n",
       "      <th>12</th>\n",
       "      <td>-4.0</td>\n",
       "      <td>46</td>\n",
       "      <td>4640.30300</td>\n",
       "    </tr>\n",
       "    <tr>\n",
       "      <th>13</th>\n",
       "      <td>-3.5</td>\n",
       "      <td>46</td>\n",
       "      <td>4041.23005</td>\n",
       "    </tr>\n",
       "    <tr>\n",
       "      <th>14</th>\n",
       "      <td>-3.0</td>\n",
       "      <td>46</td>\n",
       "      <td>3485.57260</td>\n",
       "    </tr>\n",
       "    <tr>\n",
       "      <th>15</th>\n",
       "      <td>-2.5</td>\n",
       "      <td>46</td>\n",
       "      <td>2973.33065</td>\n",
       "    </tr>\n",
       "    <tr>\n",
       "      <th>16</th>\n",
       "      <td>-2.0</td>\n",
       "      <td>46</td>\n",
       "      <td>2504.50420</td>\n",
       "    </tr>\n",
       "    <tr>\n",
       "      <th>17</th>\n",
       "      <td>-1.5</td>\n",
       "      <td>46</td>\n",
       "      <td>2079.09325</td>\n",
       "    </tr>\n",
       "    <tr>\n",
       "      <th>18</th>\n",
       "      <td>-1.0</td>\n",
       "      <td>46</td>\n",
       "      <td>1697.09780</td>\n",
       "    </tr>\n",
       "    <tr>\n",
       "      <th>19</th>\n",
       "      <td>-0.5</td>\n",
       "      <td>46</td>\n",
       "      <td>1358.51785</td>\n",
       "    </tr>\n",
       "    <tr>\n",
       "      <th>20</th>\n",
       "      <td>0.0</td>\n",
       "      <td>46</td>\n",
       "      <td>1063.35340</td>\n",
       "    </tr>\n",
       "    <tr>\n",
       "      <th>21</th>\n",
       "      <td>0.5</td>\n",
       "      <td>46</td>\n",
       "      <td>811.60445</td>\n",
       "    </tr>\n",
       "    <tr>\n",
       "      <th>22</th>\n",
       "      <td>1.0</td>\n",
       "      <td>46</td>\n",
       "      <td>603.27100</td>\n",
       "    </tr>\n",
       "    <tr>\n",
       "      <th>23</th>\n",
       "      <td>1.5</td>\n",
       "      <td>46</td>\n",
       "      <td>438.35305</td>\n",
       "    </tr>\n",
       "    <tr>\n",
       "      <th>24</th>\n",
       "      <td>2.0</td>\n",
       "      <td>46</td>\n",
       "      <td>316.85060</td>\n",
       "    </tr>\n",
       "    <tr>\n",
       "      <th>25</th>\n",
       "      <td>2.5</td>\n",
       "      <td>46</td>\n",
       "      <td>238.76365</td>\n",
       "    </tr>\n",
       "    <tr>\n",
       "      <th>26</th>\n",
       "      <td>3.0</td>\n",
       "      <td>46</td>\n",
       "      <td>204.09220</td>\n",
       "    </tr>\n",
       "    <tr>\n",
       "      <th>27</th>\n",
       "      <td>3.5</td>\n",
       "      <td>46</td>\n",
       "      <td>212.83625</td>\n",
       "    </tr>\n",
       "    <tr>\n",
       "      <th>28</th>\n",
       "      <td>4.0</td>\n",
       "      <td>46</td>\n",
       "      <td>264.99580</td>\n",
       "    </tr>\n",
       "    <tr>\n",
       "      <th>29</th>\n",
       "      <td>4.5</td>\n",
       "      <td>46</td>\n",
       "      <td>360.57085</td>\n",
       "    </tr>\n",
       "    <tr>\n",
       "      <th>30</th>\n",
       "      <td>5.0</td>\n",
       "      <td>46</td>\n",
       "      <td>499.56140</td>\n",
       "    </tr>\n",
       "    <tr>\n",
       "      <th>31</th>\n",
       "      <td>5.5</td>\n",
       "      <td>46</td>\n",
       "      <td>681.96745</td>\n",
       "    </tr>\n",
       "    <tr>\n",
       "      <th>32</th>\n",
       "      <td>6.0</td>\n",
       "      <td>46</td>\n",
       "      <td>907.78900</td>\n",
       "    </tr>\n",
       "    <tr>\n",
       "      <th>33</th>\n",
       "      <td>6.5</td>\n",
       "      <td>46</td>\n",
       "      <td>1177.02605</td>\n",
       "    </tr>\n",
       "    <tr>\n",
       "      <th>34</th>\n",
       "      <td>7.0</td>\n",
       "      <td>46</td>\n",
       "      <td>1489.67860</td>\n",
       "    </tr>\n",
       "    <tr>\n",
       "      <th>35</th>\n",
       "      <td>7.5</td>\n",
       "      <td>46</td>\n",
       "      <td>1845.74665</td>\n",
       "    </tr>\n",
       "    <tr>\n",
       "      <th>36</th>\n",
       "      <td>8.0</td>\n",
       "      <td>46</td>\n",
       "      <td>2245.23020</td>\n",
       "    </tr>\n",
       "    <tr>\n",
       "      <th>37</th>\n",
       "      <td>8.5</td>\n",
       "      <td>46</td>\n",
       "      <td>2688.12925</td>\n",
       "    </tr>\n",
       "    <tr>\n",
       "      <th>38</th>\n",
       "      <td>9.0</td>\n",
       "      <td>46</td>\n",
       "      <td>3174.44380</td>\n",
       "    </tr>\n",
       "    <tr>\n",
       "      <th>39</th>\n",
       "      <td>9.5</td>\n",
       "      <td>46</td>\n",
       "      <td>3704.17385</td>\n",
       "    </tr>\n",
       "  </tbody>\n",
       "</table>\n",
       "</div>"
      ],
      "text/plain": [
       "    Slope  Intercept  Sum of Square Errors\n",
       "0   -10.0         46           15215.58740\n",
       "1    -9.5         46           14095.52845\n",
       "2    -9.0         46           13018.88500\n",
       "3    -8.5         46           11985.65705\n",
       "4    -8.0         46           10995.84460\n",
       "5    -7.5         46           10049.44765\n",
       "6    -7.0         46            9146.46620\n",
       "7    -6.5         46            8286.90025\n",
       "8    -6.0         46            7470.74980\n",
       "9    -5.5         46            6698.01485\n",
       "10   -5.0         46            5968.69540\n",
       "11   -4.5         46            5282.79145\n",
       "12   -4.0         46            4640.30300\n",
       "13   -3.5         46            4041.23005\n",
       "14   -3.0         46            3485.57260\n",
       "15   -2.5         46            2973.33065\n",
       "16   -2.0         46            2504.50420\n",
       "17   -1.5         46            2079.09325\n",
       "18   -1.0         46            1697.09780\n",
       "19   -0.5         46            1358.51785\n",
       "20    0.0         46            1063.35340\n",
       "21    0.5         46             811.60445\n",
       "22    1.0         46             603.27100\n",
       "23    1.5         46             438.35305\n",
       "24    2.0         46             316.85060\n",
       "25    2.5         46             238.76365\n",
       "26    3.0         46             204.09220\n",
       "27    3.5         46             212.83625\n",
       "28    4.0         46             264.99580\n",
       "29    4.5         46             360.57085\n",
       "30    5.0         46             499.56140\n",
       "31    5.5         46             681.96745\n",
       "32    6.0         46             907.78900\n",
       "33    6.5         46            1177.02605\n",
       "34    7.0         46            1489.67860\n",
       "35    7.5         46            1845.74665\n",
       "36    8.0         46            2245.23020\n",
       "37    8.5         46            2688.12925\n",
       "38    9.0         46            3174.44380\n",
       "39    9.5         46            3704.17385"
      ]
     },
     "execution_count": 19,
     "metadata": {},
     "output_type": "execute_result"
    }
   ],
   "source": [
    "b = 46\n",
    "ms = np.arange(-10,10,0.5)\n",
    "sses = []\n",
    "feature = 'Average Recent Growth in Personal Incomes'\n",
    "\n",
    "for m in ms:\n",
    "    predictions = m * df[feature] + b\n",
    "    errors = predictions - df[target]\n",
    "    square_errors = errors ** 2\n",
    "    sse = square_errors.sum()\n",
    "    sses.append(sse)\n",
    "    \n",
    "hypotheses = pd.DataFrame({'Slope': ms})\n",
    "hypotheses['Intercept'] = b\n",
    "hypotheses['Sum of Square Errors'] = sses\n",
    "\n",
    "hypotheses"
   ]
  },
  {
   "cell_type": "code",
   "execution_count": 20,
   "metadata": {
    "colab": {},
    "colab_type": "code",
    "id": "r_6w2NijdB9f"
   },
   "outputs": [
    {
     "data": {
      "image/png": "[encoded data removed]",
      "text/plain": [
       "<Figure size 432x288 with 1 Axes>"
      ]
     },
     "metadata": {
      "needs_background": "light"
     },
     "output_type": "display_data"
    }
   ],
   "source": [
    "hypotheses.plot(x='Slope', y='Sum of Square Errors', \n",
    "                title=f'Intercept={b}');"
   ]
  },
  {
   "cell_type": "markdown",
   "metadata": {
    "colab_type": "text",
    "id": "79P6zF_KdB9h"
   },
   "source": [
    "## Scikit-learn\n",
    "\n",
    "#### Jake VanderPlas, [Python Data Science Handbook, Chapter 5.2, Introducing Scikit-Learn](https://jakevdp.github.io/PythonDataScienceHandbook/05.02-introducing-scikit-learn.html), Scikit-Learn's Estimator API\n",
    "\n",
    "> Most commonly, the steps in using the Scikit-Learn estimator API are as follows (we will step through a handful of detailed examples in the sections that follow).\n",
    "\n",
    "> 1. Choose a class of model by importing the appropriate estimator class from Scikit-Learn. \n",
    "> 2. Choose model hyperparameters by instantiating this class with desired values. \n",
    "> 3. Arrange data into a features matrix and target vector following the discussion above.\n",
    "> 4. Fit the model to your data by calling the `fit()` method of the model instance.\n",
    "> 5. Apply the Model to new data: For supervised learning, often we predict labels for unknown data using the `predict()` method."
   ]
  },
  {
   "cell_type": "code",
   "execution_count": 21,
   "metadata": {
    "colab": {},
    "colab_type": "code",
    "id": "HnLrLQ1adB9h"
   },
   "outputs": [
    {
     "data": {
      "text/plain": [
       "LinearRegression(copy_X=True, fit_intercept=True, n_jobs=None,\n",
       "         normalize=False)"
      ]
     },
     "execution_count": 21,
     "metadata": {},
     "output_type": "execute_result"
    }
   ],
   "source": [
    "from sklearn.linear_model import LinearRegression\n",
    "\n",
    "model = LinearRegression()\n",
    "features = ['Average Recent Growth in Personal Incomes']\n",
    "target = 'Incumbent Party Vote Share'\n",
    "\n",
    "x = df[features]\n",
    "y = df[target]\n",
    "\n",
    "model.fit(x, y)"
   ]
  },
  {
   "cell_type": "code",
   "execution_count": 22,
   "metadata": {},
   "outputs": [
    {
     "name": "stdout",
     "output_type": "stream",
     "text": [
      "46.499209757741625\n"
     ]
    },
    {
     "data": {
      "text/plain": [
       "array([2.97417709])"
      ]
     },
     "execution_count": 22,
     "metadata": {},
     "output_type": "execute_result"
    }
   ],
   "source": [
    "print(model.intercept_)\n",
    "model.coef_"
   ]
  },
  {
   "cell_type": "code",
   "execution_count": 23,
   "metadata": {},
   "outputs": [
    {
     "data": {
      "text/plain": [
       "array([2.97417709])"
      ]
     },
     "execution_count": 23,
     "metadata": {},
     "output_type": "execute_result"
    }
   ],
   "source": [
    "model.predict([[2]]) - model.predict([[1]])"
   ]
  },
  {
   "cell_type": "code",
   "execution_count": 24,
   "metadata": {},
   "outputs": [
    {
     "name": "stdout",
     "output_type": "stream",
     "text": [
      "Mean Absolute Error: 2.529193834960895\n",
      "R^2 Score: 0.5871858180864329\n"
     ]
    },
    {
     "data": {
      "image/png": "[encoded data removed]",
      "text/plain": [
       "<Figure size 432x288 with 1 Axes>"
      ]
     },
     "metadata": {
      "needs_background": "light"
     },
     "output_type": "display_data"
    }
   ],
   "source": [
    "m = model.coef_[0]\n",
    "b = model.intercept_\n",
    "\n",
    "y_pred = m*x + b\n",
    "\n",
    "y_pred = model.predict(x)\n",
    "plot_preds(x, y, y_pred)"
   ]
  },
  {
   "cell_type": "markdown",
   "metadata": {
    "colab_type": "text",
    "id": "c5biGqP0dB9i"
   },
   "source": [
    "## Linear Algebra!\n",
    "\n",
    "The same result that is found by minimizing the sum of the squared errors can be also found through a linear algebra process known as the \"Least Squares Solution:\"\n",
    "\n",
    "\\begin{align}\n",
    "\\hat{\\beta} = (X^{T}X)^{-1}X^{T}y\n",
    "\\end{align}\n",
    "\n",
    "Before we can work with this equation in its linear algebra form we have to understand how to set up the matrices that are involved in this equation. "
   ]
  },
  {
   "cell_type": "markdown",
   "metadata": {
    "colab_type": "text",
    "id": "fEBgV_xqdB9j"
   },
   "source": [
    "### The $\\beta$ vector\n",
    "\n",
    "The $\\beta$ vector represents all the parameters that we are trying to estimate, our $y$ vector and $X$ matrix values are full of data from our dataset. The $\\beta$ vector holds the variables that we are solving for: $\\beta_0$ and $\\beta_1$\n",
    "\n",
    "Now that we have all of the necessary parts we can set them up in the following equation:\n",
    "\n",
    "\\begin{align}\n",
    "y = X \\beta + \\epsilon\n",
    "\\end{align}\n",
    "\n",
    "Since our $\\epsilon$ value represents **random** error we can assume that it will equal zero on average.\n",
    "\n",
    "\\begin{align}\n",
    "y = X \\beta\n",
    "\\end{align}\n",
    "\n",
    "The objective now is to isolate the $\\beta$ matrix. We can do this by pre-multiplying both sides by \"X transpose\" $X^{T}$.\n",
    "\n",
    "\\begin{align}\n",
    "X^{T}y =  X^{T}X \\beta\n",
    "\\end{align}\n",
    "\n",
    "Since anything times its transpose will result in a square matrix, if that matrix is then an invertible matrix, then we should be able to multiply both sides by its inverse to remove it from the right hand side. (We'll talk tomorrow about situations that could lead to $X^{T}X$ not being invertible.)\n",
    "\n",
    "\\begin{align}\n",
    "(X^{T}X)^{-1}X^{T}y =  (X^{T}X)^{-1}X^{T}X \\beta\n",
    "\\end{align}\n",
    "\n",
    "Since any matrix multiplied by its inverse results in the identity matrix, and anything multiplied by the identity matrix is itself, we are left with only $\\beta$ on the right hand side:\n",
    "\n",
    "\\begin{align}\n",
    "(X^{T}X)^{-1}X^{T}y = \\hat{\\beta}\n",
    "\\end{align}\n",
    "\n",
    "We will now call it \"beta hat\" $\\hat{\\beta}$ because it now represents our estimated values for $\\beta_0$ and $\\beta_1$\n",
    "\n",
    "### Lets calculate our $\\beta$ coefficients with numpy!"
   ]
  },
  {
   "cell_type": "code",
   "execution_count": 25,
   "metadata": {},
   "outputs": [
    {
     "data": {
      "text/plain": [
       "array([ 2.4 ,  2.89,  0.85,  4.21,  3.02,  3.62,  1.08, -0.39,  3.86,\n",
       "        2.27,  0.38,  1.04,  2.36,  1.72,  0.1 ,  0.95,  0.1 ])"
      ]
     },
     "execution_count": 25,
     "metadata": {},
     "output_type": "execute_result"
    }
   ],
   "source": [
    "df[feature].values.T"
   ]
  },
  {
   "cell_type": "code",
   "execution_count": 26,
   "metadata": {
    "colab": {},
    "colab_type": "code",
    "id": "hPoxzXtlvCGz"
   },
   "outputs": [
    {
     "name": "stdout",
     "output_type": "stream",
     "text": [
      "X\n",
      "[[ 1.    2.4 ]\n",
      " [ 1.    2.89]\n",
      " [ 1.    0.85]\n",
      " [ 1.    4.21]\n",
      " [ 1.    3.02]\n",
      " [ 1.    3.62]\n",
      " [ 1.    1.08]\n",
      " [ 1.   -0.39]\n",
      " [ 1.    3.86]\n",
      " [ 1.    2.27]\n",
      " [ 1.    0.38]\n",
      " [ 1.    1.04]\n",
      " [ 1.    2.36]\n",
      " [ 1.    1.72]\n",
      " [ 1.    0.1 ]\n",
      " [ 1.    0.95]\n",
      " [ 1.    0.1 ]]\n",
      "y\n",
      "[[44.6 ]\n",
      " [57.76]\n",
      " [49.91]\n",
      " [61.34]\n",
      " [49.6 ]\n",
      " [61.79]\n",
      " [48.95]\n",
      " [44.7 ]\n",
      " [59.17]\n",
      " [53.94]\n",
      " [46.55]\n",
      " [54.74]\n",
      " [50.27]\n",
      " [51.24]\n",
      " [46.32]\n",
      " [52.  ]\n",
      " [48.2 ]]\n",
      "X Transpose\n",
      "[[ 1.    1.    1.    1.    1.    1.    1.    1.    1.    1.    1.    1.\n",
      "   1.    1.    1.    1.    1.  ]\n",
      " [ 2.4   2.89  0.85  4.21  3.02  3.62  1.08 -0.39  3.86  2.27  0.38  1.04\n",
      "   2.36  1.72  0.1   0.95  0.1 ]]\n",
      "X Transpose X\n",
      "[[17.    30.46 ]\n",
      " [30.46  86.831]]\n",
      "X Transpose X Inverse\n",
      "[[ 0.15835959 -0.05555197]\n",
      " [-0.05555197  0.03100405]]\n",
      "X Transpose y\n",
      "[[ 881.08  ]\n",
      " [1674.6167]]\n",
      "Beta Hat\n",
      "[[46.49920976]\n",
      " [ 2.97417709]]\n"
     ]
    }
   ],
   "source": [
    "from statsmodels.api import add_constant\n",
    "\n",
    "X = add_constant(df[feature].values)\n",
    "print('X')\n",
    "print(X)\n",
    "\n",
    "y = df[target].values[:, np.newaxis]\n",
    "print('y')\n",
    "print(y)\n",
    "\n",
    "X_transpose = X.T\n",
    "print('X Transpose')\n",
    "print(X_transpose)\n",
    "\n",
    "X_transpose_X = X_transpose @ X\n",
    "print('X Transpose X')\n",
    "print(X_transpose_X)\n",
    "\n",
    "X_transpose_X_inverse = np.linalg.inv(X_transpose_X)\n",
    "print('X Transpose X Inverse')\n",
    "print(X_transpose_X_inverse)\n",
    "\n",
    "X_transpose_y = X_transpose @ y\n",
    "print('X Transpose y')\n",
    "print(X_transpose_y)\n",
    "\n",
    "beta_hat = X_transpose_X_inverse @ X_transpose_y\n",
    "print('Beta Hat')\n",
    "print(beta_hat)"
   ]
  },
  {
   "cell_type": "markdown",
   "metadata": {
    "colab_type": "text",
    "id": "i18xwsVxdB9l"
   },
   "source": [
    "# Multiple Regression\n",
    "\n",
    "Simple or bivariate linear regression involves a single $x$ variable and a single $y$ variable. However, we can have many $x$ variables. A linear regression model that involves multiple x variables is known as **Multiple** Regression (NOT MULTIVARIATE).\n",
    "\n",
    "\\begin{align}\n",
    "y = \\beta_0 + \\beta_1 X_1 + \\beta_2 X_2 + ... + \\beta_n X_n + \\epsilon\n",
    "\\end{align}"
   ]
  },
  {
   "cell_type": "code",
   "execution_count": 27,
   "metadata": {
    "colab": {},
    "colab_type": "code",
    "id": "p8zmTC-12-K6"
   },
   "outputs": [
    {
     "data": {
      "text/plain": [
       "LinearRegression(copy_X=True, fit_intercept=True, n_jobs=None,\n",
       "         normalize=False)"
      ]
     },
     "execution_count": 27,
     "metadata": {},
     "output_type": "execute_result"
    }
   ],
   "source": [
    "model = LinearRegression()\n",
    "\n",
    "features = ['Average Recent Growth in Personal Incomes',\n",
    "           'US Military Fatalities per Million']\n",
    "\n",
    "target = 'Incumbent Party Vote Share'\n",
    "\n",
    "x = df[features]\n",
    "y = df[target]\n",
    "\n",
    "model.fit(x, y)"
   ]
  },
  {
   "cell_type": "code",
   "execution_count": 28,
   "metadata": {},
   "outputs": [
    {
     "data": {
      "text/plain": [
       "Average Recent Growth in Personal Incomes    3.406214\n",
       "US Military Fatalities per Million          -0.053752\n",
       "dtype: float64"
      ]
     },
     "execution_count": 28,
     "metadata": {},
     "output_type": "execute_result"
    }
   ],
   "source": [
    "pd.Series(model.coef_, features)"
   ]
  },
  {
   "cell_type": "markdown",
   "metadata": {
    "colab_type": "text",
    "id": "AcHvzlcfOIg8"
   },
   "source": [
    "## Visualize hyperplane of best fit in 3D"
   ]
  },
  {
   "cell_type": "code",
   "execution_count": 29,
   "metadata": {
    "colab": {},
    "colab_type": "code",
    "id": "5aWyg1DWyph3"
   },
   "outputs": [],
   "source": [
    "# https://stackoverflow.com/a/47230966\n",
    "# Plotly notebook mode with google colaboratory\n",
    "# You need to define this function\n",
    "# And call it in each offline plotting cell\n",
    "\n",
    "def configure_plotly_browser_state():\n",
    "    import IPython\n",
    "    display(IPython.core.display.HTML('''\n",
    "        <script src=\"/static/components/requirejs/require.js\"></script>\n",
    "        <script>\n",
    "          requirejs.config({\n",
    "            paths: {\n",
    "              base: '/static/base',\n",
    "              plotly: 'https://cdn.plot.ly/plotly-latest.min.js?noext',\n",
    "            },\n",
    "          });\n",
    "        </script>\n",
    "        '''))"
   ]
  },
  {
   "cell_type": "code",
   "execution_count": 30,
   "metadata": {
    "colab": {},
    "colab_type": "code",
    "id": "msewYJ85_16k"
   },
   "outputs": [
    {
     "ename": "ModuleNotFoundError",
     "evalue": "No module named 'plotly'",
     "output_type": "error",
     "traceback": [
      "\u001b[0;31m---------------------------------------------------------------------------\u001b[0m",
      "\u001b[0;31mModuleNotFoundError\u001b[0m                       Traceback (most recent call last)",
      "\u001b[0;32m<ipython-input-30-492220aa01e8>\u001b[0m in \u001b[0;36m<module>\u001b[0;34m\u001b[0m\n\u001b[1;32m      1\u001b[0m \u001b[0;32mimport\u001b[0m \u001b[0mitertools\u001b[0m\u001b[0;34m\u001b[0m\u001b[0;34m\u001b[0m\u001b[0m\n\u001b[0;32m----> 2\u001b[0;31m \u001b[0;32mimport\u001b[0m \u001b[0mplotly\u001b[0m\u001b[0;34m.\u001b[0m\u001b[0mgraph_objs\u001b[0m \u001b[0;32mas\u001b[0m \u001b[0mgo\u001b[0m\u001b[0;34m\u001b[0m\u001b[0;34m\u001b[0m\u001b[0m\n\u001b[0m\u001b[1;32m      3\u001b[0m \u001b[0;32mfrom\u001b[0m \u001b[0mplotly\u001b[0m\u001b[0;34m.\u001b[0m\u001b[0moffline\u001b[0m \u001b[0;32mimport\u001b[0m \u001b[0minit_notebook_mode\u001b[0m\u001b[0;34m,\u001b[0m \u001b[0miplot\u001b[0m\u001b[0;34m\u001b[0m\u001b[0;34m\u001b[0m\u001b[0m\n\u001b[1;32m      4\u001b[0m \u001b[0minit_notebook_mode\u001b[0m\u001b[0;34m(\u001b[0m\u001b[0mconnected\u001b[0m\u001b[0;34m=\u001b[0m\u001b[0;32mTrue\u001b[0m\u001b[0;34m)\u001b[0m\u001b[0;34m\u001b[0m\u001b[0;34m\u001b[0m\u001b[0m\n\u001b[1;32m      5\u001b[0m \u001b[0;34m\u001b[0m\u001b[0m\n",
      "\u001b[0;31mModuleNotFoundError\u001b[0m: No module named 'plotly'"
     ]
    }
   ],
   "source": [
    "import itertools\n",
    "import plotly.graph_objs as go\n",
    "from plotly.offline import init_notebook_mode, iplot\n",
    "init_notebook_mode(connected=True)\n",
    "\n",
    "def viz3D(fitted_model, X, features, target='', num=100):\n",
    "    \"\"\"\n",
    "    Visualize model predictions in 3D, for regression model fit on 2 features\n",
    "    \n",
    "    Parameters\n",
    "    ----------\n",
    "    fitted_model : scikit-learn model, already fitted\n",
    "    X : pandas dataframe, which was used to fit model\n",
    "    features : list of strings, column names of the 2 features\n",
    "    target : string, name of target\n",
    "    num : int, number of grid points for each feature\n",
    "    \n",
    "    References\n",
    "    ----------\n",
    "    https://plot.ly/python/3d-charts/\n",
    "    \"\"\"\n",
    "    feature1, feature2 = features\n",
    "    min1, max1 = X[feature1].min(), X[feature1].max()\n",
    "    min2, max2 = X[feature2].min(), X[feature2].max()\n",
    "    x1 = np.linspace(min1, max1, num)\n",
    "    x2 = np.linspace(min2, max2, num)\n",
    "    combos = list(itertools.product(x1, x2))\n",
    "    Z = fitted_model.predict(combos).reshape(num, num)\n",
    "    \n",
    "    configure_plotly_browser_state()\n",
    "    data = [go.Surface(x=x1, y=x2, z=Z)]\n",
    "    layout = go.Layout(\n",
    "        scene={'xaxis': {'title': feature1, 'range': [min1,max1], 'showticklabels': True}, \n",
    "               'yaxis': {'title': feature2, 'range': [min2,max2], 'showticklabels': True}, \n",
    "               'zaxis': {'title': target, 'showticklabels': True}}, \n",
    "    )\n",
    "    fig = go.Figure(data=data, layout=layout)\n",
    "    iplot(fig)"
   ]
  },
  {
   "cell_type": "code",
   "execution_count": null,
   "metadata": {
    "colab": {},
    "colab_type": "code",
    "id": "NRoZIBc33GeV"
   },
   "outputs": [],
   "source": [
    "# TODO"
   ]
  },
  {
   "cell_type": "markdown",
   "metadata": {
    "colab_type": "text",
    "id": "ueHbXPJ4dB9p"
   },
   "source": [
    "## Dimensionality in Linear Regression\n",
    "\n",
    "Muliple Regression is simply an extension of the bivariate case. The reason why we see the bivariate case demonstrated so often is simply because it's easier to graph and all of the intuition from the bivariate case is the same as we keep on adding explanatory variables.\n",
    "\n",
    "As we increase the number of $x$ values in our model we are simply fitting a n-1-dimensional plane to an n-dimensional cloud of points within an n-dimensional hypercube. "
   ]
  },
  {
   "cell_type": "markdown",
   "metadata": {
    "colab_type": "text",
    "id": "1N12KLVsdB9q"
   },
   "source": [
    "## Interpreting Coefficients\n",
    "\n",
    "One of Linear Regression's strengths is that the parameters of the model (coefficients) are readily interpretable and useful. Not only do they describe the relationship between x and y but they put a number on just how much x is associated with y. We should be careful to not speak about this relationshiop in terms of causality because these coefficients are in fact correlative measures. We would need a host of additional techniques in order to estimate a causal effect using linear regression (econometrics).\n",
    "\n",
    "\\begin{align}\n",
    "\\hat{\\beta} = \\frac{Cov(x,y)}{Var(y)}\n",
    "\\end{align}"
   ]
  },
  {
   "cell_type": "markdown",
   "metadata": {
    "colab_type": "text",
    "id": "1TTvvbn4dB9v"
   },
   "source": [
    "## Why is Linear Regression so Important?\n",
    "\n",
    "### Popularity \n",
    "\n",
    "Linear Regression is an extremely popular technique that every data scientist **needs** to understand. It's not the most advanced technique and there are supervised learning techniques that will obtain a higher accuracy, but where it lacks in accuracy it makes up for it in interpretability and simplicity.\n",
    "\n",
    "### Interpretability\n",
    "\n",
    "Few other models possess coefficients that are so directly linked to their variables with a such a clear interpretation. Tomorrow we're going to learn about ways to make them even easier to interpret.\n",
    "\n",
    "### Simplicity\n",
    "\n",
    "A linear regression model can be communicated just by writing out its equation. It's kind of incredible that such high dimensional relationships can be described from just a linear combination of variables and coefficients. "
   ]
  },
  {
   "cell_type": "markdown",
   "metadata": {
    "colab_type": "text",
    "id": "FxUj5y_3JFzw"
   },
   "source": [
    "# Assignment\n",
    "- Continue to predict New York City apartment rents. This is your last assignment with this dataset.\n",
    "- You may select any number of features. You are encouraged to engineer new features.\n",
    "- Get and plot your model's coefficients.\n",
    "- Report your Root Mean Squared Error, Mean Absolute Error, and R^2 Score, for your Train and Test sets. Share your scores with your cohort on Slack!\n",
    "- Fit a model with 2 features, and visualize the plane of best fit in 3D.\n",
    "- Commit your notebook to your fork of the repo.\n",
    "\n",
    "## Stretch Goals\n",
    "\n",
    "Study more about Linear Regression. Here are two helpful links. If you find more links, share your favorites with your cohort on Slack.\n",
    "\n",
    "1. Watch this 20 minute video that just hit 1 million views: Brandon Foltz, Statistics 101: Simple Linear Regression (https://www.youtube.com/watch?v=ZkjP5RJLQF4)\n",
    "2. Skim _An Introduction to Statistical Learning_, Chapter 3.1, Simple Linear Regression, & Chapter 3.2, Multiple Linear Regression (http://www-bcf.usc.edu/~gareth/ISL/ISLR%20Seventh%20Printing.pdf)\n",
    "\n",
    "In your 3D visualization, can you include the actual datapoints, like in [this notebook](https://nbviewer.jupyter.org/urls/s3.amazonaws.com/datarobotblog/notebooks/multiple_regression_in_python.ipynb)? Can you also include the residual lines from the datapoints to the plane of the best fit, like in _An Introduction to Statistical Learning?_ This would be hard to do, but awesome!\n",
    "\n",
    "\n",
    "Can you get creative with feature engineering? Share with your cohort on Slack. We mentioned some feature ideas at the end of last lesson, but didn't demonstrate how to engineer them. So here are some example solutions:\n",
    "\n",
    "```python\n",
    "# Does apartment have a non-empty description?\n",
    "df['description'] = df['description'].str.strip().fillna('')\n",
    "df['has_description'] = df['description'] != ''\n",
    "\n",
    "# How long is the description?\n",
    "df['description_length'] = df['description'].str.len()\n",
    "\n",
    "# How many total perks does each apartment have?\n",
    "perk_cols = ['elevator', 'cats_allowed', 'hardwood_floors', 'dogs_allowed',\n",
    "             'doorman', 'dishwasher', 'no_fee', 'laundry_in_building',\n",
    "             'fitness_center', 'pre-war', 'laundry_in_unit', 'roof_deck',\n",
    "             'outdoor_space', 'dining_room', 'high_speed_internet', 'balcony',\n",
    "             'swimming_pool', 'new_construction', 'exclusive', 'terrace', \n",
    "             'loft', 'garden_patio', 'common_outdoor_space', \n",
    "             'wheelchair_access']\n",
    "df['perk_count'] = df[perk_cols].sum(axis=1)\n",
    "\n",
    "# Are pets allowed?\n",
    "df['pets_allowed'] = (df['cats_allowed']==1) | (df['dogs_allowed']==1)\n",
    "```\n"
   ]
  }
 ],
 "metadata": {
  "colab": {
   "collapsed_sections": [],
   "name": "understanding_linear_regression.ipynb",
   "provenance": [],
   "version": "0.3.2"
  },
  "kernelspec": {
   "display_name": "Python 3",
   "language": "python",
   "name": "python3"
  },
  "language_info": {
   "codemirror_mode": {
    "name": "ipython",
    "version": 3
   },
   "file_extension": ".py",
   "mimetype": "text/x-python",
   "name": "python",
   "nbconvert_exporter": "python",
   "pygments_lexer": "ipython3",
   "version": "3.7.3"
  }
 },
 "nbformat": 4,
 "nbformat_minor": 1
}
