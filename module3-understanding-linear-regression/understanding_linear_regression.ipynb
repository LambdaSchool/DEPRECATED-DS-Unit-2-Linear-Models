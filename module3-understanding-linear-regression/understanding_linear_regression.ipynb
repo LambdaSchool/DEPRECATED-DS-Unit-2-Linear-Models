{
  "nbformat": 4,
  "nbformat_minor": 0,
  "metadata": {
    "colab": {
      "name": "understanding_linear_regression.ipynb",
      "version": "0.3.2",
      "provenance": [],
      "collapsed_sections": [],
      "include_colab_link": true
    },
    "language_info": {
      "codemirror_mode": {
        "name": "ipython",
        "version": 3
      },
      "file_extension": ".py",
      "mimetype": "text/x-python",
      "name": "python",
      "nbconvert_exporter": "python",
      "pygments_lexer": "ipython3",
      "version": "3.7.1"
    },
    "kernelspec": {
      "display_name": "Python 3",
      "language": "python",
      "name": "python3"
    }
  },
  "cells": [
    {
      "cell_type": "markdown",
      "metadata": {
        "id": "view-in-github",
        "colab_type": "text"
      },
      "source": [
        "<a href=\"https://colab.research.google.com/github/leehanchung/DS-Unit-2-Linear-Models/blob/master/module3-understanding-linear-regression/understanding_linear_regression.ipynb\" target=\"_parent\"><img src=\"https://colab.research.google.com/assets/colab-badge.svg\" alt=\"Open In Colab\"/></a>"
      ]
    },
    {
      "cell_type": "markdown",
      "metadata": {
        "id": "k3qIxs67dB8u",
        "colab_type": "text"
      },
      "source": [
        "_Lambda School Data Science — Linear Models_\n",
        "\n",
        "# Understanding Linear Regression\n",
        "\n",
        "#### Objectives\n",
        "- understand how ordinary least squares regression minimizes the sum of squared errors\n",
        "- understand how linear algebra can solve ordinary least squares regression\n",
        "- get and interpret coefficients of a linear model\n",
        "- visualize a line of best fit in 2D, and hyperplane in 3D\n",
        "- use regression metrics: MSE, RMSE, MAE, R^2\n",
        "\n",
        "#### Extra Links\n",
        "- [Statistics 101: Simple Linear Regression](https://www.youtube.com/watch?v=ZkjP5RJLQF4) (20 minute video)\n",
        "- [_An Introduction to Statistical Learning_](http://www-bcf.usc.edu/~gareth/ISL/ISLR%20Seventh%20Printing.pdf), Chapter 3.1, Simple Linear Regression, & 3.2, Multiple Linear Regression\n",
        "- Priceonomics, [The Discovery of Statistical Regression](https://priceonomics.com/the-discovery-of-statistical-regression/)\n",
        "- Priceonomics, [Why the Father of Modern Statistics Didn’t Believe Smoking Caused Cancer](https://priceonomics.com/why-the-father-of-modern-statistics-didnt-believe/)\n",
        "- Harvard Business Review, [When to Act on a Correlation, and When Not To](https://hbr.org/2014/03/when-to-act-on-a-correlation-and-when-not-to)\n",
        "- [xkcd 552: Correlation](https://www.explainxkcd.com/wiki/index.php/552:_Correlation)\n",
        "- [xkcd 1725: Linear Regression](https://www.explainxkcd.com/wiki/index.php/1725:_Linear_Regression)"
      ]
    },
    {
      "cell_type": "markdown",
      "metadata": {
        "id": "AN49dLAsrB9p",
        "colab_type": "text"
      },
      "source": [
        "## What is Linear Regression?\n",
        "\n",
        "[Linear Regression](https://en.wikipedia.org/wiki/Linear_regression) is a statistical model that seeks to describe the relationship between some y variable and one or more x variables. \n",
        "\n",
        "In the simplest case, linear regression seeks to fit a straight line through a cloud of points. This line is referred to as the \"regression line\" or \"line of best fit.\" This line tries to summarize the relationship between our X and Y in a way that enables us to use the equation for that line to make predictions."
      ]
    },
    {
      "cell_type": "code",
      "metadata": {
        "id": "YpMgFRGTq-Xi",
        "colab_type": "code",
        "outputId": "ba1888fb-099d-47c8-e932-6fe86116d09b",
        "colab": {
          "base_uri": "https://localhost:8080/",
          "height": 269
        }
      },
      "source": [
        "%matplotlib inline\n",
        "import seaborn as sns\n",
        "x = [10,  8, 13,  9, 11, 14,  6,  4, 12,  7,  5]\n",
        "y = [ 8,  6,  7,  8,  8,  9,  7,  4, 10,  4,  5]\n",
        "sns.regplot(x, y);"
      ],
      "execution_count": 1,
      "outputs": [
        {
          "output_type": "display_data",
          "data": {
            "image/png": "[encoded data removed]",
            "text/plain": [
              "<Figure size 432x288 with 1 Axes>"
            ]
          },
          "metadata": {
            "tags": []
          }
        }
      ]
    },
    {
      "cell_type": "markdown",
      "metadata": {
        "id": "5pizS3rWdB8v",
        "colab_type": "text"
      },
      "source": [
        "\n",
        "\n",
        "### Synonyms for \"y variable\" \n",
        "- Dependent Variable\n",
        "- Response Variable\n",
        "- Outcome Variable \n",
        "- Predicted Variable\n",
        "- Measured Variable\n",
        "- Explained Variable\n",
        "- Label\n",
        "- Target\n",
        "\n",
        "### Synonyms for \"x variable\"\n",
        "- Independent Variable\n",
        "- Explanatory Variable\n",
        "- Regressor\n",
        "- Covariate\n",
        "- Feature"
      ]
    },
    {
      "cell_type": "markdown",
      "metadata": {
        "id": "AkBmrFzcdB8v",
        "colab_type": "text"
      },
      "source": [
        "## Simple Linear Regresion\n",
        "\n",
        "#### Making Predictions\n",
        "\n",
        "Say that we were trying to create a model that captured the relationship between temperature outside and ice cream sales. In Machine Learning our goal is often different that of other flavors of Linear Regression Analysis, because we're trying to fit a model to this data with the intention of making **predictions** on new data (in the future) that we don't have yet.\n",
        "\n",
        "#### What are we trying to predict?\n",
        "\n",
        "So if we had measured ice cream sales and the temprature outside on 11 different days, at the end of our modeling **what would be the thing that we would want to predict? - Ice Cream Sales or Temperature?**\n",
        "\n",
        "We would probably want to be measuring temperature with the intention of using that to **forecast** ice cream sales. If we were able to successfully forecast ice cream sales from temperature, this might help us know beforehand how much ice cream to make or how many cones to buy or on which days to open our store, etc. Being able to make predictions accurately has a lot of business implications. This is why making accurate predictions is so valuable (And in large part is why data scientists are paid so well).\n",
        "\n",
        "#### y variable intuition\n",
        "\n",
        "We want the thing that we're trying to predict to serve as our **y** variable. This is why it's sometimes called the \"predicted variable.\" We call it the \"dependent\" variable because our prediction for how much ice cream we're going to sell \"depends\" on the temperature outside. \n",
        "\n",
        "#### x variable intuition\n",
        "\n",
        "All other variables that we use to predict our y variable (we're going to start off just using one) we call our **x** variables. These are called our \"independent\" variables because they don't *depend* on y, they \"explain\" y. Hence they are also referred to as our \"explanatory\" variables."
      ]
    },
    {
      "cell_type": "markdown",
      "metadata": {
        "id": "JKjLA8aAdB8w",
        "colab_type": "text"
      },
      "source": [
        "## Example: Predict presidential election voting\n",
        "\n",
        "#### Douglas Hibbs, [Background Information on the ‘Bread and Peace’ Model of Voting in Postwar US Presidential Elections](https://douglas-hibbs.com/background-information-on-bread-and-peace-voting-in-us-presidential-elections/)\n",
        "\n",
        "> Aggregate two-party vote shares going to candidates of the party holding the presidency during the postwar era are well explained by just two fundamental determinants:\n",
        "\n",
        "> (1) Positively by weighted-average growth of per capita real disposable personal income over the term.  \n",
        "> (2) Negatively by cumulative US military fatalities (scaled to population) owing to unprovoked, hostile deployments of American armed forces in foreign wars.\n",
        "\n",
        "#### Data sources\n",
        "- 1952-2012: Douglas Hibbs, [2014 lecture at Deakin University Melbourne](http://www.douglas-hibbs.com/HibbsArticles/HIBBS-PRESVOTE-SLIDES-MELBOURNE-Part1-2014-02-26.pdf), Slide 40\n",
        "- 2016, Vote Share: [The American Presidency Project](https://www.presidency.ucsb.edu/statistics/elections)\n",
        "- 2016, Recent Growth in Personal Incomes: [The 2016 election economy: the \"Bread and Peace\" model final forecast](https://angrybearblog.com/2016/11/the-2016-election-economy-the-bread-and-peace-model-final-forecast.html)\n",
        "- 2016, US Military Fatalities: Assumption that Afghanistan War fatalities in 2012-16 occured at the same rate as 2008-12"
      ]
    },
    {
      "cell_type": "code",
      "metadata": {
        "id": "4ohXjHbUdB8x",
        "colab_type": "code",
        "colab": {}
      },
      "source": [
        "import pandas as pd\n",
        "\n",
        "columns = ['Year','Incumbent Party Candidate','Other Candidate','Incumbent Party Vote Share']\n",
        "\n",
        "data = [[1952,\"Stevenson\",\"Eisenhower\",44.6],\n",
        "        [1956,\"Eisenhower\",\"Stevenson\",57.76],\n",
        "        [1960,\"Nixon\",\"Kennedy\",49.91],\n",
        "        [1964,\"Johnson\",\"Goldwater\",61.34],\n",
        "        [1968,\"Humphrey\",\"Nixon\",49.60],\n",
        "        [1972,\"Nixon\",\"McGovern\",61.79],\n",
        "        [1976,\"Ford\",\"Carter\",48.95],\n",
        "        [1980,\"Carter\",\"Reagan\",44.70],\n",
        "        [1984,\"Reagan\",\"Mondale\",59.17],\n",
        "        [1988,\"Bush, Sr.\",\"Dukakis\",53.94],\n",
        "        [1992,\"Bush, Sr.\",\"Clinton\",46.55],\n",
        "        [1996,\"Clinton\",\"Dole\",54.74],\n",
        "        [2000,\"Gore\",\"Bush, Jr.\",50.27],\n",
        "        [2004,\"Bush, Jr.\",\"Kerry\",51.24],\n",
        "        [2008,\"McCain\",\"Obama\",46.32],\n",
        "        [2012,\"Obama\",\"Romney\",52.00], \n",
        "        [2016,\"Clinton\",\"Trump\",48.2]]\n",
        "        \n",
        "votes = pd.DataFrame(data=data, columns=columns)"
      ],
      "execution_count": 0,
      "outputs": []
    },
    {
      "cell_type": "code",
      "metadata": {
        "id": "7R679kBPdB8z",
        "colab_type": "code",
        "colab": {}
      },
      "source": [
        "columns = ['Year','Average Recent Growth in Personal Incomes']\n",
        "\n",
        "data = [[1952,2.40],\n",
        "        [1956,2.89],\n",
        "        [1960, .85],\n",
        "        [1964,4.21],\n",
        "        [1968,3.02],\n",
        "        [1972,3.62],\n",
        "        [1976,1.08],\n",
        "        [1980,-.39],\n",
        "        [1984,3.86],\n",
        "        [1988,2.27],\n",
        "        [1992, .38],\n",
        "        [1996,1.04],\n",
        "        [2000,2.36],\n",
        "        [2004,1.72],\n",
        "        [2008, .10],\n",
        "        [2012, .95], \n",
        "        [2016, .10]]\n",
        "        \n",
        "growth = pd.DataFrame(data=data, columns=columns)"
      ],
      "execution_count": 0,
      "outputs": []
    },
    {
      "cell_type": "code",
      "metadata": {
        "id": "5654kSpOdB81",
        "colab_type": "code",
        "colab": {}
      },
      "source": [
        "\"\"\"\n",
        "Fatalities denotes the cumulative number of American military\n",
        "fatalities per millions of US population the in Korea, Vietnam,\n",
        "Iraq and Afghanistan wars during the presidential terms\n",
        "preceding the 1952, 1964, 1968, 1976 and 2004, 2008 and\n",
        "2012 elections.\n",
        "\n",
        "http://www.douglas-hibbs.com/HibbsArticles/HIBBS-PRESVOTE-SLIDES-MELBOURNE-Part1-2014-02-26.pdf\n",
        "\"\"\"\n",
        "\n",
        "columns = ['Year','US Military Fatalities per Million']\n",
        "\n",
        "data = [[1952,190],\n",
        "        [1956,  0],\n",
        "        [1960,  0],\n",
        "        [1964,  1],\n",
        "        [1968,146],\n",
        "        [1972,  0],\n",
        "        [1976,  2],\n",
        "        [1980,  0],\n",
        "        [1984,  0],\n",
        "        [1988,  0],\n",
        "        [1992,  0],\n",
        "        [1996,  0],\n",
        "        [2000,  0],\n",
        "        [2004,  4],\n",
        "        [2008, 14],\n",
        "        [2012,  5], \n",
        "        [2016,  5]]\n",
        "        \n",
        "deaths = pd.DataFrame(data=data, columns=columns)"
      ],
      "execution_count": 0,
      "outputs": []
    },
    {
      "cell_type": "code",
      "metadata": {
        "id": "YyneMpsAdB9E",
        "colab_type": "code",
        "colab": {}
      },
      "source": [
        "df = votes.merge(growth).merge(deaths)"
      ],
      "execution_count": 0,
      "outputs": []
    },
    {
      "cell_type": "markdown",
      "metadata": {
        "id": "KsslMxfHdB9N",
        "colab_type": "text"
      },
      "source": [
        "### Plot univariate correlations\n",
        "[Seaborn tutorial: Visualizing linear relationships](https://seaborn.pydata.org/tutorial/regression.html)"
      ]
    },
    {
      "cell_type": "code",
      "metadata": {
        "scrolled": false,
        "id": "QDlIwG-mdB9N",
        "colab_type": "code",
        "colab": {
          "base_uri": "https://localhost:8080/",
          "height": 721
        },
        "outputId": "41175a9c-a2d6-4780-e016-71f83fef0621"
      },
      "source": [
        "%matplotlib inline\n",
        "import seaborn as sns\n",
        "\n",
        "target = 'Incumbent Party Vote Share'\n",
        "features = ['Average Recent Growth in Personal Incomes', \n",
        "            'US Military Fatalities per Million']\n",
        "\n",
        "for feature in features:\n",
        "    sns.lmplot(x=feature, y=target, data=df)"
      ],
      "execution_count": 6,
      "outputs": [
        {
          "output_type": "display_data",
          "data": {
            "image/png": "[encoded data removed]",
            "text/plain": [
              "<Figure size 360x360 with 1 Axes>"
            ]
          },
          "metadata": {
            "tags": []
          }
        },
        {
          "output_type": "display_data",
          "data": {
            "image/png": "[encoded data removed]",
            "text/plain": [
              "<Figure size 360x360 with 1 Axes>"
            ]
          },
          "metadata": {
            "tags": []
          }
        }
      ]
    },
    {
      "cell_type": "markdown",
      "metadata": {
        "id": "Hnt0FvBddB9Q",
        "colab_type": "text"
      },
      "source": [
        "We can see from the scatterplot that these data points seem to follow a somewhat linear relationship for the \"Average Recent Growth in Personal Incomes\" feature. This means that we could probably summarize their relationship well by fitting a line of best fit to these points. Lets do it.\n",
        "\n",
        "\n",
        "## The Equation for a Line\n",
        "\n",
        "A common equation for a line is:\n",
        "\n",
        "\\begin{align}\n",
        "y = mx + b\n",
        "\\end{align}\n",
        "\n",
        "Where $m$ is the slope of our line and $b$ is the y-intercept. \n",
        "\n",
        "If we want to plot a line through our cloud of points we figure out what these two values should be. Linear Regression seeks to **estimate** the slope and intercept values that describe a line that best fits the data points."
      ]
    },
    {
      "cell_type": "markdown",
      "metadata": {
        "id": "h2j_yV-sdB9R",
        "colab_type": "text"
      },
      "source": [
        "## The Anatomy of Linear Regression\n",
        "\n",
        "- Intercept: The $b$ value in our line equation $y=mx+b$\n",
        "- Slope: The $m$ value in our line equation $y=mx+b$. These two values together define our regression line.\n",
        "- $\\hat{y}$ : A prediction\n",
        "- Line of Best Fit (Regression Line)\n",
        "- Predicted (fitted) Values: Points on our regression line\n",
        "- Observed Values: Points from our dataset\n",
        "- Error: The distance between predicted and observed values.\n"
      ]
    },
    {
      "cell_type": "markdown",
      "metadata": {
        "id": "ZwELnPXZFzt8",
        "colab_type": "text"
      },
      "source": [
        "Ordinary Least Squares Regression is a way to solve for $m$ and $b$.\n",
        "\n",
        "Let's start by seeing what would happen if we just guessed and checked some values for $m$ and $b$. \n",
        "\n",
        "What's the line of \"best\" fit look like? What's the error?\n"
      ]
    },
    {
      "cell_type": "code",
      "metadata": {
        "id": "sv-goEV4dB9R",
        "colab_type": "code",
        "colab": {}
      },
      "source": [
        "# TODO"
      ],
      "execution_count": 0,
      "outputs": []
    },
    {
      "cell_type": "markdown",
      "metadata": {
        "id": "XoFgNKrpdB9T",
        "colab_type": "text"
      },
      "source": [
        "## R Squared:  $R^2$\n",
        "\n",
        "One final attribute of linear regressions that we're going to talk about today is a measure of goodness of fit known as $R^2$ or R-squared. $R^2$ is a statistical measure of how close the data are fitted to our regression line. A helpful interpretation for the $R^2$ is the percentage of the dependent variable that is explained by the model.\n",
        "\n",
        "In other words, the $R^2$ is the percentage of y that is explained by the x variables included in the model. For this reason the $R^2$ is also known as the \"coefficient of determination,\" because it explains how much of y is explained (or determined) by our x varaibles. We won't go into the calculation of $R^2$ today, just know that a higher $R^2$ percentage is nearly always better and indicates a model that fits the data more closely. "
      ]
    },
    {
      "cell_type": "markdown",
      "metadata": {
        "id": "tEnpH_RDdB9U",
        "colab_type": "text"
      },
      "source": [
        "## Residual Error \n",
        "\n",
        "The residual error is the distance between points in our dataset and our regression line."
      ]
    },
    {
      "cell_type": "code",
      "metadata": {
        "id": "KmnoUUHKdB9V",
        "colab_type": "code",
        "colab": {
          "base_uri": "https://localhost:8080/",
          "height": 316
        },
        "outputId": "8d1a3227-d30d-4a9a-ea45-379847706b78"
      },
      "source": [
        "def regression_residuals(df, feature, target, m, b):\n",
        "    x = df[feature]\n",
        "    y = df[target]\n",
        "    y_pred = m*x + b\n",
        "    \n",
        "    plt.scatter(x, y, label='y_true')\n",
        "    plt.plot(x, y_pred, label='y_pred')\n",
        "    plt.legend()\n",
        "    \n",
        "    # Plot residual errors\n",
        "    for x, y1, y2 in zip(x, y, y_pred):\n",
        "        plt.plot((x, x), (y1, y2), color='grey')\n",
        "        \n",
        "    mae = mean_absolute_error(y, y_pred) \n",
        "    r2 = r2_score(y, y_pred)\n",
        "    print('Mean Absolute Error:', mae)\n",
        "    print('R^2:', r2)\n",
        "        \n",
        "regression_residuals(df, feature='Average Recent Growth in Personal Incomes', \n",
        "                     target='Incumbent Party Vote Share', m=3, b=46)"
      ],
      "execution_count": 7,
      "outputs": [
        {
          "output_type": "error",
          "ename": "NameError",
          "evalue": "ignored",
          "traceback": [
            "\u001b[0;31m---------------------------------------------------------------------------\u001b[0m",
            "\u001b[0;31mNameError\u001b[0m                                 Traceback (most recent call last)",
            "\u001b[0;32m<ipython-input-7-486498da7223>\u001b[0m in \u001b[0;36m<module>\u001b[0;34m()\u001b[0m\n\u001b[1;32m     18\u001b[0m \u001b[0;34m\u001b[0m\u001b[0m\n\u001b[1;32m     19\u001b[0m regression_residuals(df, feature='Average Recent Growth in Personal Incomes', \n\u001b[0;32m---> 20\u001b[0;31m                      target='Incumbent Party Vote Share', m=3, b=46)\n\u001b[0m",
            "\u001b[0;32m<ipython-input-7-486498da7223>\u001b[0m in \u001b[0;36mregression_residuals\u001b[0;34m(df, feature, target, m, b)\u001b[0m\n\u001b[1;32m      4\u001b[0m     \u001b[0my_pred\u001b[0m \u001b[0;34m=\u001b[0m \u001b[0mm\u001b[0m\u001b[0;34m*\u001b[0m\u001b[0mx\u001b[0m \u001b[0;34m+\u001b[0m \u001b[0mb\u001b[0m\u001b[0;34m\u001b[0m\u001b[0;34m\u001b[0m\u001b[0m\n\u001b[1;32m      5\u001b[0m \u001b[0;34m\u001b[0m\u001b[0m\n\u001b[0;32m----> 6\u001b[0;31m     \u001b[0mplt\u001b[0m\u001b[0;34m.\u001b[0m\u001b[0mscatter\u001b[0m\u001b[0;34m(\u001b[0m\u001b[0mx\u001b[0m\u001b[0;34m,\u001b[0m \u001b[0my\u001b[0m\u001b[0;34m,\u001b[0m \u001b[0mlabel\u001b[0m\u001b[0;34m=\u001b[0m\u001b[0;34m'y_true'\u001b[0m\u001b[0;34m)\u001b[0m\u001b[0;34m\u001b[0m\u001b[0;34m\u001b[0m\u001b[0m\n\u001b[0m\u001b[1;32m      7\u001b[0m     \u001b[0mplt\u001b[0m\u001b[0;34m.\u001b[0m\u001b[0mplot\u001b[0m\u001b[0;34m(\u001b[0m\u001b[0mx\u001b[0m\u001b[0;34m,\u001b[0m \u001b[0my_pred\u001b[0m\u001b[0;34m,\u001b[0m \u001b[0mlabel\u001b[0m\u001b[0;34m=\u001b[0m\u001b[0;34m'y_pred'\u001b[0m\u001b[0;34m)\u001b[0m\u001b[0;34m\u001b[0m\u001b[0;34m\u001b[0m\u001b[0m\n\u001b[1;32m      8\u001b[0m     \u001b[0mplt\u001b[0m\u001b[0;34m.\u001b[0m\u001b[0mlegend\u001b[0m\u001b[0;34m(\u001b[0m\u001b[0;34m)\u001b[0m\u001b[0;34m\u001b[0m\u001b[0;34m\u001b[0m\u001b[0m\n",
            "\u001b[0;31mNameError\u001b[0m: name 'plt' is not defined"
          ]
        }
      ]
    },
    {
      "cell_type": "code",
      "metadata": {
        "id": "HedRkOBEdB9X",
        "colab_type": "code",
        "colab": {}
      },
      "source": [
        "from ipywidgets import interact, fixed\n",
        "\n",
        "interact(regression_residuals, \n",
        "         df=fixed(df), \n",
        "         feature=fixed('Average Recent Growth in Personal Incomes'), \n",
        "         target=fixed('Incumbent Party Vote Share'), \n",
        "         m=(-10,10,0.5), \n",
        "         b=(40,60,0.5));"
      ],
      "execution_count": 0,
      "outputs": []
    },
    {
      "cell_type": "markdown",
      "metadata": {
        "id": "uKWKFpcidB9Y",
        "colab_type": "text"
      },
      "source": [
        "## More Formal Notation\n",
        "\n",
        "<img src=\"https://cdn-images-1.medium.com/max/1436/1*_TqRJ9SmwFzRigJhMiN2uw.png\" width=\"600\">\n",
        "\n",
        "We have talked about a line of regression being represented like a regular line $y=mx+b$ but as we get to more complicated versions we're going to need to extend this equation. So lets establish the proper terminology.\n",
        "\n",
        "**X** - Independent Variable, predictor variable, explanatory variable, regressor, covariate\n",
        "\n",
        "**Y** - Response variable, predicted variable, measured vairable, explained variable, outcome variable\n",
        "\n",
        "$\\beta_0$ - \"Beta Naught\" or \"Beta Zero\", the intercept value. This is how much of y would exist if X were zero. This is sometimes represented by the letter \"a\" but I hate that. So it's \"Beta 0\" during my lecture.\n",
        "\n",
        "$\\beta_1$ - \"Beta One\" The primary coefficient of interest. This values is the slope of the line that is estimated by \"minimizing the sum of the squared errors/residuals\" - We'll get to that. \n",
        "\n",
        "$\\epsilon$ - \"Epsilon\" The \"error term\", random noise, things outside of our model that affect y."
      ]
    },
    {
      "cell_type": "markdown",
      "metadata": {
        "id": "DlhU7ewgdB9Y",
        "colab_type": "text"
      },
      "source": [
        "## Minimizing the Sum of the Squared Error\n",
        "\n",
        "The most common method of estimating our $\\beta$ parameters  is what's known as \"Ordinary Least Squares\" (OLS). (There are different methods of arriving at a line of best fit). OLS estimates the parameters that minimize the squared distance between each point in our dataset and our line of best fit. \n",
        "\n",
        "\\begin{align}\n",
        "SSE = \\sum(y_i - \\hat{y})^2\n",
        "\\end{align}\n"
      ]
    },
    {
      "cell_type": "code",
      "metadata": {
        "id": "DWOfefPGdB9Z",
        "colab_type": "code",
        "colab": {}
      },
      "source": [
        "from matplotlib.patches import Rectangle\n",
        "import numpy as np\n",
        "from sklearn.metrics import mean_squared_error\n",
        "\n",
        "def regression_squared_errors(df, feature, target, m, b):\n",
        "    x = df[feature]\n",
        "    y = df[target]\n",
        "    y_pred = m*x + b\n",
        "    \n",
        "    fig = plt.figure(figsize=(7,7))\n",
        "    ax = plt.axes()\n",
        "    ax.scatter(x, y, label='y_true')\n",
        "    ax.plot(x, y_pred, label='y_pred')\n",
        "    ax.legend()\n",
        "    \n",
        "    # Plot square errors\n",
        "    xmin, xmax = ax.get_xlim()\n",
        "    ymin, ymax = ax.get_ylim()\n",
        "    scale = (xmax-xmin)/(ymax-ymin)\n",
        "    for x, y1, y2 in zip(x, y, y_pred):\n",
        "        bottom_left = (x, min(y1, y2))\n",
        "        height = abs(y1 - y2)\n",
        "        width = height * scale\n",
        "        ax.add_patch(Rectangle(xy=bottom_left, width=width, height=height, alpha=0.1))\n",
        "        \n",
        "    mse = mean_squared_error(y, y_pred)\n",
        "    rmse = np.sqrt(mse)\n",
        "    mae = mean_absolute_error(y, y_pred)\n",
        "    r2 = r2_score(y, y_pred)\n",
        "    print('Mean Squared Error:', mse)\n",
        "    print('Root Mean Squared Error:', rmse)\n",
        "    print('Mean Absolute Error:', mae)\n",
        "    print('R^2:', r2)\n",
        "    \n",
        "regression_squared_errors(df, feature='Average Recent Growth in Personal Incomes', \n",
        "           target='Incumbent Party Vote Share', m=3, b=46)"
      ],
      "execution_count": 0,
      "outputs": []
    },
    {
      "cell_type": "code",
      "metadata": {
        "id": "wY9Wvv-YdB9c",
        "colab_type": "code",
        "colab": {}
      },
      "source": [
        "interact(regression_squared_errors, \n",
        "         df=fixed(df), \n",
        "         feature=fixed('Average Recent Growth in Personal Incomes'), \n",
        "         target=fixed('Incumbent Party Vote Share'), \n",
        "         m=(-10,10,0.5), \n",
        "         b=(40,60,0.5));"
      ],
      "execution_count": 0,
      "outputs": []
    },
    {
      "cell_type": "markdown",
      "metadata": {
        "id": "JENtcq0qdB9d",
        "colab_type": "text"
      },
      "source": [
        "## Hypotheses"
      ]
    },
    {
      "cell_type": "code",
      "metadata": {
        "id": "SyGDRdXkdB9e",
        "colab_type": "code",
        "colab": {}
      },
      "source": [
        "b = 46\n",
        "ms = np.arange(-10,10,0.5)\n",
        "sses = []\n",
        "feature = 'Average Recent Growth in Personal Incomes'\n",
        "\n",
        "for m in ms:\n",
        "    predictions = m * df[feature] + b\n",
        "    errors = predictions - df[target]\n",
        "    square_errors = errors ** 2\n",
        "    sse = square_errors.sum()\n",
        "    sses.append(sse)\n",
        "    \n",
        "hypotheses = pd.DataFrame({'Slope': ms})\n",
        "hypotheses['Intercept'] = b\n",
        "hypotheses['Sum of Square Errors'] = sses\n",
        "\n",
        "hypotheses"
      ],
      "execution_count": 0,
      "outputs": []
    },
    {
      "cell_type": "code",
      "metadata": {
        "id": "r_6w2NijdB9f",
        "colab_type": "code",
        "colab": {}
      },
      "source": [
        "hypotheses.plot(x='Slope', y='Sum of Square Errors', \n",
        "                title=f'Intercept={b}');"
      ],
      "execution_count": 0,
      "outputs": []
    },
    {
      "cell_type": "markdown",
      "metadata": {
        "id": "79P6zF_KdB9h",
        "colab_type": "text"
      },
      "source": [
        "## Scikit-learn\n",
        "\n",
        "#### Jake VanderPlas, [Python Data Science Handbook, Chapter 5.2, Introducing Scikit-Learn](https://jakevdp.github.io/PythonDataScienceHandbook/05.02-introducing-scikit-learn.html), Scikit-Learn's Estimator API\n",
        "\n",
        "> Most commonly, the steps in using the Scikit-Learn estimator API are as follows (we will step through a handful of detailed examples in the sections that follow).\n",
        "\n",
        "> 1. Choose a class of model by importing the appropriate estimator class from Scikit-Learn. \n",
        "> 2. Choose model hyperparameters by instantiating this class with desired values. \n",
        "> 3. Arrange data into a features matrix and target vector following the discussion above.\n",
        "> 4. Fit the model to your data by calling the `fit()` method of the model instance.\n",
        "> 5. Apply the Model to new data: For supervised learning, often we predict labels for unknown data using the `predict()` method."
      ]
    },
    {
      "cell_type": "code",
      "metadata": {
        "id": "HnLrLQ1adB9h",
        "colab_type": "code",
        "colab": {}
      },
      "source": [
        "# TODO"
      ],
      "execution_count": 0,
      "outputs": []
    },
    {
      "cell_type": "markdown",
      "metadata": {
        "id": "c5biGqP0dB9i",
        "colab_type": "text"
      },
      "source": [
        "## Linear Algebra!\n",
        "\n",
        "The same result that is found by minimizing the sum of the squared errors can be also found through a linear algebra process known as the \"Least Squares Solution:\"\n",
        "\n",
        "\\begin{align}\n",
        "\\hat{\\beta} = (X^{T}X)^{-1}X^{T}y\n",
        "\\end{align}\n",
        "\n",
        "Before we can work with this equation in its linear algebra form we have to understand how to set up the matrices that are involved in this equation. "
      ]
    },
    {
      "cell_type": "markdown",
      "metadata": {
        "id": "fEBgV_xqdB9j",
        "colab_type": "text"
      },
      "source": [
        "### The $\\beta$ vector\n",
        "\n",
        "The $\\beta$ vector represents all the parameters that we are trying to estimate, our $y$ vector and $X$ matrix values are full of data from our dataset. The $\\beta$ vector holds the variables that we are solving for: $\\beta_0$ and $\\beta_1$\n",
        "\n",
        "Now that we have all of the necessary parts we can set them up in the following equation:\n",
        "\n",
        "\\begin{align}\n",
        "y = X \\beta + \\epsilon\n",
        "\\end{align}\n",
        "\n",
        "Since our $\\epsilon$ value represents **random** error we can assume that it will equal zero on average.\n",
        "\n",
        "\\begin{align}\n",
        "y = X \\beta\n",
        "\\end{align}\n",
        "\n",
        "The objective now is to isolate the $\\beta$ matrix. We can do this by pre-multiplying both sides by \"X transpose\" $X^{T}$.\n",
        "\n",
        "\\begin{align}\n",
        "X^{T}y =  X^{T}X \\beta\n",
        "\\end{align}\n",
        "\n",
        "Since anything times its transpose will result in a square matrix, if that matrix is then an invertible matrix, then we should be able to multiply both sides by its inverse to remove it from the right hand side. (We'll talk tomorrow about situations that could lead to $X^{T}X$ not being invertible.)\n",
        "\n",
        "\\begin{align}\n",
        "(X^{T}X)^{-1}X^{T}y =  (X^{T}X)^{-1}X^{T}X \\beta\n",
        "\\end{align}\n",
        "\n",
        "Since any matrix multiplied by its inverse results in the identity matrix, and anything multiplied by the identity matrix is itself, we are left with only $\\beta$ on the right hand side:\n",
        "\n",
        "\\begin{align}\n",
        "(X^{T}X)^{-1}X^{T}y = \\hat{\\beta}\n",
        "\\end{align}\n",
        "\n",
        "We will now call it \"beta hat\" $\\hat{\\beta}$ because it now represents our estimated values for $\\beta_0$ and $\\beta_1$\n",
        "\n",
        "### Lets calculate our $\\beta$ coefficients with numpy!"
      ]
    },
    {
      "cell_type": "code",
      "metadata": {
        "id": "hPoxzXtlvCGz",
        "colab_type": "code",
        "colab": {}
      },
      "source": [
        "from statsmodels.api import add_constant\n",
        "\n",
        "X = add_constant(df[feature].values)\n",
        "print('X')\n",
        "print(X)\n",
        "\n",
        "y = df[target].values[:, np.newaxis]\n",
        "print('y')\n",
        "print(y)\n",
        "\n",
        "X_transpose = X.T\n",
        "print('X Transpose')\n",
        "print(X_transpose)\n",
        "\n",
        "X_transpose_X = X_transpose @ X\n",
        "print('X Transpose X')\n",
        "print(X_transpose_X)\n",
        "\n",
        "X_transpose_X_inverse = np.linalg.inv(X_transpose_X)\n",
        "print('X Transpose X Inverse')\n",
        "print(X_transpose_X_inverse)\n",
        "\n",
        "X_transpose_y = X_transpose @ y\n",
        "print('X Transpose y')\n",
        "print(X_transpose_y)\n",
        "\n",
        "beta_hat = X_transpose_X_inverse @ X_transpose_y\n",
        "print('Beta Hat')\n",
        "print(beta_hat)"
      ],
      "execution_count": 0,
      "outputs": []
    },
    {
      "cell_type": "markdown",
      "metadata": {
        "id": "i18xwsVxdB9l",
        "colab_type": "text"
      },
      "source": [
        "# Multiple Regression\n",
        "\n",
        "Simple or bivariate linear regression involves a single $x$ variable and a single $y$ variable. However, we can have many $x$ variables. A linear regression model that involves multiple x variables is known as **Multiple** Regression (NOT MULTIVARIATE).\n",
        "\n",
        "\\begin{align}\n",
        "y = \\beta_0 + \\beta_1 X_1 + \\beta_2 X_2 + ... + \\beta_n X_n + \\epsilon\n",
        "\\end{align}"
      ]
    },
    {
      "cell_type": "code",
      "metadata": {
        "id": "p8zmTC-12-K6",
        "colab_type": "code",
        "colab": {}
      },
      "source": [
        "# TODO"
      ],
      "execution_count": 0,
      "outputs": []
    },
    {
      "cell_type": "markdown",
      "metadata": {
        "id": "AcHvzlcfOIg8",
        "colab_type": "text"
      },
      "source": [
        "## Visualize hyperplane of best fit in 3D"
      ]
    },
    {
      "cell_type": "code",
      "metadata": {
        "id": "5aWyg1DWyph3",
        "colab_type": "code",
        "colab": {}
      },
      "source": [
        "# https://stackoverflow.com/a/47230966\n",
        "# Plotly notebook mode with google colaboratory\n",
        "# You need to define this function\n",
        "# And call it in each offline plotting cell\n",
        "\n",
        "def configure_plotly_browser_state():\n",
        "    import IPython\n",
        "    display(IPython.core.display.HTML('''\n",
        "        <script src=\"/static/components/requirejs/require.js\"></script>\n",
        "        <script>\n",
        "          requirejs.config({\n",
        "            paths: {\n",
        "              base: '/static/base',\n",
        "              plotly: 'https://cdn.plot.ly/plotly-latest.min.js?noext',\n",
        "            },\n",
        "          });\n",
        "        </script>\n",
        "        '''))"
      ],
      "execution_count": 0,
      "outputs": []
    },
    {
      "cell_type": "code",
      "metadata": {
        "id": "msewYJ85_16k",
        "colab_type": "code",
        "colab": {}
      },
      "source": [
        "import itertools\n",
        "import plotly.graph_objs as go\n",
        "from plotly.offline import init_notebook_mode, iplot\n",
        "init_notebook_mode(connected=True)\n",
        "\n",
        "def viz3D(fitted_model, X, features, target='', num=100):\n",
        "    \"\"\"\n",
        "    Visualize model predictions in 3D, for regression model fit on 2 features\n",
        "    \n",
        "    Parameters\n",
        "    ----------\n",
        "    fitted_model : scikit-learn model, already fitted\n",
        "    X : pandas dataframe, which was used to fit model\n",
        "    features : list of strings, column names of the 2 features\n",
        "    target : string, name of target\n",
        "    num : int, number of grid points for each feature\n",
        "    \n",
        "    References\n",
        "    ----------\n",
        "    https://plot.ly/python/3d-charts/\n",
        "    \"\"\"\n",
        "    feature1, feature2 = features\n",
        "    min1, max1 = X[feature1].min(), X[feature1].max()\n",
        "    min2, max2 = X[feature2].min(), X[feature2].max()\n",
        "    x1 = np.linspace(min1, max1, num)\n",
        "    x2 = np.linspace(min2, max2, num)\n",
        "    combos = list(itertools.product(x1, x2))\n",
        "    Z = fitted_model.predict(combos).reshape(num, num)\n",
        "    \n",
        "    configure_plotly_browser_state()\n",
        "    data = [go.Surface(x=x1, y=x2, z=Z)]\n",
        "    layout = go.Layout(\n",
        "        scene={'xaxis': {'title': feature1, 'range': [min1,max1], 'showticklabels': True}, \n",
        "               'yaxis': {'title': feature2, 'range': [min2,max2], 'showticklabels': True}, \n",
        "               'zaxis': {'title': target, 'showticklabels': True}}, \n",
        "    )\n",
        "    fig = go.Figure(data=data, layout=layout)\n",
        "    iplot(fig)"
      ],
      "execution_count": 0,
      "outputs": []
    },
    {
      "cell_type": "code",
      "metadata": {
        "id": "NRoZIBc33GeV",
        "colab_type": "code",
        "colab": {}
      },
      "source": [
        "# TODO"
      ],
      "execution_count": 0,
      "outputs": []
    },
    {
      "cell_type": "markdown",
      "metadata": {
        "id": "ueHbXPJ4dB9p",
        "colab_type": "text"
      },
      "source": [
        "## Dimensionality in Linear Regression\n",
        "\n",
        "Muliple Regression is simply an extension of the bivariate case. The reason why we see the bivariate case demonstrated so often is simply because it's easier to graph and all of the intuition from the bivariate case is the same as we keep on adding explanatory variables.\n",
        "\n",
        "As we increase the number of $x$ values in our model we are simply fitting a n-1-dimensional plane to an n-dimensional cloud of points within an n-dimensional hypercube. "
      ]
    },
    {
      "cell_type": "markdown",
      "metadata": {
        "id": "1N12KLVsdB9q",
        "colab_type": "text"
      },
      "source": [
        "## Interpreting Coefficients\n",
        "\n",
        "One of Linear Regression's strengths is that the parameters of the model (coefficients) are readily interpretable and useful. Not only do they describe the relationship between x and y but they put a number on just how much x is associated with y. We should be careful to not speak about this relationshiop in terms of causality because these coefficients are in fact correlative measures. We would need a host of additional techniques in order to estimate a causal effect using linear regression (econometrics).\n",
        "\n",
        "\\begin{align}\n",
        "\\hat{\\beta} = \\frac{Cov(x,y)}{Var(y)}\n",
        "\\end{align}"
      ]
    },
    {
      "cell_type": "markdown",
      "metadata": {
        "id": "1TTvvbn4dB9v",
        "colab_type": "text"
      },
      "source": [
        "## Why is Linear Regression so Important?\n",
        "\n",
        "### Popularity \n",
        "\n",
        "Linear Regression is an extremely popular technique that every data scientist **needs** to understand. It's not the most advanced technique and there are supervised learning techniques that will obtain a higher accuracy, but where it lacks in accuracy it makes up for it in interpretability and simplicity.\n",
        "\n",
        "### Interpretability\n",
        "\n",
        "Few other models possess coefficients that are so directly linked to their variables with a such a clear interpretation. Tomorrow we're going to learn about ways to make them even easier to interpret.\n",
        "\n",
        "### Simplicity\n",
        "\n",
        "A linear regression model can be communicated just by writing out its equation. It's kind of incredible that such high dimensional relationships can be described from just a linear combination of variables and coefficients. "
      ]
    },
    {
      "cell_type": "markdown",
      "metadata": {
        "id": "FxUj5y_3JFzw",
        "colab_type": "text"
      },
      "source": [
        "# Assignment\n",
        "- Continue to predict New York City apartment rents. This is your last assignment with this dataset.\n",
        "- You may select any number of features. You are encouraged to engineer new features.\n",
        "- Get and plot your model's coefficients.\n",
        "- Report your Root Mean Squared Error, Mean Absolute Error, and R^2 Score, for your Train and Test sets. Share your scores with your cohort on Slack!\n",
        "- Fit a model with 2 features, and visualize the plane of best fit in 3D.\n",
        "- Commit your notebook to your fork of the repo.\n",
        "\n",
        "## Stretch Goals\n",
        "\n",
        "Study more about Linear Regression. Here are two helpful links. If you find more links, share your favorites with your cohort on Slack.\n",
        "\n",
        "1. Watch this 20 minute video that just hit 1 million views: Brandon Foltz, Statistics 101: Simple Linear Regression (https://www.youtube.com/watch?v=ZkjP5RJLQF4)\n",
        "2. Skim _An Introduction to Statistical Learning_, Chapter 3.1, Simple Linear Regression, & Chapter 3.2, Multiple Linear Regression (http://www-bcf.usc.edu/~gareth/ISL/ISLR%20Seventh%20Printing.pdf)\n",
        "\n",
        "In your 3D visualization, can you include the actual datapoints, like in [this notebook](https://nbviewer.jupyter.org/urls/s3.amazonaws.com/datarobotblog/notebooks/multiple_regression_in_python.ipynb)? Can you also include the residual lines from the datapoints to the plane of the best fit, like in _An Introduction to Statistical Learning?_ This would be hard to do, but awesome!\n",
        "\n",
        "\n",
        "Can you get creative with feature engineering? Share with your cohort on Slack. We mentioned some feature ideas at the end of last lesson, but didn't demonstrate how to engineer them. So here are some example solutions:\n",
        "\n",
        "```python\n",
        "# Does apartment have a non-empty description?\n",
        "df['description'] = df['description'].str.strip().fillna('')\n",
        "df['has_description'] = df['description'] != ''\n",
        "\n",
        "# How long is the description?\n",
        "df['description_length'] = df['description'].str.len()\n",
        "\n",
        "# How many total perks does each apartment have?\n",
        "perk_cols = ['elevator', 'cats_allowed', 'hardwood_floors', 'dogs_allowed',\n",
        "             'doorman', 'dishwasher', 'no_fee', 'laundry_in_building',\n",
        "             'fitness_center', 'pre-war', 'laundry_in_unit', 'roof_deck',\n",
        "             'outdoor_space', 'dining_room', 'high_speed_internet', 'balcony',\n",
        "             'swimming_pool', 'new_construction', 'exclusive', 'terrace', \n",
        "             'loft', 'garden_patio', 'common_outdoor_space', \n",
        "             'wheelchair_access']\n",
        "df['perk_count'] = df[perk_cols].sum(axis=1)\n",
        "\n",
        "# Are pets allowed?\n",
        "df['pets_allowed'] = (df['cats_allowed']==1) | (df['dogs_allowed']==1)\n",
        "```\n"
      ]
    }
  ]
}