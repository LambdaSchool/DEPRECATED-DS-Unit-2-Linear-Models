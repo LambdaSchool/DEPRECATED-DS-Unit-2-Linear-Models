{
 "cells": [
  {
   "cell_type": "code",
   "execution_count": 1,
   "metadata": {},
   "outputs": [],
   "source": [
    "# Let's do our imports\n",
    "import pandas as pd\n",
    "import numpy as np\n",
    "import matplotlib.pyplot as plt\n",
    "import math\n",
    "from sklearn.metrics import mean_absolute_error\n",
    "from sklearn.linear_model import LinearRegression\n",
    "from sklearn.preprocessing import StandardScaler\n"
   ]
  },
  {
   "cell_type": "code",
   "execution_count": 2,
   "metadata": {},
   "outputs": [
    {
     "name": "stdout",
     "output_type": "stream",
     "text": [
      "Requirement already satisfied: category_encoders in c:\\programdata\\anaconda3\\lib\\site-packages (2.0.0)\n",
      "Requirement already satisfied: scipy>=0.19.0 in c:\\programdata\\anaconda3\\lib\\site-packages (from category_encoders) (1.2.1)\n",
      "Requirement already satisfied: patsy>=0.4.1 in c:\\programdata\\anaconda3\\lib\\site-packages (from category_encoders) (0.5.1)\n",
      "Requirement already satisfied: scikit-learn>=0.20.0 in c:\\programdata\\anaconda3\\lib\\site-packages (from category_encoders) (0.20.3)\n",
      "Requirement already satisfied: pandas>=0.21.1 in c:\\programdata\\anaconda3\\lib\\site-packages (from category_encoders) (0.24.2)\n",
      "Requirement already satisfied: statsmodels>=0.6.1 in c:\\programdata\\anaconda3\\lib\\site-packages (from category_encoders) (0.9.0)\n",
      "Requirement already satisfied: numpy>=1.11.3 in c:\\programdata\\anaconda3\\lib\\site-packages (from category_encoders) (1.16.2)\n",
      "Requirement already satisfied: six in c:\\programdata\\anaconda3\\lib\\site-packages (from patsy>=0.4.1->category_encoders) (1.12.0)\n",
      "Requirement already satisfied: python-dateutil>=2.5.0 in c:\\programdata\\anaconda3\\lib\\site-packages (from pandas>=0.21.1->category_encoders) (2.8.0)\n",
      "Requirement already satisfied: pytz>=2011k in c:\\programdata\\anaconda3\\lib\\site-packages (from pandas>=0.21.1->category_encoders) (2018.9)\n"
     ]
    }
   ],
   "source": [
    "!pip install category_encoders"
   ]
  },
  {
   "cell_type": "code",
   "execution_count": 3,
   "metadata": {},
   "outputs": [],
   "source": [
    "import category_encoders as ce"
   ]
  },
  {
   "cell_type": "code",
   "execution_count": 4,
   "metadata": {},
   "outputs": [
    {
     "name": "stdout",
     "output_type": "stream",
     "text": [
      "Requirement already up-to-date: pandas-profiling in c:\\programdata\\anaconda3\\lib\\site-packages (2.1.2)\n",
      "Requirement already satisfied, skipping upgrade: matplotlib>=1.4 in c:\\programdata\\anaconda3\\lib\\site-packages (from pandas-profiling) (3.0.3)\n",
      "Requirement already satisfied, skipping upgrade: htmlmin>=0.1.12 in c:\\programdata\\anaconda3\\lib\\site-packages (from pandas-profiling) (0.1.12)\n",
      "Requirement already satisfied, skipping upgrade: confuse>=1.0.0 in c:\\programdata\\anaconda3\\lib\\site-packages (from pandas-profiling) (1.0.0)\n",
      "Requirement already satisfied, skipping upgrade: missingno>=0.4.1 in c:\\programdata\\anaconda3\\lib\\site-packages (from pandas-profiling) (0.4.2)\n",
      "Requirement already satisfied, skipping upgrade: jinja2>=2.8 in c:\\programdata\\anaconda3\\lib\\site-packages (from pandas-profiling) (2.10)\n",
      "Requirement already satisfied, skipping upgrade: pandas>=0.19 in c:\\programdata\\anaconda3\\lib\\site-packages (from pandas-profiling) (0.24.2)\n",
      "Requirement already satisfied, skipping upgrade: phik>=0.9.8 in c:\\programdata\\anaconda3\\lib\\site-packages (from pandas-profiling) (0.9.8)\n",
      "Requirement already satisfied, skipping upgrade: numpy>=1.10.0 in c:\\programdata\\anaconda3\\lib\\site-packages (from matplotlib>=1.4->pandas-profiling) (1.16.2)\n",
      "Requirement already satisfied, skipping upgrade: cycler>=0.10 in c:\\programdata\\anaconda3\\lib\\site-packages (from matplotlib>=1.4->pandas-profiling) (0.10.0)\n",
      "Requirement already satisfied, skipping upgrade: kiwisolver>=1.0.1 in c:\\programdata\\anaconda3\\lib\\site-packages (from matplotlib>=1.4->pandas-profiling) (1.0.1)\n",
      "Requirement already satisfied, skipping upgrade: pyparsing!=2.0.4,!=2.1.2,!=2.1.6,>=2.0.1 in c:\\programdata\\anaconda3\\lib\\site-packages (from matplotlib>=1.4->pandas-profiling) (2.3.1)\n",
      "Requirement already satisfied, skipping upgrade: python-dateutil>=2.1 in c:\\programdata\\anaconda3\\lib\\site-packages (from matplotlib>=1.4->pandas-profiling) (2.8.0)\n",
      "Requirement already satisfied, skipping upgrade: pyyaml in c:\\programdata\\anaconda3\\lib\\site-packages (from confuse>=1.0.0->pandas-profiling) (5.1)\n",
      "Requirement already satisfied, skipping upgrade: seaborn in c:\\programdata\\anaconda3\\lib\\site-packages (from missingno>=0.4.1->pandas-profiling) (0.9.0)\n",
      "Requirement already satisfied, skipping upgrade: scipy in c:\\programdata\\anaconda3\\lib\\site-packages (from missingno>=0.4.1->pandas-profiling) (1.2.1)\n",
      "Requirement already satisfied, skipping upgrade: MarkupSafe>=0.23 in c:\\programdata\\anaconda3\\lib\\site-packages (from jinja2>=2.8->pandas-profiling) (1.1.1)\n",
      "Requirement already satisfied, skipping upgrade: pytz>=2011k in c:\\programdata\\anaconda3\\lib\\site-packages (from pandas>=0.19->pandas-profiling) (2018.9)\n",
      "Requirement already satisfied, skipping upgrade: nbconvert>=5.3.1 in c:\\programdata\\anaconda3\\lib\\site-packages (from phik>=0.9.8->pandas-profiling) (5.4.1)\n",
      "Requirement already satisfied, skipping upgrade: numba>=0.38.1 in c:\\programdata\\anaconda3\\lib\\site-packages (from phik>=0.9.8->pandas-profiling) (0.43.1)\n",
      "Requirement already satisfied, skipping upgrade: jupyter-client>=5.2.3 in c:\\programdata\\anaconda3\\lib\\site-packages (from phik>=0.9.8->pandas-profiling) (5.2.4)\n",
      "Requirement already satisfied, skipping upgrade: pytest-pylint>=0.13.0 in c:\\programdata\\anaconda3\\lib\\site-packages (from phik>=0.9.8->pandas-profiling) (0.14.0)\n",
      "Requirement already satisfied, skipping upgrade: pytest>=4.0.2 in c:\\programdata\\anaconda3\\lib\\site-packages (from phik>=0.9.8->pandas-profiling) (4.3.1)\n",
      "Requirement already satisfied, skipping upgrade: six in c:\\programdata\\anaconda3\\lib\\site-packages (from cycler>=0.10->matplotlib>=1.4->pandas-profiling) (1.12.0)\n",
      "Requirement already satisfied, skipping upgrade: setuptools in c:\\programdata\\anaconda3\\lib\\site-packages (from kiwisolver>=1.0.1->matplotlib>=1.4->pandas-profiling) (40.8.0)\n",
      "Requirement already satisfied, skipping upgrade: mistune>=0.8.1 in c:\\programdata\\anaconda3\\lib\\site-packages (from nbconvert>=5.3.1->phik>=0.9.8->pandas-profiling) (0.8.4)\n",
      "Requirement already satisfied, skipping upgrade: pygments in c:\\programdata\\anaconda3\\lib\\site-packages (from nbconvert>=5.3.1->phik>=0.9.8->pandas-profiling) (2.3.1)\n",
      "Requirement already satisfied, skipping upgrade: traitlets>=4.2 in c:\\programdata\\anaconda3\\lib\\site-packages (from nbconvert>=5.3.1->phik>=0.9.8->pandas-profiling) (4.3.2)\n",
      "Requirement already satisfied, skipping upgrade: jupyter_core in c:\\programdata\\anaconda3\\lib\\site-packages (from nbconvert>=5.3.1->phik>=0.9.8->pandas-profiling) (4.4.0)\n",
      "Requirement already satisfied, skipping upgrade: nbformat>=4.4 in c:\\programdata\\anaconda3\\lib\\site-packages (from nbconvert>=5.3.1->phik>=0.9.8->pandas-profiling) (4.4.0)\n",
      "Requirement already satisfied, skipping upgrade: entrypoints>=0.2.2 in c:\\programdata\\anaconda3\\lib\\site-packages (from nbconvert>=5.3.1->phik>=0.9.8->pandas-profiling) (0.3)\n",
      "Requirement already satisfied, skipping upgrade: bleach in c:\\programdata\\anaconda3\\lib\\site-packages (from nbconvert>=5.3.1->phik>=0.9.8->pandas-profiling) (3.1.0)\n",
      "Requirement already satisfied, skipping upgrade: pandocfilters>=1.4.1 in c:\\programdata\\anaconda3\\lib\\site-packages (from nbconvert>=5.3.1->phik>=0.9.8->pandas-profiling) (1.4.2)\n",
      "Requirement already satisfied, skipping upgrade: testpath in c:\\programdata\\anaconda3\\lib\\site-packages (from nbconvert>=5.3.1->phik>=0.9.8->pandas-profiling) (0.4.2)\n",
      "Requirement already satisfied, skipping upgrade: defusedxml in c:\\programdata\\anaconda3\\lib\\site-packages (from nbconvert>=5.3.1->phik>=0.9.8->pandas-profiling) (0.5.0)\n",
      "Requirement already satisfied, skipping upgrade: llvmlite>=0.28.0dev0 in c:\\programdata\\anaconda3\\lib\\site-packages (from numba>=0.38.1->phik>=0.9.8->pandas-profiling) (0.28.0)\n",
      "Requirement already satisfied, skipping upgrade: pyzmq>=13 in c:\\programdata\\anaconda3\\lib\\site-packages (from jupyter-client>=5.2.3->phik>=0.9.8->pandas-profiling) (18.0.0)\n",
      "Requirement already satisfied, skipping upgrade: tornado>=4.1 in c:\\programdata\\anaconda3\\lib\\site-packages (from jupyter-client>=5.2.3->phik>=0.9.8->pandas-profiling) (6.0.2)\n",
      "Requirement already satisfied, skipping upgrade: pylint>=1.4.5 in c:\\programdata\\anaconda3\\lib\\site-packages (from pytest-pylint>=0.13.0->phik>=0.9.8->pandas-profiling) (2.3.1)\n",
      "Requirement already satisfied, skipping upgrade: py>=1.5.0 in c:\\programdata\\anaconda3\\lib\\site-packages (from pytest>=4.0.2->phik>=0.9.8->pandas-profiling) (1.8.0)\n",
      "Requirement already satisfied, skipping upgrade: attrs>=17.4.0 in c:\\programdata\\anaconda3\\lib\\site-packages (from pytest>=4.0.2->phik>=0.9.8->pandas-profiling) (19.1.0)\n",
      "Requirement already satisfied, skipping upgrade: atomicwrites>=1.0 in c:\\programdata\\anaconda3\\lib\\site-packages (from pytest>=4.0.2->phik>=0.9.8->pandas-profiling) (1.3.0)\n",
      "Requirement already satisfied, skipping upgrade: pluggy>=0.7 in c:\\programdata\\anaconda3\\lib\\site-packages (from pytest>=4.0.2->phik>=0.9.8->pandas-profiling) (0.9.0)\n",
      "Requirement already satisfied, skipping upgrade: more-itertools>=4.0.0 in c:\\programdata\\anaconda3\\lib\\site-packages (from pytest>=4.0.2->phik>=0.9.8->pandas-profiling) (6.0.0)\n",
      "Requirement already satisfied, skipping upgrade: colorama in c:\\programdata\\anaconda3\\lib\\site-packages (from pytest>=4.0.2->phik>=0.9.8->pandas-profiling) (0.4.1)\n",
      "Requirement already satisfied, skipping upgrade: ipython-genutils in c:\\programdata\\anaconda3\\lib\\site-packages (from traitlets>=4.2->nbconvert>=5.3.1->phik>=0.9.8->pandas-profiling) (0.2.0)\n",
      "Requirement already satisfied, skipping upgrade: decorator in c:\\programdata\\anaconda3\\lib\\site-packages (from traitlets>=4.2->nbconvert>=5.3.1->phik>=0.9.8->pandas-profiling) (4.4.0)\n",
      "Requirement already satisfied, skipping upgrade: jsonschema!=2.5.0,>=2.4 in c:\\programdata\\anaconda3\\lib\\site-packages (from nbformat>=4.4->nbconvert>=5.3.1->phik>=0.9.8->pandas-profiling) (3.0.1)\n",
      "Requirement already satisfied, skipping upgrade: webencodings in c:\\programdata\\anaconda3\\lib\\site-packages (from bleach->nbconvert>=5.3.1->phik>=0.9.8->pandas-profiling) (0.5.1)\n",
      "Requirement already satisfied, skipping upgrade: astroid<3,>=2.2.0 in c:\\programdata\\anaconda3\\lib\\site-packages (from pylint>=1.4.5->pytest-pylint>=0.13.0->phik>=0.9.8->pandas-profiling) (2.2.5)\n",
      "Requirement already satisfied, skipping upgrade: isort<5,>=4.2.5 in c:\\programdata\\anaconda3\\lib\\site-packages (from pylint>=1.4.5->pytest-pylint>=0.13.0->phik>=0.9.8->pandas-profiling) (4.3.16)\n",
      "Requirement already satisfied, skipping upgrade: mccabe<0.7,>=0.6 in c:\\programdata\\anaconda3\\lib\\site-packages (from pylint>=1.4.5->pytest-pylint>=0.13.0->phik>=0.9.8->pandas-profiling) (0.6.1)\n",
      "Requirement already satisfied, skipping upgrade: pyrsistent>=0.14.0 in c:\\programdata\\anaconda3\\lib\\site-packages (from jsonschema!=2.5.0,>=2.4->nbformat>=4.4->nbconvert>=5.3.1->phik>=0.9.8->pandas-profiling) (0.14.11)\n",
      "Requirement already satisfied, skipping upgrade: typed-ast>=1.3.0; implementation_name == \"cpython\" in c:\\programdata\\anaconda3\\lib\\site-packages (from astroid<3,>=2.2.0->pylint>=1.4.5->pytest-pylint>=0.13.0->phik>=0.9.8->pandas-profiling) (1.4.0)\n",
      "Requirement already satisfied, skipping upgrade: lazy-object-proxy in c:\\programdata\\anaconda3\\lib\\site-packages (from astroid<3,>=2.2.0->pylint>=1.4.5->pytest-pylint>=0.13.0->phik>=0.9.8->pandas-profiling) (1.3.1)\n",
      "Requirement already satisfied, skipping upgrade: wrapt in c:\\programdata\\anaconda3\\lib\\site-packages (from astroid<3,>=2.2.0->pylint>=1.4.5->pytest-pylint>=0.13.0->phik>=0.9.8->pandas-profiling) (1.11.1)\n"
     ]
    }
   ],
   "source": [
    "!pip install -U pandas-profiling"
   ]
  },
  {
   "cell_type": "code",
   "execution_count": 5,
   "metadata": {},
   "outputs": [
    {
     "data": {
      "text/html": [
       "<div>\n",
       "<style scoped>\n",
       "    .dataframe tbody tr th:only-of-type {\n",
       "        vertical-align: middle;\n",
       "    }\n",
       "\n",
       "    .dataframe tbody tr th {\n",
       "        vertical-align: top;\n",
       "    }\n",
       "\n",
       "    .dataframe thead th {\n",
       "        text-align: right;\n",
       "    }\n",
       "</style>\n",
       "<table border=\"1\" class=\"dataframe\">\n",
       "  <thead>\n",
       "    <tr style=\"text-align: right;\">\n",
       "      <th></th>\n",
       "      <th>bathrooms</th>\n",
       "      <th>bedrooms</th>\n",
       "      <th>created</th>\n",
       "      <th>description</th>\n",
       "      <th>display_address</th>\n",
       "      <th>latitude</th>\n",
       "      <th>longitude</th>\n",
       "      <th>price</th>\n",
       "      <th>street_address</th>\n",
       "      <th>interest_level</th>\n",
       "      <th>...</th>\n",
       "      <th>high_speed_internet</th>\n",
       "      <th>balcony</th>\n",
       "      <th>swimming_pool</th>\n",
       "      <th>new_construction</th>\n",
       "      <th>exclusive</th>\n",
       "      <th>terrace</th>\n",
       "      <th>loft</th>\n",
       "      <th>garden_patio</th>\n",
       "      <th>common_outdoor_space</th>\n",
       "      <th>wheelchair_access</th>\n",
       "    </tr>\n",
       "  </thead>\n",
       "  <tbody>\n",
       "    <tr>\n",
       "      <th>0</th>\n",
       "      <td>1.5</td>\n",
       "      <td>3</td>\n",
       "      <td>2016-06-24 07:54:24</td>\n",
       "      <td>A Brand New 3 Bedroom 1.5 bath ApartmentEnjoy ...</td>\n",
       "      <td>Metropolitan Avenue</td>\n",
       "      <td>40.7145</td>\n",
       "      <td>-73.9425</td>\n",
       "      <td>3000</td>\n",
       "      <td>792 Metropolitan Avenue</td>\n",
       "      <td>medium</td>\n",
       "      <td>...</td>\n",
       "      <td>0</td>\n",
       "      <td>0</td>\n",
       "      <td>0</td>\n",
       "      <td>0</td>\n",
       "      <td>0</td>\n",
       "      <td>0</td>\n",
       "      <td>0</td>\n",
       "      <td>0</td>\n",
       "      <td>0</td>\n",
       "      <td>0</td>\n",
       "    </tr>\n",
       "    <tr>\n",
       "      <th>1</th>\n",
       "      <td>1.0</td>\n",
       "      <td>2</td>\n",
       "      <td>2016-06-12 12:19:27</td>\n",
       "      <td></td>\n",
       "      <td>Columbus Avenue</td>\n",
       "      <td>40.7947</td>\n",
       "      <td>-73.9667</td>\n",
       "      <td>5465</td>\n",
       "      <td>808 Columbus Avenue</td>\n",
       "      <td>low</td>\n",
       "      <td>...</td>\n",
       "      <td>0</td>\n",
       "      <td>0</td>\n",
       "      <td>0</td>\n",
       "      <td>0</td>\n",
       "      <td>0</td>\n",
       "      <td>0</td>\n",
       "      <td>0</td>\n",
       "      <td>0</td>\n",
       "      <td>0</td>\n",
       "      <td>0</td>\n",
       "    </tr>\n",
       "    <tr>\n",
       "      <th>2</th>\n",
       "      <td>1.0</td>\n",
       "      <td>1</td>\n",
       "      <td>2016-04-17 03:26:41</td>\n",
       "      <td>Top Top West Village location, beautiful Pre-w...</td>\n",
       "      <td>W 13 Street</td>\n",
       "      <td>40.7388</td>\n",
       "      <td>-74.0018</td>\n",
       "      <td>2850</td>\n",
       "      <td>241 W 13 Street</td>\n",
       "      <td>high</td>\n",
       "      <td>...</td>\n",
       "      <td>0</td>\n",
       "      <td>0</td>\n",
       "      <td>0</td>\n",
       "      <td>0</td>\n",
       "      <td>0</td>\n",
       "      <td>0</td>\n",
       "      <td>0</td>\n",
       "      <td>0</td>\n",
       "      <td>0</td>\n",
       "      <td>0</td>\n",
       "    </tr>\n",
       "    <tr>\n",
       "      <th>3</th>\n",
       "      <td>1.0</td>\n",
       "      <td>1</td>\n",
       "      <td>2016-04-18 02:22:02</td>\n",
       "      <td>Building Amenities - Garage - Garden - fitness...</td>\n",
       "      <td>East 49th Street</td>\n",
       "      <td>40.7539</td>\n",
       "      <td>-73.9677</td>\n",
       "      <td>3275</td>\n",
       "      <td>333 East 49th Street</td>\n",
       "      <td>low</td>\n",
       "      <td>...</td>\n",
       "      <td>0</td>\n",
       "      <td>0</td>\n",
       "      <td>0</td>\n",
       "      <td>0</td>\n",
       "      <td>0</td>\n",
       "      <td>0</td>\n",
       "      <td>0</td>\n",
       "      <td>0</td>\n",
       "      <td>0</td>\n",
       "      <td>0</td>\n",
       "    </tr>\n",
       "    <tr>\n",
       "      <th>4</th>\n",
       "      <td>1.0</td>\n",
       "      <td>4</td>\n",
       "      <td>2016-04-28 01:32:41</td>\n",
       "      <td>Beautifully renovated 3 bedroom flex 4 bedroom...</td>\n",
       "      <td>West 143rd Street</td>\n",
       "      <td>40.8241</td>\n",
       "      <td>-73.9493</td>\n",
       "      <td>3350</td>\n",
       "      <td>500 West 143rd Street</td>\n",
       "      <td>low</td>\n",
       "      <td>...</td>\n",
       "      <td>0</td>\n",
       "      <td>0</td>\n",
       "      <td>0</td>\n",
       "      <td>0</td>\n",
       "      <td>0</td>\n",
       "      <td>0</td>\n",
       "      <td>0</td>\n",
       "      <td>0</td>\n",
       "      <td>0</td>\n",
       "      <td>0</td>\n",
       "    </tr>\n",
       "  </tbody>\n",
       "</table>\n",
       "<p>5 rows × 34 columns</p>\n",
       "</div>"
      ],
      "text/plain": [
       "   bathrooms  bedrooms              created  \\\n",
       "0        1.5         3  2016-06-24 07:54:24   \n",
       "1        1.0         2  2016-06-12 12:19:27   \n",
       "2        1.0         1  2016-04-17 03:26:41   \n",
       "3        1.0         1  2016-04-18 02:22:02   \n",
       "4        1.0         4  2016-04-28 01:32:41   \n",
       "\n",
       "                                         description      display_address  \\\n",
       "0  A Brand New 3 Bedroom 1.5 bath ApartmentEnjoy ...  Metropolitan Avenue   \n",
       "1                                                         Columbus Avenue   \n",
       "2  Top Top West Village location, beautiful Pre-w...          W 13 Street   \n",
       "3  Building Amenities - Garage - Garden - fitness...     East 49th Street   \n",
       "4  Beautifully renovated 3 bedroom flex 4 bedroom...    West 143rd Street   \n",
       "\n",
       "   latitude  longitude  price           street_address interest_level  ...  \\\n",
       "0   40.7145   -73.9425   3000  792 Metropolitan Avenue         medium  ...   \n",
       "1   40.7947   -73.9667   5465      808 Columbus Avenue            low  ...   \n",
       "2   40.7388   -74.0018   2850          241 W 13 Street           high  ...   \n",
       "3   40.7539   -73.9677   3275     333 East 49th Street            low  ...   \n",
       "4   40.8241   -73.9493   3350    500 West 143rd Street            low  ...   \n",
       "\n",
       "   high_speed_internet  balcony  swimming_pool  new_construction  exclusive  \\\n",
       "0                    0        0              0                 0          0   \n",
       "1                    0        0              0                 0          0   \n",
       "2                    0        0              0                 0          0   \n",
       "3                    0        0              0                 0          0   \n",
       "4                    0        0              0                 0          0   \n",
       "\n",
       "   terrace  loft  garden_patio  common_outdoor_space  wheelchair_access  \n",
       "0        0     0             0                     0                  0  \n",
       "1        0     0             0                     0                  0  \n",
       "2        0     0             0                     0                  0  \n",
       "3        0     0             0                     0                  0  \n",
       "4        0     0             0                     0                  0  \n",
       "\n",
       "[5 rows x 34 columns]"
      ]
     },
     "execution_count": 5,
     "metadata": {},
     "output_type": "execute_result"
    }
   ],
   "source": [
    "# Now let's import our csv into a dataframe\n",
    "url = 'https://raw.githubusercontent.com/LambdaSchool/DS-Unit-2-Linear-Models/master/data/nyc/nyc-rent-2016.csv'\n",
    "df = pd.read_csv(url)\n",
    "df.head()"
   ]
  },
  {
   "cell_type": "code",
   "execution_count": 6,
   "metadata": {},
   "outputs": [
    {
     "data": {
      "text/plain": [
       "(48300, 34)"
      ]
     },
     "execution_count": 6,
     "metadata": {},
     "output_type": "execute_result"
    }
   ],
   "source": [
    "df.shape # should be (48300, 34)"
   ]
  },
  {
   "cell_type": "code",
   "execution_count": 7,
   "metadata": {},
   "outputs": [
    {
     "data": {
      "text/plain": [
       "0   2016-06-24 07:54:24\n",
       "1   2016-06-12 12:19:27\n",
       "2   2016-04-17 03:26:41\n",
       "3   2016-04-18 02:22:02\n",
       "4   2016-04-28 01:32:41\n",
       "Name: created, dtype: datetime64[ns]"
      ]
     },
     "execution_count": 7,
     "metadata": {},
     "output_type": "execute_result"
    }
   ],
   "source": [
    "# 'created' should be in the correct format\n",
    "df['created'] = pd.to_datetime(df['created'], infer_datetime_format=True)\n",
    "df['created'].head()"
   ]
  },
  {
   "cell_type": "code",
   "execution_count": 8,
   "metadata": {},
   "outputs": [
    {
     "data": {
      "text/plain": [
       "30224   2016-05-05 06:31:12\n",
       "18295   2016-06-07 06:21:59\n",
       "41938   2016-04-04 15:51:21\n",
       "46779   2016-04-28 05:58:16\n",
       "31235   2016-05-21 02:21:44\n",
       "16377   2016-06-23 01:41:13\n",
       "20048   2016-06-07 02:59:55\n",
       "48047   2016-04-22 03:09:25\n",
       "40476   2016-05-16 03:21:10\n",
       "12956   2016-06-12 03:19:56\n",
       "Name: created, dtype: datetime64[ns]"
      ]
     },
     "execution_count": 8,
     "metadata": {},
     "output_type": "execute_result"
    }
   ],
   "source": [
    "df['created'].sample(10)"
   ]
  },
  {
   "cell_type": "code",
   "execution_count": 9,
   "metadata": {},
   "outputs": [
    {
     "data": {
      "text/plain": [
       "0    6\n",
       "1    6\n",
       "2    4\n",
       "3    4\n",
       "4    4\n",
       "Name: month, dtype: int64"
      ]
     },
     "execution_count": 9,
     "metadata": {},
     "output_type": "execute_result"
    }
   ],
   "source": [
    "# Now let's get a month column\n",
    "df['month'] = df['created'].dt.month\n",
    "df['month'].head()"
   ]
  },
  {
   "cell_type": "code",
   "execution_count": 10,
   "metadata": {},
   "outputs": [
    {
     "data": {
      "text/plain": [
       "array([6, 4, 5], dtype=int64)"
      ]
     },
     "execution_count": 10,
     "metadata": {},
     "output_type": "execute_result"
    }
   ],
   "source": [
    "df['month'].unique()"
   ]
  },
  {
   "cell_type": "code",
   "execution_count": 11,
   "metadata": {},
   "outputs": [],
   "source": [
    "# We'll use months 4 & 5 to train and month 6 to test\n",
    "train = df[df['month'] < 6]\n",
    "test = df[df['month'] == 6]"
   ]
  },
  {
   "cell_type": "code",
   "execution_count": 12,
   "metadata": {},
   "outputs": [
    {
     "data": {
      "text/plain": [
       "48300"
      ]
     },
     "execution_count": 12,
     "metadata": {},
     "output_type": "execute_result"
    }
   ],
   "source": [
    "# Let's make sure we didn't lose any data\n",
    "train.shape[0] + test.shape[0]"
   ]
  },
  {
   "cell_type": "code",
   "execution_count": 13,
   "metadata": {},
   "outputs": [
    {
     "data": {
      "text/plain": [
       "3432.7534190068222"
      ]
     },
     "execution_count": 13,
     "metadata": {},
     "output_type": "execute_result"
    }
   ],
   "source": [
    "tpm = train['price'].mean()\n",
    "tpm"
   ]
  },
  {
   "cell_type": "code",
   "execution_count": 14,
   "metadata": {},
   "outputs": [
    {
     "name": "stdout",
     "output_type": "stream",
     "text": [
      "16785 16785\n",
      "[3432 3432 3432 ... 3432 3432 3432]\n",
      "MAE: 1052.5193327375632\n"
     ]
    }
   ],
   "source": [
    "# Now let's get our baseline\n",
    "ytest = test['price']\n",
    "ypred = np.full_like(ytest, fill_value=tpm)\n",
    "print(len(ytest), len(ypred))\n",
    "print(ypred)\n",
    "print(f\"MAE: {mean_absolute_error(ytest, ypred)}\")"
   ]
  },
  {
   "cell_type": "code",
   "execution_count": 15,
   "metadata": {},
   "outputs": [
    {
     "data": {
      "text/plain": [
       "['bathrooms',\n",
       " 'bedrooms',\n",
       " 'created',\n",
       " 'description',\n",
       " 'display_address',\n",
       " 'latitude',\n",
       " 'longitude',\n",
       " 'price',\n",
       " 'street_address',\n",
       " 'interest_level',\n",
       " 'elevator',\n",
       " 'cats_allowed',\n",
       " 'hardwood_floors',\n",
       " 'dogs_allowed',\n",
       " 'doorman',\n",
       " 'dishwasher',\n",
       " 'no_fee',\n",
       " 'laundry_in_building',\n",
       " 'fitness_center',\n",
       " 'pre-war',\n",
       " 'laundry_in_unit',\n",
       " 'roof_deck',\n",
       " 'outdoor_space',\n",
       " 'dining_room',\n",
       " 'high_speed_internet',\n",
       " 'balcony',\n",
       " 'swimming_pool',\n",
       " 'new_construction',\n",
       " 'exclusive',\n",
       " 'terrace',\n",
       " 'loft',\n",
       " 'garden_patio',\n",
       " 'common_outdoor_space',\n",
       " 'wheelchair_access',\n",
       " 'month']"
      ]
     },
     "execution_count": 15,
     "metadata": {},
     "output_type": "execute_result"
    }
   ],
   "source": [
    "# Let's see all the features so we can choose some for our model\n",
    "list(df)"
   ]
  },
  {
   "cell_type": "code",
   "execution_count": 16,
   "metadata": {},
   "outputs": [],
   "source": [
    "# We'll go with the same number of features as the lecture\n",
    "feats = [\n",
    "    'bedrooms',\n",
    "    'latitude',\n",
    "    'doorman',\n",
    "    'laundry_in_unit',\n",
    "    'balcony'\n",
    "]\n",
    "\n",
    "target = 'price'\n",
    "xtrain = train[feats]\n",
    "ytrain = train[target]\n",
    "\n",
    "xtest = test[feats]\n",
    "ytest = test[target]"
   ]
  },
  {
   "cell_type": "code",
   "execution_count": 17,
   "metadata": {},
   "outputs": [
    {
     "data": {
      "text/plain": [
       "((31515, 5), (31515,))"
      ]
     },
     "execution_count": 17,
     "metadata": {},
     "output_type": "execute_result"
    }
   ],
   "source": [
    "xtrain.shape, ytrain.shape"
   ]
  },
  {
   "cell_type": "code",
   "execution_count": 18,
   "metadata": {},
   "outputs": [],
   "source": [
    "# Now we'll do the one hot encoding\n",
    "encoder = ce.OneHotEncoder(use_cat_names=True)\n",
    "xtrain = encoder.fit_transform(xtrain)\n",
    "xtest = encoder.fit_transform(xtest)"
   ]
  },
  {
   "cell_type": "code",
   "execution_count": 19,
   "metadata": {},
   "outputs": [
    {
     "name": "stderr",
     "output_type": "stream",
     "text": [
      "C:\\ProgramData\\Anaconda3\\lib\\site-packages\\sklearn\\preprocessing\\data.py:645: DataConversionWarning: Data with input dtype int64, float64 were all converted to float64 by StandardScaler.\n",
      "  return self.partial_fit(X, y)\n",
      "C:\\ProgramData\\Anaconda3\\lib\\site-packages\\sklearn\\base.py:464: DataConversionWarning: Data with input dtype int64, float64 were all converted to float64 by StandardScaler.\n",
      "  return self.fit(X, **fit_params).transform(X)\n",
      "C:\\ProgramData\\Anaconda3\\lib\\site-packages\\sklearn\\preprocessing\\data.py:645: DataConversionWarning: Data with input dtype int64, float64 were all converted to float64 by StandardScaler.\n",
      "  return self.partial_fit(X, y)\n",
      "C:\\ProgramData\\Anaconda3\\lib\\site-packages\\sklearn\\base.py:464: DataConversionWarning: Data with input dtype int64, float64 were all converted to float64 by StandardScaler.\n",
      "  return self.fit(X, **fit_params).transform(X)\n"
     ]
    }
   ],
   "source": [
    "scaler = StandardScaler()\n",
    "xtrain = scaler.fit_transform(xtrain)\n",
    "xtest = scaler.fit_transform(xtest)"
   ]
  },
  {
   "cell_type": "code",
   "execution_count": 20,
   "metadata": {},
   "outputs": [
    {
     "data": {
      "text/plain": [
       "array([[-0.45807512, -0.30435554, -0.85677923, -0.45019882, -0.25008427],\n",
       "       [-0.45807512,  0.07968984, -0.85677923, -0.45019882, -0.25008427],\n",
       "       [ 2.28697859,  1.86511936, -0.85677923, -0.45019882, -0.25008427],\n",
       "       ...,\n",
       "       [-0.45807512,  0.23737735,  1.16716181, -0.45019882, -0.25008427],\n",
       "       [-1.37309302, -1.12331324,  1.16716181, -0.45019882, -0.25008427],\n",
       "       [ 0.45694278,  3.02997224, -0.85677923, -0.45019882, -0.25008427]])"
      ]
     },
     "execution_count": 20,
     "metadata": {},
     "output_type": "execute_result"
    }
   ],
   "source": [
    "xtrain"
   ]
  },
  {
   "cell_type": "code",
   "execution_count": 21,
   "metadata": {},
   "outputs": [
    {
     "data": {
      "text/plain": [
       "LinearRegression(copy_X=True, fit_intercept=True, n_jobs=None,\n",
       "         normalize=False)"
      ]
     },
     "execution_count": 21,
     "metadata": {},
     "output_type": "execute_result"
    }
   ],
   "source": [
    "# Ok, now let's use our model\n",
    "model = LinearRegression()\n",
    "model.fit(xtrain, ytrain)"
   ]
  },
  {
   "cell_type": "code",
   "execution_count": 22,
   "metadata": {},
   "outputs": [
    {
     "data": {
      "text/plain": [
       "array([4144.83579264, 4107.28292324, 2443.38548612, ..., 2593.17835091,\n",
       "       4105.36003665, 3852.96279607])"
      ]
     },
     "execution_count": 22,
     "metadata": {},
     "output_type": "execute_result"
    }
   ],
   "source": [
    "ypred = model.predict(xtest)\n",
    "ypred"
   ]
  },
  {
   "cell_type": "code",
   "execution_count": 23,
   "metadata": {},
   "outputs": [
    {
     "data": {
      "text/plain": [
       "771.1981260334376"
      ]
     },
     "execution_count": 23,
     "metadata": {},
     "output_type": "execute_result"
    }
   ],
   "source": [
    "# Let's see the MAE\n",
    "mean_absolute_error(ytest, ypred)"
   ]
  },
  {
   "cell_type": "code",
   "execution_count": 24,
   "metadata": {},
   "outputs": [
    {
     "data": {
      "text/plain": [
       "array([791.33792681, -76.93359624, 413.77943184, 182.89486926,\n",
       "        10.82489064])"
      ]
     },
     "execution_count": 24,
     "metadata": {},
     "output_type": "execute_result"
    }
   ],
   "source": [
    "# Now the coefficient\n",
    "model.coef_"
   ]
  },
  {
   "cell_type": "code",
   "execution_count": 25,
   "metadata": {},
   "outputs": [
    {
     "data": {
      "text/plain": [
       "3432.753419006835"
      ]
     },
     "execution_count": 25,
     "metadata": {},
     "output_type": "execute_result"
    }
   ],
   "source": [
    "# and the intercept\n",
    "model.intercept_"
   ]
  },
  {
   "cell_type": "code",
   "execution_count": 26,
   "metadata": {},
   "outputs": [],
   "source": [
    "# Now let's try some different features to improve our MAE\n",
    "# We'll go with the same number of features as the lecture\n",
    "feats = [\n",
    "    'bedrooms',\n",
    "    'outdoor_space',\n",
    "    'bathrooms',\n",
    "    'dining_room',\n",
    "    'loft'\n",
    "]\n",
    "\n",
    "target = 'price'\n",
    "xtrain = train[feats]\n",
    "ytrain = train[target]\n",
    "\n",
    "xtest = test[feats]\n",
    "ytest = test[target]"
   ]
  },
  {
   "cell_type": "code",
   "execution_count": 27,
   "metadata": {},
   "outputs": [],
   "source": [
    "# Now we'll do the one hot encoding\n",
    "encoder = ce.OneHotEncoder(use_cat_names=True)\n",
    "xtrain = encoder.fit_transform(xtrain)\n",
    "xtest = encoder.fit_transform(xtest)"
   ]
  },
  {
   "cell_type": "code",
   "execution_count": 28,
   "metadata": {},
   "outputs": [
    {
     "name": "stderr",
     "output_type": "stream",
     "text": [
      "C:\\ProgramData\\Anaconda3\\lib\\site-packages\\sklearn\\preprocessing\\data.py:645: DataConversionWarning: Data with input dtype int64, float64 were all converted to float64 by StandardScaler.\n",
      "  return self.partial_fit(X, y)\n",
      "C:\\ProgramData\\Anaconda3\\lib\\site-packages\\sklearn\\base.py:464: DataConversionWarning: Data with input dtype int64, float64 were all converted to float64 by StandardScaler.\n",
      "  return self.fit(X, **fit_params).transform(X)\n",
      "C:\\ProgramData\\Anaconda3\\lib\\site-packages\\sklearn\\preprocessing\\data.py:645: DataConversionWarning: Data with input dtype int64, float64 were all converted to float64 by StandardScaler.\n",
      "  return self.partial_fit(X, y)\n",
      "C:\\ProgramData\\Anaconda3\\lib\\site-packages\\sklearn\\base.py:464: DataConversionWarning: Data with input dtype int64, float64 were all converted to float64 by StandardScaler.\n",
      "  return self.fit(X, **fit_params).transform(X)\n"
     ]
    }
   ],
   "source": [
    "scaler = StandardScaler()\n",
    "xtrain = scaler.fit_transform(xtrain)\n",
    "xtest = scaler.fit_transform(xtest)"
   ]
  },
  {
   "cell_type": "code",
   "execution_count": 29,
   "metadata": {},
   "outputs": [
    {
     "data": {
      "text/plain": [
       "array([4501.19200955, 3332.35744273, 2911.92962418, ..., 2911.92962418,\n",
       "       3332.35744273, 3332.35744273])"
      ]
     },
     "execution_count": 29,
     "metadata": {},
     "output_type": "execute_result"
    }
   ],
   "source": [
    "model = LinearRegression()\n",
    "model.fit(xtrain, ytrain)\n",
    "ypred = model.predict(xtest)\n",
    "ypred"
   ]
  },
  {
   "cell_type": "code",
   "execution_count": 30,
   "metadata": {},
   "outputs": [
    {
     "data": {
      "text/plain": [
       "751.0437102311328"
      ]
     },
     "execution_count": 30,
     "metadata": {},
     "output_type": "execute_result"
    }
   ],
   "source": [
    "# Now let's see if we get a better MAE\n",
    "mean_absolute_error(ytest, ypred)"
   ]
  },
  {
   "cell_type": "code",
   "execution_count": 31,
   "metadata": {},
   "outputs": [
    {
     "name": "stderr",
     "output_type": "stream",
     "text": [
      "C:\\ProgramData\\Anaconda3\\lib\\site-packages\\sklearn\\preprocessing\\data.py:645: DataConversionWarning: Data with input dtype int64, float64 were all converted to float64 by StandardScaler.\n",
      "  return self.partial_fit(X, y)\n",
      "C:\\ProgramData\\Anaconda3\\lib\\site-packages\\sklearn\\base.py:464: DataConversionWarning: Data with input dtype int64, float64 were all converted to float64 by StandardScaler.\n",
      "  return self.fit(X, **fit_params).transform(X)\n",
      "C:\\ProgramData\\Anaconda3\\lib\\site-packages\\sklearn\\preprocessing\\data.py:645: DataConversionWarning: Data with input dtype int64, float64 were all converted to float64 by StandardScaler.\n",
      "  return self.partial_fit(X, y)\n",
      "C:\\ProgramData\\Anaconda3\\lib\\site-packages\\sklearn\\base.py:464: DataConversionWarning: Data with input dtype int64, float64 were all converted to float64 by StandardScaler.\n",
      "  return self.fit(X, **fit_params).transform(X)\n"
     ]
    },
    {
     "data": {
      "text/plain": [
       "array([4393.39286199, 3778.22781201, 2790.89574528, ..., 2790.89574528,\n",
       "       3236.24310828, 3264.99906125])"
      ]
     },
     "execution_count": 31,
     "metadata": {},
     "output_type": "execute_result"
    }
   ],
   "source": [
    "# Slightly better. Let's give it one more try\n",
    "feats = [\n",
    "    'bedrooms',\n",
    "    'hardwood_floors',\n",
    "    'bathrooms',\n",
    "    'fitness_center',\n",
    "    'swimming_pool'\n",
    "]\n",
    "\n",
    "\n",
    "target = 'price'\n",
    "xtrain = train[feats]\n",
    "ytrain = train[target]\n",
    "\n",
    "xtest = test[feats]\n",
    "ytest = test[target]\n",
    "\n",
    "# Now we'll do the one hot encoding\n",
    "encoder = ce.OneHotEncoder(use_cat_names=True)\n",
    "xtrain = encoder.fit_transform(xtrain)\n",
    "xtest = encoder.fit_transform(xtest)\n",
    "\n",
    "scaler = StandardScaler()\n",
    "xtrain = scaler.fit_transform(xtrain)\n",
    "xtest = scaler.fit_transform(xtest)\n",
    "\n",
    "model = LinearRegression()\n",
    "model.fit(xtrain, ytrain)\n",
    "ypred = model.predict(xtest)\n",
    "ypred"
   ]
  },
  {
   "cell_type": "code",
   "execution_count": 32,
   "metadata": {},
   "outputs": [
    {
     "data": {
      "text/plain": [
       "723.8899901597703"
      ]
     },
     "execution_count": 32,
     "metadata": {},
     "output_type": "execute_result"
    }
   ],
   "source": [
    "# Now let's see if we get a better MAE\n",
    "mean_absolute_error(ytest, ypred)"
   ]
  },
  {
   "cell_type": "code",
   "execution_count": 33,
   "metadata": {},
   "outputs": [
    {
     "data": {
      "text/plain": [
       "['bathrooms',\n",
       " 'bedrooms',\n",
       " 'created',\n",
       " 'description',\n",
       " 'display_address',\n",
       " 'latitude',\n",
       " 'longitude',\n",
       " 'price',\n",
       " 'street_address',\n",
       " 'interest_level',\n",
       " 'elevator',\n",
       " 'cats_allowed',\n",
       " 'hardwood_floors',\n",
       " 'dogs_allowed',\n",
       " 'doorman',\n",
       " 'dishwasher',\n",
       " 'no_fee',\n",
       " 'laundry_in_building',\n",
       " 'fitness_center',\n",
       " 'pre-war',\n",
       " 'laundry_in_unit',\n",
       " 'roof_deck',\n",
       " 'outdoor_space',\n",
       " 'dining_room',\n",
       " 'high_speed_internet',\n",
       " 'balcony',\n",
       " 'swimming_pool',\n",
       " 'new_construction',\n",
       " 'exclusive',\n",
       " 'terrace',\n",
       " 'loft',\n",
       " 'garden_patio',\n",
       " 'common_outdoor_space',\n",
       " 'wheelchair_access',\n",
       " 'month']"
      ]
     },
     "execution_count": 33,
     "metadata": {},
     "output_type": "execute_result"
    }
   ],
   "source": [
    "# Let's create an amenities feature that lets us know how many ameninities the listing has\n",
    "# First, let's list the features we have \n",
    "list(df)"
   ]
  },
  {
   "cell_type": "code",
   "execution_count": 34,
   "metadata": {},
   "outputs": [
    {
     "data": {
      "text/html": [
       "<div>\n",
       "<style scoped>\n",
       "    .dataframe tbody tr th:only-of-type {\n",
       "        vertical-align: middle;\n",
       "    }\n",
       "\n",
       "    .dataframe tbody tr th {\n",
       "        vertical-align: top;\n",
       "    }\n",
       "\n",
       "    .dataframe thead th {\n",
       "        text-align: right;\n",
       "    }\n",
       "</style>\n",
       "<table border=\"1\" class=\"dataframe\">\n",
       "  <thead>\n",
       "    <tr style=\"text-align: right;\">\n",
       "      <th></th>\n",
       "      <th>elevator</th>\n",
       "      <th>doorman</th>\n",
       "      <th>laundry_in_building</th>\n",
       "      <th>fitness_center</th>\n",
       "      <th>laundry_in_unit</th>\n",
       "      <th>high_speed_internet</th>\n",
       "      <th>swimming_pool</th>\n",
       "      <th>common_outdoor_space</th>\n",
       "      <th>roof_deck</th>\n",
       "    </tr>\n",
       "  </thead>\n",
       "  <tbody>\n",
       "    <tr>\n",
       "      <th>0</th>\n",
       "      <td>0</td>\n",
       "      <td>0</td>\n",
       "      <td>0</td>\n",
       "      <td>0</td>\n",
       "      <td>0</td>\n",
       "      <td>0</td>\n",
       "      <td>0</td>\n",
       "      <td>0</td>\n",
       "      <td>0</td>\n",
       "    </tr>\n",
       "    <tr>\n",
       "      <th>1</th>\n",
       "      <td>1</td>\n",
       "      <td>1</td>\n",
       "      <td>0</td>\n",
       "      <td>1</td>\n",
       "      <td>0</td>\n",
       "      <td>0</td>\n",
       "      <td>0</td>\n",
       "      <td>0</td>\n",
       "      <td>0</td>\n",
       "    </tr>\n",
       "    <tr>\n",
       "      <th>2</th>\n",
       "      <td>0</td>\n",
       "      <td>0</td>\n",
       "      <td>1</td>\n",
       "      <td>0</td>\n",
       "      <td>0</td>\n",
       "      <td>0</td>\n",
       "      <td>0</td>\n",
       "      <td>0</td>\n",
       "      <td>0</td>\n",
       "    </tr>\n",
       "    <tr>\n",
       "      <th>3</th>\n",
       "      <td>0</td>\n",
       "      <td>0</td>\n",
       "      <td>0</td>\n",
       "      <td>0</td>\n",
       "      <td>0</td>\n",
       "      <td>0</td>\n",
       "      <td>0</td>\n",
       "      <td>0</td>\n",
       "      <td>0</td>\n",
       "    </tr>\n",
       "    <tr>\n",
       "      <th>4</th>\n",
       "      <td>0</td>\n",
       "      <td>0</td>\n",
       "      <td>0</td>\n",
       "      <td>0</td>\n",
       "      <td>0</td>\n",
       "      <td>0</td>\n",
       "      <td>0</td>\n",
       "      <td>0</td>\n",
       "      <td>0</td>\n",
       "    </tr>\n",
       "  </tbody>\n",
       "</table>\n",
       "</div>"
      ],
      "text/plain": [
       "   elevator  doorman  laundry_in_building  fitness_center  laundry_in_unit  \\\n",
       "0         0        0                    0               0                0   \n",
       "1         1        1                    0               1                0   \n",
       "2         0        0                    1               0                0   \n",
       "3         0        0                    0               0                0   \n",
       "4         0        0                    0               0                0   \n",
       "\n",
       "   high_speed_internet  swimming_pool  common_outdoor_space  roof_deck  \n",
       "0                    0              0                     0          0  \n",
       "1                    0              0                     0          0  \n",
       "2                    0              0                     0          0  \n",
       "3                    0              0                     0          0  \n",
       "4                    0              0                     0          0  "
      ]
     },
     "execution_count": 34,
     "metadata": {},
     "output_type": "execute_result"
    }
   ],
   "source": [
    "# Now let's make our amenities list and check their format\n",
    "amlist = ['elevator', 'doorman', 'laundry_in_building', 'fitness_center', 'laundry_in_unit', 'high_speed_internet', \n",
    "          'swimming_pool', 'common_outdoor_space', 'roof_deck']\n",
    "df[amlist].head()"
   ]
  },
  {
   "cell_type": "code",
   "execution_count": 35,
   "metadata": {},
   "outputs": [
    {
     "data": {
      "text/plain": [
       "0    0\n",
       "1    3\n",
       "2    1\n",
       "3    0\n",
       "4    0\n",
       "Name: amenities, dtype: int64"
      ]
     },
     "execution_count": 35,
     "metadata": {},
     "output_type": "execute_result"
    }
   ],
   "source": [
    "# Let's add up the ameninities\n",
    "df['amenities'] = df[amlist].sum(axis=1, skipna=True)\n",
    "df['amenities'].head()"
   ]
  },
  {
   "cell_type": "code",
   "execution_count": 36,
   "metadata": {},
   "outputs": [
    {
     "data": {
      "text/html": [
       "<div>\n",
       "<style scoped>\n",
       "    .dataframe tbody tr th:only-of-type {\n",
       "        vertical-align: middle;\n",
       "    }\n",
       "\n",
       "    .dataframe tbody tr th {\n",
       "        vertical-align: top;\n",
       "    }\n",
       "\n",
       "    .dataframe thead th {\n",
       "        text-align: right;\n",
       "    }\n",
       "</style>\n",
       "<table border=\"1\" class=\"dataframe\">\n",
       "  <thead>\n",
       "    <tr style=\"text-align: right;\">\n",
       "      <th></th>\n",
       "      <th>bathrooms</th>\n",
       "      <th>bedrooms</th>\n",
       "      <th>created</th>\n",
       "      <th>description</th>\n",
       "      <th>display_address</th>\n",
       "      <th>latitude</th>\n",
       "      <th>longitude</th>\n",
       "      <th>price</th>\n",
       "      <th>street_address</th>\n",
       "      <th>interest_level</th>\n",
       "      <th>...</th>\n",
       "      <th>swimming_pool</th>\n",
       "      <th>new_construction</th>\n",
       "      <th>exclusive</th>\n",
       "      <th>terrace</th>\n",
       "      <th>loft</th>\n",
       "      <th>garden_patio</th>\n",
       "      <th>common_outdoor_space</th>\n",
       "      <th>wheelchair_access</th>\n",
       "      <th>month</th>\n",
       "      <th>amenities</th>\n",
       "    </tr>\n",
       "  </thead>\n",
       "  <tbody>\n",
       "    <tr>\n",
       "      <th>492</th>\n",
       "      <td>1.0</td>\n",
       "      <td>1</td>\n",
       "      <td>2016-04-06 04:25:38</td>\n",
       "      <td>+ NO FEE and 1 MONTH FREE! Newly Renovated Lar...</td>\n",
       "      <td>E 74 Street</td>\n",
       "      <td>40.7688</td>\n",
       "      <td>-73.9547</td>\n",
       "      <td>3200</td>\n",
       "      <td>400 E 74 Street</td>\n",
       "      <td>low</td>\n",
       "      <td>...</td>\n",
       "      <td>0</td>\n",
       "      <td>0</td>\n",
       "      <td>0</td>\n",
       "      <td>0</td>\n",
       "      <td>0</td>\n",
       "      <td>0</td>\n",
       "      <td>0</td>\n",
       "      <td>0</td>\n",
       "      <td>4</td>\n",
       "      <td>1</td>\n",
       "    </tr>\n",
       "    <tr>\n",
       "      <th>9909</th>\n",
       "      <td>1.0</td>\n",
       "      <td>1</td>\n",
       "      <td>2016-04-25 02:22:11</td>\n",
       "      <td>Newly Constructed luxury building in Lincoln C...</td>\n",
       "      <td>W 67 St.</td>\n",
       "      <td>40.7756</td>\n",
       "      <td>-73.9846</td>\n",
       "      <td>2995</td>\n",
       "      <td>200 W 67 St.</td>\n",
       "      <td>medium</td>\n",
       "      <td>...</td>\n",
       "      <td>0</td>\n",
       "      <td>1</td>\n",
       "      <td>0</td>\n",
       "      <td>0</td>\n",
       "      <td>0</td>\n",
       "      <td>0</td>\n",
       "      <td>0</td>\n",
       "      <td>0</td>\n",
       "      <td>4</td>\n",
       "      <td>5</td>\n",
       "    </tr>\n",
       "    <tr>\n",
       "      <th>38213</th>\n",
       "      <td>1.0</td>\n",
       "      <td>1</td>\n",
       "      <td>2016-06-12 01:17:55</td>\n",
       "      <td></td>\n",
       "      <td>Broadway</td>\n",
       "      <td>40.8136</td>\n",
       "      <td>-73.9603</td>\n",
       "      <td>1795</td>\n",
       "      <td>3133 Broadway</td>\n",
       "      <td>low</td>\n",
       "      <td>...</td>\n",
       "      <td>0</td>\n",
       "      <td>0</td>\n",
       "      <td>0</td>\n",
       "      <td>0</td>\n",
       "      <td>0</td>\n",
       "      <td>0</td>\n",
       "      <td>0</td>\n",
       "      <td>0</td>\n",
       "      <td>6</td>\n",
       "      <td>0</td>\n",
       "    </tr>\n",
       "    <tr>\n",
       "      <th>7618</th>\n",
       "      <td>1.0</td>\n",
       "      <td>3</td>\n",
       "      <td>2016-04-22 03:23:56</td>\n",
       "      <td>Welcome to this beautiful 3 beds flex apartmen...</td>\n",
       "      <td>Washington</td>\n",
       "      <td>40.7080</td>\n",
       "      <td>-74.0149</td>\n",
       "      <td>3500</td>\n",
       "      <td>90 Washington</td>\n",
       "      <td>low</td>\n",
       "      <td>...</td>\n",
       "      <td>0</td>\n",
       "      <td>0</td>\n",
       "      <td>0</td>\n",
       "      <td>0</td>\n",
       "      <td>1</td>\n",
       "      <td>0</td>\n",
       "      <td>0</td>\n",
       "      <td>0</td>\n",
       "      <td>4</td>\n",
       "      <td>3</td>\n",
       "    </tr>\n",
       "    <tr>\n",
       "      <th>35212</th>\n",
       "      <td>1.0</td>\n",
       "      <td>2</td>\n",
       "      <td>2016-05-17 14:42:01</td>\n",
       "      <td>WONDERFUL Two Bedroom on Roosevelt Island. Ver...</td>\n",
       "      <td>Main St.</td>\n",
       "      <td>40.7622</td>\n",
       "      <td>-73.9495</td>\n",
       "      <td>3150</td>\n",
       "      <td>560 Main St.</td>\n",
       "      <td>low</td>\n",
       "      <td>...</td>\n",
       "      <td>0</td>\n",
       "      <td>0</td>\n",
       "      <td>0</td>\n",
       "      <td>0</td>\n",
       "      <td>0</td>\n",
       "      <td>0</td>\n",
       "      <td>0</td>\n",
       "      <td>0</td>\n",
       "      <td>5</td>\n",
       "      <td>2</td>\n",
       "    </tr>\n",
       "  </tbody>\n",
       "</table>\n",
       "<p>5 rows × 36 columns</p>\n",
       "</div>"
      ],
      "text/plain": [
       "       bathrooms  bedrooms             created  \\\n",
       "492          1.0         1 2016-04-06 04:25:38   \n",
       "9909         1.0         1 2016-04-25 02:22:11   \n",
       "38213        1.0         1 2016-06-12 01:17:55   \n",
       "7618         1.0         3 2016-04-22 03:23:56   \n",
       "35212        1.0         2 2016-05-17 14:42:01   \n",
       "\n",
       "                                             description display_address  \\\n",
       "492    + NO FEE and 1 MONTH FREE! Newly Renovated Lar...     E 74 Street   \n",
       "9909   Newly Constructed luxury building in Lincoln C...        W 67 St.   \n",
       "38213                                                           Broadway   \n",
       "7618   Welcome to this beautiful 3 beds flex apartmen...      Washington   \n",
       "35212  WONDERFUL Two Bedroom on Roosevelt Island. Ver...        Main St.   \n",
       "\n",
       "       latitude  longitude  price   street_address interest_level  ...  \\\n",
       "492     40.7688   -73.9547   3200  400 E 74 Street            low  ...   \n",
       "9909    40.7756   -73.9846   2995     200 W 67 St.         medium  ...   \n",
       "38213   40.8136   -73.9603   1795    3133 Broadway            low  ...   \n",
       "7618    40.7080   -74.0149   3500    90 Washington            low  ...   \n",
       "35212   40.7622   -73.9495   3150     560 Main St.            low  ...   \n",
       "\n",
       "       swimming_pool  new_construction  exclusive  terrace  loft  \\\n",
       "492                0                 0          0        0     0   \n",
       "9909               0                 1          0        0     0   \n",
       "38213              0                 0          0        0     0   \n",
       "7618               0                 0          0        0     1   \n",
       "35212              0                 0          0        0     0   \n",
       "\n",
       "       garden_patio  common_outdoor_space  wheelchair_access  month  amenities  \n",
       "492               0                     0                  0      4          1  \n",
       "9909              0                     0                  0      4          5  \n",
       "38213             0                     0                  0      6          0  \n",
       "7618              0                     0                  0      4          3  \n",
       "35212             0                     0                  0      5          2  \n",
       "\n",
       "[5 rows x 36 columns]"
      ]
     },
     "execution_count": 36,
     "metadata": {},
     "output_type": "execute_result"
    }
   ],
   "source": [
    "# Let's take a sample\n",
    "df.sample(5)"
   ]
  },
  {
   "cell_type": "code",
   "execution_count": 37,
   "metadata": {},
   "outputs": [
    {
     "data": {
      "text/plain": [
       "3432.7534190068222"
      ]
     },
     "execution_count": 37,
     "metadata": {},
     "output_type": "execute_result"
    }
   ],
   "source": [
    "# We need to refresh some values since we added a feature\n",
    "train = df[df['month'] < 6]\n",
    "test = df[df['month'] == 6]\n",
    "tpm = train['price'].mean()\n",
    "tpm"
   ]
  },
  {
   "cell_type": "code",
   "execution_count": 38,
   "metadata": {},
   "outputs": [
    {
     "name": "stderr",
     "output_type": "stream",
     "text": [
      "C:\\ProgramData\\Anaconda3\\lib\\site-packages\\sklearn\\preprocessing\\data.py:645: DataConversionWarning: Data with input dtype int64, float64 were all converted to float64 by StandardScaler.\n",
      "  return self.partial_fit(X, y)\n",
      "C:\\ProgramData\\Anaconda3\\lib\\site-packages\\sklearn\\base.py:464: DataConversionWarning: Data with input dtype int64, float64 were all converted to float64 by StandardScaler.\n",
      "  return self.fit(X, **fit_params).transform(X)\n",
      "C:\\ProgramData\\Anaconda3\\lib\\site-packages\\sklearn\\preprocessing\\data.py:645: DataConversionWarning: Data with input dtype int64, float64 were all converted to float64 by StandardScaler.\n",
      "  return self.partial_fit(X, y)\n",
      "C:\\ProgramData\\Anaconda3\\lib\\site-packages\\sklearn\\base.py:464: DataConversionWarning: Data with input dtype int64, float64 were all converted to float64 by StandardScaler.\n",
      "  return self.fit(X, **fit_params).transform(X)\n"
     ]
    },
    {
     "data": {
      "text/plain": [
       "array([4367.72364474, 3593.64119158, 2518.80639551, ..., 2670.41974998,\n",
       "       3244.26303403, 3439.23510759])"
      ]
     },
     "execution_count": 38,
     "metadata": {},
     "output_type": "execute_result"
    }
   ],
   "source": [
    "# Now let's use amenities to hopefully give usour best MAE\n",
    "feats = [\n",
    "    'bedrooms',\n",
    "    'hardwood_floors',\n",
    "    'bathrooms',\n",
    "    'latitude',    \n",
    "    'amenities']\n",
    "\n",
    "\n",
    "target = 'price'\n",
    "xtrain = train[feats]\n",
    "ytrain = train[target]\n",
    "\n",
    "xtest = test[feats]\n",
    "ytest = test[target]\n",
    "\n",
    "# Now we'll do the one hot encoding\n",
    "encoder = ce.OneHotEncoder(use_cat_names=True)\n",
    "xtrain = encoder.fit_transform(xtrain)\n",
    "xtest = encoder.fit_transform(xtest)\n",
    "\n",
    "scaler = StandardScaler()\n",
    "xtrain = scaler.fit_transform(xtrain)\n",
    "xtest = scaler.fit_transform(xtest)\n",
    "\n",
    "model = LinearRegression()\n",
    "model.fit(xtrain, ytrain)\n",
    "ypred = model.predict(xtest)\n",
    "ypred"
   ]
  },
  {
   "cell_type": "code",
   "execution_count": 39,
   "metadata": {},
   "outputs": [
    {
     "data": {
      "text/plain": [
       "707.1581075770334"
      ]
     },
     "execution_count": 39,
     "metadata": {},
     "output_type": "execute_result"
    }
   ],
   "source": [
    "# Now let's get our MAE\n",
    "mean_absolute_error(ytest, ypred)"
   ]
  },
  {
   "cell_type": "code",
   "execution_count": 40,
   "metadata": {},
   "outputs": [
    {
     "data": {
      "image/png": "[encoded data removed]",
      "text/plain": [
       "<Figure size 360x360 with 1 Axes>"
      ]
     },
     "metadata": {
      "needs_background": "light"
     },
     "output_type": "display_data"
    },
    {
     "data": {
      "image/png": "[encoded data removed]",
      "text/plain": [
       "<Figure size 360x360 with 1 Axes>"
      ]
     },
     "metadata": {
      "needs_background": "light"
     },
     "output_type": "display_data"
    },
    {
     "data": {
      "image/png": "[encoded data removed]",
      "text/plain": [
       "<Figure size 360x360 with 1 Axes>"
      ]
     },
     "metadata": {
      "needs_background": "light"
     },
     "output_type": "display_data"
    },
    {
     "data": {
      "image/png": "[encoded data removed]",
      "text/plain": [
       "<Figure size 360x360 with 1 Axes>"
      ]
     },
     "metadata": {
      "needs_background": "light"
     },
     "output_type": "display_data"
    },
    {
     "data": {
      "image/png": "[encoded data removed]",
      "text/plain": [
       "<Figure size 360x360 with 1 Axes>"
      ]
     },
     "metadata": {
      "needs_background": "light"
     },
     "output_type": "display_data"
    }
   ],
   "source": [
    "# Alright, now, let's work at finding our coefficients\n",
    "%matplotlib inline\n",
    "import seaborn as sns\n",
    "\n",
    "target = 'price'\n",
    "feats = [\n",
    "    'bedrooms',\n",
    "    'hardwood_floors',\n",
    "    'bathrooms',\n",
    "    'latitude',    \n",
    "    'amenities']\n",
    "\n",
    "for feature in feats:\n",
    "    sns.lmplot(x=feature, y=target, data=df)"
   ]
  },
  {
   "cell_type": "code",
   "execution_count": 44,
   "metadata": {},
   "outputs": [
    {
     "data": {
      "text/plain": [
       "bedrooms           497.611965\n",
       "hardwood_floors    -40.972278\n",
       "bathrooms          574.627219\n",
       "latitude           -77.868600\n",
       "amenities          312.585938\n",
       "dtype: float64"
      ]
     },
     "execution_count": 44,
     "metadata": {},
     "output_type": "execute_result"
    }
   ],
   "source": [
    "# We can show our coefficients\n",
    "pd.Series(model.coef_, feats)"
   ]
  },
  {
   "cell_type": "code",
   "execution_count": 49,
   "metadata": {},
   "outputs": [
    {
     "data": {
      "text/plain": [
       "<matplotlib.axes._subplots.AxesSubplot at 0x21974fded30>"
      ]
     },
     "execution_count": 49,
     "metadata": {},
     "output_type": "execute_result"
    },
    {
     "data": {
      "image/png": "[encoded data removed]",
      "text/plain": [
       "<Figure size 432x288 with 1 Axes>"
      ]
     },
     "metadata": {
      "needs_background": "light"
     },
     "output_type": "display_data"
    }
   ],
   "source": [
    "# We can also plot our coefficients\n",
    "coefs = pd.Series(model.coef_, feats)\n",
    "coefs.sort_values().plot.barh()"
   ]
  },
  {
   "cell_type": "code",
   "execution_count": 47,
   "metadata": {},
   "outputs": [
    {
     "name": "stdout",
     "output_type": "stream",
     "text": [
      "For out Test Set: \n",
      "Mean Absolute Error =  707.1581075770334 \n",
      "Root Mean Squared Error =  981.230622732839 \n",
      "R-Squared Error =  0.5136005861528977\n"
     ]
    }
   ],
   "source": [
    "# We also need a few more values, let's import\n",
    "from sklearn.metrics import mean_squared_error, r2_score\n",
    "\n",
    "# And we can now show all of our required error values\n",
    "\n",
    "# First the test set\n",
    "mae_test = mean_absolute_error(ytest, ypred)\n",
    "mse_test = mean_squared_error(ytest, ypred)\n",
    "rms_test = np.sqrt(mse_test)\n",
    "r2_test = r2_score(ytest, ypred)\n",
    "\n",
    "print('For out Test Set:',\n",
    "      '\\nMean Absolute Error = ', mae_test,\n",
    "      '\\nRoot Mean Squared Error = ', rms_test,\n",
    "      '\\nR-Squared Error = ', r2_test\n",
    "     )"
   ]
  },
  {
   "cell_type": "code",
   "execution_count": null,
   "metadata": {},
   "outputs": [],
   "source": []
  }
 ],
 "metadata": {
  "kernelspec": {
   "display_name": "Python 3",
   "language": "python",
   "name": "python3"
  },
  "language_info": {
   "codemirror_mode": {
    "name": "ipython",
    "version": 3
   },
   "file_extension": ".py",
   "mimetype": "text/x-python",
   "name": "python",
   "nbconvert_exporter": "python",
   "pygments_lexer": "ipython3",
   "version": "3.7.3"
  }
 },
 "nbformat": 4,
 "nbformat_minor": 2
}
