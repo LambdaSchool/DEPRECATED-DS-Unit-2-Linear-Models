{
  "nbformat": 4,
  "nbformat_minor": 0,
  "metadata": {
    "colab": {
      "name": "kim_lowry_tanzania_kernel.ipynb",
      "version": "0.3.2",
      "provenance": [],
      "collapsed_sections": [],
      "include_colab_link": true
    },
    "kernelspec": {
      "name": "python3",
      "display_name": "Python 3"
    }
  },
  "cells": [
    {
      "cell_type": "markdown",
      "metadata": {
        "id": "view-in-github",
        "colab_type": "text"
      },
      "source": [
        "<a href=\"https://colab.research.google.com/github/hBar2013/DS-Unit-2-Linear-Models/blob/master/kim_lowry_tanzania_kernel.ipynb\" target=\"_parent\"><img src=\"https://colab.research.google.com/assets/colab-badge.svg\" alt=\"Open In Colab\"/></a>"
      ]
    },
    {
      "cell_type": "code",
      "metadata": {
        "id": "vt_SrDYHT4jC",
        "colab_type": "code",
        "outputId": "0cb29d7c-4df2-4f34-f110-192e46ea4c44",
        "colab": {
          "base_uri": "https://localhost:8080/",
          "height": 224
        }
      },
      "source": [
        "!pip install category_encoders"
      ],
      "execution_count": 3,
      "outputs": [
        {
          "output_type": "stream",
          "text": [
            "Requirement already satisfied: category_encoders in /usr/local/lib/python3.6/dist-packages (2.0.0)\n",
            "Requirement already satisfied: scikit-learn>=0.20.0 in /usr/local/lib/python3.6/dist-packages (from category_encoders) (0.21.2)\n",
            "Requirement already satisfied: statsmodels>=0.6.1 in /usr/local/lib/python3.6/dist-packages (from category_encoders) (0.10.0)\n",
            "Requirement already satisfied: patsy>=0.4.1 in /usr/local/lib/python3.6/dist-packages (from category_encoders) (0.5.1)\n",
            "Requirement already satisfied: numpy>=1.11.3 in /usr/local/lib/python3.6/dist-packages (from category_encoders) (1.16.4)\n",
            "Requirement already satisfied: scipy>=0.19.0 in /usr/local/lib/python3.6/dist-packages (from category_encoders) (1.3.0)\n",
            "Requirement already satisfied: pandas>=0.21.1 in /usr/local/lib/python3.6/dist-packages (from category_encoders) (0.24.2)\n",
            "Requirement already satisfied: joblib>=0.11 in /usr/local/lib/python3.6/dist-packages (from scikit-learn>=0.20.0->category_encoders) (0.13.2)\n",
            "Requirement already satisfied: six in /usr/local/lib/python3.6/dist-packages (from patsy>=0.4.1->category_encoders) (1.12.0)\n",
            "Requirement already satisfied: python-dateutil>=2.5.0 in /usr/local/lib/python3.6/dist-packages (from pandas>=0.21.1->category_encoders) (2.5.3)\n",
            "Requirement already satisfied: pytz>=2011k in /usr/local/lib/python3.6/dist-packages (from pandas>=0.21.1->category_encoders) (2018.9)\n"
          ],
          "name": "stdout"
        }
      ]
    },
    {
      "cell_type": "code",
      "metadata": {
        "id": "6SEDKRAAWNo5",
        "colab_type": "code",
        "outputId": "cd7d7dd4-ab5b-479e-8b3b-71cc9ecaa9c7",
        "colab": {
          "resources": {
            "http://localhost:8080/nbextensions/google.colab/files.js": {
              "data": "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",
              "ok": true,
              "headers": [
                [
                  "content-type",
                  "application/javascript"
                ]
              ],
              "status": 200,
              "status_text": ""
            }
          },
          "base_uri": "https://localhost:8080/",
          "height": 71
        }
      },
      "source": [
        "from google.colab import files\n",
        "uploaded = files.upload()"
      ],
      "execution_count": 0,
      "outputs": [
        {
          "output_type": "display_data",
          "data": {
            "text/html": [
              "\n",
              "     <input type=\"file\" id=\"files-3d51c5a2-0b33-4f2e-ac50-60cac8cbd851\" name=\"files[]\" multiple disabled />\n",
              "     <output id=\"result-3d51c5a2-0b33-4f2e-ac50-60cac8cbd851\">\n",
              "      Upload widget is only available when the cell has been executed in the\n",
              "      current browser session. Please rerun this cell to enable.\n",
              "      </output>\n",
              "      <script src=\"/nbextensions/google.colab/files.js\"></script> "
            ],
            "text/plain": [
              "<IPython.core.display.HTML object>"
            ]
          },
          "metadata": {
            "tags": []
          }
        },
        {
          "output_type": "stream",
          "text": [
            "Saving sample_submission (1).csv to sample_submission (1).csv\n"
          ],
          "name": "stdout"
        }
      ]
    },
    {
      "cell_type": "code",
      "metadata": {
        "id": "Dg8hVHaJTldG",
        "colab_type": "code",
        "colab": {}
      },
      "source": [
        "%matplotlib inline\n",
        "import category_encoders as ce\n",
        "import pandas as pd\n",
        "import numpy as np\n",
        "import matplotlib.pyplot as plt\n",
        "import seaborn as sns\n",
        "from sklearn.model_selection import train_test_split\n",
        "from sklearn.ensemble import RandomForestClassifier, GradientBoostingClassifier\n",
        "from sklearn.svm import SVC\n",
        "from sklearn.impute import SimpleImputer\n",
        "from sklearn.pipeline import make_pipeline\n",
        "from sklearn.metrics import classification_report, confusion_matrix, accuracy_score\n",
        "from sklearn.utils.multiclass import unique_labels\n",
        "\n"
      ],
      "execution_count": 0,
      "outputs": []
    },
    {
      "cell_type": "code",
      "metadata": {
        "id": "6R98qyadMer9",
        "colab_type": "code",
        "outputId": "5a37bc85-56ec-45ef-fd35-55c4162540a6",
        "colab": {
          "base_uri": "https://localhost:8080/",
          "height": 51
        }
      },
      "source": [
        "!unzip test_features.csv.zip"
      ],
      "execution_count": 0,
      "outputs": [
        {
          "output_type": "stream",
          "text": [
            "Archive:  test_features.csv.zip\n",
            "  inflating: test_features.csv       \n"
          ],
          "name": "stdout"
        }
      ]
    },
    {
      "cell_type": "code",
      "metadata": {
        "id": "ABLbQctlMrZJ",
        "colab_type": "code",
        "outputId": "34bd52f0-498c-463c-dcfd-f400478b9d6b",
        "colab": {
          "base_uri": "https://localhost:8080/",
          "height": 51
        }
      },
      "source": [
        "!unzip train_features.csv.zip"
      ],
      "execution_count": 0,
      "outputs": [
        {
          "output_type": "stream",
          "text": [
            "Archive:  train_features.csv.zip\n",
            "  inflating: train_features.csv      \n"
          ],
          "name": "stdout"
        }
      ]
    },
    {
      "cell_type": "code",
      "metadata": {
        "id": "YW86GWsrMwy4",
        "colab_type": "code",
        "outputId": "dbf9b739-274f-40e3-b66f-36991a7f6a63",
        "colab": {
          "base_uri": "https://localhost:8080/",
          "height": 51
        }
      },
      "source": [
        "!unzip train_labels.csv.zip"
      ],
      "execution_count": 0,
      "outputs": [
        {
          "output_type": "stream",
          "text": [
            "Archive:  train_labels.csv.zip\n",
            "  inflating: train_labels.csv        \n"
          ],
          "name": "stdout"
        }
      ]
    },
    {
      "cell_type": "code",
      "metadata": {
        "id": "lAYbM5rr0qrR",
        "colab_type": "code",
        "colab": {}
      },
      "source": [
        "train_features_file = 'train_features.csv'\n",
        "train_labels_file = 'train_labels.csv'\n",
        "test_features_file = 'test_features.csv'\n",
        "sumbission_sample_file = 'sample_submission (1).csv'\n",
        "\n",
        "sample_submission = pd.read_csv(sumbission_sample_file)\n",
        "train_feat = pd.read_csv(train_features_file)\n",
        "train_labels = pd.read_csv(train_labels_file)\n",
        "test_feat = pd.read_csv(test_features_file)"
      ],
      "execution_count": 0,
      "outputs": []
    },
    {
      "cell_type": "code",
      "metadata": {
        "id": "yLnAXniXPFXt",
        "colab_type": "code",
        "outputId": "c6e0e65e-c300-44c4-8f46-7d418632beb8",
        "colab": {
          "base_uri": "https://localhost:8080/",
          "height": 204
        }
      },
      "source": [
        "train_labels.head()"
      ],
      "execution_count": 0,
      "outputs": [
        {
          "output_type": "execute_result",
          "data": {
            "text/html": [
              "<div>\n",
              "<style scoped>\n",
              "    .dataframe tbody tr th:only-of-type {\n",
              "        vertical-align: middle;\n",
              "    }\n",
              "\n",
              "    .dataframe tbody tr th {\n",
              "        vertical-align: top;\n",
              "    }\n",
              "\n",
              "    .dataframe thead th {\n",
              "        text-align: right;\n",
              "    }\n",
              "</style>\n",
              "<table border=\"1\" class=\"dataframe\">\n",
              "  <thead>\n",
              "    <tr style=\"text-align: right;\">\n",
              "      <th></th>\n",
              "      <th>id</th>\n",
              "      <th>status_group</th>\n",
              "    </tr>\n",
              "  </thead>\n",
              "  <tbody>\n",
              "    <tr>\n",
              "      <th>0</th>\n",
              "      <td>69572</td>\n",
              "      <td>functional</td>\n",
              "    </tr>\n",
              "    <tr>\n",
              "      <th>1</th>\n",
              "      <td>8776</td>\n",
              "      <td>functional</td>\n",
              "    </tr>\n",
              "    <tr>\n",
              "      <th>2</th>\n",
              "      <td>34310</td>\n",
              "      <td>functional</td>\n",
              "    </tr>\n",
              "    <tr>\n",
              "      <th>3</th>\n",
              "      <td>67743</td>\n",
              "      <td>non functional</td>\n",
              "    </tr>\n",
              "    <tr>\n",
              "      <th>4</th>\n",
              "      <td>19728</td>\n",
              "      <td>functional</td>\n",
              "    </tr>\n",
              "  </tbody>\n",
              "</table>\n",
              "</div>"
            ],
            "text/plain": [
              "      id    status_group\n",
              "0  69572      functional\n",
              "1   8776      functional\n",
              "2  34310      functional\n",
              "3  67743  non functional\n",
              "4  19728      functional"
            ]
          },
          "metadata": {
            "tags": []
          },
          "execution_count": 22
        }
      ]
    },
    {
      "cell_type": "code",
      "metadata": {
        "id": "M8valiQyOyMb",
        "colab_type": "code",
        "outputId": "f04015c8-bfcf-43aa-834d-adbc6724ba95",
        "colab": {
          "base_uri": "https://localhost:8080/",
          "height": 85
        }
      },
      "source": [
        "train_labels['status_group'].value_counts()"
      ],
      "execution_count": 6,
      "outputs": [
        {
          "output_type": "execute_result",
          "data": {
            "text/plain": [
              "functional                 32259\n",
              "non functional             22824\n",
              "functional needs repair     4317\n",
              "Name: status_group, dtype: int64"
            ]
          },
          "metadata": {
            "tags": []
          },
          "execution_count": 6
        }
      ]
    },
    {
      "cell_type": "code",
      "metadata": {
        "id": "yLfWMhjPXTS5",
        "colab_type": "code",
        "outputId": "7c7f6412-de2c-48a5-bcb0-162d4acc9cee",
        "colab": {
          "base_uri": "https://localhost:8080/",
          "height": 34
        }
      },
      "source": [
        "X_train = train_feat\n",
        "y_train = train_labels['status_group']\n",
        "\n",
        "X_train, X_val, y_train, y_val = train_test_split(\n",
        "    X_train, y_train, train_size=0.80, test_size=0.20, \n",
        "    stratify=y_train, random_state=42)\n",
        "\n",
        "X_train.shape, X_val.shape, y_train.shape, y_val.shape"
      ],
      "execution_count": 7,
      "outputs": [
        {
          "output_type": "execute_result",
          "data": {
            "text/plain": [
              "((47520, 40), (11880, 40), (47520,), (11880,))"
            ]
          },
          "metadata": {
            "tags": []
          },
          "execution_count": 7
        }
      ]
    },
    {
      "cell_type": "code",
      "metadata": {
        "id": "5Br8dg2V1amP",
        "colab_type": "code",
        "colab": {}
      },
      "source": [
        "def clean_data(X, cats, nums):\n",
        "    \"\"\"\n",
        "    Encodes a specified list of columns or all columns if None.\n",
        "    \"\"\"\n",
        "    X = X.copy()\n",
        "    \n",
        "    X['latitude'] = X['latitude'].replace(-2e-08, np.nan)\n",
        "    for num in nums:\n",
        "       X[num] = X[num].replace(0, np.nan)\n",
        "    \n",
        "    for cat in cats:\n",
        "        X[cat] = X[cat].fillna('MISSING')\n",
        "        \n",
        "   \n",
        "    return X"
      ],
      "execution_count": 0,
      "outputs": []
    },
    {
      "cell_type": "code",
      "metadata": {
        "id": "m_tQddU9R0AT",
        "colab_type": "code",
        "colab": {}
      },
      "source": [
        "#def model_selection(X_train, y_train,X_val, y_val, estimator):\n",
        "#    \"\"\"\n",
        "#    Test various estimators.\n",
        "#    \"\"\"\n",
        "   \n",
        "#    pipeline = make_pipeline(\n",
        "#          ce.OrdinalEncoder(),\n",
        "#          SimpleImputer(strategy='mean'),\n",
        "#          estimator\n",
        "#    )\n",
        "\n",
        "#    pipeline.fit(X_train, y_train)\n",
        "#    y_pred = pipeline.predict(X_val)\n",
        "    \n",
        "#    labels = unique_labels(y_val)\n",
        "#    columns = [f'Predicted {label}' for label in labels]\n",
        "#    index = [f'Actual {label}' for label in labels]\n",
        "#    table = pd.DataFrame(confusion_matrix(y_val, y_pred), \n",
        "#                         columns=columns, index=index)\n",
        "     \n",
        "#    print(accuracy_score(y_val, y_pred), \n",
        "#            classification_report(y_val, y_pred),\n",
        "#            sns.heatmap(table, annot=True, fmt='d', cmap='viridis')\n",
        "#           )\n"
      ],
      "execution_count": 0,
      "outputs": []
    },
    {
      "cell_type": "code",
      "metadata": {
        "id": "HbpkoYojSs-A",
        "colab_type": "code",
        "colab": {}
      },
      "source": [
        "cat_features = ['payment_type','waterpoint_type', 'quantity','extraction_type',\n",
        "                'permit', 'management']\n",
        "num_features   = ['construction_year', 'population', 'latitude', 'longitude',\n",
        "                  'gps_height', 'region_code', 'district_code']\n",
        "\n",
        "features = cat_features + num_features"
      ],
      "execution_count": 0,
      "outputs": []
    },
    {
      "cell_type": "code",
      "metadata": {
        "id": "q7Ri4uAuSvbn",
        "colab_type": "code",
        "colab": {}
      },
      "source": [
        "X_train = clean_data(X_train, cat_features, num_features)\n",
        "X_val = clean_data(X_val, cat_features, num_features)\n",
        "test_feat = clean_data(test_feat, cat_features, num_features)"
      ],
      "execution_count": 0,
      "outputs": []
    },
    {
      "cell_type": "code",
      "metadata": {
        "id": "ezAxlhy_S1Ts",
        "colab_type": "code",
        "colab": {}
      },
      "source": [
        "X_train_subset = X_train[features]\n",
        "X_val_subset = X_val[features]\n",
        "test_subset = test_feat[features]"
      ],
      "execution_count": 0,
      "outputs": []
    },
    {
      "cell_type": "code",
      "metadata": {
        "id": "thixvGQMTBap",
        "colab_type": "code",
        "colab": {}
      },
      "source": [
        "estimator = RandomForestClassifier(n_estimators=500, random_state=42, n_jobs=-1)"
      ],
      "execution_count": 0,
      "outputs": []
    },
    {
      "cell_type": "code",
      "metadata": {
        "id": "vycX4V3z9_WK",
        "colab_type": "code",
        "outputId": "81f5fffd-69bf-4090-96b9-0621d47f663a",
        "colab": {
          "base_uri": "https://localhost:8080/",
          "height": 595
        }
      },
      "source": [
        "\n",
        "pipeline = make_pipeline(\n",
        "      ce.OrdinalEncoder(),\n",
        "      SimpleImputer(strategy='mean'),\n",
        "      estimator\n",
        ")\n",
        "\n",
        "pipeline.fit(X_train_subset, y_train)\n",
        "y_pred = pipeline.predict(X_val_subset)\n",
        "    \n",
        "labels = unique_labels(y_val)\n",
        "columns = [f'Predicted {label}' for label in labels]\n",
        "index = [f'Actual {label}' for label in labels]\n",
        "table = pd.DataFrame(confusion_matrix(y_val, y_pred), \n",
        "                     columns=columns, index=index)\n",
        "     \n",
        "print(\n",
        "    accuracy_score(y_val, y_pred), \n",
        "    classification_report(y_val, y_pred),\n",
        "    sns.heatmap(table, annot=True, fmt='d', cmap='viridis')\n",
        " )\n",
        "\n",
        "    "
      ],
      "execution_count": 0,
      "outputs": [
        {
          "output_type": "stream",
          "text": [
            "0.8035353535353535                          precision    recall  f1-score   support\n",
            "\n",
            "             functional       0.81      0.88      0.84      6452\n",
            "functional needs repair       0.49      0.32      0.38       863\n",
            "         non functional       0.84      0.78      0.81      4565\n",
            "\n",
            "               accuracy                           0.80     11880\n",
            "              macro avg       0.71      0.66      0.68     11880\n",
            "           weighted avg       0.80      0.80      0.80     11880\n",
            " AxesSubplot(0.125,0.125;0.62x0.755)\n"
          ],
          "name": "stdout"
        },
        {
          "output_type": "display_data",
          "data": {
            "image/png": "[encoded data removed]",
            "text/plain": [
              "<Figure size 432x288 with 2 Axes>"
            ]
          },
          "metadata": {
            "tags": []
          }
        }
      ]
    },
    {
      "cell_type": "code",
      "metadata": {
        "id": "2-cM__5Sh0xV",
        "colab_type": "code",
        "colab": {}
      },
      "source": [
        "y_pred = pipeline.predict(test_subset)"
      ],
      "execution_count": 0,
      "outputs": []
    },
    {
      "cell_type": "code",
      "metadata": {
        "id": "aN07weFTe9w5",
        "colab_type": "code",
        "colab": {}
      },
      "source": [
        "from xgboost import XGBClassifier"
      ],
      "execution_count": 0,
      "outputs": []
    },
    {
      "cell_type": "code",
      "metadata": {
        "id": "AnR-CcM9fdHh",
        "colab_type": "code",
        "colab": {
          "base_uri": "https://localhost:8080/",
          "height": 1000
        },
        "outputId": "972996d6-6a67-405c-bcf2-e3ccd8726306"
      },
      "source": [
        "processor = make_pipeline(\n",
        "    ce.OrdinalEncoder(), \n",
        "    SimpleImputer(strategy='median')\n",
        ")\n",
        "\n",
        "X_train_processed = processor.fit_transform(X_train_subset)\n",
        "X_val_processed = processor.transform(X_val_subset)\n",
        "\n",
        "eval_set = [(X_train_processed, y_train), \n",
        "            (X_val_processed, y_val)]\n",
        "\n",
        "model = XGBClassifier(n_estimators=1000, n_jobs=-1)\n",
        "model.fit(X_train_processed, y_train, eval_set=eval_set, eval_metric='merror', \n",
        "          early_stopping_rounds=10)"
      ],
      "execution_count": 15,
      "outputs": [
        {
          "output_type": "stream",
          "text": [
            "[0]\tvalidation_0-merror:0.302799\tvalidation_1-merror:0.302778\n",
            "Multiple eval metrics have been passed: 'validation_1-merror' will be used for early stopping.\n",
            "\n",
            "Will train until validation_1-merror hasn't improved in 10 rounds.\n",
            "[1]\tvalidation_0-merror:0.293582\tvalidation_1-merror:0.293855\n",
            "[2]\tvalidation_0-merror:0.293582\tvalidation_1-merror:0.293855\n",
            "[3]\tvalidation_0-merror:0.293582\tvalidation_1-merror:0.293855\n",
            "[4]\tvalidation_0-merror:0.293519\tvalidation_1-merror:0.294108\n",
            "[5]\tvalidation_0-merror:0.292866\tvalidation_1-merror:0.29335\n",
            "[6]\tvalidation_0-merror:0.293077\tvalidation_1-merror:0.293182\n",
            "[7]\tvalidation_0-merror:0.29314\tvalidation_1-merror:0.293098\n",
            "[8]\tvalidation_0-merror:0.293077\tvalidation_1-merror:0.293434\n",
            "[9]\tvalidation_0-merror:0.292971\tvalidation_1-merror:0.292929\n",
            "[10]\tvalidation_0-merror:0.292866\tvalidation_1-merror:0.292761\n",
            "[11]\tvalidation_0-merror:0.292193\tvalidation_1-merror:0.292677\n",
            "[12]\tvalidation_0-merror:0.292319\tvalidation_1-merror:0.291835\n",
            "[13]\tvalidation_0-merror:0.291435\tvalidation_1-merror:0.290909\n",
            "[14]\tvalidation_0-merror:0.292677\tvalidation_1-merror:0.29234\n",
            "[15]\tvalidation_0-merror:0.290404\tvalidation_1-merror:0.290741\n",
            "[16]\tvalidation_0-merror:0.28891\tvalidation_1-merror:0.28931\n",
            "[17]\tvalidation_0-merror:0.288847\tvalidation_1-merror:0.288805\n",
            "[18]\tvalidation_0-merror:0.287142\tvalidation_1-merror:0.287121\n",
            "[19]\tvalidation_0-merror:0.286616\tvalidation_1-merror:0.28729\n",
            "[20]\tvalidation_0-merror:0.284933\tvalidation_1-merror:0.284764\n",
            "[21]\tvalidation_0-merror:0.283439\tvalidation_1-merror:0.283502\n",
            "[22]\tvalidation_0-merror:0.282765\tvalidation_1-merror:0.283165\n",
            "[23]\tvalidation_0-merror:0.28125\tvalidation_1-merror:0.281566\n",
            "[24]\tvalidation_0-merror:0.28186\tvalidation_1-merror:0.281818\n",
            "[25]\tvalidation_0-merror:0.280366\tvalidation_1-merror:0.280051\n",
            "[26]\tvalidation_0-merror:0.280219\tvalidation_1-merror:0.279882\n",
            "[27]\tvalidation_0-merror:0.280261\tvalidation_1-merror:0.27963\n",
            "[28]\tvalidation_0-merror:0.280366\tvalidation_1-merror:0.279966\n",
            "[29]\tvalidation_0-merror:0.278199\tvalidation_1-merror:0.27862\n",
            "[30]\tvalidation_0-merror:0.277715\tvalidation_1-merror:0.277525\n",
            "[31]\tvalidation_0-merror:0.277652\tvalidation_1-merror:0.277609\n",
            "[32]\tvalidation_0-merror:0.277167\tvalidation_1-merror:0.277273\n",
            "[33]\tvalidation_0-merror:0.276578\tvalidation_1-merror:0.277778\n",
            "[34]\tvalidation_0-merror:0.276747\tvalidation_1-merror:0.276936\n",
            "[35]\tvalidation_0-merror:0.275463\tvalidation_1-merror:0.276852\n",
            "[36]\tvalidation_0-merror:0.275421\tvalidation_1-merror:0.276768\n",
            "[37]\tvalidation_0-merror:0.275063\tvalidation_1-merror:0.276599\n",
            "[38]\tvalidation_0-merror:0.273906\tvalidation_1-merror:0.27702\n",
            "[39]\tvalidation_0-merror:0.274411\tvalidation_1-merror:0.276852\n",
            "[40]\tvalidation_0-merror:0.274285\tvalidation_1-merror:0.277441\n",
            "[41]\tvalidation_0-merror:0.27319\tvalidation_1-merror:0.276936\n",
            "[42]\tvalidation_0-merror:0.272685\tvalidation_1-merror:0.276094\n",
            "[43]\tvalidation_0-merror:0.272748\tvalidation_1-merror:0.275926\n",
            "[44]\tvalidation_0-merror:0.272433\tvalidation_1-merror:0.275842\n",
            "[45]\tvalidation_0-merror:0.271044\tvalidation_1-merror:0.274579\n",
            "[46]\tvalidation_0-merror:0.271128\tvalidation_1-merror:0.274495\n",
            "[47]\tvalidation_0-merror:0.270139\tvalidation_1-merror:0.273822\n",
            "[48]\tvalidation_0-merror:0.269339\tvalidation_1-merror:0.272727\n",
            "[49]\tvalidation_0-merror:0.269213\tvalidation_1-merror:0.272727\n",
            "[50]\tvalidation_0-merror:0.269045\tvalidation_1-merror:0.272475\n",
            "[51]\tvalidation_0-merror:0.268981\tvalidation_1-merror:0.272222\n",
            "[52]\tvalidation_0-merror:0.268834\tvalidation_1-merror:0.272054\n",
            "[53]\tvalidation_0-merror:0.268476\tvalidation_1-merror:0.271128\n",
            "[54]\tvalidation_0-merror:0.268329\tvalidation_1-merror:0.271212\n",
            "[55]\tvalidation_0-merror:0.26734\tvalidation_1-merror:0.270202\n",
            "[56]\tvalidation_0-merror:0.267045\tvalidation_1-merror:0.270034\n",
            "[57]\tvalidation_0-merror:0.266582\tvalidation_1-merror:0.269108\n",
            "[58]\tvalidation_0-merror:0.266688\tvalidation_1-merror:0.26936\n",
            "[59]\tvalidation_0-merror:0.265783\tvalidation_1-merror:0.267929\n",
            "[60]\tvalidation_0-merror:0.265699\tvalidation_1-merror:0.268266\n",
            "[61]\tvalidation_0-merror:0.26513\tvalidation_1-merror:0.267508\n",
            "[62]\tvalidation_0-merror:0.265025\tvalidation_1-merror:0.267508\n",
            "[63]\tvalidation_0-merror:0.264815\tvalidation_1-merror:0.267172\n",
            "[64]\tvalidation_0-merror:0.264857\tvalidation_1-merror:0.267256\n",
            "[65]\tvalidation_0-merror:0.264562\tvalidation_1-merror:0.266835\n",
            "[66]\tvalidation_0-merror:0.264478\tvalidation_1-merror:0.267172\n",
            "[67]\tvalidation_0-merror:0.263931\tvalidation_1-merror:0.267256\n",
            "[68]\tvalidation_0-merror:0.263721\tvalidation_1-merror:0.266751\n",
            "[69]\tvalidation_0-merror:0.263594\tvalidation_1-merror:0.266498\n",
            "[70]\tvalidation_0-merror:0.263215\tvalidation_1-merror:0.266835\n",
            "[71]\tvalidation_0-merror:0.263089\tvalidation_1-merror:0.266667\n",
            "[72]\tvalidation_0-merror:0.262879\tvalidation_1-merror:0.266498\n",
            "[73]\tvalidation_0-merror:0.262963\tvalidation_1-merror:0.266919\n",
            "[74]\tvalidation_0-merror:0.262795\tvalidation_1-merror:0.266667\n",
            "[75]\tvalidation_0-merror:0.262458\tvalidation_1-merror:0.266751\n",
            "[76]\tvalidation_0-merror:0.262753\tvalidation_1-merror:0.267088\n",
            "[77]\tvalidation_0-merror:0.262437\tvalidation_1-merror:0.266582\n",
            "[78]\tvalidation_0-merror:0.261995\tvalidation_1-merror:0.266498\n",
            "[79]\tvalidation_0-merror:0.262226\tvalidation_1-merror:0.266919\n",
            "Stopping. Best iteration:\n",
            "[69]\tvalidation_0-merror:0.263594\tvalidation_1-merror:0.266498\n",
            "\n"
          ],
          "name": "stdout"
        },
        {
          "output_type": "execute_result",
          "data": {
            "text/plain": [
              "XGBClassifier(base_score=0.5, booster='gbtree', colsample_bylevel=1,\n",
              "              colsample_bynode=1, colsample_bytree=1, gamma=0,\n",
              "              learning_rate=0.1, max_delta_step=0, max_depth=3,\n",
              "              min_child_weight=1, missing=None, n_estimators=1000, n_jobs=-1,\n",
              "              nthread=None, objective='multi:softprob', random_state=0,\n",
              "              reg_alpha=0, reg_lambda=1, scale_pos_weight=1, seed=None,\n",
              "              silent=None, subsample=1, verbosity=1)"
            ]
          },
          "metadata": {
            "tags": []
          },
          "execution_count": 15
        }
      ]
    },
    {
      "cell_type": "code",
      "metadata": {
        "id": "AYkpAwjxj3ym",
        "colab_type": "code",
        "colab": {}
      },
      "source": [
        "test_processed = processor.transform(test_subset)"
      ],
      "execution_count": 0,
      "outputs": []
    },
    {
      "cell_type": "code",
      "metadata": {
        "id": "gfav9LzpRCh4",
        "colab_type": "code",
        "colab": {}
      },
      "source": [
        "y_pred2 = model.predict(test_processed)"
      ],
      "execution_count": 0,
      "outputs": []
    },
    {
      "cell_type": "code",
      "metadata": {
        "id": "Jm6Zxk59iPDc",
        "colab_type": "code",
        "colab": {}
      },
      "source": [
        "submission = sample_submission.copy()\n",
        "submission['status_group'] = y_pred2\n",
        "submission.to_csv('kel-submission-08.csv', index=False)"
      ],
      "execution_count": 0,
      "outputs": []
    },
    {
      "cell_type": "code",
      "metadata": {
        "id": "ECu-SAg8iSOJ",
        "colab_type": "code",
        "outputId": "2827ad01-77a1-40b3-d4c5-fa4812284a60",
        "colab": {
          "base_uri": "https://localhost:8080/",
          "height": 187
        }
      },
      "source": [
        "!head kel-submission-08.csv"
      ],
      "execution_count": 21,
      "outputs": [
        {
          "output_type": "stream",
          "text": [
            "id,status_group\n",
            "50785,non functional\n",
            "51630,functional\n",
            "17168,non functional\n",
            "45559,non functional\n",
            "49871,functional\n",
            "52449,functional\n",
            "24806,functional\n",
            "28965,non functional\n",
            "36301,functional\n"
          ],
          "name": "stdout"
        }
      ]
    },
    {
      "cell_type": "code",
      "metadata": {
        "id": "pccjoTKKiWEj",
        "colab_type": "code",
        "colab": {}
      },
      "source": [
        "from google.colab import files\n",
        "files.download('kel-submission-08.csv')"
      ],
      "execution_count": 0,
      "outputs": []
    }
  ]
}