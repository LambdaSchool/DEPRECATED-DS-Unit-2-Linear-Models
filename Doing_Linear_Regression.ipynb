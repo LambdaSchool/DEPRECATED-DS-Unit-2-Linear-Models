{
 "cells": [
  {
   "cell_type": "markdown",
   "metadata": {
    "colab_type": "text",
    "id": "view-in-github"
   },
   "source": [
    "<a href=\"https://colab.research.google.com/github/unburied/DS-Unit-2-Linear-Models/blob/master/Doing_Linear_Regression.ipynb\" target=\"_parent\"><img src=\"https://colab.research.google.com/assets/colab-badge.svg\" alt=\"Open In Colab\"/></a>"
   ]
  },
  {
   "cell_type": "markdown",
   "metadata": {
    "colab_type": "text",
    "id": "XBpZJPjFkepU"
   },
   "source": [
    "##Get/Split/Model(basic)\n"
   ]
  },
  {
   "cell_type": "code",
   "execution_count": 1,
   "metadata": {
    "colab": {},
    "colab_type": "code",
    "id": "2Ke-ZwqLU4Xf"
   },
   "outputs": [],
   "source": [
    "import pandas as pd\n",
    "import numpy as np"
   ]
  },
  {
   "cell_type": "code",
   "execution_count": 2,
   "metadata": {
    "colab": {},
    "colab_type": "code",
    "id": "70XX4u6YVHRN"
   },
   "outputs": [],
   "source": [
    "WEB = 'https://raw.githubusercontent.com/LambdaSchool/DS-Unit-2-Linear-Models/master/data/nyc/nyc-rent-2016.csv'\n",
    "\n",
    "df = pd.read_csv(WEB)"
   ]
  },
  {
   "cell_type": "code",
   "execution_count": 3,
   "metadata": {
    "colab": {
     "base_uri": "https://localhost:8080/",
     "height": 0
    },
    "colab_type": "code",
    "id": "44NfYqFcVOL0",
    "outputId": "e2fb07df-d64e-4f45-e108-227d857795ea"
   },
   "outputs": [
    {
     "data": {
      "text/html": [
       "<div>\n",
       "<style scoped>\n",
       "    .dataframe tbody tr th:only-of-type {\n",
       "        vertical-align: middle;\n",
       "    }\n",
       "\n",
       "    .dataframe tbody tr th {\n",
       "        vertical-align: top;\n",
       "    }\n",
       "\n",
       "    .dataframe thead th {\n",
       "        text-align: right;\n",
       "    }\n",
       "</style>\n",
       "<table border=\"1\" class=\"dataframe\">\n",
       "  <thead>\n",
       "    <tr style=\"text-align: right;\">\n",
       "      <th></th>\n",
       "      <th>0</th>\n",
       "      <th>1</th>\n",
       "      <th>2</th>\n",
       "      <th>3</th>\n",
       "      <th>4</th>\n",
       "    </tr>\n",
       "  </thead>\n",
       "  <tbody>\n",
       "    <tr>\n",
       "      <th>bathrooms</th>\n",
       "      <td>1.5</td>\n",
       "      <td>1</td>\n",
       "      <td>1</td>\n",
       "      <td>1</td>\n",
       "      <td>1</td>\n",
       "    </tr>\n",
       "    <tr>\n",
       "      <th>bedrooms</th>\n",
       "      <td>3</td>\n",
       "      <td>2</td>\n",
       "      <td>1</td>\n",
       "      <td>1</td>\n",
       "      <td>4</td>\n",
       "    </tr>\n",
       "    <tr>\n",
       "      <th>created</th>\n",
       "      <td>2016-06-24 07:54:24</td>\n",
       "      <td>2016-06-12 12:19:27</td>\n",
       "      <td>2016-04-17 03:26:41</td>\n",
       "      <td>2016-04-18 02:22:02</td>\n",
       "      <td>2016-04-28 01:32:41</td>\n",
       "    </tr>\n",
       "    <tr>\n",
       "      <th>description</th>\n",
       "      <td>A Brand New 3 Bedroom 1.5 bath ApartmentEnjoy ...</td>\n",
       "      <td></td>\n",
       "      <td>Top Top West Village location, beautiful Pre-w...</td>\n",
       "      <td>Building Amenities - Garage - Garden - fitness...</td>\n",
       "      <td>Beautifully renovated 3 bedroom flex 4 bedroom...</td>\n",
       "    </tr>\n",
       "    <tr>\n",
       "      <th>display_address</th>\n",
       "      <td>Metropolitan Avenue</td>\n",
       "      <td>Columbus Avenue</td>\n",
       "      <td>W 13 Street</td>\n",
       "      <td>East 49th Street</td>\n",
       "      <td>West 143rd Street</td>\n",
       "    </tr>\n",
       "    <tr>\n",
       "      <th>latitude</th>\n",
       "      <td>40.7145</td>\n",
       "      <td>40.7947</td>\n",
       "      <td>40.7388</td>\n",
       "      <td>40.7539</td>\n",
       "      <td>40.8241</td>\n",
       "    </tr>\n",
       "    <tr>\n",
       "      <th>longitude</th>\n",
       "      <td>-73.9425</td>\n",
       "      <td>-73.9667</td>\n",
       "      <td>-74.0018</td>\n",
       "      <td>-73.9677</td>\n",
       "      <td>-73.9493</td>\n",
       "    </tr>\n",
       "    <tr>\n",
       "      <th>price</th>\n",
       "      <td>3000</td>\n",
       "      <td>5465</td>\n",
       "      <td>2850</td>\n",
       "      <td>3275</td>\n",
       "      <td>3350</td>\n",
       "    </tr>\n",
       "    <tr>\n",
       "      <th>street_address</th>\n",
       "      <td>792 Metropolitan Avenue</td>\n",
       "      <td>808 Columbus Avenue</td>\n",
       "      <td>241 W 13 Street</td>\n",
       "      <td>333 East 49th Street</td>\n",
       "      <td>500 West 143rd Street</td>\n",
       "    </tr>\n",
       "    <tr>\n",
       "      <th>interest_level</th>\n",
       "      <td>medium</td>\n",
       "      <td>low</td>\n",
       "      <td>high</td>\n",
       "      <td>low</td>\n",
       "      <td>low</td>\n",
       "    </tr>\n",
       "    <tr>\n",
       "      <th>elevator</th>\n",
       "      <td>0</td>\n",
       "      <td>1</td>\n",
       "      <td>0</td>\n",
       "      <td>0</td>\n",
       "      <td>0</td>\n",
       "    </tr>\n",
       "    <tr>\n",
       "      <th>cats_allowed</th>\n",
       "      <td>0</td>\n",
       "      <td>1</td>\n",
       "      <td>0</td>\n",
       "      <td>0</td>\n",
       "      <td>0</td>\n",
       "    </tr>\n",
       "    <tr>\n",
       "      <th>hardwood_floors</th>\n",
       "      <td>0</td>\n",
       "      <td>0</td>\n",
       "      <td>1</td>\n",
       "      <td>1</td>\n",
       "      <td>0</td>\n",
       "    </tr>\n",
       "    <tr>\n",
       "      <th>dogs_allowed</th>\n",
       "      <td>0</td>\n",
       "      <td>1</td>\n",
       "      <td>0</td>\n",
       "      <td>0</td>\n",
       "      <td>0</td>\n",
       "    </tr>\n",
       "    <tr>\n",
       "      <th>doorman</th>\n",
       "      <td>0</td>\n",
       "      <td>1</td>\n",
       "      <td>0</td>\n",
       "      <td>0</td>\n",
       "      <td>0</td>\n",
       "    </tr>\n",
       "    <tr>\n",
       "      <th>dishwasher</th>\n",
       "      <td>0</td>\n",
       "      <td>0</td>\n",
       "      <td>1</td>\n",
       "      <td>0</td>\n",
       "      <td>0</td>\n",
       "    </tr>\n",
       "    <tr>\n",
       "      <th>no_fee</th>\n",
       "      <td>0</td>\n",
       "      <td>0</td>\n",
       "      <td>0</td>\n",
       "      <td>1</td>\n",
       "      <td>0</td>\n",
       "    </tr>\n",
       "    <tr>\n",
       "      <th>laundry_in_building</th>\n",
       "      <td>0</td>\n",
       "      <td>0</td>\n",
       "      <td>1</td>\n",
       "      <td>0</td>\n",
       "      <td>0</td>\n",
       "    </tr>\n",
       "    <tr>\n",
       "      <th>fitness_center</th>\n",
       "      <td>0</td>\n",
       "      <td>1</td>\n",
       "      <td>0</td>\n",
       "      <td>0</td>\n",
       "      <td>0</td>\n",
       "    </tr>\n",
       "    <tr>\n",
       "      <th>pre-war</th>\n",
       "      <td>0</td>\n",
       "      <td>0</td>\n",
       "      <td>0</td>\n",
       "      <td>0</td>\n",
       "      <td>1</td>\n",
       "    </tr>\n",
       "    <tr>\n",
       "      <th>laundry_in_unit</th>\n",
       "      <td>0</td>\n",
       "      <td>0</td>\n",
       "      <td>0</td>\n",
       "      <td>0</td>\n",
       "      <td>0</td>\n",
       "    </tr>\n",
       "    <tr>\n",
       "      <th>roof_deck</th>\n",
       "      <td>0</td>\n",
       "      <td>0</td>\n",
       "      <td>0</td>\n",
       "      <td>0</td>\n",
       "      <td>0</td>\n",
       "    </tr>\n",
       "    <tr>\n",
       "      <th>outdoor_space</th>\n",
       "      <td>0</td>\n",
       "      <td>0</td>\n",
       "      <td>0</td>\n",
       "      <td>0</td>\n",
       "      <td>0</td>\n",
       "    </tr>\n",
       "    <tr>\n",
       "      <th>dining_room</th>\n",
       "      <td>0</td>\n",
       "      <td>0</td>\n",
       "      <td>0</td>\n",
       "      <td>0</td>\n",
       "      <td>0</td>\n",
       "    </tr>\n",
       "    <tr>\n",
       "      <th>high_speed_internet</th>\n",
       "      <td>0</td>\n",
       "      <td>0</td>\n",
       "      <td>0</td>\n",
       "      <td>0</td>\n",
       "      <td>0</td>\n",
       "    </tr>\n",
       "    <tr>\n",
       "      <th>balcony</th>\n",
       "      <td>0</td>\n",
       "      <td>0</td>\n",
       "      <td>0</td>\n",
       "      <td>0</td>\n",
       "      <td>0</td>\n",
       "    </tr>\n",
       "    <tr>\n",
       "      <th>swimming_pool</th>\n",
       "      <td>0</td>\n",
       "      <td>0</td>\n",
       "      <td>0</td>\n",
       "      <td>0</td>\n",
       "      <td>0</td>\n",
       "    </tr>\n",
       "    <tr>\n",
       "      <th>new_construction</th>\n",
       "      <td>0</td>\n",
       "      <td>0</td>\n",
       "      <td>0</td>\n",
       "      <td>0</td>\n",
       "      <td>0</td>\n",
       "    </tr>\n",
       "    <tr>\n",
       "      <th>exclusive</th>\n",
       "      <td>0</td>\n",
       "      <td>0</td>\n",
       "      <td>0</td>\n",
       "      <td>0</td>\n",
       "      <td>0</td>\n",
       "    </tr>\n",
       "    <tr>\n",
       "      <th>terrace</th>\n",
       "      <td>0</td>\n",
       "      <td>0</td>\n",
       "      <td>0</td>\n",
       "      <td>0</td>\n",
       "      <td>0</td>\n",
       "    </tr>\n",
       "    <tr>\n",
       "      <th>loft</th>\n",
       "      <td>0</td>\n",
       "      <td>0</td>\n",
       "      <td>0</td>\n",
       "      <td>0</td>\n",
       "      <td>0</td>\n",
       "    </tr>\n",
       "    <tr>\n",
       "      <th>garden_patio</th>\n",
       "      <td>0</td>\n",
       "      <td>0</td>\n",
       "      <td>0</td>\n",
       "      <td>0</td>\n",
       "      <td>0</td>\n",
       "    </tr>\n",
       "    <tr>\n",
       "      <th>common_outdoor_space</th>\n",
       "      <td>0</td>\n",
       "      <td>0</td>\n",
       "      <td>0</td>\n",
       "      <td>0</td>\n",
       "      <td>0</td>\n",
       "    </tr>\n",
       "    <tr>\n",
       "      <th>wheelchair_access</th>\n",
       "      <td>0</td>\n",
       "      <td>0</td>\n",
       "      <td>0</td>\n",
       "      <td>0</td>\n",
       "      <td>0</td>\n",
       "    </tr>\n",
       "  </tbody>\n",
       "</table>\n",
       "</div>"
      ],
      "text/plain": [
       "                                                                      0  \\\n",
       "bathrooms                                                           1.5   \n",
       "bedrooms                                                              3   \n",
       "created                                             2016-06-24 07:54:24   \n",
       "description           A Brand New 3 Bedroom 1.5 bath ApartmentEnjoy ...   \n",
       "display_address                                     Metropolitan Avenue   \n",
       "latitude                                                        40.7145   \n",
       "longitude                                                      -73.9425   \n",
       "price                                                              3000   \n",
       "street_address                                  792 Metropolitan Avenue   \n",
       "interest_level                                                   medium   \n",
       "elevator                                                              0   \n",
       "cats_allowed                                                          0   \n",
       "hardwood_floors                                                       0   \n",
       "dogs_allowed                                                          0   \n",
       "doorman                                                               0   \n",
       "dishwasher                                                            0   \n",
       "no_fee                                                                0   \n",
       "laundry_in_building                                                   0   \n",
       "fitness_center                                                        0   \n",
       "pre-war                                                               0   \n",
       "laundry_in_unit                                                       0   \n",
       "roof_deck                                                             0   \n",
       "outdoor_space                                                         0   \n",
       "dining_room                                                           0   \n",
       "high_speed_internet                                                   0   \n",
       "balcony                                                               0   \n",
       "swimming_pool                                                         0   \n",
       "new_construction                                                      0   \n",
       "exclusive                                                             0   \n",
       "terrace                                                               0   \n",
       "loft                                                                  0   \n",
       "garden_patio                                                          0   \n",
       "common_outdoor_space                                                  0   \n",
       "wheelchair_access                                                     0   \n",
       "\n",
       "                                        1  \\\n",
       "bathrooms                               1   \n",
       "bedrooms                                2   \n",
       "created               2016-06-12 12:19:27   \n",
       "description                                 \n",
       "display_address           Columbus Avenue   \n",
       "latitude                          40.7947   \n",
       "longitude                        -73.9667   \n",
       "price                                5465   \n",
       "street_address        808 Columbus Avenue   \n",
       "interest_level                        low   \n",
       "elevator                                1   \n",
       "cats_allowed                            1   \n",
       "hardwood_floors                         0   \n",
       "dogs_allowed                            1   \n",
       "doorman                                 1   \n",
       "dishwasher                              0   \n",
       "no_fee                                  0   \n",
       "laundry_in_building                     0   \n",
       "fitness_center                          1   \n",
       "pre-war                                 0   \n",
       "laundry_in_unit                         0   \n",
       "roof_deck                               0   \n",
       "outdoor_space                           0   \n",
       "dining_room                             0   \n",
       "high_speed_internet                     0   \n",
       "balcony                                 0   \n",
       "swimming_pool                           0   \n",
       "new_construction                        0   \n",
       "exclusive                               0   \n",
       "terrace                                 0   \n",
       "loft                                    0   \n",
       "garden_patio                            0   \n",
       "common_outdoor_space                    0   \n",
       "wheelchair_access                       0   \n",
       "\n",
       "                                                                      2  \\\n",
       "bathrooms                                                             1   \n",
       "bedrooms                                                              1   \n",
       "created                                             2016-04-17 03:26:41   \n",
       "description           Top Top West Village location, beautiful Pre-w...   \n",
       "display_address                                             W 13 Street   \n",
       "latitude                                                        40.7388   \n",
       "longitude                                                      -74.0018   \n",
       "price                                                              2850   \n",
       "street_address                                          241 W 13 Street   \n",
       "interest_level                                                     high   \n",
       "elevator                                                              0   \n",
       "cats_allowed                                                          0   \n",
       "hardwood_floors                                                       1   \n",
       "dogs_allowed                                                          0   \n",
       "doorman                                                               0   \n",
       "dishwasher                                                            1   \n",
       "no_fee                                                                0   \n",
       "laundry_in_building                                                   1   \n",
       "fitness_center                                                        0   \n",
       "pre-war                                                               0   \n",
       "laundry_in_unit                                                       0   \n",
       "roof_deck                                                             0   \n",
       "outdoor_space                                                         0   \n",
       "dining_room                                                           0   \n",
       "high_speed_internet                                                   0   \n",
       "balcony                                                               0   \n",
       "swimming_pool                                                         0   \n",
       "new_construction                                                      0   \n",
       "exclusive                                                             0   \n",
       "terrace                                                               0   \n",
       "loft                                                                  0   \n",
       "garden_patio                                                          0   \n",
       "common_outdoor_space                                                  0   \n",
       "wheelchair_access                                                     0   \n",
       "\n",
       "                                                                      3  \\\n",
       "bathrooms                                                             1   \n",
       "bedrooms                                                              1   \n",
       "created                                             2016-04-18 02:22:02   \n",
       "description           Building Amenities - Garage - Garden - fitness...   \n",
       "display_address                                        East 49th Street   \n",
       "latitude                                                        40.7539   \n",
       "longitude                                                      -73.9677   \n",
       "price                                                              3275   \n",
       "street_address                                     333 East 49th Street   \n",
       "interest_level                                                      low   \n",
       "elevator                                                              0   \n",
       "cats_allowed                                                          0   \n",
       "hardwood_floors                                                       1   \n",
       "dogs_allowed                                                          0   \n",
       "doorman                                                               0   \n",
       "dishwasher                                                            0   \n",
       "no_fee                                                                1   \n",
       "laundry_in_building                                                   0   \n",
       "fitness_center                                                        0   \n",
       "pre-war                                                               0   \n",
       "laundry_in_unit                                                       0   \n",
       "roof_deck                                                             0   \n",
       "outdoor_space                                                         0   \n",
       "dining_room                                                           0   \n",
       "high_speed_internet                                                   0   \n",
       "balcony                                                               0   \n",
       "swimming_pool                                                         0   \n",
       "new_construction                                                      0   \n",
       "exclusive                                                             0   \n",
       "terrace                                                               0   \n",
       "loft                                                                  0   \n",
       "garden_patio                                                          0   \n",
       "common_outdoor_space                                                  0   \n",
       "wheelchair_access                                                     0   \n",
       "\n",
       "                                                                      4  \n",
       "bathrooms                                                             1  \n",
       "bedrooms                                                              4  \n",
       "created                                             2016-04-28 01:32:41  \n",
       "description           Beautifully renovated 3 bedroom flex 4 bedroom...  \n",
       "display_address                                       West 143rd Street  \n",
       "latitude                                                        40.8241  \n",
       "longitude                                                      -73.9493  \n",
       "price                                                              3350  \n",
       "street_address                                    500 West 143rd Street  \n",
       "interest_level                                                      low  \n",
       "elevator                                                              0  \n",
       "cats_allowed                                                          0  \n",
       "hardwood_floors                                                       0  \n",
       "dogs_allowed                                                          0  \n",
       "doorman                                                               0  \n",
       "dishwasher                                                            0  \n",
       "no_fee                                                                0  \n",
       "laundry_in_building                                                   0  \n",
       "fitness_center                                                        0  \n",
       "pre-war                                                               1  \n",
       "laundry_in_unit                                                       0  \n",
       "roof_deck                                                             0  \n",
       "outdoor_space                                                         0  \n",
       "dining_room                                                           0  \n",
       "high_speed_internet                                                   0  \n",
       "balcony                                                               0  \n",
       "swimming_pool                                                         0  \n",
       "new_construction                                                      0  \n",
       "exclusive                                                             0  \n",
       "terrace                                                               0  \n",
       "loft                                                                  0  \n",
       "garden_patio                                                          0  \n",
       "common_outdoor_space                                                  0  \n",
       "wheelchair_access                                                     0  "
      ]
     },
     "execution_count": 3,
     "metadata": {},
     "output_type": "execute_result"
    }
   ],
   "source": [
    "#View Columns\n",
    "df.head().transpose()"
   ]
  },
  {
   "cell_type": "code",
   "execution_count": 4,
   "metadata": {
    "colab": {
     "base_uri": "https://localhost:8080/",
     "height": 0
    },
    "colab_type": "code",
    "id": "PvhiO2Q6VT6V",
    "outputId": "776ec954-5a35-4734-bbd3-542ff7f82761"
   },
   "outputs": [
    {
     "data": {
      "text/html": [
       "<div>\n",
       "<style scoped>\n",
       "    .dataframe tbody tr th:only-of-type {\n",
       "        vertical-align: middle;\n",
       "    }\n",
       "\n",
       "    .dataframe tbody tr th {\n",
       "        vertical-align: top;\n",
       "    }\n",
       "\n",
       "    .dataframe thead th {\n",
       "        text-align: right;\n",
       "    }\n",
       "</style>\n",
       "<table border=\"1\" class=\"dataframe\">\n",
       "  <thead>\n",
       "    <tr style=\"text-align: right;\">\n",
       "      <th></th>\n",
       "      <th>bathrooms</th>\n",
       "      <th>bedrooms</th>\n",
       "      <th>description</th>\n",
       "      <th>display_address</th>\n",
       "      <th>latitude</th>\n",
       "      <th>longitude</th>\n",
       "      <th>price</th>\n",
       "      <th>street_address</th>\n",
       "      <th>interest_level</th>\n",
       "      <th>elevator</th>\n",
       "      <th>...</th>\n",
       "      <th>high_speed_internet</th>\n",
       "      <th>balcony</th>\n",
       "      <th>swimming_pool</th>\n",
       "      <th>new_construction</th>\n",
       "      <th>exclusive</th>\n",
       "      <th>terrace</th>\n",
       "      <th>loft</th>\n",
       "      <th>garden_patio</th>\n",
       "      <th>common_outdoor_space</th>\n",
       "      <th>wheelchair_access</th>\n",
       "    </tr>\n",
       "    <tr>\n",
       "      <th>created</th>\n",
       "      <th></th>\n",
       "      <th></th>\n",
       "      <th></th>\n",
       "      <th></th>\n",
       "      <th></th>\n",
       "      <th></th>\n",
       "      <th></th>\n",
       "      <th></th>\n",
       "      <th></th>\n",
       "      <th></th>\n",
       "      <th></th>\n",
       "      <th></th>\n",
       "      <th></th>\n",
       "      <th></th>\n",
       "      <th></th>\n",
       "      <th></th>\n",
       "      <th></th>\n",
       "      <th></th>\n",
       "      <th></th>\n",
       "      <th></th>\n",
       "      <th></th>\n",
       "    </tr>\n",
       "  </thead>\n",
       "  <tbody>\n",
       "    <tr>\n",
       "      <th>2016-06-24 07:54:24</th>\n",
       "      <td>1.5</td>\n",
       "      <td>3</td>\n",
       "      <td>A Brand New 3 Bedroom 1.5 bath ApartmentEnjoy ...</td>\n",
       "      <td>Metropolitan Avenue</td>\n",
       "      <td>40.7145</td>\n",
       "      <td>-73.9425</td>\n",
       "      <td>3000</td>\n",
       "      <td>792 Metropolitan Avenue</td>\n",
       "      <td>medium</td>\n",
       "      <td>0</td>\n",
       "      <td>...</td>\n",
       "      <td>0</td>\n",
       "      <td>0</td>\n",
       "      <td>0</td>\n",
       "      <td>0</td>\n",
       "      <td>0</td>\n",
       "      <td>0</td>\n",
       "      <td>0</td>\n",
       "      <td>0</td>\n",
       "      <td>0</td>\n",
       "      <td>0</td>\n",
       "    </tr>\n",
       "    <tr>\n",
       "      <th>2016-06-12 12:19:27</th>\n",
       "      <td>1.0</td>\n",
       "      <td>2</td>\n",
       "      <td></td>\n",
       "      <td>Columbus Avenue</td>\n",
       "      <td>40.7947</td>\n",
       "      <td>-73.9667</td>\n",
       "      <td>5465</td>\n",
       "      <td>808 Columbus Avenue</td>\n",
       "      <td>low</td>\n",
       "      <td>1</td>\n",
       "      <td>...</td>\n",
       "      <td>0</td>\n",
       "      <td>0</td>\n",
       "      <td>0</td>\n",
       "      <td>0</td>\n",
       "      <td>0</td>\n",
       "      <td>0</td>\n",
       "      <td>0</td>\n",
       "      <td>0</td>\n",
       "      <td>0</td>\n",
       "      <td>0</td>\n",
       "    </tr>\n",
       "    <tr>\n",
       "      <th>2016-04-17 03:26:41</th>\n",
       "      <td>1.0</td>\n",
       "      <td>1</td>\n",
       "      <td>Top Top West Village location, beautiful Pre-w...</td>\n",
       "      <td>W 13 Street</td>\n",
       "      <td>40.7388</td>\n",
       "      <td>-74.0018</td>\n",
       "      <td>2850</td>\n",
       "      <td>241 W 13 Street</td>\n",
       "      <td>high</td>\n",
       "      <td>0</td>\n",
       "      <td>...</td>\n",
       "      <td>0</td>\n",
       "      <td>0</td>\n",
       "      <td>0</td>\n",
       "      <td>0</td>\n",
       "      <td>0</td>\n",
       "      <td>0</td>\n",
       "      <td>0</td>\n",
       "      <td>0</td>\n",
       "      <td>0</td>\n",
       "      <td>0</td>\n",
       "    </tr>\n",
       "    <tr>\n",
       "      <th>2016-04-18 02:22:02</th>\n",
       "      <td>1.0</td>\n",
       "      <td>1</td>\n",
       "      <td>Building Amenities - Garage - Garden - fitness...</td>\n",
       "      <td>East 49th Street</td>\n",
       "      <td>40.7539</td>\n",
       "      <td>-73.9677</td>\n",
       "      <td>3275</td>\n",
       "      <td>333 East 49th Street</td>\n",
       "      <td>low</td>\n",
       "      <td>0</td>\n",
       "      <td>...</td>\n",
       "      <td>0</td>\n",
       "      <td>0</td>\n",
       "      <td>0</td>\n",
       "      <td>0</td>\n",
       "      <td>0</td>\n",
       "      <td>0</td>\n",
       "      <td>0</td>\n",
       "      <td>0</td>\n",
       "      <td>0</td>\n",
       "      <td>0</td>\n",
       "    </tr>\n",
       "    <tr>\n",
       "      <th>2016-04-28 01:32:41</th>\n",
       "      <td>1.0</td>\n",
       "      <td>4</td>\n",
       "      <td>Beautifully renovated 3 bedroom flex 4 bedroom...</td>\n",
       "      <td>West 143rd Street</td>\n",
       "      <td>40.8241</td>\n",
       "      <td>-73.9493</td>\n",
       "      <td>3350</td>\n",
       "      <td>500 West 143rd Street</td>\n",
       "      <td>low</td>\n",
       "      <td>0</td>\n",
       "      <td>...</td>\n",
       "      <td>0</td>\n",
       "      <td>0</td>\n",
       "      <td>0</td>\n",
       "      <td>0</td>\n",
       "      <td>0</td>\n",
       "      <td>0</td>\n",
       "      <td>0</td>\n",
       "      <td>0</td>\n",
       "      <td>0</td>\n",
       "      <td>0</td>\n",
       "    </tr>\n",
       "  </tbody>\n",
       "</table>\n",
       "<p>5 rows × 33 columns</p>\n",
       "</div>"
      ],
      "text/plain": [
       "                     bathrooms  bedrooms  \\\n",
       "created                                    \n",
       "2016-06-24 07:54:24        1.5         3   \n",
       "2016-06-12 12:19:27        1.0         2   \n",
       "2016-04-17 03:26:41        1.0         1   \n",
       "2016-04-18 02:22:02        1.0         1   \n",
       "2016-04-28 01:32:41        1.0         4   \n",
       "\n",
       "                                                           description  \\\n",
       "created                                                                  \n",
       "2016-06-24 07:54:24  A Brand New 3 Bedroom 1.5 bath ApartmentEnjoy ...   \n",
       "2016-06-12 12:19:27                                                      \n",
       "2016-04-17 03:26:41  Top Top West Village location, beautiful Pre-w...   \n",
       "2016-04-18 02:22:02  Building Amenities - Garage - Garden - fitness...   \n",
       "2016-04-28 01:32:41  Beautifully renovated 3 bedroom flex 4 bedroom...   \n",
       "\n",
       "                         display_address  latitude  longitude  price  \\\n",
       "created                                                                \n",
       "2016-06-24 07:54:24  Metropolitan Avenue   40.7145   -73.9425   3000   \n",
       "2016-06-12 12:19:27      Columbus Avenue   40.7947   -73.9667   5465   \n",
       "2016-04-17 03:26:41          W 13 Street   40.7388   -74.0018   2850   \n",
       "2016-04-18 02:22:02     East 49th Street   40.7539   -73.9677   3275   \n",
       "2016-04-28 01:32:41    West 143rd Street   40.8241   -73.9493   3350   \n",
       "\n",
       "                              street_address interest_level  elevator  ...  \\\n",
       "created                                                                ...   \n",
       "2016-06-24 07:54:24  792 Metropolitan Avenue         medium         0  ...   \n",
       "2016-06-12 12:19:27      808 Columbus Avenue            low         1  ...   \n",
       "2016-04-17 03:26:41          241 W 13 Street           high         0  ...   \n",
       "2016-04-18 02:22:02     333 East 49th Street            low         0  ...   \n",
       "2016-04-28 01:32:41    500 West 143rd Street            low         0  ...   \n",
       "\n",
       "                     high_speed_internet  balcony  swimming_pool  \\\n",
       "created                                                            \n",
       "2016-06-24 07:54:24                    0        0              0   \n",
       "2016-06-12 12:19:27                    0        0              0   \n",
       "2016-04-17 03:26:41                    0        0              0   \n",
       "2016-04-18 02:22:02                    0        0              0   \n",
       "2016-04-28 01:32:41                    0        0              0   \n",
       "\n",
       "                     new_construction  exclusive  terrace  loft  garden_patio  \\\n",
       "created                                                                         \n",
       "2016-06-24 07:54:24                 0          0        0     0             0   \n",
       "2016-06-12 12:19:27                 0          0        0     0             0   \n",
       "2016-04-17 03:26:41                 0          0        0     0             0   \n",
       "2016-04-18 02:22:02                 0          0        0     0             0   \n",
       "2016-04-28 01:32:41                 0          0        0     0             0   \n",
       "\n",
       "                     common_outdoor_space  wheelchair_access  \n",
       "created                                                       \n",
       "2016-06-24 07:54:24                     0                  0  \n",
       "2016-06-12 12:19:27                     0                  0  \n",
       "2016-04-17 03:26:41                     0                  0  \n",
       "2016-04-18 02:22:02                     0                  0  \n",
       "2016-04-28 01:32:41                     0                  0  \n",
       "\n",
       "[5 rows x 33 columns]"
      ]
     },
     "execution_count": 4,
     "metadata": {},
     "output_type": "execute_result"
    }
   ],
   "source": [
    "#convert time string object to datetime object and set as index\n",
    "df['created'] = pd.to_datetime(df.created, infer_datetime_format= True)\n",
    "\n",
    "df = df.set_index('created')\n",
    "df.head()"
   ]
  },
  {
   "cell_type": "code",
   "execution_count": 5,
   "metadata": {
    "colab": {
     "base_uri": "https://localhost:8080/",
     "height": 0
    },
    "colab_type": "code",
    "id": "JIM4jRoqeOQM",
    "outputId": "c7285ad5-8fad-48a9-900c-c15f4f094ffe"
   },
   "outputs": [
    {
     "data": {
      "text/plain": [
       "((31515, 33), (16785, 33))"
      ]
     },
     "execution_count": 5,
     "metadata": {},
     "output_type": "execute_result"
    }
   ],
   "source": [
    "#Split Data Based on date\n",
    "train = df[df.index.month < 6]\n",
    "test = df[df.index.month == 6]\n",
    "\n",
    "train.shape, test.shape"
   ]
  },
  {
   "cell_type": "code",
   "execution_count": 6,
   "metadata": {
    "colab": {
     "base_uri": "https://localhost:8080/",
     "height": 0
    },
    "colab_type": "code",
    "id": "ppQs17_WfGcF",
    "outputId": "91eb46e0-c27d-4633-d93b-0dcaecab5326"
   },
   "outputs": [
    {
     "data": {
      "text/plain": [
       "((31515,), (16785,))"
      ]
     },
     "execution_count": 6,
     "metadata": {},
     "output_type": "execute_result"
    }
   ],
   "source": [
    "#extract target values from df\n",
    "y_train = train.pop('price')\n",
    "y_test = test.pop('price')\n",
    "\n",
    "y_train.shape, y_test.shape"
   ]
  },
  {
   "cell_type": "code",
   "execution_count": 7,
   "metadata": {
    "colab": {},
    "colab_type": "code",
    "id": "24buA6eDfuXw"
   },
   "outputs": [],
   "source": [
    "#get a baseline model\n",
    "baseline = np.full_like(y_test, y_train.mean())"
   ]
  },
  {
   "cell_type": "markdown",
   "metadata": {
    "colab_type": "text",
    "id": "W1dugf2KrpzX"
   },
   "source": [
    "##Baseline"
   ]
  },
  {
   "cell_type": "code",
   "execution_count": 8,
   "metadata": {
    "colab": {
     "base_uri": "https://localhost:8080/",
     "height": 34
    },
    "colab_type": "code",
    "id": "ALmcF_lpiqPq",
    "outputId": "12c3adc7-7164-41c7-eb82-b1de4dec7b3c"
   },
   "outputs": [
    {
     "data": {
      "text/plain": [
       "1052.5193327375632"
      ]
     },
     "execution_count": 8,
     "metadata": {},
     "output_type": "execute_result"
    }
   ],
   "source": [
    "#get metric to test baseline \n",
    "from sklearn.metrics import mean_absolute_error\n",
    "\n",
    "mean_absolute_error(y_test, baseline)"
   ]
  },
  {
   "cell_type": "markdown",
   "metadata": {
    "colab_type": "text",
    "id": "U7kwOOn_kqx2"
   },
   "source": [
    "##Upgrade Baseline Model\n"
   ]
  },
  {
   "cell_type": "code",
   "execution_count": 9,
   "metadata": {
    "colab": {},
    "colab_type": "code",
    "id": "SITg2i0Vk7WE"
   },
   "outputs": [],
   "source": [
    "#import and instantiate model\n",
    "from sklearn.linear_model import LinearRegression\n",
    "\n",
    "model = LinearRegression()"
   ]
  },
  {
   "cell_type": "code",
   "execution_count": 10,
   "metadata": {
    "colab": {},
    "colab_type": "code",
    "id": "c6XUNYd8lN9W"
   },
   "outputs": [],
   "source": [
    "#select features to model\n",
    "#here we will start with all numerical features and exclude any objects\n",
    "features = list(train.dtypes[train.dtypes != 'object'].index)\n",
    "\n",
    "X_train = train[features]\n",
    "X_test = test[features]"
   ]
  },
  {
   "cell_type": "code",
   "execution_count": 11,
   "metadata": {
    "colab": {},
    "colab_type": "code",
    "id": "EOlTPvQcl9fX"
   },
   "outputs": [],
   "source": [
    "#Train model and store result\n",
    "#Will be updating X_train and X_test so dont need to pass as new values \n",
    "def score(train,test):\n",
    "  model.fit(train, y_train)\n",
    "  y_pred = model.predict(test)\n",
    "\n",
    "  return mean_absolute_error(y_test, y_pred)\n",
    "  "
   ]
  },
  {
   "cell_type": "code",
   "execution_count": 12,
   "metadata": {
    "colab": {
     "base_uri": "https://localhost:8080/",
     "height": 0
    },
    "colab_type": "code",
    "id": "FH43LcOvpXPa",
    "outputId": "7a8dfb10-1651-4b84-bc6b-a380bdf8c6e1"
   },
   "outputs": [
    {
     "data": {
      "text/plain": [
       "618.6796864572018"
      ]
     },
     "execution_count": 12,
     "metadata": {},
     "output_type": "execute_result"
    }
   ],
   "source": [
    "score(X_train, X_test)"
   ]
  },
  {
   "cell_type": "markdown",
   "metadata": {
    "colab_type": "text",
    "id": "mStN6AmTrwX_"
   },
   "source": [
    "##Upgraded Baseline"
   ]
  },
  {
   "cell_type": "code",
   "execution_count": 13,
   "metadata": {
    "colab": {
     "base_uri": "https://localhost:8080/",
     "height": 34
    },
    "colab_type": "code",
    "id": "OF6QOVj5mNRX",
    "outputId": "e968a5e1-3493-49d8-b858-8aaddaf52237"
   },
   "outputs": [
    {
     "name": "stdout",
     "output_type": "stream",
     "text": [
      "618.6796864572018\n"
     ]
    }
   ],
   "source": [
    "better_baseline = score(X_train, X_test)\n",
    "print(better_baseline)"
   ]
  },
  {
   "cell_type": "markdown",
   "metadata": {
    "colab_type": "text",
    "id": "rMcbMIMVr0Jt"
   },
   "source": [
    "##Feature Selection\n",
    "  "
   ]
  },
  {
   "cell_type": "markdown",
   "metadata": {
    "colab_type": "text",
    "id": "KsOn2qPhZKSJ"
   },
   "source": [
    "###Numerical Features\n"
   ]
  },
  {
   "cell_type": "code",
   "execution_count": 14,
   "metadata": {
    "colab": {
     "base_uri": "https://localhost:8080/",
     "height": 0
    },
    "colab_type": "code",
    "id": "XlBPbojpr5ZE",
    "outputId": "5e75e267-cf47-4bf9-f41d-b2005a53f686"
   },
   "outputs": [
    {
     "name": "stdout",
     "output_type": "stream",
     "text": [
      "{'bathrooms': 826.8186291735684, 'bedrooms': 865.7153554398519, 'latitude': 1048.59143416186, 'longitude': 989.0487004130676, 'elevator': 1021.1914238867432, 'cats_allowed': 1049.6548133279234, 'hardwood_floors': 1050.4749022675514, 'dogs_allowed': 1049.2944534089013, 'doorman': 1002.9906206520152, 'dishwasher': 1026.0537865120186, 'no_fee': 1044.9120965283466, 'laundry_in_building': 1052.8562017778665, 'fitness_center': 1020.8674997057973, 'pre-war': 1052.1651020895429, 'laundry_in_unit': 1028.7246629448905, 'roof_deck': 1044.951424200772, 'outdoor_space': 1038.9376029999073, 'dining_room': 1029.926584738313, 'high_speed_internet': 1047.836861804129, 'balcony': 1040.7962982352733, 'swimming_pool': 1046.0479246061477, 'new_construction': 1052.4032354966687, 'exclusive': 1052.2622667593637, 'terrace': 1042.9198257172632, 'loft': 1051.8527496972874, 'garden_patio': 1046.3402013438135, 'common_outdoor_space': 1051.7843743981512, 'wheelchair_access': 1051.120211011886}\n"
     ]
    }
   ],
   "source": [
    "#Iterate over features to determine which have the highest impact\n",
    "\n",
    "impact = {}\n",
    "\n",
    "for feature in features:\n",
    "  model.fit(train[[feature]], y_train)\n",
    "  y_pred = model.predict(test[[feature]])\n",
    "  impact[feature] = mean_absolute_error(y_test, y_pred)\n",
    "                \n",
    "print(impact)"
   ]
  },
  {
   "cell_type": "code",
   "execution_count": 15,
   "metadata": {
    "colab": {
     "base_uri": "https://localhost:8080/",
     "height": 0
    },
    "colab_type": "code",
    "id": "KelNRLKTuYeP",
    "outputId": "b5deb079-3ccb-4f6b-eb69-d35e807616d0"
   },
   "outputs": [
    {
     "data": {
      "text/plain": [
       "bathrooms          826.818629\n",
       "bedrooms           865.715355\n",
       "longitude          989.048700\n",
       "doorman           1002.990621\n",
       "fitness_center    1020.867500\n",
       "dtype: float64"
      ]
     },
     "execution_count": 15,
     "metadata": {},
     "output_type": "execute_result"
    }
   ],
   "source": [
    "#structure as a series and sort. extracting top 5 values\n",
    "\n",
    "impact_table = pd.Series(impact)\n",
    "impact_table = impact_table.sort_values()\n",
    "\n",
    "impact_table.head()"
   ]
  },
  {
   "cell_type": "code",
   "execution_count": 16,
   "metadata": {
    "colab": {
     "base_uri": "https://localhost:8080/",
     "height": 0
    },
    "colab_type": "code",
    "id": "yIuWGRXbukAm",
    "outputId": "7c2c9567-53d1-4463-8612-efa77fb1576c"
   },
   "outputs": [
    {
     "name": "stdout",
     "output_type": "stream",
     "text": [
      "826.8186291735684\n",
      "754.5508722934986\n",
      "667.2933147298323\n",
      "635.1528773589963\n",
      "635.1229219475481\n",
      "634.375268871983\n",
      "634.0690256373646\n",
      "632.0777436135901\n",
      "632.0763605880953\n",
      "632.3628533828015\n",
      "632.0742813294667\n",
      "631.995876445916\n",
      "630.4861046080796\n",
      "627.4049730300028\n",
      "627.3955467189013\n",
      "627.4322194886231\n",
      "624.3047615385451\n",
      "625.1484309228865\n",
      "624.2135689536924\n",
      "624.2104961859068\n",
      "621.0487661651331\n",
      "621.0629038370313\n",
      "620.7512149718451\n",
      "620.7676930359595\n",
      "620.7931347697512\n",
      "620.8129165225009\n",
      "620.1255609377846\n",
      "{'bedrooms': 826.8186291735684, 'longitude': 72.26775688006978, 'doorman': 87.2575575636663, 'fitness_center': 32.140437370836025, 'laundry_in_unit': 1.0838517216317314, 'dining_room': 1.9912820237744882, 'roof_deck': 1.5916390055105012, 'swimming_pool': 3.0811315780767927, 'latitude': 3.100211491457685, 'wheelchair_access': 3.25599537341202}\n"
     ]
    }
   ],
   "source": [
    "#Get number of effective features that matches or beats better_baseline\n",
    "\n",
    "index = 0 \n",
    "extract = {}\n",
    "prev_mae = 0\n",
    "\n",
    "for index in range(1,len(impact_table)):\n",
    "  features = impact_table.index[0:index]\n",
    "  \n",
    "  if index == 0:\n",
    "      model.fit(train[[features]], y_train)\n",
    "      y_pred = model.predict(test[[features]])\n",
    "      mae = mean_absolute_error(y_test, y_pred)\n",
    "      print(mae)\n",
    "  else:\n",
    "      model.fit(train[features], y_train)\n",
    "      y_pred = model.predict(test[features])\n",
    "      mae = mean_absolute_error(y_test, y_pred)\n",
    "      print(mae)\n",
    "      \n",
    "  #Find features whose effect on score is greater than 1\n",
    "  effect = abs(mae - prev_mae)\n",
    "  if effect > 1:\n",
    "    extract[impact_table.index[index]] = effect          \n",
    "    prev_mae = mae\n",
    "    \n",
    "print(extract)"
   ]
  },
  {
   "cell_type": "markdown",
   "metadata": {
    "colab_type": "text",
    "id": "VsxTC7UEIVGs"
   },
   "source": [
    "Not better than our previous baseline. We ended up with an empty dict because no subset of features scored better than the entire set of numberical features. But from this we can conclude the top 4 features offered the most significant boost to the score, so we can use those. Lets see what they are."
   ]
  },
  {
   "cell_type": "code",
   "execution_count": 17,
   "metadata": {
    "colab": {
     "base_uri": "https://localhost:8080/",
     "height": 0
    },
    "colab_type": "code",
    "id": "9VQVBtc9IbuB",
    "outputId": "8a8c84d4-22ea-487c-ffe0-2a42ee9d10f7"
   },
   "outputs": [
    {
     "data": {
      "text/plain": [
       "bathrooms     826.818629\n",
       "bedrooms      865.715355\n",
       "longitude     989.048700\n",
       "doorman      1002.990621\n",
       "dtype: float64"
      ]
     },
     "execution_count": 17,
     "metadata": {},
     "output_type": "execute_result"
    }
   ],
   "source": [
    "impact_table.head(4)"
   ]
  },
  {
   "cell_type": "markdown",
   "metadata": {
    "colab_type": "text",
    "id": "DiZnU0KqN9Rj"
   },
   "source": [
    "These features make sense. The number of bed/baths significantly affects the value of a residence. There may even be a correalation there with respect to square footage, of which is a key indicator in pricing. Doorman is a luxary accomodation, so will aslo affect pricing. And longitude will determine which borrow the appartment is listed in. From east to west there is Staten Island, Manhattan, Brooklyn, The Bronx, and Queens. These boroughs appear to be more affected by this metric than latitude.  From the output above, we can already determine the score to be $635.15"
   ]
  },
  {
   "cell_type": "markdown",
   "metadata": {
    "colab_type": "text",
    "id": "h0qDiTCpZOaq"
   },
   "source": [
    "###Non-numericals"
   ]
  },
  {
   "cell_type": "code",
   "execution_count": 18,
   "metadata": {
    "colab": {
     "base_uri": "https://localhost:8080/",
     "height": 0
    },
    "colab_type": "code",
    "id": "DIDpscWXZXsT",
    "outputId": "786ff7aa-c7ee-457a-86c4-85dedd055699"
   },
   "outputs": [
    {
     "data": {
      "text/plain": [
       "['description', 'display_address', 'street_address', 'interest_level']"
      ]
     },
     "execution_count": 18,
     "metadata": {},
     "output_type": "execute_result"
    }
   ],
   "source": [
    "#extract and look at objects in df\n",
    "features = list(df.dtypes[df.dtypes == 'object'].index)\n",
    "features"
   ]
  },
  {
   "cell_type": "code",
   "execution_count": 19,
   "metadata": {
    "colab": {
     "base_uri": "https://localhost:8080/",
     "height": 0
    },
    "colab_type": "code",
    "id": "fU1PHJFGZksk",
    "outputId": "242c7451-af4f-4728-e278-fd85e8b1eecf"
   },
   "outputs": [
    {
     "data": {
      "text/html": [
       "<div>\n",
       "<style scoped>\n",
       "    .dataframe tbody tr th:only-of-type {\n",
       "        vertical-align: middle;\n",
       "    }\n",
       "\n",
       "    .dataframe tbody tr th {\n",
       "        vertical-align: top;\n",
       "    }\n",
       "\n",
       "    .dataframe thead th {\n",
       "        text-align: right;\n",
       "    }\n",
       "</style>\n",
       "<table border=\"1\" class=\"dataframe\">\n",
       "  <thead>\n",
       "    <tr style=\"text-align: right;\">\n",
       "      <th></th>\n",
       "      <th>description</th>\n",
       "      <th>display_address</th>\n",
       "      <th>street_address</th>\n",
       "      <th>interest_level</th>\n",
       "    </tr>\n",
       "    <tr>\n",
       "      <th>created</th>\n",
       "      <th></th>\n",
       "      <th></th>\n",
       "      <th></th>\n",
       "      <th></th>\n",
       "    </tr>\n",
       "  </thead>\n",
       "  <tbody>\n",
       "    <tr>\n",
       "      <th>2016-06-24 07:54:24</th>\n",
       "      <td>A Brand New 3 Bedroom 1.5 bath ApartmentEnjoy ...</td>\n",
       "      <td>Metropolitan Avenue</td>\n",
       "      <td>792 Metropolitan Avenue</td>\n",
       "      <td>medium</td>\n",
       "    </tr>\n",
       "    <tr>\n",
       "      <th>2016-06-12 12:19:27</th>\n",
       "      <td></td>\n",
       "      <td>Columbus Avenue</td>\n",
       "      <td>808 Columbus Avenue</td>\n",
       "      <td>low</td>\n",
       "    </tr>\n",
       "    <tr>\n",
       "      <th>2016-04-17 03:26:41</th>\n",
       "      <td>Top Top West Village location, beautiful Pre-w...</td>\n",
       "      <td>W 13 Street</td>\n",
       "      <td>241 W 13 Street</td>\n",
       "      <td>high</td>\n",
       "    </tr>\n",
       "    <tr>\n",
       "      <th>2016-04-18 02:22:02</th>\n",
       "      <td>Building Amenities - Garage - Garden - fitness...</td>\n",
       "      <td>East 49th Street</td>\n",
       "      <td>333 East 49th Street</td>\n",
       "      <td>low</td>\n",
       "    </tr>\n",
       "    <tr>\n",
       "      <th>2016-04-28 01:32:41</th>\n",
       "      <td>Beautifully renovated 3 bedroom flex 4 bedroom...</td>\n",
       "      <td>West 143rd Street</td>\n",
       "      <td>500 West 143rd Street</td>\n",
       "      <td>low</td>\n",
       "    </tr>\n",
       "  </tbody>\n",
       "</table>\n",
       "</div>"
      ],
      "text/plain": [
       "                                                           description  \\\n",
       "created                                                                  \n",
       "2016-06-24 07:54:24  A Brand New 3 Bedroom 1.5 bath ApartmentEnjoy ...   \n",
       "2016-06-12 12:19:27                                                      \n",
       "2016-04-17 03:26:41  Top Top West Village location, beautiful Pre-w...   \n",
       "2016-04-18 02:22:02  Building Amenities - Garage - Garden - fitness...   \n",
       "2016-04-28 01:32:41  Beautifully renovated 3 bedroom flex 4 bedroom...   \n",
       "\n",
       "                         display_address           street_address  \\\n",
       "created                                                             \n",
       "2016-06-24 07:54:24  Metropolitan Avenue  792 Metropolitan Avenue   \n",
       "2016-06-12 12:19:27      Columbus Avenue      808 Columbus Avenue   \n",
       "2016-04-17 03:26:41          W 13 Street          241 W 13 Street   \n",
       "2016-04-18 02:22:02     East 49th Street     333 East 49th Street   \n",
       "2016-04-28 01:32:41    West 143rd Street    500 West 143rd Street   \n",
       "\n",
       "                    interest_level  \n",
       "created                             \n",
       "2016-06-24 07:54:24         medium  \n",
       "2016-06-12 12:19:27            low  \n",
       "2016-04-17 03:26:41           high  \n",
       "2016-04-18 02:22:02            low  \n",
       "2016-04-28 01:32:41            low  "
      ]
     },
     "execution_count": 19,
     "metadata": {},
     "output_type": "execute_result"
    }
   ],
   "source": [
    "df[features].head()"
   ]
  },
  {
   "cell_type": "markdown",
   "metadata": {
    "colab_type": "text",
    "id": "JxF5LY-BaI1N"
   },
   "source": [
    "It looks like interest_level is the only feature worth using for a simple boost to our model."
   ]
  },
  {
   "cell_type": "code",
   "execution_count": 20,
   "metadata": {
    "colab": {},
    "colab_type": "code",
    "id": "-KgLQ-rfaQLF"
   },
   "outputs": [],
   "source": [
    "#Encode interest_level to model\n",
    "interest_train = pd.get_dummies(train.interest_level)\n",
    "interest_test = pd.get_dummies(test.interest_level)"
   ]
  },
  {
   "cell_type": "code",
   "execution_count": 21,
   "metadata": {
    "colab": {
     "base_uri": "https://localhost:8080/",
     "height": 0
    },
    "colab_type": "code",
    "id": "64dsOv6bamcP",
    "outputId": "a186eb74-3512-400e-8aae-fb8a70e77410"
   },
   "outputs": [
    {
     "data": {
      "text/plain": [
       "1028.1232555108727"
      ]
     },
     "execution_count": 21,
     "metadata": {},
     "output_type": "execute_result"
    }
   ],
   "source": [
    "score(interest_train, interest_test)"
   ]
  },
  {
   "cell_type": "markdown",
   "metadata": {
    "colab_type": "text",
    "id": "EkbyY0ucbrkC"
   },
   "source": [
    "Not a huge boost. Lets see what it looks like when we add it to our 4 numerical features"
   ]
  },
  {
   "cell_type": "markdown",
   "metadata": {
    "colab_type": "text",
    "id": "925SAzgtb9nV"
   },
   "source": [
    "###Combinations"
   ]
  },
  {
   "cell_type": "code",
   "execution_count": 22,
   "metadata": {
    "colab": {},
    "colab_type": "code",
    "id": "bKxSGGqbcAd4"
   },
   "outputs": [],
   "source": [
    "#Merge encoded interest_level data with top 4 numerical features\n",
    "top_4 = impact_table.index[0:5]\n",
    "\n",
    "X_train = pd.concat([train[top_4], interest_train], axis = 1)\n",
    "X_test = pd.concat([test[top_4], interest_test], axis = 1)"
   ]
  },
  {
   "cell_type": "code",
   "execution_count": 23,
   "metadata": {
    "colab": {
     "base_uri": "https://localhost:8080/",
     "height": 0
    },
    "colab_type": "code",
    "id": "ciYpa4XDdDPv",
    "outputId": "f793901a-6437-49ed-bca5-b3cc45505230"
   },
   "outputs": [
    {
     "data": {
      "text/html": [
       "<div>\n",
       "<style scoped>\n",
       "    .dataframe tbody tr th:only-of-type {\n",
       "        vertical-align: middle;\n",
       "    }\n",
       "\n",
       "    .dataframe tbody tr th {\n",
       "        vertical-align: top;\n",
       "    }\n",
       "\n",
       "    .dataframe thead th {\n",
       "        text-align: right;\n",
       "    }\n",
       "</style>\n",
       "<table border=\"1\" class=\"dataframe\">\n",
       "  <thead>\n",
       "    <tr style=\"text-align: right;\">\n",
       "      <th></th>\n",
       "      <th>bathrooms</th>\n",
       "      <th>bedrooms</th>\n",
       "      <th>longitude</th>\n",
       "      <th>doorman</th>\n",
       "      <th>fitness_center</th>\n",
       "      <th>high</th>\n",
       "      <th>low</th>\n",
       "      <th>medium</th>\n",
       "    </tr>\n",
       "    <tr>\n",
       "      <th>created</th>\n",
       "      <th></th>\n",
       "      <th></th>\n",
       "      <th></th>\n",
       "      <th></th>\n",
       "      <th></th>\n",
       "      <th></th>\n",
       "      <th></th>\n",
       "      <th></th>\n",
       "    </tr>\n",
       "  </thead>\n",
       "  <tbody>\n",
       "    <tr>\n",
       "      <th>2016-04-17 03:26:41</th>\n",
       "      <td>1.0</td>\n",
       "      <td>1</td>\n",
       "      <td>-74.0018</td>\n",
       "      <td>0</td>\n",
       "      <td>0</td>\n",
       "      <td>1</td>\n",
       "      <td>0</td>\n",
       "      <td>0</td>\n",
       "    </tr>\n",
       "    <tr>\n",
       "      <th>2016-04-18 02:22:02</th>\n",
       "      <td>1.0</td>\n",
       "      <td>1</td>\n",
       "      <td>-73.9677</td>\n",
       "      <td>0</td>\n",
       "      <td>0</td>\n",
       "      <td>0</td>\n",
       "      <td>1</td>\n",
       "      <td>0</td>\n",
       "    </tr>\n",
       "    <tr>\n",
       "      <th>2016-04-28 01:32:41</th>\n",
       "      <td>1.0</td>\n",
       "      <td>4</td>\n",
       "      <td>-73.9493</td>\n",
       "      <td>0</td>\n",
       "      <td>0</td>\n",
       "      <td>0</td>\n",
       "      <td>1</td>\n",
       "      <td>0</td>\n",
       "    </tr>\n",
       "    <tr>\n",
       "      <th>2016-04-19 04:24:47</th>\n",
       "      <td>2.0</td>\n",
       "      <td>4</td>\n",
       "      <td>-74.0028</td>\n",
       "      <td>0</td>\n",
       "      <td>0</td>\n",
       "      <td>0</td>\n",
       "      <td>0</td>\n",
       "      <td>1</td>\n",
       "    </tr>\n",
       "    <tr>\n",
       "      <th>2016-04-27 03:19:56</th>\n",
       "      <td>1.0</td>\n",
       "      <td>2</td>\n",
       "      <td>-73.9660</td>\n",
       "      <td>0</td>\n",
       "      <td>0</td>\n",
       "      <td>0</td>\n",
       "      <td>1</td>\n",
       "      <td>0</td>\n",
       "    </tr>\n",
       "  </tbody>\n",
       "</table>\n",
       "</div>"
      ],
      "text/plain": [
       "                     bathrooms  bedrooms  longitude  doorman  fitness_center  \\\n",
       "created                                                                        \n",
       "2016-04-17 03:26:41        1.0         1   -74.0018        0               0   \n",
       "2016-04-18 02:22:02        1.0         1   -73.9677        0               0   \n",
       "2016-04-28 01:32:41        1.0         4   -73.9493        0               0   \n",
       "2016-04-19 04:24:47        2.0         4   -74.0028        0               0   \n",
       "2016-04-27 03:19:56        1.0         2   -73.9660        0               0   \n",
       "\n",
       "                     high  low  medium  \n",
       "created                                 \n",
       "2016-04-17 03:26:41     1    0       0  \n",
       "2016-04-18 02:22:02     0    1       0  \n",
       "2016-04-28 01:32:41     0    1       0  \n",
       "2016-04-19 04:24:47     0    0       1  \n",
       "2016-04-27 03:19:56     0    1       0  "
      ]
     },
     "execution_count": 23,
     "metadata": {},
     "output_type": "execute_result"
    }
   ],
   "source": [
    "X_train.head()"
   ]
  },
  {
   "cell_type": "code",
   "execution_count": 24,
   "metadata": {
    "colab": {},
    "colab_type": "code",
    "id": "6TlpD5HvdGIl"
   },
   "outputs": [],
   "source": [
    "new_best = score(X_train,X_test)"
   ]
  },
  {
   "cell_type": "markdown",
   "metadata": {
    "colab_type": "text",
    "id": "g-j3C6a_d7aP"
   },
   "source": [
    "That is a pretty significant boost! With just 5(technically 7) features, we were able to bring the MAE down to 606.17. I assume that if we used all the numerical features AND the encoded interest level, we would see another drop of about 10."
   ]
  },
  {
   "cell_type": "markdown",
   "metadata": {
    "colab_type": "text",
    "id": "WrA87HeNsZNC"
   },
   "source": [
    "## Updated Score"
   ]
  },
  {
   "cell_type": "code",
   "execution_count": 25,
   "metadata": {
    "colab": {
     "base_uri": "https://localhost:8080/",
     "height": 34
    },
    "colab_type": "code",
    "id": "cNSM3OgUenjO",
    "outputId": "7fd460d7-531e-4961-cbc7-9453ec7406bd"
   },
   "outputs": [
    {
     "name": "stdout",
     "output_type": "stream",
     "text": [
      "606.1728028244722\n"
     ]
    }
   ],
   "source": [
    "print(new_best)"
   ]
  },
  {
   "cell_type": "markdown",
   "metadata": {
    "colab_type": "text",
    "id": "-oDt07ySs_l7"
   },
   "source": [
    "##All Features"
   ]
  },
  {
   "cell_type": "code",
   "execution_count": 26,
   "metadata": {
    "colab": {
     "base_uri": "https://localhost:8080/",
     "height": 34
    },
    "colab_type": "code",
    "id": "orULz5bytIvW",
    "outputId": "9f84be57-103d-46e7-ca4d-ee48d01f7c95"
   },
   "outputs": [
    {
     "data": {
      "text/plain": [
       "592.2708705689604"
      ]
     },
     "execution_count": 26,
     "metadata": {},
     "output_type": "execute_result"
    }
   ],
   "source": [
    "#Merge all features together and test\n",
    "\n",
    "features = list(df.dtypes[df.dtypes != 'object'].index)\n",
    "features.remove('price')\n",
    "\n",
    "X_train = pd.concat([train[features], interest_train], axis = 1)\n",
    "X_test = pd.concat([test[features], interest_test], axis =1)\n",
    "\n",
    "score(X_train, X_test)"
   ]
  },
  {
   "cell_type": "markdown",
   "metadata": {
    "colab_type": "text",
    "id": "C6jqkD9Du3xz"
   },
   "source": [
    "With all the numerical features, and the dummy features from interest_level, we are able to bring the score down to 592. Our best yet!"
   ]
  },
  {
   "cell_type": "markdown",
   "metadata": {
    "colab_type": "text",
    "id": "cK33ut_uvPRP"
   },
   "source": [
    "##Feature Trimming\n"
   ]
  },
  {
   "cell_type": "markdown",
   "metadata": {
    "colab_type": "text",
    "id": "ezRECBOFylQa"
   },
   "source": [
    "We can start by looking at our extract disctionary from previous sections to get an idea of where to start"
   ]
  },
  {
   "cell_type": "code",
   "execution_count": 27,
   "metadata": {
    "colab": {
     "base_uri": "https://localhost:8080/",
     "height": 0
    },
    "colab_type": "code",
    "id": "iIiW1kqgyy5g",
    "outputId": "04cfae32-70b7-4e9c-b24a-a2a165f99113"
   },
   "outputs": [
    {
     "name": "stdout",
     "output_type": "stream",
     "text": [
      "bedrooms             826.818629\n",
      "doorman               87.257558\n",
      "longitude             72.267757\n",
      "fitness_center        32.140437\n",
      "wheelchair_access      3.255995\n",
      "latitude               3.100211\n",
      "swimming_pool          3.081132\n",
      "dining_room            1.991282\n",
      "roof_deck              1.591639\n",
      "laundry_in_unit        1.083852\n",
      "dtype: float64\n"
     ]
    }
   ],
   "source": [
    "extract = pd.Series(extract).transpose().sort_values(ascending = False)\n",
    "print(extract)"
   ]
  },
  {
   "cell_type": "code",
   "execution_count": 28,
   "metadata": {
    "colab": {
     "base_uri": "https://localhost:8080/",
     "height": 0
    },
    "colab_type": "code",
    "id": "giFXQ5pEy-Ak",
    "outputId": "e1f2b166-f6e6-4f18-8f04-c2ce194823f9"
   },
   "outputs": [
    {
     "data": {
      "text/plain": [
       "681.1410401417268"
      ]
     },
     "execution_count": 28,
     "metadata": {},
     "output_type": "execute_result"
    }
   ],
   "source": [
    "#Switched to little x here because the score is low\n",
    "features = extract.index.to_list()\n",
    "\n",
    "x_train = pd.concat([train[features], interest_train], axis = 1)\n",
    "x_test = pd.concat([test[features], interest_test], axis =1)\n",
    "\n",
    "score(x_train, x_test)"
   ]
  },
  {
   "cell_type": "markdown",
   "metadata": {
    "colab_type": "text",
    "id": "khyFK15kz4Bn"
   },
   "source": [
    "It looks like when we try to extract what appear to be primary features, effect isnt as impactful as one would expect. "
   ]
  },
  {
   "cell_type": "markdown",
   "metadata": {
    "colab_type": "text",
    "id": "eWjEaryB0LGx"
   },
   "source": [
    "##Feature Engineering"
   ]
  },
  {
   "cell_type": "markdown",
   "metadata": {
    "colab_type": "text",
    "id": "1r8PQElnCr5b"
   },
   "source": [
    "###Description Counts\n"
   ]
  },
  {
   "cell_type": "code",
   "execution_count": 29,
   "metadata": {
    "colab": {
     "base_uri": "https://localhost:8080/",
     "height": 136
    },
    "colab_type": "code",
    "id": "3bVQVJcU0Nhg",
    "outputId": "c77b78a7-ce4e-438a-deb9-5de5792894bd"
   },
   "outputs": [
    {
     "data": {
      "text/plain": [
       "created\n",
       "2016-06-27 03:29:28            Currently offering one month free + yo...\n",
       "2016-06-10 02:29:43    This is is a total steal of a studio in the he...\n",
       "2016-04-30 03:09:31    Massive 1BD 1.5 bath DUPLEX!~Doorman~Elevator~...\n",
       "2016-06-10 01:07:57    Beautifully Renovated 2 Bedroom, 1 Bath Reside...\n",
       "2016-04-06 06:19:13    Steps from cobblestone street boutiques, cafes...\n",
       "Name: description, dtype: object"
      ]
     },
     "execution_count": 29,
     "metadata": {},
     "output_type": "execute_result"
    }
   ],
   "source": [
    "#Lets look at description to engineer some features\n",
    "df.description.sample(5)"
   ]
  },
  {
   "cell_type": "code",
   "execution_count": 30,
   "metadata": {
    "colab": {
     "base_uri": "https://localhost:8080/",
     "height": 34
    },
    "colab_type": "code",
    "id": "wvWV_ElwAU0s",
    "outputId": "833f9dc3-654d-40dd-9393-dd3268d27402"
   },
   "outputs": [
    {
     "data": {
      "text/plain": [
       "1421"
      ]
     },
     "execution_count": 30,
     "metadata": {},
     "output_type": "execute_result"
    }
   ],
   "source": [
    "df.description.isna().sum()"
   ]
  },
  {
   "cell_type": "code",
   "execution_count": 31,
   "metadata": {
    "colab": {},
    "colab_type": "code",
    "id": "NgzOpjJoAU88"
   },
   "outputs": [],
   "source": [
    "df.description.fillna(value = ' ', inplace = True)"
   ]
  },
  {
   "cell_type": "code",
   "execution_count": 32,
   "metadata": {
    "colab": {
     "base_uri": "https://localhost:8080/",
     "height": 170
    },
    "colab_type": "code",
    "id": "-86qKHFN0Xd3",
    "outputId": "3c697bf8-da4f-4c51-d285-87882fca561d"
   },
   "outputs": [
    {
     "data": {
      "text/plain": [
       "count    48300.000000\n",
       "mean       469.296190\n",
       "std        310.682372\n",
       "min          0.000000\n",
       "25%        263.000000\n",
       "50%        437.000000\n",
       "75%        631.000000\n",
       "max       3651.000000\n",
       "Name: description_count, dtype: float64"
      ]
     },
     "execution_count": 32,
     "metadata": {},
     "output_type": "execute_result"
    }
   ],
   "source": [
    "#Lets see how many words are in each description\n",
    "df['description_count'] = df.description.str.count('\\w')\n",
    "\n",
    "df.description_count.describe()"
   ]
  },
  {
   "cell_type": "code",
   "execution_count": 33,
   "metadata": {
    "colab": {},
    "colab_type": "code",
    "id": "DdmHt9Uz0uIc"
   },
   "outputs": [],
   "source": [
    "#What does this do for our model?\n",
    "\n",
    "train = df[df.index.month < 6]\n",
    "test = df[df.index.month == 6]\n",
    "\n",
    "y_train = train.pop('price')\n",
    "y_test = test.pop('price')"
   ]
  },
  {
   "cell_type": "code",
   "execution_count": 34,
   "metadata": {
    "colab": {
     "base_uri": "https://localhost:8080/",
     "height": 34
    },
    "colab_type": "code",
    "id": "_Tv3Q35x7EWN",
    "outputId": "2fadcd2e-649d-4070-8a3c-82d6b43cfda4"
   },
   "outputs": [
    {
     "name": "stdout",
     "output_type": "stream",
     "text": [
      "1037.2012769558742\n"
     ]
    }
   ],
   "source": [
    "feature = 'description_count'\n",
    "\n",
    "model.fit(train[[feature]], y_train)\n",
    "y_pred = model.predict(test[[feature]])\n",
    "\n",
    "print(mean_absolute_error(y_test,y_pred))"
   ]
  },
  {
   "cell_type": "markdown",
   "metadata": {
    "colab_type": "text",
    "id": "IdNWNQsLBDya"
   },
   "source": [
    "Doesnt look all that great. Lets combine with some of our other features to see how it stands. "
   ]
  },
  {
   "cell_type": "code",
   "execution_count": 35,
   "metadata": {
    "colab": {
     "base_uri": "https://localhost:8080/",
     "height": 34
    },
    "colab_type": "code",
    "id": "5Dj55-E5BKb9",
    "outputId": "f8091723-1927-4e65-8d78-517802acb2ec"
   },
   "outputs": [
    {
     "data": {
      "text/plain": [
       "592.2754297365761"
      ]
     },
     "execution_count": 35,
     "metadata": {},
     "output_type": "execute_result"
    }
   ],
   "source": [
    "X_train = pd.concat([X_train, train.description_count], axis = 1)\n",
    "X_test = pd.concat([X_test, test.description_count], axis = 1)\n",
    "\n",
    "score(X_train, X_test)"
   ]
  },
  {
   "cell_type": "markdown",
   "metadata": {
    "colab_type": "text",
    "id": "jdoxq5YkCnIv"
   },
   "source": [
    "Looks like that was no help at all! Means that its not HOW much was said, but WHAT!"
   ]
  },
  {
   "cell_type": "markdown",
   "metadata": {
    "colab_type": "text",
    "id": "_2QFQ_muCwo0"
   },
   "source": [
    "###NLP"
   ]
  },
  {
   "cell_type": "markdown",
   "metadata": {
    "colab_type": "text",
    "id": "rIN0aLMiHxoH"
   },
   "source": [
    "Vectorize tokens of the description data\n"
   ]
  },
  {
   "cell_type": "code",
   "execution_count": 36,
   "metadata": {
    "colab": {
     "base_uri": "https://localhost:8080/",
     "height": 119
    },
    "colab_type": "code",
    "id": "HIl1p5xJHvl2",
    "outputId": "93e6f477-5ad8-4e43-ded0-f3ef56031f5d"
   },
   "outputs": [
    {
     "name": "stderr",
     "output_type": "stream",
     "text": [
      "[nltk_data] Downloading package punkt to /home/unburied/nltk_data...\n",
      "[nltk_data]   Package punkt is already up-to-date!\n",
      "[nltk_data] Downloading package stopwords to\n",
      "[nltk_data]     /home/unburied/nltk_data...\n",
      "[nltk_data]   Package stopwords is already up-to-date!\n",
      "[nltk_data] Downloading package wordnet to /home/unburied/nltk_data...\n",
      "[nltk_data]   Package wordnet is already up-to-date!\n"
     ]
    }
   ],
   "source": [
    "import nltk\n",
    "nltk.download('punkt')\n",
    "nltk.download('stopwords')\n",
    "from nltk.corpus import stopwords\n",
    "nltk.download('wordnet')\n",
    "from nltk.stem import WordNetLemmatizer"
   ]
  },
  {
   "cell_type": "code",
   "execution_count": 37,
   "metadata": {},
   "outputs": [],
   "source": [
    "stop_words = stopwords.words('english')"
   ]
  },
  {
   "cell_type": "code",
   "execution_count": 38,
   "metadata": {},
   "outputs": [],
   "source": [
    "# Function to preprocess raw text from description\n",
    "def lemmatize(text):\n",
    "    text = text.split()\n",
    "    text = [word for word in text if word not in stop_words]\n",
    "    \n",
    "    lemmatizer = WordNetLemmatizer()\n",
    "    lem_words = [lemmatizer.lemmatize(word) for word in text]\n",
    "    \n",
    "    text = \" \".join(lem_words)\n",
    "    \n",
    "    return text\n",
    "\n",
    "df.description.astype('str',inplace = True)\n",
    "\n",
    "# Remove extra white space\n",
    "df['clean_desc'] = df['description'].astype(str).str.split()\n",
    "\n",
    "# Remove punctuation and numbers\n",
    "df['clean_desc'] = df['clean_desc'].astype(str).str.replace('[^\\w\\s]', ' ').str.replace('\\d+', '')\n",
    "\n",
    "# Convert to lower case\n",
    "df['clean_desc'] = df['clean_desc'].str.lower()\n",
    "\n",
    "# Lemmatize\n",
    "df['clean_desc'] = df['clean_desc'].map(lambda x: lemmatize(x))"
   ]
  },
  {
   "cell_type": "code",
   "execution_count": 39,
   "metadata": {},
   "outputs": [
    {
     "data": {
      "text/plain": [
       "created\n",
       "2016-06-24 07:54:24    brand new bedroom bath apartmentenjoy followin...\n",
       "2016-06-12 12:19:27                                                     \n",
       "2016-04-17 03:26:41    top top west village location beautiful pre wa...\n",
       "2016-04-18 02:22:02    building amenity garage garden fitness room la...\n",
       "2016-04-28 01:32:41    beautifully renovated bedroom flex bedroom apa...\n",
       "Name: clean_desc, dtype: object"
      ]
     },
     "execution_count": 39,
     "metadata": {},
     "output_type": "execute_result"
    }
   ],
   "source": [
    "df.clean_desc.head()"
   ]
  },
  {
   "cell_type": "code",
   "execution_count": 40,
   "metadata": {},
   "outputs": [
    {
     "data": {
      "text/plain": [
       "4161534"
      ]
     },
     "execution_count": 40,
     "metadata": {},
     "output_type": "execute_result"
    }
   ],
   "source": [
    "#Check to see how much of an effect preproccessing had\n",
    "df.description_count.sum() - df.clean_desc.str.count('\\w').sum()"
   ]
  },
  {
   "cell_type": "code",
   "execution_count": 70,
   "metadata": {},
   "outputs": [],
   "source": [
    "unique = {}\n",
    "def get_count(text):\n",
    "    text = text.split()\n",
    "    \n",
    "    for word in text:\n",
    "        if word in unique.keys():\n",
    "            unique[word] += 1\n",
    "        else:\n",
    "            unique[word] = 1\n",
    "\n",
    "    return unique\n",
    "        "
   ]
  },
  {
   "cell_type": "code",
   "execution_count": 71,
   "metadata": {},
   "outputs": [
    {
     "data": {
      "text/plain": [
       "created\n",
       "2016-06-24 07:54:24    {'brand': 6033, 'new': 27302, 'bedroom': 35088...\n",
       "2016-06-12 12:19:27    {'brand': 6033, 'new': 27302, 'bedroom': 35088...\n",
       "2016-04-17 03:26:41    {'brand': 6033, 'new': 27302, 'bedroom': 35088...\n",
       "2016-04-18 02:22:02    {'brand': 6033, 'new': 27302, 'bedroom': 35088...\n",
       "2016-04-28 01:32:41    {'brand': 6033, 'new': 27302, 'bedroom': 35088...\n",
       "2016-04-19 04:24:47    {'brand': 6033, 'new': 27302, 'bedroom': 35088...\n",
       "2016-04-27 03:19:56    {'brand': 6033, 'new': 27302, 'bedroom': 35088...\n",
       "2016-04-13 06:01:42    {'brand': 6033, 'new': 27302, 'bedroom': 35088...\n",
       "2016-04-20 02:36:35    {'brand': 6033, 'new': 27302, 'bedroom': 35088...\n",
       "2016-04-02 02:58:15    {'brand': 6033, 'new': 27302, 'bedroom': 35088...\n",
       "2016-04-14 01:10:30    {'brand': 6033, 'new': 27302, 'bedroom': 35088...\n",
       "2016-06-03 03:21:22    {'brand': 6033, 'new': 27302, 'bedroom': 35088...\n",
       "2016-04-19 05:37:25    {'brand': 6033, 'new': 27302, 'bedroom': 35088...\n",
       "2016-04-09 01:22:11    {'brand': 6033, 'new': 27302, 'bedroom': 35088...\n",
       "2016-06-01 03:11:01    {'brand': 6033, 'new': 27302, 'bedroom': 35088...\n",
       "2016-04-18 02:36:00    {'brand': 6033, 'new': 27302, 'bedroom': 35088...\n",
       "2016-04-22 05:57:16    {'brand': 6033, 'new': 27302, 'bedroom': 35088...\n",
       "2016-04-19 03:36:28    {'brand': 6033, 'new': 27302, 'bedroom': 35088...\n",
       "2016-04-20 04:00:32    {'brand': 6033, 'new': 27302, 'bedroom': 35088...\n",
       "2016-04-09 03:49:42    {'brand': 6033, 'new': 27302, 'bedroom': 35088...\n",
       "2016-04-12 02:39:45    {'brand': 6033, 'new': 27302, 'bedroom': 35088...\n",
       "2016-04-07 02:11:45    {'brand': 6033, 'new': 27302, 'bedroom': 35088...\n",
       "2016-04-13 05:17:43    {'brand': 6033, 'new': 27302, 'bedroom': 35088...\n",
       "2016-04-17 02:26:52    {'brand': 6033, 'new': 27302, 'bedroom': 35088...\n",
       "2016-06-07 04:39:56    {'brand': 6033, 'new': 27302, 'bedroom': 35088...\n",
       "2016-04-27 06:43:40    {'brand': 6033, 'new': 27302, 'bedroom': 35088...\n",
       "2016-04-25 02:29:50    {'brand': 6033, 'new': 27302, 'bedroom': 35088...\n",
       "2016-04-22 05:39:10    {'brand': 6033, 'new': 27302, 'bedroom': 35088...\n",
       "2016-04-21 05:27:10    {'brand': 6033, 'new': 27302, 'bedroom': 35088...\n",
       "2016-04-26 02:59:37    {'brand': 6033, 'new': 27302, 'bedroom': 35088...\n",
       "                                             ...                        \n",
       "2016-06-02 13:24:18    {'brand': 6033, 'new': 27302, 'bedroom': 35088...\n",
       "2016-04-25 01:13:37    {'brand': 6033, 'new': 27302, 'bedroom': 35088...\n",
       "2016-04-26 04:43:14    {'brand': 6033, 'new': 27302, 'bedroom': 35088...\n",
       "2016-04-08 05:51:57    {'brand': 6033, 'new': 27302, 'bedroom': 35088...\n",
       "2016-04-29 15:03:29    {'brand': 6033, 'new': 27302, 'bedroom': 35088...\n",
       "2016-04-24 03:15:18    {'brand': 6033, 'new': 27302, 'bedroom': 35088...\n",
       "2016-04-25 01:20:23    {'brand': 6033, 'new': 27302, 'bedroom': 35088...\n",
       "2016-04-03 03:51:21    {'brand': 6033, 'new': 27302, 'bedroom': 35088...\n",
       "2016-04-19 02:58:55    {'brand': 6033, 'new': 27302, 'bedroom': 35088...\n",
       "2016-04-14 05:39:33    {'brand': 6033, 'new': 27302, 'bedroom': 35088...\n",
       "2016-06-06 01:22:44    {'brand': 6033, 'new': 27302, 'bedroom': 35088...\n",
       "2016-04-26 02:18:16    {'brand': 6033, 'new': 27302, 'bedroom': 35088...\n",
       "2016-04-16 16:39:50    {'brand': 6033, 'new': 27302, 'bedroom': 35088...\n",
       "2016-04-05 04:35:32    {'brand': 6033, 'new': 27302, 'bedroom': 35088...\n",
       "2016-04-22 03:11:44    {'brand': 6033, 'new': 27302, 'bedroom': 35088...\n",
       "2016-04-29 05:20:49    {'brand': 6033, 'new': 27302, 'bedroom': 35088...\n",
       "2016-04-03 05:23:23    {'brand': 6033, 'new': 27302, 'bedroom': 35088...\n",
       "2016-04-15 05:36:39    {'brand': 6033, 'new': 27302, 'bedroom': 35088...\n",
       "2016-04-14 03:32:24    {'brand': 6033, 'new': 27302, 'bedroom': 35088...\n",
       "2016-04-27 12:52:12    {'brand': 6033, 'new': 27302, 'bedroom': 35088...\n",
       "2016-04-07 02:29:00    {'brand': 6033, 'new': 27302, 'bedroom': 35088...\n",
       "2016-04-02 03:17:03    {'brand': 6033, 'new': 27302, 'bedroom': 35088...\n",
       "2016-04-14 03:39:42    {'brand': 6033, 'new': 27302, 'bedroom': 35088...\n",
       "2016-04-11 03:29:05    {'brand': 6033, 'new': 27302, 'bedroom': 35088...\n",
       "2016-04-22 15:44:11    {'brand': 6033, 'new': 27302, 'bedroom': 35088...\n",
       "2016-06-02 05:41:05    {'brand': 6033, 'new': 27302, 'bedroom': 35088...\n",
       "2016-04-04 18:22:34    {'brand': 6033, 'new': 27302, 'bedroom': 35088...\n",
       "2016-04-16 02:13:40    {'brand': 6033, 'new': 27302, 'bedroom': 35088...\n",
       "2016-04-08 02:13:33    {'brand': 6033, 'new': 27302, 'bedroom': 35088...\n",
       "2016-04-12 02:48:07    {'brand': 6033, 'new': 27302, 'bedroom': 35088...\n",
       "Name: clean_desc, Length: 48300, dtype: object"
      ]
     },
     "execution_count": 71,
     "metadata": {},
     "output_type": "execute_result"
    }
   ],
   "source": [
    "df.clean_desc.astype(str).apply(lambda x: get_count(x))"
   ]
  },
  {
   "cell_type": "code",
   "execution_count": 72,
   "metadata": {},
   "outputs": [
    {
     "data": {
      "text/plain": [
       "28712"
      ]
     },
     "execution_count": 72,
     "metadata": {},
     "output_type": "execute_result"
    }
   ],
   "source": [
    "len(unique)"
   ]
  },
  {
   "cell_type": "code",
   "execution_count": 74,
   "metadata": {},
   "outputs": [],
   "source": [
    "word_count = pd.Series(unique).transpose().sort_values(ascending = False)"
   ]
  },
  {
   "cell_type": "code",
   "execution_count": 75,
   "metadata": {},
   "outputs": [
    {
     "data": {
      "text/plain": [
       "br                  195228\n",
       "apartment            47358\n",
       "building             36394\n",
       "bedroom              35088\n",
       "website_redacted     34460\n",
       "p                    32520\n",
       "kitchen              32432\n",
       "floor                30983\n",
       "new                  27302\n",
       "room                 24884\n",
       "dtype: int64"
      ]
     },
     "execution_count": 75,
     "metadata": {},
     "output_type": "execute_result"
    }
   ],
   "source": [
    "word_count[:10]"
   ]
  },
  {
   "cell_type": "code",
   "execution_count": 81,
   "metadata": {},
   "outputs": [],
   "source": [
    "%matplotlib inline\n",
    "import matplotlib.pyplot as plt"
   ]
  },
  {
   "cell_type": "code",
   "execution_count": 93,
   "metadata": {},
   "outputs": [
    {
     "data": {
      "image/png": "[encoded data removed]",
      "text/plain": [
       "<Figure size 1152x432 with 1 Axes>"
      ]
     },
     "metadata": {
      "needs_background": "light"
     },
     "output_type": "display_data"
    }
   ],
   "source": [
    "plt.figure(figsize=(16,6))\n",
    "word_count[:50].plot.bar()\n",
    "\n",
    "plt.title(\"Top 50 Most Frequent Words in Rental Descriptions\")\n",
    "plt.ylabel(\"Frequency\")\n",
    "plt.show()\n"
   ]
  },
  {
   "cell_type": "code",
   "execution_count": 41,
   "metadata": {},
   "outputs": [],
   "source": [
    "from sklearn.feature_extraction.text import TfidfVectorizer\n",
    "\n",
    "# Initialize TF-IDF\n",
    "vectorizer = TfidfVectorizer()\n",
    "\n",
    "# Fit to sentences_no_punc and transform into array\n",
    "X = vectorizer.fit_transform(df.clean_desc)"
   ]
  },
  {
   "cell_type": "code",
   "execution_count": 87,
   "metadata": {},
   "outputs": [
    {
     "data": {
      "text/plain": [
       "((31515, 33), (16785, 33))"
      ]
     },
     "execution_count": 87,
     "metadata": {},
     "output_type": "execute_result"
    }
   ],
   "source": [
    "train.shape,test.shape"
   ]
  },
  {
   "cell_type": "code",
   "execution_count": 88,
   "metadata": {},
   "outputs": [],
   "source": [
    "X = X.tocsr()\n",
    "\n",
    "w_train = X[:31515]\n",
    "w_test = X[31515:]"
   ]
  },
  {
   "cell_type": "code",
   "execution_count": 89,
   "metadata": {},
   "outputs": [
    {
     "data": {
      "text/plain": [
       "1668.8355702824456"
      ]
     },
     "execution_count": 89,
     "metadata": {},
     "output_type": "execute_result"
    }
   ],
   "source": [
    "score(w_train,w_test)"
   ]
  },
  {
   "cell_type": "code",
   "execution_count": 100,
   "metadata": {},
   "outputs": [
    {
     "data": {
      "text/plain": [
       "month          4463\n",
       "also           4442\n",
       "e              4408\n",
       "ul             4368\n",
       "midtown        4317\n",
       "art            4288\n",
       "target         4248\n",
       "market         4160\n",
       "village        4149\n",
       "href           4146\n",
       "separate       4144\n",
       "square         4142\n",
       "near           4136\n",
       "finish         4117\n",
       "outdoor        4106\n",
       "wall           4093\n",
       "flooring       4064\n",
       "garage         4056\n",
       "plenty         4051\n",
       "countertop     4021\n",
       "state          4008\n",
       "_blank         3989\n",
       "include        3984\n",
       "river          3980\n",
       "exclusive      3972\n",
       "gorgeous       3932\n",
       "brick          3923\n",
       "custom         3890\n",
       "bright         3888\n",
       "included       3810\n",
       "stunning       3802\n",
       "every          3794\n",
       "friendly       3791\n",
       "resident       3788\n",
       "price          3742\n",
       "deal           3735\n",
       "terrace        3680\n",
       "feel           3679\n",
       "fit            3675\n",
       "parking        3661\n",
       "perfect        3617\n",
       "exposed        3613\n",
       "appointment    3542\n",
       "height         3525\n",
       "valet          3508\n",
       "pool           3496\n",
       "king           3495\n",
       "sun            3480\n",
       "make           3476\n",
       "minute         3472\n",
       "dtype: int64"
      ]
     },
     "execution_count": 100,
     "metadata": {},
     "output_type": "execute_result"
    }
   ],
   "source": [
    "word_count[150:200]"
   ]
  },
  {
   "cell_type": "code",
   "execution_count": 102,
   "metadata": {},
   "outputs": [],
   "source": [
    "my_top_desc = ['appliance','hardwood','renovated','stainless',\n",
    "               'view','laundry','park','marble','granite','dishwasher',\n",
    "               'train','broker','luxury','amenity','subway','storage',\n",
    "               'huge','transportation','wood','prime','garage','terrace',\n",
    "               'valet','pool','sun']"
   ]
  },
  {
   "cell_type": "code",
   "execution_count": 108,
   "metadata": {},
   "outputs": [
    {
     "ename": "AttributeError",
     "evalue": "'DataFrame' object has no attribute 'clean_desc'",
     "output_type": "error",
     "traceback": [
      "\u001b[0;31m---------------------------------------------------------------------------\u001b[0m",
      "\u001b[0;31mAttributeError\u001b[0m                            Traceback (most recent call last)",
      "\u001b[0;32m<ipython-input-108-32ec90b56f87>\u001b[0m in \u001b[0;36m<module>\u001b[0;34m\u001b[0m\n\u001b[1;32m      1\u001b[0m \u001b[0;32mfor\u001b[0m \u001b[0mdesc\u001b[0m \u001b[0;32min\u001b[0m \u001b[0mmy_top_desc\u001b[0m\u001b[0;34m:\u001b[0m\u001b[0;34m\u001b[0m\u001b[0;34m\u001b[0m\u001b[0m\n\u001b[0;32m----> 2\u001b[0;31m     \u001b[0mtrain\u001b[0m\u001b[0;34m[\u001b[0m\u001b[0mdesc\u001b[0m\u001b[0;34m]\u001b[0m \u001b[0;34m=\u001b[0m \u001b[0mnp\u001b[0m\u001b[0;34m.\u001b[0m\u001b[0mwhere\u001b[0m\u001b[0;34m(\u001b[0m\u001b[0mtrain\u001b[0m\u001b[0;34m.\u001b[0m\u001b[0mclean_desc\u001b[0m\u001b[0;34m.\u001b[0m\u001b[0mstr\u001b[0m\u001b[0;34m.\u001b[0m\u001b[0mcontains\u001b[0m\u001b[0;34m(\u001b[0m\u001b[0mdesc\u001b[0m\u001b[0;34m)\u001b[0m\u001b[0;34m,\u001b[0m\u001b[0;36m1\u001b[0m\u001b[0;34m,\u001b[0m\u001b[0;36m0\u001b[0m\u001b[0;34m)\u001b[0m\u001b[0;34m\u001b[0m\u001b[0;34m\u001b[0m\u001b[0m\n\u001b[0m\u001b[1;32m      3\u001b[0m \u001b[0;32mfor\u001b[0m \u001b[0mdesc\u001b[0m \u001b[0;32min\u001b[0m \u001b[0mmy_top_desc\u001b[0m\u001b[0;34m:\u001b[0m\u001b[0;34m\u001b[0m\u001b[0;34m\u001b[0m\u001b[0m\n\u001b[1;32m      4\u001b[0m     \u001b[0mtest\u001b[0m\u001b[0;34m[\u001b[0m\u001b[0mdesc\u001b[0m\u001b[0;34m]\u001b[0m \u001b[0;34m=\u001b[0m \u001b[0mnp\u001b[0m\u001b[0;34m.\u001b[0m\u001b[0mwhere\u001b[0m\u001b[0;34m(\u001b[0m\u001b[0mtest\u001b[0m\u001b[0;34m.\u001b[0m\u001b[0mclean_desc\u001b[0m\u001b[0;34m.\u001b[0m\u001b[0mstr\u001b[0m\u001b[0;34m.\u001b[0m\u001b[0mcontains\u001b[0m\u001b[0;34m(\u001b[0m\u001b[0mdesc\u001b[0m\u001b[0;34m)\u001b[0m\u001b[0;34m,\u001b[0m\u001b[0;36m1\u001b[0m\u001b[0;34m,\u001b[0m\u001b[0;36m0\u001b[0m\u001b[0;34m)\u001b[0m\u001b[0;34m\u001b[0m\u001b[0;34m\u001b[0m\u001b[0m\n",
      "\u001b[0;32m~/anaconda3/lib/python3.7/site-packages/pandas/core/generic.py\u001b[0m in \u001b[0;36m__getattr__\u001b[0;34m(self, name)\u001b[0m\n\u001b[1;32m   5065\u001b[0m             \u001b[0;32mif\u001b[0m \u001b[0mself\u001b[0m\u001b[0;34m.\u001b[0m\u001b[0m_info_axis\u001b[0m\u001b[0;34m.\u001b[0m\u001b[0m_can_hold_identifiers_and_holds_name\u001b[0m\u001b[0;34m(\u001b[0m\u001b[0mname\u001b[0m\u001b[0;34m)\u001b[0m\u001b[0;34m:\u001b[0m\u001b[0;34m\u001b[0m\u001b[0;34m\u001b[0m\u001b[0m\n\u001b[1;32m   5066\u001b[0m                 \u001b[0;32mreturn\u001b[0m \u001b[0mself\u001b[0m\u001b[0;34m[\u001b[0m\u001b[0mname\u001b[0m\u001b[0;34m]\u001b[0m\u001b[0;34m\u001b[0m\u001b[0;34m\u001b[0m\u001b[0m\n\u001b[0;32m-> 5067\u001b[0;31m             \u001b[0;32mreturn\u001b[0m \u001b[0mobject\u001b[0m\u001b[0;34m.\u001b[0m\u001b[0m__getattribute__\u001b[0m\u001b[0;34m(\u001b[0m\u001b[0mself\u001b[0m\u001b[0;34m,\u001b[0m \u001b[0mname\u001b[0m\u001b[0;34m)\u001b[0m\u001b[0;34m\u001b[0m\u001b[0;34m\u001b[0m\u001b[0m\n\u001b[0m\u001b[1;32m   5068\u001b[0m \u001b[0;34m\u001b[0m\u001b[0m\n\u001b[1;32m   5069\u001b[0m     \u001b[0;32mdef\u001b[0m \u001b[0m__setattr__\u001b[0m\u001b[0;34m(\u001b[0m\u001b[0mself\u001b[0m\u001b[0;34m,\u001b[0m \u001b[0mname\u001b[0m\u001b[0;34m,\u001b[0m \u001b[0mvalue\u001b[0m\u001b[0;34m)\u001b[0m\u001b[0;34m:\u001b[0m\u001b[0;34m\u001b[0m\u001b[0;34m\u001b[0m\u001b[0m\n",
      "\u001b[0;31mAttributeError\u001b[0m: 'DataFrame' object has no attribute 'clean_desc'"
     ]
    }
   ],
   "source": [
    "for desc in my_top_desc:\n",
    "    df[desc] = np.where(df.clean_desc.str.contains(desc),1,0)"
   ]
  },
  {
   "cell_type": "code",
   "execution_count": 107,
   "metadata": {},
   "outputs": [
    {
     "data": {
      "text/plain": [
       "(48300, 58)"
      ]
     },
     "execution_count": 107,
     "metadata": {},
     "output_type": "execute_result"
    }
   ],
   "source": [
    "df.shape"
   ]
  },
  {
   "cell_type": "code",
   "execution_count": 120,
   "metadata": {},
   "outputs": [],
   "source": [
    "train = df[df.index.month < 6]\n",
    "test = df[df.index.month == 6]\n",
    "\n",
    "y_train = train.pop('price')\n",
    "y_test = test.pop('price')"
   ]
  },
  {
   "cell_type": "code",
   "execution_count": 110,
   "metadata": {},
   "outputs": [
    {
     "data": {
      "text/plain": [
       "997.1270241884031"
      ]
     },
     "execution_count": 110,
     "metadata": {},
     "output_type": "execute_result"
    }
   ],
   "source": [
    "score(train[my_top_desc], test[my_top_desc])"
   ]
  },
  {
   "cell_type": "code",
   "execution_count": 121,
   "metadata": {},
   "outputs": [],
   "source": [
    "drop = ['description', 'display_address', 'street_address', 'interest_level', 'clean_desc']\n",
    "\n",
    "train = train.drop(columns = drop)\n",
    "test = test.drop(columns = drop)"
   ]
  },
  {
   "cell_type": "code",
   "execution_count": 122,
   "metadata": {},
   "outputs": [
    {
     "data": {
      "text/plain": [
       "608.4696724157803"
      ]
     },
     "execution_count": 122,
     "metadata": {},
     "output_type": "execute_result"
    }
   ],
   "source": [
    "score(train,test)"
   ]
  },
  {
   "cell_type": "code",
   "execution_count": 123,
   "metadata": {},
   "outputs": [],
   "source": [
    "train = pd.concat([train, interest_train], axis = 1)\n",
    "test = pd.concat([test, interest_test], axis = 1)"
   ]
  },
  {
   "cell_type": "code",
   "execution_count": 124,
   "metadata": {},
   "outputs": [
    {
     "data": {
      "text/plain": [
       "584.6396225754587"
      ]
     },
     "execution_count": 124,
     "metadata": {},
     "output_type": "execute_result"
    }
   ],
   "source": [
    "score(train,test)"
   ]
  },
  {
   "cell_type": "code",
   "execution_count": null,
   "metadata": {},
   "outputs": [],
   "source": []
  }
 ],
 "metadata": {
  "colab": {
   "collapsed_sections": [
    "XBpZJPjFkepU",
    "U7kwOOn_kqx2",
    "rMcbMIMVr0Jt",
    "KsOn2qPhZKSJ",
    "h0qDiTCpZOaq",
    "925SAzgtb9nV"
   ],
   "include_colab_link": true,
   "name": "Doing_Linear_Regression.ipynb",
   "provenance": [],
   "version": "0.3.2"
  },
  "kernelspec": {
   "display_name": "Python 3",
   "language": "python",
   "name": "python3"
  },
  "language_info": {
   "codemirror_mode": {
    "name": "ipython",
    "version": 3
   },
   "file_extension": ".py",
   "mimetype": "text/x-python",
   "name": "python",
   "nbconvert_exporter": "python",
   "pygments_lexer": "ipython3",
   "version": "3.7.3"
  }
 },
 "nbformat": 4,
 "nbformat_minor": 1
}
