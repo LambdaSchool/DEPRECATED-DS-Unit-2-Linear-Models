{
  "nbformat": 4,
  "nbformat_minor": 0,
  "metadata": {
    "colab": {
      "name": "Doing Linear Regression.ipynb",
      "version": "0.3.2",
      "provenance": [],
      "collapsed_sections": [],
      "include_colab_link": true
    },
    "kernelspec": {
      "name": "python3",
      "display_name": "Python 3"
    }
  },
  "cells": [
    {
      "cell_type": "markdown",
      "metadata": {
        "id": "view-in-github",
        "colab_type": "text"
      },
      "source": [
        "<a href=\"https://colab.research.google.com/github/Rtrey29/DS-Unit-2-Linear-Models/blob/master/Doing_Linear_Regression.ipynb\" target=\"_parent\"><img src=\"https://colab.research.google.com/assets/colab-badge.svg\" alt=\"Open In Colab\"/></a>"
      ]
    },
    {
      "cell_type": "code",
      "metadata": {
        "id": "jI1910bRQXTw",
        "colab_type": "code",
        "colab": {}
      },
      "source": [
        "import numpy as np\n",
        "from sklearn.metrics import mean_absolute_error\n",
        "import category_encoders as ce\n",
        "from sklearn.preprocessing import StandardScaler\n",
        "from sklearn.linear_model import LinearRegression"
      ],
      "execution_count": 0,
      "outputs": []
    },
    {
      "cell_type": "code",
      "metadata": {
        "id": "7-87j3v8H6-R",
        "colab_type": "code",
        "colab": {
          "base_uri": "https://localhost:8080/",
          "height": 293
        },
        "outputId": "e0655ba6-b28e-42df-dbf7-0f680851653e"
      },
      "source": [
        "!pip install category_encoders"
      ],
      "execution_count": 2,
      "outputs": [
        {
          "output_type": "stream",
          "text": [
            "Requirement already satisfied: category_encoders in /usr/local/lib/python3.6/dist-packages (2.0.0)\n",
            "Requirement already satisfied: scikit-learn>=0.20.0 in /usr/local/lib/python3.6/dist-packages (from category_encoders) (0.21.2)\n",
            "Requirement already satisfied: patsy>=0.4.1 in /usr/local/lib/python3.6/dist-packages (from category_encoders) (0.5.1)\n",
            "Requirement already satisfied: scipy>=0.19.0 in /usr/local/lib/python3.6/dist-packages (from category_encoders) (1.3.0)\n",
            "Requirement already satisfied: pandas>=0.21.1 in /usr/local/lib/python3.6/dist-packages (from category_encoders) (0.24.2)\n",
            "Requirement already satisfied: statsmodels>=0.6.1 in /usr/local/lib/python3.6/dist-packages (from category_encoders) (0.10.0)\n",
            "Requirement already satisfied: numpy>=1.11.3 in /usr/local/lib/python3.6/dist-packages (from category_encoders) (1.16.4)\n",
            "Requirement already satisfied: joblib>=0.11 in /usr/local/lib/python3.6/dist-packages (from scikit-learn>=0.20.0->category_encoders) (0.13.2)\n",
            "Requirement already satisfied: six in /usr/local/lib/python3.6/dist-packages (from patsy>=0.4.1->category_encoders) (1.12.0)\n",
            "Requirement already satisfied: python-dateutil>=2.5.0 in /usr/local/lib/python3.6/dist-packages (from pandas>=0.21.1->category_encoders) (2.5.3)\n",
            "Requirement already satisfied: pytz>=2011k in /usr/local/lib/python3.6/dist-packages (from pandas>=0.21.1->category_encoders) (2018.9)\n"
          ],
          "name": "stdout"
        }
      ]
    },
    {
      "cell_type": "code",
      "metadata": {
        "id": "lYFzkOQtJnCa",
        "colab_type": "code",
        "colab": {}
      },
      "source": [
        "# import the data\n",
        "\n",
        "WEB = 'https://raw.githubusercontent.com/LambdaSchool/DS-Unit-2-Linear-Models/master/data/nyc/nyc-rent-2016.csv'\n",
        "\n",
        "import pandas as pd\n",
        "df = pd.read_csv(WEB)\n",
        "assert df.shape == (48300, 34)"
      ],
      "execution_count": 0,
      "outputs": []
    },
    {
      "cell_type": "code",
      "metadata": {
        "id": "iWKYfLaNJ9eH",
        "colab_type": "code",
        "colab": {}
      },
      "source": [
        "# change 'created' string to datetieme format\n",
        "df['created'] = pd.to_datetime(df['created'], infer_datetime_format=True)"
      ],
      "execution_count": 0,
      "outputs": []
    },
    {
      "cell_type": "code",
      "metadata": {
        "id": "iTMMGuJjKfQw",
        "colab_type": "code",
        "colab": {}
      },
      "source": [
        "# create a month feature using the month portion of created datetime\n",
        "df['month'] = df['created'].dt.month"
      ],
      "execution_count": 0,
      "outputs": []
    },
    {
      "cell_type": "code",
      "metadata": {
        "id": "OotVesg5Km7B",
        "colab_type": "code",
        "colab": {
          "base_uri": "https://localhost:8080/",
          "height": 34
        },
        "outputId": "0a835a3b-f1c6-4bc6-d88c-a926e87173d8"
      },
      "source": [
        "# Train/Test split\n",
        "test = df.query('month == 6')\n",
        "train = df.query('month <6')\n",
        "train.shape, test.shape, df.shape"
      ],
      "execution_count": 6,
      "outputs": [
        {
          "output_type": "execute_result",
          "data": {
            "text/plain": [
              "((31515, 35), (16785, 35), (48300, 35))"
            ]
          },
          "metadata": {
            "tags": []
          },
          "execution_count": 6
        }
      ]
    },
    {
      "cell_type": "code",
      "metadata": {
        "id": "Q-Bu-4HDLC71",
        "colab_type": "code",
        "colab": {
          "base_uri": "https://localhost:8080/",
          "height": 34
        },
        "outputId": "884bf94b-95ee-4e7c-d805-14e661f0bf9a"
      },
      "source": [
        "# Baseline for regression\n",
        "# train['price'].mean()\n",
        "y_test = test['price']\n",
        "y_pred = [train['price'].mean()] * len(test)\n",
        "\n",
        "mean_absolute_error(y_test, y_pred)"
      ],
      "execution_count": 7,
      "outputs": [
        {
          "output_type": "execute_result",
          "data": {
            "text/plain": [
              "1052.6798017842948"
            ]
          },
          "metadata": {
            "tags": []
          },
          "execution_count": 7
        }
      ]
    },
    {
      "cell_type": "code",
      "metadata": {
        "id": "pbqW4QFYfZ9F",
        "colab_type": "code",
        "colab": {
          "base_uri": "https://localhost:8080/",
          "height": 340
        },
        "outputId": "00cf1901-b33a-4d03-fcc6-12a6f584ff3b"
      },
      "source": [
        "features = ['bedrooms', 'bathrooms', 'dishwasher', 'doorman', 'balcony', 'fitness_center', \n",
        "            'laundry_in_unit', 'dining_room', 'roof_deck', 'cats_allowed', 'latitude', 'longitude', 'pre-war', 'interest_level']\n",
        "target = 'price'\n",
        "\n",
        "X_train = train[features]\n",
        "y_train = train[target]\n",
        "\n",
        "X_test = test[features]\n",
        "y_test = test[target]\n",
        "\n",
        "encoder = ce.OneHotEncoder(use_cat_names = True)\n",
        "X_train = encoder.fit_transform(X_train)\n",
        "X_test = encoder.transform(X_test)\n",
        "\n",
        "model = LinearRegression()\n",
        "model.fit(X_train, y_train)\n",
        "\n",
        "y_pred = model.predict(X_test)\n",
        "print('Test MAE:', mean_absolute_error(y_test, y_pred))\n",
        "\n",
        "print('Intercept', model.intercept_)\n",
        "more = ['interest_level_2', 'interest_level_3']\n",
        "features.extend(more)\n",
        "pd.Series(model.coef_, features)"
      ],
      "execution_count": 32,
      "outputs": [
        {
          "output_type": "stream",
          "text": [
            "Test MAE: 599.4743890861254\n",
            "Intercept -944890.2886122476\n"
          ],
          "name": "stdout"
        },
        {
          "output_type": "execute_result",
          "data": {
            "text/plain": [
              "bedrooms              501.140851\n",
              "bathrooms            1227.437872\n",
              "dishwasher             49.380307\n",
              "doorman               458.877717\n",
              "balcony                 0.935390\n",
              "fitness_center         36.174950\n",
              "laundry_in_unit       310.014647\n",
              "dining_room            69.115190\n",
              "roof_deck            -213.796999\n",
              "cats_allowed           52.298177\n",
              "latitude              589.063462\n",
              "longitude          -12459.132041\n",
              "pre-war               -99.895106\n",
              "interest_level       -310.809564\n",
              "interest_level_2      388.041105\n",
              "interest_level_3      -77.231542\n",
              "dtype: float64"
            ]
          },
          "metadata": {
            "tags": []
          },
          "execution_count": 32
        }
      ]
    }
  ]
}