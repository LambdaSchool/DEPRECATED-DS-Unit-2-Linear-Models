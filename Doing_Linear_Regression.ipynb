{
  "nbformat": 4,
  "nbformat_minor": 0,
  "metadata": {
    "colab": {
      "name": "Doing_Linear_Regression.ipynb",
      "version": "0.3.2",
      "provenance": [],
      "collapsed_sections": [
        "XBpZJPjFkepU",
        "U7kwOOn_kqx2",
        "rMcbMIMVr0Jt",
        "KsOn2qPhZKSJ",
        "h0qDiTCpZOaq",
        "925SAzgtb9nV"
      ],
      "include_colab_link": true
    },
    "kernelspec": {
      "name": "python3",
      "display_name": "Python 3"
    }
  },
  "cells": [
    {
      "cell_type": "markdown",
      "metadata": {
        "id": "view-in-github",
        "colab_type": "text"
      },
      "source": [
        "<a href=\"https://colab.research.google.com/github/unburied/DS-Unit-2-Linear-Models/blob/master/Doing_Linear_Regression.ipynb\" target=\"_parent\"><img src=\"https://colab.research.google.com/assets/colab-badge.svg\" alt=\"Open In Colab\"/></a>"
      ]
    },
    {
      "cell_type": "markdown",
      "metadata": {
        "id": "XBpZJPjFkepU",
        "colab_type": "text"
      },
      "source": [
        "##Get/Split/Model(basic)\n"
      ]
    },
    {
      "cell_type": "code",
      "metadata": {
        "id": "2Ke-ZwqLU4Xf",
        "colab_type": "code",
        "colab": {}
      },
      "source": [
        "import pandas as pd\n",
        "import numpy as np"
      ],
      "execution_count": 0,
      "outputs": []
    },
    {
      "cell_type": "code",
      "metadata": {
        "id": "70XX4u6YVHRN",
        "colab_type": "code",
        "colab": {}
      },
      "source": [
        "WEB = 'https://raw.githubusercontent.com/LambdaSchool/DS-Unit-2-Linear-Models/master/data/nyc/nyc-rent-2016.csv'\n",
        "\n",
        "df = pd.read_csv(WEB)"
      ],
      "execution_count": 0,
      "outputs": []
    },
    {
      "cell_type": "code",
      "metadata": {
        "id": "44NfYqFcVOL0",
        "colab_type": "code",
        "outputId": "e2fb07df-d64e-4f45-e108-227d857795ea",
        "colab": {
          "base_uri": "https://localhost:8080/",
          "height": 0
        }
      },
      "source": [
        "#View Columns\n",
        "df.head().transpose()"
      ],
      "execution_count": 4,
      "outputs": [
        {
          "output_type": "execute_result",
          "data": {
            "text/html": [
              "<div>\n",
              "<style scoped>\n",
              "    .dataframe tbody tr th:only-of-type {\n",
              "        vertical-align: middle;\n",
              "    }\n",
              "\n",
              "    .dataframe tbody tr th {\n",
              "        vertical-align: top;\n",
              "    }\n",
              "\n",
              "    .dataframe thead th {\n",
              "        text-align: right;\n",
              "    }\n",
              "</style>\n",
              "<table border=\"1\" class=\"dataframe\">\n",
              "  <thead>\n",
              "    <tr style=\"text-align: right;\">\n",
              "      <th></th>\n",
              "      <th>0</th>\n",
              "      <th>1</th>\n",
              "      <th>2</th>\n",
              "      <th>3</th>\n",
              "      <th>4</th>\n",
              "    </tr>\n",
              "  </thead>\n",
              "  <tbody>\n",
              "    <tr>\n",
              "      <th>bathrooms</th>\n",
              "      <td>1.5</td>\n",
              "      <td>1</td>\n",
              "      <td>1</td>\n",
              "      <td>1</td>\n",
              "      <td>1</td>\n",
              "    </tr>\n",
              "    <tr>\n",
              "      <th>bedrooms</th>\n",
              "      <td>3</td>\n",
              "      <td>2</td>\n",
              "      <td>1</td>\n",
              "      <td>1</td>\n",
              "      <td>4</td>\n",
              "    </tr>\n",
              "    <tr>\n",
              "      <th>created</th>\n",
              "      <td>2016-06-24 07:54:24</td>\n",
              "      <td>2016-06-12 12:19:27</td>\n",
              "      <td>2016-04-17 03:26:41</td>\n",
              "      <td>2016-04-18 02:22:02</td>\n",
              "      <td>2016-04-28 01:32:41</td>\n",
              "    </tr>\n",
              "    <tr>\n",
              "      <th>description</th>\n",
              "      <td>A Brand New 3 Bedroom 1.5 bath ApartmentEnjoy ...</td>\n",
              "      <td></td>\n",
              "      <td>Top Top West Village location, beautiful Pre-w...</td>\n",
              "      <td>Building Amenities - Garage - Garden - fitness...</td>\n",
              "      <td>Beautifully renovated 3 bedroom flex 4 bedroom...</td>\n",
              "    </tr>\n",
              "    <tr>\n",
              "      <th>display_address</th>\n",
              "      <td>Metropolitan Avenue</td>\n",
              "      <td>Columbus Avenue</td>\n",
              "      <td>W 13 Street</td>\n",
              "      <td>East 49th Street</td>\n",
              "      <td>West 143rd Street</td>\n",
              "    </tr>\n",
              "    <tr>\n",
              "      <th>latitude</th>\n",
              "      <td>40.7145</td>\n",
              "      <td>40.7947</td>\n",
              "      <td>40.7388</td>\n",
              "      <td>40.7539</td>\n",
              "      <td>40.8241</td>\n",
              "    </tr>\n",
              "    <tr>\n",
              "      <th>longitude</th>\n",
              "      <td>-73.9425</td>\n",
              "      <td>-73.9667</td>\n",
              "      <td>-74.0018</td>\n",
              "      <td>-73.9677</td>\n",
              "      <td>-73.9493</td>\n",
              "    </tr>\n",
              "    <tr>\n",
              "      <th>price</th>\n",
              "      <td>3000</td>\n",
              "      <td>5465</td>\n",
              "      <td>2850</td>\n",
              "      <td>3275</td>\n",
              "      <td>3350</td>\n",
              "    </tr>\n",
              "    <tr>\n",
              "      <th>street_address</th>\n",
              "      <td>792 Metropolitan Avenue</td>\n",
              "      <td>808 Columbus Avenue</td>\n",
              "      <td>241 W 13 Street</td>\n",
              "      <td>333 East 49th Street</td>\n",
              "      <td>500 West 143rd Street</td>\n",
              "    </tr>\n",
              "    <tr>\n",
              "      <th>interest_level</th>\n",
              "      <td>medium</td>\n",
              "      <td>low</td>\n",
              "      <td>high</td>\n",
              "      <td>low</td>\n",
              "      <td>low</td>\n",
              "    </tr>\n",
              "    <tr>\n",
              "      <th>elevator</th>\n",
              "      <td>0</td>\n",
              "      <td>1</td>\n",
              "      <td>0</td>\n",
              "      <td>0</td>\n",
              "      <td>0</td>\n",
              "    </tr>\n",
              "    <tr>\n",
              "      <th>cats_allowed</th>\n",
              "      <td>0</td>\n",
              "      <td>1</td>\n",
              "      <td>0</td>\n",
              "      <td>0</td>\n",
              "      <td>0</td>\n",
              "    </tr>\n",
              "    <tr>\n",
              "      <th>hardwood_floors</th>\n",
              "      <td>0</td>\n",
              "      <td>0</td>\n",
              "      <td>1</td>\n",
              "      <td>1</td>\n",
              "      <td>0</td>\n",
              "    </tr>\n",
              "    <tr>\n",
              "      <th>dogs_allowed</th>\n",
              "      <td>0</td>\n",
              "      <td>1</td>\n",
              "      <td>0</td>\n",
              "      <td>0</td>\n",
              "      <td>0</td>\n",
              "    </tr>\n",
              "    <tr>\n",
              "      <th>doorman</th>\n",
              "      <td>0</td>\n",
              "      <td>1</td>\n",
              "      <td>0</td>\n",
              "      <td>0</td>\n",
              "      <td>0</td>\n",
              "    </tr>\n",
              "    <tr>\n",
              "      <th>dishwasher</th>\n",
              "      <td>0</td>\n",
              "      <td>0</td>\n",
              "      <td>1</td>\n",
              "      <td>0</td>\n",
              "      <td>0</td>\n",
              "    </tr>\n",
              "    <tr>\n",
              "      <th>no_fee</th>\n",
              "      <td>0</td>\n",
              "      <td>0</td>\n",
              "      <td>0</td>\n",
              "      <td>1</td>\n",
              "      <td>0</td>\n",
              "    </tr>\n",
              "    <tr>\n",
              "      <th>laundry_in_building</th>\n",
              "      <td>0</td>\n",
              "      <td>0</td>\n",
              "      <td>1</td>\n",
              "      <td>0</td>\n",
              "      <td>0</td>\n",
              "    </tr>\n",
              "    <tr>\n",
              "      <th>fitness_center</th>\n",
              "      <td>0</td>\n",
              "      <td>1</td>\n",
              "      <td>0</td>\n",
              "      <td>0</td>\n",
              "      <td>0</td>\n",
              "    </tr>\n",
              "    <tr>\n",
              "      <th>pre-war</th>\n",
              "      <td>0</td>\n",
              "      <td>0</td>\n",
              "      <td>0</td>\n",
              "      <td>0</td>\n",
              "      <td>1</td>\n",
              "    </tr>\n",
              "    <tr>\n",
              "      <th>laundry_in_unit</th>\n",
              "      <td>0</td>\n",
              "      <td>0</td>\n",
              "      <td>0</td>\n",
              "      <td>0</td>\n",
              "      <td>0</td>\n",
              "    </tr>\n",
              "    <tr>\n",
              "      <th>roof_deck</th>\n",
              "      <td>0</td>\n",
              "      <td>0</td>\n",
              "      <td>0</td>\n",
              "      <td>0</td>\n",
              "      <td>0</td>\n",
              "    </tr>\n",
              "    <tr>\n",
              "      <th>outdoor_space</th>\n",
              "      <td>0</td>\n",
              "      <td>0</td>\n",
              "      <td>0</td>\n",
              "      <td>0</td>\n",
              "      <td>0</td>\n",
              "    </tr>\n",
              "    <tr>\n",
              "      <th>dining_room</th>\n",
              "      <td>0</td>\n",
              "      <td>0</td>\n",
              "      <td>0</td>\n",
              "      <td>0</td>\n",
              "      <td>0</td>\n",
              "    </tr>\n",
              "    <tr>\n",
              "      <th>high_speed_internet</th>\n",
              "      <td>0</td>\n",
              "      <td>0</td>\n",
              "      <td>0</td>\n",
              "      <td>0</td>\n",
              "      <td>0</td>\n",
              "    </tr>\n",
              "    <tr>\n",
              "      <th>balcony</th>\n",
              "      <td>0</td>\n",
              "      <td>0</td>\n",
              "      <td>0</td>\n",
              "      <td>0</td>\n",
              "      <td>0</td>\n",
              "    </tr>\n",
              "    <tr>\n",
              "      <th>swimming_pool</th>\n",
              "      <td>0</td>\n",
              "      <td>0</td>\n",
              "      <td>0</td>\n",
              "      <td>0</td>\n",
              "      <td>0</td>\n",
              "    </tr>\n",
              "    <tr>\n",
              "      <th>new_construction</th>\n",
              "      <td>0</td>\n",
              "      <td>0</td>\n",
              "      <td>0</td>\n",
              "      <td>0</td>\n",
              "      <td>0</td>\n",
              "    </tr>\n",
              "    <tr>\n",
              "      <th>exclusive</th>\n",
              "      <td>0</td>\n",
              "      <td>0</td>\n",
              "      <td>0</td>\n",
              "      <td>0</td>\n",
              "      <td>0</td>\n",
              "    </tr>\n",
              "    <tr>\n",
              "      <th>terrace</th>\n",
              "      <td>0</td>\n",
              "      <td>0</td>\n",
              "      <td>0</td>\n",
              "      <td>0</td>\n",
              "      <td>0</td>\n",
              "    </tr>\n",
              "    <tr>\n",
              "      <th>loft</th>\n",
              "      <td>0</td>\n",
              "      <td>0</td>\n",
              "      <td>0</td>\n",
              "      <td>0</td>\n",
              "      <td>0</td>\n",
              "    </tr>\n",
              "    <tr>\n",
              "      <th>garden_patio</th>\n",
              "      <td>0</td>\n",
              "      <td>0</td>\n",
              "      <td>0</td>\n",
              "      <td>0</td>\n",
              "      <td>0</td>\n",
              "    </tr>\n",
              "    <tr>\n",
              "      <th>common_outdoor_space</th>\n",
              "      <td>0</td>\n",
              "      <td>0</td>\n",
              "      <td>0</td>\n",
              "      <td>0</td>\n",
              "      <td>0</td>\n",
              "    </tr>\n",
              "    <tr>\n",
              "      <th>wheelchair_access</th>\n",
              "      <td>0</td>\n",
              "      <td>0</td>\n",
              "      <td>0</td>\n",
              "      <td>0</td>\n",
              "      <td>0</td>\n",
              "    </tr>\n",
              "  </tbody>\n",
              "</table>\n",
              "</div>"
            ],
            "text/plain": [
              "                                                                      0  ...                                                  4\n",
              "bathrooms                                                           1.5  ...                                                  1\n",
              "bedrooms                                                              3  ...                                                  4\n",
              "created                                             2016-06-24 07:54:24  ...                                2016-04-28 01:32:41\n",
              "description           A Brand New 3 Bedroom 1.5 bath ApartmentEnjoy ...  ...  Beautifully renovated 3 bedroom flex 4 bedroom...\n",
              "display_address                                     Metropolitan Avenue  ...                                  West 143rd Street\n",
              "latitude                                                        40.7145  ...                                            40.8241\n",
              "longitude                                                      -73.9425  ...                                           -73.9493\n",
              "price                                                              3000  ...                                               3350\n",
              "street_address                                  792 Metropolitan Avenue  ...                              500 West 143rd Street\n",
              "interest_level                                                   medium  ...                                                low\n",
              "elevator                                                              0  ...                                                  0\n",
              "cats_allowed                                                          0  ...                                                  0\n",
              "hardwood_floors                                                       0  ...                                                  0\n",
              "dogs_allowed                                                          0  ...                                                  0\n",
              "doorman                                                               0  ...                                                  0\n",
              "dishwasher                                                            0  ...                                                  0\n",
              "no_fee                                                                0  ...                                                  0\n",
              "laundry_in_building                                                   0  ...                                                  0\n",
              "fitness_center                                                        0  ...                                                  0\n",
              "pre-war                                                               0  ...                                                  1\n",
              "laundry_in_unit                                                       0  ...                                                  0\n",
              "roof_deck                                                             0  ...                                                  0\n",
              "outdoor_space                                                         0  ...                                                  0\n",
              "dining_room                                                           0  ...                                                  0\n",
              "high_speed_internet                                                   0  ...                                                  0\n",
              "balcony                                                               0  ...                                                  0\n",
              "swimming_pool                                                         0  ...                                                  0\n",
              "new_construction                                                      0  ...                                                  0\n",
              "exclusive                                                             0  ...                                                  0\n",
              "terrace                                                               0  ...                                                  0\n",
              "loft                                                                  0  ...                                                  0\n",
              "garden_patio                                                          0  ...                                                  0\n",
              "common_outdoor_space                                                  0  ...                                                  0\n",
              "wheelchair_access                                                     0  ...                                                  0\n",
              "\n",
              "[34 rows x 5 columns]"
            ]
          },
          "metadata": {
            "tags": []
          },
          "execution_count": 4
        }
      ]
    },
    {
      "cell_type": "code",
      "metadata": {
        "id": "PvhiO2Q6VT6V",
        "colab_type": "code",
        "outputId": "776ec954-5a35-4734-bbd3-542ff7f82761",
        "colab": {
          "base_uri": "https://localhost:8080/",
          "height": 0
        }
      },
      "source": [
        "#convert time string object to datetime object and set as index\n",
        "df['created'] = pd.to_datetime(df.created, infer_datetime_format= True)\n",
        "\n",
        "df = df.set_index('created')\n",
        "df.head()"
      ],
      "execution_count": 5,
      "outputs": [
        {
          "output_type": "execute_result",
          "data": {
            "text/html": [
              "<div>\n",
              "<style scoped>\n",
              "    .dataframe tbody tr th:only-of-type {\n",
              "        vertical-align: middle;\n",
              "    }\n",
              "\n",
              "    .dataframe tbody tr th {\n",
              "        vertical-align: top;\n",
              "    }\n",
              "\n",
              "    .dataframe thead th {\n",
              "        text-align: right;\n",
              "    }\n",
              "</style>\n",
              "<table border=\"1\" class=\"dataframe\">\n",
              "  <thead>\n",
              "    <tr style=\"text-align: right;\">\n",
              "      <th></th>\n",
              "      <th>bathrooms</th>\n",
              "      <th>bedrooms</th>\n",
              "      <th>description</th>\n",
              "      <th>display_address</th>\n",
              "      <th>latitude</th>\n",
              "      <th>longitude</th>\n",
              "      <th>price</th>\n",
              "      <th>street_address</th>\n",
              "      <th>interest_level</th>\n",
              "      <th>elevator</th>\n",
              "      <th>cats_allowed</th>\n",
              "      <th>hardwood_floors</th>\n",
              "      <th>dogs_allowed</th>\n",
              "      <th>doorman</th>\n",
              "      <th>dishwasher</th>\n",
              "      <th>no_fee</th>\n",
              "      <th>laundry_in_building</th>\n",
              "      <th>fitness_center</th>\n",
              "      <th>pre-war</th>\n",
              "      <th>laundry_in_unit</th>\n",
              "      <th>roof_deck</th>\n",
              "      <th>outdoor_space</th>\n",
              "      <th>dining_room</th>\n",
              "      <th>high_speed_internet</th>\n",
              "      <th>balcony</th>\n",
              "      <th>swimming_pool</th>\n",
              "      <th>new_construction</th>\n",
              "      <th>exclusive</th>\n",
              "      <th>terrace</th>\n",
              "      <th>loft</th>\n",
              "      <th>garden_patio</th>\n",
              "      <th>common_outdoor_space</th>\n",
              "      <th>wheelchair_access</th>\n",
              "    </tr>\n",
              "    <tr>\n",
              "      <th>created</th>\n",
              "      <th></th>\n",
              "      <th></th>\n",
              "      <th></th>\n",
              "      <th></th>\n",
              "      <th></th>\n",
              "      <th></th>\n",
              "      <th></th>\n",
              "      <th></th>\n",
              "      <th></th>\n",
              "      <th></th>\n",
              "      <th></th>\n",
              "      <th></th>\n",
              "      <th></th>\n",
              "      <th></th>\n",
              "      <th></th>\n",
              "      <th></th>\n",
              "      <th></th>\n",
              "      <th></th>\n",
              "      <th></th>\n",
              "      <th></th>\n",
              "      <th></th>\n",
              "      <th></th>\n",
              "      <th></th>\n",
              "      <th></th>\n",
              "      <th></th>\n",
              "      <th></th>\n",
              "      <th></th>\n",
              "      <th></th>\n",
              "      <th></th>\n",
              "      <th></th>\n",
              "      <th></th>\n",
              "      <th></th>\n",
              "      <th></th>\n",
              "    </tr>\n",
              "  </thead>\n",
              "  <tbody>\n",
              "    <tr>\n",
              "      <th>2016-06-24 07:54:24</th>\n",
              "      <td>1.5</td>\n",
              "      <td>3</td>\n",
              "      <td>A Brand New 3 Bedroom 1.5 bath ApartmentEnjoy ...</td>\n",
              "      <td>Metropolitan Avenue</td>\n",
              "      <td>40.7145</td>\n",
              "      <td>-73.9425</td>\n",
              "      <td>3000</td>\n",
              "      <td>792 Metropolitan Avenue</td>\n",
              "      <td>medium</td>\n",
              "      <td>0</td>\n",
              "      <td>0</td>\n",
              "      <td>0</td>\n",
              "      <td>0</td>\n",
              "      <td>0</td>\n",
              "      <td>0</td>\n",
              "      <td>0</td>\n",
              "      <td>0</td>\n",
              "      <td>0</td>\n",
              "      <td>0</td>\n",
              "      <td>0</td>\n",
              "      <td>0</td>\n",
              "      <td>0</td>\n",
              "      <td>0</td>\n",
              "      <td>0</td>\n",
              "      <td>0</td>\n",
              "      <td>0</td>\n",
              "      <td>0</td>\n",
              "      <td>0</td>\n",
              "      <td>0</td>\n",
              "      <td>0</td>\n",
              "      <td>0</td>\n",
              "      <td>0</td>\n",
              "      <td>0</td>\n",
              "    </tr>\n",
              "    <tr>\n",
              "      <th>2016-06-12 12:19:27</th>\n",
              "      <td>1.0</td>\n",
              "      <td>2</td>\n",
              "      <td></td>\n",
              "      <td>Columbus Avenue</td>\n",
              "      <td>40.7947</td>\n",
              "      <td>-73.9667</td>\n",
              "      <td>5465</td>\n",
              "      <td>808 Columbus Avenue</td>\n",
              "      <td>low</td>\n",
              "      <td>1</td>\n",
              "      <td>1</td>\n",
              "      <td>0</td>\n",
              "      <td>1</td>\n",
              "      <td>1</td>\n",
              "      <td>0</td>\n",
              "      <td>0</td>\n",
              "      <td>0</td>\n",
              "      <td>1</td>\n",
              "      <td>0</td>\n",
              "      <td>0</td>\n",
              "      <td>0</td>\n",
              "      <td>0</td>\n",
              "      <td>0</td>\n",
              "      <td>0</td>\n",
              "      <td>0</td>\n",
              "      <td>0</td>\n",
              "      <td>0</td>\n",
              "      <td>0</td>\n",
              "      <td>0</td>\n",
              "      <td>0</td>\n",
              "      <td>0</td>\n",
              "      <td>0</td>\n",
              "      <td>0</td>\n",
              "    </tr>\n",
              "    <tr>\n",
              "      <th>2016-04-17 03:26:41</th>\n",
              "      <td>1.0</td>\n",
              "      <td>1</td>\n",
              "      <td>Top Top West Village location, beautiful Pre-w...</td>\n",
              "      <td>W 13 Street</td>\n",
              "      <td>40.7388</td>\n",
              "      <td>-74.0018</td>\n",
              "      <td>2850</td>\n",
              "      <td>241 W 13 Street</td>\n",
              "      <td>high</td>\n",
              "      <td>0</td>\n",
              "      <td>0</td>\n",
              "      <td>1</td>\n",
              "      <td>0</td>\n",
              "      <td>0</td>\n",
              "      <td>1</td>\n",
              "      <td>0</td>\n",
              "      <td>1</td>\n",
              "      <td>0</td>\n",
              "      <td>0</td>\n",
              "      <td>0</td>\n",
              "      <td>0</td>\n",
              "      <td>0</td>\n",
              "      <td>0</td>\n",
              "      <td>0</td>\n",
              "      <td>0</td>\n",
              "      <td>0</td>\n",
              "      <td>0</td>\n",
              "      <td>0</td>\n",
              "      <td>0</td>\n",
              "      <td>0</td>\n",
              "      <td>0</td>\n",
              "      <td>0</td>\n",
              "      <td>0</td>\n",
              "    </tr>\n",
              "    <tr>\n",
              "      <th>2016-04-18 02:22:02</th>\n",
              "      <td>1.0</td>\n",
              "      <td>1</td>\n",
              "      <td>Building Amenities - Garage - Garden - fitness...</td>\n",
              "      <td>East 49th Street</td>\n",
              "      <td>40.7539</td>\n",
              "      <td>-73.9677</td>\n",
              "      <td>3275</td>\n",
              "      <td>333 East 49th Street</td>\n",
              "      <td>low</td>\n",
              "      <td>0</td>\n",
              "      <td>0</td>\n",
              "      <td>1</td>\n",
              "      <td>0</td>\n",
              "      <td>0</td>\n",
              "      <td>0</td>\n",
              "      <td>1</td>\n",
              "      <td>0</td>\n",
              "      <td>0</td>\n",
              "      <td>0</td>\n",
              "      <td>0</td>\n",
              "      <td>0</td>\n",
              "      <td>0</td>\n",
              "      <td>0</td>\n",
              "      <td>0</td>\n",
              "      <td>0</td>\n",
              "      <td>0</td>\n",
              "      <td>0</td>\n",
              "      <td>0</td>\n",
              "      <td>0</td>\n",
              "      <td>0</td>\n",
              "      <td>0</td>\n",
              "      <td>0</td>\n",
              "      <td>0</td>\n",
              "    </tr>\n",
              "    <tr>\n",
              "      <th>2016-04-28 01:32:41</th>\n",
              "      <td>1.0</td>\n",
              "      <td>4</td>\n",
              "      <td>Beautifully renovated 3 bedroom flex 4 bedroom...</td>\n",
              "      <td>West 143rd Street</td>\n",
              "      <td>40.8241</td>\n",
              "      <td>-73.9493</td>\n",
              "      <td>3350</td>\n",
              "      <td>500 West 143rd Street</td>\n",
              "      <td>low</td>\n",
              "      <td>0</td>\n",
              "      <td>0</td>\n",
              "      <td>0</td>\n",
              "      <td>0</td>\n",
              "      <td>0</td>\n",
              "      <td>0</td>\n",
              "      <td>0</td>\n",
              "      <td>0</td>\n",
              "      <td>0</td>\n",
              "      <td>1</td>\n",
              "      <td>0</td>\n",
              "      <td>0</td>\n",
              "      <td>0</td>\n",
              "      <td>0</td>\n",
              "      <td>0</td>\n",
              "      <td>0</td>\n",
              "      <td>0</td>\n",
              "      <td>0</td>\n",
              "      <td>0</td>\n",
              "      <td>0</td>\n",
              "      <td>0</td>\n",
              "      <td>0</td>\n",
              "      <td>0</td>\n",
              "      <td>0</td>\n",
              "    </tr>\n",
              "  </tbody>\n",
              "</table>\n",
              "</div>"
            ],
            "text/plain": [
              "                     bathrooms  ...  wheelchair_access\n",
              "created                         ...                   \n",
              "2016-06-24 07:54:24        1.5  ...                  0\n",
              "2016-06-12 12:19:27        1.0  ...                  0\n",
              "2016-04-17 03:26:41        1.0  ...                  0\n",
              "2016-04-18 02:22:02        1.0  ...                  0\n",
              "2016-04-28 01:32:41        1.0  ...                  0\n",
              "\n",
              "[5 rows x 33 columns]"
            ]
          },
          "metadata": {
            "tags": []
          },
          "execution_count": 5
        }
      ]
    },
    {
      "cell_type": "code",
      "metadata": {
        "id": "JIM4jRoqeOQM",
        "colab_type": "code",
        "outputId": "c7285ad5-8fad-48a9-900c-c15f4f094ffe",
        "colab": {
          "base_uri": "https://localhost:8080/",
          "height": 0
        }
      },
      "source": [
        "#Split Data Based on date\n",
        "train = df[df.index.month < 6]\n",
        "test = df[df.index.month == 6]\n",
        "\n",
        "train.shape, test.shape"
      ],
      "execution_count": 6,
      "outputs": [
        {
          "output_type": "execute_result",
          "data": {
            "text/plain": [
              "((31515, 33), (16785, 33))"
            ]
          },
          "metadata": {
            "tags": []
          },
          "execution_count": 6
        }
      ]
    },
    {
      "cell_type": "code",
      "metadata": {
        "id": "ppQs17_WfGcF",
        "colab_type": "code",
        "outputId": "91eb46e0-c27d-4633-d93b-0dcaecab5326",
        "colab": {
          "base_uri": "https://localhost:8080/",
          "height": 0
        }
      },
      "source": [
        "#extract target values from df\n",
        "y_train = train.pop('price')\n",
        "y_test = test.pop('price')\n",
        "\n",
        "y_train.shape, y_test.shape"
      ],
      "execution_count": 7,
      "outputs": [
        {
          "output_type": "execute_result",
          "data": {
            "text/plain": [
              "((31515,), (16785,))"
            ]
          },
          "metadata": {
            "tags": []
          },
          "execution_count": 7
        }
      ]
    },
    {
      "cell_type": "code",
      "metadata": {
        "id": "24buA6eDfuXw",
        "colab_type": "code",
        "colab": {}
      },
      "source": [
        "#get a baseline model\n",
        "baseline = np.full_like(y_test, y_train.mean())"
      ],
      "execution_count": 0,
      "outputs": []
    },
    {
      "cell_type": "markdown",
      "metadata": {
        "id": "W1dugf2KrpzX",
        "colab_type": "text"
      },
      "source": [
        "##Baseline"
      ]
    },
    {
      "cell_type": "code",
      "metadata": {
        "id": "ALmcF_lpiqPq",
        "colab_type": "code",
        "outputId": "12c3adc7-7164-41c7-eb82-b1de4dec7b3c",
        "colab": {
          "base_uri": "https://localhost:8080/",
          "height": 34
        }
      },
      "source": [
        "#get metric to test baseline \n",
        "from sklearn.metrics import mean_absolute_error\n",
        "\n",
        "mean_absolute_error(y_test, baseline)"
      ],
      "execution_count": 9,
      "outputs": [
        {
          "output_type": "execute_result",
          "data": {
            "text/plain": [
              "1052.5193327375632"
            ]
          },
          "metadata": {
            "tags": []
          },
          "execution_count": 9
        }
      ]
    },
    {
      "cell_type": "markdown",
      "metadata": {
        "id": "U7kwOOn_kqx2",
        "colab_type": "text"
      },
      "source": [
        "##Upgrade Baseline Model\n"
      ]
    },
    {
      "cell_type": "code",
      "metadata": {
        "id": "SITg2i0Vk7WE",
        "colab_type": "code",
        "colab": {}
      },
      "source": [
        "#import and instantiate model\n",
        "from sklearn.linear_model import LinearRegression\n",
        "\n",
        "model = LinearRegression()"
      ],
      "execution_count": 0,
      "outputs": []
    },
    {
      "cell_type": "code",
      "metadata": {
        "id": "c6XUNYd8lN9W",
        "colab_type": "code",
        "colab": {}
      },
      "source": [
        "#select features to model\n",
        "#here we will start with all numerical features and exclude any objects\n",
        "features = list(train.dtypes[train.dtypes != 'object'].index)\n",
        "\n",
        "X_train = train[features]\n",
        "X_test = test[features]"
      ],
      "execution_count": 0,
      "outputs": []
    },
    {
      "cell_type": "code",
      "metadata": {
        "id": "EOlTPvQcl9fX",
        "colab_type": "code",
        "colab": {}
      },
      "source": [
        "#Train model and store result\n",
        "#Will be updating X_train and X_test so dont need to pass as new values \n",
        "def score(train,test):\n",
        "  model.fit(train, y_train)\n",
        "  y_pred = model.predict(test)\n",
        "\n",
        "  return mean_absolute_error(y_test, y_pred)\n",
        "  "
      ],
      "execution_count": 0,
      "outputs": []
    },
    {
      "cell_type": "code",
      "metadata": {
        "id": "FH43LcOvpXPa",
        "colab_type": "code",
        "colab": {
          "base_uri": "https://localhost:8080/",
          "height": 0
        },
        "outputId": "7a8dfb10-1651-4b84-bc6b-a380bdf8c6e1"
      },
      "source": [
        "score(X_train, X_test)"
      ],
      "execution_count": 13,
      "outputs": [
        {
          "output_type": "execute_result",
          "data": {
            "text/plain": [
              "618.6796864572029"
            ]
          },
          "metadata": {
            "tags": []
          },
          "execution_count": 13
        }
      ]
    },
    {
      "cell_type": "markdown",
      "metadata": {
        "id": "mStN6AmTrwX_",
        "colab_type": "text"
      },
      "source": [
        "##Upgraded Baseline"
      ]
    },
    {
      "cell_type": "code",
      "metadata": {
        "id": "OF6QOVj5mNRX",
        "colab_type": "code",
        "outputId": "e968a5e1-3493-49d8-b858-8aaddaf52237",
        "colab": {
          "base_uri": "https://localhost:8080/",
          "height": 34
        }
      },
      "source": [
        "better_baseline = score(X_train, X_test)\n",
        "print(better_baseline)"
      ],
      "execution_count": 14,
      "outputs": [
        {
          "output_type": "stream",
          "text": [
            "618.6796864572029\n"
          ],
          "name": "stdout"
        }
      ]
    },
    {
      "cell_type": "markdown",
      "metadata": {
        "id": "rMcbMIMVr0Jt",
        "colab_type": "text"
      },
      "source": [
        "##Feature Selection\n",
        "  "
      ]
    },
    {
      "cell_type": "markdown",
      "metadata": {
        "id": "KsOn2qPhZKSJ",
        "colab_type": "text"
      },
      "source": [
        "###Numerical Features\n"
      ]
    },
    {
      "cell_type": "code",
      "metadata": {
        "id": "XlBPbojpr5ZE",
        "colab_type": "code",
        "outputId": "5e75e267-cf47-4bf9-f41d-b2005a53f686",
        "colab": {
          "base_uri": "https://localhost:8080/",
          "height": 0
        }
      },
      "source": [
        "#Iterate over features to determine which have the highest impact\n",
        "\n",
        "impact = {}\n",
        "\n",
        "for feature in features:\n",
        "  model.fit(train[[feature]], y_train)\n",
        "  y_pred = model.predict(test[[feature]])\n",
        "  impact[feature] = mean_absolute_error(y_test, y_pred)\n",
        "                \n",
        "print(impact)"
      ],
      "execution_count": 15,
      "outputs": [
        {
          "output_type": "stream",
          "text": [
            "{'bathrooms': 826.8186291735686, 'bedrooms': 865.7153554398519, 'latitude': 1048.5914341618604, 'longitude': 989.0487004130522, 'elevator': 1021.1914238867432, 'cats_allowed': 1049.6548133279234, 'hardwood_floors': 1050.474902267552, 'dogs_allowed': 1049.2944534089013, 'doorman': 1002.990620652015, 'dishwasher': 1026.0537865120189, 'no_fee': 1044.9120965283466, 'laundry_in_building': 1052.8562017778665, 'fitness_center': 1020.8674997057973, 'pre-war': 1052.1651020895426, 'laundry_in_unit': 1028.7246629448905, 'roof_deck': 1044.951424200772, 'outdoor_space': 1038.9376029999073, 'dining_room': 1029.926584738313, 'high_speed_internet': 1047.8368618041293, 'balcony': 1040.796298235273, 'swimming_pool': 1046.0479246061477, 'new_construction': 1052.4032354966685, 'exclusive': 1052.262266759364, 'terrace': 1042.9198257172632, 'loft': 1051.8527496972877, 'garden_patio': 1046.3402013438135, 'common_outdoor_space': 1051.7843743981514, 'wheelchair_access': 1051.120211011886}\n"
          ],
          "name": "stdout"
        }
      ]
    },
    {
      "cell_type": "code",
      "metadata": {
        "id": "KelNRLKTuYeP",
        "colab_type": "code",
        "outputId": "b5deb079-3ccb-4f6b-eb69-d35e807616d0",
        "colab": {
          "base_uri": "https://localhost:8080/",
          "height": 0
        }
      },
      "source": [
        "#structure as a series and sort. extracting top 5 values\n",
        "\n",
        "impact_table = pd.Series(impact)\n",
        "impact_table = impact_table.sort_values()\n",
        "\n",
        "impact_table.head()"
      ],
      "execution_count": 16,
      "outputs": [
        {
          "output_type": "execute_result",
          "data": {
            "text/plain": [
              "bathrooms          826.818629\n",
              "bedrooms           865.715355\n",
              "longitude          989.048700\n",
              "doorman           1002.990621\n",
              "fitness_center    1020.867500\n",
              "dtype: float64"
            ]
          },
          "metadata": {
            "tags": []
          },
          "execution_count": 16
        }
      ]
    },
    {
      "cell_type": "code",
      "metadata": {
        "id": "yIuWGRXbukAm",
        "colab_type": "code",
        "colab": {
          "base_uri": "https://localhost:8080/",
          "height": 0
        },
        "outputId": "7c2c9567-53d1-4463-8612-efa77fb1576c"
      },
      "source": [
        "#Get number of effective features that matches or beats better_baseline\n",
        "\n",
        "index = 0 \n",
        "extract = {}\n",
        "prev_mae = 0\n",
        "\n",
        "for index in range(1,len(impact_table)):\n",
        "  features = impact_table.index[0:index]\n",
        "  \n",
        "  if index == 0:\n",
        "      model.fit(train[[features]], y_train)\n",
        "      y_pred = model.predict(test[[features]])\n",
        "      mae = mean_absolute_error(y_test, y_pred)\n",
        "      print(mae)\n",
        "  else:\n",
        "      model.fit(train[features], y_train)\n",
        "      y_pred = model.predict(test[features])\n",
        "      mae = mean_absolute_error(y_test, y_pred)\n",
        "      print(mae)\n",
        "      \n",
        "  #Find features whose effect on score is greater than 1\n",
        "  effect = abs(mae - prev_mae)\n",
        "  if effect > 1:\n",
        "    extract[impact_table.index[index]] = effect          \n",
        "    prev_mae = mae\n",
        "    \n",
        "print(extract)"
      ],
      "execution_count": 17,
      "outputs": [
        {
          "output_type": "stream",
          "text": [
            "826.8186291735686\n",
            "754.5508722934989\n",
            "667.2933147298353\n",
            "635.1528773589849\n",
            "635.122921947556\n",
            "634.3752688719886\n",
            "634.0690256373571\n",
            "632.0777436135802\n",
            "632.0763605880798\n",
            "632.3628533827904\n",
            "632.0742813294919\n",
            "631.9958764459212\n",
            "630.4861046080734\n",
            "627.4049730300144\n",
            "627.39554671891\n",
            "627.4322194886214\n",
            "624.304761538569\n",
            "625.1484309228863\n",
            "624.2135689536922\n",
            "624.2104961858942\n",
            "621.0487661651432\n",
            "621.0629038370165\n",
            "620.7512149718334\n",
            "620.7676930359772\n",
            "620.793134769754\n",
            "620.8129165225054\n",
            "620.1255609377877\n",
            "{'bedrooms': 826.8186291735686, 'longitude': 72.26775688006978, 'doorman': 87.25755756366357, 'fitness_center': 32.14043737085035, 'laundry_in_unit': 1.083851721627866, 'dining_room': 1.9912820237768756, 'roof_deck': 1.5916390055067495, 'swimming_pool': 3.0811315780590576, 'latitude': 3.100211491445407, 'wheelchair_access': 3.255995373425776}\n"
          ],
          "name": "stdout"
        }
      ]
    },
    {
      "cell_type": "markdown",
      "metadata": {
        "id": "VsxTC7UEIVGs",
        "colab_type": "text"
      },
      "source": [
        "Not better than our previous baseline. We ended up with an empty dict because no subset of features scored better than the entire set of numberical features. But from this we can conclude the top 4 features offered the most significant boost to the score, so we can use those. Lets see what they are."
      ]
    },
    {
      "cell_type": "code",
      "metadata": {
        "id": "9VQVBtc9IbuB",
        "colab_type": "code",
        "colab": {
          "base_uri": "https://localhost:8080/",
          "height": 0
        },
        "outputId": "8a8c84d4-22ea-487c-ffe0-2a42ee9d10f7"
      },
      "source": [
        "impact_table.head(4)"
      ],
      "execution_count": 18,
      "outputs": [
        {
          "output_type": "execute_result",
          "data": {
            "text/plain": [
              "bathrooms     826.818629\n",
              "bedrooms      865.715355\n",
              "longitude     989.048700\n",
              "doorman      1002.990621\n",
              "dtype: float64"
            ]
          },
          "metadata": {
            "tags": []
          },
          "execution_count": 18
        }
      ]
    },
    {
      "cell_type": "markdown",
      "metadata": {
        "id": "DiZnU0KqN9Rj",
        "colab_type": "text"
      },
      "source": [
        "These features make sense. The number of bed/baths significantly affects the value of a residence. There may even be a correalation there with respect to square footage, of which is a key indicator in pricing. Doorman is a luxary accomodation, so will aslo affect pricing. And longitude will determine which borrow the appartment is listed in. From east to west there is Staten Island, Manhattan, Brooklyn, The Bronx, and Queens. These boroughs appear to be more affected by this metric than latitude.  From the output above, we can already determine the score to be $635.15"
      ]
    },
    {
      "cell_type": "markdown",
      "metadata": {
        "id": "h0qDiTCpZOaq",
        "colab_type": "text"
      },
      "source": [
        "###Non-numericals"
      ]
    },
    {
      "cell_type": "code",
      "metadata": {
        "id": "DIDpscWXZXsT",
        "colab_type": "code",
        "colab": {
          "base_uri": "https://localhost:8080/",
          "height": 0
        },
        "outputId": "786ff7aa-c7ee-457a-86c4-85dedd055699"
      },
      "source": [
        "#extract and look at objects in df\n",
        "features = list(df.dtypes[df.dtypes == 'object'].index)\n",
        "features"
      ],
      "execution_count": 19,
      "outputs": [
        {
          "output_type": "execute_result",
          "data": {
            "text/plain": [
              "['description', 'display_address', 'street_address', 'interest_level']"
            ]
          },
          "metadata": {
            "tags": []
          },
          "execution_count": 19
        }
      ]
    },
    {
      "cell_type": "code",
      "metadata": {
        "id": "fU1PHJFGZksk",
        "colab_type": "code",
        "colab": {
          "base_uri": "https://localhost:8080/",
          "height": 0
        },
        "outputId": "242c7451-af4f-4728-e278-fd85e8b1eecf"
      },
      "source": [
        "df[features].head()"
      ],
      "execution_count": 20,
      "outputs": [
        {
          "output_type": "execute_result",
          "data": {
            "text/html": [
              "<div>\n",
              "<style scoped>\n",
              "    .dataframe tbody tr th:only-of-type {\n",
              "        vertical-align: middle;\n",
              "    }\n",
              "\n",
              "    .dataframe tbody tr th {\n",
              "        vertical-align: top;\n",
              "    }\n",
              "\n",
              "    .dataframe thead th {\n",
              "        text-align: right;\n",
              "    }\n",
              "</style>\n",
              "<table border=\"1\" class=\"dataframe\">\n",
              "  <thead>\n",
              "    <tr style=\"text-align: right;\">\n",
              "      <th></th>\n",
              "      <th>description</th>\n",
              "      <th>display_address</th>\n",
              "      <th>street_address</th>\n",
              "      <th>interest_level</th>\n",
              "    </tr>\n",
              "    <tr>\n",
              "      <th>created</th>\n",
              "      <th></th>\n",
              "      <th></th>\n",
              "      <th></th>\n",
              "      <th></th>\n",
              "    </tr>\n",
              "  </thead>\n",
              "  <tbody>\n",
              "    <tr>\n",
              "      <th>2016-06-24 07:54:24</th>\n",
              "      <td>A Brand New 3 Bedroom 1.5 bath ApartmentEnjoy ...</td>\n",
              "      <td>Metropolitan Avenue</td>\n",
              "      <td>792 Metropolitan Avenue</td>\n",
              "      <td>medium</td>\n",
              "    </tr>\n",
              "    <tr>\n",
              "      <th>2016-06-12 12:19:27</th>\n",
              "      <td></td>\n",
              "      <td>Columbus Avenue</td>\n",
              "      <td>808 Columbus Avenue</td>\n",
              "      <td>low</td>\n",
              "    </tr>\n",
              "    <tr>\n",
              "      <th>2016-04-17 03:26:41</th>\n",
              "      <td>Top Top West Village location, beautiful Pre-w...</td>\n",
              "      <td>W 13 Street</td>\n",
              "      <td>241 W 13 Street</td>\n",
              "      <td>high</td>\n",
              "    </tr>\n",
              "    <tr>\n",
              "      <th>2016-04-18 02:22:02</th>\n",
              "      <td>Building Amenities - Garage - Garden - fitness...</td>\n",
              "      <td>East 49th Street</td>\n",
              "      <td>333 East 49th Street</td>\n",
              "      <td>low</td>\n",
              "    </tr>\n",
              "    <tr>\n",
              "      <th>2016-04-28 01:32:41</th>\n",
              "      <td>Beautifully renovated 3 bedroom flex 4 bedroom...</td>\n",
              "      <td>West 143rd Street</td>\n",
              "      <td>500 West 143rd Street</td>\n",
              "      <td>low</td>\n",
              "    </tr>\n",
              "  </tbody>\n",
              "</table>\n",
              "</div>"
            ],
            "text/plain": [
              "                                                           description  ... interest_level\n",
              "created                                                                 ...               \n",
              "2016-06-24 07:54:24  A Brand New 3 Bedroom 1.5 bath ApartmentEnjoy ...  ...         medium\n",
              "2016-06-12 12:19:27                                                     ...            low\n",
              "2016-04-17 03:26:41  Top Top West Village location, beautiful Pre-w...  ...           high\n",
              "2016-04-18 02:22:02  Building Amenities - Garage - Garden - fitness...  ...            low\n",
              "2016-04-28 01:32:41  Beautifully renovated 3 bedroom flex 4 bedroom...  ...            low\n",
              "\n",
              "[5 rows x 4 columns]"
            ]
          },
          "metadata": {
            "tags": []
          },
          "execution_count": 20
        }
      ]
    },
    {
      "cell_type": "markdown",
      "metadata": {
        "id": "JxF5LY-BaI1N",
        "colab_type": "text"
      },
      "source": [
        "It looks like interest_level is the only feature worth using for a simple boost to our model."
      ]
    },
    {
      "cell_type": "code",
      "metadata": {
        "id": "-KgLQ-rfaQLF",
        "colab_type": "code",
        "colab": {}
      },
      "source": [
        "#Encode interest_level to model\n",
        "interest_train = pd.get_dummies(train.interest_level)\n",
        "interest_test = pd.get_dummies(test.interest_level)"
      ],
      "execution_count": 0,
      "outputs": []
    },
    {
      "cell_type": "code",
      "metadata": {
        "id": "64dsOv6bamcP",
        "colab_type": "code",
        "colab": {
          "base_uri": "https://localhost:8080/",
          "height": 0
        },
        "outputId": "a186eb74-3512-400e-8aae-fb8a70e77410"
      },
      "source": [
        "score(interest_train, interest_test)"
      ],
      "execution_count": 22,
      "outputs": [
        {
          "output_type": "execute_result",
          "data": {
            "text/plain": [
              "1028.1011245159368"
            ]
          },
          "metadata": {
            "tags": []
          },
          "execution_count": 22
        }
      ]
    },
    {
      "cell_type": "markdown",
      "metadata": {
        "id": "EkbyY0ucbrkC",
        "colab_type": "text"
      },
      "source": [
        "Not a huge boost. Lets see what it looks like when we add it to our 4 numerical features"
      ]
    },
    {
      "cell_type": "markdown",
      "metadata": {
        "id": "925SAzgtb9nV",
        "colab_type": "text"
      },
      "source": [
        "###Combinations"
      ]
    },
    {
      "cell_type": "code",
      "metadata": {
        "id": "bKxSGGqbcAd4",
        "colab_type": "code",
        "colab": {}
      },
      "source": [
        "#Merge encoded interest_level data with top 4 numerical features\n",
        "top_4 = impact_table.index[0:5]\n",
        "\n",
        "X_train = pd.concat([train[top_4], interest_train], axis = 1)\n",
        "X_test = pd.concat([test[top_4], interest_test], axis = 1)"
      ],
      "execution_count": 0,
      "outputs": []
    },
    {
      "cell_type": "code",
      "metadata": {
        "id": "ciYpa4XDdDPv",
        "colab_type": "code",
        "colab": {
          "base_uri": "https://localhost:8080/",
          "height": 0
        },
        "outputId": "f793901a-6437-49ed-bca5-b3cc45505230"
      },
      "source": [
        "X_train.head()"
      ],
      "execution_count": 24,
      "outputs": [
        {
          "output_type": "execute_result",
          "data": {
            "text/html": [
              "<div>\n",
              "<style scoped>\n",
              "    .dataframe tbody tr th:only-of-type {\n",
              "        vertical-align: middle;\n",
              "    }\n",
              "\n",
              "    .dataframe tbody tr th {\n",
              "        vertical-align: top;\n",
              "    }\n",
              "\n",
              "    .dataframe thead th {\n",
              "        text-align: right;\n",
              "    }\n",
              "</style>\n",
              "<table border=\"1\" class=\"dataframe\">\n",
              "  <thead>\n",
              "    <tr style=\"text-align: right;\">\n",
              "      <th></th>\n",
              "      <th>bathrooms</th>\n",
              "      <th>bedrooms</th>\n",
              "      <th>longitude</th>\n",
              "      <th>doorman</th>\n",
              "      <th>fitness_center</th>\n",
              "      <th>high</th>\n",
              "      <th>low</th>\n",
              "      <th>medium</th>\n",
              "    </tr>\n",
              "    <tr>\n",
              "      <th>created</th>\n",
              "      <th></th>\n",
              "      <th></th>\n",
              "      <th></th>\n",
              "      <th></th>\n",
              "      <th></th>\n",
              "      <th></th>\n",
              "      <th></th>\n",
              "      <th></th>\n",
              "    </tr>\n",
              "  </thead>\n",
              "  <tbody>\n",
              "    <tr>\n",
              "      <th>2016-04-17 03:26:41</th>\n",
              "      <td>1.0</td>\n",
              "      <td>1</td>\n",
              "      <td>-74.0018</td>\n",
              "      <td>0</td>\n",
              "      <td>0</td>\n",
              "      <td>1</td>\n",
              "      <td>0</td>\n",
              "      <td>0</td>\n",
              "    </tr>\n",
              "    <tr>\n",
              "      <th>2016-04-18 02:22:02</th>\n",
              "      <td>1.0</td>\n",
              "      <td>1</td>\n",
              "      <td>-73.9677</td>\n",
              "      <td>0</td>\n",
              "      <td>0</td>\n",
              "      <td>0</td>\n",
              "      <td>1</td>\n",
              "      <td>0</td>\n",
              "    </tr>\n",
              "    <tr>\n",
              "      <th>2016-04-28 01:32:41</th>\n",
              "      <td>1.0</td>\n",
              "      <td>4</td>\n",
              "      <td>-73.9493</td>\n",
              "      <td>0</td>\n",
              "      <td>0</td>\n",
              "      <td>0</td>\n",
              "      <td>1</td>\n",
              "      <td>0</td>\n",
              "    </tr>\n",
              "    <tr>\n",
              "      <th>2016-04-19 04:24:47</th>\n",
              "      <td>2.0</td>\n",
              "      <td>4</td>\n",
              "      <td>-74.0028</td>\n",
              "      <td>0</td>\n",
              "      <td>0</td>\n",
              "      <td>0</td>\n",
              "      <td>0</td>\n",
              "      <td>1</td>\n",
              "    </tr>\n",
              "    <tr>\n",
              "      <th>2016-04-27 03:19:56</th>\n",
              "      <td>1.0</td>\n",
              "      <td>2</td>\n",
              "      <td>-73.9660</td>\n",
              "      <td>0</td>\n",
              "      <td>0</td>\n",
              "      <td>0</td>\n",
              "      <td>1</td>\n",
              "      <td>0</td>\n",
              "    </tr>\n",
              "  </tbody>\n",
              "</table>\n",
              "</div>"
            ],
            "text/plain": [
              "                     bathrooms  bedrooms  longitude  ...  high  low  medium\n",
              "created                                              ...                   \n",
              "2016-04-17 03:26:41        1.0         1   -74.0018  ...     1    0       0\n",
              "2016-04-18 02:22:02        1.0         1   -73.9677  ...     0    1       0\n",
              "2016-04-28 01:32:41        1.0         4   -73.9493  ...     0    1       0\n",
              "2016-04-19 04:24:47        2.0         4   -74.0028  ...     0    0       1\n",
              "2016-04-27 03:19:56        1.0         2   -73.9660  ...     0    1       0\n",
              "\n",
              "[5 rows x 8 columns]"
            ]
          },
          "metadata": {
            "tags": []
          },
          "execution_count": 24
        }
      ]
    },
    {
      "cell_type": "code",
      "metadata": {
        "id": "6TlpD5HvdGIl",
        "colab_type": "code",
        "colab": {}
      },
      "source": [
        "new_best = score(X_train,X_test)"
      ],
      "execution_count": 0,
      "outputs": []
    },
    {
      "cell_type": "markdown",
      "metadata": {
        "id": "g-j3C6a_d7aP",
        "colab_type": "text"
      },
      "source": [
        "That is a pretty significant boost! With just 5(technically 7) features, we were able to bring the MAE down to 606.17. I assume that if we used all the numerical features AND the encoded interest level, we would see another drop of about 10."
      ]
    },
    {
      "cell_type": "markdown",
      "metadata": {
        "id": "WrA87HeNsZNC",
        "colab_type": "text"
      },
      "source": [
        "## Updated Score"
      ]
    },
    {
      "cell_type": "code",
      "metadata": {
        "id": "cNSM3OgUenjO",
        "colab_type": "code",
        "colab": {
          "base_uri": "https://localhost:8080/",
          "height": 34
        },
        "outputId": "7fd460d7-531e-4961-cbc7-9453ec7406bd"
      },
      "source": [
        "print(new_best)"
      ],
      "execution_count": 26,
      "outputs": [
        {
          "output_type": "stream",
          "text": [
            "606.172802824469\n"
          ],
          "name": "stdout"
        }
      ]
    },
    {
      "cell_type": "markdown",
      "metadata": {
        "id": "-oDt07ySs_l7",
        "colab_type": "text"
      },
      "source": [
        "##All Features"
      ]
    },
    {
      "cell_type": "code",
      "metadata": {
        "id": "orULz5bytIvW",
        "colab_type": "code",
        "colab": {
          "base_uri": "https://localhost:8080/",
          "height": 34
        },
        "outputId": "9f84be57-103d-46e7-ca4d-ee48d01f7c95"
      },
      "source": [
        "#Merge all features together and test\n",
        "\n",
        "features = list(df.dtypes[df.dtypes != 'object'].index)\n",
        "features.remove('price')\n",
        "\n",
        "X_train = pd.concat([train[features], interest_train], axis = 1)\n",
        "X_test = pd.concat([test[features], interest_test], axis =1)\n",
        "\n",
        "score(X_train, X_test)"
      ],
      "execution_count": 27,
      "outputs": [
        {
          "output_type": "execute_result",
          "data": {
            "text/plain": [
              "592.271534074256"
            ]
          },
          "metadata": {
            "tags": []
          },
          "execution_count": 27
        }
      ]
    },
    {
      "cell_type": "markdown",
      "metadata": {
        "id": "C6jqkD9Du3xz",
        "colab_type": "text"
      },
      "source": [
        "With all the numerical features, and the dummy features from interest_level, we are able to bring the score down to 592. Our best yet!"
      ]
    },
    {
      "cell_type": "markdown",
      "metadata": {
        "id": "cK33ut_uvPRP",
        "colab_type": "text"
      },
      "source": [
        "##Feature Trimming\n"
      ]
    },
    {
      "cell_type": "markdown",
      "metadata": {
        "id": "ezRECBOFylQa",
        "colab_type": "text"
      },
      "source": [
        "We can start by looking at our extract disctionary from previous sections to get an idea of where to start"
      ]
    },
    {
      "cell_type": "code",
      "metadata": {
        "id": "iIiW1kqgyy5g",
        "colab_type": "code",
        "colab": {
          "base_uri": "https://localhost:8080/",
          "height": 0
        },
        "outputId": "04cfae32-70b7-4e9c-b24a-a2a165f99113"
      },
      "source": [
        "extract = pd.Series(extract).transpose().sort_values(ascending = False)\n",
        "print(extract)"
      ],
      "execution_count": 28,
      "outputs": [
        {
          "output_type": "stream",
          "text": [
            "bedrooms             826.818629\n",
            "doorman               87.257558\n",
            "longitude             72.267757\n",
            "fitness_center        32.140437\n",
            "wheelchair_access      3.255995\n",
            "latitude               3.100211\n",
            "swimming_pool          3.081132\n",
            "dining_room            1.991282\n",
            "roof_deck              1.591639\n",
            "laundry_in_unit        1.083852\n",
            "dtype: float64\n"
          ],
          "name": "stdout"
        }
      ]
    },
    {
      "cell_type": "code",
      "metadata": {
        "id": "giFXQ5pEy-Ak",
        "colab_type": "code",
        "colab": {
          "base_uri": "https://localhost:8080/",
          "height": 0
        },
        "outputId": "e1f2b166-f6e6-4f18-8f04-c2ce194823f9"
      },
      "source": [
        "#Switched to little x here because the score is low\n",
        "features = extract.index.to_list()\n",
        "\n",
        "x_train = pd.concat([train[features], interest_train], axis = 1)\n",
        "x_test = pd.concat([test[features], interest_test], axis =1)\n",
        "\n",
        "score(x_train, x_test)"
      ],
      "execution_count": 29,
      "outputs": [
        {
          "output_type": "execute_result",
          "data": {
            "text/plain": [
              "681.1410401417156"
            ]
          },
          "metadata": {
            "tags": []
          },
          "execution_count": 29
        }
      ]
    },
    {
      "cell_type": "markdown",
      "metadata": {
        "id": "khyFK15kz4Bn",
        "colab_type": "text"
      },
      "source": [
        "It looks like when we try to extract what appear to be primary features, effect isnt as impactful as one would expect. "
      ]
    },
    {
      "cell_type": "markdown",
      "metadata": {
        "id": "eWjEaryB0LGx",
        "colab_type": "text"
      },
      "source": [
        "##Feature Engineering"
      ]
    },
    {
      "cell_type": "markdown",
      "metadata": {
        "id": "1r8PQElnCr5b",
        "colab_type": "text"
      },
      "source": [
        "###Description Counts\n"
      ]
    },
    {
      "cell_type": "code",
      "metadata": {
        "id": "3bVQVJcU0Nhg",
        "colab_type": "code",
        "colab": {
          "base_uri": "https://localhost:8080/",
          "height": 136
        },
        "outputId": "c77b78a7-ce4e-438a-deb9-5de5792894bd"
      },
      "source": [
        "#Lets look at description to engineer some features\n",
        "df.description.sample(5)"
      ],
      "execution_count": 30,
      "outputs": [
        {
          "output_type": "execute_result",
          "data": {
            "text/plain": [
              "created\n",
              "2016-06-01 02:12:12    Currently being gut renovated, this apartment ...\n",
              "2016-04-08 06:00:33    Elevator, Laundry, Subway, Balcony, Dining Roo...\n",
              "2016-06-08 03:50:29    Mega home here in the East Village - only 2 fl...\n",
              "2016-06-08 06:35:46    This is a gorgeous Pre-war 2Br on Prime Upper ...\n",
              "2016-05-14 05:52:39    Spacious studio with lots of light, high ceili...\n",
              "Name: description, dtype: object"
            ]
          },
          "metadata": {
            "tags": []
          },
          "execution_count": 30
        }
      ]
    },
    {
      "cell_type": "code",
      "metadata": {
        "id": "wvWV_ElwAU0s",
        "colab_type": "code",
        "colab": {
          "base_uri": "https://localhost:8080/",
          "height": 34
        },
        "outputId": "833f9dc3-654d-40dd-9393-dd3268d27402"
      },
      "source": [
        "df.description.isna().sum()"
      ],
      "execution_count": 31,
      "outputs": [
        {
          "output_type": "execute_result",
          "data": {
            "text/plain": [
              "1421"
            ]
          },
          "metadata": {
            "tags": []
          },
          "execution_count": 31
        }
      ]
    },
    {
      "cell_type": "code",
      "metadata": {
        "id": "NgzOpjJoAU88",
        "colab_type": "code",
        "colab": {}
      },
      "source": [
        "df.description.fillna(value = ' ', inplace = True)"
      ],
      "execution_count": 0,
      "outputs": []
    },
    {
      "cell_type": "code",
      "metadata": {
        "id": "-86qKHFN0Xd3",
        "colab_type": "code",
        "colab": {
          "base_uri": "https://localhost:8080/",
          "height": 170
        },
        "outputId": "3c697bf8-da4f-4c51-d285-87882fca561d"
      },
      "source": [
        "#Lets see how many words are in each description\n",
        "df['description_count'] = df.description.str.count('\\w')\n",
        "\n",
        "df.description_count.describe()"
      ],
      "execution_count": 33,
      "outputs": [
        {
          "output_type": "execute_result",
          "data": {
            "text/plain": [
              "count    48300.000000\n",
              "mean       469.296190\n",
              "std        310.682372\n",
              "min          0.000000\n",
              "25%        263.000000\n",
              "50%        437.000000\n",
              "75%        631.000000\n",
              "max       3651.000000\n",
              "Name: description_count, dtype: float64"
            ]
          },
          "metadata": {
            "tags": []
          },
          "execution_count": 33
        }
      ]
    },
    {
      "cell_type": "code",
      "metadata": {
        "id": "DdmHt9Uz0uIc",
        "colab_type": "code",
        "colab": {}
      },
      "source": [
        "#What does this do for our model?\n",
        "\n",
        "train = df[df.index.month < 6]\n",
        "test = df[df.index.month == 6]\n",
        "\n",
        "y_train = train.pop('price')\n",
        "y_test = test.pop('price')"
      ],
      "execution_count": 0,
      "outputs": []
    },
    {
      "cell_type": "code",
      "metadata": {
        "id": "_Tv3Q35x7EWN",
        "colab_type": "code",
        "colab": {
          "base_uri": "https://localhost:8080/",
          "height": 34
        },
        "outputId": "2fadcd2e-649d-4070-8a3c-82d6b43cfda4"
      },
      "source": [
        "feature = 'description_count'\n",
        "\n",
        "model.fit(train[[feature]], y_train)\n",
        "y_pred = model.predict(test[[feature]])\n",
        "\n",
        "print(mean_absolute_error(y_test,y_pred))"
      ],
      "execution_count": 35,
      "outputs": [
        {
          "output_type": "stream",
          "text": [
            "1037.2012769558742\n"
          ],
          "name": "stdout"
        }
      ]
    },
    {
      "cell_type": "markdown",
      "metadata": {
        "id": "IdNWNQsLBDya",
        "colab_type": "text"
      },
      "source": [
        "Doesnt look all that great. Lets combine with some of our other features to see how it stands. "
      ]
    },
    {
      "cell_type": "code",
      "metadata": {
        "id": "5Dj55-E5BKb9",
        "colab_type": "code",
        "colab": {
          "base_uri": "https://localhost:8080/",
          "height": 34
        },
        "outputId": "f8091723-1927-4e65-8d78-517802acb2ec"
      },
      "source": [
        "X_train = pd.concat([X_train, train.description_count], axis = 1)\n",
        "X_test = pd.concat([X_test, test.description_count], axis = 1)\n",
        "\n",
        "score(X_train, X_test)"
      ],
      "execution_count": 36,
      "outputs": [
        {
          "output_type": "execute_result",
          "data": {
            "text/plain": [
              "592.2754297365971"
            ]
          },
          "metadata": {
            "tags": []
          },
          "execution_count": 36
        }
      ]
    },
    {
      "cell_type": "markdown",
      "metadata": {
        "id": "jdoxq5YkCnIv",
        "colab_type": "text"
      },
      "source": [
        "Looks like that was no help at all! Means that its not HOW much was said, but WHAT!"
      ]
    },
    {
      "cell_type": "markdown",
      "metadata": {
        "id": "_2QFQ_muCwo0",
        "colab_type": "text"
      },
      "source": [
        "###NLP"
      ]
    },
    {
      "cell_type": "markdown",
      "metadata": {
        "id": "rIN0aLMiHxoH",
        "colab_type": "text"
      },
      "source": [
        "Vectorize tokens of the description data\n"
      ]
    },
    {
      "cell_type": "code",
      "metadata": {
        "id": "HIl1p5xJHvl2",
        "colab_type": "code",
        "colab": {
          "base_uri": "https://localhost:8080/",
          "height": 119
        },
        "outputId": "93e6f477-5ad8-4e43-ded0-f3ef56031f5d"
      },
      "source": [
        "import nltk\n",
        "nltk.download('punkt')\n",
        "nltk.download('stopwords')\n",
        "from nltk.corpus import stopwords\n",
        "nltk.download('wordnet')\n",
        "from nltk.stem import WordNetLemmatizer"
      ],
      "execution_count": 37,
      "outputs": [
        {
          "output_type": "stream",
          "text": [
            "[nltk_data] Downloading package punkt to /root/nltk_data...\n",
            "[nltk_data]   Package punkt is already up-to-date!\n",
            "[nltk_data] Downloading package stopwords to /root/nltk_data...\n",
            "[nltk_data]   Package stopwords is already up-to-date!\n",
            "[nltk_data] Downloading package wordnet to /root/nltk_data...\n",
            "[nltk_data]   Package wordnet is already up-to-date!\n"
          ],
          "name": "stdout"
        }
      ]
    },
    {
      "cell_type": "code",
      "metadata": {
        "id": "Lr0WoN-oI3b8",
        "colab_type": "code",
        "colab": {}
      },
      "source": [
        "from sklearn.feature_extraction.text import TfidfVectorizer\n",
        "\n",
        "class LemmaTokenizer(object):\n",
        "  def __init__(self):\n",
        "    self.wnl = WordNetLemmatizer()\n",
        "  def __call__(self, description):\n",
        "    return [self.wnl.lemmatize(t) for t in nltk.word_tokenize(description)]\n",
        "\n",
        "tfidf = TfidfVectorizer(tokenizer = LemmaTokenizer(), lowercase = True)\n",
        "\n",
        "X = tfidf.fit_transform(df.description)"
      ],
      "execution_count": 0,
      "outputs": []
    },
    {
      "cell_type": "code",
      "metadata": {
        "id": "zFN0LRxOJIQf",
        "colab_type": "code",
        "colab": {}
      },
      "source": [
        "words = pd.DataFrame(data = X.toarray(), columns = tfidf.get_feature_names()).round(3)"
      ],
      "execution_count": 0,
      "outputs": []
    },
    {
      "cell_type": "code",
      "metadata": {
        "id": "f4va94LKLQeF",
        "colab_type": "code",
        "colab": {
          "base_uri": "https://localhost:8080/",
          "height": 163
        },
        "outputId": "e23869e0-89e4-4046-eb22-14e482d32563"
      },
      "source": [
        "X"
      ],
      "execution_count": 1,
      "outputs": [
        {
          "output_type": "error",
          "ename": "NameError",
          "evalue": "ignored",
          "traceback": [
            "\u001b[0;31m---------------------------------------------------------------------------\u001b[0m",
            "\u001b[0;31mNameError\u001b[0m                                 Traceback (most recent call last)",
            "\u001b[0;32m<ipython-input-1-b5fec669aca1>\u001b[0m in \u001b[0;36m<module>\u001b[0;34m()\u001b[0m\n\u001b[0;32m----> 1\u001b[0;31m \u001b[0mX\u001b[0m\u001b[0;34m\u001b[0m\u001b[0;34m\u001b[0m\u001b[0m\n\u001b[0m",
            "\u001b[0;31mNameError\u001b[0m: name 'X' is not defined"
          ]
        }
      ]
    },
    {
      "cell_type": "code",
      "metadata": {
        "id": "K2PvxXU6MZmH",
        "colab_type": "code",
        "colab": {}
      },
      "source": [
        ""
      ],
      "execution_count": 0,
      "outputs": []
    }
  ]
}